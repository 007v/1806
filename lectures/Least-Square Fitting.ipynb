{
 "cells": [
  {
   "cell_type": "code",
   "execution_count": 1,
   "metadata": {
    "collapsed": false
   },
   "outputs": [
    {
     "data": {
      "text/html": [
       "<div id=\"interact-js-shim\">\n",
       "    <script charset=\"utf-8\">\n",
       "(function (IPython, $, _, MathJax) {\n",
       "    $.event.special.destroyed = {\n",
       "\tremove: function(o) {\n",
       "\t    if (o.handler) {\n",
       "\t\to.handler.apply(this, arguments)\n",
       "\t    }\n",
       "\t}\n",
       "    }\n",
       "\n",
       "    var OutputArea = IPython.version >= \"4.0.0\" ? require(\"notebook/js/outputarea\").OutputArea : IPython.OutputArea;\n",
       "\n",
       "    var redrawValue = function (container, type, val) {\n",
       "\tvar selector = $(\"<div/>\");\n",
       "\tvar oa = new OutputArea(_.extend(selector, {\n",
       "\t    selector: selector,\n",
       "\t    prompt_area: true,\n",
       "\t    events: IPython.events,\n",
       "\t    keyboard_manager: IPython.keyboard_manager\n",
       "\t})); // Hack to work with IPython 2.1.0\n",
       "\n",
       "\tswitch (type) {\n",
       "\tcase \"image/png\":\n",
       "            var _src = 'data:' + type + ';base64,' + val;\n",
       "\t    $(container).find(\"img\").attr('src', _src);\n",
       "\t    break;\n",
       "\tcase \"text/latex\":\n",
       "\t\tif (MathJax){\n",
       "\t\t\tvar math = MathJax.Hub.getAllJax(container)[0];\n",
       "\t\t\tMathJax.Hub.Queue([\"Text\", math, val.replace(/^\\${1,2}|\\${1,2}$/g, '')]);\n",
       "\t\t\tbreak;\n",
       "\t\t}\n",
       "\tdefault:\n",
       "\t    var toinsert = OutputArea.append_map[type].apply(\n",
       "\t\toa, [val, {}, selector]\n",
       "\t    );\n",
       "\t    $(container).empty().append(toinsert.contents());\n",
       "\t    selector.remove();\n",
       "\t}\n",
       "    }\n",
       "\n",
       "\n",
       "    $(document).ready(function() {\n",
       "\tfunction initComm(evt, data) {\n",
       "\t    var comm_manager = data.kernel.comm_manager;\n",
       "        //_.extend(comm_manager.targets, require(\"widgets/js/widget\"))\n",
       "\t    comm_manager.register_target(\"Signal\", function (comm) {\n",
       "            comm.on_msg(function (msg) {\n",
       "                var val = msg.content.data.value;\n",
       "                $(\".signal-\" + comm.comm_id).each(function() {\n",
       "                var type = $(this).data(\"type\");\n",
       "                if (typeof(val[type]) !== \"undefined\" && val[type] !== null) {\n",
       "                    redrawValue(this, type, val[type], type);\n",
       "                }\n",
       "                });\n",
       "                delete val;\n",
       "                delete msg.content.data.value;\n",
       "            });\n",
       "\t    });\n",
       "\n",
       "\t    // coordingate with Comm and redraw Signals\n",
       "\t    // XXX: Test using Reactive here to improve performance\n",
       "\t    $([IPython.events]).on(\n",
       "\t\t'output_appended.OutputArea', function (event, type, value, md, toinsert) {\n",
       "\t\t    if (md && md.reactive) {\n",
       "                // console.log(md.comm_id);\n",
       "                toinsert.addClass(\"signal-\" + md.comm_id);\n",
       "                toinsert.data(\"type\", type);\n",
       "                // Signal back indicating the mimetype required\n",
       "                var comm_manager = IPython.notebook.kernel.comm_manager;\n",
       "                var comm = comm_manager.comms[md.comm_id];\n",
       "                comm.then(function (c) {\n",
       "                    c.send({action: \"subscribe_mime\",\n",
       "                       mime: type});\n",
       "                    toinsert.bind(\"destroyed\", function() {\n",
       "                        c.send({action: \"unsubscribe_mime\",\n",
       "                               mime: type});\n",
       "                    });\n",
       "                })\n",
       "\t\t    }\n",
       "\t    });\n",
       "\t}\n",
       "\n",
       "\ttry {\n",
       "\t    // try to initialize right away. otherwise, wait on the status_started event.\n",
       "\t    initComm(undefined, IPython.notebook);\n",
       "\t} catch (e) {\n",
       "\t    $([IPython.events]).on('kernel_created.Kernel kernel_created.Session', initComm);\n",
       "\t}\n",
       "    });\n",
       "})(IPython, jQuery, _, MathJax);\n",
       "</script>\n",
       "    <script>\n",
       "        window.interactLoadedFlag = true\n",
       "       $(\"#interact-js-shim\").bind(\"destroyed\", function () {\n",
       "           if (window.interactLoadedFlag) {\n",
       "               console.warn(\"JavaScript required by Interact will be removed if you remove this cell or run using Interact more than once.\")\n",
       "           }\n",
       "       })\n",
       "       $([IPython.events]).on(\"kernel_starting.Kernel kernel_restarting.Kernel\", function () { window.interactLoadedFlag = false })\n",
       "   </script>\n",
       "</div>"
      ]
     },
     "metadata": {},
     "output_type": "display_data"
    }
   ],
   "source": [
    "using PyPlot, Interact"
   ]
  },
  {
   "cell_type": "markdown",
   "metadata": {},
   "source": [
    "# Fitting a nonlinear-resistance model\n",
    "\n",
    "In the previous lecture, we solved a circuit problem where the resistance $R$ ($=1/Y$ where $Y$ is admittance) was nonlinear in the voltage difference $d$:\n",
    "\n",
    "$$\n",
    "R = x_1 + x_2 d^2 .\n",
    "$$\n",
    "\n",
    "One would normally get these coefficients $x_1$ and $x_2$ by experimental measurements.  Such \"fitting\" processes lead directly into the next major topic in 18.06:\n",
    "\n",
    "## Exact fits\n",
    "\n",
    "Suppose we put two voltage differences $d_1$ and $d_2$ across our resistor, and measure two resistances $R_1$ and $R_2$.  This leads to the following $2 \\times 2$ system of equations for the unknown coefficients $x_1$ and $x_2$:\n",
    "\n",
    "$$\n",
    "\\begin{pmatrix} x_1 + x_2 d_1^2 \\\\ x_1 + x_2 d_2^2 \\end{pmatrix} =\n",
    "\\underbrace{\\begin{pmatrix} 1 & d_1^2 \\\\ 1 & d_2^2 \\end{pmatrix}}_A\n",
    "\\underbrace{\\begin{pmatrix} x_1 \\\\ x_2 \\end{pmatrix}}_x =\n",
    "\\underbrace{\\begin{pmatrix} R_1 \\\\ R_2 \\end{pmatrix}}_b \\; ,\n",
    "$$\n",
    "\n",
    "i.e. a system $Ax = b$.   As long as $|d_1| \\ne |d_2|$, the matrix $A$ is non-singular, and this has a unique solution: an **interpolating polynomial** going through the two data points:"
   ]
  },
  {
   "cell_type": "code",
   "execution_count": 2,
   "metadata": {
    "collapsed": false
   },
   "outputs": [
    {
     "data": {
      "text/html": [],
      "text/plain": [
       "Interact.Options{:SelectionSlider,Float64}(Signal{Float64}(0.5, nactions=1),\"d₁\",0.5,\"0.5\",Interact.OptionDict(DataStructures.OrderedDict(\"0.0\"=>0.0,\"0.1\"=>0.1,\"0.2\"=>0.2,\"0.3\"=>0.3,\"0.4\"=>0.4,\"0.5\"=>0.5,\"0.6\"=>0.6,\"0.7\"=>0.7,\"0.8\"=>0.8,\"0.9\"=>0.9…),Dict(0.6=>\"0.6\",0.3=>\"0.3\",0.7=>\"0.7\",0.0=>\"0.0\",0.2=>\"0.2\",0.9=>\"0.9\",0.8=>\"0.8\",0.5=>\"0.5\",0.1=>\"0.1\",0.4=>\"0.4\"…)),Any[],Any[],true,\"horizontal\")"
      ]
     },
     "metadata": {},
     "output_type": "display_data"
    },
    {
     "data": {
      "text/html": [],
      "text/plain": [
       "Interact.Options{:SelectionSlider,Float64}(Signal{Float64}(1.5, nactions=1),\"d₂\",1.5,\"1.5\",Interact.OptionDict(DataStructures.OrderedDict(\"1.1\"=>1.1,\"1.2\"=>1.2,\"1.3\"=>1.3,\"1.4\"=>1.4,\"1.5\"=>1.5,\"1.6\"=>1.6,\"1.7\"=>1.7,\"1.8\"=>1.8,\"1.9\"=>1.9,\"2.0\"=>2.0…),Dict(1.2=>\"1.2\",1.1=>\"1.1\",2.0=>\"2.0\",1.3=>\"1.3\",1.5=>\"1.5\",1.6=>\"1.6\",1.8=>\"1.8\",1.9=>\"1.9\",1.7=>\"1.7\",1.4=>\"1.4\"…)),Any[],Any[],true,\"horizontal\")"
      ]
     },
     "metadata": {},
     "output_type": "display_data"
    },
    {
     "data": {
      "text/html": [],
      "text/plain": [
       "Interact.Options{:SelectionSlider,Float64}(Signal{Float64}(1.5, nactions=1),\"R₁\",1.5,\"1.5\",Interact.OptionDict(DataStructures.OrderedDict(\"1.0\"=>1.0,\"1.1\"=>1.1,\"1.2\"=>1.2,\"1.3\"=>1.3,\"1.4\"=>1.4,\"1.5\"=>1.5,\"1.6\"=>1.6,\"1.7\"=>1.7,\"1.8\"=>1.8,\"1.9\"=>1.9…),Dict(1.2=>\"1.2\",2.0=>\"2.0\",1.5=>\"1.5\",1.4=>\"1.4\",1.6=>\"1.6\",1.9=>\"1.9\",1.1=>\"1.1\",1.3=>\"1.3\",1.8=>\"1.8\",1.7=>\"1.7\"…)),Any[],Any[],true,\"horizontal\")"
      ]
     },
     "metadata": {},
     "output_type": "display_data"
    },
    {
     "data": {
      "text/html": [],
      "text/plain": [
       "Interact.Options{:SelectionSlider,Float64}(Signal{Float64}(1.5, nactions=1),\"R₂\",1.5,\"1.5\",Interact.OptionDict(DataStructures.OrderedDict(\"1.0\"=>1.0,\"1.1\"=>1.1,\"1.2\"=>1.2,\"1.3\"=>1.3,\"1.4\"=>1.4,\"1.5\"=>1.5,\"1.6\"=>1.6,\"1.7\"=>1.7,\"1.8\"=>1.8,\"1.9\"=>1.9…),Dict(1.2=>\"1.2\",2.0=>\"2.0\",1.5=>\"1.5\",1.4=>\"1.4\",1.6=>\"1.6\",1.9=>\"1.9\",1.1=>\"1.1\",1.3=>\"1.3\",1.8=>\"1.8\",1.7=>\"1.7\"…)),Any[],Any[],true,\"horizontal\")"
      ]
     },
     "metadata": {},
     "output_type": "display_data"
    },
    {
     "data": {
      "image/png": "[encoded data removed]",
      "text/plain": [
       "PyPlot.Figure(PyObject <matplotlib.figure.Figure object at 0x32b8fc050>)"
      ]
     },
     "execution_count": 2,
     "metadata": {
      "comm_id": "947a29ba-459d-4828-96b5-5465f1a5c9a8",
      "reactive": true
     },
     "output_type": "execute_result"
    }
   ],
   "source": [
    "fig = figure()\n",
    "d = linspace(0,3,100)\n",
    "@manipulate for d₁=0:0.1:1, d₂=1.1:0.1:2, R₁=1:0.1:2, R₂=1:0.1:2\n",
    "    withfig(fig) do\n",
    "        x = [1 d₁^2; 1 d₂^2] \\ [R₁, R₂]\n",
    "        plot([d₁, d₂], [R₁, R₂], \"ro\")\n",
    "        plot(d, x[1] + x[2]*d.^2, \"k-\")\n",
    "        xlim(0,3)\n",
    "        ylim(0,3)\n",
    "        title(\"fit \\$x\\$ = $x\")\n",
    "        xlabel(L\"d\")\n",
    "        ylabel(L\"R\")\n",
    "    end\n",
    "end"
   ]
  },
  {
   "cell_type": "markdown",
   "metadata": {},
   "source": [
    "In general, if you have $m$ points you can interpolate them in this way by a degree $m-1$ polynomial (called the [Lagrange interpolating polynomial](https://en.wikipedia.org/wiki/Lagrange_polynomial)) in this way: you set up an $m \\times m$ matrix system for the coefficients.\n",
    "\n",
    "Note, however, that this is neither the most efficient nor the most accurate (given roundoff errors) method to compute an exact interpolating polynomial.  There is a much better method called [barycentric interpolation](https://people.maths.ox.ac.uk/trefethen/barycentric.pdf) that is outside the scope of 18.06."
   ]
  },
  {
   "cell_type": "markdown",
   "metadata": {},
   "source": [
    "## Inexact fits\n",
    "\n",
    "Suppose we do more than just the bare minimum number of measurements, however.  Suppose that we do $m > 2$ measurements.  This gives the following system of equations:\n",
    "\n",
    "\n",
    "\n",
    "$$\n",
    "\\underbrace{\\begin{pmatrix} 1 & d_1^2 \\\\ 1 & d_2^2 \\\\\n",
    "                           \\vdots & \\vdots  \\\\ 1 & d_m^2 \\end{pmatrix}}_A\n",
    "\\underbrace{\\begin{pmatrix} x_1 \\\\ x_2 \\end{pmatrix}}_x =\n",
    "\\underbrace{\\begin{pmatrix} R_1 \\\\ R_2 \\\\ \\vdots \\\\ R_m \\end{pmatrix}}_b \\; ,\n",
    "$$\n",
    "\n",
    "Now, $A$ is $m \\times 2$, and full column rank (assuming distinct voltages $|d_k|$), but of course it is not invertible for $m > 2$.\n",
    "\n",
    "It will still have a solution (a unique solution!) if all of the $R_k$ measurements fall *exactly* on a quadratic curve $x_1 + x_2 d^2$, but in a real experiment there would be some *measurement noise* that would spoil this.\n",
    "\n",
    "For example, let's suppose $x = (1,2)$ and we do $m=200$ measurements for $d \\in [0,2]$, but that each measurement has a random uncertainty $\\approx R \\pm 0.1$."
   ]
  },
  {
   "cell_type": "code",
   "execution_count": 3,
   "metadata": {
    "collapsed": false
   },
   "outputs": [
    {
     "data": {
      "image/png": "[encoded data removed]",
      "text/plain": [
       "PyPlot.Figure(PyObject <matplotlib.figure.Figure object at 0x32ba7c890>)"
      ]
     },
     "metadata": {},
     "output_type": "display_data"
    },
    {
     "data": {
      "text/plain": [
       "PyObject <matplotlib.text.Text object at 0x32bb62e50>"
      ]
     },
     "execution_count": 3,
     "metadata": {},
     "output_type": "execute_result"
    }
   ],
   "source": [
    "d = linspace(0,2,200) # 20 points from 1 to 4\n",
    "b = 1 + 2*d.^2 + randn(200)*0.1 # measurements with Gaussian random noise\n",
    "plot(d, b, \"r.\")\n",
    "xlabel(L\"d\")\n",
    "ylabel(L\"R\")\n",
    "title(\"noisy \\\"measurements\\\" of \\$R = 1 + d^2\\$\")"
   ]
  },
  {
   "cell_type": "markdown",
   "metadata": {},
   "source": [
    "The corresponding matrix $A$ is:"
   ]
  },
  {
   "cell_type": "code",
   "execution_count": 4,
   "metadata": {
    "collapsed": false
   },
   "outputs": [
    {
     "data": {
      "text/plain": [
       "2"
      ]
     },
     "execution_count": 4,
     "metadata": {},
     "output_type": "execute_result"
    }
   ],
   "source": [
    "A = [ones(d) d.^2]\n",
    "rank(A)"
   ]
  },
  {
   "cell_type": "markdown",
   "metadata": {},
   "source": [
    "$A$ doesn't have an inverse, of course:"
   ]
  },
  {
   "cell_type": "code",
   "execution_count": 5,
   "metadata": {
    "collapsed": false
   },
   "outputs": [
    {
     "ename": "LoadError",
     "evalue": "DimensionMismatch(\"matrix is not square\")",
     "output_type": "error",
     "traceback": [
      "DimensionMismatch(\"matrix is not square\")",
      "",
      " in checksquare(::Array{Float64,2}) at ./linalg/linalg.jl:196",
      " in Type at ./linalg/triangular.jl:16 [inlined]",
      " in inv(::Array{Float64,2}) at ./linalg/dense.jl:362"
     ]
    }
   ],
   "source": [
    "inv(A)"
   ]
  },
  {
   "cell_type": "markdown",
   "metadata": {},
   "source": [
    "However, if we blindly do `A \\ b`, it seems to give us quite a reasonable $x$, very close to the exact $x = (1,2)$ of the underlying data:"
   ]
  },
  {
   "cell_type": "code",
   "execution_count": 6,
   "metadata": {
    "collapsed": false
   },
   "outputs": [
    {
     "data": {
      "text/plain": [
       "2-element Array{Float64,1}:\n",
       " 1.02278\n",
       " 1.99   "
      ]
     },
     "execution_count": 6,
     "metadata": {},
     "output_type": "execute_result"
    }
   ],
   "source": [
    "x̂ = A \\ b"
   ]
  },
  {
   "cell_type": "markdown",
   "metadata": {},
   "source": [
    "What is it doing?  Let's plot the curve from the coefficients `A \\ b`:"
   ]
  },
  {
   "cell_type": "code",
   "execution_count": 7,
   "metadata": {
    "collapsed": false
   },
   "outputs": [
    {
     "data": {
      "image/png": "[encoded data removed]",
      "text/plain": [
       "PyPlot.Figure(PyObject <matplotlib.figure.Figure object at 0x32b6cf290>)"
      ]
     },
     "metadata": {},
     "output_type": "display_data"
    },
    {
     "data": {
      "text/plain": [
       "PyObject <matplotlib.text.Text object at 0x32f00f210>"
      ]
     },
     "execution_count": 7,
     "metadata": {},
     "output_type": "execute_result"
    }
   ],
   "source": [
    "d = linspace(0,2,200) # 20 points from 1 to 4\n",
    "b = 1 + 2*d.^2 + randn(200)*0.1 # measurements with Gaussian random noise\n",
    "plot(d, b, \"r.\")\n",
    "plot(d, x̂[1] + x̂[2] * d.^2, \"k-\")\n",
    "xlabel(L\"d\")\n",
    "ylabel(L\"R\")\n",
    "title(\"Fit A\\\\b to noisy \\\"measurements\\\" of \\$R = 1 + d^2\\$\")"
   ]
  },
  {
   "cell_type": "code",
   "execution_count": 8,
   "metadata": {
    "collapsed": false
   },
   "outputs": [
    {
     "data": {
      "text/plain": [
       "1.376221302216463"
      ]
     },
     "execution_count": 8,
     "metadata": {},
     "output_type": "execute_result"
    }
   ],
   "source": [
    "norm(b - A*x̂)  # the length of the \"residual\" b - Ax̂ is not zero!"
   ]
  },
  {
   "cell_type": "markdown",
   "metadata": {},
   "source": [
    "This $\\hat{x}$ is *not* an exact solution: $A\\hat{x} \\ne b$: the \"residual\" (the \"error\") $b - A\\hat{x}$ is not zero, as we can see by checking its norm $\\Vert b - A\\hat{x}\\Vert$ above.\n",
    "\n",
    "In the plot above, correspondingly, the black \"fit\" curve does *not* exactly match the data points.  But it is pretty close!"
   ]
  },
  {
   "cell_type": "markdown",
   "metadata": {},
   "source": [
    "# Least-square fits\n",
    "\n",
    "What `A \\ b` is doing in Julia, for a non-square \"tall\" matrix $A$ as above, is computing a **least-square fit** that **minimizes the sum of the square of the errors**.   This is an extremely important thing to do in many areas of linear algebra, statistics, engineering, science, finance, etcetera.\n",
    "\n",
    "Above, we have a bunch of measurements $(d_k, R_k)$, and we are trying to *fit* it to a function $R(x,d) = x_1 + x_2 d^2$.   There is no exact fit, so instead we minimize the sum of the squares of the errors:\n",
    "\n",
    "$$\n",
    "\\min_{x \\in \\mathbb{R}^2} \\sum_{k=1}^m (R_k - R(x, d_k))^2 \\;.\n",
    "$$\n",
    "\n",
    "Let's write this in terms of linear-algebra operations.  We have our $m \\times 2$ matrix $A$ above, and in terms of this we have $R(x, d_k) = (Ax)_k$: the \"fit\" function at $d_k$ is the $k$-th row of $Ax$.  But then $R_k - R(x,d_k)$ is the $k$-th row of the **residual vector**\n",
    "\n",
    "$$\n",
    "\\mbox{residual} = b - Ax\n",
    "$$\n",
    "\n",
    "and we can see that our sum above is precisely the **sum of the squares of the residual components**, which is the **square of the length of the residual**:\n",
    "\n",
    "$$\n",
    "\\sum_{k=1}^m (R_k - R(x, d_k))^2 = \\Vert b - Ax \\Vert^2 \\; .\n",
    "$$\n",
    "\n",
    "Here, $\\Vert y \\Vert = \\sqrt{y^T y}$ is the *length* of a vector, also called the **norm of the vector**: the square root of the dot product with itself.  (More specifically, this is the [Euclidean norm](https://en.wikipedia.org/wiki/Euclidean_distance), also called the $L^2$ norm.  There are other ways to define a vector norm, but I think this is the only one we will use in 18.06.)\n",
    "\n",
    "So, what we are *really* doing is **minimizing the norm of the residual**:\n",
    "\n",
    "$$\n",
    "\\boxed{\n",
    "\\min_{x \\in \\mathbb{R}^2} \\Vert b - Ax \\Vert\n",
    "}\n",
    "$$\n",
    "\n",
    "(Note that minimizing the norm and minimizing the squared norm will give the same solution $x$; which one we write is a matter of convenience.)\n",
    "\n",
    "This is exactly what `A \\ x` does in Julia (and Matlab) for a non-square matrix $A$, which is why it gives us a good fit above."
   ]
  },
  {
   "cell_type": "markdown",
   "metadata": {},
   "source": [
    "## Least-squares fits and the normal equations\n",
    "\n",
    "As derived in section 4.3 of the Strang textbook, minimizing $\\Vert b - Ax\\Vert$ or (equivalently) $\\Vert b - Ax\\Vert^2$ leads to the so-called **\"normal equations\"** for the minimizer $\\hat{x}$:\n",
    "\n",
    "$$\n",
    "\\boxed{ A^T A \\hat{x} = A^T b }\n",
    "$$\n",
    "\n",
    "These *always* have a solution.  If $A$ is an $m \\times n$ matrix, then $A^T A$ is $n \\times n$, and:\n",
    "\n",
    "* Usually in fitting problems, $A$ is a \"tall\" matrix with full column rank $n$, in which case $\\operatorname{rank}(A^T A) = \\operatorname{rank}(A) = n$ and $A^T A$ is *invertible*: the solution $\\hat{x}$ exists and is unique.\n",
    "\n",
    "* Even if $\\operatorname{rank}(A) < n$, we still have a (non-unique) solution, because $A^T b \\in C(A^T) = N(A)^\\perp = N(A^T A)^\\perp = C(A^T A)$.\n",
    "\n",
    "Now (on the blackboard), I will show that we can derive the normal equations directly by 18.02.  If we just take the partial derivatives of $f(x) = \\Vert b - Ax \\Vert^2$ and set them to zero, we find that $0 = \\nabla_x f = 2A^T Ax - 2A^T b$ and the normal equations follow."
   ]
  }
 ],
 "metadata": {
  "kernelspec": {
   "display_name": "Julia 0.5.0",
   "language": "julia",
   "name": "julia-0.5"
  },
  "language_info": {
   "file_extension": ".jl",
   "mimetype": "application/julia",
   "name": "julia",
   "version": "0.5.0"
  },
  "widgets": {
   "state": {
    "121ad643-15e8-45ca-988d-69673c28a2ac": {
     "views": [
      {
       "cell_index": 2
      }
     ]
    },
    "142ce802-4a02-4c94-bd2b-8d5e7b4f60d6": {
     "views": [
      {
       "cell_index": 2
      }
     ]
    },
    "38d040e3-61a4-478b-95dc-72dff3d141a5": {
     "views": [
      {
       "cell_index": 2
      }
     ]
    },
    "541722a5-d9c6-4efb-8246-32d4411643a5": {
     "views": [
      {
       "cell_index": 2
      }
     ]
    },
    "740942a2-678e-4c77-ab02-f79c24c318ac": {
     "views": [
      {
       "cell_index": 2
      }
     ]
    },
    "91d80bf6-4c3c-452a-8884-a893744de2b2": {
     "views": [
      {
       "cell_index": 2
      }
     ]
    },
    "9fe4ca59-d36c-4424-80cc-ca0607f4dc14": {
     "views": [
      {
       "cell_index": 2
      }
     ]
    },
    "a46a3a44-9a48-4b2e-b3f6-0261bf0c40bd": {
     "views": [
      {
       "cell_index": 2
      }
     ]
    },
    "be8f3788-c3ee-4799-b5de-6699cebbf7d5": {
     "views": [
      {
       "cell_index": 2
      }
     ]
    },
    "c721e642-c09d-4524-9328-b541577415de": {
     "views": [
      {
       "cell_index": 2
      }
     ]
    },
    "dc3d518c-1f8f-4611-b8ed-572538a2f816": {
     "views": [
      {
       "cell_index": 2
      }
     ]
    },
    "e5c955f1-bf42-42b1-ad88-102598d8a2be": {
     "views": [
      {
       "cell_index": 2
      }
     ]
    }
   },
   "version": "1.2.0"
  }
 },
 "nbformat": 4,
 "nbformat_minor": 2
}
