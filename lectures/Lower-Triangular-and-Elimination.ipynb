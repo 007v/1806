{
 "cells": [
  {
   "cell_type": "code",
   "execution_count": null,
   "metadata": {},
   "outputs": [],
   "source": [
    "using SymPy"
   ]
  },
  {
   "cell_type": "code",
   "execution_count": 32,
   "metadata": {},
   "outputs": [
    {
     "data": {
      "text/plain": [
       "E (generic function with 2 methods)"
      ]
     },
     "execution_count": 32,
     "metadata": {},
     "output_type": "execute_result"
    }
   ],
   "source": [
    "# Create an n x n (default 3), i,j elimination matrix\n",
    "function E(i,j,n=3)\n",
    "    E = sympy\"eye\"(n)           # start with the identity\n",
    "    E[i,j] = - symbols(\"m$i$j\")  # insert the negative multiplier\n",
    "    E\n",
    "end"
   ]
  },
  {
   "cell_type": "code",
   "execution_count": 38,
   "metadata": {},
   "outputs": [
    {
     "data": {
      "text/latex": [
       "\\begin{bmatrix}A_{11}&A_{12}&A_{13}\\\\A_{21}&A_{22}&A_{23}\\\\A_{31}&A_{32}&A_{33}\\end{bmatrix}"
      ],
      "text/plain": [
       "3×3 Array{SymPy.Sym,2}:\n",
       " A11  A12  A13\n",
       " A21  A22  A23\n",
       " A31  A32  A33"
      ]
     },
     "execution_count": 38,
     "metadata": {},
     "output_type": "execute_result"
    }
   ],
   "source": [
    "# Create a symbolic 3x3 A matrix\n",
    "  A = [symbols(\"A$i$j\") for i=1:3, j=1:3]"
   ]
  },
  {
   "cell_type": "code",
   "execution_count": 33,
   "metadata": {},
   "outputs": [
    {
     "data": {
      "text/latex": [
       "\\begin{bmatrix}1&0&0\\\\- m_{21}&1&0\\\\0&0&1\\end{bmatrix}"
      ],
      "text/plain": [
       "3×3 Array{SymPy.Sym,2}:\n",
       "    1  0  0\n",
       " -m21  1  0\n",
       "    0  0  1"
      ]
     },
     "execution_count": 33,
     "metadata": {},
     "output_type": "execute_result"
    }
   ],
   "source": [
    "E(2,1) "
   ]
  },
  {
   "cell_type": "code",
   "execution_count": 47,
   "metadata": {},
   "outputs": [
    {
     "data": {
      "text/latex": [
       "\\begin{bmatrix}1&0&0\\\\m_{21}&1&0\\\\0&0&1\\end{bmatrix}"
      ],
      "text/plain": [
       "3×3 Array{SymPy.Sym,2}:\n",
       "   1  0  0\n",
       " m21  1  0\n",
       "   0  0  1"
      ]
     },
     "execution_count": 47,
     "metadata": {},
     "output_type": "execute_result"
    }
   ],
   "source": [
    "inv(E(2,1))"
   ]
  },
  {
   "cell_type": "markdown",
   "metadata": {},
   "source": [
    "subtract m21 times the first row from the second row"
   ]
  },
  {
   "cell_type": "code",
   "execution_count": 39,
   "metadata": {},
   "outputs": [
    {
     "data": {
      "text/latex": [
       "\\begin{bmatrix}A_{11}&A_{12}&A_{13}\\\\- A_{11} m_{21} + A_{21}&- A_{12} m_{21} + A_{22}&- A_{13} m_{21} + A_{23}\\\\A_{31}&A_{32}&A_{33}\\end{bmatrix}"
      ],
      "text/plain": [
       "3×3 Array{SymPy.Sym,2}:\n",
       "            A11             A12             A13\n",
       " -A11*m21 + A21  -A12*m21 + A22  -A13*m21 + A23\n",
       "            A31             A32             A33"
      ]
     },
     "execution_count": 39,
     "metadata": {},
     "output_type": "execute_result"
    }
   ],
   "source": [
    "E(2,1) * A   "
   ]
  },
  {
   "cell_type": "markdown",
   "metadata": {},
   "source": [
    "do the row operation twice"
   ]
  },
  {
   "cell_type": "code",
   "execution_count": 55,
   "metadata": {},
   "outputs": [
    {
     "data": {
      "text/latex": [
       "\\begin{bmatrix}A_{11}&A_{12}&A_{13}\\\\- 2 A_{11} m_{21} + A_{21}&- 2 A_{12} m_{21} + A_{22}&- 2 A_{13} m_{21} + A_{23}\\\\A_{31}&A_{32}&A_{33}\\end{bmatrix}"
      ],
      "text/plain": [
       "3×3 Array{SymPy.Sym,2}:\n",
       "              A11               A12               A13\n",
       " -2*A11*m21 + A21  -2*A12*m21 + A22  -2*A13*m21 + A23\n",
       "              A31               A32               A33"
      ]
     },
     "execution_count": 55,
     "metadata": {},
     "output_type": "execute_result"
    }
   ],
   "source": [
    "E(2,1)^2 * A  "
   ]
  },
  {
   "cell_type": "markdown",
   "metadata": {},
   "source": [
    " subtract m32 times the second row from the third row"
   ]
  },
  {
   "cell_type": "code",
   "execution_count": 40,
   "metadata": {},
   "outputs": [
    {
     "data": {
      "text/latex": [
       "\\begin{bmatrix}A_{11}&A_{12}&A_{13}\\\\A_{21}&A_{22}&A_{23}\\\\- A_{21} m_{32} + A_{31}&- A_{22} m_{32} + A_{32}&- A_{23} m_{32} + A_{33}\\end{bmatrix}"
      ],
      "text/plain": [
       "3×3 Array{SymPy.Sym,2}:\n",
       "            A11             A12             A13\n",
       "            A21             A22             A23\n",
       " -A21*m32 + A31  -A22*m32 + A32  -A23*m32 + A33"
      ]
     },
     "execution_count": 40,
     "metadata": {},
     "output_type": "execute_result"
    }
   ],
   "source": [
    "E(3,2) * A"
   ]
  },
  {
   "cell_type": "markdown",
   "metadata": {},
   "source": [
    "Note that after computing E(3,2) * A, the first row is untouched so we can apply E(2,1) without any interference from row 2"
   ]
  },
  {
   "cell_type": "code",
   "execution_count": 42,
   "metadata": {},
   "outputs": [
    {
     "data": {
      "text/latex": [
       "\\begin{bmatrix}A_{11}&A_{12}&A_{13}\\\\- A_{11} m_{21} + A_{21}&- A_{12} m_{21} + A_{22}&- A_{13} m_{21} + A_{23}\\\\- A_{21} m_{32} + A_{31}&- A_{22} m_{32} + A_{32}&- A_{23} m_{32} + A_{33}\\end{bmatrix}"
      ],
      "text/plain": [
       "3×3 Array{SymPy.Sym,2}:\n",
       "            A11             A12             A13\n",
       " -A11*m21 + A21  -A12*m21 + A22  -A13*m21 + A23\n",
       " -A21*m32 + A31  -A22*m32 + A32  -A23*m32 + A33"
      ]
     },
     "execution_count": 42,
     "metadata": {},
     "output_type": "execute_result"
    }
   ],
   "source": [
    "E(2,1) * E(3,2)  * A"
   ]
  },
  {
   "cell_type": "markdown",
   "metadata": {},
   "source": [
    "However, in the below, row 2 has changed"
   ]
  },
  {
   "cell_type": "code",
   "execution_count": 44,
   "metadata": {},
   "outputs": [
    {
     "data": {
      "text/latex": [
       "\\begin{bmatrix}A_{11}&A_{12}&A_{13}\\\\- A_{11} m_{21} + A_{21}&- A_{12} m_{21} + A_{22}&- A_{13} m_{21} + A_{23}\\\\A_{31}&A_{32}&A_{33}\\end{bmatrix}"
      ],
      "text/plain": [
       "3×3 Array{SymPy.Sym,2}:\n",
       "            A11             A12             A13\n",
       " -A11*m21 + A21  -A12*m21 + A22  -A13*m21 + A23\n",
       "            A31             A32             A33"
      ]
     },
     "execution_count": 44,
     "metadata": {},
     "output_type": "execute_result"
    }
   ],
   "source": [
    "E(2,1) * A"
   ]
  },
  {
   "cell_type": "markdown",
   "metadata": {},
   "source": [
    "so if apply E(3,2) <br>\n",
    "(meaning:  subtract m32 times the second row from the third row) <br>\n",
    "it will happen with the UPDATED row 2"
   ]
  },
  {
   "cell_type": "code",
   "execution_count": 45,
   "metadata": {},
   "outputs": [
    {
     "data": {
      "text/latex": [
       "\\begin{bmatrix}A_{11}&A_{12}&A_{13}\\\\- A_{11} m_{21} + A_{21}&- A_{12} m_{21} + A_{22}&- A_{13} m_{21} + A_{23}\\\\A_{11} m_{21} m_{32} - A_{21} m_{32} + A_{31}&A_{12} m_{21} m_{32} - A_{22} m_{32} + A_{32}&A_{13} m_{21} m_{32} - A_{23} m_{32} + A_{33}\\end{bmatrix}"
      ],
      "text/plain": [
       "3×3 Array{SymPy.Sym,2}:\n",
       "                         A11  …                          A13\n",
       "              -A11*m21 + A21                  -A13*m21 + A23\n",
       " A11*m21*m32 - A21*m32 + A31     A13*m21*m32 - A23*m32 + A33"
      ]
     },
     "execution_count": 45,
     "metadata": {},
     "output_type": "execute_result"
    }
   ],
   "source": [
    "E(3,2) * E(2,1) * A"
   ]
  },
  {
   "cell_type": "markdown",
   "metadata": {},
   "source": [
    "The row interpretation of matrix muliply correctly acounts for m32 times the second row and m21 x m32 times the first row -- the combined effect"
   ]
  },
  {
   "cell_type": "code",
   "execution_count": 46,
   "metadata": {},
   "outputs": [
    {
     "data": {
      "text/latex": [
       "\\begin{bmatrix}1&0&0\\\\- m_{21}&1&0\\\\m_{21} m_{32}&- m_{32}&1\\end{bmatrix}"
      ],
      "text/plain": [
       "3×3 Array{SymPy.Sym,2}:\n",
       "       1     0  0\n",
       "    -m21     1  0\n",
       " m21*m32  -m32  1"
      ]
     },
     "execution_count": 46,
     "metadata": {},
     "output_type": "execute_result"
    }
   ],
   "source": [
    "E(3,2) * E(2,1)"
   ]
  },
  {
   "cell_type": "markdown",
   "metadata": {},
   "source": [
    "Let's move to 5x5 matrices"
   ]
  },
  {
   "cell_type": "code",
   "execution_count": 57,
   "metadata": {},
   "outputs": [
    {
     "data": {
      "text/latex": [
       "\\begin{bmatrix}1&0&0&0&0\\\\- m_{21}&1&0&0&0\\\\- m_{31}&0&1&0&0\\\\- m_{41}&0&0&1&0\\\\- m_{51}&0&0&0&1\\end{bmatrix}"
      ],
      "text/plain": [
       "5×5 Array{SymPy.Sym,2}:\n",
       "    1  0  0  0  0\n",
       " -m21  1  0  0  0\n",
       " -m31  0  1  0  0\n",
       " -m41  0  0  1  0\n",
       " -m51  0  0  0  1"
      ]
     },
     "execution_count": 57,
     "metadata": {},
     "output_type": "execute_result"
    }
   ],
   "source": [
    "E1 = E(2,1,5) * E(3,1,5) * E(4,1,5)* E(5,1,5)"
   ]
  },
  {
   "cell_type": "code",
   "execution_count": 56,
   "metadata": {},
   "outputs": [
    {
     "data": {
      "text/latex": [
       "\\begin{bmatrix}1&0&0&0&0\\\\- m_{21}&1&0&0&0\\\\- m_{31}&0&1&0&0\\\\- m_{41}&0&0&1&0\\\\- m_{51}&0&0&0&1\\end{bmatrix}"
      ],
      "text/plain": [
       "5×5 Array{SymPy.Sym,2}:\n",
       "    1  0  0  0  0\n",
       " -m21  1  0  0  0\n",
       " -m31  0  1  0  0\n",
       " -m41  0  0  1  0\n",
       " -m51  0  0  0  1"
      ]
     },
     "execution_count": 56,
     "metadata": {},
     "output_type": "execute_result"
    }
   ],
   "source": [
    "E(3,1,5) * E(2,1,5) * E(5,1,5)* E(4,1,5)  # Why does the order not matter"
   ]
  },
  {
   "cell_type": "code",
   "execution_count": 66,
   "metadata": {},
   "outputs": [
    {
     "data": {
      "text/latex": [
       "\\begin{bmatrix}1&0&0&0&0\\\\- m_{21}&1&0&0&0\\\\- m_{31}&- m_{32}&1&0&0\\\\- m_{41}&0&0&1&0\\\\- m_{51}&0&0&0&1\\end{bmatrix}"
      ],
      "text/plain": [
       "5×5 Array{SymPy.Sym,2}:\n",
       "    1     0  0  0  0\n",
       " -m21     1  0  0  0\n",
       " -m31  -m32  1  0  0\n",
       " -m41     0  0  1  0\n",
       " -m51     0  0  0  1"
      ]
     },
     "execution_count": 66,
     "metadata": {},
     "output_type": "execute_result"
    }
   ],
   "source": [
    "E1 * E(3,2,5)  # Why does this have a simple looking answer?"
   ]
  },
  {
   "cell_type": "code",
   "execution_count": 67,
   "metadata": {},
   "outputs": [
    {
     "data": {
      "text/latex": [
       "\\begin{bmatrix}1&0&0&0&0\\\\m_{21}&1&0&0&0\\\\m_{31}&m_{32}&1&0&0\\\\m_{41}&0&0&1&0\\\\m_{51}&0&0&0&1\\end{bmatrix}"
      ],
      "text/plain": [
       "5×5 Array{SymPy.Sym,2}:\n",
       "   1    0  0  0  0\n",
       " m21    1  0  0  0\n",
       " m31  m32  1  0  0\n",
       " m41    0  0  1  0\n",
       " m51    0  0  0  1"
      ]
     },
     "execution_count": 67,
     "metadata": {},
     "output_type": "execute_result"
    }
   ],
   "source": [
    "inv(E1) * inv(E(3,2,5)) # Why does this have an even slightly simpler looking answer?"
   ]
  },
  {
   "cell_type": "code",
   "execution_count": 68,
   "metadata": {},
   "outputs": [
    {
     "data": {
      "text/latex": [
       "\\begin{bmatrix}1&0&0&0&0\\\\- m_{21}&1&0&0&0\\\\m_{21} m_{32} - m_{31}&- m_{32}&1&0&0\\\\- m_{41}&0&0&1&0\\\\- m_{51}&0&0&0&1\\end{bmatrix}"
      ],
      "text/plain": [
       "5×5 Array{SymPy.Sym,2}:\n",
       "             1     0  0  0  0\n",
       "          -m21     1  0  0  0\n",
       " m21*m32 - m31  -m32  1  0  0\n",
       "          -m41     0  0  1  0\n",
       "          -m51     0  0  0  1"
      ]
     },
     "execution_count": 68,
     "metadata": {},
     "output_type": "execute_result"
    }
   ],
   "source": [
    " E(3,2,5) * E1 # Why doesn't this have a simple looking answer?"
   ]
  },
  {
   "cell_type": "code",
   "execution_count": 69,
   "metadata": {},
   "outputs": [
    {
     "data": {
      "text/latex": [
       "\\begin{bmatrix}1&0&0&0&0\\\\0&1&0&0&0\\\\0&- m_{32}&1&0&0\\\\0&- m_{42}&0&1&0\\\\0&- m_{52}&0&0&1\\end{bmatrix}"
      ],
      "text/plain": [
       "5×5 Array{SymPy.Sym,2}:\n",
       " 1     0  0  0  0\n",
       " 0     1  0  0  0\n",
       " 0  -m32  1  0  0\n",
       " 0  -m42  0  1  0\n",
       " 0  -m52  0  0  1"
      ]
     },
     "execution_count": 69,
     "metadata": {},
     "output_type": "execute_result"
    }
   ],
   "source": [
    "E2 = prod( E(i,2,5) for i=3:5)"
   ]
  },
  {
   "cell_type": "code",
   "execution_count": 70,
   "metadata": {},
   "outputs": [
    {
     "data": {
      "text/latex": [
       "\\begin{bmatrix}1&0&0&0&0\\\\0&1&0&0&0\\\\0&0&1&0&0\\\\0&0&- m_{43}&1&0\\\\0&0&- m_{53}&0&1\\end{bmatrix}"
      ],
      "text/plain": [
       "5×5 Array{SymPy.Sym,2}:\n",
       " 1  0     0  0  0\n",
       " 0  1     0  0  0\n",
       " 0  0     1  0  0\n",
       " 0  0  -m43  1  0\n",
       " 0  0  -m53  0  1"
      ]
     },
     "execution_count": 70,
     "metadata": {},
     "output_type": "execute_result"
    }
   ],
   "source": [
    "E3 = prod( E(i,3,5) for i=4:5)"
   ]
  },
  {
   "cell_type": "code",
   "execution_count": 72,
   "metadata": {},
   "outputs": [
    {
     "data": {
      "text/latex": [
       "\\begin{bmatrix}1&0&0&0&0\\\\0&1&0&0&0\\\\0&0&1&0&0\\\\0&0&0&1&0\\\\0&0&0&- m_{54}&1\\end{bmatrix}"
      ],
      "text/plain": [
       "5×5 Array{SymPy.Sym,2}:\n",
       " 1  0  0     0  0\n",
       " 0  1  0     0  0\n",
       " 0  0  1     0  0\n",
       " 0  0  0     1  0\n",
       " 0  0  0  -m54  1"
      ]
     },
     "execution_count": 72,
     "metadata": {},
     "output_type": "execute_result"
    }
   ],
   "source": [
    "E4 = E(5,4,5)"
   ]
  },
  {
   "cell_type": "code",
   "execution_count": 74,
   "metadata": {},
   "outputs": [
    {
     "data": {
      "text/latex": [
       "\\begin{bmatrix}1&0&0&0&0\\\\- m_{21}&1&0&0&0\\\\- m_{31}&- m_{32}&1&0&0\\\\- m_{41}&- m_{42}&- m_{43}&1&0\\\\- m_{51}&- m_{52}&- m_{53}&- m_{54}&1\\end{bmatrix}"
      ],
      "text/plain": [
       "5×5 Array{SymPy.Sym,2}:\n",
       "    1     0     0     0  0\n",
       " -m21     1     0     0  0\n",
       " -m31  -m32     1     0  0\n",
       " -m41  -m42  -m43     1  0\n",
       " -m51  -m52  -m53  -m54  1"
      ]
     },
     "execution_count": 74,
     "metadata": {},
     "output_type": "execute_result"
    }
   ],
   "source": [
    "E1 * E2 * E3 * E4 # Why is this simple?"
   ]
  },
  {
   "cell_type": "code",
   "execution_count": 85,
   "metadata": {},
   "outputs": [
    {
     "data": {
      "text/latex": [
       "\\begin{bmatrix}1&0&0&0&0\\\\m_{21}&1&0&0&0\\\\m_{31}&m_{32}&1&0&0\\\\m_{41}&m_{42}&m_{43}&1&0\\\\m_{51}&m_{52}&m_{53}&m_{54}&1\\end{bmatrix}"
      ],
      "text/plain": [
       "5×5 Array{SymPy.Sym,2}:\n",
       "   1    0    0    0  0\n",
       " m21    1    0    0  0\n",
       " m31  m32    1    0  0\n",
       " m41  m42  m43    1  0\n",
       " m51  m52  m53  m54  1"
      ]
     },
     "execution_count": 85,
     "metadata": {},
     "output_type": "execute_result"
    }
   ],
   "source": [
    "L = inv(E1) * inv(E2)  * inv(E3) * inv(E4) # Why is this simple?  This is the L Matrix!!"
   ]
  },
  {
   "cell_type": "code",
   "execution_count": 83,
   "metadata": {},
   "outputs": [
    {
     "data": {
      "text/latex": [
       "\\begin{bmatrix}1&0&0&0&0\\\\- m_{21}&1&0&0&0\\\\m_{21} m_{32} - m_{31}&- m_{32}&1&0&0\\\\- m_{21} \\left(m_{32} m_{43} - m_{42}\\right) + m_{31} m_{43} - m_{41}&m_{32} m_{43} - m_{42}&- m_{43}&1&0\\\\- m_{21} \\left(- m_{32} \\left(m_{43} m_{54} - m_{53}\\right) + m_{42} m_{54} - m_{52}\\right) - m_{31} \\left(m_{43} m_{54} - m_{53}\\right) + m_{41} m_{54} - m_{51}&- m_{32} \\left(m_{43} m_{54} - m_{53}\\right) + m_{42} m_{54} - m_{52}&m_{43} m_{54} - m_{53}&- m_{54}&1\\end{bmatrix}"
      ],
      "text/plain": [
       "5×5 Array{SymPy.Sym,2}:\n",
       "                                                                                 1  …              0     0  0\n",
       "                                                                              -m21                 0     0  0\n",
       "                                                                     m21*m32 - m31                 1     0  0\n",
       "                                              -m21*(m32*m43 - m42) + m31*m43 - m41              -m43     1  0\n",
       " -m21*(-m32*(m43*m54 - m53) + m42*m54 - m52) - m31*(m43*m54 - m53) + m41*m54 - m51     m43*m54 - m53  -m54  1"
      ]
     },
     "execution_count": 83,
     "metadata": {},
     "output_type": "execute_result"
    }
   ],
   "source": [
    "E4 * E3 * E2 * E1 # Why is this a mess?  Good thing we don't need it in Gaussian Elimination"
   ]
  },
  {
   "cell_type": "code",
   "execution_count": 87,
   "metadata": {},
   "outputs": [
    {
     "data": {
      "text/latex": [
       "\\begin{bmatrix}1&0&0&0&0\\\\- m_{21}&1&0&0&0\\\\m_{21} m_{32} - m_{31}&- m_{32}&1&0&0\\\\m_{21} m_{42} - m_{41} - m_{43} \\left(m_{21} m_{32} - m_{31}\\right)&m_{32} m_{43} - m_{42}&- m_{43}&1&0\\\\m_{21} m_{52} - m_{51} - m_{53} \\left(m_{21} m_{32} - m_{31}\\right) - m_{54} \\left(m_{21} m_{42} - m_{41} - m_{43} \\left(m_{21} m_{32} - m_{31}\\right)\\right)&m_{32} m_{53} - m_{52} - m_{54} \\left(m_{32} m_{43} - m_{42}\\right)&m_{43} m_{54} - m_{53}&- m_{54}&1\\end{bmatrix}"
      ],
      "text/plain": [
       "5×5 Array{SymPy.Sym,2}:\n",
       "                                                                               1  …              0     0  0\n",
       "                                                                            -m21                 0     0  0\n",
       "                                                                   m21*m32 - m31                 1     0  0\n",
       "                                             m21*m42 - m41 - m43*(m21*m32 - m31)              -m43     1  0\n",
       " m21*m52 - m51 - m53*(m21*m32 - m31) - m54*(m21*m42 - m41 - m43*(m21*m32 - m31))     m43*m54 - m53  -m54  1"
      ]
     },
     "execution_count": 87,
     "metadata": {},
     "output_type": "execute_result"
    }
   ],
   "source": [
    "inv(L)  # Right this is the inv(L)"
   ]
  },
  {
   "cell_type": "code",
   "execution_count": null,
   "metadata": {
    "collapsed": true
   },
   "outputs": [],
   "source": []
  }
 ],
 "metadata": {
  "kernelspec": {
   "display_name": "Julia 0.6.0",
   "language": "julia",
   "name": "julia-0.6"
  },
  "language_info": {
   "file_extension": ".jl",
   "mimetype": "application/julia",
   "name": "julia",
   "version": "0.6.0"
  }
 },
 "nbformat": 4,
 "nbformat_minor": 2
}
