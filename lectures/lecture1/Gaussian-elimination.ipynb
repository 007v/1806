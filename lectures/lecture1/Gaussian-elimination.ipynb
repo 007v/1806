{
 "cells": [
  {
   "cell_type": "markdown",
   "metadata": {},
   "source": [
    "# Gaussian elimination\n",
    "\n",
    "This Julia notebook allows us to interactively visualize the process of Gaussian elimination.\n",
    "\n",
    "Recall that the process of [Gaussian elimination](https://en.wikipedia.org/wiki/Gaussian_elimination) involves subtracting rows to turn a matrix $A$ into an [upper triangular matrix](https://en.wikipedia.org/wiki/Triangular_matrix) $U$.  Often we *augment* the matrix with an additional column, representing the right-hand side $b$ of a system of equations $Ax=b$ that we want to solve: by doing the same row operations to both $A$ and $b$, we arrive at an equivalent equation $Ux=c$ that is easy to solve by *backsubstitution* (solving for one variable at a time, working from the last row to the top row).\n",
    "\n",
    "For example, suppose we are solving:\n",
    "\n",
    "$$\n",
    "Ax = \n",
    "\\begin{pmatrix}\n",
    "1 & 3 & 1  \\\\\n",
    "1 & 1 & -1  \\\\\n",
    "3 & 11 & 6 \n",
    "\\end{pmatrix} x = \n",
    "\\begin{pmatrix}\n",
    "9 \\\\\n",
    "1 \\\\\n",
    "35\n",
    "\\end{pmatrix} = b\n",
    "$$\n",
    "\n",
    "We would perform the following elimination process.\n",
    "\n",
    "$$\n",
    "\\left[\\begin{array}{rrr|r}\n",
    "1 & 3 & 1 & 9 \\\\\n",
    "1 & 1 & -1 & 1 \\\\\n",
    "3 & 11 & 6 & 35\n",
    "\\end{array}\\right]\\to\n",
    "\\left[\\begin{array}{rrr|r}\n",
    "1 & 3 & 1 & 9 \\\\\n",
    "0 & -2 & -2 & -8 \\\\\n",
    "0 & 2 & 3 & 8\n",
    "\\end{array}\\right]\\to\n",
    "\\left[\\begin{array}{rrr|r}\n",
    "1 & 3 & 1 & 9 \\\\\n",
    "0 & -2 & -2 & -8 \\\\\n",
    "0 & 0 & 1 & 0\n",
    "\\end{array}\\right]\n",
    "$$\n",
    "\n",
    "It is much more fun to let the computer do the arithmetic than to crunch through it ourselves on the blackboard, but usually the computer does things *too* quickly (and it often does some re-ordering of the rows that makes it harder to follow what is going on).  For example, in Julia, we can solve the above system of equations by simply:"
   ]
  },
  {
   "cell_type": "code",
   "execution_count": 1,
   "metadata": {
    "collapsed": false
   },
   "outputs": [
    {
     "data": {
      "text/plain": [
       "3×3 Array{Int64,2}:\n",
       " 1   3   1\n",
       " 1   1  -1\n",
       " 3  11   6"
      ]
     },
     "execution_count": 1,
     "metadata": {},
     "output_type": "execute_result"
    }
   ],
   "source": [
    "A = [1 3  1\n",
    "     1 1 -1\n",
    "     3 11 6]"
   ]
  },
  {
   "cell_type": "code",
   "execution_count": 2,
   "metadata": {
    "collapsed": false
   },
   "outputs": [
    {
     "data": {
      "text/plain": [
       "3-element Array{Int64,1}:\n",
       "  9\n",
       "  1\n",
       " 35"
      ]
     },
     "execution_count": 2,
     "metadata": {},
     "output_type": "execute_result"
    }
   ],
   "source": [
    "b = [9, 1, 35]"
   ]
  },
  {
   "cell_type": "code",
   "execution_count": 3,
   "metadata": {
    "collapsed": false
   },
   "outputs": [
    {
     "data": {
      "text/plain": [
       "3-element Array{Float64,1}:\n",
       " -3.0\n",
       "  4.0\n",
       "  0.0"
      ]
     },
     "execution_count": 3,
     "metadata": {},
     "output_type": "execute_result"
    }
   ],
   "source": [
    "x = A \\ b # solves Ax = b by (essentially) Gaussian elimination"
   ]
  },
  {
   "cell_type": "markdown",
   "metadata": {},
   "source": [
    "Of course, the computer can solve *much bigger problems* easily.  It can solve 1000 equations in 1000 unknowns in a fraction of a second — nowadays, that is no longer considered a \"big\" system of equations."
   ]
  },
  {
   "cell_type": "code",
   "execution_count": 4,
   "metadata": {
    "collapsed": false
   },
   "outputs": [
    {
     "data": {
      "text/plain": [
       "1000×1000 Array{Float64,2}:\n",
       " 0.799026     0.135372   0.76993     …  0.651239   0.294114   0.00101007\n",
       " 0.959964     0.739421   0.427643       0.548796   0.90746    0.987812  \n",
       " 0.197432     0.270327   0.782315       0.767095   0.107921   0.571993  \n",
       " 0.833068     0.446077   0.724408       0.677728   0.377611   0.497709  \n",
       " 0.171672     0.708075   0.726538       0.359179   0.367253   0.876331  \n",
       " 0.522119     0.585127   0.61311     …  0.144493   0.316707   0.826108  \n",
       " 0.382905     0.272719   0.779152       0.632876   0.0235357  0.326321  \n",
       " 0.357525     0.514832   0.845671       0.716565   0.639549   0.887598  \n",
       " 0.486622     0.065363   0.813189       0.80241    0.618444   0.989494  \n",
       " 0.591591     0.71316    0.879101       0.95761    0.633819   0.241293  \n",
       " 0.260906     0.1994     0.73955     …  0.401418   0.718761   0.00891272\n",
       " 0.576473     0.744354   0.528404       0.838346   0.737117   0.365705  \n",
       " 0.549844     0.30987    0.73271        0.141354   0.813839   0.0589656 \n",
       " ⋮                                   ⋱                                  \n",
       " 0.13707      0.336182   0.349752       0.783397   0.333142   0.324472  \n",
       " 0.8878       0.312497   0.555935       0.757094   0.410682   0.937476  \n",
       " 0.285834     0.472984   0.297076    …  0.959068   0.283829   0.555751  \n",
       " 0.164453     0.672378   0.660172       0.377991   0.0401908  0.915735  \n",
       " 0.543681     0.797646   0.797823       0.589556   0.276554   0.150694  \n",
       " 0.37942      0.918985   0.464697       0.535951   0.55415    0.319107  \n",
       " 0.598758     0.922351   0.00778238     0.183906   0.0388165  0.334272  \n",
       " 0.000138777  0.331105   0.157674    …  0.609883   0.108526   0.664249  \n",
       " 0.390011     0.0677029  0.902919       0.65057    0.747542   0.986028  \n",
       " 0.773067     0.188492   0.694378       0.0362412  0.990263   0.81315   \n",
       " 0.116812     0.965304   0.984013       0.753588   0.790407   0.623466  \n",
       " 0.0909896    0.788332   0.593722       0.0558773  0.0215906  0.713091  "
      ]
     },
     "execution_count": 4,
     "metadata": {},
     "output_type": "execute_result"
    }
   ],
   "source": [
    "Ahuge = rand(1000,1000)"
   ]
  },
  {
   "cell_type": "code",
   "execution_count": 5,
   "metadata": {
    "collapsed": false
   },
   "outputs": [
    {
     "data": {
      "text/plain": [
       "1000-element Array{Float64,1}:\n",
       " 0.733685\n",
       " 0.619417\n",
       " 0.583324\n",
       " 0.84464 \n",
       " 0.303198\n",
       " 0.34013 \n",
       " 0.300024\n",
       " 0.711722\n",
       " 0.250007\n",
       " 0.589498\n",
       " 0.318198\n",
       " 0.519913\n",
       " 0.878512\n",
       " ⋮       \n",
       " 0.447378\n",
       " 0.499286\n",
       " 0.783573\n",
       " 0.587314\n",
       " 0.238272\n",
       " 0.315385\n",
       " 0.475008\n",
       " 0.933463\n",
       " 0.25819 \n",
       " 0.61692 \n",
       " 0.902658\n",
       " 0.194977"
      ]
     },
     "execution_count": 5,
     "metadata": {},
     "output_type": "execute_result"
    }
   ],
   "source": [
    "bhuge = rand(1000)"
   ]
  },
  {
   "cell_type": "code",
   "execution_count": 6,
   "metadata": {
    "collapsed": false
   },
   "outputs": [
    {
     "name": "stdout",
     "output_type": "stream",
     "text": [
      "  0.141771 seconds (111.89 k allocations: 12.473 MB, 3.76% gc time)\n"
     ]
    },
    {
     "data": {
      "text/plain": [
       "1000-element Array{Float64,1}:\n",
       "  0.190198 \n",
       " -1.33774  \n",
       "  0.362207 \n",
       "  1.57068  \n",
       "  0.086518 \n",
       "  0.783327 \n",
       "  2.53224  \n",
       " -1.38542  \n",
       " -0.539556 \n",
       " -0.641136 \n",
       "  0.342879 \n",
       " -0.641814 \n",
       " -0.281354 \n",
       "  ⋮        \n",
       " -0.0714204\n",
       "  1.2346   \n",
       " -1.41359  \n",
       " -0.770312 \n",
       " -0.223073 \n",
       " -0.411159 \n",
       "  1.9494   \n",
       "  2.35062  \n",
       " -0.545022 \n",
       " -0.347318 \n",
       " -1.45321  \n",
       "  0.688726 "
      ]
     },
     "execution_count": 6,
     "metadata": {},
     "output_type": "execute_result"
    }
   ],
   "source": [
    "@time Ahuge \\ bhuge"
   ]
  },
  {
   "cell_type": "markdown",
   "metadata": {},
   "source": [
    "If we want to see the matrix $U$ from above, we use the fact (covered soon in 18.06) that Gaussian elimination is really \"LU\" factorization, performed by the built-in function `lu`. By default, however, \"serious\" computer implementations of this process automatically re-order the rows to reduce the effect of roundoff errors, so we need to pass an extra option that tells Julia not to do this.  (You should *not* normally do this, except for learning exercises.)"
   ]
  },
  {
   "cell_type": "code",
   "execution_count": 7,
   "metadata": {
    "collapsed": false
   },
   "outputs": [
    {
     "data": {
      "text/plain": [
       "3×4 Array{Float64,2}:\n",
       " 1.0   3.0   1.0   9.0\n",
       " 0.0  -2.0  -2.0  -8.0\n",
       " 0.0   0.0   1.0   0.0"
      ]
     },
     "execution_count": 7,
     "metadata": {},
     "output_type": "execute_result"
    }
   ],
   "source": [
    "# LU factorization (Gaussian elimination) of the augumented matrix [A b], \n",
    "# passing the undocumented option Val{false} to prevent row re-ordering\n",
    "L, U = lu([A b], Val{false}) \n",
    "U # just show U"
   ]
  },
  {
   "cell_type": "markdown",
   "metadata": {},
   "source": [
    "However, it would be nice to show the individual steps of this process.  This requires some programming."
   ]
  },
  {
   "cell_type": "markdown",
   "metadata": {},
   "source": [
    "# Code to interactively visualize Gaussian elimination\n",
    "\n",
    "The following is some slightly tricky code that lets us visualize the process of Gaussian elimination in Julia.  It takes advantage of the [Interact](https://github.com/JuliaGizmos/Interact.jl) package in Julia, which allows us to easily create interactive displays using sliders, pushbuttons, and other widgets.\n",
    "\n",
    "Implementing this is **not really a beginner exercise** for new Julia programmers, though it is fairly straightforward for people who are used to Julia.  It involves defining our own type to control display, our own implementation of Gaussian elimination that allows us to stop partway through, and using the Interact package to create interactive widgets.\n",
    "\n",
    "You can skip this part if you aren't ready for the programming details."
   ]
  },
  {
   "cell_type": "code",
   "execution_count": 8,
   "metadata": {
    "collapsed": false
   },
   "outputs": [
    {
     "data": {
      "text/plain": [
       "naive_gauss"
      ]
     },
     "execution_count": 8,
     "metadata": {},
     "output_type": "execute_result"
    }
   ],
   "source": [
    "\"\"\"\n",
    "TwoMatrices is just a wrapper type around two matrices or vectors with the same\n",
    "number of rows, so that they can be displayed side-by-side with a title and\n",
    "and arrow pointing from left to right.\n",
    "\"\"\"\n",
    "type TwoMatrices\n",
    "    left::AbstractVecOrMat\n",
    "    right::AbstractVecOrMat\n",
    "    title::AbstractString\n",
    "    function TwoMatrices(left, right, title=\"\")\n",
    "        size(left,1) == size(right,1) || throw(DimensionMismatch(\"two matrices must have same # rows\"))\n",
    "        return new(left, right, title)\n",
    "    end\n",
    "end\n",
    "function Base.show(io::IO, ::MIME\"text/plain\", x::TwoMatrices)\n",
    "    isempty(x.title) || println(io, x.title)\n",
    "    m = size(x.left, 1)\n",
    "    s = [Text(\" \"^10) for i in 1:m]\n",
    "    s[(m+1)÷2] = Text(\"   --->   \")\n",
    "    Base.showarray(io, [x.left s x.right], false; header=false)\n",
    "end\n",
    "\n",
    "\"\"\"\n",
    "    naive_gauss(A, [step])\n",
    "\n",
    "Given a matrix `A`, performs Gaussian elimination to convert\n",
    "`A` into an upper-triangular matrix `U`.\n",
    "\n",
    "This implementation is \"naive\" because it *never re-orders the rows*.\n",
    "(It will obviously fail if a zero pivot is encountered.)\n",
    "\n",
    "If the optional `step` argument is supplied, only performs `step`\n",
    "steps of Gaussian elimination.\n",
    "\n",
    "Returns `(U, row, col, factor)`, where `row` and `col` are the\n",
    "row and column of the last step performed, while `factor`\n",
    "is the last factor multiplying the pivot row.\n",
    "\"\"\"\n",
    "function naive_gauss(A, step=typemax(Int))\n",
    "    m = size(A,1) # number of rows\n",
    "    factor = A[1,1]/A[1,1]\n",
    "    step ≤ 0 && return (A, 1, 1, factor)\n",
    "    U = copy!(similar(A, typeof(factor)), A)\n",
    "    for j = 1:m   # loop over m columns\n",
    "        for i = j+1:m   # loop over rows below the pivot row j\n",
    "            # subtract a multiple of the pivot row (j)\n",
    "            # from the current row (i) to cancel U[i,j] = Uᵢⱼ:\n",
    "            factor = -U[i,j]/U[j,j]\n",
    "            U[i,:] = U[i,:] + U[j,:] * factor\n",
    "            step -= 1\n",
    "            step ≤ 0 && return (U, i, j, factor)\n",
    "        end\n",
    "    end\n",
    "    return U, m, m, factor\n",
    "end"
   ]
  },
  {
   "cell_type": "code",
   "execution_count": 9,
   "metadata": {
    "collapsed": false
   },
   "outputs": [
    {
     "data": {
      "text/html": [
       "<div id=\"interact-js-shim\">\n",
       "    <script charset=\"utf-8\">\n",
       "(function (IPython, $, _, MathJax) {\n",
       "    $.event.special.destroyed = {\n",
       "\tremove: function(o) {\n",
       "\t    if (o.handler) {\n",
       "\t\to.handler.apply(this, arguments)\n",
       "\t    }\n",
       "\t}\n",
       "    }\n",
       "\n",
       "    var OutputArea = IPython.version >= \"4.0.0\" ? require(\"notebook/js/outputarea\").OutputArea : IPython.OutputArea;\n",
       "\n",
       "    var redrawValue = function (container, type, val) {\n",
       "\tvar selector = $(\"<div/>\");\n",
       "\tvar oa = new OutputArea(_.extend(selector, {\n",
       "\t    selector: selector,\n",
       "\t    prompt_area: true,\n",
       "\t    events: IPython.events,\n",
       "\t    keyboard_manager: IPython.keyboard_manager\n",
       "\t})); // Hack to work with IPython 2.1.0\n",
       "\n",
       "\tswitch (type) {\n",
       "\tcase \"image/png\":\n",
       "            var _src = 'data:' + type + ';base64,' + val;\n",
       "\t    $(container).find(\"img\").attr('src', _src);\n",
       "\t    break;\n",
       "\tcase \"text/latex\":\n",
       "\t\tif (MathJax){\n",
       "\t\t\tvar math = MathJax.Hub.getAllJax(container)[0];\n",
       "\t\t\tMathJax.Hub.Queue([\"Text\", math, val.replace(/^\\${1,2}|\\${1,2}$/g, '')]);\n",
       "\t\t\tbreak;\n",
       "\t\t}\n",
       "\tdefault:\n",
       "\t    var toinsert = OutputArea.append_map[type].apply(\n",
       "\t\toa, [val, {}, selector]\n",
       "\t    );\n",
       "\t    $(container).empty().append(toinsert.contents());\n",
       "\t    selector.remove();\n",
       "\t}\n",
       "    }\n",
       "\n",
       "\n",
       "    $(document).ready(function() {\n",
       "\tfunction initComm(evt, data) {\n",
       "\t    var comm_manager = data.kernel.comm_manager;\n",
       "        //_.extend(comm_manager.targets, require(\"widgets/js/widget\"))\n",
       "\t    comm_manager.register_target(\"Signal\", function (comm) {\n",
       "            comm.on_msg(function (msg) {\n",
       "                var val = msg.content.data.value;\n",
       "                $(\".signal-\" + comm.comm_id).each(function() {\n",
       "                var type = $(this).data(\"type\");\n",
       "                if (typeof(val[type]) !== \"undefined\" && val[type] !== null) {\n",
       "                    redrawValue(this, type, val[type], type);\n",
       "                }\n",
       "                });\n",
       "                delete val;\n",
       "                delete msg.content.data.value;\n",
       "            });\n",
       "\t    });\n",
       "\n",
       "\t    // coordingate with Comm and redraw Signals\n",
       "\t    // XXX: Test using Reactive here to improve performance\n",
       "\t    $([IPython.events]).on(\n",
       "\t\t'output_appended.OutputArea', function (event, type, value, md, toinsert) {\n",
       "\t\t    if (md && md.reactive) {\n",
       "                // console.log(md.comm_id);\n",
       "                toinsert.addClass(\"signal-\" + md.comm_id);\n",
       "                toinsert.data(\"type\", type);\n",
       "                // Signal back indicating the mimetype required\n",
       "                var comm_manager = IPython.notebook.kernel.comm_manager;\n",
       "                var comm = comm_manager.comms[md.comm_id];\n",
       "                comm.then(function (c) {\n",
       "                    c.send({action: \"subscribe_mime\",\n",
       "                       mime: type});\n",
       "                    toinsert.bind(\"destroyed\", function() {\n",
       "                        c.send({action: \"unsubscribe_mime\",\n",
       "                               mime: type});\n",
       "                    });\n",
       "                })\n",
       "\t\t    }\n",
       "\t    });\n",
       "\t}\n",
       "\n",
       "\ttry {\n",
       "\t    // try to initialize right away. otherwise, wait on the status_started event.\n",
       "\t    initComm(undefined, IPython.notebook);\n",
       "\t} catch (e) {\n",
       "\t    $([IPython.events]).on('kernel_created.Kernel kernel_created.Session', initComm);\n",
       "\t}\n",
       "    });\n",
       "})(IPython, jQuery, _, MathJax);\n",
       "</script>\n",
       "    <script>\n",
       "        window.interactLoadedFlag = true\n",
       "       $(\"#interact-js-shim\").bind(\"destroyed\", function () {\n",
       "           if (window.interactLoadedFlag) {\n",
       "               console.warn(\"JavaScript required by Interact will be removed if you remove this cell or run using Interact more than once.\")\n",
       "           }\n",
       "       })\n",
       "       $([IPython.events]).on(\"kernel_starting.Kernel kernel_restarting.Kernel\", function () { window.interactLoadedFlag = false })\n",
       "   </script>\n",
       "</div>"
      ]
     },
     "metadata": {},
     "output_type": "display_data"
    },
    {
     "data": {
      "text/plain": [
       "visualize_gauss (generic function with 1 method)"
      ]
     },
     "execution_count": 9,
     "metadata": {},
     "output_type": "execute_result"
    }
   ],
   "source": [
    "using Interact\n",
    "\n",
    "# For display, I only want to show 3 decimal places of floating-point values,\n",
    "# but I want to show integers and similar types exactly, so I define a little\n",
    "# function to do this rounding\n",
    "shorten(x::AbstractFloat) = round(x, 3)\n",
    "shorten(x) = x # leave non floating-point values as-is\n",
    "\n",
    "# create an interactive widget to visualize the Gaussian-elimination process for the matrix A.\n",
    "function visualize_gauss(A)\n",
    "    m = size(A, 1)\n",
    "    @manipulate for step in slider(1:(m*(m-1))÷2, value=1, label=\"gauss step\")\n",
    "        Uprev, = naive_gauss(A, step-1)\n",
    "        U, row, col, factor = naive_gauss(A, step)\n",
    "        pivot = U[col,col]\n",
    "        TwoMatrices(shorten.(Uprev), shorten.(U), \"Gaussian elimination for column $col with pivot $pivot: add $(shorten(factor)) * (row $col) to (row $row)\")\n",
    "    end\n",
    "end"
   ]
  },
  {
   "cell_type": "markdown",
   "metadata": {},
   "source": [
    "# Gaussian elimination examples\n",
    "\n",
    "Now, let's use this machinery to interact with some examples, starting with our $3 \\times 3$ matrix from above:"
   ]
  },
  {
   "cell_type": "code",
   "execution_count": 10,
   "metadata": {
    "collapsed": false
   },
   "outputs": [
    {
     "data": {
      "text/html": [],
      "text/plain": [
       "Interact.Slider{Int64}(Signal{Int64}(1, nactions=1),\"gauss step\",1,1:3,\"horizontal\",true,\"d\",true)"
      ]
     },
     "metadata": {},
     "output_type": "display_data"
    },
    {
     "data": {
      "text/plain": [
       "Gaussian elimination for column 1 with pivot 1.0: add -1.0 * (row 1) to (row 2)\n",
       " 1   3   1   9              1.0   3.0   1.0   9.0\n",
       " 1   1  -1   1     --->     0.0  -2.0  -2.0  -8.0\n",
       " 3  11   6  35              3.0  11.0   6.0  35.0"
      ]
     },
     "execution_count": 10,
     "metadata": {
      "comm_id": "56fe95d4-c845-4251-bdc0-243850f7ba93",
      "reactive": true
     },
     "output_type": "execute_result"
    }
   ],
   "source": [
    "visualize_gauss([A b])"
   ]
  },
  {
   "cell_type": "code",
   "execution_count": 11,
   "metadata": {
    "collapsed": false
   },
   "outputs": [
    {
     "data": {
      "text/html": [],
      "text/plain": [
       "Interact.Slider{Int64}(Signal{Int64}(1, nactions=1),\"gauss step\",1,1:10,\"horizontal\",true,\"d\",true)"
      ]
     },
     "metadata": {},
     "output_type": "display_data"
    },
    {
     "data": {
      "text/plain": [
       "Gaussian elimination for column 1 with pivot 3.0: add 1.333 * (row 1) to (row 2)\n",
       "  3   3   9   5  -2               3.0   3.0   9.0  5.0    -2.0  \n",
       " -4  -9  -4  -4   8               0.0  -5.0   8.0  2.667   5.333\n",
       " -7  -1   7   6   9     --->     -7.0  -1.0   7.0  6.0     9.0  \n",
       "  1   6  -8   6   1               1.0   6.0  -8.0  6.0     1.0  \n",
       " -8   1   9   5  -4              -8.0   1.0   9.0  5.0    -4.0  "
      ]
     },
     "execution_count": 11,
     "metadata": {
      "comm_id": "863aee1b-3ec3-44d6-ad25-4567660ef300",
      "reactive": true
     },
     "output_type": "execute_result"
    }
   ],
   "source": [
    "visualize_gauss(rand(-9:9,5,5))"
   ]
  },
  {
   "cell_type": "markdown",
   "metadata": {},
   "source": [
    "Of course, because we are not re-ordering the rows, this process can go horribly wrong, most obviously if a zero pivot is encountered:"
   ]
  },
  {
   "cell_type": "code",
   "execution_count": 12,
   "metadata": {
    "collapsed": false
   },
   "outputs": [
    {
     "data": {
      "text/html": [],
      "text/plain": [
       "Interact.Slider{Int64}(Signal{Int64}(1, nactions=1),\"gauss step\",1,1:10,\"horizontal\",true,\"d\",true)"
      ]
     },
     "metadata": {},
     "output_type": "display_data"
    },
    {
     "data": {
      "text/plain": [
       "Gaussian elimination for column 1 with pivot -3.0: add 1.0 * (row 1) to (row 2)\n",
       " -3   5   5   3  -7              -3.0   5.0   5.0   3.0   -7.0\n",
       "  3  -5   8  -8  -6               0.0   0.0  13.0  -5.0  -13.0\n",
       "  8   2   8   2  -8     --->      8.0   2.0   8.0   2.0   -8.0\n",
       " -6  -2   6   4  -8              -6.0  -2.0   6.0   4.0   -8.0\n",
       " -8   4  -6  -1   8              -8.0   4.0  -6.0  -1.0    8.0"
      ]
     },
     "execution_count": 12,
     "metadata": {
      "comm_id": "7f2a248b-68a3-4972-a61c-80994bd1e4b6",
      "reactive": true
     },
     "output_type": "execute_result"
    }
   ],
   "source": [
    "Abad = [-3   5   5   3  -7\n",
    "         3  -5   8  -8  -6\n",
    "         8   2   8   2  -8\n",
    "        -6  -2   6   4  -8\n",
    "        -8   4  -6  -1   8]\n",
    "visualize_gauss(Abad)"
   ]
  },
  {
   "cell_type": "markdown",
   "metadata": {},
   "source": [
    "But this matrix is not actually singular:"
   ]
  },
  {
   "cell_type": "code",
   "execution_count": 13,
   "metadata": {
    "collapsed": false
   },
   "outputs": [
    {
     "data": {
      "text/plain": [
       "19211.999999999996"
      ]
     },
     "execution_count": 13,
     "metadata": {},
     "output_type": "execute_result"
    }
   ],
   "source": [
    "det(Abad)"
   ]
  },
  {
   "cell_type": "markdown",
   "metadata": {},
   "source": [
    "So we can fix the problem just by re-ordering the rows, e.g. swapping the first and last rows:"
   ]
  },
  {
   "cell_type": "code",
   "execution_count": 14,
   "metadata": {
    "collapsed": false
   },
   "outputs": [
    {
     "data": {
      "text/html": [],
      "text/plain": [
       "Interact.Slider{Int64}(Signal{Int64}(1, nactions=1),\"gauss step\",1,1:10,\"horizontal\",true,\"d\",true)"
      ]
     },
     "metadata": {},
     "output_type": "display_data"
    },
    {
     "data": {
      "text/plain": [
       "Gaussian elimination for column 1 with pivot -8.0: add 0.375 * (row 1) to (row 2)\n",
       " -8   4  -6  -1   8              -8.0   4.0  -6.0   -1.0     8.0\n",
       "  3  -5   8  -8  -6               0.0  -3.5   5.75  -8.375  -3.0\n",
       "  8   2   8   2  -8     --->      8.0   2.0   8.0    2.0    -8.0\n",
       " -6  -2   6   4  -8              -6.0  -2.0   6.0    4.0    -8.0\n",
       " -3   5   5   3  -7              -3.0   5.0   5.0    3.0    -7.0"
      ]
     },
     "execution_count": 14,
     "metadata": {
      "comm_id": "a45e28ce-e88d-4457-8ee1-655a3295c97d",
      "reactive": true
     },
     "output_type": "execute_result"
    }
   ],
   "source": [
    "Aok = [-8   4  -6  -1   8\n",
    "        3  -5   8  -8  -6\n",
    "        8   2   8   2  -8\n",
    "       -6  -2   6   4  -8\n",
    "       -3   5   5   3  -7]\n",
    "visualize_gauss(Aok)"
   ]
  },
  {
   "cell_type": "markdown",
   "metadata": {},
   "source": [
    "## A bigger example\n",
    "\n",
    "We quickly run out of space for displaying matrices as text, but we can visualize the process for larger matrices by using images, with the PyPlot package (a wrapper around the Python Matplotlib library):"
   ]
  },
  {
   "cell_type": "code",
   "execution_count": 15,
   "metadata": {
    "collapsed": false
   },
   "outputs": [],
   "source": [
    "using PyPlot"
   ]
  },
  {
   "cell_type": "code",
   "execution_count": 16,
   "metadata": {
    "collapsed": false
   },
   "outputs": [
    {
     "data": {
      "text/html": [],
      "text/plain": [
       "Interact.Slider{Int64}(Signal{Int64}(2, nactions=1),\"gauss step\",2,0:50:4950,\"horizontal\",true,\"d\",true)"
      ]
     },
     "metadata": {},
     "output_type": "display_data"
    },
    {
     "data": {
      "image/png": "[encoded data removed]",
      "text/plain": [
       "PyPlot.Figure(PyObject <matplotlib.figure.Figure object at 0x325da3390>)"
      ]
     },
     "execution_count": 16,
     "metadata": {
      "comm_id": "9d77f288-9ae1-452a-88d7-3e4048d46aee",
      "reactive": true
     },
     "output_type": "execute_result"
    }
   ],
   "source": [
    "m = 100\n",
    "Abig = randn(m,m)\n",
    "fig = figure()\n",
    "nsteps = (m*(m-1))÷2\n",
    "@manipulate for step in slider(0:50:nsteps, value=2, label=\"gauss step\")\n",
    "    withfig(fig) do\n",
    "        U, row, col = naive_gauss(Abig, step)\n",
    "        # I had to experiment a little to find a nice way to plot this\n",
    "        imshow(log10.(abs.(U) .+ 1), cmap=\"hot\")\n",
    "        title(\"step $step: column $col, row $row\")\n",
    "        colorbar(label=L\"log_{10}(|U_{i,j}| + 1)\")\n",
    "    end\n",
    "end"
   ]
  },
  {
   "cell_type": "markdown",
   "metadata": {},
   "source": [
    "Note that it takes a *lot* more steps of Gaussian elimination for a $100 \\times 100$ matrix (4950 steps) than for a $5 \\times 5$ matrix (10 steps).  Later on in 18.06, we will analyze the computational cost of Gaussian elimination and how it scales with the size of the matrix (in computer science, this is known as the [complexity](https://en.wikipedia.org/wiki/Computational_complexity_theory) of the algorithm)."
   ]
  }
 ],
 "metadata": {
  "kernelspec": {
   "display_name": "Julia 0.5.0",
   "language": "julia",
   "name": "julia-0.5"
  },
  "language_info": {
   "file_extension": ".jl",
   "mimetype": "application/julia",
   "name": "julia",
   "version": "0.5.0"
  },
  "widgets": {
   "state": {
    "adddbfad-a2f6-4bf1-b1f7-9ad6e556a562": {
     "views": [
      {
       "cell_index": 18
      }
     ]
    },
    "dcbd47c2-a3de-410a-9310-9085b352e632": {
     "views": [
      {
       "cell_index": 22
      }
     ]
    },
    "f5f8056b-5248-4d8d-b676-5e6f28ecd40b": {
     "views": [
      {
       "cell_index": 15
      }
     ]
    },
    "f6d98565-fc0b-4955-8f8f-455b1a7b0f32": {
     "views": [
      {
       "cell_index": 25
      }
     ]
    },
    "fb86cf56-73d6-4665-8b22-a002236fc117": {
     "views": [
      {
       "cell_index": 16
      }
     ]
    }
   },
   "version": "1.2.0"
  }
 },
 "nbformat": 4,
 "nbformat_minor": 2
}
