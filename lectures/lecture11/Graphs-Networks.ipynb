{
 "cells": [
  {
   "cell_type": "markdown",
   "metadata": {},
   "source": [
    "# Graphs and Networks in Linear Algebra\n",
    "\n",
    "This notebook is based on section 10.1 of Strang's *Linear Algebra* textbook.\n",
    "\n",
    "One interesting source of large matrices in linear algebra is a [graph](https://en.wikipedia.org/wiki/Graph_(discrete_mathematics), a collection of *nodes* (vertices) and *edges* (arrows from one vertex to another).   Graphs are used in many applications to represent *relationships* and *connectivity*, such as:\n",
    "\n",
    "* For computer networks, nodes could represent web pages, and edges could represent links.\n",
    "* For circuits, edges could represent wires (or resistors) and nodes junctions.\n",
    "* For transportation, nodes could represent cities and edges roads.\n",
    "* In bioinformatics, graphs can represent gene regulatory networks.\n",
    "* In sociology, nodes could represent people and edges relationships.\n",
    "* ... and many, many other applications ...\n",
    "\n",
    "In this notebook, we explain how a graph can be represented by a *matrix*, and how linear algebra can tell us properties of the graph and can help us do computations on graph-based problems.  There is a particularly beautiful connection to Kirchhoff's laws of circuit theory."
   ]
  },
  {
   "cell_type": "markdown",
   "metadata": {},
   "source": [
    "## Packages for this notebook\n",
    "\n",
    "To run the code in this notebook, you'll need to install a few Julia packages used below.  To do so, uncomment the following line and run it:"
   ]
  },
  {
   "cell_type": "code",
   "execution_count": 1,
   "metadata": {
    "collapsed": true
   },
   "outputs": [],
   "source": [
    "# Pkg.add.([\"GraphViz\", \"RowEchelon\", \"Interact\", \"SymPy\"])"
   ]
  },
  {
   "cell_type": "markdown",
   "metadata": {},
   "source": [
    "...and then run this cell to import the packages:"
   ]
  },
  {
   "cell_type": "code",
   "execution_count": 2,
   "metadata": {
    "collapsed": false
   },
   "outputs": [
    {
     "data": {
      "text/html": [
       "<div id=\"interact-js-shim\">\n",
       "    <script charset=\"utf-8\">\n",
       "(function (IPython, $, _, MathJax) {\n",
       "    $.event.special.destroyed = {\n",
       "\tremove: function(o) {\n",
       "\t    if (o.handler) {\n",
       "\t\to.handler.apply(this, arguments)\n",
       "\t    }\n",
       "\t}\n",
       "    }\n",
       "\n",
       "    var OutputArea = IPython.version >= \"4.0.0\" ? require(\"notebook/js/outputarea\").OutputArea : IPython.OutputArea;\n",
       "\n",
       "    var redrawValue = function (container, type, val) {\n",
       "\tvar selector = $(\"<div/>\");\n",
       "\tvar oa = new OutputArea(_.extend(selector, {\n",
       "\t    selector: selector,\n",
       "\t    prompt_area: true,\n",
       "\t    events: IPython.events,\n",
       "\t    keyboard_manager: IPython.keyboard_manager\n",
       "\t})); // Hack to work with IPython 2.1.0\n",
       "\n",
       "\tswitch (type) {\n",
       "\tcase \"image/png\":\n",
       "            var _src = 'data:' + type + ';base64,' + val;\n",
       "\t    $(container).find(\"img\").attr('src', _src);\n",
       "\t    break;\n",
       "\tcase \"text/latex\":\n",
       "\t\tif (MathJax){\n",
       "\t\t\tvar math = MathJax.Hub.getAllJax(container)[0];\n",
       "\t\t\tMathJax.Hub.Queue([\"Text\", math, val.replace(/^\\${1,2}|\\${1,2}$/g, '')]);\n",
       "\t\t\tbreak;\n",
       "\t\t}\n",
       "\tdefault:\n",
       "\t    var toinsert = OutputArea.append_map[type].apply(\n",
       "\t\toa, [val, {}, selector]\n",
       "\t    );\n",
       "\t    $(container).empty().append(toinsert.contents());\n",
       "\t    selector.remove();\n",
       "\t}\n",
       "    }\n",
       "\n",
       "\n",
       "    $(document).ready(function() {\n",
       "\tfunction initComm(evt, data) {\n",
       "\t    var comm_manager = data.kernel.comm_manager;\n",
       "        //_.extend(comm_manager.targets, require(\"widgets/js/widget\"))\n",
       "\t    comm_manager.register_target(\"Signal\", function (comm) {\n",
       "            comm.on_msg(function (msg) {\n",
       "                var val = msg.content.data.value;\n",
       "                $(\".signal-\" + comm.comm_id).each(function() {\n",
       "                var type = $(this).data(\"type\");\n",
       "                if (typeof(val[type]) !== \"undefined\" && val[type] !== null) {\n",
       "                    redrawValue(this, type, val[type], type);\n",
       "                }\n",
       "                });\n",
       "                delete val;\n",
       "                delete msg.content.data.value;\n",
       "            });\n",
       "\t    });\n",
       "\n",
       "\t    // coordingate with Comm and redraw Signals\n",
       "\t    // XXX: Test using Reactive here to improve performance\n",
       "\t    $([IPython.events]).on(\n",
       "\t\t'output_appended.OutputArea', function (event, type, value, md, toinsert) {\n",
       "\t\t    if (md && md.reactive) {\n",
       "                // console.log(md.comm_id);\n",
       "                toinsert.addClass(\"signal-\" + md.comm_id);\n",
       "                toinsert.data(\"type\", type);\n",
       "                // Signal back indicating the mimetype required\n",
       "                var comm_manager = IPython.notebook.kernel.comm_manager;\n",
       "                var comm = comm_manager.comms[md.comm_id];\n",
       "                comm.then(function (c) {\n",
       "                    c.send({action: \"subscribe_mime\",\n",
       "                       mime: type});\n",
       "                    toinsert.bind(\"destroyed\", function() {\n",
       "                        c.send({action: \"unsubscribe_mime\",\n",
       "                               mime: type});\n",
       "                    });\n",
       "                })\n",
       "\t\t    }\n",
       "\t    });\n",
       "\t}\n",
       "\n",
       "\ttry {\n",
       "\t    // try to initialize right away. otherwise, wait on the status_started event.\n",
       "\t    initComm(undefined, IPython.notebook);\n",
       "\t} catch (e) {\n",
       "\t    $([IPython.events]).on('kernel_created.Kernel kernel_created.Session', initComm);\n",
       "\t}\n",
       "    });\n",
       "})(IPython, jQuery, _, MathJax);\n",
       "</script>\n",
       "    <script>\n",
       "        window.interactLoadedFlag = true\n",
       "       $(\"#interact-js-shim\").bind(\"destroyed\", function () {\n",
       "           if (window.interactLoadedFlag) {\n",
       "               console.warn(\"JavaScript required by Interact will be removed if you remove this cell or run using Interact more than once.\")\n",
       "           }\n",
       "       })\n",
       "       $([IPython.events]).on(\"kernel_starting.Kernel kernel_restarting.Kernel\", function () { window.interactLoadedFlag = false })\n",
       "   </script>\n",
       "</div>"
      ]
     },
     "metadata": {},
     "output_type": "display_data"
    }
   ],
   "source": [
    "using Interact, RowEchelon, Compat\n",
    "import GraphViz\n",
    "import SymPy.Sym"
   ]
  },
  {
   "cell_type": "markdown",
   "metadata": {},
   "source": [
    "## Julia Graph-visualization code\n",
    "\n",
    "There are several Julia packages for manipulating graphs, e.g. [LightGraphs](https://github.com/JuliaGraphs/LightGraphs.jl), along with several packages for visualizing graphs, e.g. [GraphViz](https://github.com/Keno/GraphViz.jl).  LightGraphs is oriented towards fast and sophisticated graph computations, however, and here I just want to do some simple and pretty visualizations with simple algorithms based on those in Strang's 18.06 textbook.\n",
    "\n",
    "So, here I define a simple `DiGraph` datastructure for directed graphs, oriented towards visualization via the GraphViz package (allowing me to control colors and other properties easily).   18.06 students can skip over all of this code directly to the results."
   ]
  },
  {
   "cell_type": "code",
   "execution_count": 3,
   "metadata": {
    "collapsed": false
   },
   "outputs": [
    {
     "data": {
      "text/plain": [
       "labels (generic function with 1 method)"
      ]
     },
     "execution_count": 3,
     "metadata": {},
     "output_type": "execute_result"
    }
   ],
   "source": [
    "# A very simple data structure representing a directed graph, with the ability to\n",
    "# label and color the nodes and edges as needed.\n",
    "const Properties = Dict{Symbol,Any}\n",
    "immutable DiNode\n",
    "    label::Any\n",
    "    props::Properties\n",
    "    DiNode(label, props::Properties) = new(label, props)\n",
    "    DiNode(label, props::Pair{Symbol}...) = DiNode(label, Properties(props...))\n",
    "end\n",
    "Base.copy(n::DiNode) = DiNode(n.label, copy(n.props))\n",
    "immutable DiEdge\n",
    "    e::Pair{Int,Int}\n",
    "    props::Properties\n",
    "    DiEdge(e, props::Properties) = new(e, props)\n",
    "    DiEdge(e, props::Pair{Symbol}...) = DiEdge(e, Properties(props...))\n",
    "end\n",
    "Base.copy(e::DiEdge) = DiEdge(e.e, copy(e.props))\n",
    "type DiGraph\n",
    "    nodes::Vector{DiNode}\n",
    "    edges::Vector{DiEdge}\n",
    "    props::Properties # properties of the whole graph\n",
    "    function DiGraph(nodes::Vector{DiNode}, edges::Vector{DiEdge}, props::Properties)\n",
    "        n = length(nodes)\n",
    "        all(e -> minimum(e.e) ≥ 1 && maximum(e.e) ≤ n, edges) || throw(ArgumentError(\"edge refers to nonexistent node\"))\n",
    "        new(nodes, edges, props)\n",
    "    end\n",
    "    DiGraph(nodes::Vector{DiNode}, edges::Vector{DiEdge}, props::Pair{Symbol}...) =\n",
    "        DiGraph(nodes, edges, Properties(props...))\n",
    "end\n",
    "function DiGraph(numnodes::Integer, edges::Pair{Int,Int}...)\n",
    "    n = Int(numnodes)\n",
    "    m = length(edges)\n",
    "    DiGraph([DiNode(i) for i=1:n], [DiEdge(edges[j], :label=>j) for j=1:m])\n",
    "end\n",
    "DiGraph(edges::Pair{Int,Int}...) = DiGraph(maximum(e -> maximum(e), edges), edges...)\n",
    "Base.copy(g::DiGraph) = DiGraph(copy.(g.nodes), copy.(g.edges), copy(g.props))\n",
    "function nodecolors!(g::DiGraph, nodes::AbstractVector{Int}, color::String=\"red\")\n",
    "    for n in nodes\n",
    "        g.nodes[n].props[:color] = color\n",
    "        g.nodes[n].props[:fontcolor] = color\n",
    "    end\n",
    "    g\n",
    "end\n",
    "nodecolors(g::DiGraph, nodes::AbstractVector{Int}, color::String=\"red\") = nodecolors!(copy(g), nodes, color)\n",
    "function edgecolors!(g::DiGraph, edges::AbstractVector{Int}, color::String=\"red\")\n",
    "    for e in edges\n",
    "        g.edges[e].props[:color] = color\n",
    "        g.edges[e].props[:fontcolor] = color\n",
    "    end\n",
    "    g\n",
    "end\n",
    "edgecolors(g::DiGraph, edges::AbstractVector{Int}, color::String=\"red\") = edgecolors!(copy(g), edges, color)\n",
    "function edgelen!(g::DiGraph, len::Real=1)\n",
    "    for e in g.edges\n",
    "        e.props[:len] = len\n",
    "    end\n",
    "    g\n",
    "end\n",
    "function labels!(g::DiGraph; edges=nothing, nodes=nothing)\n",
    "    if edges !== nothing\n",
    "        for (e,E) in zip(g.edges, edges)\n",
    "            e.props[:label] = E\n",
    "        end\n",
    "    end\n",
    "    if nodes !== nothing\n",
    "        for (n,N) in zip(g.nodes, nodes)\n",
    "            n.props[:label] = N\n",
    "        end\n",
    "    end\n",
    "    g\n",
    "end\n",
    "labels(g::DiGraph; kws...) = labels!(copy(g); kws...)"
   ]
  },
  {
   "cell_type": "code",
   "execution_count": 4,
   "metadata": {
    "collapsed": false
   },
   "outputs": [
    {
     "data": {
      "text/plain": [
       "DOTstring (generic function with 1 method)"
      ]
     },
     "execution_count": 4,
     "metadata": {},
     "output_type": "execute_result"
    }
   ],
   "source": [
    "# visualization of DiGraph via GraphViz\n",
    "function showprop(io, x::String)\n",
    "    print(io, '\"')\n",
    "    escape_string(io, x, \"\")\n",
    "    print(io, '\"')\n",
    "end\n",
    "showprop(io, x::Number) = print(io, x)\n",
    "showprop(io, x) = showprop(io, string(x))\n",
    "GraphViz.Graph(g::DiGraph) = GraphViz.Graph(DOTstring(g))\n",
    "Base.show(io::IO, m::MIME\"image/svg+xml\", g::DiGraph) = show(io, m, GraphViz.Graph(g))\n",
    "\n",
    "# convert g to a string in DOT format for use with GraphViz\n",
    "function DOTstring(g::DiGraph)\n",
    "    buf = IOBuffer()\n",
    "    println(buf, \"digraph MyDiGraph {\")\n",
    "    for (i,n) in enumerate(g.nodes)\n",
    "        print(buf, \"  \", i, \" [label=\")\n",
    "        showprop(buf, n.label)\n",
    "        for (p,v) in n.props\n",
    "            print(buf, ' ', p, '=')\n",
    "            showprop(buf, v)\n",
    "        end\n",
    "        print(buf, \"]\\n\")\n",
    "    end\n",
    "    for (j,e) in enumerate(g.edges)\n",
    "        print(buf, \"  \", e.e.first, \" -> \", e.e.second, \" [\")\n",
    "        for (p,v) in e.props\n",
    "            print(buf, ' ', p, '=')\n",
    "            showprop(buf, v)\n",
    "        end\n",
    "        print(buf, \"]\\n\")\n",
    "    end\n",
    "    println(buf, \"}\")\n",
    "    String(take!(buf))\n",
    "end"
   ]
  },
  {
   "cell_type": "code",
   "execution_count": 5,
   "metadata": {
    "collapsed": false
   },
   "outputs": [
    {
     "data": {
      "text/plain": [
       "randgraph (generic function with 1 method)"
      ]
     },
     "execution_count": 5,
     "metadata": {},
     "output_type": "execute_result"
    }
   ],
   "source": [
    "# generate a random graph with a given average #edges per node\n",
    "function randgraph(numnodes::Integer, edgespernode::Real)\n",
    "    p = edgespernode/numnodes # probability of each edge\n",
    "    e = Vector{Pair{Int,Int}}()\n",
    "    for i = 1:numnodes, j = 1:numnodes\n",
    "        if i != j && rand() < p\n",
    "            push!(e, i=>j)\n",
    "        end\n",
    "    end\n",
    "    return DiGraph(numnodes, e...)\n",
    "end"
   ]
  },
  {
   "cell_type": "code",
   "execution_count": 6,
   "metadata": {
    "collapsed": false
   },
   "outputs": [
    {
     "data": {
      "text/plain": [
       "incidence (generic function with 1 method)"
      ]
     },
     "execution_count": 6,
     "metadata": {},
     "output_type": "execute_result"
    }
   ],
   "source": [
    "# returns the incidence matrix for g\n",
    "function incidence(g::DiGraph)\n",
    "    A = zeros(Int, length(g.edges), length(g.nodes))\n",
    "    for (i,e) in enumerate(g.edges)\n",
    "        A[i,e.e.first] = -1\n",
    "        A[i,e.e.second] = 1\n",
    "    end\n",
    "    return A\n",
    "end"
   ]
  },
  {
   "cell_type": "code",
   "execution_count": 7,
   "metadata": {
    "collapsed": false
   },
   "outputs": [
    {
     "data": {
      "text/plain": [
       "leftnullspace (generic function with 1 method)"
      ]
     },
     "execution_count": 7,
     "metadata": {},
     "output_type": "execute_result"
    }
   ],
   "source": [
    "# Find the loops in g by the simplest \"textbook\" manner:\n",
    "# get a basis for the left nullspace incidence matrix.\n",
    "# We do this via the rref form, rather than nullspace(A'), because\n",
    "# we want a \"nice\" basis of ±1 and 0 entries.\n",
    "function leftnullspace(g::DiGraph)\n",
    "    A = incidence(g)\n",
    "    R = rref(A')\n",
    "    m, n = size(R)\n",
    "    pivots = Int[]\n",
    "    for i = 1:m\n",
    "        j = findfirst(R[i,:])\n",
    "        j > 0 && push!(pivots, j)\n",
    "    end\n",
    "    r = length(pivots) # rank\n",
    "    free = Int[j for j=1:n if j ∉ pivots]\n",
    "    N = zeros(Int, n, n-r)\n",
    "    k = 0\n",
    "    for (k,j) in enumerate(free)\n",
    "        N[pivots, k] = -R[1:r, j]\n",
    "        N[j, k] = 1\n",
    "    end\n",
    "    return N\n",
    "end"
   ]
  },
  {
   "cell_type": "code",
   "execution_count": 8,
   "metadata": {
    "collapsed": false
   },
   "outputs": [
    {
     "data": {
      "text/plain": [
       "tree (generic function with 1 method)"
      ]
     },
     "execution_count": 8,
     "metadata": {},
     "output_type": "execute_result"
    }
   ],
   "source": [
    "# color the edges of a spanning tree of g, by the textbook\n",
    "# method of finding the pivot rows of the incidence matrix\n",
    "function pivotrows(g::DiGraph)\n",
    "    A = incidence(g)\n",
    "    R = rref(A')\n",
    "    m, n = size(R)\n",
    "    pivots = Int[]\n",
    "    for i = 1:m\n",
    "        j = findfirst(R[i,:])\n",
    "        j > 0 && push!(pivots, j)\n",
    "    end\n",
    "    return pivots\n",
    "end\n",
    "colortree(g::DiGraph, color::String=\"red\") = edgecolors(g, pivotrows(g), color)\n",
    "tree(g::DiGraph) = DiGraph(copy.(g.nodes), g.edges[pivotrows(g)], copy(g.props))"
   ]
  },
  {
   "cell_type": "markdown",
   "metadata": {},
   "source": [
    "## Graphs and incidence matrices\n",
    "\n",
    "Let's start by looking at an example graph with 6 nodes 8 edges.  Computers are pretty good at drawing graphs for us:"
   ]
  },
  {
   "cell_type": "code",
   "execution_count": 9,
   "metadata": {
    "collapsed": false
   },
   "outputs": [
    {
     "data": {
      "image/svg+xml": [
       "<?xml version=\"1.0\" encoding=\"UTF-8\" standalone=\"no\"?>\n",
       "<!DOCTYPE svg PUBLIC \"-//W3C//DTD SVG 1.1//EN\"\n",
       " \"http://www.w3.org/Graphics/SVG/1.1/DTD/svg11.dtd\">\n",
       "<!-- Generated by graphviz version 2.40.1 (20161225.0304)\n",
       " -->\n",
       "<!-- Title: MyDiGraph Pages: 1 -->\n",
       "<svg width=\"259pt\" height=\"257pt\"\n",
       " viewBox=\"0.00 0.00 258.52 256.56\" xmlns=\"http://www.w3.org/2000/svg\" xmlns:xlink=\"http://www.w3.org/1999/xlink\">\n",
       "<g id=\"graph0\" class=\"graph\" transform=\"scale(1 1) rotate(0) translate(4 252.5612)\">\n",
       "<title>MyDiGraph</title>\n",
       "<polygon fill=\"#ffffff\" stroke=\"transparent\" points=\"-4,4 -4,-252.5612 254.5182,-252.5612 254.5182,4 -4,4\"/>\n",
       "<!-- 1 -->\n",
       "<g id=\"node1\" class=\"node\">\n",
       "<title>1</title>\n",
       "<ellipse fill=\"none\" stroke=\"#000000\" cx=\"27\" cy=\"-140.9451\" rx=\"27\" ry=\"18\"/>\n",
       "<text text-anchor=\"middle\" x=\"27\" y=\"-136.7451\" font-family=\"Times,serif\" font-size=\"14.00\" fill=\"#000000\">1</text>\n",
       "</g>\n",
       "<!-- 4 -->\n",
       "<g id=\"node4\" class=\"node\">\n",
       "<title>4</title>\n",
       "<ellipse fill=\"none\" stroke=\"#000000\" cx=\"116.8883\" cy=\"-215.532\" rx=\"27\" ry=\"18\"/>\n",
       "<text text-anchor=\"middle\" x=\"116.8883\" y=\"-211.332\" font-family=\"Times,serif\" font-size=\"14.00\" fill=\"#000000\">4</text>\n",
       "</g>\n",
       "<!-- 1&#45;&gt;4 -->\n",
       "<g id=\"edge1\" class=\"edge\">\n",
       "<title>1&#45;&gt;4</title>\n",
       "<path fill=\"none\" stroke=\"#000000\" d=\"M44.3314,-155.3262C57.8476,-166.5416 76.8036,-182.2708 91.9506,-194.8393\"/>\n",
       "<polygon fill=\"#000000\" stroke=\"#000000\" points=\"89.9843,-197.7558 99.915,-201.448 94.4543,-192.3688 89.9843,-197.7558\"/>\n",
       "<text text-anchor=\"middle\" x=\"64.641\" y=\"-177.8828\" font-family=\"Times,serif\" font-size=\"14.00\" fill=\"#000000\">1</text>\n",
       "</g>\n",
       "<!-- 2 -->\n",
       "<g id=\"node2\" class=\"node\">\n",
       "<title>2</title>\n",
       "<ellipse fill=\"none\" stroke=\"#000000\" cx=\"102.2914\" cy=\"-51.6524\" rx=\"27\" ry=\"18\"/>\n",
       "<text text-anchor=\"middle\" x=\"102.2914\" y=\"-47.4524\" font-family=\"Times,serif\" font-size=\"14.00\" fill=\"#000000\">2</text>\n",
       "</g>\n",
       "<!-- 2&#45;&gt;1 -->\n",
       "<g id=\"edge6\" class=\"edge\">\n",
       "<title>2&#45;&gt;1</title>\n",
       "<path fill=\"none\" stroke=\"#000000\" d=\"M88.8308,-67.6162C77.1606,-81.4566 60.1129,-101.6744 46.8723,-117.3772\"/>\n",
       "<polygon fill=\"#000000\" stroke=\"#000000\" points=\"44.1146,-115.2183 40.3441,-125.1195 49.4661,-119.7307 44.1146,-115.2183\"/>\n",
       "<text text-anchor=\"middle\" x=\"64.3516\" y=\"-95.2967\" font-family=\"Times,serif\" font-size=\"14.00\" fill=\"#000000\">6</text>\n",
       "</g>\n",
       "<!-- 6 -->\n",
       "<g id=\"node6\" class=\"node\">\n",
       "<title>6</title>\n",
       "<ellipse fill=\"none\" stroke=\"#000000\" cx=\"192.6702\" cy=\"-126.1901\" rx=\"27\" ry=\"18\"/>\n",
       "<text text-anchor=\"middle\" x=\"192.6702\" y=\"-121.9901\" font-family=\"Times,serif\" font-size=\"14.00\" fill=\"#000000\">6</text>\n",
       "</g>\n",
       "<!-- 2&#45;&gt;6 -->\n",
       "<g id=\"edge7\" class=\"edge\">\n",
       "<title>2&#45;&gt;6</title>\n",
       "<path fill=\"none\" stroke=\"#000000\" d=\"M119.2909,-65.6724C132.8382,-76.8452 152.0133,-92.6594 167.3645,-105.3199\"/>\n",
       "<polygon fill=\"#000000\" stroke=\"#000000\" points=\"165.4978,-108.3172 175.4396,-111.9796 169.9517,-102.9168 165.4978,-108.3172\"/>\n",
       "<text text-anchor=\"middle\" x=\"139.8277\" y=\"-88.2962\" font-family=\"Times,serif\" font-size=\"14.00\" fill=\"#000000\">7</text>\n",
       "</g>\n",
       "<!-- 3 -->\n",
       "<g id=\"node3\" class=\"node\">\n",
       "<title>3</title>\n",
       "<ellipse fill=\"none\" stroke=\"#000000\" cx=\"204.5704\" cy=\"-18\" rx=\"27\" ry=\"18\"/>\n",
       "<text text-anchor=\"middle\" x=\"204.5704\" y=\"-13.8\" font-family=\"Times,serif\" font-size=\"14.00\" fill=\"#000000\">3</text>\n",
       "</g>\n",
       "<!-- 3&#45;&gt;2 -->\n",
       "<g id=\"edge5\" class=\"edge\">\n",
       "<title>3&#45;&gt;2</title>\n",
       "<path fill=\"none\" stroke=\"#000000\" d=\"M180.3317,-25.9752C167.1806,-30.3022 150.7115,-35.721 136.2962,-40.464\"/>\n",
       "<polygon fill=\"#000000\" stroke=\"#000000\" points=\"135.1157,-37.1677 126.7105,-43.6179 137.3035,-43.8171 135.1157,-37.1677\"/>\n",
       "<text text-anchor=\"middle\" x=\"154.814\" y=\"-36.0196\" font-family=\"Times,serif\" font-size=\"14.00\" fill=\"#000000\">5</text>\n",
       "</g>\n",
       "<!-- 5 -->\n",
       "<g id=\"node5\" class=\"node\">\n",
       "<title>5</title>\n",
       "<ellipse fill=\"none\" stroke=\"#000000\" cx=\"223.5182\" cy=\"-230.5612\" rx=\"27\" ry=\"18\"/>\n",
       "<text text-anchor=\"middle\" x=\"223.5182\" y=\"-226.3612\" font-family=\"Times,serif\" font-size=\"14.00\" fill=\"#000000\">5</text>\n",
       "</g>\n",
       "<!-- 4&#45;&gt;5 -->\n",
       "<g id=\"edge2\" class=\"edge\">\n",
       "<title>4&#45;&gt;5</title>\n",
       "<path fill=\"none\" stroke=\"#000000\" d=\"M143.5205,-219.2857C156.6248,-221.1327 172.6268,-223.3882 186.8659,-225.3951\"/>\n",
       "<polygon fill=\"#000000\" stroke=\"#000000\" points=\"186.4654,-228.8732 196.856,-226.8032 187.4424,-221.9417 186.4654,-228.8732\"/>\n",
       "<text text-anchor=\"middle\" x=\"161.6932\" y=\"-225.1404\" font-family=\"Times,serif\" font-size=\"14.00\" fill=\"#000000\">2</text>\n",
       "</g>\n",
       "<!-- 4&#45;&gt;6 -->\n",
       "<g id=\"edge8\" class=\"edge\">\n",
       "<title>4&#45;&gt;6</title>\n",
       "<path fill=\"none\" stroke=\"#000000\" d=\"M130.4366,-199.5595C142.1828,-185.7114 159.3415,-165.4824 172.6684,-149.771\"/>\n",
       "<polygon fill=\"#000000\" stroke=\"#000000\" points=\"175.4397,-151.9145 179.2392,-142.0244 170.1014,-147.3865 175.4397,-151.9145\"/>\n",
       "<text text-anchor=\"middle\" x=\"148.0525\" y=\"-177.4652\" font-family=\"Times,serif\" font-size=\"14.00\" fill=\"#000000\">8</text>\n",
       "</g>\n",
       "<!-- 5&#45;&gt;6 -->\n",
       "<g id=\"edge3\" class=\"edge\">\n",
       "<title>5&#45;&gt;6</title>\n",
       "<path fill=\"none\" stroke=\"#000000\" d=\"M218.2853,-212.856C213.499,-196.6623 206.343,-172.4508 200.8102,-153.7311\"/>\n",
       "<polygon fill=\"#000000\" stroke=\"#000000\" points=\"204.1197,-152.58 197.9288,-143.9821 197.4068,-154.5641 204.1197,-152.58\"/>\n",
       "<text text-anchor=\"middle\" x=\"206.0477\" y=\"-186.0936\" font-family=\"Times,serif\" font-size=\"14.00\" fill=\"#000000\">3</text>\n",
       "</g>\n",
       "<!-- 6&#45;&gt;3 -->\n",
       "<g id=\"edge4\" class=\"edge\">\n",
       "<title>6&#45;&gt;3</title>\n",
       "<path fill=\"none\" stroke=\"#000000\" d=\"M194.6889,-107.8372C196.5465,-90.9492 199.3293,-65.6489 201.469,-46.1966\"/>\n",
       "<polygon fill=\"#000000\" stroke=\"#000000\" points=\"204.9671,-46.4047 202.5815,-36.0819 198.009,-45.6393 204.9671,-46.4047\"/>\n",
       "<text text-anchor=\"middle\" x=\"194.5789\" y=\"-79.8169\" font-family=\"Times,serif\" font-size=\"14.00\" fill=\"#000000\">4</text>\n",
       "</g>\n",
       "</g>\n",
       "</svg>\n"
      ],
      "text/plain": [
       "DiGraph(DiNode[DiNode(1,Dict{Symbol,Any}()),DiNode(2,Dict{Symbol,Any}()),DiNode(3,Dict{Symbol,Any}()),DiNode(4,Dict{Symbol,Any}()),DiNode(5,Dict{Symbol,Any}()),DiNode(6,Dict{Symbol,Any}())],DiEdge[DiEdge(1=>4,Dict{Symbol,Any}(Pair{Symbol,Any}(:label,1),Pair{Symbol,Any}(:len,1.5))),DiEdge(4=>5,Dict{Symbol,Any}(Pair{Symbol,Any}(:label,2),Pair{Symbol,Any}(:len,1.5))),DiEdge(5=>6,Dict{Symbol,Any}(Pair{Symbol,Any}(:label,3),Pair{Symbol,Any}(:len,1.5))),DiEdge(6=>3,Dict{Symbol,Any}(Pair{Symbol,Any}(:label,4),Pair{Symbol,Any}(:len,1.5))),DiEdge(3=>2,Dict{Symbol,Any}(Pair{Symbol,Any}(:label,5),Pair{Symbol,Any}(:len,1.5))),DiEdge(2=>1,Dict{Symbol,Any}(Pair{Symbol,Any}(:label,6),Pair{Symbol,Any}(:len,1.5))),DiEdge(2=>6,Dict{Symbol,Any}(Pair{Symbol,Any}(:label,7),Pair{Symbol,Any}(:len,1.5))),DiEdge(4=>6,Dict{Symbol,Any}(Pair{Symbol,Any}(:label,8),Pair{Symbol,Any}(:len,1.5)))],Dict{Symbol,Any}())"
      ]
     },
     "execution_count": 9,
     "metadata": {},
     "output_type": "execute_result"
    }
   ],
   "source": [
    "g = edgelen!(DiGraph(1=>4, 4=>5, 5=>6, 6=>3, 3=>2, 2=>1, 2=>6, 4=>6), 1.5)"
   ]
  },
  {
   "cell_type": "markdown",
   "metadata": {},
   "source": [
    "A key way to represent a graph in linear algebra is the [incidence matrix](https://en.wikipedia.org/wiki/Incidence_matrix).  As defined in Strang's textbook, this is a matrix where the **rows correspond to edges** and the **columns correspond to nodes**.  (Some authors use the transpose of this instead.)\n",
    "\n",
    "In particular, in the row for each edge going **from node N to node M**, there is a **-1 in column N** and a **+1 in column N**.\n",
    "\n",
    "For example, the incidence matrix of the graph above is:"
   ]
  },
  {
   "cell_type": "code",
   "execution_count": 10,
   "metadata": {
    "collapsed": false
   },
   "outputs": [
    {
     "data": {
      "text/plain": [
       "8×6 Array{Int64,2}:\n",
       " -1   0   0   1   0   0\n",
       "  0   0   0  -1   1   0\n",
       "  0   0   0   0  -1   1\n",
       "  0   0   1   0   0  -1\n",
       "  0   1  -1   0   0   0\n",
       "  1  -1   0   0   0   0\n",
       "  0  -1   0   0   0   1\n",
       "  0   0   0  -1   0   1"
      ]
     },
     "execution_count": 10,
     "metadata": {},
     "output_type": "execute_result"
    }
   ],
   "source": [
    "A = incidence(g)"
   ]
  },
  {
   "cell_type": "markdown",
   "metadata": {},
   "source": [
    "There is an interesting structure if you think about *loops* in the graph.  For example, in the graph above there is a loop among nodes 6, 3, 2, via edges 4,5,7.  Let's look at the rows of $A$ corresponding to those edges:"
   ]
  },
  {
   "cell_type": "code",
   "execution_count": 11,
   "metadata": {
    "collapsed": false
   },
   "outputs": [
    {
     "data": {
      "text/plain": [
       "3×6 Array{Int64,2}:\n",
       " 0   0   1  0  0  -1\n",
       " 0   1  -1  0  0   0\n",
       " 0  -1   0  0  0   1"
      ]
     },
     "execution_count": 11,
     "metadata": {},
     "output_type": "execute_result"
    }
   ],
   "source": [
    "A[[4,5,7],:]"
   ]
  },
  {
   "cell_type": "markdown",
   "metadata": {},
   "source": [
    "If we **add these rows** we get **zero**:"
   ]
  },
  {
   "cell_type": "code",
   "execution_count": 12,
   "metadata": {
    "collapsed": false
   },
   "outputs": [
    {
     "data": {
      "text/plain": [
       "1×6 Array{Int64,2}:\n",
       " 0  0  0  0  0  0"
      ]
     },
     "execution_count": 12,
     "metadata": {},
     "output_type": "execute_result"
    }
   ],
   "source": [
    "A[4,:]' + A[5,:]' + A[7,:]'"
   ]
  },
  {
   "cell_type": "markdown",
   "metadata": {},
   "source": [
    "In general, it is easy to see that **any loop in the graph** corresponds to **dependent rows**: if we sum the rows going around the loop (with a minus sign for arrows in the wrong direction), we get zero.\n",
    "\n",
    "The reason is simple: we get a -1 in a column when we *leave* a node, and a +1 in the column when we *enter* a node.  When we go around the loop, we leave and enter each node, so the sum is zero.\n",
    "\n",
    "But dependent rows correspond to **elements of the left nullspace**:"
   ]
  },
  {
   "cell_type": "code",
   "execution_count": 13,
   "metadata": {
    "collapsed": false
   },
   "outputs": [
    {
     "data": {
      "text/plain": [
       "1×6 Array{Int64,2}:\n",
       " 0  0  0  0  0  0"
      ]
     },
     "execution_count": 13,
     "metadata": {},
     "output_type": "execute_result"
    }
   ],
   "source": [
    "[0 0 0 1 1 0 1 0] * A"
   ]
  },
  {
   "cell_type": "markdown",
   "metadata": {},
   "source": [
    "That means that the number of \"independent\" (primitive) loops in a graph is related to the **rank** of the incidence matrix, and the **independent rows of A have no loops**.\n",
    "\n",
    "Let's look at the row-reduced echelon (rref) form of $A^T$:"
   ]
  },
  {
   "cell_type": "code",
   "execution_count": 14,
   "metadata": {
    "collapsed": false
   },
   "outputs": [
    {
     "data": {
      "text/plain": [
       "6×8 Array{Int64,2}:\n",
       " 1  0  0  0  0  -1   0  0\n",
       " 0  1  0  0  0  -1   0  1\n",
       " 0  0  1  0  0  -1   0  1\n",
       " 0  0  0  1  0  -1  -1  0\n",
       " 0  0  0  0  1  -1  -1  0\n",
       " 0  0  0  0  0   0   0  0"
      ]
     },
     "execution_count": 14,
     "metadata": {},
     "output_type": "execute_result"
    }
   ],
   "source": [
    "Matrix{Int}(rref(A'))"
   ]
  },
  {
   "cell_type": "markdown",
   "metadata": {},
   "source": [
    "We can see that the rank of $A$ is 5:"
   ]
  },
  {
   "cell_type": "code",
   "execution_count": 15,
   "metadata": {
    "collapsed": false
   },
   "outputs": [
    {
     "data": {
      "text/plain": [
       "5"
      ]
     },
     "execution_count": 15,
     "metadata": {},
     "output_type": "execute_result"
    }
   ],
   "source": [
    "rank(A)"
   ]
  },
  {
   "cell_type": "markdown",
   "metadata": {},
   "source": [
    "This means that there are **five loop-free (independent) edges**, and there are **three** (8 - 5) primitive loops.  Using the rref form of $A^T$, we can read off a basis for the left nullspace from the free columns (6,7,8):"
   ]
  },
  {
   "cell_type": "code",
   "execution_count": 16,
   "metadata": {
    "collapsed": false
   },
   "outputs": [
    {
     "data": {
      "text/plain": [
       "8×3 Array{Int64,2}:\n",
       " 1  0   0\n",
       " 1  0  -1\n",
       " 1  0  -1\n",
       " 1  1   0\n",
       " 1  1   0\n",
       " 1  0   0\n",
       " 0  1   0\n",
       " 0  0   1"
      ]
     },
     "execution_count": 16,
     "metadata": {},
     "output_type": "execute_result"
    }
   ],
   "source": [
    "N = leftnullspace(g)"
   ]
  },
  {
   "cell_type": "markdown",
   "metadata": {},
   "source": [
    "Let's visualize these loops by plotting the edges in a different color (red) one by one,\n",
    "with help from the Interact package to give us an interactive widget:"
   ]
  },
  {
   "cell_type": "code",
   "execution_count": 17,
   "metadata": {
    "collapsed": false
   },
   "outputs": [
    {
     "data": {
      "text/plain": [
       "animloops (generic function with 1 method)"
      ]
     },
     "execution_count": 17,
     "metadata": {},
     "output_type": "execute_result"
    }
   ],
   "source": [
    "colorloop(g::DiGraph, n::Vector) = edgecolors!(edgecolors(g, find(n .> 0), \"red\"), find(n .< 0), \"blue\")\n",
    "function animloops(g::DiGraph)\n",
    "    L = leftnullspace(g)\n",
    "    @manipulate for loop in 1:size(L,2)\n",
    "        colorloop(g, L[:,loop])\n",
    "    end\n",
    "end"
   ]
  },
  {
   "cell_type": "code",
   "execution_count": 18,
   "metadata": {
    "collapsed": false
   },
   "outputs": [
    {
     "data": {
      "text/html": [],
      "text/plain": [
       "Interact.Options{:SelectionSlider,Int64}(Signal{Int64}(2, nactions=1),\"loop\",2,\"2\",Interact.OptionDict(DataStructures.OrderedDict(\"1\"=>1,\"2\"=>2,\"3\"=>3),Dict(2=>\"2\",3=>\"3\",1=>\"1\")),Any[],Any[],true,\"horizontal\")"
      ]
     },
     "metadata": {},
     "output_type": "display_data"
    },
    {
     "data": {
      "image/svg+xml": [
       "<?xml version=\"1.0\" encoding=\"UTF-8\" standalone=\"no\"?>\n",
       "<!DOCTYPE svg PUBLIC \"-//W3C//DTD SVG 1.1//EN\"\n",
       " \"http://www.w3.org/Graphics/SVG/1.1/DTD/svg11.dtd\">\n",
       "<!-- Generated by graphviz version 2.40.1 (20161225.0304)\n",
       " -->\n",
       "<!-- Title: MyDiGraph Pages: 1 -->\n",
       "<svg width=\"259pt\" height=\"257pt\"\n",
       " viewBox=\"0.00 0.00 258.52 256.56\" xmlns=\"http://www.w3.org/2000/svg\" xmlns:xlink=\"http://www.w3.org/1999/xlink\">\n",
       "<g id=\"graph0\" class=\"graph\" transform=\"scale(1 1) rotate(0) translate(4 252.5612)\">\n",
       "<title>MyDiGraph</title>\n",
       "<polygon fill=\"#ffffff\" stroke=\"transparent\" points=\"-4,4 -4,-252.5612 254.5182,-252.5612 254.5182,4 -4,4\"/>\n",
       "<!-- 1 -->\n",
       "<g id=\"node1\" class=\"node\">\n",
       "<title>1</title>\n",
       "<ellipse fill=\"none\" stroke=\"#000000\" cx=\"27\" cy=\"-140.9451\" rx=\"27\" ry=\"18\"/>\n",
       "<text text-anchor=\"middle\" x=\"27\" y=\"-136.7451\" font-family=\"Times,serif\" font-size=\"14.00\" fill=\"#000000\">1</text>\n",
       "</g>\n",
       "<!-- 4 -->\n",
       "<g id=\"node4\" class=\"node\">\n",
       "<title>4</title>\n",
       "<ellipse fill=\"none\" stroke=\"#000000\" cx=\"116.8883\" cy=\"-215.532\" rx=\"27\" ry=\"18\"/>\n",
       "<text text-anchor=\"middle\" x=\"116.8883\" y=\"-211.332\" font-family=\"Times,serif\" font-size=\"14.00\" fill=\"#000000\">4</text>\n",
       "</g>\n",
       "<!-- 1&#45;&gt;4 -->\n",
       "<g id=\"edge1\" class=\"edge\">\n",
       "<title>1&#45;&gt;4</title>\n",
       "<path fill=\"none\" stroke=\"#000000\" d=\"M44.3314,-155.3262C57.8476,-166.5416 76.8036,-182.2708 91.9506,-194.8393\"/>\n",
       "<polygon fill=\"#000000\" stroke=\"#000000\" points=\"89.9843,-197.7558 99.915,-201.448 94.4543,-192.3688 89.9843,-197.7558\"/>\n",
       "<text text-anchor=\"middle\" x=\"64.641\" y=\"-177.8828\" font-family=\"Times,serif\" font-size=\"14.00\" fill=\"#000000\">1</text>\n",
       "</g>\n",
       "<!-- 2 -->\n",
       "<g id=\"node2\" class=\"node\">\n",
       "<title>2</title>\n",
       "<ellipse fill=\"none\" stroke=\"#000000\" cx=\"102.2914\" cy=\"-51.6524\" rx=\"27\" ry=\"18\"/>\n",
       "<text text-anchor=\"middle\" x=\"102.2914\" y=\"-47.4524\" font-family=\"Times,serif\" font-size=\"14.00\" fill=\"#000000\">2</text>\n",
       "</g>\n",
       "<!-- 2&#45;&gt;1 -->\n",
       "<g id=\"edge6\" class=\"edge\">\n",
       "<title>2&#45;&gt;1</title>\n",
       "<path fill=\"none\" stroke=\"#000000\" d=\"M88.8308,-67.6162C77.1606,-81.4566 60.1129,-101.6744 46.8723,-117.3772\"/>\n",
       "<polygon fill=\"#000000\" stroke=\"#000000\" points=\"44.1146,-115.2183 40.3441,-125.1195 49.4661,-119.7307 44.1146,-115.2183\"/>\n",
       "<text text-anchor=\"middle\" x=\"64.3516\" y=\"-95.2967\" font-family=\"Times,serif\" font-size=\"14.00\" fill=\"#000000\">6</text>\n",
       "</g>\n",
       "<!-- 6 -->\n",
       "<g id=\"node6\" class=\"node\">\n",
       "<title>6</title>\n",
       "<ellipse fill=\"none\" stroke=\"#000000\" cx=\"192.6702\" cy=\"-126.1901\" rx=\"27\" ry=\"18\"/>\n",
       "<text text-anchor=\"middle\" x=\"192.6702\" y=\"-121.9901\" font-family=\"Times,serif\" font-size=\"14.00\" fill=\"#000000\">6</text>\n",
       "</g>\n",
       "<!-- 2&#45;&gt;6 -->\n",
       "<g id=\"edge7\" class=\"edge\">\n",
       "<title>2&#45;&gt;6</title>\n",
       "<path fill=\"none\" stroke=\"#ff0000\" d=\"M119.2909,-65.6724C132.8382,-76.8452 152.0133,-92.6594 167.3645,-105.3199\"/>\n",
       "<polygon fill=\"#ff0000\" stroke=\"#ff0000\" points=\"165.4978,-108.3172 175.4396,-111.9796 169.9517,-102.9168 165.4978,-108.3172\"/>\n",
       "<text text-anchor=\"middle\" x=\"139.8277\" y=\"-88.2962\" font-family=\"Times,serif\" font-size=\"14.00\" fill=\"#ff0000\">7</text>\n",
       "</g>\n",
       "<!-- 3 -->\n",
       "<g id=\"node3\" class=\"node\">\n",
       "<title>3</title>\n",
       "<ellipse fill=\"none\" stroke=\"#000000\" cx=\"204.5704\" cy=\"-18\" rx=\"27\" ry=\"18\"/>\n",
       "<text text-anchor=\"middle\" x=\"204.5704\" y=\"-13.8\" font-family=\"Times,serif\" font-size=\"14.00\" fill=\"#000000\">3</text>\n",
       "</g>\n",
       "<!-- 3&#45;&gt;2 -->\n",
       "<g id=\"edge5\" class=\"edge\">\n",
       "<title>3&#45;&gt;2</title>\n",
       "<path fill=\"none\" stroke=\"#ff0000\" d=\"M180.3317,-25.9752C167.1806,-30.3022 150.7115,-35.721 136.2962,-40.464\"/>\n",
       "<polygon fill=\"#ff0000\" stroke=\"#ff0000\" points=\"135.1157,-37.1677 126.7105,-43.6179 137.3035,-43.8171 135.1157,-37.1677\"/>\n",
       "<text text-anchor=\"middle\" x=\"154.814\" y=\"-36.0196\" font-family=\"Times,serif\" font-size=\"14.00\" fill=\"#ff0000\">5</text>\n",
       "</g>\n",
       "<!-- 5 -->\n",
       "<g id=\"node5\" class=\"node\">\n",
       "<title>5</title>\n",
       "<ellipse fill=\"none\" stroke=\"#000000\" cx=\"223.5182\" cy=\"-230.5612\" rx=\"27\" ry=\"18\"/>\n",
       "<text text-anchor=\"middle\" x=\"223.5182\" y=\"-226.3612\" font-family=\"Times,serif\" font-size=\"14.00\" fill=\"#000000\">5</text>\n",
       "</g>\n",
       "<!-- 4&#45;&gt;5 -->\n",
       "<g id=\"edge2\" class=\"edge\">\n",
       "<title>4&#45;&gt;5</title>\n",
       "<path fill=\"none\" stroke=\"#000000\" d=\"M143.5205,-219.2857C156.6248,-221.1327 172.6268,-223.3882 186.8659,-225.3951\"/>\n",
       "<polygon fill=\"#000000\" stroke=\"#000000\" points=\"186.4654,-228.8732 196.856,-226.8032 187.4424,-221.9417 186.4654,-228.8732\"/>\n",
       "<text text-anchor=\"middle\" x=\"161.6932\" y=\"-225.1404\" font-family=\"Times,serif\" font-size=\"14.00\" fill=\"#000000\">2</text>\n",
       "</g>\n",
       "<!-- 4&#45;&gt;6 -->\n",
       "<g id=\"edge8\" class=\"edge\">\n",
       "<title>4&#45;&gt;6</title>\n",
       "<path fill=\"none\" stroke=\"#000000\" d=\"M130.4366,-199.5595C142.1828,-185.7114 159.3415,-165.4824 172.6684,-149.771\"/>\n",
       "<polygon fill=\"#000000\" stroke=\"#000000\" points=\"175.4397,-151.9145 179.2392,-142.0244 170.1014,-147.3865 175.4397,-151.9145\"/>\n",
       "<text text-anchor=\"middle\" x=\"148.0525\" y=\"-177.4652\" font-family=\"Times,serif\" font-size=\"14.00\" fill=\"#000000\">8</text>\n",
       "</g>\n",
       "<!-- 5&#45;&gt;6 -->\n",
       "<g id=\"edge3\" class=\"edge\">\n",
       "<title>5&#45;&gt;6</title>\n",
       "<path fill=\"none\" stroke=\"#000000\" d=\"M218.2853,-212.856C213.499,-196.6623 206.343,-172.4508 200.8102,-153.7311\"/>\n",
       "<polygon fill=\"#000000\" stroke=\"#000000\" points=\"204.1197,-152.58 197.9288,-143.9821 197.4068,-154.5641 204.1197,-152.58\"/>\n",
       "<text text-anchor=\"middle\" x=\"206.0477\" y=\"-186.0936\" font-family=\"Times,serif\" font-size=\"14.00\" fill=\"#000000\">3</text>\n",
       "</g>\n",
       "<!-- 6&#45;&gt;3 -->\n",
       "<g id=\"edge4\" class=\"edge\">\n",
       "<title>6&#45;&gt;3</title>\n",
       "<path fill=\"none\" stroke=\"#ff0000\" d=\"M194.6889,-107.8372C196.5465,-90.9492 199.3293,-65.6489 201.469,-46.1966\"/>\n",
       "<polygon fill=\"#ff0000\" stroke=\"#ff0000\" points=\"204.9671,-46.4047 202.5815,-36.0819 198.009,-45.6393 204.9671,-46.4047\"/>\n",
       "<text text-anchor=\"middle\" x=\"194.5789\" y=\"-79.8169\" font-family=\"Times,serif\" font-size=\"14.00\" fill=\"#ff0000\">4</text>\n",
       "</g>\n",
       "</g>\n",
       "</svg>\n"
      ],
      "text/plain": [
       "DiGraph(DiNode[DiNode(1,Dict{Symbol,Any}()),DiNode(2,Dict{Symbol,Any}()),DiNode(3,Dict{Symbol,Any}()),DiNode(4,Dict{Symbol,Any}()),DiNode(5,Dict{Symbol,Any}()),DiNode(6,Dict{Symbol,Any}())],DiEdge[DiEdge(1=>4,Dict{Symbol,Any}(Pair{Symbol,Any}(:label,1),Pair{Symbol,Any}(:len,1.5))),DiEdge(4=>5,Dict{Symbol,Any}(Pair{Symbol,Any}(:label,2),Pair{Symbol,Any}(:len,1.5))),DiEdge(5=>6,Dict{Symbol,Any}(Pair{Symbol,Any}(:label,3),Pair{Symbol,Any}(:len,1.5))),DiEdge(6=>3,Dict{Symbol,Any}(Pair{Symbol,Any}(:label,4),Pair{Symbol,Any}(:len,1.5),Pair{Symbol,Any}(:color,\"red\"),Pair{Symbol,Any}(:fontcolor,\"red\"))),DiEdge(3=>2,Dict{Symbol,Any}(Pair{Symbol,Any}(:label,5),Pair{Symbol,Any}(:len,1.5),Pair{Symbol,Any}(:color,\"red\"),Pair{Symbol,Any}(:fontcolor,\"red\"))),DiEdge(2=>1,Dict{Symbol,Any}(Pair{Symbol,Any}(:label,6),Pair{Symbol,Any}(:len,1.5))),DiEdge(2=>6,Dict{Symbol,Any}(Pair{Symbol,Any}(:label,7),Pair{Symbol,Any}(:len,1.5),Pair{Symbol,Any}(:color,\"red\"),Pair{Symbol,Any}(:fontcolor,\"red\"))),DiEdge(4=>6,Dict{Symbol,Any}(Pair{Symbol,Any}(:label,8),Pair{Symbol,Any}(:len,1.5)))],Dict{Symbol,Any}())"
      ]
     },
     "execution_count": 18,
     "metadata": {
      "comm_id": "db016ec5-ccc8-4f40-af73-735e30d41a9d",
      "reactive": true
     },
     "output_type": "execute_result"
    }
   ],
   "source": [
    "animloops(g)"
   ]
  },
  {
   "cell_type": "markdown",
   "metadata": {},
   "source": [
    "These three loops are **not the only loops** in the graph, but the **other loops can be made from combinations of these loops**.  (Similarly, the columns of $N$ are not the *whole* left nullspace, they are just a **basis** for the n nullspace.\n",
    "\n",
    "For example, the loop between nodes 1-4-6-2 can be made by starting with 1-4-5-6-3-2 and \"subtracting\" the 6-3-2 loop.\n",
    "\n",
    "In this sense, a basis for the left nullspace of $A$ is a \"basis\" for the other loops in the graph: we say that they are \"primitive\" loops."
   ]
  },
  {
   "cell_type": "code",
   "execution_count": 19,
   "metadata": {
    "collapsed": false
   },
   "outputs": [
    {
     "data": {
      "image/svg+xml": [
       "<?xml version=\"1.0\" encoding=\"UTF-8\" standalone=\"no\"?>\n",
       "<!DOCTYPE svg PUBLIC \"-//W3C//DTD SVG 1.1//EN\"\n",
       " \"http://www.w3.org/Graphics/SVG/1.1/DTD/svg11.dtd\">\n",
       "<!-- Generated by graphviz version 2.40.1 (20161225.0304)\n",
       " -->\n",
       "<!-- Title: MyDiGraph Pages: 1 -->\n",
       "<svg width=\"259pt\" height=\"257pt\"\n",
       " viewBox=\"0.00 0.00 258.52 256.56\" xmlns=\"http://www.w3.org/2000/svg\" xmlns:xlink=\"http://www.w3.org/1999/xlink\">\n",
       "<g id=\"graph0\" class=\"graph\" transform=\"scale(1 1) rotate(0) translate(4 252.5612)\">\n",
       "<title>MyDiGraph</title>\n",
       "<polygon fill=\"#ffffff\" stroke=\"transparent\" points=\"-4,4 -4,-252.5612 254.5182,-252.5612 254.5182,4 -4,4\"/>\n",
       "<!-- 1 -->\n",
       "<g id=\"node1\" class=\"node\">\n",
       "<title>1</title>\n",
       "<ellipse fill=\"none\" stroke=\"#000000\" cx=\"27\" cy=\"-140.9451\" rx=\"27\" ry=\"18\"/>\n",
       "<text text-anchor=\"middle\" x=\"27\" y=\"-136.7451\" font-family=\"Times,serif\" font-size=\"14.00\" fill=\"#000000\">1</text>\n",
       "</g>\n",
       "<!-- 4 -->\n",
       "<g id=\"node4\" class=\"node\">\n",
       "<title>4</title>\n",
       "<ellipse fill=\"none\" stroke=\"#000000\" cx=\"116.8883\" cy=\"-215.532\" rx=\"27\" ry=\"18\"/>\n",
       "<text text-anchor=\"middle\" x=\"116.8883\" y=\"-211.332\" font-family=\"Times,serif\" font-size=\"14.00\" fill=\"#000000\">4</text>\n",
       "</g>\n",
       "<!-- 1&#45;&gt;4 -->\n",
       "<g id=\"edge1\" class=\"edge\">\n",
       "<title>1&#45;&gt;4</title>\n",
       "<path fill=\"none\" stroke=\"#ff0000\" d=\"M44.3314,-155.3262C57.8476,-166.5416 76.8036,-182.2708 91.9506,-194.8393\"/>\n",
       "<polygon fill=\"#ff0000\" stroke=\"#ff0000\" points=\"89.9843,-197.7558 99.915,-201.448 94.4543,-192.3688 89.9843,-197.7558\"/>\n",
       "<text text-anchor=\"middle\" x=\"64.641\" y=\"-177.8828\" font-family=\"Times,serif\" font-size=\"14.00\" fill=\"#ff0000\">1</text>\n",
       "</g>\n",
       "<!-- 2 -->\n",
       "<g id=\"node2\" class=\"node\">\n",
       "<title>2</title>\n",
       "<ellipse fill=\"none\" stroke=\"#000000\" cx=\"102.2914\" cy=\"-51.6524\" rx=\"27\" ry=\"18\"/>\n",
       "<text text-anchor=\"middle\" x=\"102.2914\" y=\"-47.4524\" font-family=\"Times,serif\" font-size=\"14.00\" fill=\"#000000\">2</text>\n",
       "</g>\n",
       "<!-- 2&#45;&gt;1 -->\n",
       "<g id=\"edge6\" class=\"edge\">\n",
       "<title>2&#45;&gt;1</title>\n",
       "<path fill=\"none\" stroke=\"#ff0000\" d=\"M88.8308,-67.6162C77.1606,-81.4566 60.1129,-101.6744 46.8723,-117.3772\"/>\n",
       "<polygon fill=\"#ff0000\" stroke=\"#ff0000\" points=\"44.1146,-115.2183 40.3441,-125.1195 49.4661,-119.7307 44.1146,-115.2183\"/>\n",
       "<text text-anchor=\"middle\" x=\"64.3516\" y=\"-95.2967\" font-family=\"Times,serif\" font-size=\"14.00\" fill=\"#ff0000\">6</text>\n",
       "</g>\n",
       "<!-- 6 -->\n",
       "<g id=\"node6\" class=\"node\">\n",
       "<title>6</title>\n",
       "<ellipse fill=\"none\" stroke=\"#000000\" cx=\"192.6702\" cy=\"-126.1901\" rx=\"27\" ry=\"18\"/>\n",
       "<text text-anchor=\"middle\" x=\"192.6702\" y=\"-121.9901\" font-family=\"Times,serif\" font-size=\"14.00\" fill=\"#000000\">6</text>\n",
       "</g>\n",
       "<!-- 2&#45;&gt;6 -->\n",
       "<g id=\"edge7\" class=\"edge\">\n",
       "<title>2&#45;&gt;6</title>\n",
       "<path fill=\"none\" stroke=\"#0000ff\" d=\"M119.2909,-65.6724C132.8382,-76.8452 152.0133,-92.6594 167.3645,-105.3199\"/>\n",
       "<polygon fill=\"#0000ff\" stroke=\"#0000ff\" points=\"165.4978,-108.3172 175.4396,-111.9796 169.9517,-102.9168 165.4978,-108.3172\"/>\n",
       "<text text-anchor=\"middle\" x=\"139.8277\" y=\"-88.2962\" font-family=\"Times,serif\" font-size=\"14.00\" fill=\"#0000ff\">7</text>\n",
       "</g>\n",
       "<!-- 3 -->\n",
       "<g id=\"node3\" class=\"node\">\n",
       "<title>3</title>\n",
       "<ellipse fill=\"none\" stroke=\"#000000\" cx=\"204.5704\" cy=\"-18\" rx=\"27\" ry=\"18\"/>\n",
       "<text text-anchor=\"middle\" x=\"204.5704\" y=\"-13.8\" font-family=\"Times,serif\" font-size=\"14.00\" fill=\"#000000\">3</text>\n",
       "</g>\n",
       "<!-- 3&#45;&gt;2 -->\n",
       "<g id=\"edge5\" class=\"edge\">\n",
       "<title>3&#45;&gt;2</title>\n",
       "<path fill=\"none\" stroke=\"#000000\" d=\"M180.3317,-25.9752C167.1806,-30.3022 150.7115,-35.721 136.2962,-40.464\"/>\n",
       "<polygon fill=\"#000000\" stroke=\"#000000\" points=\"135.1157,-37.1677 126.7105,-43.6179 137.3035,-43.8171 135.1157,-37.1677\"/>\n",
       "<text text-anchor=\"middle\" x=\"154.814\" y=\"-36.0196\" font-family=\"Times,serif\" font-size=\"14.00\" fill=\"#000000\">5</text>\n",
       "</g>\n",
       "<!-- 5 -->\n",
       "<g id=\"node5\" class=\"node\">\n",
       "<title>5</title>\n",
       "<ellipse fill=\"none\" stroke=\"#000000\" cx=\"223.5182\" cy=\"-230.5612\" rx=\"27\" ry=\"18\"/>\n",
       "<text text-anchor=\"middle\" x=\"223.5182\" y=\"-226.3612\" font-family=\"Times,serif\" font-size=\"14.00\" fill=\"#000000\">5</text>\n",
       "</g>\n",
       "<!-- 4&#45;&gt;5 -->\n",
       "<g id=\"edge2\" class=\"edge\">\n",
       "<title>4&#45;&gt;5</title>\n",
       "<path fill=\"none\" stroke=\"#ff0000\" d=\"M143.5205,-219.2857C156.6248,-221.1327 172.6268,-223.3882 186.8659,-225.3951\"/>\n",
       "<polygon fill=\"#ff0000\" stroke=\"#ff0000\" points=\"186.4654,-228.8732 196.856,-226.8032 187.4424,-221.9417 186.4654,-228.8732\"/>\n",
       "<text text-anchor=\"middle\" x=\"161.6932\" y=\"-225.1404\" font-family=\"Times,serif\" font-size=\"14.00\" fill=\"#ff0000\">2</text>\n",
       "</g>\n",
       "<!-- 4&#45;&gt;6 -->\n",
       "<g id=\"edge8\" class=\"edge\">\n",
       "<title>4&#45;&gt;6</title>\n",
       "<path fill=\"none\" stroke=\"#000000\" d=\"M130.4366,-199.5595C142.1828,-185.7114 159.3415,-165.4824 172.6684,-149.771\"/>\n",
       "<polygon fill=\"#000000\" stroke=\"#000000\" points=\"175.4397,-151.9145 179.2392,-142.0244 170.1014,-147.3865 175.4397,-151.9145\"/>\n",
       "<text text-anchor=\"middle\" x=\"148.0525\" y=\"-177.4652\" font-family=\"Times,serif\" font-size=\"14.00\" fill=\"#000000\">8</text>\n",
       "</g>\n",
       "<!-- 5&#45;&gt;6 -->\n",
       "<g id=\"edge3\" class=\"edge\">\n",
       "<title>5&#45;&gt;6</title>\n",
       "<path fill=\"none\" stroke=\"#ff0000\" d=\"M218.2853,-212.856C213.499,-196.6623 206.343,-172.4508 200.8102,-153.7311\"/>\n",
       "<polygon fill=\"#ff0000\" stroke=\"#ff0000\" points=\"204.1197,-152.58 197.9288,-143.9821 197.4068,-154.5641 204.1197,-152.58\"/>\n",
       "<text text-anchor=\"middle\" x=\"206.0477\" y=\"-186.0936\" font-family=\"Times,serif\" font-size=\"14.00\" fill=\"#ff0000\">3</text>\n",
       "</g>\n",
       "<!-- 6&#45;&gt;3 -->\n",
       "<g id=\"edge4\" class=\"edge\">\n",
       "<title>6&#45;&gt;3</title>\n",
       "<path fill=\"none\" stroke=\"#000000\" d=\"M194.6889,-107.8372C196.5465,-90.9492 199.3293,-65.6489 201.469,-46.1966\"/>\n",
       "<polygon fill=\"#000000\" stroke=\"#000000\" points=\"204.9671,-46.4047 202.5815,-36.0819 198.009,-45.6393 204.9671,-46.4047\"/>\n",
       "<text text-anchor=\"middle\" x=\"194.5789\" y=\"-79.8169\" font-family=\"Times,serif\" font-size=\"14.00\" fill=\"#000000\">4</text>\n",
       "</g>\n",
       "</g>\n",
       "</svg>\n"
      ],
      "text/plain": [
       "DiGraph(DiNode[DiNode(1,Dict{Symbol,Any}()),DiNode(2,Dict{Symbol,Any}()),DiNode(3,Dict{Symbol,Any}()),DiNode(4,Dict{Symbol,Any}()),DiNode(5,Dict{Symbol,Any}()),DiNode(6,Dict{Symbol,Any}())],DiEdge[DiEdge(1=>4,Dict{Symbol,Any}(Pair{Symbol,Any}(:label,1),Pair{Symbol,Any}(:len,1.5),Pair{Symbol,Any}(:color,\"red\"),Pair{Symbol,Any}(:fontcolor,\"red\"))),DiEdge(4=>5,Dict{Symbol,Any}(Pair{Symbol,Any}(:label,2),Pair{Symbol,Any}(:len,1.5),Pair{Symbol,Any}(:color,\"red\"),Pair{Symbol,Any}(:fontcolor,\"red\"))),DiEdge(5=>6,Dict{Symbol,Any}(Pair{Symbol,Any}(:label,3),Pair{Symbol,Any}(:len,1.5),Pair{Symbol,Any}(:color,\"red\"),Pair{Symbol,Any}(:fontcolor,\"red\"))),DiEdge(6=>3,Dict{Symbol,Any}(Pair{Symbol,Any}(:label,4),Pair{Symbol,Any}(:len,1.5))),DiEdge(3=>2,Dict{Symbol,Any}(Pair{Symbol,Any}(:label,5),Pair{Symbol,Any}(:len,1.5))),DiEdge(2=>1,Dict{Symbol,Any}(Pair{Symbol,Any}(:label,6),Pair{Symbol,Any}(:len,1.5),Pair{Symbol,Any}(:color,\"red\"),Pair{Symbol,Any}(:fontcolor,\"red\"))),DiEdge(2=>6,Dict{Symbol,Any}(Pair{Symbol,Any}(:label,7),Pair{Symbol,Any}(:len,1.5),Pair{Symbol,Any}(:color,\"blue\"),Pair{Symbol,Any}(:fontcolor,\"blue\"))),DiEdge(4=>6,Dict{Symbol,Any}(Pair{Symbol,Any}(:label,8),Pair{Symbol,Any}(:len,1.5)))],Dict{Symbol,Any}())"
      ]
     },
     "execution_count": 19,
     "metadata": {},
     "output_type": "execute_result"
    }
   ],
   "source": [
    "colorloop(g, N[:,1] - N[:,2]) # subtract two loops to make another loop"
   ]
  },
  {
   "cell_type": "markdown",
   "metadata": {},
   "source": [
    "It is fun to do the same thing for bigger graphs, chosen at random:"
   ]
  },
  {
   "cell_type": "code",
   "execution_count": 20,
   "metadata": {
    "collapsed": false
   },
   "outputs": [
    {
     "data": {
      "text/html": [],
      "text/plain": [
       "Interact.Options{:SelectionSlider,Int64}(Signal{Int64}(6, nactions=1),\"loop\",6,\"6\",Interact.OptionDict(DataStructures.OrderedDict(\"1\"=>1,\"2\"=>2,\"3\"=>3,\"4\"=>4,\"5\"=>5,\"6\"=>6,\"7\"=>7,\"8\"=>8,\"9\"=>9,\"10\"=>10…),Dict(2=>\"2\",11=>\"11\",7=>\"7\",9=>\"9\",10=>\"10\",8=>\"8\",6=>\"6\",4=>\"4\",3=>\"3\",5=>\"5\"…)),Any[],Any[],true,\"horizontal\")"
      ]
     },
     "metadata": {},
     "output_type": "display_data"
    },
    {
     "data": {
      "image/svg+xml": [
       "<?xml version=\"1.0\" encoding=\"UTF-8\" standalone=\"no\"?>\n",
       "<!DOCTYPE svg PUBLIC \"-//W3C//DTD SVG 1.1//EN\"\n",
       " \"http://www.w3.org/Graphics/SVG/1.1/DTD/svg11.dtd\">\n",
       "<!-- Generated by graphviz version 2.40.1 (20161225.0304)\n",
       " -->\n",
       "<!-- Title: MyDiGraph Pages: 1 -->\n",
       "<svg width=\"506pt\" height=\"310pt\"\n",
       " viewBox=\"0.00 0.00 506.18 310.38\" xmlns=\"http://www.w3.org/2000/svg\" xmlns:xlink=\"http://www.w3.org/1999/xlink\">\n",
       "<g id=\"graph0\" class=\"graph\" transform=\"scale(1 1) rotate(0) translate(4 306.3763)\">\n",
       "<title>MyDiGraph</title>\n",
       "<polygon fill=\"#ffffff\" stroke=\"transparent\" points=\"-4,4 -4,-306.3763 502.1843,-306.3763 502.1843,4 -4,4\"/>\n",
       "<!-- 1 -->\n",
       "<g id=\"node1\" class=\"node\">\n",
       "<title>1</title>\n",
       "<ellipse fill=\"none\" stroke=\"#000000\" cx=\"27\" cy=\"-43.3362\" rx=\"27\" ry=\"18\"/>\n",
       "<text text-anchor=\"middle\" x=\"27\" y=\"-39.1362\" font-family=\"Times,serif\" font-size=\"14.00\" fill=\"#000000\">1</text>\n",
       "</g>\n",
       "<!-- 7 -->\n",
       "<g id=\"node7\" class=\"node\">\n",
       "<title>7</title>\n",
       "<ellipse fill=\"none\" stroke=\"#000000\" cx=\"112.3795\" cy=\"-53.4675\" rx=\"27\" ry=\"18\"/>\n",
       "<text text-anchor=\"middle\" x=\"112.3795\" y=\"-49.2675\" font-family=\"Times,serif\" font-size=\"14.00\" fill=\"#000000\">7</text>\n",
       "</g>\n",
       "<!-- 1&#45;&gt;7 -->\n",
       "<g id=\"edge1\" class=\"edge\">\n",
       "<title>1&#45;&gt;7</title>\n",
       "<path fill=\"none\" stroke=\"#ff0000\" d=\"M54.0146,-46.5419C60.7764,-47.3442 68.1475,-48.2189 75.3043,-49.0681\"/>\n",
       "<polygon fill=\"#ff0000\" stroke=\"#ff0000\" points=\"75.1979,-52.58 85.5407,-50.2828 76.0228,-45.6287 75.1979,-52.58\"/>\n",
       "<text text-anchor=\"middle\" x=\"61.1595\" y=\"-50.605\" font-family=\"Times,serif\" font-size=\"14.00\" fill=\"#ff0000\">1</text>\n",
       "</g>\n",
       "<!-- 8 -->\n",
       "<g id=\"node8\" class=\"node\">\n",
       "<title>8</title>\n",
       "<ellipse fill=\"none\" stroke=\"#000000\" cx=\"138.4863\" cy=\"-119.5559\" rx=\"27\" ry=\"18\"/>\n",
       "<text text-anchor=\"middle\" x=\"138.4863\" y=\"-115.3559\" font-family=\"Times,serif\" font-size=\"14.00\" fill=\"#000000\">8</text>\n",
       "</g>\n",
       "<!-- 1&#45;&gt;8 -->\n",
       "<g id=\"edge2\" class=\"edge\">\n",
       "<title>1&#45;&gt;8</title>\n",
       "<path fill=\"none\" stroke=\"#0000ff\" d=\"M45.9121,-56.2659C63.7704,-68.475 90.7572,-86.925 110.9928,-100.7595\"/>\n",
       "<polygon fill=\"#0000ff\" stroke=\"#0000ff\" points=\"109.2509,-103.8084 119.4814,-106.5629 113.2015,-98.0297 109.2509,-103.8084\"/>\n",
       "<text text-anchor=\"middle\" x=\"74.9525\" y=\"-81.3127\" font-family=\"Times,serif\" font-size=\"14.00\" fill=\"#0000ff\">2</text>\n",
       "</g>\n",
       "<!-- 2 -->\n",
       "<g id=\"node2\" class=\"node\">\n",
       "<title>2</title>\n",
       "<ellipse fill=\"none\" stroke=\"#000000\" cx=\"167.2551\" cy=\"-183.8328\" rx=\"27\" ry=\"18\"/>\n",
       "<text text-anchor=\"middle\" x=\"167.2551\" y=\"-179.6328\" font-family=\"Times,serif\" font-size=\"14.00\" fill=\"#000000\">2</text>\n",
       "</g>\n",
       "<!-- 4 -->\n",
       "<g id=\"node4\" class=\"node\">\n",
       "<title>4</title>\n",
       "<ellipse fill=\"none\" stroke=\"#000000\" cx=\"242.1743\" cy=\"-261.4096\" rx=\"27\" ry=\"18\"/>\n",
       "<text text-anchor=\"middle\" x=\"242.1743\" y=\"-257.2096\" font-family=\"Times,serif\" font-size=\"14.00\" fill=\"#000000\">4</text>\n",
       "</g>\n",
       "<!-- 2&#45;&gt;4 -->\n",
       "<g id=\"edge3\" class=\"edge\">\n",
       "<title>2&#45;&gt;4</title>\n",
       "<path fill=\"none\" stroke=\"#000000\" d=\"M182.0567,-199.1595C192.9336,-210.4222 207.893,-225.9122 220.1679,-238.6226\"/>\n",
       "<polygon fill=\"#000000\" stroke=\"#000000\" points=\"217.939,-241.3529 227.4034,-246.1148 222.9742,-236.4901 217.939,-241.3529\"/>\n",
       "<text text-anchor=\"middle\" x=\"197.6123\" y=\"-221.691\" font-family=\"Times,serif\" font-size=\"14.00\" fill=\"#000000\">3</text>\n",
       "</g>\n",
       "<!-- 9 -->\n",
       "<g id=\"node9\" class=\"node\">\n",
       "<title>9</title>\n",
       "<ellipse fill=\"none\" stroke=\"#000000\" cx=\"227.9227\" cy=\"-148.3758\" rx=\"27\" ry=\"18\"/>\n",
       "<text text-anchor=\"middle\" x=\"227.9227\" y=\"-144.1758\" font-family=\"Times,serif\" font-size=\"14.00\" fill=\"#000000\">9</text>\n",
       "</g>\n",
       "<!-- 2&#45;&gt;9 -->\n",
       "<g id=\"edge4\" class=\"edge\">\n",
       "<title>2&#45;&gt;9</title>\n",
       "<path fill=\"none\" stroke=\"#000000\" d=\"M187.7944,-171.8287C191.2534,-169.8071 194.9028,-167.6742 198.534,-165.5519\"/>\n",
       "<polygon fill=\"#000000\" stroke=\"#000000\" points=\"200.537,-168.4352 207.4046,-160.3676 197.0049,-162.3917 200.537,-168.4352\"/>\n",
       "<text text-anchor=\"middle\" x=\"196.6642\" y=\"-157.4903\" font-family=\"Times,serif\" font-size=\"14.00\" fill=\"#000000\">4</text>\n",
       "</g>\n",
       "<!-- 12 -->\n",
       "<g id=\"node12\" class=\"node\">\n",
       "<title>12</title>\n",
       "<ellipse fill=\"none\" stroke=\"#000000\" cx=\"35.8264\" cy=\"-161.2579\" rx=\"27\" ry=\"18\"/>\n",
       "<text text-anchor=\"middle\" x=\"35.8264\" y=\"-157.0579\" font-family=\"Times,serif\" font-size=\"14.00\" fill=\"#000000\">12</text>\n",
       "</g>\n",
       "<!-- 2&#45;&gt;12 -->\n",
       "<g id=\"edge5\" class=\"edge\">\n",
       "<title>2&#45;&gt;12</title>\n",
       "<path fill=\"none\" stroke=\"#000000\" d=\"M140.9745,-179.3187C121.1858,-175.9196 93.8265,-171.2203 71.9764,-167.4672\"/>\n",
       "<polygon fill=\"#000000\" stroke=\"#000000\" points=\"72.5098,-164.0076 62.0616,-165.7642 71.3247,-170.9066 72.5098,-164.0076\"/>\n",
       "<text text-anchor=\"middle\" x=\"102.9754\" y=\"-176.1929\" font-family=\"Times,serif\" font-size=\"14.00\" fill=\"#000000\">5</text>\n",
       "</g>\n",
       "<!-- 3 -->\n",
       "<g id=\"node3\" class=\"node\">\n",
       "<title>3</title>\n",
       "<ellipse fill=\"none\" stroke=\"#000000\" cx=\"276.4021\" cy=\"-36.1887\" rx=\"27\" ry=\"18\"/>\n",
       "<text text-anchor=\"middle\" x=\"276.4021\" y=\"-31.9887\" font-family=\"Times,serif\" font-size=\"14.00\" fill=\"#000000\">3</text>\n",
       "</g>\n",
       "<!-- 3&#45;&gt;2 -->\n",
       "<g id=\"edge6\" class=\"edge\">\n",
       "<title>3&#45;&gt;2</title>\n",
       "<path fill=\"none\" stroke=\"#000000\" d=\"M264.3044,-52.5533C245.2091,-78.3837 207.9565,-128.7757 185.5701,-159.058\"/>\n",
       "<polygon fill=\"#000000\" stroke=\"#000000\" points=\"182.5371,-157.2729 179.407,-167.3948 188.166,-161.4342 182.5371,-157.2729\"/>\n",
       "<text text-anchor=\"middle\" x=\"221.4373\" y=\"-108.6056\" font-family=\"Times,serif\" font-size=\"14.00\" fill=\"#000000\">6</text>\n",
       "</g>\n",
       "<!-- 4&#45;&gt;9 -->\n",
       "<g id=\"edge7\" class=\"edge\">\n",
       "<title>4&#45;&gt;9</title>\n",
       "<path fill=\"none\" stroke=\"#000000\" d=\"M239.8845,-243.2488C237.6198,-225.2865 234.1211,-197.5371 231.4915,-176.6812\"/>\n",
       "<polygon fill=\"#000000\" stroke=\"#000000\" points=\"234.9303,-175.9752 230.2068,-166.4916 227.9853,-176.8509 234.9303,-175.9752\"/>\n",
       "<text text-anchor=\"middle\" x=\"232.188\" y=\"-212.765\" font-family=\"Times,serif\" font-size=\"14.00\" fill=\"#000000\">7</text>\n",
       "</g>\n",
       "<!-- 15 -->\n",
       "<g id=\"node15\" class=\"node\">\n",
       "<title>15</title>\n",
       "<ellipse fill=\"none\" stroke=\"#000000\" cx=\"283.2041\" cy=\"-163.7116\" rx=\"27\" ry=\"18\"/>\n",
       "<text text-anchor=\"middle\" x=\"283.2041\" y=\"-159.5116\" font-family=\"Times,serif\" font-size=\"14.00\" fill=\"#000000\">15</text>\n",
       "</g>\n",
       "<!-- 4&#45;&gt;15 -->\n",
       "<g id=\"edge8\" class=\"edge\">\n",
       "<title>4&#45;&gt;15</title>\n",
       "<path fill=\"none\" stroke=\"#000000\" d=\"M249.5096,-243.9432C255.714,-229.1695 264.7075,-207.7546 271.8427,-190.7647\"/>\n",
       "<polygon fill=\"#000000\" stroke=\"#000000\" points=\"275.1488,-191.9314 275.7939,-181.3562 268.6948,-189.2209 275.1488,-191.9314\"/>\n",
       "<text text-anchor=\"middle\" x=\"257.1762\" y=\"-220.1539\" font-family=\"Times,serif\" font-size=\"14.00\" fill=\"#000000\">8</text>\n",
       "</g>\n",
       "<!-- 5 -->\n",
       "<g id=\"node5\" class=\"node\">\n",
       "<title>5</title>\n",
       "<ellipse fill=\"none\" stroke=\"#000000\" cx=\"355.358\" cy=\"-99.2761\" rx=\"27\" ry=\"18\"/>\n",
       "<text text-anchor=\"middle\" x=\"355.358\" y=\"-95.0761\" font-family=\"Times,serif\" font-size=\"14.00\" fill=\"#000000\">5</text>\n",
       "</g>\n",
       "<!-- 5&#45;&gt;3 -->\n",
       "<g id=\"edge9\" class=\"edge\">\n",
       "<title>5&#45;&gt;3</title>\n",
       "<path fill=\"none\" stroke=\"#000000\" d=\"M337.8352,-85.2749C327.3064,-76.8622 313.7226,-66.0085 302.0066,-56.6472\"/>\n",
       "<polygon fill=\"#000000\" stroke=\"#000000\" points=\"303.8733,-53.6586 293.876,-50.1507 299.5036,-59.1273 303.8733,-53.6586\"/>\n",
       "<text text-anchor=\"middle\" x=\"316.4209\" y=\"-73.761\" font-family=\"Times,serif\" font-size=\"14.00\" fill=\"#000000\">9</text>\n",
       "</g>\n",
       "<!-- 5&#45;&gt;9 -->\n",
       "<g id=\"edge10\" class=\"edge\">\n",
       "<title>5&#45;&gt;9</title>\n",
       "<path fill=\"none\" stroke=\"#000000\" d=\"M331.6871,-108.3963C311.7483,-116.0785 283.0112,-127.1507 260.8324,-135.696\"/>\n",
       "<polygon fill=\"#000000\" stroke=\"#000000\" points=\"259.5399,-132.4431 251.4669,-139.3044 262.0566,-138.9751 259.5399,-132.4431\"/>\n",
       "<text text-anchor=\"middle\" x=\"289.2598\" y=\"-124.8461\" font-family=\"Times,serif\" font-size=\"14.00\" fill=\"#000000\">10</text>\n",
       "</g>\n",
       "<!-- 10 -->\n",
       "<g id=\"node10\" class=\"node\">\n",
       "<title>10</title>\n",
       "<ellipse fill=\"none\" stroke=\"#000000\" cx=\"442.4108\" cy=\"-18\" rx=\"27\" ry=\"18\"/>\n",
       "<text text-anchor=\"middle\" x=\"442.4108\" y=\"-13.8\" font-family=\"Times,serif\" font-size=\"14.00\" fill=\"#000000\">10</text>\n",
       "</g>\n",
       "<!-- 5&#45;&gt;10 -->\n",
       "<g id=\"edge11\" class=\"edge\">\n",
       "<title>5&#45;&gt;10</title>\n",
       "<path fill=\"none\" stroke=\"#000000\" d=\"M371.3249,-84.3688C384.7005,-71.8808 403.9745,-53.8857 419.0796,-39.783\"/>\n",
       "<polygon fill=\"#000000\" stroke=\"#000000\" points=\"421.6243,-42.1955 426.5452,-32.8128 416.8472,-37.0789 421.6243,-42.1955\"/>\n",
       "<text text-anchor=\"middle\" x=\"388.4586\" y=\"-64.8759\" font-family=\"Times,serif\" font-size=\"14.00\" fill=\"#000000\">11</text>\n",
       "</g>\n",
       "<!-- 13 -->\n",
       "<g id=\"node13\" class=\"node\">\n",
       "<title>13</title>\n",
       "<ellipse fill=\"none\" stroke=\"#000000\" cx=\"471.1843\" cy=\"-111.3646\" rx=\"27\" ry=\"18\"/>\n",
       "<text text-anchor=\"middle\" x=\"471.1843\" y=\"-107.1646\" font-family=\"Times,serif\" font-size=\"14.00\" fill=\"#000000\">13</text>\n",
       "</g>\n",
       "<!-- 5&#45;&gt;13 -->\n",
       "<g id=\"edge12\" class=\"edge\">\n",
       "<title>5&#45;&gt;13</title>\n",
       "<path fill=\"none\" stroke=\"#000000\" d=\"M382.222,-102.0798C397.7179,-103.6971 417.4245,-105.7538 434.3496,-107.5203\"/>\n",
       "<polygon fill=\"#000000\" stroke=\"#000000\" points=\"434.1567,-111.019 444.466,-108.5761 434.8834,-104.0569 434.1567,-111.019\"/>\n",
       "<text text-anchor=\"middle\" x=\"401.2858\" y=\"-107.6\" font-family=\"Times,serif\" font-size=\"14.00\" fill=\"#000000\">12</text>\n",
       "</g>\n",
       "<!-- 6 -->\n",
       "<g id=\"node6\" class=\"node\">\n",
       "<title>6</title>\n",
       "<ellipse fill=\"none\" stroke=\"#000000\" cx=\"119.8936\" cy=\"-241.2753\" rx=\"27\" ry=\"18\"/>\n",
       "<text text-anchor=\"middle\" x=\"119.8936\" y=\"-237.0753\" font-family=\"Times,serif\" font-size=\"14.00\" fill=\"#000000\">6</text>\n",
       "</g>\n",
       "<!-- 7&#45;&gt;8 -->\n",
       "<g id=\"edge13\" class=\"edge\">\n",
       "<title>7&#45;&gt;8</title>\n",
       "<path fill=\"none\" stroke=\"#000000\" d=\"M119.3757,-71.178C121.9509,-77.697 124.9302,-85.2391 127.7589,-92.4\"/>\n",
       "<polygon fill=\"#000000\" stroke=\"#000000\" points=\"124.5415,-93.7819 131.4708,-101.7966 131.052,-91.21 124.5415,-93.7819\"/>\n",
       "<text text-anchor=\"middle\" x=\"116.5673\" y=\"-84.589\" font-family=\"Times,serif\" font-size=\"14.00\" fill=\"#000000\">13</text>\n",
       "</g>\n",
       "<!-- 7&#45;&gt;9 -->\n",
       "<g id=\"edge14\" class=\"edge\">\n",
       "<title>7&#45;&gt;9</title>\n",
       "<path fill=\"none\" stroke=\"#ff0000\" d=\"M129.4283,-67.4716C148.799,-83.3828 180.5974,-109.5024 202.8072,-127.7457\"/>\n",
       "<polygon fill=\"#ff0000\" stroke=\"#ff0000\" points=\"200.855,-130.6715 210.804,-134.3143 205.2982,-125.2624 200.855,-130.6715\"/>\n",
       "<text text-anchor=\"middle\" x=\"159.1178\" y=\"-86.4087\" font-family=\"Times,serif\" font-size=\"14.00\" fill=\"#ff0000\">14</text>\n",
       "</g>\n",
       "<!-- 7&#45;&gt;12 -->\n",
       "<g id=\"edge15\" class=\"edge\">\n",
       "<title>7&#45;&gt;12</title>\n",
       "<path fill=\"none\" stroke=\"#000000\" d=\"M100.7528,-69.8386C88.1628,-87.5658 67.9363,-116.0456 53.4035,-136.5085\"/>\n",
       "<polygon fill=\"#000000\" stroke=\"#000000\" points=\"50.4994,-134.5531 47.5626,-144.7328 56.2066,-138.6063 50.4994,-134.5531\"/>\n",
       "<text text-anchor=\"middle\" x=\"70.0781\" y=\"-105.9735\" font-family=\"Times,serif\" font-size=\"14.00\" fill=\"#000000\">15</text>\n",
       "</g>\n",
       "<!-- 8&#45;&gt;2 -->\n",
       "<g id=\"edge16\" class=\"edge\">\n",
       "<title>8&#45;&gt;2</title>\n",
       "<path fill=\"none\" stroke=\"#000000\" d=\"M146.3475,-137.1199C149.0749,-143.2135 152.1992,-150.1939 155.1866,-156.8686\"/>\n",
       "<polygon fill=\"#000000\" stroke=\"#000000\" points=\"152.1235,-158.5925 159.4034,-166.2901 158.5127,-155.7327 152.1235,-158.5925\"/>\n",
       "<text text-anchor=\"middle\" x=\"143.767\" y=\"-149.7942\" font-family=\"Times,serif\" font-size=\"14.00\" fill=\"#000000\">16</text>\n",
       "</g>\n",
       "<!-- 8&#45;&gt;6 -->\n",
       "<g id=\"edge17\" class=\"edge\">\n",
       "<title>8&#45;&gt;6</title>\n",
       "<path fill=\"none\" stroke=\"#0000ff\" d=\"M135.7429,-137.516C132.6945,-157.4727 127.7334,-189.951 124.1734,-213.2568\"/>\n",
       "<polygon fill=\"#0000ff\" stroke=\"#0000ff\" points=\"120.6985,-212.8276 122.6483,-223.2415 127.6182,-213.8847 120.6985,-212.8276\"/>\n",
       "<text text-anchor=\"middle\" x=\"122.9582\" y=\"-178.1864\" font-family=\"Times,serif\" font-size=\"14.00\" fill=\"#0000ff\">17</text>\n",
       "</g>\n",
       "<!-- 11 -->\n",
       "<g id=\"node11\" class=\"node\">\n",
       "<title>11</title>\n",
       "<ellipse fill=\"none\" stroke=\"#000000\" cx=\"204.2565\" cy=\"-37.2749\" rx=\"27\" ry=\"18\"/>\n",
       "<text text-anchor=\"middle\" x=\"204.2565\" y=\"-33.0749\" font-family=\"Times,serif\" font-size=\"14.00\" fill=\"#000000\">11</text>\n",
       "</g>\n",
       "<!-- 8&#45;&gt;11 -->\n",
       "<g id=\"edge18\" class=\"edge\">\n",
       "<title>8&#45;&gt;11</title>\n",
       "<path fill=\"none\" stroke=\"#000000\" d=\"M151.4804,-103.2998C161.091,-91.2766 174.3322,-74.7113 185.1471,-61.1814\"/>\n",
       "<polygon fill=\"#000000\" stroke=\"#000000\" points=\"188.0033,-63.2138 191.5132,-53.2172 182.5354,-58.8431 188.0033,-63.2138\"/>\n",
       "<text text-anchor=\"middle\" x=\"161.3137\" y=\"-71.0406\" font-family=\"Times,serif\" font-size=\"14.00\" fill=\"#000000\">18</text>\n",
       "</g>\n",
       "<!-- 9&#45;&gt;6 -->\n",
       "<g id=\"edge19\" class=\"edge\">\n",
       "<title>9&#45;&gt;6</title>\n",
       "<path fill=\"none\" stroke=\"#ff0000\" d=\"M211.0432,-162.8914C193.1265,-178.2988 164.6445,-202.7919 144.2879,-220.2974\"/>\n",
       "<polygon fill=\"#ff0000\" stroke=\"#ff0000\" points=\"141.9546,-217.6877 136.6546,-226.8617 146.5188,-222.9952 141.9546,-217.6877\"/>\n",
       "<text text-anchor=\"middle\" x=\"170.6655\" y=\"-194.3944\" font-family=\"Times,serif\" font-size=\"14.00\" fill=\"#ff0000\">19</text>\n",
       "</g>\n",
       "<!-- 10&#45;&gt;13 -->\n",
       "<g id=\"edge20\" class=\"edge\">\n",
       "<title>10&#45;&gt;13</title>\n",
       "<path fill=\"none\" stroke=\"#000000\" d=\"M447.9586,-36.0016C452.1382,-49.5637 457.9428,-68.3985 462.7034,-83.8458\"/>\n",
       "<polygon fill=\"#000000\" stroke=\"#000000\" points=\"459.3635,-84.8926 465.6535,-93.4182 466.0531,-82.8309 459.3635,-84.8926\"/>\n",
       "<text text-anchor=\"middle\" x=\"448.331\" y=\"-62.7237\" font-family=\"Times,serif\" font-size=\"14.00\" fill=\"#000000\">20</text>\n",
       "</g>\n",
       "<!-- 11&#45;&gt;7 -->\n",
       "<g id=\"edge21\" class=\"edge\">\n",
       "<title>11&#45;&gt;7</title>\n",
       "<path fill=\"none\" stroke=\"#000000\" d=\"M177.6819,-41.9585C168.5563,-43.5668 158.183,-45.395 148.4332,-47.1133\"/>\n",
       "<polygon fill=\"#000000\" stroke=\"#000000\" points=\"147.8178,-43.6678 138.5771,-48.8504 149.0329,-50.5615 147.8178,-43.6678\"/>\n",
       "<text text-anchor=\"middle\" x=\"156.0575\" y=\"-47.3359\" font-family=\"Times,serif\" font-size=\"14.00\" fill=\"#000000\">21</text>\n",
       "</g>\n",
       "<!-- 11&#45;&gt;15 -->\n",
       "<g id=\"edge22\" class=\"edge\">\n",
       "<title>11&#45;&gt;15</title>\n",
       "<path fill=\"none\" stroke=\"#000000\" d=\"M214.7401,-54.0647C228.1884,-75.6025 251.6418,-113.1637 267.2957,-138.2339\"/>\n",
       "<polygon fill=\"#000000\" stroke=\"#000000\" points=\"264.4119,-140.2238 272.6771,-146.8523 270.3495,-136.5163 264.4119,-140.2238\"/>\n",
       "<text text-anchor=\"middle\" x=\"234.0179\" y=\"-98.9493\" font-family=\"Times,serif\" font-size=\"14.00\" fill=\"#000000\">22</text>\n",
       "</g>\n",
       "<!-- 14 -->\n",
       "<g id=\"node14\" class=\"node\">\n",
       "<title>14</title>\n",
       "<ellipse fill=\"none\" stroke=\"#000000\" cx=\"333.1957\" cy=\"-284.3763\" rx=\"27\" ry=\"18\"/>\n",
       "<text text-anchor=\"middle\" x=\"333.1957\" y=\"-280.1763\" font-family=\"Times,serif\" font-size=\"14.00\" fill=\"#000000\">14</text>\n",
       "</g>\n",
       "<!-- 14&#45;&gt;4 -->\n",
       "<g id=\"edge23\" class=\"edge\">\n",
       "<title>14&#45;&gt;4</title>\n",
       "<path fill=\"none\" stroke=\"#000000\" d=\"M307.8412,-277.9788C298.4516,-275.6096 287.6276,-272.8785 277.5106,-270.3257\"/>\n",
       "<polygon fill=\"#000000\" stroke=\"#000000\" points=\"278.261,-266.9054 267.7085,-267.8525 276.5483,-273.6927 278.261,-266.9054\"/>\n",
       "<text text-anchor=\"middle\" x=\"285.6759\" y=\"-276.9523\" font-family=\"Times,serif\" font-size=\"14.00\" fill=\"#000000\">23</text>\n",
       "</g>\n",
       "<!-- 14&#45;&gt;15 -->\n",
       "<g id=\"edge24\" class=\"edge\">\n",
       "<title>14&#45;&gt;15</title>\n",
       "<path fill=\"none\" stroke=\"#000000\" d=\"M325.9265,-266.8306C317.6332,-246.8131 303.976,-213.8487 294.3388,-190.5874\"/>\n",
       "<polygon fill=\"#000000\" stroke=\"#000000\" points=\"297.5431,-189.1773 290.4821,-181.2784 291.0762,-191.8566 297.5431,-189.1773\"/>\n",
       "<text text-anchor=\"middle\" x=\"303.1327\" y=\"-231.509\" font-family=\"Times,serif\" font-size=\"14.00\" fill=\"#000000\">24</text>\n",
       "</g>\n",
       "<!-- 15&#45;&gt;5 -->\n",
       "<g id=\"edge25\" class=\"edge\">\n",
       "<title>15&#45;&gt;5</title>\n",
       "<path fill=\"none\" stroke=\"#000000\" d=\"M299.5769,-149.0902C308.9868,-140.6869 320.9764,-129.9798 331.4268,-120.6473\"/>\n",
       "<polygon fill=\"#000000\" stroke=\"#000000\" points=\"333.9225,-123.1111 339.05,-113.8396 329.2599,-117.89 333.9225,-123.1111\"/>\n",
       "<text text-anchor=\"middle\" x=\"308.5019\" y=\"-123.6688\" font-family=\"Times,serif\" font-size=\"14.00\" fill=\"#000000\">25</text>\n",
       "</g>\n",
       "<!-- 15&#45;&gt;8 -->\n",
       "<g id=\"edge26\" class=\"edge\">\n",
       "<title>15&#45;&gt;8</title>\n",
       "<path fill=\"none\" stroke=\"#000000\" d=\"M258.3262,-156.121C234.6785,-148.9057 198.9174,-137.9944 172.6129,-129.9685\"/>\n",
       "<polygon fill=\"#000000\" stroke=\"#000000\" points=\"173.6257,-126.6183 163.0395,-127.0475 171.5828,-133.3136 173.6257,-126.6183\"/>\n",
       "<text text-anchor=\"middle\" x=\"208.4696\" y=\"-131.8447\" font-family=\"Times,serif\" font-size=\"14.00\" fill=\"#000000\">26</text>\n",
       "</g>\n",
       "</g>\n",
       "</svg>\n"
      ],
      "text/plain": [
       "DiGraph(DiNode[DiNode(1,Dict{Symbol,Any}()),DiNode(2,Dict{Symbol,Any}()),DiNode(3,Dict{Symbol,Any}()),DiNode(4,Dict{Symbol,Any}()),DiNode(5,Dict{Symbol,Any}()),DiNode(6,Dict{Symbol,Any}()),DiNode(7,Dict{Symbol,Any}()),DiNode(8,Dict{Symbol,Any}()),DiNode(9,Dict{Symbol,Any}()),DiNode(10,Dict{Symbol,Any}()),DiNode(11,Dict{Symbol,Any}()),DiNode(12,Dict{Symbol,Any}()),DiNode(13,Dict{Symbol,Any}()),DiNode(14,Dict{Symbol,Any}()),DiNode(15,Dict{Symbol,Any}())],DiEdge[DiEdge(1=>7,Dict{Symbol,Any}(Pair{Symbol,Any}(:label,1),Pair{Symbol,Any}(:len,1.5),Pair{Symbol,Any}(:color,\"red\"),Pair{Symbol,Any}(:fontcolor,\"red\"))),DiEdge(1=>8,Dict{Symbol,Any}(Pair{Symbol,Any}(:label,2),Pair{Symbol,Any}(:len,1.5),Pair{Symbol,Any}(:color,\"blue\"),Pair{Symbol,Any}(:fontcolor,\"blue\"))),DiEdge(2=>4,Dict{Symbol,Any}(Pair{Symbol,Any}(:label,3),Pair{Symbol,Any}(:len,1.5))),DiEdge(2=>9,Dict{Symbol,Any}(Pair{Symbol,Any}(:label,4),Pair{Symbol,Any}(:len,1.5))),DiEdge(2=>12,Dict{Symbol,Any}(Pair{Symbol,Any}(:label,5),Pair{Symbol,Any}(:len,1.5))),DiEdge(3=>2,Dict{Symbol,Any}(Pair{Symbol,Any}(:label,6),Pair{Symbol,Any}(:len,1.5))),DiEdge(4=>9,Dict{Symbol,Any}(Pair{Symbol,Any}(:label,7),Pair{Symbol,Any}(:len,1.5))),DiEdge(4=>15,Dict{Symbol,Any}(Pair{Symbol,Any}(:label,8),Pair{Symbol,Any}(:len,1.5))),DiEdge(5=>3,Dict{Symbol,Any}(Pair{Symbol,Any}(:label,9),Pair{Symbol,Any}(:len,1.5))),DiEdge(5=>9,Dict{Symbol,Any}(Pair{Symbol,Any}(:label,10),Pair{Symbol,Any}(:len,1.5)))  …  DiEdge(8=>6,Dict{Symbol,Any}(Pair{Symbol,Any}(:label,17),Pair{Symbol,Any}(:len,1.5),Pair{Symbol,Any}(:color,\"blue\"),Pair{Symbol,Any}(:fontcolor,\"blue\"))),DiEdge(8=>11,Dict{Symbol,Any}(Pair{Symbol,Any}(:label,18),Pair{Symbol,Any}(:len,1.5))),DiEdge(9=>6,Dict{Symbol,Any}(Pair{Symbol,Any}(:label,19),Pair{Symbol,Any}(:len,1.5),Pair{Symbol,Any}(:color,\"red\"),Pair{Symbol,Any}(:fontcolor,\"red\"))),DiEdge(10=>13,Dict{Symbol,Any}(Pair{Symbol,Any}(:label,20),Pair{Symbol,Any}(:len,1.5))),DiEdge(11=>7,Dict{Symbol,Any}(Pair{Symbol,Any}(:label,21),Pair{Symbol,Any}(:len,1.5))),DiEdge(11=>15,Dict{Symbol,Any}(Pair{Symbol,Any}(:label,22),Pair{Symbol,Any}(:len,1.5))),DiEdge(14=>4,Dict{Symbol,Any}(Pair{Symbol,Any}(:label,23),Pair{Symbol,Any}(:len,1.5))),DiEdge(14=>15,Dict{Symbol,Any}(Pair{Symbol,Any}(:label,24),Pair{Symbol,Any}(:len,1.5))),DiEdge(15=>5,Dict{Symbol,Any}(Pair{Symbol,Any}(:label,25),Pair{Symbol,Any}(:len,1.5))),DiEdge(15=>8,Dict{Symbol,Any}(Pair{Symbol,Any}(:label,26),Pair{Symbol,Any}(:len,1.5)))],Dict{Symbol,Any}())"
      ]
     },
     "execution_count": 20,
     "metadata": {
      "comm_id": "c27e5923-3596-4ab6-89cf-fbc7dfcc2e04",
      "reactive": true
     },
     "output_type": "execute_result"
    }
   ],
   "source": [
    "gbig = edgelen!(randgraph(15, 1.5), 1.5)\n",
    "animloops(gbig)"
   ]
  },
  {
   "cell_type": "markdown",
   "metadata": {},
   "source": [
    "Conversely, the *independent* rows of $A$ (corresponding to the **pivot columns** of the rref form of $A^T$) form a **maximal set of edges with no loops**.  A graph with no loops is called a [tree](https://en.wikipedia.org/wiki/Tree_(graph_theory)), and this particular tree is called a [spanning tree](https://en.wikipedia.org/wiki/Spanning_tree) because it touches all of (\"spans\") the nodes (assuming the graph is connected).\n",
    "\n",
    "Let's color the spanning tree (loop-free edges) of our example graph red:"
   ]
  },
  {
   "cell_type": "code",
   "execution_count": 21,
   "metadata": {
    "collapsed": false
   },
   "outputs": [
    {
     "data": {
      "image/svg+xml": [
       "<?xml version=\"1.0\" encoding=\"UTF-8\" standalone=\"no\"?>\n",
       "<!DOCTYPE svg PUBLIC \"-//W3C//DTD SVG 1.1//EN\"\n",
       " \"http://www.w3.org/Graphics/SVG/1.1/DTD/svg11.dtd\">\n",
       "<!-- Generated by graphviz version 2.40.1 (20161225.0304)\n",
       " -->\n",
       "<!-- Title: MyDiGraph Pages: 1 -->\n",
       "<svg width=\"259pt\" height=\"257pt\"\n",
       " viewBox=\"0.00 0.00 258.52 256.56\" xmlns=\"http://www.w3.org/2000/svg\" xmlns:xlink=\"http://www.w3.org/1999/xlink\">\n",
       "<g id=\"graph0\" class=\"graph\" transform=\"scale(1 1) rotate(0) translate(4 252.5612)\">\n",
       "<title>MyDiGraph</title>\n",
       "<polygon fill=\"#ffffff\" stroke=\"transparent\" points=\"-4,4 -4,-252.5612 254.5182,-252.5612 254.5182,4 -4,4\"/>\n",
       "<!-- 1 -->\n",
       "<g id=\"node1\" class=\"node\">\n",
       "<title>1</title>\n",
       "<ellipse fill=\"none\" stroke=\"#000000\" cx=\"27\" cy=\"-140.9451\" rx=\"27\" ry=\"18\"/>\n",
       "<text text-anchor=\"middle\" x=\"27\" y=\"-136.7451\" font-family=\"Times,serif\" font-size=\"14.00\" fill=\"#000000\">1</text>\n",
       "</g>\n",
       "<!-- 4 -->\n",
       "<g id=\"node4\" class=\"node\">\n",
       "<title>4</title>\n",
       "<ellipse fill=\"none\" stroke=\"#000000\" cx=\"116.8883\" cy=\"-215.532\" rx=\"27\" ry=\"18\"/>\n",
       "<text text-anchor=\"middle\" x=\"116.8883\" y=\"-211.332\" font-family=\"Times,serif\" font-size=\"14.00\" fill=\"#000000\">4</text>\n",
       "</g>\n",
       "<!-- 1&#45;&gt;4 -->\n",
       "<g id=\"edge1\" class=\"edge\">\n",
       "<title>1&#45;&gt;4</title>\n",
       "<path fill=\"none\" stroke=\"#ff0000\" d=\"M44.3314,-155.3262C57.8476,-166.5416 76.8036,-182.2708 91.9506,-194.8393\"/>\n",
       "<polygon fill=\"#ff0000\" stroke=\"#ff0000\" points=\"89.9843,-197.7558 99.915,-201.448 94.4543,-192.3688 89.9843,-197.7558\"/>\n",
       "<text text-anchor=\"middle\" x=\"64.641\" y=\"-177.8828\" font-family=\"Times,serif\" font-size=\"14.00\" fill=\"#ff0000\">1</text>\n",
       "</g>\n",
       "<!-- 2 -->\n",
       "<g id=\"node2\" class=\"node\">\n",
       "<title>2</title>\n",
       "<ellipse fill=\"none\" stroke=\"#000000\" cx=\"102.2914\" cy=\"-51.6524\" rx=\"27\" ry=\"18\"/>\n",
       "<text text-anchor=\"middle\" x=\"102.2914\" y=\"-47.4524\" font-family=\"Times,serif\" font-size=\"14.00\" fill=\"#000000\">2</text>\n",
       "</g>\n",
       "<!-- 2&#45;&gt;1 -->\n",
       "<g id=\"edge6\" class=\"edge\">\n",
       "<title>2&#45;&gt;1</title>\n",
       "<path fill=\"none\" stroke=\"#000000\" d=\"M88.8308,-67.6162C77.1606,-81.4566 60.1129,-101.6744 46.8723,-117.3772\"/>\n",
       "<polygon fill=\"#000000\" stroke=\"#000000\" points=\"44.1146,-115.2183 40.3441,-125.1195 49.4661,-119.7307 44.1146,-115.2183\"/>\n",
       "<text text-anchor=\"middle\" x=\"64.3516\" y=\"-95.2967\" font-family=\"Times,serif\" font-size=\"14.00\" fill=\"#000000\">6</text>\n",
       "</g>\n",
       "<!-- 6 -->\n",
       "<g id=\"node6\" class=\"node\">\n",
       "<title>6</title>\n",
       "<ellipse fill=\"none\" stroke=\"#000000\" cx=\"192.6702\" cy=\"-126.1901\" rx=\"27\" ry=\"18\"/>\n",
       "<text text-anchor=\"middle\" x=\"192.6702\" y=\"-121.9901\" font-family=\"Times,serif\" font-size=\"14.00\" fill=\"#000000\">6</text>\n",
       "</g>\n",
       "<!-- 2&#45;&gt;6 -->\n",
       "<g id=\"edge7\" class=\"edge\">\n",
       "<title>2&#45;&gt;6</title>\n",
       "<path fill=\"none\" stroke=\"#000000\" d=\"M119.2909,-65.6724C132.8382,-76.8452 152.0133,-92.6594 167.3645,-105.3199\"/>\n",
       "<polygon fill=\"#000000\" stroke=\"#000000\" points=\"165.4978,-108.3172 175.4396,-111.9796 169.9517,-102.9168 165.4978,-108.3172\"/>\n",
       "<text text-anchor=\"middle\" x=\"139.8277\" y=\"-88.2962\" font-family=\"Times,serif\" font-size=\"14.00\" fill=\"#000000\">7</text>\n",
       "</g>\n",
       "<!-- 3 -->\n",
       "<g id=\"node3\" class=\"node\">\n",
       "<title>3</title>\n",
       "<ellipse fill=\"none\" stroke=\"#000000\" cx=\"204.5704\" cy=\"-18\" rx=\"27\" ry=\"18\"/>\n",
       "<text text-anchor=\"middle\" x=\"204.5704\" y=\"-13.8\" font-family=\"Times,serif\" font-size=\"14.00\" fill=\"#000000\">3</text>\n",
       "</g>\n",
       "<!-- 3&#45;&gt;2 -->\n",
       "<g id=\"edge5\" class=\"edge\">\n",
       "<title>3&#45;&gt;2</title>\n",
       "<path fill=\"none\" stroke=\"#ff0000\" d=\"M180.3317,-25.9752C167.1806,-30.3022 150.7115,-35.721 136.2962,-40.464\"/>\n",
       "<polygon fill=\"#ff0000\" stroke=\"#ff0000\" points=\"135.1157,-37.1677 126.7105,-43.6179 137.3035,-43.8171 135.1157,-37.1677\"/>\n",
       "<text text-anchor=\"middle\" x=\"154.814\" y=\"-36.0196\" font-family=\"Times,serif\" font-size=\"14.00\" fill=\"#ff0000\">5</text>\n",
       "</g>\n",
       "<!-- 5 -->\n",
       "<g id=\"node5\" class=\"node\">\n",
       "<title>5</title>\n",
       "<ellipse fill=\"none\" stroke=\"#000000\" cx=\"223.5182\" cy=\"-230.5612\" rx=\"27\" ry=\"18\"/>\n",
       "<text text-anchor=\"middle\" x=\"223.5182\" y=\"-226.3612\" font-family=\"Times,serif\" font-size=\"14.00\" fill=\"#000000\">5</text>\n",
       "</g>\n",
       "<!-- 4&#45;&gt;5 -->\n",
       "<g id=\"edge2\" class=\"edge\">\n",
       "<title>4&#45;&gt;5</title>\n",
       "<path fill=\"none\" stroke=\"#ff0000\" d=\"M143.5205,-219.2857C156.6248,-221.1327 172.6268,-223.3882 186.8659,-225.3951\"/>\n",
       "<polygon fill=\"#ff0000\" stroke=\"#ff0000\" points=\"186.4654,-228.8732 196.856,-226.8032 187.4424,-221.9417 186.4654,-228.8732\"/>\n",
       "<text text-anchor=\"middle\" x=\"161.6932\" y=\"-225.1404\" font-family=\"Times,serif\" font-size=\"14.00\" fill=\"#ff0000\">2</text>\n",
       "</g>\n",
       "<!-- 4&#45;&gt;6 -->\n",
       "<g id=\"edge8\" class=\"edge\">\n",
       "<title>4&#45;&gt;6</title>\n",
       "<path fill=\"none\" stroke=\"#000000\" d=\"M130.4366,-199.5595C142.1828,-185.7114 159.3415,-165.4824 172.6684,-149.771\"/>\n",
       "<polygon fill=\"#000000\" stroke=\"#000000\" points=\"175.4397,-151.9145 179.2392,-142.0244 170.1014,-147.3865 175.4397,-151.9145\"/>\n",
       "<text text-anchor=\"middle\" x=\"148.0525\" y=\"-177.4652\" font-family=\"Times,serif\" font-size=\"14.00\" fill=\"#000000\">8</text>\n",
       "</g>\n",
       "<!-- 5&#45;&gt;6 -->\n",
       "<g id=\"edge3\" class=\"edge\">\n",
       "<title>5&#45;&gt;6</title>\n",
       "<path fill=\"none\" stroke=\"#ff0000\" d=\"M218.2853,-212.856C213.499,-196.6623 206.343,-172.4508 200.8102,-153.7311\"/>\n",
       "<polygon fill=\"#ff0000\" stroke=\"#ff0000\" points=\"204.1197,-152.58 197.9288,-143.9821 197.4068,-154.5641 204.1197,-152.58\"/>\n",
       "<text text-anchor=\"middle\" x=\"206.0477\" y=\"-186.0936\" font-family=\"Times,serif\" font-size=\"14.00\" fill=\"#ff0000\">3</text>\n",
       "</g>\n",
       "<!-- 6&#45;&gt;3 -->\n",
       "<g id=\"edge4\" class=\"edge\">\n",
       "<title>6&#45;&gt;3</title>\n",
       "<path fill=\"none\" stroke=\"#ff0000\" d=\"M194.6889,-107.8372C196.5465,-90.9492 199.3293,-65.6489 201.469,-46.1966\"/>\n",
       "<polygon fill=\"#ff0000\" stroke=\"#ff0000\" points=\"204.9671,-46.4047 202.5815,-36.0819 198.009,-45.6393 204.9671,-46.4047\"/>\n",
       "<text text-anchor=\"middle\" x=\"194.5789\" y=\"-79.8169\" font-family=\"Times,serif\" font-size=\"14.00\" fill=\"#ff0000\">4</text>\n",
       "</g>\n",
       "</g>\n",
       "</svg>\n"
      ],
      "text/plain": [
       "DiGraph(DiNode[DiNode(1,Dict{Symbol,Any}()),DiNode(2,Dict{Symbol,Any}()),DiNode(3,Dict{Symbol,Any}()),DiNode(4,Dict{Symbol,Any}()),DiNode(5,Dict{Symbol,Any}()),DiNode(6,Dict{Symbol,Any}())],DiEdge[DiEdge(1=>4,Dict{Symbol,Any}(Pair{Symbol,Any}(:label,1),Pair{Symbol,Any}(:len,1.5),Pair{Symbol,Any}(:color,\"red\"),Pair{Symbol,Any}(:fontcolor,\"red\"))),DiEdge(4=>5,Dict{Symbol,Any}(Pair{Symbol,Any}(:label,2),Pair{Symbol,Any}(:len,1.5),Pair{Symbol,Any}(:color,\"red\"),Pair{Symbol,Any}(:fontcolor,\"red\"))),DiEdge(5=>6,Dict{Symbol,Any}(Pair{Symbol,Any}(:label,3),Pair{Symbol,Any}(:len,1.5),Pair{Symbol,Any}(:color,\"red\"),Pair{Symbol,Any}(:fontcolor,\"red\"))),DiEdge(6=>3,Dict{Symbol,Any}(Pair{Symbol,Any}(:label,4),Pair{Symbol,Any}(:len,1.5),Pair{Symbol,Any}(:color,\"red\"),Pair{Symbol,Any}(:fontcolor,\"red\"))),DiEdge(3=>2,Dict{Symbol,Any}(Pair{Symbol,Any}(:label,5),Pair{Symbol,Any}(:len,1.5),Pair{Symbol,Any}(:color,\"red\"),Pair{Symbol,Any}(:fontcolor,\"red\"))),DiEdge(2=>1,Dict{Symbol,Any}(Pair{Symbol,Any}(:label,6),Pair{Symbol,Any}(:len,1.5))),DiEdge(2=>6,Dict{Symbol,Any}(Pair{Symbol,Any}(:label,7),Pair{Symbol,Any}(:len,1.5))),DiEdge(4=>6,Dict{Symbol,Any}(Pair{Symbol,Any}(:label,8),Pair{Symbol,Any}(:len,1.5)))],Dict{Symbol,Any}())"
      ]
     },
     "execution_count": 21,
     "metadata": {},
     "output_type": "execute_result"
    }
   ],
   "source": [
    "colortree(g)"
   ]
  },
  {
   "cell_type": "markdown",
   "metadata": {},
   "source": [
    "We can also discard all of the edges that are *not* in the spanning tree, and we are left with a more boring graph of *just* the spanning tree:"
   ]
  },
  {
   "cell_type": "code",
   "execution_count": 22,
   "metadata": {
    "collapsed": false
   },
   "outputs": [
    {
     "data": {
      "image/svg+xml": [
       "<?xml version=\"1.0\" encoding=\"UTF-8\" standalone=\"no\"?>\n",
       "<!DOCTYPE svg PUBLIC \"-//W3C//DTD SVG 1.1//EN\"\n",
       " \"http://www.w3.org/Graphics/SVG/1.1/DTD/svg11.dtd\">\n",
       "<!-- Generated by graphviz version 2.40.1 (20161225.0304)\n",
       " -->\n",
       "<!-- Title: MyDiGraph Pages: 1 -->\n",
       "<svg width=\"492pt\" height=\"364pt\"\n",
       " viewBox=\"0.00 0.00 492.28 363.85\" xmlns=\"http://www.w3.org/2000/svg\" xmlns:xlink=\"http://www.w3.org/1999/xlink\">\n",
       "<g id=\"graph0\" class=\"graph\" transform=\"scale(1 1) rotate(0) translate(4 359.8467)\">\n",
       "<title>MyDiGraph</title>\n",
       "<polygon fill=\"#ffffff\" stroke=\"transparent\" points=\"-4,4 -4,-359.8467 488.2785,-359.8467 488.2785,4 -4,4\"/>\n",
       "<!-- 1 -->\n",
       "<g id=\"node1\" class=\"node\">\n",
       "<title>1</title>\n",
       "<ellipse fill=\"none\" stroke=\"#000000\" cx=\"27\" cy=\"-337.8467\" rx=\"27\" ry=\"18\"/>\n",
       "<text text-anchor=\"middle\" x=\"27\" y=\"-333.6467\" font-family=\"Times,serif\" font-size=\"14.00\" fill=\"#000000\">1</text>\n",
       "</g>\n",
       "<!-- 4 -->\n",
       "<g id=\"node4\" class=\"node\">\n",
       "<title>4</title>\n",
       "<ellipse fill=\"none\" stroke=\"#000000\" cx=\"126.3206\" cy=\"-293.7202\" rx=\"27\" ry=\"18\"/>\n",
       "<text text-anchor=\"middle\" x=\"126.3206\" y=\"-289.5202\" font-family=\"Times,serif\" font-size=\"14.00\" fill=\"#000000\">4</text>\n",
       "</g>\n",
       "<!-- 1&#45;&gt;4 -->\n",
       "<g id=\"edge1\" class=\"edge\">\n",
       "<title>1&#45;&gt;4</title>\n",
       "<path fill=\"none\" stroke=\"#000000\" d=\"M49.5374,-327.8337C62.7772,-321.9515 79.7273,-314.4208 94.3323,-307.9321\"/>\n",
       "<polygon fill=\"#000000\" stroke=\"#000000\" points=\"95.811,-311.1051 103.5286,-303.8463 92.9689,-304.708 95.811,-311.1051\"/>\n",
       "<text text-anchor=\"middle\" x=\"68.4348\" y=\"-320.6829\" font-family=\"Times,serif\" font-size=\"14.00\" fill=\"#000000\">1</text>\n",
       "</g>\n",
       "<!-- 2 -->\n",
       "<g id=\"node2\" class=\"node\">\n",
       "<title>2</title>\n",
       "<ellipse fill=\"none\" stroke=\"#000000\" cx=\"457.2785\" cy=\"-18\" rx=\"27\" ry=\"18\"/>\n",
       "<text text-anchor=\"middle\" x=\"457.2785\" y=\"-13.8\" font-family=\"Times,serif\" font-size=\"14.00\" fill=\"#000000\">2</text>\n",
       "</g>\n",
       "<!-- 3 -->\n",
       "<g id=\"node3\" class=\"node\">\n",
       "<title>3</title>\n",
       "<ellipse fill=\"none\" stroke=\"#000000\" cx=\"363.1409\" cy=\"-72.0233\" rx=\"27\" ry=\"18\"/>\n",
       "<text text-anchor=\"middle\" x=\"363.1409\" y=\"-67.8233\" font-family=\"Times,serif\" font-size=\"14.00\" fill=\"#000000\">3</text>\n",
       "</g>\n",
       "<!-- 3&#45;&gt;2 -->\n",
       "<g id=\"edge5\" class=\"edge\">\n",
       "<title>3&#45;&gt;2</title>\n",
       "<path fill=\"none\" stroke=\"#000000\" d=\"M384.0331,-60.0338C396.919,-52.6389 413.6428,-43.0415 427.8563,-34.8847\"/>\n",
       "<polygon fill=\"#000000\" stroke=\"#000000\" points=\"429.8374,-37.7832 436.7686,-29.7701 426.3532,-31.7119 429.8374,-37.7832\"/>\n",
       "<text text-anchor=\"middle\" x=\"402.4447\" y=\"-50.2592\" font-family=\"Times,serif\" font-size=\"14.00\" fill=\"#000000\">5</text>\n",
       "</g>\n",
       "<!-- 5 -->\n",
       "<g id=\"node5\" class=\"node\">\n",
       "<title>5</title>\n",
       "<ellipse fill=\"none\" stroke=\"#000000\" cx=\"213.7722\" cy=\"-229.1838\" rx=\"27\" ry=\"18\"/>\n",
       "<text text-anchor=\"middle\" x=\"213.7722\" y=\"-224.9838\" font-family=\"Times,serif\" font-size=\"14.00\" fill=\"#000000\">5</text>\n",
       "</g>\n",
       "<!-- 4&#45;&gt;5 -->\n",
       "<g id=\"edge2\" class=\"edge\">\n",
       "<title>4&#45;&gt;5</title>\n",
       "<path fill=\"none\" stroke=\"#000000\" d=\"M144.4406,-280.3482C156.787,-271.237 173.3386,-259.0225 187.1734,-248.8129\"/>\n",
       "<polygon fill=\"#000000\" stroke=\"#000000\" points=\"189.4065,-251.5148 195.3745,-242.7607 185.25,-245.8824 189.4065,-251.5148\"/>\n",
       "<text text-anchor=\"middle\" x=\"162.307\" y=\"-267.3806\" font-family=\"Times,serif\" font-size=\"14.00\" fill=\"#000000\">2</text>\n",
       "</g>\n",
       "<!-- 6 -->\n",
       "<g id=\"node6\" class=\"node\">\n",
       "<title>6</title>\n",
       "<ellipse fill=\"none\" stroke=\"#000000\" cx=\"284.6602\" cy=\"-146.8726\" rx=\"27\" ry=\"18\"/>\n",
       "<text text-anchor=\"middle\" x=\"284.6602\" y=\"-142.6726\" font-family=\"Times,serif\" font-size=\"14.00\" fill=\"#000000\">6</text>\n",
       "</g>\n",
       "<!-- 5&#45;&gt;6 -->\n",
       "<g id=\"edge3\" class=\"edge\">\n",
       "<title>5&#45;&gt;6</title>\n",
       "<path fill=\"none\" stroke=\"#000000\" d=\"M227.4401,-213.3134C237.9333,-201.1292 252.584,-184.1177 264.4336,-170.3586\"/>\n",
       "<polygon fill=\"#000000\" stroke=\"#000000\" points=\"267.1606,-172.5556 271.0343,-162.6943 261.8565,-167.9876 267.1606,-172.5556\"/>\n",
       "<text text-anchor=\"middle\" x=\"242.4369\" y=\"-194.636\" font-family=\"Times,serif\" font-size=\"14.00\" fill=\"#000000\">3</text>\n",
       "</g>\n",
       "<!-- 6&#45;&gt;3 -->\n",
       "<g id=\"edge4\" class=\"edge\">\n",
       "<title>6&#45;&gt;3</title>\n",
       "<path fill=\"none\" stroke=\"#000000\" d=\"M300.1655,-132.0848C311.5594,-121.218 327.2299,-106.2727 340.0884,-94.0092\"/>\n",
       "<polygon fill=\"#000000\" stroke=\"#000000\" points=\"342.8469,-96.2149 347.6678,-86.7804 338.0157,-91.1493 342.8469,-96.2149\"/>\n",
       "<text text-anchor=\"middle\" x=\"316.6269\" y=\"-115.847\" font-family=\"Times,serif\" font-size=\"14.00\" fill=\"#000000\">4</text>\n",
       "</g>\n",
       "</g>\n",
       "</svg>\n"
      ],
      "text/plain": [
       "DiGraph(DiNode[DiNode(1,Dict{Symbol,Any}()),DiNode(2,Dict{Symbol,Any}()),DiNode(3,Dict{Symbol,Any}()),DiNode(4,Dict{Symbol,Any}()),DiNode(5,Dict{Symbol,Any}()),DiNode(6,Dict{Symbol,Any}())],DiEdge[DiEdge(1=>4,Dict{Symbol,Any}(Pair{Symbol,Any}(:label,1),Pair{Symbol,Any}(:len,1.5))),DiEdge(4=>5,Dict{Symbol,Any}(Pair{Symbol,Any}(:label,2),Pair{Symbol,Any}(:len,1.5))),DiEdge(5=>6,Dict{Symbol,Any}(Pair{Symbol,Any}(:label,3),Pair{Symbol,Any}(:len,1.5))),DiEdge(6=>3,Dict{Symbol,Any}(Pair{Symbol,Any}(:label,4),Pair{Symbol,Any}(:len,1.5))),DiEdge(3=>2,Dict{Symbol,Any}(Pair{Symbol,Any}(:label,5),Pair{Symbol,Any}(:len,1.5)))],Dict{Symbol,Any}())"
      ]
     },
     "execution_count": 22,
     "metadata": {},
     "output_type": "execute_result"
    }
   ],
   "source": [
    "tree(g)"
   ]
  },
  {
   "cell_type": "markdown",
   "metadata": {},
   "source": [
    "We can do the same thing for our bigger random example:"
   ]
  },
  {
   "cell_type": "code",
   "execution_count": 23,
   "metadata": {
    "collapsed": false
   },
   "outputs": [
    {
     "data": {
      "image/svg+xml": [
       "<?xml version=\"1.0\" encoding=\"UTF-8\" standalone=\"no\"?>\n",
       "<!DOCTYPE svg PUBLIC \"-//W3C//DTD SVG 1.1//EN\"\n",
       " \"http://www.w3.org/Graphics/SVG/1.1/DTD/svg11.dtd\">\n",
       "<!-- Generated by graphviz version 2.40.1 (20161225.0304)\n",
       " -->\n",
       "<!-- Title: MyDiGraph Pages: 1 -->\n",
       "<svg width=\"506pt\" height=\"310pt\"\n",
       " viewBox=\"0.00 0.00 506.18 310.38\" xmlns=\"http://www.w3.org/2000/svg\" xmlns:xlink=\"http://www.w3.org/1999/xlink\">\n",
       "<g id=\"graph0\" class=\"graph\" transform=\"scale(1 1) rotate(0) translate(4 306.3763)\">\n",
       "<title>MyDiGraph</title>\n",
       "<polygon fill=\"#ffffff\" stroke=\"transparent\" points=\"-4,4 -4,-306.3763 502.1843,-306.3763 502.1843,4 -4,4\"/>\n",
       "<!-- 1 -->\n",
       "<g id=\"node1\" class=\"node\">\n",
       "<title>1</title>\n",
       "<ellipse fill=\"none\" stroke=\"#000000\" cx=\"27\" cy=\"-43.3362\" rx=\"27\" ry=\"18\"/>\n",
       "<text text-anchor=\"middle\" x=\"27\" y=\"-39.1362\" font-family=\"Times,serif\" font-size=\"14.00\" fill=\"#000000\">1</text>\n",
       "</g>\n",
       "<!-- 7 -->\n",
       "<g id=\"node7\" class=\"node\">\n",
       "<title>7</title>\n",
       "<ellipse fill=\"none\" stroke=\"#000000\" cx=\"112.3795\" cy=\"-53.4675\" rx=\"27\" ry=\"18\"/>\n",
       "<text text-anchor=\"middle\" x=\"112.3795\" y=\"-49.2675\" font-family=\"Times,serif\" font-size=\"14.00\" fill=\"#000000\">7</text>\n",
       "</g>\n",
       "<!-- 1&#45;&gt;7 -->\n",
       "<g id=\"edge1\" class=\"edge\">\n",
       "<title>1&#45;&gt;7</title>\n",
       "<path fill=\"none\" stroke=\"#ff0000\" d=\"M54.0146,-46.5419C60.7764,-47.3442 68.1475,-48.2189 75.3043,-49.0681\"/>\n",
       "<polygon fill=\"#ff0000\" stroke=\"#ff0000\" points=\"75.1979,-52.58 85.5407,-50.2828 76.0228,-45.6287 75.1979,-52.58\"/>\n",
       "<text text-anchor=\"middle\" x=\"61.1595\" y=\"-50.605\" font-family=\"Times,serif\" font-size=\"14.00\" fill=\"#ff0000\">1</text>\n",
       "</g>\n",
       "<!-- 8 -->\n",
       "<g id=\"node8\" class=\"node\">\n",
       "<title>8</title>\n",
       "<ellipse fill=\"none\" stroke=\"#000000\" cx=\"138.4863\" cy=\"-119.5559\" rx=\"27\" ry=\"18\"/>\n",
       "<text text-anchor=\"middle\" x=\"138.4863\" y=\"-115.3559\" font-family=\"Times,serif\" font-size=\"14.00\" fill=\"#000000\">8</text>\n",
       "</g>\n",
       "<!-- 1&#45;&gt;8 -->\n",
       "<g id=\"edge2\" class=\"edge\">\n",
       "<title>1&#45;&gt;8</title>\n",
       "<path fill=\"none\" stroke=\"#ff0000\" d=\"M45.9121,-56.2659C63.7704,-68.475 90.7572,-86.925 110.9928,-100.7595\"/>\n",
       "<polygon fill=\"#ff0000\" stroke=\"#ff0000\" points=\"109.2509,-103.8084 119.4814,-106.5629 113.2015,-98.0297 109.2509,-103.8084\"/>\n",
       "<text text-anchor=\"middle\" x=\"74.9525\" y=\"-81.3127\" font-family=\"Times,serif\" font-size=\"14.00\" fill=\"#ff0000\">2</text>\n",
       "</g>\n",
       "<!-- 2 -->\n",
       "<g id=\"node2\" class=\"node\">\n",
       "<title>2</title>\n",
       "<ellipse fill=\"none\" stroke=\"#000000\" cx=\"167.2551\" cy=\"-183.8328\" rx=\"27\" ry=\"18\"/>\n",
       "<text text-anchor=\"middle\" x=\"167.2551\" y=\"-179.6328\" font-family=\"Times,serif\" font-size=\"14.00\" fill=\"#000000\">2</text>\n",
       "</g>\n",
       "<!-- 4 -->\n",
       "<g id=\"node4\" class=\"node\">\n",
       "<title>4</title>\n",
       "<ellipse fill=\"none\" stroke=\"#000000\" cx=\"242.1743\" cy=\"-261.4096\" rx=\"27\" ry=\"18\"/>\n",
       "<text text-anchor=\"middle\" x=\"242.1743\" y=\"-257.2096\" font-family=\"Times,serif\" font-size=\"14.00\" fill=\"#000000\">4</text>\n",
       "</g>\n",
       "<!-- 2&#45;&gt;4 -->\n",
       "<g id=\"edge3\" class=\"edge\">\n",
       "<title>2&#45;&gt;4</title>\n",
       "<path fill=\"none\" stroke=\"#ff0000\" d=\"M182.0567,-199.1595C192.9336,-210.4222 207.893,-225.9122 220.1679,-238.6226\"/>\n",
       "<polygon fill=\"#ff0000\" stroke=\"#ff0000\" points=\"217.939,-241.3529 227.4034,-246.1148 222.9742,-236.4901 217.939,-241.3529\"/>\n",
       "<text text-anchor=\"middle\" x=\"197.6123\" y=\"-221.691\" font-family=\"Times,serif\" font-size=\"14.00\" fill=\"#ff0000\">3</text>\n",
       "</g>\n",
       "<!-- 9 -->\n",
       "<g id=\"node9\" class=\"node\">\n",
       "<title>9</title>\n",
       "<ellipse fill=\"none\" stroke=\"#000000\" cx=\"227.9227\" cy=\"-148.3758\" rx=\"27\" ry=\"18\"/>\n",
       "<text text-anchor=\"middle\" x=\"227.9227\" y=\"-144.1758\" font-family=\"Times,serif\" font-size=\"14.00\" fill=\"#000000\">9</text>\n",
       "</g>\n",
       "<!-- 2&#45;&gt;9 -->\n",
       "<g id=\"edge4\" class=\"edge\">\n",
       "<title>2&#45;&gt;9</title>\n",
       "<path fill=\"none\" stroke=\"#ff0000\" d=\"M187.7944,-171.8287C191.2534,-169.8071 194.9028,-167.6742 198.534,-165.5519\"/>\n",
       "<polygon fill=\"#ff0000\" stroke=\"#ff0000\" points=\"200.537,-168.4352 207.4046,-160.3676 197.0049,-162.3917 200.537,-168.4352\"/>\n",
       "<text text-anchor=\"middle\" x=\"196.6642\" y=\"-157.4903\" font-family=\"Times,serif\" font-size=\"14.00\" fill=\"#ff0000\">4</text>\n",
       "</g>\n",
       "<!-- 12 -->\n",
       "<g id=\"node12\" class=\"node\">\n",
       "<title>12</title>\n",
       "<ellipse fill=\"none\" stroke=\"#000000\" cx=\"35.8264\" cy=\"-161.2579\" rx=\"27\" ry=\"18\"/>\n",
       "<text text-anchor=\"middle\" x=\"35.8264\" y=\"-157.0579\" font-family=\"Times,serif\" font-size=\"14.00\" fill=\"#000000\">12</text>\n",
       "</g>\n",
       "<!-- 2&#45;&gt;12 -->\n",
       "<g id=\"edge5\" class=\"edge\">\n",
       "<title>2&#45;&gt;12</title>\n",
       "<path fill=\"none\" stroke=\"#ff0000\" d=\"M140.9745,-179.3187C121.1858,-175.9196 93.8265,-171.2203 71.9764,-167.4672\"/>\n",
       "<polygon fill=\"#ff0000\" stroke=\"#ff0000\" points=\"72.5098,-164.0076 62.0616,-165.7642 71.3247,-170.9066 72.5098,-164.0076\"/>\n",
       "<text text-anchor=\"middle\" x=\"102.9754\" y=\"-176.1929\" font-family=\"Times,serif\" font-size=\"14.00\" fill=\"#ff0000\">5</text>\n",
       "</g>\n",
       "<!-- 3 -->\n",
       "<g id=\"node3\" class=\"node\">\n",
       "<title>3</title>\n",
       "<ellipse fill=\"none\" stroke=\"#000000\" cx=\"276.4021\" cy=\"-36.1887\" rx=\"27\" ry=\"18\"/>\n",
       "<text text-anchor=\"middle\" x=\"276.4021\" y=\"-31.9887\" font-family=\"Times,serif\" font-size=\"14.00\" fill=\"#000000\">3</text>\n",
       "</g>\n",
       "<!-- 3&#45;&gt;2 -->\n",
       "<g id=\"edge6\" class=\"edge\">\n",
       "<title>3&#45;&gt;2</title>\n",
       "<path fill=\"none\" stroke=\"#ff0000\" d=\"M264.3044,-52.5533C245.2091,-78.3837 207.9565,-128.7757 185.5701,-159.058\"/>\n",
       "<polygon fill=\"#ff0000\" stroke=\"#ff0000\" points=\"182.5371,-157.2729 179.407,-167.3948 188.166,-161.4342 182.5371,-157.2729\"/>\n",
       "<text text-anchor=\"middle\" x=\"221.4373\" y=\"-108.6056\" font-family=\"Times,serif\" font-size=\"14.00\" fill=\"#ff0000\">6</text>\n",
       "</g>\n",
       "<!-- 4&#45;&gt;9 -->\n",
       "<g id=\"edge7\" class=\"edge\">\n",
       "<title>4&#45;&gt;9</title>\n",
       "<path fill=\"none\" stroke=\"#000000\" d=\"M239.8845,-243.2488C237.6198,-225.2865 234.1211,-197.5371 231.4915,-176.6812\"/>\n",
       "<polygon fill=\"#000000\" stroke=\"#000000\" points=\"234.9303,-175.9752 230.2068,-166.4916 227.9853,-176.8509 234.9303,-175.9752\"/>\n",
       "<text text-anchor=\"middle\" x=\"232.188\" y=\"-212.765\" font-family=\"Times,serif\" font-size=\"14.00\" fill=\"#000000\">7</text>\n",
       "</g>\n",
       "<!-- 15 -->\n",
       "<g id=\"node15\" class=\"node\">\n",
       "<title>15</title>\n",
       "<ellipse fill=\"none\" stroke=\"#000000\" cx=\"283.2041\" cy=\"-163.7116\" rx=\"27\" ry=\"18\"/>\n",
       "<text text-anchor=\"middle\" x=\"283.2041\" y=\"-159.5116\" font-family=\"Times,serif\" font-size=\"14.00\" fill=\"#000000\">15</text>\n",
       "</g>\n",
       "<!-- 4&#45;&gt;15 -->\n",
       "<g id=\"edge8\" class=\"edge\">\n",
       "<title>4&#45;&gt;15</title>\n",
       "<path fill=\"none\" stroke=\"#ff0000\" d=\"M249.5096,-243.9432C255.714,-229.1695 264.7075,-207.7546 271.8427,-190.7647\"/>\n",
       "<polygon fill=\"#ff0000\" stroke=\"#ff0000\" points=\"275.1488,-191.9314 275.7939,-181.3562 268.6948,-189.2209 275.1488,-191.9314\"/>\n",
       "<text text-anchor=\"middle\" x=\"257.1762\" y=\"-220.1539\" font-family=\"Times,serif\" font-size=\"14.00\" fill=\"#ff0000\">8</text>\n",
       "</g>\n",
       "<!-- 5 -->\n",
       "<g id=\"node5\" class=\"node\">\n",
       "<title>5</title>\n",
       "<ellipse fill=\"none\" stroke=\"#000000\" cx=\"355.358\" cy=\"-99.2761\" rx=\"27\" ry=\"18\"/>\n",
       "<text text-anchor=\"middle\" x=\"355.358\" y=\"-95.0761\" font-family=\"Times,serif\" font-size=\"14.00\" fill=\"#000000\">5</text>\n",
       "</g>\n",
       "<!-- 5&#45;&gt;3 -->\n",
       "<g id=\"edge9\" class=\"edge\">\n",
       "<title>5&#45;&gt;3</title>\n",
       "<path fill=\"none\" stroke=\"#ff0000\" d=\"M337.8352,-85.2749C327.3064,-76.8622 313.7226,-66.0085 302.0066,-56.6472\"/>\n",
       "<polygon fill=\"#ff0000\" stroke=\"#ff0000\" points=\"303.8733,-53.6586 293.876,-50.1507 299.5036,-59.1273 303.8733,-53.6586\"/>\n",
       "<text text-anchor=\"middle\" x=\"316.4209\" y=\"-73.761\" font-family=\"Times,serif\" font-size=\"14.00\" fill=\"#ff0000\">9</text>\n",
       "</g>\n",
       "<!-- 5&#45;&gt;9 -->\n",
       "<g id=\"edge10\" class=\"edge\">\n",
       "<title>5&#45;&gt;9</title>\n",
       "<path fill=\"none\" stroke=\"#000000\" d=\"M331.6871,-108.3963C311.7483,-116.0785 283.0112,-127.1507 260.8324,-135.696\"/>\n",
       "<polygon fill=\"#000000\" stroke=\"#000000\" points=\"259.5399,-132.4431 251.4669,-139.3044 262.0566,-138.9751 259.5399,-132.4431\"/>\n",
       "<text text-anchor=\"middle\" x=\"289.2598\" y=\"-124.8461\" font-family=\"Times,serif\" font-size=\"14.00\" fill=\"#000000\">10</text>\n",
       "</g>\n",
       "<!-- 10 -->\n",
       "<g id=\"node10\" class=\"node\">\n",
       "<title>10</title>\n",
       "<ellipse fill=\"none\" stroke=\"#000000\" cx=\"442.4108\" cy=\"-18\" rx=\"27\" ry=\"18\"/>\n",
       "<text text-anchor=\"middle\" x=\"442.4108\" y=\"-13.8\" font-family=\"Times,serif\" font-size=\"14.00\" fill=\"#000000\">10</text>\n",
       "</g>\n",
       "<!-- 5&#45;&gt;10 -->\n",
       "<g id=\"edge11\" class=\"edge\">\n",
       "<title>5&#45;&gt;10</title>\n",
       "<path fill=\"none\" stroke=\"#ff0000\" d=\"M371.3249,-84.3688C384.7005,-71.8808 403.9745,-53.8857 419.0796,-39.783\"/>\n",
       "<polygon fill=\"#ff0000\" stroke=\"#ff0000\" points=\"421.6243,-42.1955 426.5452,-32.8128 416.8472,-37.0789 421.6243,-42.1955\"/>\n",
       "<text text-anchor=\"middle\" x=\"388.4586\" y=\"-64.8759\" font-family=\"Times,serif\" font-size=\"14.00\" fill=\"#ff0000\">11</text>\n",
       "</g>\n",
       "<!-- 13 -->\n",
       "<g id=\"node13\" class=\"node\">\n",
       "<title>13</title>\n",
       "<ellipse fill=\"none\" stroke=\"#000000\" cx=\"471.1843\" cy=\"-111.3646\" rx=\"27\" ry=\"18\"/>\n",
       "<text text-anchor=\"middle\" x=\"471.1843\" y=\"-107.1646\" font-family=\"Times,serif\" font-size=\"14.00\" fill=\"#000000\">13</text>\n",
       "</g>\n",
       "<!-- 5&#45;&gt;13 -->\n",
       "<g id=\"edge12\" class=\"edge\">\n",
       "<title>5&#45;&gt;13</title>\n",
       "<path fill=\"none\" stroke=\"#ff0000\" d=\"M382.222,-102.0798C397.7179,-103.6971 417.4245,-105.7538 434.3496,-107.5203\"/>\n",
       "<polygon fill=\"#ff0000\" stroke=\"#ff0000\" points=\"434.1567,-111.019 444.466,-108.5761 434.8834,-104.0569 434.1567,-111.019\"/>\n",
       "<text text-anchor=\"middle\" x=\"401.2858\" y=\"-107.6\" font-family=\"Times,serif\" font-size=\"14.00\" fill=\"#ff0000\">12</text>\n",
       "</g>\n",
       "<!-- 6 -->\n",
       "<g id=\"node6\" class=\"node\">\n",
       "<title>6</title>\n",
       "<ellipse fill=\"none\" stroke=\"#000000\" cx=\"119.8936\" cy=\"-241.2753\" rx=\"27\" ry=\"18\"/>\n",
       "<text text-anchor=\"middle\" x=\"119.8936\" y=\"-237.0753\" font-family=\"Times,serif\" font-size=\"14.00\" fill=\"#000000\">6</text>\n",
       "</g>\n",
       "<!-- 7&#45;&gt;8 -->\n",
       "<g id=\"edge13\" class=\"edge\">\n",
       "<title>7&#45;&gt;8</title>\n",
       "<path fill=\"none\" stroke=\"#000000\" d=\"M119.3757,-71.178C121.9509,-77.697 124.9302,-85.2391 127.7589,-92.4\"/>\n",
       "<polygon fill=\"#000000\" stroke=\"#000000\" points=\"124.5415,-93.7819 131.4708,-101.7966 131.052,-91.21 124.5415,-93.7819\"/>\n",
       "<text text-anchor=\"middle\" x=\"116.5673\" y=\"-84.589\" font-family=\"Times,serif\" font-size=\"14.00\" fill=\"#000000\">13</text>\n",
       "</g>\n",
       "<!-- 7&#45;&gt;9 -->\n",
       "<g id=\"edge14\" class=\"edge\">\n",
       "<title>7&#45;&gt;9</title>\n",
       "<path fill=\"none\" stroke=\"#ff0000\" d=\"M129.4283,-67.4716C148.799,-83.3828 180.5974,-109.5024 202.8072,-127.7457\"/>\n",
       "<polygon fill=\"#ff0000\" stroke=\"#ff0000\" points=\"200.855,-130.6715 210.804,-134.3143 205.2982,-125.2624 200.855,-130.6715\"/>\n",
       "<text text-anchor=\"middle\" x=\"159.1178\" y=\"-86.4087\" font-family=\"Times,serif\" font-size=\"14.00\" fill=\"#ff0000\">14</text>\n",
       "</g>\n",
       "<!-- 7&#45;&gt;12 -->\n",
       "<g id=\"edge15\" class=\"edge\">\n",
       "<title>7&#45;&gt;12</title>\n",
       "<path fill=\"none\" stroke=\"#000000\" d=\"M100.7528,-69.8386C88.1628,-87.5658 67.9363,-116.0456 53.4035,-136.5085\"/>\n",
       "<polygon fill=\"#000000\" stroke=\"#000000\" points=\"50.4994,-134.5531 47.5626,-144.7328 56.2066,-138.6063 50.4994,-134.5531\"/>\n",
       "<text text-anchor=\"middle\" x=\"70.0781\" y=\"-105.9735\" font-family=\"Times,serif\" font-size=\"14.00\" fill=\"#000000\">15</text>\n",
       "</g>\n",
       "<!-- 8&#45;&gt;2 -->\n",
       "<g id=\"edge16\" class=\"edge\">\n",
       "<title>8&#45;&gt;2</title>\n",
       "<path fill=\"none\" stroke=\"#000000\" d=\"M146.3475,-137.1199C149.0749,-143.2135 152.1992,-150.1939 155.1866,-156.8686\"/>\n",
       "<polygon fill=\"#000000\" stroke=\"#000000\" points=\"152.1235,-158.5925 159.4034,-166.2901 158.5127,-155.7327 152.1235,-158.5925\"/>\n",
       "<text text-anchor=\"middle\" x=\"143.767\" y=\"-149.7942\" font-family=\"Times,serif\" font-size=\"14.00\" fill=\"#000000\">16</text>\n",
       "</g>\n",
       "<!-- 8&#45;&gt;6 -->\n",
       "<g id=\"edge17\" class=\"edge\">\n",
       "<title>8&#45;&gt;6</title>\n",
       "<path fill=\"none\" stroke=\"#ff0000\" d=\"M135.7429,-137.516C132.6945,-157.4727 127.7334,-189.951 124.1734,-213.2568\"/>\n",
       "<polygon fill=\"#ff0000\" stroke=\"#ff0000\" points=\"120.6985,-212.8276 122.6483,-223.2415 127.6182,-213.8847 120.6985,-212.8276\"/>\n",
       "<text text-anchor=\"middle\" x=\"122.9582\" y=\"-178.1864\" font-family=\"Times,serif\" font-size=\"14.00\" fill=\"#ff0000\">17</text>\n",
       "</g>\n",
       "<!-- 11 -->\n",
       "<g id=\"node11\" class=\"node\">\n",
       "<title>11</title>\n",
       "<ellipse fill=\"none\" stroke=\"#000000\" cx=\"204.2565\" cy=\"-37.2749\" rx=\"27\" ry=\"18\"/>\n",
       "<text text-anchor=\"middle\" x=\"204.2565\" y=\"-33.0749\" font-family=\"Times,serif\" font-size=\"14.00\" fill=\"#000000\">11</text>\n",
       "</g>\n",
       "<!-- 8&#45;&gt;11 -->\n",
       "<g id=\"edge18\" class=\"edge\">\n",
       "<title>8&#45;&gt;11</title>\n",
       "<path fill=\"none\" stroke=\"#ff0000\" d=\"M151.4804,-103.2998C161.091,-91.2766 174.3322,-74.7113 185.1471,-61.1814\"/>\n",
       "<polygon fill=\"#ff0000\" stroke=\"#ff0000\" points=\"188.0033,-63.2138 191.5132,-53.2172 182.5354,-58.8431 188.0033,-63.2138\"/>\n",
       "<text text-anchor=\"middle\" x=\"161.3137\" y=\"-71.0406\" font-family=\"Times,serif\" font-size=\"14.00\" fill=\"#ff0000\">18</text>\n",
       "</g>\n",
       "<!-- 9&#45;&gt;6 -->\n",
       "<g id=\"edge19\" class=\"edge\">\n",
       "<title>9&#45;&gt;6</title>\n",
       "<path fill=\"none\" stroke=\"#000000\" d=\"M211.0432,-162.8914C193.1265,-178.2988 164.6445,-202.7919 144.2879,-220.2974\"/>\n",
       "<polygon fill=\"#000000\" stroke=\"#000000\" points=\"141.9546,-217.6877 136.6546,-226.8617 146.5188,-222.9952 141.9546,-217.6877\"/>\n",
       "<text text-anchor=\"middle\" x=\"170.6655\" y=\"-194.3944\" font-family=\"Times,serif\" font-size=\"14.00\" fill=\"#000000\">19</text>\n",
       "</g>\n",
       "<!-- 10&#45;&gt;13 -->\n",
       "<g id=\"edge20\" class=\"edge\">\n",
       "<title>10&#45;&gt;13</title>\n",
       "<path fill=\"none\" stroke=\"#000000\" d=\"M447.9586,-36.0016C452.1382,-49.5637 457.9428,-68.3985 462.7034,-83.8458\"/>\n",
       "<polygon fill=\"#000000\" stroke=\"#000000\" points=\"459.3635,-84.8926 465.6535,-93.4182 466.0531,-82.8309 459.3635,-84.8926\"/>\n",
       "<text text-anchor=\"middle\" x=\"448.331\" y=\"-62.7237\" font-family=\"Times,serif\" font-size=\"14.00\" fill=\"#000000\">20</text>\n",
       "</g>\n",
       "<!-- 11&#45;&gt;7 -->\n",
       "<g id=\"edge21\" class=\"edge\">\n",
       "<title>11&#45;&gt;7</title>\n",
       "<path fill=\"none\" stroke=\"#000000\" d=\"M177.6819,-41.9585C168.5563,-43.5668 158.183,-45.395 148.4332,-47.1133\"/>\n",
       "<polygon fill=\"#000000\" stroke=\"#000000\" points=\"147.8178,-43.6678 138.5771,-48.8504 149.0329,-50.5615 147.8178,-43.6678\"/>\n",
       "<text text-anchor=\"middle\" x=\"156.0575\" y=\"-47.3359\" font-family=\"Times,serif\" font-size=\"14.00\" fill=\"#000000\">21</text>\n",
       "</g>\n",
       "<!-- 11&#45;&gt;15 -->\n",
       "<g id=\"edge22\" class=\"edge\">\n",
       "<title>11&#45;&gt;15</title>\n",
       "<path fill=\"none\" stroke=\"#000000\" d=\"M214.7401,-54.0647C228.1884,-75.6025 251.6418,-113.1637 267.2957,-138.2339\"/>\n",
       "<polygon fill=\"#000000\" stroke=\"#000000\" points=\"264.4119,-140.2238 272.6771,-146.8523 270.3495,-136.5163 264.4119,-140.2238\"/>\n",
       "<text text-anchor=\"middle\" x=\"234.0179\" y=\"-98.9493\" font-family=\"Times,serif\" font-size=\"14.00\" fill=\"#000000\">22</text>\n",
       "</g>\n",
       "<!-- 14 -->\n",
       "<g id=\"node14\" class=\"node\">\n",
       "<title>14</title>\n",
       "<ellipse fill=\"none\" stroke=\"#000000\" cx=\"333.1957\" cy=\"-284.3763\" rx=\"27\" ry=\"18\"/>\n",
       "<text text-anchor=\"middle\" x=\"333.1957\" y=\"-280.1763\" font-family=\"Times,serif\" font-size=\"14.00\" fill=\"#000000\">14</text>\n",
       "</g>\n",
       "<!-- 14&#45;&gt;4 -->\n",
       "<g id=\"edge23\" class=\"edge\">\n",
       "<title>14&#45;&gt;4</title>\n",
       "<path fill=\"none\" stroke=\"#ff0000\" d=\"M307.8412,-277.9788C298.4516,-275.6096 287.6276,-272.8785 277.5106,-270.3257\"/>\n",
       "<polygon fill=\"#ff0000\" stroke=\"#ff0000\" points=\"278.261,-266.9054 267.7085,-267.8525 276.5483,-273.6927 278.261,-266.9054\"/>\n",
       "<text text-anchor=\"middle\" x=\"285.6759\" y=\"-276.9523\" font-family=\"Times,serif\" font-size=\"14.00\" fill=\"#ff0000\">23</text>\n",
       "</g>\n",
       "<!-- 14&#45;&gt;15 -->\n",
       "<g id=\"edge24\" class=\"edge\">\n",
       "<title>14&#45;&gt;15</title>\n",
       "<path fill=\"none\" stroke=\"#000000\" d=\"M325.9265,-266.8306C317.6332,-246.8131 303.976,-213.8487 294.3388,-190.5874\"/>\n",
       "<polygon fill=\"#000000\" stroke=\"#000000\" points=\"297.5431,-189.1773 290.4821,-181.2784 291.0762,-191.8566 297.5431,-189.1773\"/>\n",
       "<text text-anchor=\"middle\" x=\"303.1327\" y=\"-231.509\" font-family=\"Times,serif\" font-size=\"14.00\" fill=\"#000000\">24</text>\n",
       "</g>\n",
       "<!-- 15&#45;&gt;5 -->\n",
       "<g id=\"edge25\" class=\"edge\">\n",
       "<title>15&#45;&gt;5</title>\n",
       "<path fill=\"none\" stroke=\"#000000\" d=\"M299.5769,-149.0902C308.9868,-140.6869 320.9764,-129.9798 331.4268,-120.6473\"/>\n",
       "<polygon fill=\"#000000\" stroke=\"#000000\" points=\"333.9225,-123.1111 339.05,-113.8396 329.2599,-117.89 333.9225,-123.1111\"/>\n",
       "<text text-anchor=\"middle\" x=\"308.5019\" y=\"-123.6688\" font-family=\"Times,serif\" font-size=\"14.00\" fill=\"#000000\">25</text>\n",
       "</g>\n",
       "<!-- 15&#45;&gt;8 -->\n",
       "<g id=\"edge26\" class=\"edge\">\n",
       "<title>15&#45;&gt;8</title>\n",
       "<path fill=\"none\" stroke=\"#000000\" d=\"M258.3262,-156.121C234.6785,-148.9057 198.9174,-137.9944 172.6129,-129.9685\"/>\n",
       "<polygon fill=\"#000000\" stroke=\"#000000\" points=\"173.6257,-126.6183 163.0395,-127.0475 171.5828,-133.3136 173.6257,-126.6183\"/>\n",
       "<text text-anchor=\"middle\" x=\"208.4696\" y=\"-131.8447\" font-family=\"Times,serif\" font-size=\"14.00\" fill=\"#000000\">26</text>\n",
       "</g>\n",
       "</g>\n",
       "</svg>\n"
      ],
      "text/plain": [
       "DiGraph(DiNode[DiNode(1,Dict{Symbol,Any}()),DiNode(2,Dict{Symbol,Any}()),DiNode(3,Dict{Symbol,Any}()),DiNode(4,Dict{Symbol,Any}()),DiNode(5,Dict{Symbol,Any}()),DiNode(6,Dict{Symbol,Any}()),DiNode(7,Dict{Symbol,Any}()),DiNode(8,Dict{Symbol,Any}()),DiNode(9,Dict{Symbol,Any}()),DiNode(10,Dict{Symbol,Any}()),DiNode(11,Dict{Symbol,Any}()),DiNode(12,Dict{Symbol,Any}()),DiNode(13,Dict{Symbol,Any}()),DiNode(14,Dict{Symbol,Any}()),DiNode(15,Dict{Symbol,Any}())],DiEdge[DiEdge(1=>7,Dict{Symbol,Any}(Pair{Symbol,Any}(:label,1),Pair{Symbol,Any}(:len,1.5),Pair{Symbol,Any}(:color,\"red\"),Pair{Symbol,Any}(:fontcolor,\"red\"))),DiEdge(1=>8,Dict{Symbol,Any}(Pair{Symbol,Any}(:label,2),Pair{Symbol,Any}(:len,1.5),Pair{Symbol,Any}(:color,\"red\"),Pair{Symbol,Any}(:fontcolor,\"red\"))),DiEdge(2=>4,Dict{Symbol,Any}(Pair{Symbol,Any}(:label,3),Pair{Symbol,Any}(:len,1.5),Pair{Symbol,Any}(:color,\"red\"),Pair{Symbol,Any}(:fontcolor,\"red\"))),DiEdge(2=>9,Dict{Symbol,Any}(Pair{Symbol,Any}(:label,4),Pair{Symbol,Any}(:len,1.5),Pair{Symbol,Any}(:color,\"red\"),Pair{Symbol,Any}(:fontcolor,\"red\"))),DiEdge(2=>12,Dict{Symbol,Any}(Pair{Symbol,Any}(:label,5),Pair{Symbol,Any}(:len,1.5),Pair{Symbol,Any}(:color,\"red\"),Pair{Symbol,Any}(:fontcolor,\"red\"))),DiEdge(3=>2,Dict{Symbol,Any}(Pair{Symbol,Any}(:label,6),Pair{Symbol,Any}(:len,1.5),Pair{Symbol,Any}(:color,\"red\"),Pair{Symbol,Any}(:fontcolor,\"red\"))),DiEdge(4=>9,Dict{Symbol,Any}(Pair{Symbol,Any}(:label,7),Pair{Symbol,Any}(:len,1.5))),DiEdge(4=>15,Dict{Symbol,Any}(Pair{Symbol,Any}(:label,8),Pair{Symbol,Any}(:len,1.5),Pair{Symbol,Any}(:color,\"red\"),Pair{Symbol,Any}(:fontcolor,\"red\"))),DiEdge(5=>3,Dict{Symbol,Any}(Pair{Symbol,Any}(:label,9),Pair{Symbol,Any}(:len,1.5),Pair{Symbol,Any}(:color,\"red\"),Pair{Symbol,Any}(:fontcolor,\"red\"))),DiEdge(5=>9,Dict{Symbol,Any}(Pair{Symbol,Any}(:label,10),Pair{Symbol,Any}(:len,1.5)))  …  DiEdge(8=>6,Dict{Symbol,Any}(Pair{Symbol,Any}(:label,17),Pair{Symbol,Any}(:len,1.5),Pair{Symbol,Any}(:color,\"red\"),Pair{Symbol,Any}(:fontcolor,\"red\"))),DiEdge(8=>11,Dict{Symbol,Any}(Pair{Symbol,Any}(:label,18),Pair{Symbol,Any}(:len,1.5),Pair{Symbol,Any}(:color,\"red\"),Pair{Symbol,Any}(:fontcolor,\"red\"))),DiEdge(9=>6,Dict{Symbol,Any}(Pair{Symbol,Any}(:label,19),Pair{Symbol,Any}(:len,1.5))),DiEdge(10=>13,Dict{Symbol,Any}(Pair{Symbol,Any}(:label,20),Pair{Symbol,Any}(:len,1.5))),DiEdge(11=>7,Dict{Symbol,Any}(Pair{Symbol,Any}(:label,21),Pair{Symbol,Any}(:len,1.5))),DiEdge(11=>15,Dict{Symbol,Any}(Pair{Symbol,Any}(:label,22),Pair{Symbol,Any}(:len,1.5))),DiEdge(14=>4,Dict{Symbol,Any}(Pair{Symbol,Any}(:label,23),Pair{Symbol,Any}(:len,1.5),Pair{Symbol,Any}(:color,\"red\"),Pair{Symbol,Any}(:fontcolor,\"red\"))),DiEdge(14=>15,Dict{Symbol,Any}(Pair{Symbol,Any}(:label,24),Pair{Symbol,Any}(:len,1.5))),DiEdge(15=>5,Dict{Symbol,Any}(Pair{Symbol,Any}(:label,25),Pair{Symbol,Any}(:len,1.5))),DiEdge(15=>8,Dict{Symbol,Any}(Pair{Symbol,Any}(:label,26),Pair{Symbol,Any}(:len,1.5)))],Dict{Symbol,Any}())"
      ]
     },
     "execution_count": 23,
     "metadata": {},
     "output_type": "execute_result"
    }
   ],
   "source": [
    "colortree(gbig)"
   ]
  },
  {
   "cell_type": "code",
   "execution_count": 24,
   "metadata": {
    "collapsed": false
   },
   "outputs": [
    {
     "data": {
      "image/svg+xml": [
       "<?xml version=\"1.0\" encoding=\"UTF-8\" standalone=\"no\"?>\n",
       "<!DOCTYPE svg PUBLIC \"-//W3C//DTD SVG 1.1//EN\"\n",
       " \"http://www.w3.org/Graphics/SVG/1.1/DTD/svg11.dtd\">\n",
       "<!-- Generated by graphviz version 2.40.1 (20161225.0304)\n",
       " -->\n",
       "<!-- Title: MyDiGraph Pages: 1 -->\n",
       "<svg width=\"877pt\" height=\"709pt\"\n",
       " viewBox=\"0.00 0.00 876.92 709.27\" xmlns=\"http://www.w3.org/2000/svg\" xmlns:xlink=\"http://www.w3.org/1999/xlink\">\n",
       "<g id=\"graph0\" class=\"graph\" transform=\"scale(1 1) rotate(0) translate(4 705.2709)\">\n",
       "<title>MyDiGraph</title>\n",
       "<polygon fill=\"#ffffff\" stroke=\"transparent\" points=\"-4,4 -4,-705.2709 872.9192,-705.2709 872.9192,4 -4,4\"/>\n",
       "<!-- 1 -->\n",
       "<g id=\"node1\" class=\"node\">\n",
       "<title>1</title>\n",
       "<ellipse fill=\"none\" stroke=\"#000000\" cx=\"233.6656\" cy=\"-212.9244\" rx=\"27\" ry=\"18\"/>\n",
       "<text text-anchor=\"middle\" x=\"233.6656\" y=\"-208.7244\" font-family=\"Times,serif\" font-size=\"14.00\" fill=\"#000000\">1</text>\n",
       "</g>\n",
       "<!-- 7 -->\n",
       "<g id=\"node7\" class=\"node\">\n",
       "<title>7</title>\n",
       "<ellipse fill=\"none\" stroke=\"#000000\" cx=\"325.4951\" cy=\"-281.1766\" rx=\"27\" ry=\"18\"/>\n",
       "<text text-anchor=\"middle\" x=\"325.4951\" y=\"-276.9766\" font-family=\"Times,serif\" font-size=\"14.00\" fill=\"#000000\">7</text>\n",
       "</g>\n",
       "<!-- 1&#45;&gt;7 -->\n",
       "<g id=\"edge1\" class=\"edge\">\n",
       "<title>1&#45;&gt;7</title>\n",
       "<path fill=\"none\" stroke=\"#000000\" d=\"M251.8081,-226.4089C265.2659,-236.4113 283.8224,-250.2034 298.9465,-261.4444\"/>\n",
       "<polygon fill=\"#000000\" stroke=\"#000000\" points=\"297.2764,-264.564 307.3902,-267.7202 301.4521,-258.9458 297.2764,-264.564\"/>\n",
       "<text text-anchor=\"middle\" x=\"271.8773\" y=\"-246.7266\" font-family=\"Times,serif\" font-size=\"14.00\" fill=\"#000000\">1</text>\n",
       "</g>\n",
       "<!-- 8 -->\n",
       "<g id=\"node8\" class=\"node\">\n",
       "<title>8</title>\n",
       "<ellipse fill=\"none\" stroke=\"#000000\" cx=\"144.5591\" cy=\"-137.2367\" rx=\"27\" ry=\"18\"/>\n",
       "<text text-anchor=\"middle\" x=\"144.5591\" y=\"-133.0367\" font-family=\"Times,serif\" font-size=\"14.00\" fill=\"#000000\">8</text>\n",
       "</g>\n",
       "<!-- 1&#45;&gt;8 -->\n",
       "<g id=\"edge2\" class=\"edge\">\n",
       "<title>1&#45;&gt;8</title>\n",
       "<path fill=\"none\" stroke=\"#000000\" d=\"M216.9054,-198.6881C203.4637,-187.2707 184.4026,-171.08 169.2198,-158.1836\"/>\n",
       "<polygon fill=\"#000000\" stroke=\"#000000\" points=\"171.1317,-155.2155 161.2442,-151.4091 166.6,-160.5506 171.1317,-155.2155\"/>\n",
       "<text text-anchor=\"middle\" x=\"189.5626\" y=\"-181.2359\" font-family=\"Times,serif\" font-size=\"14.00\" fill=\"#000000\">2</text>\n",
       "</g>\n",
       "<!-- 2 -->\n",
       "<g id=\"node2\" class=\"node\">\n",
       "<title>2</title>\n",
       "<ellipse fill=\"none\" stroke=\"#000000\" cx=\"503.0592\" cy=\"-451.2544\" rx=\"27\" ry=\"18\"/>\n",
       "<text text-anchor=\"middle\" x=\"503.0592\" y=\"-447.0544\" font-family=\"Times,serif\" font-size=\"14.00\" fill=\"#000000\">2</text>\n",
       "</g>\n",
       "<!-- 4 -->\n",
       "<g id=\"node4\" class=\"node\">\n",
       "<title>4</title>\n",
       "<ellipse fill=\"none\" stroke=\"#000000\" cx=\"508.8391\" cy=\"-583.681\" rx=\"27\" ry=\"18\"/>\n",
       "<text text-anchor=\"middle\" x=\"508.8391\" y=\"-579.481\" font-family=\"Times,serif\" font-size=\"14.00\" fill=\"#000000\">4</text>\n",
       "</g>\n",
       "<!-- 2&#45;&gt;4 -->\n",
       "<g id=\"edge3\" class=\"edge\">\n",
       "<title>2&#45;&gt;4</title>\n",
       "<path fill=\"none\" stroke=\"#000000\" d=\"M503.8508,-469.3901C504.8181,-491.5542 506.4661,-529.3118 507.6015,-555.3267\"/>\n",
       "<polygon fill=\"#000000\" stroke=\"#000000\" points=\"504.1057,-555.5015 508.0386,-565.3394 511.0991,-555.1962 504.1057,-555.5015\"/>\n",
       "<text text-anchor=\"middle\" x=\"502.2261\" y=\"-515.1584\" font-family=\"Times,serif\" font-size=\"14.00\" fill=\"#000000\">3</text>\n",
       "</g>\n",
       "<!-- 9 -->\n",
       "<g id=\"node9\" class=\"node\">\n",
       "<title>9</title>\n",
       "<ellipse fill=\"none\" stroke=\"#000000\" cx=\"418.3172\" cy=\"-354.0774\" rx=\"27\" ry=\"18\"/>\n",
       "<text text-anchor=\"middle\" x=\"418.3172\" y=\"-349.8774\" font-family=\"Times,serif\" font-size=\"14.00\" fill=\"#000000\">9</text>\n",
       "</g>\n",
       "<!-- 2&#45;&gt;9 -->\n",
       "<g id=\"edge4\" class=\"edge\">\n",
       "<title>2&#45;&gt;9</title>\n",
       "<path fill=\"none\" stroke=\"#000000\" d=\"M489.4439,-435.6412C475.7304,-419.9154 454.4078,-395.4639 438.6825,-377.4311\"/>\n",
       "<polygon fill=\"#000000\" stroke=\"#000000\" points=\"441.109,-374.8883 431.8987,-369.6518 435.8332,-379.489 441.109,-374.8883\"/>\n",
       "<text text-anchor=\"middle\" x=\"460.5632\" y=\"-409.3362\" font-family=\"Times,serif\" font-size=\"14.00\" fill=\"#000000\">4</text>\n",
       "</g>\n",
       "<!-- 12 -->\n",
       "<g id=\"node12\" class=\"node\">\n",
       "<title>12</title>\n",
       "<ellipse fill=\"none\" stroke=\"#000000\" cx=\"403.5016\" cy=\"-501.3618\" rx=\"27\" ry=\"18\"/>\n",
       "<text text-anchor=\"middle\" x=\"403.5016\" y=\"-497.1618\" font-family=\"Times,serif\" font-size=\"14.00\" fill=\"#000000\">12</text>\n",
       "</g>\n",
       "<!-- 2&#45;&gt;12 -->\n",
       "<g id=\"edge5\" class=\"edge\">\n",
       "<title>2&#45;&gt;12</title>\n",
       "<path fill=\"none\" stroke=\"#000000\" d=\"M481.4567,-462.127C467.6277,-469.0871 449.4728,-478.2244 434.1628,-485.93\"/>\n",
       "<polygon fill=\"#000000\" stroke=\"#000000\" points=\"432.4209,-482.8883 425.0619,-490.5104 435.5679,-489.141 432.4209,-482.8883\"/>\n",
       "<text text-anchor=\"middle\" x=\"454.3098\" y=\"-476.8285\" font-family=\"Times,serif\" font-size=\"14.00\" fill=\"#000000\">5</text>\n",
       "</g>\n",
       "<!-- 3 -->\n",
       "<g id=\"node3\" class=\"node\">\n",
       "<title>3</title>\n",
       "<ellipse fill=\"none\" stroke=\"#000000\" cx=\"618.7979\" cy=\"-402.5133\" rx=\"27\" ry=\"18\"/>\n",
       "<text text-anchor=\"middle\" x=\"618.7979\" y=\"-398.3133\" font-family=\"Times,serif\" font-size=\"14.00\" fill=\"#000000\">3</text>\n",
       "</g>\n",
       "<!-- 3&#45;&gt;2 -->\n",
       "<g id=\"edge6\" class=\"edge\">\n",
       "<title>3&#45;&gt;2</title>\n",
       "<path fill=\"none\" stroke=\"#000000\" d=\"M595.9317,-412.143C578.6864,-419.4055 554.7982,-429.4656 535.5677,-437.5641\"/>\n",
       "<polygon fill=\"#000000\" stroke=\"#000000\" points=\"534.1318,-434.371 526.2741,-441.4779 536.8486,-440.8223 534.1318,-434.371\"/>\n",
       "<text text-anchor=\"middle\" x=\"562.2497\" y=\"-427.6535\" font-family=\"Times,serif\" font-size=\"14.00\" fill=\"#000000\">6</text>\n",
       "</g>\n",
       "<!-- 15 -->\n",
       "<g id=\"node15\" class=\"node\">\n",
       "<title>15</title>\n",
       "<ellipse fill=\"none\" stroke=\"#000000\" cx=\"433.7042\" cy=\"-683.2709\" rx=\"27\" ry=\"18\"/>\n",
       "<text text-anchor=\"middle\" x=\"433.7042\" y=\"-679.0709\" font-family=\"Times,serif\" font-size=\"14.00\" fill=\"#000000\">15</text>\n",
       "</g>\n",
       "<!-- 4&#45;&gt;15 -->\n",
       "<g id=\"edge7\" class=\"edge\">\n",
       "<title>4&#45;&gt;15</title>\n",
       "<path fill=\"none\" stroke=\"#000000\" d=\"M496.4321,-600.1262C484.3968,-616.0787 465.9855,-640.4826 452.2177,-658.7315\"/>\n",
       "<polygon fill=\"#000000\" stroke=\"#000000\" points=\"449.109,-657.0407 445.8803,-667.1316 454.697,-661.2566 449.109,-657.0407\"/>\n",
       "<text text-anchor=\"middle\" x=\"470.8249\" y=\"-632.2288\" font-family=\"Times,serif\" font-size=\"14.00\" fill=\"#000000\">8</text>\n",
       "</g>\n",
       "<!-- 5 -->\n",
       "<g id=\"node5\" class=\"node\">\n",
       "<title>5</title>\n",
       "<ellipse fill=\"none\" stroke=\"#000000\" cx=\"734.1148\" cy=\"-363.8737\" rx=\"27\" ry=\"18\"/>\n",
       "<text text-anchor=\"middle\" x=\"734.1148\" y=\"-359.6737\" font-family=\"Times,serif\" font-size=\"14.00\" fill=\"#000000\">5</text>\n",
       "</g>\n",
       "<!-- 5&#45;&gt;3 -->\n",
       "<g id=\"edge8\" class=\"edge\">\n",
       "<title>5&#45;&gt;3</title>\n",
       "<path fill=\"none\" stroke=\"#000000\" d=\"M709.9406,-371.9738C693.2578,-377.5638 670.8516,-385.0715 652.4301,-391.2441\"/>\n",
       "<polygon fill=\"#000000\" stroke=\"#000000\" points=\"651.3101,-387.928 642.9403,-394.4238 653.5342,-394.5653 651.3101,-387.928\"/>\n",
       "<text text-anchor=\"middle\" x=\"677.6854\" y=\"-384.4089\" font-family=\"Times,serif\" font-size=\"14.00\" fill=\"#000000\">9</text>\n",
       "</g>\n",
       "<!-- 10 -->\n",
       "<g id=\"node10\" class=\"node\">\n",
       "<title>10</title>\n",
       "<ellipse fill=\"none\" stroke=\"#000000\" cx=\"792.5977\" cy=\"-259.6611\" rx=\"27\" ry=\"18\"/>\n",
       "<text text-anchor=\"middle\" x=\"792.5977\" y=\"-255.4611\" font-family=\"Times,serif\" font-size=\"14.00\" fill=\"#000000\">10</text>\n",
       "</g>\n",
       "<!-- 5&#45;&gt;10 -->\n",
       "<g id=\"edge9\" class=\"edge\">\n",
       "<title>5&#45;&gt;10</title>\n",
       "<path fill=\"none\" stroke=\"#000000\" d=\"M743.7721,-346.6651C753.14,-329.9721 767.4708,-304.4355 778.1873,-285.3395\"/>\n",
       "<polygon fill=\"#000000\" stroke=\"#000000\" points=\"781.2784,-286.983 783.1201,-276.5495 775.1739,-283.5572 781.2784,-286.983\"/>\n",
       "<text text-anchor=\"middle\" x=\"754.236\" y=\"-318.8023\" font-family=\"Times,serif\" font-size=\"14.00\" fill=\"#000000\">11</text>\n",
       "</g>\n",
       "<!-- 13 -->\n",
       "<g id=\"node13\" class=\"node\">\n",
       "<title>13</title>\n",
       "<ellipse fill=\"none\" stroke=\"#000000\" cx=\"841.9192\" cy=\"-416.696\" rx=\"27\" ry=\"18\"/>\n",
       "<text text-anchor=\"middle\" x=\"841.9192\" y=\"-412.496\" font-family=\"Times,serif\" font-size=\"14.00\" fill=\"#000000\">13</text>\n",
       "</g>\n",
       "<!-- 5&#45;&gt;13 -->\n",
       "<g id=\"edge10\" class=\"edge\">\n",
       "<title>5&#45;&gt;13</title>\n",
       "<path fill=\"none\" stroke=\"#000000\" d=\"M755.9306,-374.563C771.7118,-382.2955 793.2622,-392.8548 810.8405,-401.468\"/>\n",
       "<polygon fill=\"#000000\" stroke=\"#000000\" points=\"809.6158,-404.7654 820.1358,-406.0225 812.6959,-398.4794 809.6158,-404.7654\"/>\n",
       "<text text-anchor=\"middle\" x=\"776.3856\" y=\"-390.8155\" font-family=\"Times,serif\" font-size=\"14.00\" fill=\"#000000\">12</text>\n",
       "</g>\n",
       "<!-- 6 -->\n",
       "<g id=\"node6\" class=\"node\">\n",
       "<title>6</title>\n",
       "<ellipse fill=\"none\" stroke=\"#000000\" cx=\"27\" cy=\"-157.2725\" rx=\"27\" ry=\"18\"/>\n",
       "<text text-anchor=\"middle\" x=\"27\" y=\"-153.0725\" font-family=\"Times,serif\" font-size=\"14.00\" fill=\"#000000\">6</text>\n",
       "</g>\n",
       "<!-- 7&#45;&gt;9 -->\n",
       "<g id=\"edge11\" class=\"edge\">\n",
       "<title>7&#45;&gt;9</title>\n",
       "<path fill=\"none\" stroke=\"#000000\" d=\"M343.3921,-295.2326C357.3495,-306.1945 376.9242,-321.5681 392.5655,-333.8525\"/>\n",
       "<polygon fill=\"#000000\" stroke=\"#000000\" points=\"390.7636,-336.8877 400.7899,-340.3118 395.0872,-331.3826 390.7636,-336.8877\"/>\n",
       "<text text-anchor=\"middle\" x=\"360.9788\" y=\"-317.3426\" font-family=\"Times,serif\" font-size=\"14.00\" fill=\"#000000\">14</text>\n",
       "</g>\n",
       "<!-- 8&#45;&gt;6 -->\n",
       "<g id=\"edge12\" class=\"edge\">\n",
       "<title>8&#45;&gt;6</title>\n",
       "<path fill=\"none\" stroke=\"#000000\" d=\"M118.1766,-141.7331C101.9919,-144.4915 81.0418,-148.0621 63.3056,-151.0849\"/>\n",
       "<polygon fill=\"#000000\" stroke=\"#000000\" points=\"62.5643,-147.6607 53.2945,-152.7911 63.7404,-154.5612 62.5643,-147.6607\"/>\n",
       "<text text-anchor=\"middle\" x=\"83.7411\" y=\"-149.209\" font-family=\"Times,serif\" font-size=\"14.00\" fill=\"#000000\">17</text>\n",
       "</g>\n",
       "<!-- 11 -->\n",
       "<g id=\"node11\" class=\"node\">\n",
       "<title>11</title>\n",
       "<ellipse fill=\"none\" stroke=\"#000000\" cx=\"144.2146\" cy=\"-18\" rx=\"27\" ry=\"18\"/>\n",
       "<text text-anchor=\"middle\" x=\"144.2146\" y=\"-13.8\" font-family=\"Times,serif\" font-size=\"14.00\" fill=\"#000000\">11</text>\n",
       "</g>\n",
       "<!-- 8&#45;&gt;11 -->\n",
       "<g id=\"edge13\" class=\"edge\">\n",
       "<title>8&#45;&gt;11</title>\n",
       "<path fill=\"none\" stroke=\"#000000\" d=\"M144.5068,-119.1272C144.4509,-99.7801 144.3616,-68.8551 144.2964,-46.2917\"/>\n",
       "<polygon fill=\"#000000\" stroke=\"#000000\" points=\"147.7964,-46.2697 144.2674,-36.2799 140.7964,-46.29 147.7964,-46.2697\"/>\n",
       "<text text-anchor=\"middle\" x=\"137.4016\" y=\"-85.5095\" font-family=\"Times,serif\" font-size=\"14.00\" fill=\"#000000\">18</text>\n",
       "</g>\n",
       "<!-- 14 -->\n",
       "<g id=\"node14\" class=\"node\">\n",
       "<title>14</title>\n",
       "<ellipse fill=\"none\" stroke=\"#000000\" cx=\"582.0102\" cy=\"-676.7518\" rx=\"27\" ry=\"18\"/>\n",
       "<text text-anchor=\"middle\" x=\"582.0102\" y=\"-672.5518\" font-family=\"Times,serif\" font-size=\"14.00\" fill=\"#000000\">14</text>\n",
       "</g>\n",
       "<!-- 14&#45;&gt;4 -->\n",
       "<g id=\"edge14\" class=\"edge\">\n",
       "<title>14&#45;&gt;4</title>\n",
       "<path fill=\"none\" stroke=\"#000000\" d=\"M569.2648,-660.5401C557.8282,-645.9932 540.8867,-624.4442 527.85,-607.8621\"/>\n",
       "<polygon fill=\"#000000\" stroke=\"#000000\" points=\"530.3705,-605.4051 521.4385,-599.7069 524.8675,-609.7315 530.3705,-605.4051\"/>\n",
       "<text text-anchor=\"middle\" x=\"541.5574\" y=\"-637.0011\" font-family=\"Times,serif\" font-size=\"14.00\" fill=\"#000000\">23</text>\n",
       "</g>\n",
       "</g>\n",
       "</svg>\n"
      ],
      "text/plain": [
       "DiGraph(DiNode[DiNode(1,Dict{Symbol,Any}()),DiNode(2,Dict{Symbol,Any}()),DiNode(3,Dict{Symbol,Any}()),DiNode(4,Dict{Symbol,Any}()),DiNode(5,Dict{Symbol,Any}()),DiNode(6,Dict{Symbol,Any}()),DiNode(7,Dict{Symbol,Any}()),DiNode(8,Dict{Symbol,Any}()),DiNode(9,Dict{Symbol,Any}()),DiNode(10,Dict{Symbol,Any}()),DiNode(11,Dict{Symbol,Any}()),DiNode(12,Dict{Symbol,Any}()),DiNode(13,Dict{Symbol,Any}()),DiNode(14,Dict{Symbol,Any}()),DiNode(15,Dict{Symbol,Any}())],DiEdge[DiEdge(1=>7,Dict{Symbol,Any}(Pair{Symbol,Any}(:label,1),Pair{Symbol,Any}(:len,1.5))),DiEdge(1=>8,Dict{Symbol,Any}(Pair{Symbol,Any}(:label,2),Pair{Symbol,Any}(:len,1.5))),DiEdge(2=>4,Dict{Symbol,Any}(Pair{Symbol,Any}(:label,3),Pair{Symbol,Any}(:len,1.5))),DiEdge(2=>9,Dict{Symbol,Any}(Pair{Symbol,Any}(:label,4),Pair{Symbol,Any}(:len,1.5))),DiEdge(2=>12,Dict{Symbol,Any}(Pair{Symbol,Any}(:label,5),Pair{Symbol,Any}(:len,1.5))),DiEdge(3=>2,Dict{Symbol,Any}(Pair{Symbol,Any}(:label,6),Pair{Symbol,Any}(:len,1.5))),DiEdge(4=>15,Dict{Symbol,Any}(Pair{Symbol,Any}(:label,8),Pair{Symbol,Any}(:len,1.5))),DiEdge(5=>3,Dict{Symbol,Any}(Pair{Symbol,Any}(:label,9),Pair{Symbol,Any}(:len,1.5))),DiEdge(5=>10,Dict{Symbol,Any}(Pair{Symbol,Any}(:label,11),Pair{Symbol,Any}(:len,1.5))),DiEdge(5=>13,Dict{Symbol,Any}(Pair{Symbol,Any}(:label,12),Pair{Symbol,Any}(:len,1.5))),DiEdge(7=>9,Dict{Symbol,Any}(Pair{Symbol,Any}(:label,14),Pair{Symbol,Any}(:len,1.5))),DiEdge(8=>6,Dict{Symbol,Any}(Pair{Symbol,Any}(:label,17),Pair{Symbol,Any}(:len,1.5))),DiEdge(8=>11,Dict{Symbol,Any}(Pair{Symbol,Any}(:label,18),Pair{Symbol,Any}(:len,1.5))),DiEdge(14=>4,Dict{Symbol,Any}(Pair{Symbol,Any}(:label,23),Pair{Symbol,Any}(:len,1.5)))],Dict{Symbol,Any}())"
      ]
     },
     "execution_count": 24,
     "metadata": {},
     "output_type": "execute_result"
    }
   ],
   "source": [
    "tree(gbig)"
   ]
  },
  {
   "cell_type": "markdown",
   "metadata": {},
   "source": [
    "And we can make trees from even larger graphs, for fun:"
   ]
  },
  {
   "cell_type": "code",
   "execution_count": 25,
   "metadata": {
    "collapsed": false
   },
   "outputs": [
    {
     "data": {
      "image/svg+xml": [
       "<?xml version=\"1.0\" encoding=\"UTF-8\" standalone=\"no\"?>\n",
       "<!DOCTYPE svg PUBLIC \"-//W3C//DTD SVG 1.1//EN\"\n",
       " \"http://www.w3.org/Graphics/SVG/1.1/DTD/svg11.dtd\">\n",
       "<!-- Generated by graphviz version 2.40.1 (20161225.0304)\n",
       " -->\n",
       "<!-- Title: MyDiGraph Pages: 1 -->\n",
       "<svg width=\"580pt\" height=\"369pt\"\n",
       " viewBox=\"0.00 0.00 580.35 369.43\" xmlns=\"http://www.w3.org/2000/svg\" xmlns:xlink=\"http://www.w3.org/1999/xlink\">\n",
       "<g id=\"graph0\" class=\"graph\" transform=\"scale(1 1) rotate(0) translate(4 365.4314)\">\n",
       "<title>MyDiGraph</title>\n",
       "<polygon fill=\"#ffffff\" stroke=\"transparent\" points=\"-4,4 -4,-365.4314 576.3549,-365.4314 576.3549,4 -4,4\"/>\n",
       "<!-- 1 -->\n",
       "<g id=\"node1\" class=\"node\">\n",
       "<title>1</title>\n",
       "<ellipse fill=\"none\" stroke=\"#000000\" cx=\"247.8293\" cy=\"-103.3755\" rx=\"27\" ry=\"18\"/>\n",
       "<text text-anchor=\"middle\" x=\"247.8293\" y=\"-99.1755\" font-family=\"Times,serif\" font-size=\"14.00\" fill=\"#000000\">1</text>\n",
       "</g>\n",
       "<!-- 3 -->\n",
       "<g id=\"node3\" class=\"node\">\n",
       "<title>3</title>\n",
       "<ellipse fill=\"none\" stroke=\"#000000\" cx=\"153.1454\" cy=\"-119.8224\" rx=\"27\" ry=\"18\"/>\n",
       "<text text-anchor=\"middle\" x=\"153.1454\" y=\"-115.6224\" font-family=\"Times,serif\" font-size=\"14.00\" fill=\"#000000\">3</text>\n",
       "</g>\n",
       "<!-- 1&#45;&gt;3 -->\n",
       "<g id=\"edge1\" class=\"edge\">\n",
       "<title>1&#45;&gt;3</title>\n",
       "<path fill=\"none\" stroke=\"#000000\" d=\"M221.4546,-107.9569C211.5025,-109.6856 200.0013,-111.6834 189.3074,-113.541\"/>\n",
       "<polygon fill=\"#000000\" stroke=\"#000000\" points=\"188.6321,-110.1058 179.3787,-115.2656 189.8302,-117.0025 188.6321,-110.1058\"/>\n",
       "<text text-anchor=\"middle\" x=\"201.881\" y=\"-113.5489\" font-family=\"Times,serif\" font-size=\"14.00\" fill=\"#000000\">1</text>\n",
       "</g>\n",
       "<!-- 6 -->\n",
       "<g id=\"node6\" class=\"node\">\n",
       "<title>6</title>\n",
       "<ellipse fill=\"none\" stroke=\"#000000\" cx=\"329.4998\" cy=\"-147.5393\" rx=\"27\" ry=\"18\"/>\n",
       "<text text-anchor=\"middle\" x=\"329.4998\" y=\"-143.3393\" font-family=\"Times,serif\" font-size=\"14.00\" fill=\"#000000\">6</text>\n",
       "</g>\n",
       "<!-- 1&#45;&gt;6 -->\n",
       "<g id=\"edge2\" class=\"edge\">\n",
       "<title>1&#45;&gt;6</title>\n",
       "<path fill=\"none\" stroke=\"#000000\" d=\"M268.8615,-114.7488C278.1249,-119.758 289.1823,-125.7374 299.3026,-131.21\"/>\n",
       "<polygon fill=\"#000000\" stroke=\"#000000\" points=\"297.7939,-134.3731 308.255,-136.0511 301.1236,-128.2157 297.7939,-134.3731\"/>\n",
       "<text text-anchor=\"middle\" x=\"280.5821\" y=\"-125.7794\" font-family=\"Times,serif\" font-size=\"14.00\" fill=\"#000000\">2</text>\n",
       "</g>\n",
       "<!-- 7 -->\n",
       "<g id=\"node7\" class=\"node\">\n",
       "<title>7</title>\n",
       "<ellipse fill=\"none\" stroke=\"#000000\" cx=\"195.3281\" cy=\"-51.8987\" rx=\"27\" ry=\"18\"/>\n",
       "<text text-anchor=\"middle\" x=\"195.3281\" y=\"-47.6987\" font-family=\"Times,serif\" font-size=\"14.00\" fill=\"#000000\">7</text>\n",
       "</g>\n",
       "<!-- 1&#45;&gt;7 -->\n",
       "<g id=\"edge3\" class=\"edge\">\n",
       "<title>1&#45;&gt;7</title>\n",
       "<path fill=\"none\" stroke=\"#000000\" d=\"M232.6438,-88.4863C228.1125,-84.0434 223.0428,-79.0726 218.1363,-74.2619\"/>\n",
       "<polygon fill=\"#000000\" stroke=\"#000000\" points=\"220.2522,-71.4347 210.6614,-66.9328 215.3514,-76.433 220.2522,-71.4347\"/>\n",
       "<text text-anchor=\"middle\" x=\"228.8901\" y=\"-70.1741\" font-family=\"Times,serif\" font-size=\"14.00\" fill=\"#000000\">3</text>\n",
       "</g>\n",
       "<!-- 9 -->\n",
       "<g id=\"node9\" class=\"node\">\n",
       "<title>9</title>\n",
       "<ellipse fill=\"none\" stroke=\"#000000\" cx=\"230.305\" cy=\"-18\" rx=\"27\" ry=\"18\"/>\n",
       "<text text-anchor=\"middle\" x=\"230.305\" y=\"-13.8\" font-family=\"Times,serif\" font-size=\"14.00\" fill=\"#000000\">9</text>\n",
       "</g>\n",
       "<!-- 1&#45;&gt;9 -->\n",
       "<g id=\"edge4\" class=\"edge\">\n",
       "<title>1&#45;&gt;9</title>\n",
       "<path fill=\"none\" stroke=\"#000000\" d=\"M244.1129,-85.2696C241.7662,-73.8372 238.6872,-58.8366 236.0323,-45.9023\"/>\n",
       "<polygon fill=\"#000000\" stroke=\"#000000\" points=\"239.4554,-45.1719 234.0161,-36.0799 232.5984,-46.5794 239.4554,-45.1719\"/>\n",
       "<text text-anchor=\"middle\" x=\"236.5726\" y=\"-68.3859\" font-family=\"Times,serif\" font-size=\"14.00\" fill=\"#000000\">4</text>\n",
       "</g>\n",
       "<!-- 13 -->\n",
       "<g id=\"node13\" class=\"node\">\n",
       "<title>13</title>\n",
       "<ellipse fill=\"none\" stroke=\"#000000\" cx=\"305.4066\" cy=\"-56.5705\" rx=\"27\" ry=\"18\"/>\n",
       "<text text-anchor=\"middle\" x=\"305.4066\" y=\"-52.3705\" font-family=\"Times,serif\" font-size=\"14.00\" fill=\"#000000\">13</text>\n",
       "</g>\n",
       "<!-- 1&#45;&gt;13 -->\n",
       "<g id=\"edge5\" class=\"edge\">\n",
       "<title>1&#45;&gt;13</title>\n",
       "<path fill=\"none\" stroke=\"#000000\" d=\"M265.1044,-89.3325C269.8868,-85.4449 275.1766,-81.1447 280.3075,-76.9737\"/>\n",
       "<polygon fill=\"#000000\" stroke=\"#000000\" points=\"282.5919,-79.6274 288.1437,-70.6036 278.1764,-74.1956 282.5919,-79.6274\"/>\n",
       "<text text-anchor=\"middle\" x=\"269.206\" y=\"-71.9531\" font-family=\"Times,serif\" font-size=\"14.00\" fill=\"#000000\">5</text>\n",
       "</g>\n",
       "<!-- 14 -->\n",
       "<g id=\"node14\" class=\"node\">\n",
       "<title>14</title>\n",
       "<ellipse fill=\"none\" stroke=\"#000000\" cx=\"245.9729\" cy=\"-179.1174\" rx=\"27\" ry=\"18\"/>\n",
       "<text text-anchor=\"middle\" x=\"245.9729\" y=\"-174.9174\" font-family=\"Times,serif\" font-size=\"14.00\" fill=\"#000000\">14</text>\n",
       "</g>\n",
       "<!-- 1&#45;&gt;14 -->\n",
       "<g id=\"edge6\" class=\"edge\">\n",
       "<title>1&#45;&gt;14</title>\n",
       "<path fill=\"none\" stroke=\"#000000\" d=\"M247.3799,-121.7105C247.1656,-130.4558 246.9043,-141.1151 246.6654,-150.8638\"/>\n",
       "<polygon fill=\"#000000\" stroke=\"#000000\" points=\"243.1643,-150.8684 246.4181,-160.9512 250.1622,-151.04 243.1643,-150.8684\"/>\n",
       "<text text-anchor=\"middle\" x=\"243.5227\" y=\"-139.0872\" font-family=\"Times,serif\" font-size=\"14.00\" fill=\"#000000\">6</text>\n",
       "</g>\n",
       "<!-- 16 -->\n",
       "<g id=\"node16\" class=\"node\">\n",
       "<title>16</title>\n",
       "<ellipse fill=\"none\" stroke=\"#000000\" cx=\"278.3915\" cy=\"-19.0956\" rx=\"27\" ry=\"18\"/>\n",
       "<text text-anchor=\"middle\" x=\"278.3915\" y=\"-14.8956\" font-family=\"Times,serif\" font-size=\"14.00\" fill=\"#000000\">16</text>\n",
       "</g>\n",
       "<!-- 1&#45;&gt;16 -->\n",
       "<g id=\"edge7\" class=\"edge\">\n",
       "<title>1&#45;&gt;16</title>\n",
       "<path fill=\"none\" stroke=\"#000000\" d=\"M254.3108,-85.5019C258.4309,-74.14 263.8457,-59.2079 268.497,-46.3813\"/>\n",
       "<polygon fill=\"#000000\" stroke=\"#000000\" points=\"271.9054,-47.2486 272.0242,-36.6545 265.3247,-44.8623 271.9054,-47.2486\"/>\n",
       "<text text-anchor=\"middle\" x=\"257.9039\" y=\"-68.7416\" font-family=\"Times,serif\" font-size=\"14.00\" fill=\"#000000\">7</text>\n",
       "</g>\n",
       "<!-- 18 -->\n",
       "<g id=\"node18\" class=\"node\">\n",
       "<title>18</title>\n",
       "<ellipse fill=\"none\" stroke=\"#000000\" cx=\"205.4274\" cy=\"-164.8824\" rx=\"27\" ry=\"18\"/>\n",
       "<text text-anchor=\"middle\" x=\"205.4274\" y=\"-160.6824\" font-family=\"Times,serif\" font-size=\"14.00\" fill=\"#000000\">18</text>\n",
       "</g>\n",
       "<!-- 1&#45;&gt;18 -->\n",
       "<g id=\"edge8\" class=\"edge\">\n",
       "<title>1&#45;&gt;18</title>\n",
       "<path fill=\"none\" stroke=\"#000000\" d=\"M236.4664,-119.8582C232.1888,-126.0632 227.2246,-133.2641 222.5376,-140.0628\"/>\n",
       "<polygon fill=\"#000000\" stroke=\"#000000\" points=\"219.616,-138.1345 216.8217,-148.3542 225.3792,-142.1076 219.616,-138.1345\"/>\n",
       "<text text-anchor=\"middle\" x=\"226.002\" y=\"-132.7605\" font-family=\"Times,serif\" font-size=\"14.00\" fill=\"#000000\">8</text>\n",
       "</g>\n",
       "<!-- 2 -->\n",
       "<g id=\"node2\" class=\"node\">\n",
       "<title>2</title>\n",
       "<ellipse fill=\"none\" stroke=\"#000000\" cx=\"408.2012\" cy=\"-186.6759\" rx=\"27\" ry=\"18\"/>\n",
       "<text text-anchor=\"middle\" x=\"408.2012\" y=\"-182.4759\" font-family=\"Times,serif\" font-size=\"14.00\" fill=\"#000000\">2</text>\n",
       "</g>\n",
       "<!-- 4 -->\n",
       "<g id=\"node4\" class=\"node\">\n",
       "<title>4</title>\n",
       "<ellipse fill=\"none\" stroke=\"#000000\" cx=\"373.6104\" cy=\"-257.3326\" rx=\"27\" ry=\"18\"/>\n",
       "<text text-anchor=\"middle\" x=\"373.6104\" y=\"-253.1326\" font-family=\"Times,serif\" font-size=\"14.00\" fill=\"#000000\">4</text>\n",
       "</g>\n",
       "<!-- 2&#45;&gt;4 -->\n",
       "<g id=\"edge9\" class=\"edge\">\n",
       "<title>2&#45;&gt;4</title>\n",
       "<path fill=\"none\" stroke=\"#000000\" d=\"M399.6507,-204.1416C395.7131,-212.1846 390.955,-221.9038 386.5889,-230.8221\"/>\n",
       "<polygon fill=\"#000000\" stroke=\"#000000\" points=\"383.3161,-229.5474 382.0626,-240.0678 389.6031,-232.6253 383.3161,-229.5474\"/>\n",
       "<text text-anchor=\"middle\" x=\"389.6198\" y=\"-220.2818\" font-family=\"Times,serif\" font-size=\"14.00\" fill=\"#000000\">9</text>\n",
       "</g>\n",
       "<!-- 5 -->\n",
       "<g id=\"node5\" class=\"node\">\n",
       "<title>5</title>\n",
       "<ellipse fill=\"none\" stroke=\"#000000\" cx=\"461.1646\" cy=\"-259.1721\" rx=\"27\" ry=\"18\"/>\n",
       "<text text-anchor=\"middle\" x=\"461.1646\" y=\"-254.9721\" font-family=\"Times,serif\" font-size=\"14.00\" fill=\"#000000\">5</text>\n",
       "</g>\n",
       "<!-- 2&#45;&gt;5 -->\n",
       "<g id=\"edge10\" class=\"edge\">\n",
       "<title>2&#45;&gt;5</title>\n",
       "<path fill=\"none\" stroke=\"#000000\" d=\"M420.2194,-203.1264C426.9911,-212.3955 435.583,-224.156 443.1457,-234.508\"/>\n",
       "<polygon fill=\"#000000\" stroke=\"#000000\" points=\"440.4686,-236.7767 449.1939,-242.7867 446.1209,-232.6473 440.4686,-236.7767\"/>\n",
       "<text text-anchor=\"middle\" x=\"424.6826\" y=\"-221.6172\" font-family=\"Times,serif\" font-size=\"14.00\" fill=\"#000000\">10</text>\n",
       "</g>\n",
       "<!-- 2&#45;&gt;6 -->\n",
       "<g id=\"edge11\" class=\"edge\">\n",
       "<title>2&#45;&gt;6</title>\n",
       "<path fill=\"none\" stroke=\"#000000\" d=\"M386.2785,-175.7742C378.2622,-171.7878 369.0366,-167.2002 360.3843,-162.8975\"/>\n",
       "<polygon fill=\"#000000\" stroke=\"#000000\" points=\"361.8174,-159.7013 351.3049,-158.3826 358.7005,-165.9691 361.8174,-159.7013\"/>\n",
       "<text text-anchor=\"middle\" x=\"366.5877\" y=\"-172.1359\" font-family=\"Times,serif\" font-size=\"14.00\" fill=\"#000000\">11</text>\n",
       "</g>\n",
       "<!-- 10 -->\n",
       "<g id=\"node10\" class=\"node\">\n",
       "<title>10</title>\n",
       "<ellipse fill=\"none\" stroke=\"#000000\" cx=\"452.9061\" cy=\"-112.0298\" rx=\"27\" ry=\"18\"/>\n",
       "<text text-anchor=\"middle\" x=\"452.9061\" y=\"-107.8298\" font-family=\"Times,serif\" font-size=\"14.00\" fill=\"#000000\">10</text>\n",
       "</g>\n",
       "<!-- 2&#45;&gt;10 -->\n",
       "<g id=\"edge12\" class=\"edge\">\n",
       "<title>2&#45;&gt;10</title>\n",
       "<path fill=\"none\" stroke=\"#000000\" d=\"M418.3454,-169.7376C424.0041,-160.289 431.1685,-148.3262 437.5052,-137.7456\"/>\n",
       "<polygon fill=\"#000000\" stroke=\"#000000\" points=\"440.6667,-139.2786 442.802,-128.9011 434.6613,-135.682 440.6667,-139.2786\"/>\n",
       "<text text-anchor=\"middle\" x=\"420.9253\" y=\"-156.5416\" font-family=\"Times,serif\" font-size=\"14.00\" fill=\"#000000\">12</text>\n",
       "</g>\n",
       "<!-- 17 -->\n",
       "<g id=\"node17\" class=\"node\">\n",
       "<title>17</title>\n",
       "<ellipse fill=\"none\" stroke=\"#000000\" cx=\"480.7815\" cy=\"-154.028\" rx=\"27\" ry=\"18\"/>\n",
       "<text text-anchor=\"middle\" x=\"480.7815\" y=\"-149.828\" font-family=\"Times,serif\" font-size=\"14.00\" fill=\"#000000\">17</text>\n",
       "</g>\n",
       "<!-- 2&#45;&gt;17 -->\n",
       "<g id=\"edge13\" class=\"edge\">\n",
       "<title>2&#45;&gt;17</title>\n",
       "<path fill=\"none\" stroke=\"#000000\" d=\"M430.7682,-176.5249C436.4485,-173.9698 442.6548,-171.1781 448.7029,-168.4576\"/>\n",
       "<polygon fill=\"#000000\" stroke=\"#000000\" points=\"450.2945,-171.5795 457.9785,-164.2852 447.4228,-165.1956 450.2945,-171.5795\"/>\n",
       "<text text-anchor=\"middle\" x=\"446.7355\" y=\"-175.2912\" font-family=\"Times,serif\" font-size=\"14.00\" fill=\"#000000\">13</text>\n",
       "</g>\n",
       "<!-- 11 -->\n",
       "<g id=\"node11\" class=\"node\">\n",
       "<title>11</title>\n",
       "<ellipse fill=\"none\" stroke=\"#000000\" cx=\"90.75\" cy=\"-177.2332\" rx=\"27\" ry=\"18\"/>\n",
       "<text text-anchor=\"middle\" x=\"90.75\" y=\"-173.0332\" font-family=\"Times,serif\" font-size=\"14.00\" fill=\"#000000\">11</text>\n",
       "</g>\n",
       "<!-- 3&#45;&gt;11 -->\n",
       "<g id=\"edge14\" class=\"edge\">\n",
       "<title>3&#45;&gt;11</title>\n",
       "<path fill=\"none\" stroke=\"#000000\" d=\"M137.077,-134.6071C130.2887,-140.8531 122.2395,-148.2594 114.7705,-155.1316\"/>\n",
       "<polygon fill=\"#000000\" stroke=\"#000000\" points=\"111.9698,-152.9524 106.9808,-162.2991 116.7096,-158.1036 111.9698,-152.9524\"/>\n",
       "<text text-anchor=\"middle\" x=\"118.9238\" y=\"-147.6694\" font-family=\"Times,serif\" font-size=\"14.00\" fill=\"#000000\">17</text>\n",
       "</g>\n",
       "<!-- 12 -->\n",
       "<g id=\"node12\" class=\"node\">\n",
       "<title>12</title>\n",
       "<ellipse fill=\"none\" stroke=\"#000000\" cx=\"89.4972\" cy=\"-65.3774\" rx=\"27\" ry=\"18\"/>\n",
       "<text text-anchor=\"middle\" x=\"89.4972\" y=\"-61.1774\" font-family=\"Times,serif\" font-size=\"14.00\" fill=\"#000000\">12</text>\n",
       "</g>\n",
       "<!-- 3&#45;&gt;12 -->\n",
       "<g id=\"edge15\" class=\"edge\">\n",
       "<title>3&#45;&gt;12</title>\n",
       "<path fill=\"none\" stroke=\"#000000\" d=\"M136.4225,-105.5176C129.6064,-99.687 121.587,-92.8272 114.1247,-86.4439\"/>\n",
       "<polygon fill=\"#000000\" stroke=\"#000000\" points=\"116.2035,-83.6163 106.3293,-79.7757 111.6533,-88.9357 116.2035,-83.6163\"/>\n",
       "<text text-anchor=\"middle\" x=\"118.2736\" y=\"-98.7808\" font-family=\"Times,serif\" font-size=\"14.00\" fill=\"#000000\">18</text>\n",
       "</g>\n",
       "<!-- 8 -->\n",
       "<g id=\"node8\" class=\"node\">\n",
       "<title>8</title>\n",
       "<ellipse fill=\"none\" stroke=\"#000000\" cx=\"545.3549\" cy=\"-245.2486\" rx=\"27\" ry=\"18\"/>\n",
       "<text text-anchor=\"middle\" x=\"545.3549\" y=\"-241.0486\" font-family=\"Times,serif\" font-size=\"14.00\" fill=\"#000000\">8</text>\n",
       "</g>\n",
       "<!-- 5&#45;&gt;8 -->\n",
       "<g id=\"edge16\" class=\"edge\">\n",
       "<title>5&#45;&gt;8</title>\n",
       "<path fill=\"none\" stroke=\"#000000\" d=\"M487.8029,-254.7666C494.4705,-253.6639 501.7389,-252.4619 508.796,-251.2948\"/>\n",
       "<polygon fill=\"#000000\" stroke=\"#000000\" points=\"509.5949,-254.7103 518.8898,-249.6254 508.4527,-247.8041 509.5949,-254.7103\"/>\n",
       "<text text-anchor=\"middle\" x=\"505.2995\" y=\"-255.8307\" font-family=\"Times,serif\" font-size=\"14.00\" fill=\"#000000\">24</text>\n",
       "</g>\n",
       "<!-- 19 -->\n",
       "<g id=\"node19\" class=\"node\">\n",
       "<title>19</title>\n",
       "<ellipse fill=\"none\" stroke=\"#000000\" cx=\"437.8476\" cy=\"-343.4314\" rx=\"27\" ry=\"18\"/>\n",
       "<text text-anchor=\"middle\" x=\"437.8476\" y=\"-339.2314\" font-family=\"Times,serif\" font-size=\"14.00\" fill=\"#000000\">19</text>\n",
       "</g>\n",
       "<!-- 5&#45;&gt;19 -->\n",
       "<g id=\"edge17\" class=\"edge\">\n",
       "<title>5&#45;&gt;19</title>\n",
       "<path fill=\"none\" stroke=\"#000000\" d=\"M456.2196,-277.0414C453.0973,-288.3242 449.0005,-303.1287 445.468,-315.8939\"/>\n",
       "<polygon fill=\"#000000\" stroke=\"#000000\" points=\"442.0793,-315.0166 442.7854,-325.5879 448.8257,-316.8836 442.0793,-315.0166\"/>\n",
       "<text text-anchor=\"middle\" x=\"443.8438\" y=\"-299.2676\" font-family=\"Times,serif\" font-size=\"14.00\" fill=\"#000000\">29</text>\n",
       "</g>\n",
       "<!-- 20 -->\n",
       "<g id=\"node20\" class=\"node\">\n",
       "<title>20</title>\n",
       "<ellipse fill=\"none\" stroke=\"#000000\" cx=\"510.7498\" cy=\"-319.8805\" rx=\"27\" ry=\"18\"/>\n",
       "<text text-anchor=\"middle\" x=\"510.7498\" y=\"-315.6805\" font-family=\"Times,serif\" font-size=\"14.00\" fill=\"#000000\">20</text>\n",
       "</g>\n",
       "<!-- 5&#45;&gt;20 -->\n",
       "<g id=\"edge18\" class=\"edge\">\n",
       "<title>5&#45;&gt;20</title>\n",
       "<path fill=\"none\" stroke=\"#000000\" d=\"M474.1925,-275.1226C479.3897,-281.4856 485.4848,-288.9479 491.1921,-295.9355\"/>\n",
       "<polygon fill=\"#000000\" stroke=\"#000000\" points=\"488.6001,-298.295 497.6367,-303.8259 494.0216,-293.8669 488.6001,-298.295\"/>\n",
       "<text text-anchor=\"middle\" x=\"475.6923\" y=\"-288.329\" font-family=\"Times,serif\" font-size=\"14.00\" fill=\"#000000\">30</text>\n",
       "</g>\n",
       "<!-- 15 -->\n",
       "<g id=\"node15\" class=\"node\">\n",
       "<title>15</title>\n",
       "<ellipse fill=\"none\" stroke=\"#000000\" cx=\"27\" cy=\"-220.0749\" rx=\"27\" ry=\"18\"/>\n",
       "<text text-anchor=\"middle\" x=\"27\" y=\"-215.8749\" font-family=\"Times,serif\" font-size=\"14.00\" fill=\"#000000\">15</text>\n",
       "</g>\n",
       "<!-- 11&#45;&gt;15 -->\n",
       "<g id=\"edge19\" class=\"edge\">\n",
       "<title>11&#45;&gt;15</title>\n",
       "<path fill=\"none\" stroke=\"#000000\" d=\"M71.6229,-190.0871C66.3279,-193.6455 60.4709,-197.5816 54.7899,-201.3993\"/>\n",
       "<polygon fill=\"#000000\" stroke=\"#000000\" points=\"52.4613,-198.7472 46.1136,-207.23 56.3658,-204.5572 52.4613,-198.7472\"/>\n",
       "<text text-anchor=\"middle\" x=\"56.2064\" y=\"-184.5432\" font-family=\"Times,serif\" font-size=\"14.00\" fill=\"#000000\">64</text>\n",
       "</g>\n",
       "</g>\n",
       "</svg>\n"
      ],
      "text/plain": [
       "DiGraph(DiNode[DiNode(1,Dict{Symbol,Any}()),DiNode(2,Dict{Symbol,Any}()),DiNode(3,Dict{Symbol,Any}()),DiNode(4,Dict{Symbol,Any}()),DiNode(5,Dict{Symbol,Any}()),DiNode(6,Dict{Symbol,Any}()),DiNode(7,Dict{Symbol,Any}()),DiNode(8,Dict{Symbol,Any}()),DiNode(9,Dict{Symbol,Any}()),DiNode(10,Dict{Symbol,Any}()),DiNode(11,Dict{Symbol,Any}()),DiNode(12,Dict{Symbol,Any}()),DiNode(13,Dict{Symbol,Any}()),DiNode(14,Dict{Symbol,Any}()),DiNode(15,Dict{Symbol,Any}()),DiNode(16,Dict{Symbol,Any}()),DiNode(17,Dict{Symbol,Any}()),DiNode(18,Dict{Symbol,Any}()),DiNode(19,Dict{Symbol,Any}()),DiNode(20,Dict{Symbol,Any}())],DiEdge[DiEdge(1=>3,Dict{Symbol,Any}(Pair{Symbol,Any}(:label,1))),DiEdge(1=>6,Dict{Symbol,Any}(Pair{Symbol,Any}(:label,2))),DiEdge(1=>7,Dict{Symbol,Any}(Pair{Symbol,Any}(:label,3))),DiEdge(1=>9,Dict{Symbol,Any}(Pair{Symbol,Any}(:label,4))),DiEdge(1=>13,Dict{Symbol,Any}(Pair{Symbol,Any}(:label,5))),DiEdge(1=>14,Dict{Symbol,Any}(Pair{Symbol,Any}(:label,6))),DiEdge(1=>16,Dict{Symbol,Any}(Pair{Symbol,Any}(:label,7))),DiEdge(1=>18,Dict{Symbol,Any}(Pair{Symbol,Any}(:label,8))),DiEdge(2=>4,Dict{Symbol,Any}(Pair{Symbol,Any}(:label,9))),DiEdge(2=>5,Dict{Symbol,Any}(Pair{Symbol,Any}(:label,10))),DiEdge(2=>6,Dict{Symbol,Any}(Pair{Symbol,Any}(:label,11))),DiEdge(2=>10,Dict{Symbol,Any}(Pair{Symbol,Any}(:label,12))),DiEdge(2=>17,Dict{Symbol,Any}(Pair{Symbol,Any}(:label,13))),DiEdge(3=>11,Dict{Symbol,Any}(Pair{Symbol,Any}(:label,17))),DiEdge(3=>12,Dict{Symbol,Any}(Pair{Symbol,Any}(:label,18))),DiEdge(5=>8,Dict{Symbol,Any}(Pair{Symbol,Any}(:label,24))),DiEdge(5=>19,Dict{Symbol,Any}(Pair{Symbol,Any}(:label,29))),DiEdge(5=>20,Dict{Symbol,Any}(Pair{Symbol,Any}(:label,30))),DiEdge(11=>15,Dict{Symbol,Any}(Pair{Symbol,Any}(:label,64)))],Dict{Symbol,Any}())"
      ]
     },
     "execution_count": 25,
     "metadata": {},
     "output_type": "execute_result"
    }
   ],
   "source": [
    "tree(randgraph(20, 6))"
   ]
  },
  {
   "cell_type": "markdown",
   "metadata": {},
   "source": [
    "## Graphs and Kirchhoff's circuit laws\n",
    "\n"
   ]
  },
  {
   "cell_type": "markdown",
   "metadata": {},
   "source": [
    "An elegant application of the incidence matrix and its subspaces arises if we think of the graph as representing an **electrical circuit**:\n",
    "\n",
    "* Each edge represents a wire/resistor, with an unknown current $i$.  The *direction* of the edge indicates the *sign convention* ($i>0$ indicates current flowing in the direction of the arrow).\n",
    "* Each node represents a junction, with an unknown voltage $v$.\n",
    "\n",
    "Let's visualize this by re-labeling our graph from above.  We'll use the [SymPy](https://github.com/JuliaPy/SymPy.jl) package to allow us to do *symbolic* (not numeric) calculations with the incidence matrix."
   ]
  },
  {
   "cell_type": "code",
   "execution_count": 26,
   "metadata": {
    "collapsed": false
   },
   "outputs": [
    {
     "data": {
      "text/plain": [
       "\"v₂ - v₀\""
      ]
     },
     "execution_count": 26,
     "metadata": {},
     "output_type": "execute_result"
    }
   ],
   "source": [
    "# A little code so that we can label graph nodes/edges with SymPy expressions.\n",
    "# convert strings like \"v_2 - v_0\" from SymPy to nicer Unicode strings like \"v₂ - v₀\"\n",
    "subchar(d::Integer) = Char(UInt32('₀')+d)\n",
    "subchar(c::Char) = subchar(UInt32(c)-UInt32('0'))\n",
    "subchar(s::String) = replace(s, r\"_[0-9]\", s -> subchar(s[2]))\n",
    "showprop(io, s::SymPy.Sym) = showprop(io, subchar(stringmime(\"text/plain\", s)))\n",
    "subchar(\"v_2 - v_0\")"
   ]
  },
  {
   "cell_type": "code",
   "execution_count": 27,
   "metadata": {
    "collapsed": false
   },
   "outputs": [
    {
     "data": {
      "image/svg+xml": [
       "<?xml version=\"1.0\" encoding=\"UTF-8\" standalone=\"no\"?>\n",
       "<!DOCTYPE svg PUBLIC \"-//W3C//DTD SVG 1.1//EN\"\n",
       " \"http://www.w3.org/Graphics/SVG/1.1/DTD/svg11.dtd\">\n",
       "<!-- Generated by graphviz version 2.40.1 (20161225.0304)\n",
       " -->\n",
       "<!-- Title: MyDiGraph Pages: 1 -->\n",
       "<svg width=\"259pt\" height=\"257pt\"\n",
       " viewBox=\"0.00 0.00 258.52 256.56\" xmlns=\"http://www.w3.org/2000/svg\" xmlns:xlink=\"http://www.w3.org/1999/xlink\">\n",
       "<g id=\"graph0\" class=\"graph\" transform=\"scale(1 1) rotate(0) translate(4 252.5612)\">\n",
       "<title>MyDiGraph</title>\n",
       "<polygon fill=\"#ffffff\" stroke=\"transparent\" points=\"-4,4 -4,-252.5612 254.5182,-252.5612 254.5182,4 -4,4\"/>\n",
       "<!-- 1 -->\n",
       "<g id=\"node1\" class=\"node\">\n",
       "<title>1</title>\n",
       "<ellipse fill=\"none\" stroke=\"#000000\" cx=\"27\" cy=\"-140.9451\" rx=\"27\" ry=\"18\"/>\n",
       "<text text-anchor=\"middle\" x=\"27\" y=\"-138.2626\" font-family=\"Times,serif\" font-size=\"14.00\" fill=\"#000000\">v₁</text>\n",
       "</g>\n",
       "<!-- 4 -->\n",
       "<g id=\"node4\" class=\"node\">\n",
       "<title>4</title>\n",
       "<ellipse fill=\"none\" stroke=\"#000000\" cx=\"116.8883\" cy=\"-215.532\" rx=\"27\" ry=\"18\"/>\n",
       "<text text-anchor=\"middle\" x=\"116.8883\" y=\"-212.8496\" font-family=\"Times,serif\" font-size=\"14.00\" fill=\"#000000\">v₄</text>\n",
       "</g>\n",
       "<!-- 1&#45;&gt;4 -->\n",
       "<g id=\"edge1\" class=\"edge\">\n",
       "<title>1&#45;&gt;4</title>\n",
       "<path fill=\"none\" stroke=\"#000000\" d=\"M44.3314,-155.3262C57.8476,-166.5416 76.8036,-182.2708 91.9506,-194.8393\"/>\n",
       "<polygon fill=\"#000000\" stroke=\"#000000\" points=\"89.9843,-197.7558 99.915,-201.448 94.4543,-192.3688 89.9843,-197.7558\"/>\n",
       "<text text-anchor=\"middle\" x=\"63.243\" y=\"-180.9179\" font-family=\"Times,serif\" font-size=\"14.00\" fill=\"#000000\">i₁</text>\n",
       "</g>\n",
       "<!-- 2 -->\n",
       "<g id=\"node2\" class=\"node\">\n",
       "<title>2</title>\n",
       "<ellipse fill=\"none\" stroke=\"#000000\" cx=\"102.2914\" cy=\"-51.6524\" rx=\"27\" ry=\"18\"/>\n",
       "<text text-anchor=\"middle\" x=\"102.2914\" y=\"-48.97\" font-family=\"Times,serif\" font-size=\"14.00\" fill=\"#000000\">v₂</text>\n",
       "</g>\n",
       "<!-- 2&#45;&gt;1 -->\n",
       "<g id=\"edge6\" class=\"edge\">\n",
       "<title>2&#45;&gt;1</title>\n",
       "<path fill=\"none\" stroke=\"#000000\" d=\"M88.8308,-67.6162C77.1606,-81.4566 60.1129,-101.6744 46.8723,-117.3772\"/>\n",
       "<polygon fill=\"#000000\" stroke=\"#000000\" points=\"44.1146,-115.2183 40.3441,-125.1195 49.4661,-119.7307 44.1146,-115.2183\"/>\n",
       "<text text-anchor=\"middle\" x=\"62.9536\" y=\"-98.3319\" font-family=\"Times,serif\" font-size=\"14.00\" fill=\"#000000\">i₆</text>\n",
       "</g>\n",
       "<!-- 6 -->\n",
       "<g id=\"node6\" class=\"node\">\n",
       "<title>6</title>\n",
       "<ellipse fill=\"none\" stroke=\"#000000\" cx=\"192.6702\" cy=\"-126.1901\" rx=\"27\" ry=\"18\"/>\n",
       "<text text-anchor=\"middle\" x=\"192.6702\" y=\"-123.5077\" font-family=\"Times,serif\" font-size=\"14.00\" fill=\"#000000\">v₆</text>\n",
       "</g>\n",
       "<!-- 2&#45;&gt;6 -->\n",
       "<g id=\"edge7\" class=\"edge\">\n",
       "<title>2&#45;&gt;6</title>\n",
       "<path fill=\"none\" stroke=\"#000000\" d=\"M119.2909,-65.6724C132.8382,-76.8452 152.0133,-92.6594 167.3645,-105.3199\"/>\n",
       "<polygon fill=\"#000000\" stroke=\"#000000\" points=\"165.4978,-108.3172 175.4396,-111.9796 169.9517,-102.9168 165.4978,-108.3172\"/>\n",
       "<text text-anchor=\"middle\" x=\"138.4298\" y=\"-91.3313\" font-family=\"Times,serif\" font-size=\"14.00\" fill=\"#000000\">i₇</text>\n",
       "</g>\n",
       "<!-- 3 -->\n",
       "<g id=\"node3\" class=\"node\">\n",
       "<title>3</title>\n",
       "<ellipse fill=\"none\" stroke=\"#000000\" cx=\"204.5704\" cy=\"-18\" rx=\"27\" ry=\"18\"/>\n",
       "<text text-anchor=\"middle\" x=\"204.5704\" y=\"-15.3176\" font-family=\"Times,serif\" font-size=\"14.00\" fill=\"#000000\">v₃</text>\n",
       "</g>\n",
       "<!-- 3&#45;&gt;2 -->\n",
       "<g id=\"edge5\" class=\"edge\">\n",
       "<title>3&#45;&gt;2</title>\n",
       "<path fill=\"none\" stroke=\"#000000\" d=\"M180.3317,-25.9752C167.1806,-30.3022 150.7115,-35.721 136.2962,-40.464\"/>\n",
       "<polygon fill=\"#000000\" stroke=\"#000000\" points=\"135.1157,-37.1677 126.7105,-43.6179 137.3035,-43.8171 135.1157,-37.1677\"/>\n",
       "<text text-anchor=\"middle\" x=\"153.416\" y=\"-39.0547\" font-family=\"Times,serif\" font-size=\"14.00\" fill=\"#000000\">i₅</text>\n",
       "</g>\n",
       "<!-- 5 -->\n",
       "<g id=\"node5\" class=\"node\">\n",
       "<title>5</title>\n",
       "<ellipse fill=\"none\" stroke=\"#000000\" cx=\"223.5182\" cy=\"-230.5612\" rx=\"27\" ry=\"18\"/>\n",
       "<text text-anchor=\"middle\" x=\"223.5182\" y=\"-227.8787\" font-family=\"Times,serif\" font-size=\"14.00\" fill=\"#000000\">v₅</text>\n",
       "</g>\n",
       "<!-- 4&#45;&gt;5 -->\n",
       "<g id=\"edge2\" class=\"edge\">\n",
       "<title>4&#45;&gt;5</title>\n",
       "<path fill=\"none\" stroke=\"#000000\" d=\"M143.5205,-219.2857C156.6248,-221.1327 172.6268,-223.3882 186.8659,-225.3951\"/>\n",
       "<polygon fill=\"#000000\" stroke=\"#000000\" points=\"186.4654,-228.8732 196.856,-226.8032 187.4424,-221.9417 186.4654,-228.8732\"/>\n",
       "<text text-anchor=\"middle\" x=\"160.2953\" y=\"-228.1756\" font-family=\"Times,serif\" font-size=\"14.00\" fill=\"#000000\">i₂</text>\n",
       "</g>\n",
       "<!-- 4&#45;&gt;6 -->\n",
       "<g id=\"edge8\" class=\"edge\">\n",
       "<title>4&#45;&gt;6</title>\n",
       "<path fill=\"none\" stroke=\"#000000\" d=\"M130.4366,-199.5595C142.1828,-185.7114 159.3415,-165.4824 172.6684,-149.771\"/>\n",
       "<polygon fill=\"#000000\" stroke=\"#000000\" points=\"175.4397,-151.9145 179.2392,-142.0244 170.1014,-147.3865 175.4397,-151.9145\"/>\n",
       "<text text-anchor=\"middle\" x=\"146.6545\" y=\"-180.5004\" font-family=\"Times,serif\" font-size=\"14.00\" fill=\"#000000\">i₈</text>\n",
       "</g>\n",
       "<!-- 5&#45;&gt;6 -->\n",
       "<g id=\"edge3\" class=\"edge\">\n",
       "<title>5&#45;&gt;6</title>\n",
       "<path fill=\"none\" stroke=\"#000000\" d=\"M218.2853,-212.856C213.499,-196.6623 206.343,-172.4508 200.8102,-153.7311\"/>\n",
       "<polygon fill=\"#000000\" stroke=\"#000000\" points=\"204.1197,-152.58 197.9288,-143.9821 197.4068,-154.5641 204.1197,-152.58\"/>\n",
       "<text text-anchor=\"middle\" x=\"204.6498\" y=\"-189.1287\" font-family=\"Times,serif\" font-size=\"14.00\" fill=\"#000000\">i₃</text>\n",
       "</g>\n",
       "<!-- 6&#45;&gt;3 -->\n",
       "<g id=\"edge4\" class=\"edge\">\n",
       "<title>6&#45;&gt;3</title>\n",
       "<path fill=\"none\" stroke=\"#000000\" d=\"M194.6889,-107.8372C196.5465,-90.9492 199.3293,-65.6489 201.469,-46.1966\"/>\n",
       "<polygon fill=\"#000000\" stroke=\"#000000\" points=\"204.9671,-46.4047 202.5815,-36.0819 198.009,-45.6393 204.9671,-46.4047\"/>\n",
       "<text text-anchor=\"middle\" x=\"193.181\" y=\"-82.852\" font-family=\"Times,serif\" font-size=\"14.00\" fill=\"#000000\">i₄</text>\n",
       "</g>\n",
       "</g>\n",
       "</svg>\n"
      ],
      "text/plain": [
       "DiGraph(DiNode[DiNode(1,Dict{Symbol,Any}(Pair{Symbol,Any}(:label,v_1))),DiNode(2,Dict{Symbol,Any}(Pair{Symbol,Any}(:label,v_2))),DiNode(3,Dict{Symbol,Any}(Pair{Symbol,Any}(:label,v_3))),DiNode(4,Dict{Symbol,Any}(Pair{Symbol,Any}(:label,v_4))),DiNode(5,Dict{Symbol,Any}(Pair{Symbol,Any}(:label,v_5))),DiNode(6,Dict{Symbol,Any}(Pair{Symbol,Any}(:label,v_6)))],DiEdge[DiEdge(1=>4,Dict{Symbol,Any}(Pair{Symbol,Any}(:label,i_1),Pair{Symbol,Any}(:len,1.5))),DiEdge(4=>5,Dict{Symbol,Any}(Pair{Symbol,Any}(:label,i_2),Pair{Symbol,Any}(:len,1.5))),DiEdge(5=>6,Dict{Symbol,Any}(Pair{Symbol,Any}(:label,i_3),Pair{Symbol,Any}(:len,1.5))),DiEdge(6=>3,Dict{Symbol,Any}(Pair{Symbol,Any}(:label,i_4),Pair{Symbol,Any}(:len,1.5))),DiEdge(3=>2,Dict{Symbol,Any}(Pair{Symbol,Any}(:label,i_5),Pair{Symbol,Any}(:len,1.5))),DiEdge(2=>1,Dict{Symbol,Any}(Pair{Symbol,Any}(:label,i_6),Pair{Symbol,Any}(:len,1.5))),DiEdge(2=>6,Dict{Symbol,Any}(Pair{Symbol,Any}(:label,i_7),Pair{Symbol,Any}(:len,1.5))),DiEdge(4=>6,Dict{Symbol,Any}(Pair{Symbol,Any}(:label,i_8),Pair{Symbol,Any}(:len,1.5)))],Dict{Symbol,Any}())"
      ]
     },
     "execution_count": 27,
     "metadata": {},
     "output_type": "execute_result"
    }
   ],
   "source": [
    "labels(g, edges=[Sym(\"i_$i\") for i = 1:size(A,1)], nodes=[Sym(\"v_$i\") for i = 1:size(A,2)])"
   ]
  },
  {
   "cell_type": "markdown",
   "metadata": {},
   "source": [
    "### Kirchhoff's voltage law (KVL)\n",
    "\n",
    "Let's start doing some linear algebra.  What happens if we *multiply* our incidence matrix $A$ by a vector of voltages, one per node?"
   ]
  },
  {
   "cell_type": "code",
   "execution_count": 28,
   "metadata": {
    "collapsed": false
   },
   "outputs": [
    {
     "data": {
      "text/latex": [
       "\\begin{bmatrix}v_{1}\\\\v_{2}\\\\v_{3}\\\\v_{4}\\\\v_{5}\\\\v_{6}\\end{bmatrix}"
      ],
      "text/plain": [
       "6-element Array{SymPy.Sym,1}\n",
       "[v_1]\n",
       "[   ]\n",
       "[v_2]\n",
       "[   ]\n",
       "[v_3]\n",
       "[   ]\n",
       "[v_4]\n",
       "[   ]\n",
       "[v_5]\n",
       "[   ]\n",
       "[v_6]"
      ]
     },
     "execution_count": 28,
     "metadata": {},
     "output_type": "execute_result"
    }
   ],
   "source": [
    "v = [Sym(\"v_$i\") for i = 1:size(A,2)]"
   ]
  },
  {
   "cell_type": "code",
   "execution_count": 29,
   "metadata": {
    "collapsed": false
   },
   "outputs": [
    {
     "data": {
      "text/plain": [
       "8×6 Array{Int64,2}:\n",
       " -1   0   0   1   0   0\n",
       "  0   0   0  -1   1   0\n",
       "  0   0   0   0  -1   1\n",
       "  0   0   1   0   0  -1\n",
       "  0   1  -1   0   0   0\n",
       "  1  -1   0   0   0   0\n",
       "  0  -1   0   0   0   1\n",
       "  0   0   0  -1   0   1"
      ]
     },
     "execution_count": 29,
     "metadata": {},
     "output_type": "execute_result"
    }
   ],
   "source": [
    "A"
   ]
  },
  {
   "cell_type": "code",
   "execution_count": 30,
   "metadata": {
    "collapsed": false
   },
   "outputs": [
    {
     "data": {
      "text/latex": [
       "\\begin{bmatrix}- v_{1} + v_{4}\\\\- v_{4} + v_{5}\\\\- v_{5} + v_{6}\\\\v_{3} - v_{6}\\\\v_{2} - v_{3}\\\\v_{1} - v_{2}\\\\- v_{2} + v_{6}\\\\- v_{4} + v_{6}\\end{bmatrix}"
      ],
      "text/plain": [
       "8-element Array{SymPy.Sym,1}\n",
       "[-v_1 + v_4]\n",
       "[          ]\n",
       "[-v_4 + v_5]\n",
       "[          ]\n",
       "[-v_5 + v_6]\n",
       "[          ]\n",
       "[v_3 - v_6 ]\n",
       "[          ]\n",
       "[v_2 - v_3 ]\n",
       "[          ]\n",
       "[v_1 - v_2 ]\n",
       "[          ]\n",
       "[-v_2 + v_6]\n",
       "[          ]\n",
       "[-v_4 + v_6]"
      ]
     },
     "execution_count": 30,
     "metadata": {},
     "output_type": "execute_result"
    }
   ],
   "source": [
    "A * v"
   ]
  },
  {
   "cell_type": "markdown",
   "metadata": {},
   "source": [
    "What we get are the **voltage difference** across each edge.  It is easier to see this if we use the elements of $Av$ to directly label the edges of our graph:"
   ]
  },
  {
   "cell_type": "code",
   "execution_count": 31,
   "metadata": {
    "collapsed": false
   },
   "outputs": [
    {
     "data": {
      "image/svg+xml": [
       "<?xml version=\"1.0\" encoding=\"UTF-8\" standalone=\"no\"?>\n",
       "<!DOCTYPE svg PUBLIC \"-//W3C//DTD SVG 1.1//EN\"\n",
       " \"http://www.w3.org/Graphics/SVG/1.1/DTD/svg11.dtd\">\n",
       "<!-- Generated by graphviz version 2.40.1 (20161225.0304)\n",
       " -->\n",
       "<!-- Title: MyDiGraph Pages: 1 -->\n",
       "<svg width=\"259pt\" height=\"257pt\"\n",
       " viewBox=\"0.00 0.00 258.52 256.56\" xmlns=\"http://www.w3.org/2000/svg\" xmlns:xlink=\"http://www.w3.org/1999/xlink\">\n",
       "<g id=\"graph0\" class=\"graph\" transform=\"scale(1 1) rotate(0) translate(4 252.5612)\">\n",
       "<title>MyDiGraph</title>\n",
       "<polygon fill=\"#ffffff\" stroke=\"transparent\" points=\"-4,4 -4,-252.5612 254.5182,-252.5612 254.5182,4 -4,4\"/>\n",
       "<!-- 1 -->\n",
       "<g id=\"node1\" class=\"node\">\n",
       "<title>1</title>\n",
       "<ellipse fill=\"none\" stroke=\"#000000\" cx=\"27\" cy=\"-140.9451\" rx=\"27\" ry=\"18\"/>\n",
       "<text text-anchor=\"middle\" x=\"27\" y=\"-138.2626\" font-family=\"Times,serif\" font-size=\"14.00\" fill=\"#000000\">v₁</text>\n",
       "</g>\n",
       "<!-- 4 -->\n",
       "<g id=\"node4\" class=\"node\">\n",
       "<title>4</title>\n",
       "<ellipse fill=\"none\" stroke=\"#000000\" cx=\"116.8883\" cy=\"-215.532\" rx=\"27\" ry=\"18\"/>\n",
       "<text text-anchor=\"middle\" x=\"116.8883\" y=\"-212.8496\" font-family=\"Times,serif\" font-size=\"14.00\" fill=\"#000000\">v₄</text>\n",
       "</g>\n",
       "<!-- 1&#45;&gt;4 -->\n",
       "<g id=\"edge1\" class=\"edge\">\n",
       "<title>1&#45;&gt;4</title>\n",
       "<path fill=\"none\" stroke=\"#000000\" d=\"M44.3314,-155.3262C57.8476,-166.5416 76.8036,-182.2708 91.9506,-194.8393\"/>\n",
       "<polygon fill=\"#000000\" stroke=\"#000000\" points=\"89.9843,-197.7558 99.915,-201.448 94.4543,-192.3688 89.9843,-197.7558\"/>\n",
       "<text text-anchor=\"middle\" x=\"45.4559\" y=\"-180.9179\" font-family=\"Times,serif\" font-size=\"14.00\" fill=\"#000000\">&#45;v₁ + v₄</text>\n",
       "</g>\n",
       "<!-- 2 -->\n",
       "<g id=\"node2\" class=\"node\">\n",
       "<title>2</title>\n",
       "<ellipse fill=\"none\" stroke=\"#000000\" cx=\"102.2914\" cy=\"-51.6524\" rx=\"27\" ry=\"18\"/>\n",
       "<text text-anchor=\"middle\" x=\"102.2914\" y=\"-48.97\" font-family=\"Times,serif\" font-size=\"14.00\" fill=\"#000000\">v₂</text>\n",
       "</g>\n",
       "<!-- 2&#45;&gt;1 -->\n",
       "<g id=\"edge6\" class=\"edge\">\n",
       "<title>2&#45;&gt;1</title>\n",
       "<path fill=\"none\" stroke=\"#000000\" d=\"M88.8308,-67.6162C77.1606,-81.4566 60.1129,-101.6744 46.8723,-117.3772\"/>\n",
       "<polygon fill=\"#000000\" stroke=\"#000000\" points=\"44.1146,-115.2183 40.3441,-125.1195 49.4661,-119.7307 44.1146,-115.2183\"/>\n",
       "<text text-anchor=\"middle\" x=\"49.1143\" y=\"-98.3319\" font-family=\"Times,serif\" font-size=\"14.00\" fill=\"#000000\">v₁ &#45; v₂</text>\n",
       "</g>\n",
       "<!-- 6 -->\n",
       "<g id=\"node6\" class=\"node\">\n",
       "<title>6</title>\n",
       "<ellipse fill=\"none\" stroke=\"#000000\" cx=\"192.6702\" cy=\"-126.1901\" rx=\"27\" ry=\"18\"/>\n",
       "<text text-anchor=\"middle\" x=\"192.6702\" y=\"-123.5077\" font-family=\"Times,serif\" font-size=\"14.00\" fill=\"#000000\">v₆</text>\n",
       "</g>\n",
       "<!-- 2&#45;&gt;6 -->\n",
       "<g id=\"edge7\" class=\"edge\">\n",
       "<title>2&#45;&gt;6</title>\n",
       "<path fill=\"none\" stroke=\"#000000\" d=\"M119.2909,-65.6724C132.8382,-76.8452 152.0133,-92.6594 167.3645,-105.3199\"/>\n",
       "<polygon fill=\"#000000\" stroke=\"#000000\" points=\"165.4978,-108.3172 175.4396,-111.9796 169.9517,-102.9168 165.4978,-108.3172\"/>\n",
       "<text text-anchor=\"middle\" x=\"120.6427\" y=\"-91.3313\" font-family=\"Times,serif\" font-size=\"14.00\" fill=\"#000000\">&#45;v₂ + v₆</text>\n",
       "</g>\n",
       "<!-- 3 -->\n",
       "<g id=\"node3\" class=\"node\">\n",
       "<title>3</title>\n",
       "<ellipse fill=\"none\" stroke=\"#000000\" cx=\"204.5704\" cy=\"-18\" rx=\"27\" ry=\"18\"/>\n",
       "<text text-anchor=\"middle\" x=\"204.5704\" y=\"-15.3176\" font-family=\"Times,serif\" font-size=\"14.00\" fill=\"#000000\">v₃</text>\n",
       "</g>\n",
       "<!-- 3&#45;&gt;2 -->\n",
       "<g id=\"edge5\" class=\"edge\">\n",
       "<title>3&#45;&gt;2</title>\n",
       "<path fill=\"none\" stroke=\"#000000\" d=\"M180.3317,-25.9752C167.1806,-30.3022 150.7115,-35.721 136.2962,-40.464\"/>\n",
       "<polygon fill=\"#000000\" stroke=\"#000000\" points=\"135.1157,-37.1677 126.7105,-43.6179 137.3035,-43.8171 135.1157,-37.1677\"/>\n",
       "<text text-anchor=\"middle\" x=\"139.5766\" y=\"-22.0196\" font-family=\"Times,serif\" font-size=\"14.00\" fill=\"#000000\">v₂ &#45; v₃</text>\n",
       "</g>\n",
       "<!-- 5 -->\n",
       "<g id=\"node5\" class=\"node\">\n",
       "<title>5</title>\n",
       "<ellipse fill=\"none\" stroke=\"#000000\" cx=\"223.5182\" cy=\"-230.5612\" rx=\"27\" ry=\"18\"/>\n",
       "<text text-anchor=\"middle\" x=\"223.5182\" y=\"-227.8787\" font-family=\"Times,serif\" font-size=\"14.00\" fill=\"#000000\">v₅</text>\n",
       "</g>\n",
       "<!-- 4&#45;&gt;5 -->\n",
       "<g id=\"edge2\" class=\"edge\">\n",
       "<title>4&#45;&gt;5</title>\n",
       "<path fill=\"none\" stroke=\"#000000\" d=\"M143.5205,-219.2857C156.6248,-221.1327 172.6268,-223.3882 186.8659,-225.3951\"/>\n",
       "<polygon fill=\"#000000\" stroke=\"#000000\" points=\"186.4654,-228.8732 196.856,-226.8032 187.4424,-221.9417 186.4654,-228.8732\"/>\n",
       "<text text-anchor=\"middle\" x=\"165.1932\" y=\"-211.1404\" font-family=\"Times,serif\" font-size=\"14.00\" fill=\"#000000\">&#45;v₄ + v₅</text>\n",
       "</g>\n",
       "<!-- 4&#45;&gt;6 -->\n",
       "<g id=\"edge8\" class=\"edge\">\n",
       "<title>4&#45;&gt;6</title>\n",
       "<path fill=\"none\" stroke=\"#000000\" d=\"M130.4366,-199.5595C142.1828,-185.7114 159.3415,-165.4824 172.6684,-149.771\"/>\n",
       "<polygon fill=\"#000000\" stroke=\"#000000\" points=\"175.4397,-151.9145 179.2392,-142.0244 170.1014,-147.3865 175.4397,-151.9145\"/>\n",
       "<text text-anchor=\"middle\" x=\"128.8674\" y=\"-180.5004\" font-family=\"Times,serif\" font-size=\"14.00\" fill=\"#000000\">&#45;v₄ + v₆</text>\n",
       "</g>\n",
       "<!-- 5&#45;&gt;6 -->\n",
       "<g id=\"edge3\" class=\"edge\">\n",
       "<title>5&#45;&gt;6</title>\n",
       "<path fill=\"none\" stroke=\"#000000\" d=\"M218.2853,-212.856C213.499,-196.6623 206.343,-172.4508 200.8102,-153.7311\"/>\n",
       "<polygon fill=\"#000000\" stroke=\"#000000\" points=\"204.1197,-152.58 197.9288,-143.9821 197.4068,-154.5641 204.1197,-152.58\"/>\n",
       "<text text-anchor=\"middle\" x=\"186.8627\" y=\"-189.1287\" font-family=\"Times,serif\" font-size=\"14.00\" fill=\"#000000\">&#45;v₅ + v₆</text>\n",
       "</g>\n",
       "<!-- 6&#45;&gt;3 -->\n",
       "<g id=\"edge4\" class=\"edge\">\n",
       "<title>6&#45;&gt;3</title>\n",
       "<path fill=\"none\" stroke=\"#000000\" d=\"M194.6889,-107.8372C196.5465,-90.9492 199.3293,-65.6489 201.469,-46.1966\"/>\n",
       "<polygon fill=\"#000000\" stroke=\"#000000\" points=\"204.9671,-46.4047 202.5815,-36.0819 198.009,-45.6393 204.9671,-46.4047\"/>\n",
       "<text text-anchor=\"middle\" x=\"179.3416\" y=\"-82.852\" font-family=\"Times,serif\" font-size=\"14.00\" fill=\"#000000\">v₃ &#45; v₆</text>\n",
       "</g>\n",
       "</g>\n",
       "</svg>\n"
      ],
      "text/plain": [
       "DiGraph(DiNode[DiNode(1,Dict{Symbol,Any}(Pair{Symbol,Any}(:label,v_1))),DiNode(2,Dict{Symbol,Any}(Pair{Symbol,Any}(:label,v_2))),DiNode(3,Dict{Symbol,Any}(Pair{Symbol,Any}(:label,v_3))),DiNode(4,Dict{Symbol,Any}(Pair{Symbol,Any}(:label,v_4))),DiNode(5,Dict{Symbol,Any}(Pair{Symbol,Any}(:label,v_5))),DiNode(6,Dict{Symbol,Any}(Pair{Symbol,Any}(:label,v_6)))],DiEdge[DiEdge(1=>4,Dict{Symbol,Any}(Pair{Symbol,Any}(:label,-v_1 + v_4),Pair{Symbol,Any}(:len,1.5))),DiEdge(4=>5,Dict{Symbol,Any}(Pair{Symbol,Any}(:label,-v_4 + v_5),Pair{Symbol,Any}(:len,1.5))),DiEdge(5=>6,Dict{Symbol,Any}(Pair{Symbol,Any}(:label,-v_5 + v_6),Pair{Symbol,Any}(:len,1.5))),DiEdge(6=>3,Dict{Symbol,Any}(Pair{Symbol,Any}(:label,v_3 - v_6),Pair{Symbol,Any}(:len,1.5))),DiEdge(3=>2,Dict{Symbol,Any}(Pair{Symbol,Any}(:label,v_2 - v_3),Pair{Symbol,Any}(:len,1.5))),DiEdge(2=>1,Dict{Symbol,Any}(Pair{Symbol,Any}(:label,v_1 - v_2),Pair{Symbol,Any}(:len,1.5))),DiEdge(2=>6,Dict{Symbol,Any}(Pair{Symbol,Any}(:label,-v_2 + v_6),Pair{Symbol,Any}(:len,1.5))),DiEdge(4=>6,Dict{Symbol,Any}(Pair{Symbol,Any}(:label,-v_4 + v_6),Pair{Symbol,Any}(:len,1.5)))],Dict{Symbol,Any}())"
      ]
     },
     "execution_count": 31,
     "metadata": {},
     "output_type": "execute_result"
    }
   ],
   "source": [
    "labels(g, edges=A*v, nodes=v)"
   ]
  },
  {
   "cell_type": "markdown",
   "metadata": {},
   "source": [
    "Now, let's ask the inverse question: **what voltage differences $d=Av$** can possibly arise?  i.e. what $d$ are in $C(A)$? \n",
    "\n",
    "Remember, $A$ is **not full rank**: its rank is 5, but there are 8 rows (8 edges).  So, $C(A)$ is 5-dimensional (\"missing\" three dimensions).  Equivalently $C(A)$ is **orthogonal to the left nullspace**, which has three rows.  What does this mean?\n",
    "\n",
    "Let's visualize the differences d:"
   ]
  },
  {
   "cell_type": "code",
   "execution_count": 32,
   "metadata": {
    "collapsed": false
   },
   "outputs": [
    {
     "data": {
      "image/svg+xml": [
       "<?xml version=\"1.0\" encoding=\"UTF-8\" standalone=\"no\"?>\n",
       "<!DOCTYPE svg PUBLIC \"-//W3C//DTD SVG 1.1//EN\"\n",
       " \"http://www.w3.org/Graphics/SVG/1.1/DTD/svg11.dtd\">\n",
       "<!-- Generated by graphviz version 2.40.1 (20161225.0304)\n",
       " -->\n",
       "<!-- Title: MyDiGraph Pages: 1 -->\n",
       "<svg width=\"259pt\" height=\"257pt\"\n",
       " viewBox=\"0.00 0.00 258.52 256.56\" xmlns=\"http://www.w3.org/2000/svg\" xmlns:xlink=\"http://www.w3.org/1999/xlink\">\n",
       "<g id=\"graph0\" class=\"graph\" transform=\"scale(1 1) rotate(0) translate(4 252.5612)\">\n",
       "<title>MyDiGraph</title>\n",
       "<polygon fill=\"#ffffff\" stroke=\"transparent\" points=\"-4,4 -4,-252.5612 254.5182,-252.5612 254.5182,4 -4,4\"/>\n",
       "<!-- 1 -->\n",
       "<g id=\"node1\" class=\"node\">\n",
       "<title>1</title>\n",
       "<ellipse fill=\"none\" stroke=\"#000000\" cx=\"27\" cy=\"-140.9451\" rx=\"27\" ry=\"18\"/>\n",
       "<text text-anchor=\"middle\" x=\"27\" y=\"-138.2626\" font-family=\"Times,serif\" font-size=\"14.00\" fill=\"#000000\">v₁</text>\n",
       "</g>\n",
       "<!-- 4 -->\n",
       "<g id=\"node4\" class=\"node\">\n",
       "<title>4</title>\n",
       "<ellipse fill=\"none\" stroke=\"#000000\" cx=\"116.8883\" cy=\"-215.532\" rx=\"27\" ry=\"18\"/>\n",
       "<text text-anchor=\"middle\" x=\"116.8883\" y=\"-212.8496\" font-family=\"Times,serif\" font-size=\"14.00\" fill=\"#000000\">v₄</text>\n",
       "</g>\n",
       "<!-- 1&#45;&gt;4 -->\n",
       "<g id=\"edge1\" class=\"edge\">\n",
       "<title>1&#45;&gt;4</title>\n",
       "<path fill=\"none\" stroke=\"#000000\" d=\"M44.3314,-155.3262C57.8476,-166.5416 76.8036,-182.2708 91.9506,-194.8393\"/>\n",
       "<polygon fill=\"#000000\" stroke=\"#000000\" points=\"89.9843,-197.7558 99.915,-201.448 94.4543,-192.3688 89.9843,-197.7558\"/>\n",
       "<text text-anchor=\"middle\" x=\"61.6879\" y=\"-180.9179\" font-family=\"Times,serif\" font-size=\"14.00\" fill=\"#000000\">d₁</text>\n",
       "</g>\n",
       "<!-- 2 -->\n",
       "<g id=\"node2\" class=\"node\">\n",
       "<title>2</title>\n",
       "<ellipse fill=\"none\" stroke=\"#000000\" cx=\"102.2914\" cy=\"-51.6524\" rx=\"27\" ry=\"18\"/>\n",
       "<text text-anchor=\"middle\" x=\"102.2914\" y=\"-48.97\" font-family=\"Times,serif\" font-size=\"14.00\" fill=\"#000000\">v₂</text>\n",
       "</g>\n",
       "<!-- 2&#45;&gt;1 -->\n",
       "<g id=\"edge6\" class=\"edge\">\n",
       "<title>2&#45;&gt;1</title>\n",
       "<path fill=\"none\" stroke=\"#000000\" d=\"M88.8308,-67.6162C77.1606,-81.4566 60.1129,-101.6744 46.8723,-117.3772\"/>\n",
       "<polygon fill=\"#000000\" stroke=\"#000000\" points=\"44.1146,-115.2183 40.3441,-125.1195 49.4661,-119.7307 44.1146,-115.2183\"/>\n",
       "<text text-anchor=\"middle\" x=\"61.3984\" y=\"-98.3319\" font-family=\"Times,serif\" font-size=\"14.00\" fill=\"#000000\">d₆</text>\n",
       "</g>\n",
       "<!-- 6 -->\n",
       "<g id=\"node6\" class=\"node\">\n",
       "<title>6</title>\n",
       "<ellipse fill=\"none\" stroke=\"#000000\" cx=\"192.6702\" cy=\"-126.1901\" rx=\"27\" ry=\"18\"/>\n",
       "<text text-anchor=\"middle\" x=\"192.6702\" y=\"-123.5077\" font-family=\"Times,serif\" font-size=\"14.00\" fill=\"#000000\">v₆</text>\n",
       "</g>\n",
       "<!-- 2&#45;&gt;6 -->\n",
       "<g id=\"edge7\" class=\"edge\">\n",
       "<title>2&#45;&gt;6</title>\n",
       "<path fill=\"none\" stroke=\"#000000\" d=\"M119.2909,-65.6724C132.8382,-76.8452 152.0133,-92.6594 167.3645,-105.3199\"/>\n",
       "<polygon fill=\"#000000\" stroke=\"#000000\" points=\"165.4978,-108.3172 175.4396,-111.9796 169.9517,-102.9168 165.4978,-108.3172\"/>\n",
       "<text text-anchor=\"middle\" x=\"136.8746\" y=\"-91.3313\" font-family=\"Times,serif\" font-size=\"14.00\" fill=\"#000000\">d₇</text>\n",
       "</g>\n",
       "<!-- 3 -->\n",
       "<g id=\"node3\" class=\"node\">\n",
       "<title>3</title>\n",
       "<ellipse fill=\"none\" stroke=\"#000000\" cx=\"204.5704\" cy=\"-18\" rx=\"27\" ry=\"18\"/>\n",
       "<text text-anchor=\"middle\" x=\"204.5704\" y=\"-15.3176\" font-family=\"Times,serif\" font-size=\"14.00\" fill=\"#000000\">v₃</text>\n",
       "</g>\n",
       "<!-- 3&#45;&gt;2 -->\n",
       "<g id=\"edge5\" class=\"edge\">\n",
       "<title>3&#45;&gt;2</title>\n",
       "<path fill=\"none\" stroke=\"#000000\" d=\"M180.3317,-25.9752C167.1806,-30.3022 150.7115,-35.721 136.2962,-40.464\"/>\n",
       "<polygon fill=\"#000000\" stroke=\"#000000\" points=\"135.1157,-37.1677 126.7105,-43.6179 137.3035,-43.8171 135.1157,-37.1677\"/>\n",
       "<text text-anchor=\"middle\" x=\"151.8608\" y=\"-39.0547\" font-family=\"Times,serif\" font-size=\"14.00\" fill=\"#000000\">d₅</text>\n",
       "</g>\n",
       "<!-- 5 -->\n",
       "<g id=\"node5\" class=\"node\">\n",
       "<title>5</title>\n",
       "<ellipse fill=\"none\" stroke=\"#000000\" cx=\"223.5182\" cy=\"-230.5612\" rx=\"27\" ry=\"18\"/>\n",
       "<text text-anchor=\"middle\" x=\"223.5182\" y=\"-227.8787\" font-family=\"Times,serif\" font-size=\"14.00\" fill=\"#000000\">v₅</text>\n",
       "</g>\n",
       "<!-- 4&#45;&gt;5 -->\n",
       "<g id=\"edge2\" class=\"edge\">\n",
       "<title>4&#45;&gt;5</title>\n",
       "<path fill=\"none\" stroke=\"#000000\" d=\"M143.5205,-219.2857C156.6248,-221.1327 172.6268,-223.3882 186.8659,-225.3951\"/>\n",
       "<polygon fill=\"#000000\" stroke=\"#000000\" points=\"186.4654,-228.8732 196.856,-226.8032 187.4424,-221.9417 186.4654,-228.8732\"/>\n",
       "<text text-anchor=\"middle\" x=\"158.7401\" y=\"-228.1756\" font-family=\"Times,serif\" font-size=\"14.00\" fill=\"#000000\">d₂</text>\n",
       "</g>\n",
       "<!-- 4&#45;&gt;6 -->\n",
       "<g id=\"edge8\" class=\"edge\">\n",
       "<title>4&#45;&gt;6</title>\n",
       "<path fill=\"none\" stroke=\"#000000\" d=\"M130.4366,-199.5595C142.1828,-185.7114 159.3415,-165.4824 172.6684,-149.771\"/>\n",
       "<polygon fill=\"#000000\" stroke=\"#000000\" points=\"175.4397,-151.9145 179.2392,-142.0244 170.1014,-147.3865 175.4397,-151.9145\"/>\n",
       "<text text-anchor=\"middle\" x=\"145.0994\" y=\"-180.5004\" font-family=\"Times,serif\" font-size=\"14.00\" fill=\"#000000\">d₈</text>\n",
       "</g>\n",
       "<!-- 5&#45;&gt;6 -->\n",
       "<g id=\"edge3\" class=\"edge\">\n",
       "<title>5&#45;&gt;6</title>\n",
       "<path fill=\"none\" stroke=\"#000000\" d=\"M218.2853,-212.856C213.499,-196.6623 206.343,-172.4508 200.8102,-153.7311\"/>\n",
       "<polygon fill=\"#000000\" stroke=\"#000000\" points=\"204.1197,-152.58 197.9288,-143.9821 197.4068,-154.5641 204.1197,-152.58\"/>\n",
       "<text text-anchor=\"middle\" x=\"203.0946\" y=\"-189.1287\" font-family=\"Times,serif\" font-size=\"14.00\" fill=\"#000000\">d₃</text>\n",
       "</g>\n",
       "<!-- 6&#45;&gt;3 -->\n",
       "<g id=\"edge4\" class=\"edge\">\n",
       "<title>6&#45;&gt;3</title>\n",
       "<path fill=\"none\" stroke=\"#000000\" d=\"M194.6889,-107.8372C196.5465,-90.9492 199.3293,-65.6489 201.469,-46.1966\"/>\n",
       "<polygon fill=\"#000000\" stroke=\"#000000\" points=\"204.9671,-46.4047 202.5815,-36.0819 198.009,-45.6393 204.9671,-46.4047\"/>\n",
       "<text text-anchor=\"middle\" x=\"191.6258\" y=\"-82.852\" font-family=\"Times,serif\" font-size=\"14.00\" fill=\"#000000\">d₄</text>\n",
       "</g>\n",
       "</g>\n",
       "</svg>\n"
      ],
      "text/plain": [
       "DiGraph(DiNode[DiNode(1,Dict{Symbol,Any}(Pair{Symbol,Any}(:label,v_1))),DiNode(2,Dict{Symbol,Any}(Pair{Symbol,Any}(:label,v_2))),DiNode(3,Dict{Symbol,Any}(Pair{Symbol,Any}(:label,v_3))),DiNode(4,Dict{Symbol,Any}(Pair{Symbol,Any}(:label,v_4))),DiNode(5,Dict{Symbol,Any}(Pair{Symbol,Any}(:label,v_5))),DiNode(6,Dict{Symbol,Any}(Pair{Symbol,Any}(:label,v_6)))],DiEdge[DiEdge(1=>4,Dict{Symbol,Any}(Pair{Symbol,Any}(:label,d_1),Pair{Symbol,Any}(:len,1.5))),DiEdge(4=>5,Dict{Symbol,Any}(Pair{Symbol,Any}(:label,d_2),Pair{Symbol,Any}(:len,1.5))),DiEdge(5=>6,Dict{Symbol,Any}(Pair{Symbol,Any}(:label,d_3),Pair{Symbol,Any}(:len,1.5))),DiEdge(6=>3,Dict{Symbol,Any}(Pair{Symbol,Any}(:label,d_4),Pair{Symbol,Any}(:len,1.5))),DiEdge(3=>2,Dict{Symbol,Any}(Pair{Symbol,Any}(:label,d_5),Pair{Symbol,Any}(:len,1.5))),DiEdge(2=>1,Dict{Symbol,Any}(Pair{Symbol,Any}(:label,d_6),Pair{Symbol,Any}(:len,1.5))),DiEdge(2=>6,Dict{Symbol,Any}(Pair{Symbol,Any}(:label,d_7),Pair{Symbol,Any}(:len,1.5))),DiEdge(4=>6,Dict{Symbol,Any}(Pair{Symbol,Any}(:label,d_8),Pair{Symbol,Any}(:len,1.5)))],Dict{Symbol,Any}())"
      ]
     },
     "execution_count": 32,
     "metadata": {},
     "output_type": "execute_result"
    }
   ],
   "source": [
    "d = [Sym(\"d_$j\") for j = 1:size(A,1)]\n",
    "labels(g, edges=d, nodes=v)"
   ]
  },
  {
   "cell_type": "markdown",
   "metadata": {},
   "source": [
    "If $N$ is a basis for the left nullspace, we must have $N^T d = 0$, or:"
   ]
  },
  {
   "cell_type": "code",
   "execution_count": 33,
   "metadata": {
    "collapsed": false
   },
   "outputs": [
    {
     "data": {
      "text/latex": [
       "\\begin{bmatrix}d_{1} + d_{2} + d_{3} + d_{4} + d_{5} + d_{6}\\\\d_{4} + d_{5} + d_{7}\\\\- d_{2} - d_{3} + d_{8}\\end{bmatrix}"
      ],
      "text/plain": [
       "3-element Array{SymPy.Sym,1}\n",
       "[d_1 + d_2 + d_3 + d_4 + d_5 + d_6]\n",
       "[                                 ]\n",
       "[         d_4 + d_5 + d_7         ]\n",
       "[                                 ]\n",
       "[        -d_2 - d_3 + d_8         ]"
      ]
     },
     "execution_count": 33,
     "metadata": {},
     "output_type": "execute_result"
    }
   ],
   "source": [
    "N' * d"
   ]
  },
  {
   "cell_type": "markdown",
   "metadata": {},
   "source": [
    "But what is this?  Remember, each element of the left nullspace corresponded to a **loop in the graph**.  Saying $N^T d = 0$, or $d \\perp N(A^T)$, is equivalent to saying that the **sum of the voltage drops around each loop = 0**.\n",
    "\n",
    "But this is precisely [Kirchhoff's voltage law](https://en.wikipedia.org/wiki/Kirchhoff's_circuit_laws) from circuit theory!"
   ]
  },
  {
   "cell_type": "markdown",
   "metadata": {},
   "source": [
    "### Kirchhoff's current law (KCL)\n",
    "\n",
    "To actually solve circuit problems, we need three additional ingredients:\n",
    "\n",
    "* The voltage difference $d$ must be divided by a resistance $R$ to get the *current* $i$ through that edge: $i = d/R = Yd$ (where $Y=1/R$ is the \"admittance\"), by [Ohm's law](https://en.wikipedia.org/wiki/Ohm's_law).\n",
    "\n",
    "* The sum of the currents $i$ entering each node must be zero, by Kirchhoff's current law (KCL).\n",
    "\n",
    "* To get a nontrivial solution, we need some kind of *source*: a battery or current source, to start currents flowing.\n",
    "\n",
    "How do we represent each one of these steps by linear-algebra operations?"
   ]
  },
  {
   "cell_type": "markdown",
   "metadata": {},
   "source": [
    "#### Ohm's law\n",
    "\n",
    "To represent Ohm's law, we need to multiply the voltage differences $d=Av$ by a *diagonal matrix* of admittances:"
   ]
  },
  {
   "cell_type": "code",
   "execution_count": 34,
   "metadata": {
    "collapsed": false
   },
   "outputs": [
    {
     "data": {
      "text/latex": [
       "\\begin{bmatrix}Y_{1}&0&0&0&0&0&0&0\\\\0&Y_{2}&0&0&0&0&0&0\\\\0&0&Y_{3}&0&0&0&0&0\\\\0&0&0&Y_{4}&0&0&0&0\\\\0&0&0&0&Y_{5}&0&0&0\\\\0&0&0&0&0&Y_{6}&0&0\\\\0&0&0&0&0&0&Y_{7}&0\\\\0&0&0&0&0&0&0&Y_{8}\\end{bmatrix}"
      ],
      "text/plain": [
       "8×8 Array{SymPy.Sym,2}\n",
       "[Y_1   0    0    0    0    0    0    0 ]\n",
       "[                                      ]\n",
       "[ 0   Y_2   0    0    0    0    0    0 ]\n",
       "[                                      ]\n",
       "[ 0    0   Y_3   0    0    0    0    0 ]\n",
       "[                                      ]\n",
       "[ 0    0    0   Y_4   0    0    0    0 ]\n",
       "[                                      ]\n",
       "[ 0    0    0    0   Y_5   0    0    0 ]\n",
       "[                                      ]\n",
       "[ 0    0    0    0    0   Y_6   0    0 ]\n",
       "[                                      ]\n",
       "[ 0    0    0    0    0    0   Y_7   0 ]\n",
       "[                                      ]\n",
       "[ 0    0    0    0    0    0    0   Y_8]"
      ]
     },
     "execution_count": 34,
     "metadata": {},
     "output_type": "execute_result"
    }
   ],
   "source": [
    "Y = diagm([Sym(\"Y_$i\") for i = 1:size(A,1)])"
   ]
  },
  {
   "cell_type": "code",
   "execution_count": 35,
   "metadata": {
    "collapsed": false
   },
   "outputs": [
    {
     "data": {
      "text/latex": [
       "\\begin{bmatrix}Y_{1} d_{1}\\\\Y_{2} d_{2}\\\\Y_{3} d_{3}\\\\Y_{4} d_{4}\\\\Y_{5} d_{5}\\\\Y_{6} d_{6}\\\\Y_{7} d_{7}\\\\Y_{8} d_{8}\\end{bmatrix}"
      ],
      "text/plain": [
       "8-element Array{SymPy.Sym,1}\n",
       "[Y_1*d_1]\n",
       "[       ]\n",
       "[Y_2*d_2]\n",
       "[       ]\n",
       "[Y_3*d_3]\n",
       "[       ]\n",
       "[Y_4*d_4]\n",
       "[       ]\n",
       "[Y_5*d_5]\n",
       "[       ]\n",
       "[Y_6*d_6]\n",
       "[       ]\n",
       "[Y_7*d_7]\n",
       "[       ]\n",
       "[Y_8*d_8]"
      ]
     },
     "execution_count": 35,
     "metadata": {},
     "output_type": "execute_result"
    }
   ],
   "source": [
    "Y*d"
   ]
  },
  {
   "cell_type": "code",
   "execution_count": 36,
   "metadata": {
    "collapsed": false
   },
   "outputs": [
    {
     "data": {
      "text/latex": [
       "\\begin{bmatrix}- Y_{1} v_{1} + Y_{1} v_{4}\\\\- Y_{2} v_{4} + Y_{2} v_{5}\\\\- Y_{3} v_{5} + Y_{3} v_{6}\\\\Y_{4} v_{3} - Y_{4} v_{6}\\\\Y_{5} v_{2} - Y_{5} v_{3}\\\\Y_{6} v_{1} - Y_{6} v_{2}\\\\- Y_{7} v_{2} + Y_{7} v_{6}\\\\- Y_{8} v_{4} + Y_{8} v_{6}\\end{bmatrix}"
      ],
      "text/plain": [
       "8-element Array{SymPy.Sym,1}\n",
       "[-Y_1*v_1 + Y_1*v_4]\n",
       "[                  ]\n",
       "[-Y_2*v_4 + Y_2*v_5]\n",
       "[                  ]\n",
       "[-Y_3*v_5 + Y_3*v_6]\n",
       "[                  ]\n",
       "[Y_4*v_3 - Y_4*v_6 ]\n",
       "[                  ]\n",
       "[Y_5*v_2 - Y_5*v_3 ]\n",
       "[                  ]\n",
       "[Y_6*v_1 - Y_6*v_2 ]\n",
       "[                  ]\n",
       "[-Y_7*v_2 + Y_7*v_6]\n",
       "[                  ]\n",
       "[-Y_8*v_4 + Y_8*v_6]"
      ]
     },
     "execution_count": 36,
     "metadata": {},
     "output_type": "execute_result"
    }
   ],
   "source": [
    "Y*A*v"
   ]
  },
  {
   "cell_type": "markdown",
   "metadata": {},
   "source": [
    "#### Net current into each node\n",
    "\n",
    "Given the currents $i$, a little thought shows that the net current flowing into each node is precisely $A^T i$:"
   ]
  },
  {
   "cell_type": "code",
   "execution_count": 37,
   "metadata": {
    "collapsed": false
   },
   "outputs": [
    {
     "data": {
      "text/latex": [
       "\\begin{bmatrix}- i_{1} + i_{6}\\\\i_{5} - i_{6} - i_{7}\\\\i_{4} - i_{5}\\\\i_{1} - i_{2} - i_{8}\\\\i_{2} - i_{3}\\\\i_{3} - i_{4} + i_{7} + i_{8}\\end{bmatrix}"
      ],
      "text/plain": [
       "6-element Array{SymPy.Sym,1}\n",
       "[     -i_1 + i_6      ]\n",
       "[                     ]\n",
       "[   i_5 - i_6 - i_7   ]\n",
       "[                     ]\n",
       "[      i_4 - i_5      ]\n",
       "[                     ]\n",
       "[   i_1 - i_2 - i_8   ]\n",
       "[                     ]\n",
       "[      i_2 - i_3      ]\n",
       "[                     ]\n",
       "[i_3 - i_4 + i_7 + i_8]"
      ]
     },
     "execution_count": 37,
     "metadata": {},
     "output_type": "execute_result"
    }
   ],
   "source": [
    "i = [Sym(\"i_$j\") for j=1:size(A,1)]\n",
    "A'*i"
   ]
  },
  {
   "cell_type": "code",
   "execution_count": 38,
   "metadata": {
    "collapsed": false
   },
   "outputs": [
    {
     "data": {
      "image/svg+xml": [
       "<?xml version=\"1.0\" encoding=\"UTF-8\" standalone=\"no\"?>\n",
       "<!DOCTYPE svg PUBLIC \"-//W3C//DTD SVG 1.1//EN\"\n",
       " \"http://www.w3.org/Graphics/SVG/1.1/DTD/svg11.dtd\">\n",
       "<!-- Generated by graphviz version 2.40.1 (20161225.0304)\n",
       " -->\n",
       "<!-- Title: MyDiGraph Pages: 1 -->\n",
       "<svg width=\"279pt\" height=\"257pt\"\n",
       " viewBox=\"0.00 0.00 279.28 256.56\" xmlns=\"http://www.w3.org/2000/svg\" xmlns:xlink=\"http://www.w3.org/1999/xlink\">\n",
       "<g id=\"graph0\" class=\"graph\" transform=\"scale(1 1) rotate(0) translate(4 252.5612)\">\n",
       "<title>MyDiGraph</title>\n",
       "<polygon fill=\"#ffffff\" stroke=\"transparent\" points=\"-4,4 -4,-252.5612 275.2822,-252.5612 275.2822,4 -4,4\"/>\n",
       "<!-- 1 -->\n",
       "<g id=\"node1\" class=\"node\">\n",
       "<title>1</title>\n",
       "<ellipse fill=\"none\" stroke=\"#000000\" cx=\"38.3727\" cy=\"-140.9451\" rx=\"38.2458\" ry=\"18\"/>\n",
       "<text text-anchor=\"middle\" x=\"38.3727\" y=\"-138.2626\" font-family=\"Times,serif\" font-size=\"14.00\" fill=\"#000000\">&#45;i₁ + i₆</text>\n",
       "</g>\n",
       "<!-- 4 -->\n",
       "<g id=\"node4\" class=\"node\">\n",
       "<title>4</title>\n",
       "<ellipse fill=\"none\" stroke=\"#000000\" cx=\"128.261\" cy=\"-215.532\" rx=\"47.6196\" ry=\"18\"/>\n",
       "<text text-anchor=\"middle\" x=\"128.261\" y=\"-212.8496\" font-family=\"Times,serif\" font-size=\"14.00\" fill=\"#000000\">i₁ &#45; i₂ &#45; i₈</text>\n",
       "</g>\n",
       "<!-- 1&#45;&gt;4 -->\n",
       "<g id=\"edge1\" class=\"edge\">\n",
       "<title>1&#45;&gt;4</title>\n",
       "<path fill=\"none\" stroke=\"#000000\" d=\"M57.4357,-156.763C69.9289,-167.1296 86.4694,-180.8544 100.4238,-192.4334\"/>\n",
       "<polygon fill=\"#000000\" stroke=\"#000000\" points=\"98.3603,-195.2692 108.2909,-198.9614 102.8302,-189.8822 98.3603,-195.2692\"/>\n",
       "<text text-anchor=\"middle\" x=\"74.0318\" y=\"-180.4334\" font-family=\"Times,serif\" font-size=\"14.00\" fill=\"#000000\">i₁</text>\n",
       "</g>\n",
       "<!-- 2 -->\n",
       "<g id=\"node2\" class=\"node\">\n",
       "<title>2</title>\n",
       "<ellipse fill=\"none\" stroke=\"#000000\" cx=\"113.6641\" cy=\"-51.6524\" rx=\"47.6196\" ry=\"18\"/>\n",
       "<text text-anchor=\"middle\" x=\"113.6641\" y=\"-48.97\" font-family=\"Times,serif\" font-size=\"14.00\" fill=\"#000000\">i₅ &#45; i₆ &#45; i₇</text>\n",
       "</g>\n",
       "<!-- 2&#45;&gt;1 -->\n",
       "<g id=\"edge6\" class=\"edge\">\n",
       "<title>2&#45;&gt;1</title>\n",
       "<path fill=\"none\" stroke=\"#000000\" d=\"M99.1471,-68.869C87.8258,-82.2956 71.948,-101.126 59.2608,-116.1726\"/>\n",
       "<polygon fill=\"#000000\" stroke=\"#000000\" points=\"56.3602,-114.183 52.5897,-124.0842 61.7117,-118.6954 56.3602,-114.183\"/>\n",
       "<text text-anchor=\"middle\" x=\"74.306\" y=\"-98.3559\" font-family=\"Times,serif\" font-size=\"14.00\" fill=\"#000000\">i₆</text>\n",
       "</g>\n",
       "<!-- 6 -->\n",
       "<g id=\"node6\" class=\"node\">\n",
       "<title>6</title>\n",
       "<ellipse fill=\"none\" stroke=\"#000000\" cx=\"204.0429\" cy=\"-126.1901\" rx=\"67.4795\" ry=\"18\"/>\n",
       "<text text-anchor=\"middle\" x=\"204.0429\" y=\"-123.5077\" font-family=\"Times,serif\" font-size=\"14.00\" fill=\"#000000\">i₃ &#45; i₄ + i₇ + i₈</text>\n",
       "</g>\n",
       "<!-- 2&#45;&gt;6 -->\n",
       "<g id=\"edge7\" class=\"edge\">\n",
       "<title>2&#45;&gt;6</title>\n",
       "<path fill=\"none\" stroke=\"#000000\" d=\"M133.722,-68.1948C145.8667,-78.2108 161.5623,-91.1553 175.0429,-102.2732\"/>\n",
       "<polygon fill=\"#000000\" stroke=\"#000000\" points=\"173.157,-105.2546 183.0988,-108.917 177.6109,-99.8542 173.157,-105.2546\"/>\n",
       "<text text-anchor=\"middle\" x=\"149.4845\" y=\"-91.0691\" font-family=\"Times,serif\" font-size=\"14.00\" fill=\"#000000\">i₇</text>\n",
       "</g>\n",
       "<!-- 3 -->\n",
       "<g id=\"node3\" class=\"node\">\n",
       "<title>3</title>\n",
       "<ellipse fill=\"none\" stroke=\"#000000\" cx=\"215.9431\" cy=\"-18\" rx=\"32.7585\" ry=\"18\"/>\n",
       "<text text-anchor=\"middle\" x=\"215.9431\" y=\"-15.3176\" font-family=\"Times,serif\" font-size=\"14.00\" fill=\"#000000\">i₄ &#45; i₅</text>\n",
       "</g>\n",
       "<!-- 3&#45;&gt;2 -->\n",
       "<g id=\"edge5\" class=\"edge\">\n",
       "<title>3&#45;&gt;2</title>\n",
       "<path fill=\"none\" stroke=\"#000000\" d=\"M187.7241,-27.2848C178.9435,-30.1738 169.0262,-33.4369 159.3702,-36.6139\"/>\n",
       "<polygon fill=\"#000000\" stroke=\"#000000\" points=\"158.2582,-33.2951 149.8531,-39.7453 160.4461,-39.9445 158.2582,-33.2951\"/>\n",
       "<text text-anchor=\"middle\" x=\"168.6492\" y=\"-37.7845\" font-family=\"Times,serif\" font-size=\"14.00\" fill=\"#000000\">i₅</text>\n",
       "</g>\n",
       "<!-- 5 -->\n",
       "<g id=\"node5\" class=\"node\">\n",
       "<title>5</title>\n",
       "<ellipse fill=\"none\" stroke=\"#000000\" cx=\"234.8909\" cy=\"-230.5612\" rx=\"32.7585\" ry=\"18\"/>\n",
       "<text text-anchor=\"middle\" x=\"234.8909\" y=\"-227.8787\" font-family=\"Times,serif\" font-size=\"14.00\" fill=\"#000000\">i₂ &#45; i₃</text>\n",
       "</g>\n",
       "<!-- 4&#45;&gt;5 -->\n",
       "<g id=\"edge2\" class=\"edge\">\n",
       "<title>4&#45;&gt;5</title>\n",
       "<path fill=\"none\" stroke=\"#000000\" d=\"M173.1726,-221.8621C179.7465,-222.7887 186.4952,-223.7399 193.0053,-224.6575\"/>\n",
       "<polygon fill=\"#000000\" stroke=\"#000000\" points=\"192.589,-228.1333 202.9797,-226.0634 193.5661,-221.2019 192.589,-228.1333\"/>\n",
       "<text text-anchor=\"middle\" x=\"187.9869\" y=\"-229.095\" font-family=\"Times,serif\" font-size=\"14.00\" fill=\"#000000\">i₂</text>\n",
       "</g>\n",
       "<!-- 4&#45;&gt;6 -->\n",
       "<g id=\"edge8\" class=\"edge\">\n",
       "<title>4&#45;&gt;6</title>\n",
       "<path fill=\"none\" stroke=\"#000000\" d=\"M142.8725,-198.306C154.0498,-185.1286 169.6397,-166.7492 182.2832,-151.8434\"/>\n",
       "<polygon fill=\"#000000\" stroke=\"#000000\" points=\"185.158,-153.8649 188.9575,-143.9748 179.8197,-149.3368 185.158,-153.8649\"/>\n",
       "<text text-anchor=\"middle\" x=\"157.6799\" y=\"-180.9098\" font-family=\"Times,serif\" font-size=\"14.00\" fill=\"#000000\">i₈</text>\n",
       "</g>\n",
       "<!-- 5&#45;&gt;6 -->\n",
       "<g id=\"edge3\" class=\"edge\">\n",
       "<title>5&#45;&gt;6</title>\n",
       "<path fill=\"none\" stroke=\"#000000\" d=\"M229.5176,-212.3811C224.7403,-196.2177 217.6846,-172.3454 212.2093,-153.8205\"/>\n",
       "<polygon fill=\"#000000\" stroke=\"#000000\" points=\"215.5455,-152.7597 209.3546,-144.1619 208.8326,-154.7438 215.5455,-152.7597\"/>\n",
       "<text text-anchor=\"middle\" x=\"215.9655\" y=\"-188.9359\" font-family=\"Times,serif\" font-size=\"14.00\" fill=\"#000000\">i₃</text>\n",
       "</g>\n",
       "<!-- 6&#45;&gt;3 -->\n",
       "<g id=\"edge4\" class=\"edge\">\n",
       "<title>6&#45;&gt;3</title>\n",
       "<path fill=\"none\" stroke=\"#000000\" d=\"M206.0616,-107.8372C207.9191,-90.9492 210.702,-65.6489 212.8416,-46.1966\"/>\n",
       "<polygon fill=\"#000000\" stroke=\"#000000\" points=\"216.3398,-46.4047 213.9542,-36.0819 209.3817,-45.6393 216.3398,-46.4047\"/>\n",
       "<text text-anchor=\"middle\" x=\"204.5536\" y=\"-82.852\" font-family=\"Times,serif\" font-size=\"14.00\" fill=\"#000000\">i₄</text>\n",
       "</g>\n",
       "</g>\n",
       "</svg>\n"
      ],
      "text/plain": [
       "DiGraph(DiNode[DiNode(1,Dict{Symbol,Any}(Pair{Symbol,Any}(:label,-i_1 + i_6))),DiNode(2,Dict{Symbol,Any}(Pair{Symbol,Any}(:label,i_5 - i_6 - i_7))),DiNode(3,Dict{Symbol,Any}(Pair{Symbol,Any}(:label,i_4 - i_5))),DiNode(4,Dict{Symbol,Any}(Pair{Symbol,Any}(:label,i_1 - i_2 - i_8))),DiNode(5,Dict{Symbol,Any}(Pair{Symbol,Any}(:label,i_2 - i_3))),DiNode(6,Dict{Symbol,Any}(Pair{Symbol,Any}(:label,i_3 - i_4 + i_7 + i_8)))],DiEdge[DiEdge(1=>4,Dict{Symbol,Any}(Pair{Symbol,Any}(:label,i_1),Pair{Symbol,Any}(:len,1.5))),DiEdge(4=>5,Dict{Symbol,Any}(Pair{Symbol,Any}(:label,i_2),Pair{Symbol,Any}(:len,1.5))),DiEdge(5=>6,Dict{Symbol,Any}(Pair{Symbol,Any}(:label,i_3),Pair{Symbol,Any}(:len,1.5))),DiEdge(6=>3,Dict{Symbol,Any}(Pair{Symbol,Any}(:label,i_4),Pair{Symbol,Any}(:len,1.5))),DiEdge(3=>2,Dict{Symbol,Any}(Pair{Symbol,Any}(:label,i_5),Pair{Symbol,Any}(:len,1.5))),DiEdge(2=>1,Dict{Symbol,Any}(Pair{Symbol,Any}(:label,i_6),Pair{Symbol,Any}(:len,1.5))),DiEdge(2=>6,Dict{Symbol,Any}(Pair{Symbol,Any}(:label,i_7),Pair{Symbol,Any}(:len,1.5))),DiEdge(4=>6,Dict{Symbol,Any}(Pair{Symbol,Any}(:label,i_8),Pair{Symbol,Any}(:len,1.5)))],Dict{Symbol,Any}())"
      ]
     },
     "execution_count": 38,
     "metadata": {},
     "output_type": "execute_result"
    }
   ],
   "source": [
    "labels(g, edges=i, nodes=A'*i)"
   ]
  },
  {
   "cell_type": "markdown",
   "metadata": {},
   "source": [
    "Why is this?  The reason is that each row $A^T$ corresponds to a node, and has $\\pm 1$ for each edge going into or out of the node, exactly the right sign to sum the net currents flowing in:"
   ]
  },
  {
   "cell_type": "code",
   "execution_count": 39,
   "metadata": {
    "collapsed": false
   },
   "outputs": [
    {
     "data": {
      "text/plain": [
       "6×8 Array{Int64,2}:\n",
       " -1   0   0   0   0   1   0   0\n",
       "  0   0   0   0   1  -1  -1   0\n",
       "  0   0   0   1  -1   0   0   0\n",
       "  1  -1   0   0   0   0   0  -1\n",
       "  0   1  -1   0   0   0   0   0\n",
       "  0   0   1  -1   0   0   1   1"
      ]
     },
     "execution_count": 39,
     "metadata": {},
     "output_type": "execute_result"
    }
   ],
   "source": [
    "A'"
   ]
  },
  {
   "cell_type": "markdown",
   "metadata": {},
   "source": [
    "Putting it together, given voltages $v$, the net current flowing into each node is\n",
    "\n",
    "$$\n",
    "A^T Y A v\n",
    "$$\n",
    "\n",
    "The matrix $A^T Y A$ is a very special and important kind of matrix.  It is obviously **symmetric**, and later on in the course we will see that any matrix of this form is necessarily **positive semidefinite** (all pivots are ≥ 0).   Many important matrices in science, engineering, statistics, and other fields take on this special form.\n",
    "\n",
    "If we multiply $A^T Y A$ together, not all of its specialness is apparent.  It is often better to leave it in \"factored\" form:"
   ]
  },
  {
   "cell_type": "code",
   "execution_count": 40,
   "metadata": {
    "collapsed": false
   },
   "outputs": [
    {
     "data": {
      "text/latex": [
       "\\begin{bmatrix}Y_{1} + Y_{6}&- Y_{6}&0&- Y_{1}&0&0\\\\- Y_{6}&Y_{5} + Y_{6} + Y_{7}&- Y_{5}&0&0&- Y_{7}\\\\0&- Y_{5}&Y_{4} + Y_{5}&0&0&- Y_{4}\\\\- Y_{1}&0&0&Y_{1} + Y_{2} + Y_{8}&- Y_{2}&- Y_{8}\\\\0&0&0&- Y_{2}&Y_{2} + Y_{3}&- Y_{3}\\\\0&- Y_{7}&- Y_{4}&- Y_{8}&- Y_{3}&Y_{3} + Y_{4} + Y_{7} + Y_{8}\\end{bmatrix}"
      ],
      "text/plain": [
       "6×6 Array{SymPy.Sym,2}\n",
       "[Y_1 + Y_6       -Y_6            0           -Y_1            0                \n",
       "[                                                                             \n",
       "[  -Y_6     Y_5 + Y_6 + Y_7    -Y_5            0             0              -Y\n",
       "[                                                                             \n",
       "[    0           -Y_5        Y_4 + Y_5         0             0              -Y\n",
       "[                                                                             \n",
       "[  -Y_1            0             0      Y_1 + Y_2 + Y_8    -Y_2             -Y\n",
       "[                                                                             \n",
       "[    0             0             0           -Y_2        Y_2 + Y_3          -Y\n",
       "[                                                                             \n",
       "[    0           -Y_7          -Y_4          -Y_8          -Y_3     Y_3 + Y_4 \n",
       "\n",
       "0          ]\n",
       "           ]\n",
       "_7         ]\n",
       "           ]\n",
       "_4         ]\n",
       "           ]\n",
       "_8         ]\n",
       "           ]\n",
       "_3         ]\n",
       "           ]\n",
       "+ Y_7 + Y_8]"
      ]
     },
     "execution_count": 40,
     "metadata": {},
     "output_type": "execute_result"
    }
   ],
   "source": [
    "A' * Y * A"
   ]
  },
  {
   "cell_type": "markdown",
   "metadata": {
    "collapsed": false
   },
   "source": [
    "#### Null space\n",
    "\n",
    "If we just say that the net current flowing into each node is zero, we get the equation:\n",
    "$$\n",
    "A^T Y A v = 0\n",
    "$$\n",
    "or $v \\in N(A^T Y A) = N(A)$.\n",
    "\n",
    "It is an amazing and important fact that $N(A^T Y A) = N(A)$!!  (You saw a version of this in homework.)   Why is this?  Clearly, if $Ax = 0$ then $A^T Y Ax=0$.  But what about the converse?  Here is a trick: if $A^T Y Ax =0$, then $x^T A^T Y A x=0 = (Ax)^T Y (Ax)$.  Let $y=Ax$.  It is easy to see that $y^T Y y = \\sum_i Y_i y_i^2 = 0$ only if $y=0$, since all of the admittances $Y_i$ are positive.  (We will later say that $Y$ is a \"positive-definite matrix\".)  This means that $A^T Y Ax =0$ implies that $y=Ax=0$, which implies that $x \\in N(A)$.\n",
    "\n",
    "What is $N(A)$? The rank of $A$ is 5, so $N(A)$ must be **1-dimensional**.  A basis for it is:"
   ]
  },
  {
   "cell_type": "code",
   "execution_count": 41,
   "metadata": {
    "collapsed": false
   },
   "outputs": [
    {
     "data": {
      "text/plain": [
       "6×1 Array{Float64,2}:\n",
       " 0.408248\n",
       " 0.408248\n",
       " 0.408248\n",
       " 0.408248\n",
       " 0.408248\n",
       " 0.408248"
      ]
     },
     "execution_count": 41,
     "metadata": {},
     "output_type": "execute_result"
    }
   ],
   "source": [
    "nullspace(A)"
   ]
  },
  {
   "cell_type": "markdown",
   "metadata": {
    "collapsed": true
   },
   "source": [
    "But this is, of course, just the space of vectors where **all voltages are equal**.   In hindsight, this should be obvious: if all the voltages are equal, then their difference are zero, and the currents are zero, and KCL is satisfied."
   ]
  },
  {
   "cell_type": "markdown",
   "metadata": {},
   "source": [
    "### Current sources\n",
    "\n",
    "Of course, it is much more interesting to think about circuits when the currents are nonzero!\n",
    "\n",
    "To do this, we must consider a **source term** in the equations, and in particular we could try to solve\n",
    "\n",
    "$$\n",
    "A^T Y A v = s\n",
    "$$\n",
    "\n",
    "for some $s\\ne 0$.  What does $s$ represent?  It is precisely an **external source of current** flowing **into each node**.\n",
    "\n",
    "For this to have a solution, however, we must have $s \\in C(A^T Y A) = N(A^T Y A)^T = N(A)^T$ (since $A^T Y A$ is symmetric, the left and right nullspaces are equal).  We know a basis for $N(A)$ from above, so this boils down to:\n",
    "\n",
    "$$\n",
    "\\begin{pmatrix} 1 & 1 & 1 & 1 & 1 & 1 \\end{pmatrix} s = 0 = \\sum_{i=1}^6 s_i\n",
    "$$\n",
    "\n",
    "That is, to have a solution, **all current that flows in must flow out**, so that the net current flowing into the circuit is zero.  This makes a lot of physical sense!"
   ]
  },
  {
   "cell_type": "markdown",
   "metadata": {},
   "source": [
    "Just for fun, let's solve this circuit problem when the current is flowing **into node 1** and **out through node 2**, with slider controls for the 8 admittances:"
   ]
  },
  {
   "cell_type": "code",
   "execution_count": 42,
   "metadata": {
    "collapsed": false
   },
   "outputs": [
    {
     "data": {
      "text/plain": [
       "twodigits (generic function with 1 method)"
      ]
     },
     "execution_count": 42,
     "metadata": {},
     "output_type": "execute_result"
    }
   ],
   "source": [
    "twodigits(x) = round(x, 2)"
   ]
  },
  {
   "cell_type": "code",
   "execution_count": 43,
   "metadata": {
    "collapsed": false
   },
   "outputs": [
    {
     "data": {
      "text/html": [],
      "text/plain": [
       "Interact.Options{:SelectionSlider,Float64}(Signal{Float64}(5.0, nactions=1),\"Y₁\",5.0,\"5.0\",Interact.OptionDict(DataStructures.OrderedDict(\"0.1\"=>0.1,\"0.2\"=>0.2,\"0.3\"=>0.3,\"0.4\"=>0.4,\"0.5\"=>0.5,\"0.6\"=>0.6,\"0.7\"=>0.7,\"0.8\"=>0.8,\"0.9\"=>0.9,\"1.0\"=>1.0…),Dict(1.2=>\"1.2\",4.3=>\"4.3\",9.6=>\"9.6\",2.0=>\"2.0\",1.5=>\"1.5\",7.1=>\"7.1\",1.4=>\"1.4\",7.4=>\"7.4\",6.2=>\"6.2\",0.2=>\"0.2\"…)),Any[],Any[],true,\"horizontal\")"
      ]
     },
     "metadata": {},
     "output_type": "display_data"
    },
    {
     "data": {
      "text/html": [],
      "text/plain": [
       "Interact.Options{:SelectionSlider,Float64}(Signal{Float64}(5.0, nactions=1),\"Y₂\",5.0,\"5.0\",Interact.OptionDict(DataStructures.OrderedDict(\"0.1\"=>0.1,\"0.2\"=>0.2,\"0.3\"=>0.3,\"0.4\"=>0.4,\"0.5\"=>0.5,\"0.6\"=>0.6,\"0.7\"=>0.7,\"0.8\"=>0.8,\"0.9\"=>0.9,\"1.0\"=>1.0…),Dict(1.2=>\"1.2\",4.3=>\"4.3\",9.6=>\"9.6\",2.0=>\"2.0\",1.5=>\"1.5\",7.1=>\"7.1\",1.4=>\"1.4\",7.4=>\"7.4\",6.2=>\"6.2\",0.2=>\"0.2\"…)),Any[],Any[],true,\"horizontal\")"
      ]
     },
     "metadata": {},
     "output_type": "display_data"
    },
    {
     "data": {
      "text/html": [],
      "text/plain": [
       "Interact.Options{:SelectionSlider,Float64}(Signal{Float64}(5.0, nactions=1),\"Y₃\",5.0,\"5.0\",Interact.OptionDict(DataStructures.OrderedDict(\"0.1\"=>0.1,\"0.2\"=>0.2,\"0.3\"=>0.3,\"0.4\"=>0.4,\"0.5\"=>0.5,\"0.6\"=>0.6,\"0.7\"=>0.7,\"0.8\"=>0.8,\"0.9\"=>0.9,\"1.0\"=>1.0…),Dict(1.2=>\"1.2\",4.3=>\"4.3\",9.6=>\"9.6\",2.0=>\"2.0\",1.5=>\"1.5\",7.1=>\"7.1\",1.4=>\"1.4\",7.4=>\"7.4\",6.2=>\"6.2\",0.2=>\"0.2\"…)),Any[],Any[],true,\"horizontal\")"
      ]
     },
     "metadata": {},
     "output_type": "display_data"
    },
    {
     "data": {
      "text/html": [],
      "text/plain": [
       "Interact.Options{:SelectionSlider,Float64}(Signal{Float64}(5.0, nactions=1),\"Y₄\",5.0,\"5.0\",Interact.OptionDict(DataStructures.OrderedDict(\"0.1\"=>0.1,\"0.2\"=>0.2,\"0.3\"=>0.3,\"0.4\"=>0.4,\"0.5\"=>0.5,\"0.6\"=>0.6,\"0.7\"=>0.7,\"0.8\"=>0.8,\"0.9\"=>0.9,\"1.0\"=>1.0…),Dict(1.2=>\"1.2\",4.3=>\"4.3\",9.6=>\"9.6\",2.0=>\"2.0\",1.5=>\"1.5\",7.1=>\"7.1\",1.4=>\"1.4\",7.4=>\"7.4\",6.2=>\"6.2\",0.2=>\"0.2\"…)),Any[],Any[],true,\"horizontal\")"
      ]
     },
     "metadata": {},
     "output_type": "display_data"
    },
    {
     "data": {
      "text/html": [],
      "text/plain": [
       "Interact.Options{:SelectionSlider,Float64}(Signal{Float64}(5.0, nactions=1),\"Y₅\",5.0,\"5.0\",Interact.OptionDict(DataStructures.OrderedDict(\"0.1\"=>0.1,\"0.2\"=>0.2,\"0.3\"=>0.3,\"0.4\"=>0.4,\"0.5\"=>0.5,\"0.6\"=>0.6,\"0.7\"=>0.7,\"0.8\"=>0.8,\"0.9\"=>0.9,\"1.0\"=>1.0…),Dict(1.2=>\"1.2\",4.3=>\"4.3\",9.6=>\"9.6\",2.0=>\"2.0\",1.5=>\"1.5\",7.1=>\"7.1\",1.4=>\"1.4\",7.4=>\"7.4\",6.2=>\"6.2\",0.2=>\"0.2\"…)),Any[],Any[],true,\"horizontal\")"
      ]
     },
     "metadata": {},
     "output_type": "display_data"
    },
    {
     "data": {
      "text/html": [],
      "text/plain": [
       "Interact.Options{:SelectionSlider,Float64}(Signal{Float64}(5.0, nactions=1),\"Y₆\",5.0,\"5.0\",Interact.OptionDict(DataStructures.OrderedDict(\"0.1\"=>0.1,\"0.2\"=>0.2,\"0.3\"=>0.3,\"0.4\"=>0.4,\"0.5\"=>0.5,\"0.6\"=>0.6,\"0.7\"=>0.7,\"0.8\"=>0.8,\"0.9\"=>0.9,\"1.0\"=>1.0…),Dict(1.2=>\"1.2\",4.3=>\"4.3\",9.6=>\"9.6\",2.0=>\"2.0\",1.5=>\"1.5\",7.1=>\"7.1\",1.4=>\"1.4\",7.4=>\"7.4\",6.2=>\"6.2\",0.2=>\"0.2\"…)),Any[],Any[],true,\"horizontal\")"
      ]
     },
     "metadata": {},
     "output_type": "display_data"
    },
    {
     "data": {
      "text/html": [],
      "text/plain": [
       "Interact.Options{:SelectionSlider,Float64}(Signal{Float64}(5.0, nactions=1),\"Y₇\",5.0,\"5.0\",Interact.OptionDict(DataStructures.OrderedDict(\"0.1\"=>0.1,\"0.2\"=>0.2,\"0.3\"=>0.3,\"0.4\"=>0.4,\"0.5\"=>0.5,\"0.6\"=>0.6,\"0.7\"=>0.7,\"0.8\"=>0.8,\"0.9\"=>0.9,\"1.0\"=>1.0…),Dict(1.2=>\"1.2\",4.3=>\"4.3\",9.6=>\"9.6\",2.0=>\"2.0\",1.5=>\"1.5\",7.1=>\"7.1\",1.4=>\"1.4\",7.4=>\"7.4\",6.2=>\"6.2\",0.2=>\"0.2\"…)),Any[],Any[],true,\"horizontal\")"
      ]
     },
     "metadata": {},
     "output_type": "display_data"
    },
    {
     "data": {
      "text/html": [],
      "text/plain": [
       "Interact.Options{:SelectionSlider,Float64}(Signal{Float64}(5.0, nactions=1),\"Y₈\",5.0,\"5.0\",Interact.OptionDict(DataStructures.OrderedDict(\"0.1\"=>0.1,\"0.2\"=>0.2,\"0.3\"=>0.3,\"0.4\"=>0.4,\"0.5\"=>0.5,\"0.6\"=>0.6,\"0.7\"=>0.7,\"0.8\"=>0.8,\"0.9\"=>0.9,\"1.0\"=>1.0…),Dict(1.2=>\"1.2\",4.3=>\"4.3\",9.6=>\"9.6\",2.0=>\"2.0\",1.5=>\"1.5\",7.1=>\"7.1\",1.4=>\"1.4\",7.4=>\"7.4\",6.2=>\"6.2\",0.2=>\"0.2\"…)),Any[],Any[],true,\"horizontal\")"
      ]
     },
     "metadata": {},
     "output_type": "display_data"
    },
    {
     "data": {
      "image/svg+xml": [
       "<?xml version=\"1.0\" encoding=\"UTF-8\" standalone=\"no\"?>\n",
       "<!DOCTYPE svg PUBLIC \"-//W3C//DTD SVG 1.1//EN\"\n",
       " \"http://www.w3.org/Graphics/SVG/1.1/DTD/svg11.dtd\">\n",
       "<!-- Generated by graphviz version 2.40.1 (20161225.0304)\n",
       " -->\n",
       "<!-- Title: MyDiGraph Pages: 1 -->\n",
       "<svg width=\"259pt\" height=\"257pt\"\n",
       " viewBox=\"0.00 0.00 258.52 256.56\" xmlns=\"http://www.w3.org/2000/svg\" xmlns:xlink=\"http://www.w3.org/1999/xlink\">\n",
       "<g id=\"graph0\" class=\"graph\" transform=\"scale(1 1) rotate(0) translate(4 252.5612)\">\n",
       "<title>MyDiGraph</title>\n",
       "<polygon fill=\"#ffffff\" stroke=\"transparent\" points=\"-4,4 -4,-252.5612 254.5182,-252.5612 254.5182,4 -4,4\"/>\n",
       "<!-- 1 -->\n",
       "<g id=\"node1\" class=\"node\">\n",
       "<title>1</title>\n",
       "<ellipse fill=\"none\" stroke=\"#ff0000\" cx=\"27\" cy=\"-140.9451\" rx=\"27\" ry=\"18\"/>\n",
       "<text text-anchor=\"middle\" x=\"27\" y=\"-136.7451\" font-family=\"Times,serif\" font-size=\"14.00\" fill=\"#ff0000\">0.08</text>\n",
       "</g>\n",
       "<!-- 4 -->\n",
       "<g id=\"node4\" class=\"node\">\n",
       "<title>4</title>\n",
       "<ellipse fill=\"none\" stroke=\"#000000\" cx=\"116.8883\" cy=\"-215.532\" rx=\"27\" ry=\"18\"/>\n",
       "<text text-anchor=\"middle\" x=\"116.8883\" y=\"-211.332\" font-family=\"Times,serif\" font-size=\"14.00\" fill=\"#000000\">0.02</text>\n",
       "</g>\n",
       "<!-- 1&#45;&gt;4 -->\n",
       "<g id=\"edge1\" class=\"edge\">\n",
       "<title>1&#45;&gt;4</title>\n",
       "<path fill=\"none\" stroke=\"#000000\" d=\"M44.3314,-155.3262C57.8476,-166.5416 76.8036,-182.2708 91.9506,-194.8393\"/>\n",
       "<polygon fill=\"#000000\" stroke=\"#000000\" points=\"89.9843,-197.7558 99.915,-201.448 94.4543,-192.3688 89.9843,-197.7558\"/>\n",
       "<text text-anchor=\"middle\" x=\"60.1327\" y=\"-180.9179\" font-family=\"Times,serif\" font-size=\"14.00\" fill=\"#000000\">Y₁</text>\n",
       "</g>\n",
       "<!-- 2 -->\n",
       "<g id=\"node2\" class=\"node\">\n",
       "<title>2</title>\n",
       "<ellipse fill=\"none\" stroke=\"#ff0000\" cx=\"102.2914\" cy=\"-51.6524\" rx=\"28.5557\" ry=\"18\"/>\n",
       "<text text-anchor=\"middle\" x=\"102.2914\" y=\"-47.4524\" font-family=\"Times,serif\" font-size=\"14.00\" fill=\"#ff0000\">&#45;0.06</text>\n",
       "</g>\n",
       "<!-- 2&#45;&gt;1 -->\n",
       "<g id=\"edge6\" class=\"edge\">\n",
       "<title>2&#45;&gt;1</title>\n",
       "<path fill=\"none\" stroke=\"#000000\" d=\"M88.8308,-67.6162C77.1606,-81.4566 60.1129,-101.6744 46.8723,-117.3772\"/>\n",
       "<polygon fill=\"#000000\" stroke=\"#000000\" points=\"44.1146,-115.2183 40.3441,-125.1195 49.4661,-119.7307 44.1146,-115.2183\"/>\n",
       "<text text-anchor=\"middle\" x=\"59.8433\" y=\"-98.3319\" font-family=\"Times,serif\" font-size=\"14.00\" fill=\"#000000\">Y₆</text>\n",
       "</g>\n",
       "<!-- 6 -->\n",
       "<g id=\"node6\" class=\"node\">\n",
       "<title>6</title>\n",
       "<ellipse fill=\"none\" stroke=\"#000000\" cx=\"192.6702\" cy=\"-126.1901\" rx=\"28.5557\" ry=\"18\"/>\n",
       "<text text-anchor=\"middle\" x=\"192.6702\" y=\"-121.9901\" font-family=\"Times,serif\" font-size=\"14.00\" fill=\"#000000\">&#45;0.02</text>\n",
       "</g>\n",
       "<!-- 2&#45;&gt;6 -->\n",
       "<g id=\"edge7\" class=\"edge\">\n",
       "<title>2&#45;&gt;6</title>\n",
       "<path fill=\"none\" stroke=\"#000000\" d=\"M119.7173,-66.0241C133.2207,-77.1607 152.1242,-92.7508 167.3049,-105.2708\"/>\n",
       "<polygon fill=\"#000000\" stroke=\"#000000\" points=\"165.356,-108.2002 175.2977,-111.8626 169.8098,-102.7999 165.356,-108.2002\"/>\n",
       "<text text-anchor=\"middle\" x=\"135.5028\" y=\"-91.4826\" font-family=\"Times,serif\" font-size=\"14.00\" fill=\"#000000\">Y₇</text>\n",
       "</g>\n",
       "<!-- 3 -->\n",
       "<g id=\"node3\" class=\"node\">\n",
       "<title>3</title>\n",
       "<ellipse fill=\"none\" stroke=\"#000000\" cx=\"204.5704\" cy=\"-18\" rx=\"28.5557\" ry=\"18\"/>\n",
       "<text text-anchor=\"middle\" x=\"204.5704\" y=\"-13.8\" font-family=\"Times,serif\" font-size=\"14.00\" fill=\"#000000\">&#45;0.04</text>\n",
       "</g>\n",
       "<!-- 3&#45;&gt;2 -->\n",
       "<g id=\"edge5\" class=\"edge\">\n",
       "<title>3&#45;&gt;2</title>\n",
       "<path fill=\"none\" stroke=\"#000000\" d=\"M179.0249,-26.4051C166.4553,-30.5409 151.1062,-35.5911 137.4481,-40.085\"/>\n",
       "<polygon fill=\"#000000\" stroke=\"#000000\" points=\"136.2708,-36.7877 127.8657,-43.2378 138.4586,-43.437 136.2708,-36.7877\"/>\n",
       "<text text-anchor=\"middle\" x=\"150.2282\" y=\"-39.0802\" font-family=\"Times,serif\" font-size=\"14.00\" fill=\"#000000\">Y₅</text>\n",
       "</g>\n",
       "<!-- 5 -->\n",
       "<g id=\"node5\" class=\"node\">\n",
       "<title>5</title>\n",
       "<ellipse fill=\"none\" stroke=\"#000000\" cx=\"223.5182\" cy=\"-230.5612\" rx=\"27\" ry=\"18\"/>\n",
       "<text text-anchor=\"middle\" x=\"223.5182\" y=\"-226.3612\" font-family=\"Times,serif\" font-size=\"14.00\" fill=\"#000000\">0.0</text>\n",
       "</g>\n",
       "<!-- 4&#45;&gt;5 -->\n",
       "<g id=\"edge2\" class=\"edge\">\n",
       "<title>4&#45;&gt;5</title>\n",
       "<path fill=\"none\" stroke=\"#000000\" d=\"M143.5205,-219.2857C156.6248,-221.1327 172.6268,-223.3882 186.8659,-225.3951\"/>\n",
       "<polygon fill=\"#000000\" stroke=\"#000000\" points=\"186.4654,-228.8732 196.856,-226.8032 187.4424,-221.9417 186.4654,-228.8732\"/>\n",
       "<text text-anchor=\"middle\" x=\"157.1849\" y=\"-228.1756\" font-family=\"Times,serif\" font-size=\"14.00\" fill=\"#000000\">Y₂</text>\n",
       "</g>\n",
       "<!-- 4&#45;&gt;6 -->\n",
       "<g id=\"edge8\" class=\"edge\">\n",
       "<title>4&#45;&gt;6</title>\n",
       "<path fill=\"none\" stroke=\"#000000\" d=\"M130.4366,-199.5595C142.1103,-185.7969 159.1299,-165.7319 172.4211,-150.0624\"/>\n",
       "<polygon fill=\"#000000\" stroke=\"#000000\" points=\"175.1842,-152.2157 178.9837,-142.3256 169.8459,-147.6877 175.1842,-152.2157\"/>\n",
       "<text text-anchor=\"middle\" x=\"143.4206\" y=\"-180.6461\" font-family=\"Times,serif\" font-size=\"14.00\" fill=\"#000000\">Y₈</text>\n",
       "</g>\n",
       "<!-- 5&#45;&gt;6 -->\n",
       "<g id=\"edge3\" class=\"edge\">\n",
       "<title>5&#45;&gt;6</title>\n",
       "<path fill=\"none\" stroke=\"#000000\" d=\"M218.2853,-212.856C213.499,-196.6623 206.343,-172.4508 200.8102,-153.7311\"/>\n",
       "<polygon fill=\"#000000\" stroke=\"#000000\" points=\"204.1197,-152.58 197.9288,-143.9821 197.4068,-154.5641 204.1197,-152.58\"/>\n",
       "<text text-anchor=\"middle\" x=\"201.5394\" y=\"-189.1287\" font-family=\"Times,serif\" font-size=\"14.00\" fill=\"#000000\">Y₃</text>\n",
       "</g>\n",
       "<!-- 6&#45;&gt;3 -->\n",
       "<g id=\"edge4\" class=\"edge\">\n",
       "<title>6&#45;&gt;3</title>\n",
       "<path fill=\"none\" stroke=\"#000000\" d=\"M194.6889,-107.8372C196.5465,-90.9492 199.3293,-65.6489 201.469,-46.1966\"/>\n",
       "<polygon fill=\"#000000\" stroke=\"#000000\" points=\"204.9671,-46.4047 202.5815,-36.0819 198.009,-45.6393 204.9671,-46.4047\"/>\n",
       "<text text-anchor=\"middle\" x=\"190.0706\" y=\"-82.852\" font-family=\"Times,serif\" font-size=\"14.00\" fill=\"#000000\">Y₄</text>\n",
       "</g>\n",
       "</g>\n",
       "</svg>\n"
      ],
      "text/plain": [
       "DiGraph(DiNode[DiNode(1,Dict{Symbol,Any}(Pair{Symbol,Any}(:label,0.08),Pair{Symbol,Any}(:color,\"red\"),Pair{Symbol,Any}(:fontcolor,\"red\"))),DiNode(2,Dict{Symbol,Any}(Pair{Symbol,Any}(:label,-0.06),Pair{Symbol,Any}(:color,\"red\"),Pair{Symbol,Any}(:fontcolor,\"red\"))),DiNode(3,Dict{Symbol,Any}(Pair{Symbol,Any}(:label,-0.04))),DiNode(4,Dict{Symbol,Any}(Pair{Symbol,Any}(:label,0.02))),DiNode(5,Dict{Symbol,Any}(Pair{Symbol,Any}(:label,0.0))),DiNode(6,Dict{Symbol,Any}(Pair{Symbol,Any}(:label,-0.02)))],DiEdge[DiEdge(1=>4,Dict{Symbol,Any}(Pair{Symbol,Any}(:label,Y_1),Pair{Symbol,Any}(:len,1.5))),DiEdge(4=>5,Dict{Symbol,Any}(Pair{Symbol,Any}(:label,Y_2),Pair{Symbol,Any}(:len,1.5))),DiEdge(5=>6,Dict{Symbol,Any}(Pair{Symbol,Any}(:label,Y_3),Pair{Symbol,Any}(:len,1.5))),DiEdge(6=>3,Dict{Symbol,Any}(Pair{Symbol,Any}(:label,Y_4),Pair{Symbol,Any}(:len,1.5))),DiEdge(3=>2,Dict{Symbol,Any}(Pair{Symbol,Any}(:label,Y_5),Pair{Symbol,Any}(:len,1.5))),DiEdge(2=>1,Dict{Symbol,Any}(Pair{Symbol,Any}(:label,Y_6),Pair{Symbol,Any}(:len,1.5))),DiEdge(2=>6,Dict{Symbol,Any}(Pair{Symbol,Any}(:label,Y_7),Pair{Symbol,Any}(:len,1.5))),DiEdge(4=>6,Dict{Symbol,Any}(Pair{Symbol,Any}(:label,Y_8),Pair{Symbol,Any}(:len,1.5)))],Dict{Symbol,Any}())"
      ]
     },
     "execution_count": 43,
     "metadata": {
      "comm_id": "782a9db4-6a64-4ee3-b6e9-666b80c828fc",
      "reactive": true
     },
     "output_type": "execute_result"
    }
   ],
   "source": [
    "@manipulate for Y₁=0.1:0.1:10,\n",
    "                Y₂=0.1:0.1:10,\n",
    "                Y₃=0.1:0.1:10,\n",
    "                Y₄=0.1:0.1:10,\n",
    "                Y₅=0.1:0.1:10,\n",
    "                Y₆=0.1:0.1:10,\n",
    "                Y₇=0.1:0.1:10,\n",
    "                Y₈=0.1:0.1:10\n",
    "    s = [1,-1,0,0,0,0]\n",
    "    Y = diagm([Y₁,Y₂,Y₃,Y₄,Y₅,Y₆,Y₇,Y₈])\n",
    "    nodecolors!(labels(g, edges=[Sym(\"Y_$j\") for j=1:size(A,1)],\n",
    "                       nodes=twodigits.(pinv(A'*Y*A) * s)), [1,2])\n",
    "end"
   ]
  },
  {
   "cell_type": "markdown",
   "metadata": {},
   "source": [
    "Notice that if we make the admittance $Y_6$ really large compared to all of the other admittances, then nearly all of the current should flow just over that one edge.  Since (nearly) no current is flowing over the other edges, the other voltage drops are nearly zero (nearly constant voltages on the other nodes).\n",
    "\n",
    "Hooray, math (and physics) works!"
   ]
  },
  {
   "cell_type": "markdown",
   "metadata": {},
   "source": [
    "## Sparsity\n",
    "\n",
    "The case of matrices arising from graphs illustrates another point that I've made many times: **really large matrices are often sparse (mostly 0)** in practice.\n",
    "\n",
    "For example, imagine a circuit with a million nodes.  For the most part, there will only be *wires between nearby nodes*.  Or imagine a graph where the nodes are websites and the edges are links: there are billions of sites, but *each site only links to a few other sites* (a few hundred at most, usually).   In such cases, the **incidence matrix is mostly zero**, and similarly for $A^T Y A$ etcetetera.\n",
    "\n",
    "This is hugely important, because solving $Ax=b$ and most other matrix equations scale as $\\sim n^3$ for $n \\times n$ matrices.  $1000 \\times 1000$ matrices are easy (< 1 second), but $n=10^6$ would require supercomputers, and $n=10^9$ would be impossibly hard.   What saves us is that there are **much faster algorithms for sparse matrices**.  We won't learn much about such algorithms in 18.06, but the key point is to know that they exist.\n",
    "\n",
    "If you encounter a large sparse matrix problem in the future, go read about sparse matrix algorithms!"
   ]
  }
 ],
 "metadata": {
  "anaconda-cloud": {},
  "kernelspec": {
   "display_name": "Julia 0.5.0",
   "language": "julia",
   "name": "julia-0.5"
  },
  "language_info": {
   "file_extension": ".jl",
   "mimetype": "application/julia",
   "name": "julia",
   "version": "0.5.0"
  },
  "widgets": {
   "state": {
    "151cbcaa-16fa-4da7-82b2-5f592653df3c": {
     "views": [
      {
       "cell_index": 77
      }
     ]
    },
    "1655ad13-e286-4be0-afae-deb778a5dca2": {
     "views": [
      {
       "cell_index": 77
      }
     ]
    },
    "39c900ef-11d9-4b3b-af66-b4c785c41074": {
     "views": [
      {
       "cell_index": 77
      }
     ]
    },
    "3fcc471d-0ca4-49e0-a356-521f9e455685": {
     "views": [
      {
       "cell_index": 30
      }
     ]
    },
    "7524fbbc-1384-4e85-bf16-f8a595e8f620": {
     "views": [
      {
       "cell_index": 77
      }
     ]
    },
    "aa45fd5b-9d74-4598-9565-00244ad6592f": {
     "views": [
      {
       "cell_index": 34
      }
     ]
    },
    "bc2b6f2c-59ca-4208-b668-236f87d303a5": {
     "views": [
      {
       "cell_index": 77
      }
     ]
    },
    "cedf35e1-8fb5-4e33-8d51-3c8ecde7eae4": {
     "views": [
      {
       "cell_index": 77
      }
     ]
    },
    "d23f91e8-f137-45fa-8ed4-56de7992e7ac": {
     "views": [
      {
       "cell_index": 77
      }
     ]
    },
    "e8057494-508d-4a64-a254-5e7ce0a71063": {
     "views": [
      {
       "cell_index": 77
      }
     ]
    }
   },
   "version": "1.2.0"
  }
 },
 "nbformat": 4,
 "nbformat_minor": 1
}
