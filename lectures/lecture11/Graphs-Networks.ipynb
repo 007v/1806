{
 "cells": [
  {
   "cell_type": "markdown",
   "metadata": {},
   "source": [
    "# Graphs and Networks in Linear Algebra\n",
    "\n",
    "This notebook is based on section 10.1 of Strang's *Linear Algebra* textbook.\n",
    "\n",
    "One interesting source of large matrices in linear algebra is a [graph](https://en.wikipedia.org/wiki/Graph_(discrete_mathematics), a collection of *nodes* (vertices) and *edges* (arrows from one vertex to another).   Graphs are used in many applications to represent *relationships* and *connectivity*, such as:\n",
    "\n",
    "* For computer networks, nodes could represent web pages, and edges could represent links.\n",
    "* For circuits, edges could represent wires (or resistors) and nodes junctions.\n",
    "* For transportation, nodes could represent cities and edges roads.\n",
    "* In bioinformatics, graphs can represent gene regulatory networks.\n",
    "* In sociology, nodes could represent people and edges relationships.\n",
    "* ... and many, many other applications ...\n",
    "\n",
    "In this notebook, we explain how a graph can be represented by a *matrix*, and how linear algebra can tell us properties of the graph and can help us do computations on graph-based problems.  There is a particularly beautiful connection to Kirchhoff's laws of circuit theory."
   ]
  },
  {
   "cell_type": "markdown",
   "metadata": {},
   "source": [
    "## Packages for this notebook\n",
    "\n",
    "To run the code in this notebook, you'll need to install a few Julia packages used below.  To do so, uncomment the following line and run it:"
   ]
  },
  {
   "cell_type": "code",
   "execution_count": 1,
   "metadata": {
    "collapsed": true
   },
   "outputs": [],
   "source": [
    "# Pkg.add.([\"GraphViz\", \"RowEchelon\", \"Interact\", \"SymPy\"])"
   ]
  },
  {
   "cell_type": "markdown",
   "metadata": {},
   "source": [
    "...and then run this cell to import the packages:"
   ]
  },
  {
   "cell_type": "code",
   "execution_count": 2,
   "metadata": {
    "collapsed": false
   },
   "outputs": [
    {
     "data": {
      "text/html": [
       "<div id=\"interact-js-shim\">\n",
       "    <script charset=\"utf-8\">\n",
       "(function (IPython, $, _, MathJax) {\n",
       "    $.event.special.destroyed = {\n",
       "\tremove: function(o) {\n",
       "\t    if (o.handler) {\n",
       "\t\to.handler.apply(this, arguments)\n",
       "\t    }\n",
       "\t}\n",
       "    }\n",
       "\n",
       "    var OutputArea = IPython.version >= \"4.0.0\" ? require(\"notebook/js/outputarea\").OutputArea : IPython.OutputArea;\n",
       "\n",
       "    var redrawValue = function (container, type, val) {\n",
       "\tvar selector = $(\"<div/>\");\n",
       "\tvar oa = new OutputArea(_.extend(selector, {\n",
       "\t    selector: selector,\n",
       "\t    prompt_area: true,\n",
       "\t    events: IPython.events,\n",
       "\t    keyboard_manager: IPython.keyboard_manager\n",
       "\t})); // Hack to work with IPython 2.1.0\n",
       "\n",
       "\tswitch (type) {\n",
       "\tcase \"image/png\":\n",
       "            var _src = 'data:' + type + ';base64,' + val;\n",
       "\t    $(container).find(\"img\").attr('src', _src);\n",
       "\t    break;\n",
       "\tcase \"text/latex\":\n",
       "\t\tif (MathJax){\n",
       "\t\t\tvar math = MathJax.Hub.getAllJax(container)[0];\n",
       "\t\t\tMathJax.Hub.Queue([\"Text\", math, val.replace(/^\\${1,2}|\\${1,2}$/g, '')]);\n",
       "\t\t\tbreak;\n",
       "\t\t}\n",
       "\tdefault:\n",
       "\t    var toinsert = OutputArea.append_map[type].apply(\n",
       "\t\toa, [val, {}, selector]\n",
       "\t    );\n",
       "\t    $(container).empty().append(toinsert.contents());\n",
       "\t    selector.remove();\n",
       "\t}\n",
       "    }\n",
       "\n",
       "\n",
       "    $(document).ready(function() {\n",
       "\tfunction initComm(evt, data) {\n",
       "\t    var comm_manager = data.kernel.comm_manager;\n",
       "        //_.extend(comm_manager.targets, require(\"widgets/js/widget\"))\n",
       "\t    comm_manager.register_target(\"Signal\", function (comm) {\n",
       "            comm.on_msg(function (msg) {\n",
       "                var val = msg.content.data.value;\n",
       "                $(\".signal-\" + comm.comm_id).each(function() {\n",
       "                var type = $(this).data(\"type\");\n",
       "                if (typeof(val[type]) !== \"undefined\" && val[type] !== null) {\n",
       "                    redrawValue(this, type, val[type], type);\n",
       "                }\n",
       "                });\n",
       "                delete val;\n",
       "                delete msg.content.data.value;\n",
       "            });\n",
       "\t    });\n",
       "\n",
       "\t    // coordingate with Comm and redraw Signals\n",
       "\t    // XXX: Test using Reactive here to improve performance\n",
       "\t    $([IPython.events]).on(\n",
       "\t\t'output_appended.OutputArea', function (event, type, value, md, toinsert) {\n",
       "\t\t    if (md && md.reactive) {\n",
       "                // console.log(md.comm_id);\n",
       "                toinsert.addClass(\"signal-\" + md.comm_id);\n",
       "                toinsert.data(\"type\", type);\n",
       "                // Signal back indicating the mimetype required\n",
       "                var comm_manager = IPython.notebook.kernel.comm_manager;\n",
       "                var comm = comm_manager.comms[md.comm_id];\n",
       "                comm.then(function (c) {\n",
       "                    c.send({action: \"subscribe_mime\",\n",
       "                       mime: type});\n",
       "                    toinsert.bind(\"destroyed\", function() {\n",
       "                        c.send({action: \"unsubscribe_mime\",\n",
       "                               mime: type});\n",
       "                    });\n",
       "                })\n",
       "\t\t    }\n",
       "\t    });\n",
       "\t}\n",
       "\n",
       "\ttry {\n",
       "\t    // try to initialize right away. otherwise, wait on the status_started event.\n",
       "\t    initComm(undefined, IPython.notebook);\n",
       "\t} catch (e) {\n",
       "\t    $([IPython.events]).on('kernel_created.Kernel kernel_created.Session', initComm);\n",
       "\t}\n",
       "    });\n",
       "})(IPython, jQuery, _, MathJax);\n",
       "</script>\n",
       "    <script>\n",
       "        window.interactLoadedFlag = true\n",
       "       $(\"#interact-js-shim\").bind(\"destroyed\", function () {\n",
       "           if (window.interactLoadedFlag) {\n",
       "               console.warn(\"JavaScript required by Interact will be removed if you remove this cell or run using Interact more than once.\")\n",
       "           }\n",
       "       })\n",
       "       $([IPython.events]).on(\"kernel_starting.Kernel kernel_restarting.Kernel\", function () { window.interactLoadedFlag = false })\n",
       "   </script>\n",
       "</div>"
      ]
     },
     "metadata": {},
     "output_type": "display_data"
    }
   ],
   "source": [
    "using Interact, RowEchelon, Compat\n",
    "import GraphViz\n",
    "import SymPy.Sym"
   ]
  },
  {
   "cell_type": "markdown",
   "metadata": {},
   "source": [
    "## Julia Graph-visualization code\n",
    "\n",
    "There are several Julia packages for manipulating graphs, e.g. [LightGraphs](https://github.com/JuliaGraphs/LightGraphs.jl), along with several packages for visualizing graphs, e.g. [GraphViz](https://github.com/Keno/GraphViz.jl).  LightGraphs is oriented towards fast and sophisticated graph computations, however, and here I just want to do some simple and pretty visualizations with simple algorithms based on those in Strang's 18.06 textbook.\n",
    "\n",
    "So, here I define a simple `DiGraph` datastructure for directed graphs, oriented towards visualization via the GraphViz package (allowing me to control colors and other properties easily).   18.06 students can skip over all of this code directly to the results."
   ]
  },
  {
   "cell_type": "code",
   "execution_count": 3,
   "metadata": {
    "collapsed": false
   },
   "outputs": [
    {
     "data": {
      "text/plain": [
       "labels (generic function with 1 method)"
      ]
     },
     "execution_count": 3,
     "metadata": {},
     "output_type": "execute_result"
    }
   ],
   "source": [
    "# A very simple data structure representing a directed graph, with the ability to\n",
    "# label and color the nodes and edges as needed.\n",
    "const Properties = Dict{Symbol,Any}\n",
    "immutable DiNode\n",
    "    label::Any\n",
    "    props::Properties\n",
    "    DiNode(label, props::Properties) = new(label, props)\n",
    "    DiNode(label, props::Pair{Symbol}...) = DiNode(label, Properties(props...))\n",
    "end\n",
    "Base.copy(n::DiNode) = DiNode(n.label, copy(n.props))\n",
    "immutable DiEdge\n",
    "    e::Pair{Int,Int}\n",
    "    props::Properties\n",
    "    DiEdge(e, props::Properties) = new(e, props)\n",
    "    DiEdge(e, props::Pair{Symbol}...) = DiEdge(e, Properties(props...))\n",
    "end\n",
    "Base.copy(e::DiEdge) = DiEdge(e.e, copy(e.props))\n",
    "type DiGraph\n",
    "    nodes::Vector{DiNode}\n",
    "    edges::Vector{DiEdge}\n",
    "    props::Properties # properties of the whole graph\n",
    "    function DiGraph(nodes::Vector{DiNode}, edges::Vector{DiEdge}, props::Properties)\n",
    "        n = length(nodes)\n",
    "        all(e -> minimum(e.e) ≥ 1 && maximum(e.e) ≤ n, edges) || throw(ArgumentError(\"edge refers to nonexistent node\"))\n",
    "        new(nodes, edges, props)\n",
    "    end\n",
    "    DiGraph(nodes::Vector{DiNode}, edges::Vector{DiEdge}, props::Pair{Symbol}...) =\n",
    "        DiGraph(nodes, edges, Properties(props...))\n",
    "end\n",
    "function DiGraph(numnodes::Integer, edges::Pair{Int,Int}...)\n",
    "    n = Int(numnodes)\n",
    "    m = length(edges)\n",
    "    DiGraph([DiNode(i) for i=1:n], [DiEdge(edges[j], :label=>j) for j=1:m])\n",
    "end\n",
    "DiGraph(edges::Pair{Int,Int}...) = DiGraph(maximum(e -> maximum(e), edges), edges...)\n",
    "Base.copy(g::DiGraph) = DiGraph(copy.(g.nodes), copy.(g.edges), copy(g.props))\n",
    "function nodecolors!(g::DiGraph, nodes::AbstractVector{Int}, color::String=\"red\")\n",
    "    for n in nodes\n",
    "        g.nodes[n].props[:color] = color\n",
    "        g.nodes[n].props[:fontcolor] = color\n",
    "    end\n",
    "    g\n",
    "end\n",
    "nodecolors(g::DiGraph, nodes::AbstractVector{Int}, color::String=\"red\") = nodecolors!(copy(g), nodes, color)\n",
    "function edgecolors!(g::DiGraph, edges::AbstractVector{Int}, color::String=\"red\")\n",
    "    for e in edges\n",
    "        g.edges[e].props[:color] = color\n",
    "        g.edges[e].props[:fontcolor] = color\n",
    "    end\n",
    "    g\n",
    "end\n",
    "edgecolors(g::DiGraph, edges::AbstractVector{Int}, color::String=\"red\") = edgecolors!(copy(g), edges, color)\n",
    "function edgelen!(g::DiGraph, len::Real=1)\n",
    "    for e in g.edges\n",
    "        e.props[:len] = len\n",
    "    end\n",
    "    g\n",
    "end\n",
    "function labels!(g::DiGraph; edges=nothing, nodes=nothing)\n",
    "    if edges !== nothing\n",
    "        for (e,E) in zip(g.edges, edges)\n",
    "            e.props[:label] = E\n",
    "        end\n",
    "    end\n",
    "    if nodes !== nothing\n",
    "        for (n,N) in zip(g.nodes, nodes)\n",
    "            n.props[:label] = N\n",
    "        end\n",
    "    end\n",
    "    g\n",
    "end\n",
    "labels(g::DiGraph; kws...) = labels!(copy(g); kws...)"
   ]
  },
  {
   "cell_type": "code",
   "execution_count": 4,
   "metadata": {
    "collapsed": false
   },
   "outputs": [
    {
     "data": {
      "text/plain": [
       "DOTstring (generic function with 1 method)"
      ]
     },
     "execution_count": 4,
     "metadata": {},
     "output_type": "execute_result"
    }
   ],
   "source": [
    "# visualization of DiGraph via GraphViz\n",
    "function showprop(io, x::String)\n",
    "    print(io, '\"')\n",
    "    escape_string(io, x, \"\")\n",
    "    print(io, '\"')\n",
    "end\n",
    "showprop(io, x::Number) = print(io, x)\n",
    "showprop(io, x) = showprop(io, string(x))\n",
    "GraphViz.Graph(g::DiGraph) = GraphViz.Graph(DOTstring(g))\n",
    "Base.show(io::IO, m::MIME\"image/svg+xml\", g::DiGraph) = show(io, m, GraphViz.Graph(g))\n",
    "\n",
    "# convert g to a string in DOT format for use with GraphViz\n",
    "function DOTstring(g::DiGraph)\n",
    "    buf = IOBuffer()\n",
    "    println(buf, \"digraph MyDiGraph {\")\n",
    "    for (i,n) in enumerate(g.nodes)\n",
    "        print(buf, \"  \", i, \" [label=\")\n",
    "        showprop(buf, n.label)\n",
    "        for (p,v) in n.props\n",
    "            print(buf, ' ', p, '=')\n",
    "            showprop(buf, v)\n",
    "        end\n",
    "        print(buf, \"]\\n\")\n",
    "    end\n",
    "    for (j,e) in enumerate(g.edges)\n",
    "        print(buf, \"  \", e.e.first, \" -> \", e.e.second, \" [\")\n",
    "        for (p,v) in e.props\n",
    "            print(buf, ' ', p, '=')\n",
    "            showprop(buf, v)\n",
    "        end\n",
    "        print(buf, \"]\\n\")\n",
    "    end\n",
    "    println(buf, \"}\")\n",
    "    String(take!(buf))\n",
    "end"
   ]
  },
  {
   "cell_type": "code",
   "execution_count": 5,
   "metadata": {
    "collapsed": false
   },
   "outputs": [
    {
     "data": {
      "text/plain": [
       "randgraph (generic function with 1 method)"
      ]
     },
     "execution_count": 5,
     "metadata": {},
     "output_type": "execute_result"
    }
   ],
   "source": [
    "# generate a random graph with a given average #edges per node\n",
    "function randgraph(numnodes::Integer, edgespernode::Real)\n",
    "    p = edgespernode/numnodes # probability of each edge\n",
    "    e = Vector{Pair{Int,Int}}()\n",
    "    for i = 1:numnodes, j = 1:numnodes\n",
    "        if i != j && rand() < p\n",
    "            push!(e, i=>j)\n",
    "        end\n",
    "    end\n",
    "    return DiGraph(numnodes, e...)\n",
    "end"
   ]
  },
  {
   "cell_type": "code",
   "execution_count": 6,
   "metadata": {
    "collapsed": false
   },
   "outputs": [
    {
     "data": {
      "text/plain": [
       "incidence (generic function with 1 method)"
      ]
     },
     "execution_count": 6,
     "metadata": {},
     "output_type": "execute_result"
    }
   ],
   "source": [
    "# returns the incidence matrix for g\n",
    "function incidence(g::DiGraph)\n",
    "    A = zeros(Int, length(g.edges), length(g.nodes))\n",
    "    for (i,e) in enumerate(g.edges)\n",
    "        A[i,e.e.first] = -1\n",
    "        A[i,e.e.second] = 1\n",
    "    end\n",
    "    return A\n",
    "end"
   ]
  },
  {
   "cell_type": "code",
   "execution_count": 7,
   "metadata": {
    "collapsed": false
   },
   "outputs": [
    {
     "data": {
      "text/plain": [
       "leftnullspace (generic function with 1 method)"
      ]
     },
     "execution_count": 7,
     "metadata": {},
     "output_type": "execute_result"
    }
   ],
   "source": [
    "# Find the loops in g by the simplest \"textbook\" manner:\n",
    "# get a basis for the left nullspace incidence matrix.\n",
    "# We do this via the rref form, rather than nullspace(A'), because\n",
    "# we want a \"nice\" basis of ±1 and 0 entries.\n",
    "function leftnullspace(g::DiGraph)\n",
    "    A = incidence(g)\n",
    "    R = rref(A')\n",
    "    m, n = size(R)\n",
    "    pivots = Int[]\n",
    "    for i = 1:m\n",
    "        j = findfirst(R[i,:])\n",
    "        j > 0 && push!(pivots, j)\n",
    "    end\n",
    "    r = length(pivots) # rank\n",
    "    free = Int[j for j=1:n if j ∉ pivots]\n",
    "    N = zeros(Int, n, n-r)\n",
    "    k = 0\n",
    "    for (k,j) in enumerate(free)\n",
    "        N[pivots, k] = -R[1:r, j]\n",
    "        N[j, k] = 1\n",
    "    end\n",
    "    return N\n",
    "end"
   ]
  },
  {
   "cell_type": "code",
   "execution_count": 8,
   "metadata": {
    "collapsed": false
   },
   "outputs": [
    {
     "data": {
      "text/plain": [
       "tree (generic function with 1 method)"
      ]
     },
     "execution_count": 8,
     "metadata": {},
     "output_type": "execute_result"
    }
   ],
   "source": [
    "# color the edges of a spanning tree of g, by the textbook\n",
    "# method of finding the pivot rows of the incidence matrix\n",
    "function pivotrows(g::DiGraph)\n",
    "    A = incidence(g)\n",
    "    R = rref(A')\n",
    "    m, n = size(R)\n",
    "    pivots = Int[]\n",
    "    for i = 1:m\n",
    "        j = findfirst(R[i,:])\n",
    "        j > 0 && push!(pivots, j)\n",
    "    end\n",
    "    return pivots\n",
    "end\n",
    "colortree(g::DiGraph, color::String=\"red\") = edgecolors(g, pivotrows(g), color)\n",
    "tree(g::DiGraph) = DiGraph(copy.(g.nodes), g.edges[pivotrows(g)], copy(g.props))"
   ]
  },
  {
   "cell_type": "markdown",
   "metadata": {},
   "source": [
    "## Graphs and incidence matrices\n",
    "\n",
    "Let's start by looking at an example graph with 6 nodes 8 edges.  Computers are pretty good at drawing graphs for us:"
   ]
  },
  {
   "cell_type": "code",
   "execution_count": 9,
   "metadata": {
    "collapsed": false
   },
   "outputs": [
    {
     "data": {
      "image/svg+xml": [
       "<?xml version=\"1.0\" encoding=\"UTF-8\" standalone=\"no\"?>\n",
       "<!DOCTYPE svg PUBLIC \"-//W3C//DTD SVG 1.1//EN\"\n",
       " \"http://www.w3.org/Graphics/SVG/1.1/DTD/svg11.dtd\">\n",
       "<!-- Generated by graphviz version 2.40.1 (20161225.0304)\n",
       " -->\n",
       "<!-- Title: MyDiGraph Pages: 1 -->\n",
       "<svg width=\"259pt\" height=\"257pt\"\n",
       " viewBox=\"0.00 0.00 258.52 256.56\" xmlns=\"http://www.w3.org/2000/svg\" xmlns:xlink=\"http://www.w3.org/1999/xlink\">\n",
       "<g id=\"graph0\" class=\"graph\" transform=\"scale(1 1) rotate(0) translate(4 252.5612)\">\n",
       "<title>MyDiGraph</title>\n",
       "<polygon fill=\"#ffffff\" stroke=\"transparent\" points=\"-4,4 -4,-252.5612 254.5182,-252.5612 254.5182,4 -4,4\"/>\n",
       "<!-- 1 -->\n",
       "<g id=\"node1\" class=\"node\">\n",
       "<title>1</title>\n",
       "<ellipse fill=\"none\" stroke=\"#000000\" cx=\"27\" cy=\"-140.9451\" rx=\"27\" ry=\"18\"/>\n",
       "<text text-anchor=\"middle\" x=\"27\" y=\"-136.7451\" font-family=\"Times,serif\" font-size=\"14.00\" fill=\"#000000\">1</text>\n",
       "</g>\n",
       "<!-- 4 -->\n",
       "<g id=\"node4\" class=\"node\">\n",
       "<title>4</title>\n",
       "<ellipse fill=\"none\" stroke=\"#000000\" cx=\"116.8883\" cy=\"-215.532\" rx=\"27\" ry=\"18\"/>\n",
       "<text text-anchor=\"middle\" x=\"116.8883\" y=\"-211.332\" font-family=\"Times,serif\" font-size=\"14.00\" fill=\"#000000\">4</text>\n",
       "</g>\n",
       "<!-- 1&#45;&gt;4 -->\n",
       "<g id=\"edge1\" class=\"edge\">\n",
       "<title>1&#45;&gt;4</title>\n",
       "<path fill=\"none\" stroke=\"#000000\" d=\"M44.3314,-155.3262C57.8476,-166.5416 76.8036,-182.2708 91.9506,-194.8393\"/>\n",
       "<polygon fill=\"#000000\" stroke=\"#000000\" points=\"89.9843,-197.7558 99.915,-201.448 94.4543,-192.3688 89.9843,-197.7558\"/>\n",
       "<text text-anchor=\"middle\" x=\"64.641\" y=\"-177.8828\" font-family=\"Times,serif\" font-size=\"14.00\" fill=\"#000000\">1</text>\n",
       "</g>\n",
       "<!-- 2 -->\n",
       "<g id=\"node2\" class=\"node\">\n",
       "<title>2</title>\n",
       "<ellipse fill=\"none\" stroke=\"#000000\" cx=\"102.2914\" cy=\"-51.6524\" rx=\"27\" ry=\"18\"/>\n",
       "<text text-anchor=\"middle\" x=\"102.2914\" y=\"-47.4524\" font-family=\"Times,serif\" font-size=\"14.00\" fill=\"#000000\">2</text>\n",
       "</g>\n",
       "<!-- 2&#45;&gt;1 -->\n",
       "<g id=\"edge6\" class=\"edge\">\n",
       "<title>2&#45;&gt;1</title>\n",
       "<path fill=\"none\" stroke=\"#000000\" d=\"M88.8308,-67.6162C77.1606,-81.4566 60.1129,-101.6744 46.8723,-117.3772\"/>\n",
       "<polygon fill=\"#000000\" stroke=\"#000000\" points=\"44.1146,-115.2183 40.3441,-125.1195 49.4661,-119.7307 44.1146,-115.2183\"/>\n",
       "<text text-anchor=\"middle\" x=\"64.3516\" y=\"-95.2967\" font-family=\"Times,serif\" font-size=\"14.00\" fill=\"#000000\">6</text>\n",
       "</g>\n",
       "<!-- 6 -->\n",
       "<g id=\"node6\" class=\"node\">\n",
       "<title>6</title>\n",
       "<ellipse fill=\"none\" stroke=\"#000000\" cx=\"192.6702\" cy=\"-126.1901\" rx=\"27\" ry=\"18\"/>\n",
       "<text text-anchor=\"middle\" x=\"192.6702\" y=\"-121.9901\" font-family=\"Times,serif\" font-size=\"14.00\" fill=\"#000000\">6</text>\n",
       "</g>\n",
       "<!-- 2&#45;&gt;6 -->\n",
       "<g id=\"edge7\" class=\"edge\">\n",
       "<title>2&#45;&gt;6</title>\n",
       "<path fill=\"none\" stroke=\"#000000\" d=\"M119.2909,-65.6724C132.8382,-76.8452 152.0133,-92.6594 167.3645,-105.3199\"/>\n",
       "<polygon fill=\"#000000\" stroke=\"#000000\" points=\"165.4978,-108.3172 175.4396,-111.9796 169.9517,-102.9168 165.4978,-108.3172\"/>\n",
       "<text text-anchor=\"middle\" x=\"139.8277\" y=\"-88.2962\" font-family=\"Times,serif\" font-size=\"14.00\" fill=\"#000000\">7</text>\n",
       "</g>\n",
       "<!-- 3 -->\n",
       "<g id=\"node3\" class=\"node\">\n",
       "<title>3</title>\n",
       "<ellipse fill=\"none\" stroke=\"#000000\" cx=\"204.5704\" cy=\"-18\" rx=\"27\" ry=\"18\"/>\n",
       "<text text-anchor=\"middle\" x=\"204.5704\" y=\"-13.8\" font-family=\"Times,serif\" font-size=\"14.00\" fill=\"#000000\">3</text>\n",
       "</g>\n",
       "<!-- 3&#45;&gt;2 -->\n",
       "<g id=\"edge5\" class=\"edge\">\n",
       "<title>3&#45;&gt;2</title>\n",
       "<path fill=\"none\" stroke=\"#000000\" d=\"M180.3317,-25.9752C167.1806,-30.3022 150.7115,-35.721 136.2962,-40.464\"/>\n",
       "<polygon fill=\"#000000\" stroke=\"#000000\" points=\"135.1157,-37.1677 126.7105,-43.6179 137.3035,-43.8171 135.1157,-37.1677\"/>\n",
       "<text text-anchor=\"middle\" x=\"154.814\" y=\"-36.0196\" font-family=\"Times,serif\" font-size=\"14.00\" fill=\"#000000\">5</text>\n",
       "</g>\n",
       "<!-- 5 -->\n",
       "<g id=\"node5\" class=\"node\">\n",
       "<title>5</title>\n",
       "<ellipse fill=\"none\" stroke=\"#000000\" cx=\"223.5182\" cy=\"-230.5612\" rx=\"27\" ry=\"18\"/>\n",
       "<text text-anchor=\"middle\" x=\"223.5182\" y=\"-226.3612\" font-family=\"Times,serif\" font-size=\"14.00\" fill=\"#000000\">5</text>\n",
       "</g>\n",
       "<!-- 4&#45;&gt;5 -->\n",
       "<g id=\"edge2\" class=\"edge\">\n",
       "<title>4&#45;&gt;5</title>\n",
       "<path fill=\"none\" stroke=\"#000000\" d=\"M143.5205,-219.2857C156.6248,-221.1327 172.6268,-223.3882 186.8659,-225.3951\"/>\n",
       "<polygon fill=\"#000000\" stroke=\"#000000\" points=\"186.4654,-228.8732 196.856,-226.8032 187.4424,-221.9417 186.4654,-228.8732\"/>\n",
       "<text text-anchor=\"middle\" x=\"161.6932\" y=\"-225.1404\" font-family=\"Times,serif\" font-size=\"14.00\" fill=\"#000000\">2</text>\n",
       "</g>\n",
       "<!-- 4&#45;&gt;6 -->\n",
       "<g id=\"edge8\" class=\"edge\">\n",
       "<title>4&#45;&gt;6</title>\n",
       "<path fill=\"none\" stroke=\"#000000\" d=\"M130.4366,-199.5595C142.1828,-185.7114 159.3415,-165.4824 172.6684,-149.771\"/>\n",
       "<polygon fill=\"#000000\" stroke=\"#000000\" points=\"175.4397,-151.9145 179.2392,-142.0244 170.1014,-147.3865 175.4397,-151.9145\"/>\n",
       "<text text-anchor=\"middle\" x=\"148.0525\" y=\"-177.4652\" font-family=\"Times,serif\" font-size=\"14.00\" fill=\"#000000\">8</text>\n",
       "</g>\n",
       "<!-- 5&#45;&gt;6 -->\n",
       "<g id=\"edge3\" class=\"edge\">\n",
       "<title>5&#45;&gt;6</title>\n",
       "<path fill=\"none\" stroke=\"#000000\" d=\"M218.2853,-212.856C213.499,-196.6623 206.343,-172.4508 200.8102,-153.7311\"/>\n",
       "<polygon fill=\"#000000\" stroke=\"#000000\" points=\"204.1197,-152.58 197.9288,-143.9821 197.4068,-154.5641 204.1197,-152.58\"/>\n",
       "<text text-anchor=\"middle\" x=\"206.0477\" y=\"-186.0936\" font-family=\"Times,serif\" font-size=\"14.00\" fill=\"#000000\">3</text>\n",
       "</g>\n",
       "<!-- 6&#45;&gt;3 -->\n",
       "<g id=\"edge4\" class=\"edge\">\n",
       "<title>6&#45;&gt;3</title>\n",
       "<path fill=\"none\" stroke=\"#000000\" d=\"M194.6889,-107.8372C196.5465,-90.9492 199.3293,-65.6489 201.469,-46.1966\"/>\n",
       "<polygon fill=\"#000000\" stroke=\"#000000\" points=\"204.9671,-46.4047 202.5815,-36.0819 198.009,-45.6393 204.9671,-46.4047\"/>\n",
       "<text text-anchor=\"middle\" x=\"194.5789\" y=\"-79.8169\" font-family=\"Times,serif\" font-size=\"14.00\" fill=\"#000000\">4</text>\n",
       "</g>\n",
       "</g>\n",
       "</svg>\n"
      ],
      "text/plain": [
       "DiGraph(DiNode[DiNode(1,Dict{Symbol,Any}()),DiNode(2,Dict{Symbol,Any}()),DiNode(3,Dict{Symbol,Any}()),DiNode(4,Dict{Symbol,Any}()),DiNode(5,Dict{Symbol,Any}()),DiNode(6,Dict{Symbol,Any}())],DiEdge[DiEdge(1=>4,Dict{Symbol,Any}(Pair{Symbol,Any}(:label,1),Pair{Symbol,Any}(:len,1.5))),DiEdge(4=>5,Dict{Symbol,Any}(Pair{Symbol,Any}(:label,2),Pair{Symbol,Any}(:len,1.5))),DiEdge(5=>6,Dict{Symbol,Any}(Pair{Symbol,Any}(:label,3),Pair{Symbol,Any}(:len,1.5))),DiEdge(6=>3,Dict{Symbol,Any}(Pair{Symbol,Any}(:label,4),Pair{Symbol,Any}(:len,1.5))),DiEdge(3=>2,Dict{Symbol,Any}(Pair{Symbol,Any}(:label,5),Pair{Symbol,Any}(:len,1.5))),DiEdge(2=>1,Dict{Symbol,Any}(Pair{Symbol,Any}(:label,6),Pair{Symbol,Any}(:len,1.5))),DiEdge(2=>6,Dict{Symbol,Any}(Pair{Symbol,Any}(:label,7),Pair{Symbol,Any}(:len,1.5))),DiEdge(4=>6,Dict{Symbol,Any}(Pair{Symbol,Any}(:label,8),Pair{Symbol,Any}(:len,1.5)))],Dict{Symbol,Any}())"
      ]
     },
     "execution_count": 9,
     "metadata": {},
     "output_type": "execute_result"
    }
   ],
   "source": [
    "g = edgelen!(DiGraph(1=>4, 4=>5, 5=>6, 6=>3, 3=>2, 2=>1, 2=>6, 4=>6), 1.5)"
   ]
  },
  {
   "cell_type": "markdown",
   "metadata": {},
   "source": [
    "A key way to represent a graph in linear algebra is the [incidence matrix](https://en.wikipedia.org/wiki/Incidence_matrix).  As defined in Strang's textbook, this is a matrix where the **rows correspond to edges** and the **columns correspond to nodes**.  (Some authors use the transpose of this instead.)\n",
    "\n",
    "In particular, in the row for each edge going **from node N to node M**, there is a **-1 in column N** and a **+1 in column N**.\n",
    "\n",
    "For example, the incidence matrix of the graph above is:"
   ]
  },
  {
   "cell_type": "code",
   "execution_count": 10,
   "metadata": {
    "collapsed": false
   },
   "outputs": [
    {
     "data": {
      "text/plain": [
       "8×6 Array{Int64,2}:\n",
       " -1   0   0   1   0   0\n",
       "  0   0   0  -1   1   0\n",
       "  0   0   0   0  -1   1\n",
       "  0   0   1   0   0  -1\n",
       "  0   1  -1   0   0   0\n",
       "  1  -1   0   0   0   0\n",
       "  0  -1   0   0   0   1\n",
       "  0   0   0  -1   0   1"
      ]
     },
     "execution_count": 10,
     "metadata": {},
     "output_type": "execute_result"
    }
   ],
   "source": [
    "A = incidence(g)"
   ]
  },
  {
   "cell_type": "markdown",
   "metadata": {},
   "source": [
    "There is an interesting structure if you think about *loops* in the graph.  For example, in the graph above there is a loop among nodes 6, 3, 2, via edges 4,5,7.  Let's look at the rows of $A$ corresponding to those edges:"
   ]
  },
  {
   "cell_type": "code",
   "execution_count": 11,
   "metadata": {
    "collapsed": false
   },
   "outputs": [
    {
     "data": {
      "text/plain": [
       "3×6 Array{Int64,2}:\n",
       " 0   0   1  0  0  -1\n",
       " 0   1  -1  0  0   0\n",
       " 0  -1   0  0  0   1"
      ]
     },
     "execution_count": 11,
     "metadata": {},
     "output_type": "execute_result"
    }
   ],
   "source": [
    "A[[4,5,7],:]"
   ]
  },
  {
   "cell_type": "markdown",
   "metadata": {},
   "source": [
    "If we **add these rows** we get **zero**:"
   ]
  },
  {
   "cell_type": "code",
   "execution_count": 12,
   "metadata": {
    "collapsed": false
   },
   "outputs": [
    {
     "data": {
      "text/plain": [
       "1×6 Array{Int64,2}:\n",
       " 0  0  0  0  0  0"
      ]
     },
     "execution_count": 12,
     "metadata": {},
     "output_type": "execute_result"
    }
   ],
   "source": [
    "A[4,:]' + A[5,:]' + A[7,:]'"
   ]
  },
  {
   "cell_type": "markdown",
   "metadata": {},
   "source": [
    "In general, it is easy to see that **any loop in the graph** corresponds to **dependent rows**: if we sum the rows going around the loop (with a minus sign for arrows in the wrong direction), we get zero.\n",
    "\n",
    "The reason is simple: we get a -1 in a column when we *leave* a node, and a +1 in the column when we *enter* a node.  When we go around the loop, we leave and enter each node, so the sum is zero.\n",
    "\n",
    "But dependent rows correspond to **elements of the left nullspace**:"
   ]
  },
  {
   "cell_type": "code",
   "execution_count": 13,
   "metadata": {
    "collapsed": false
   },
   "outputs": [
    {
     "data": {
      "text/plain": [
       "1×6 Array{Int64,2}:\n",
       " 0  0  0  0  0  0"
      ]
     },
     "execution_count": 13,
     "metadata": {},
     "output_type": "execute_result"
    }
   ],
   "source": [
    "[0 0 0 1 1 0 1 0] * A"
   ]
  },
  {
   "cell_type": "markdown",
   "metadata": {},
   "source": [
    "That means that the number of \"independent\" (primitive) loops in a graph is related to the **rank** of the incidence matrix, and the **independent rows of A have no loops**.\n",
    "\n",
    "Let's look at the row-reduced echelon (rref) form of $A^T$:"
   ]
  },
  {
   "cell_type": "code",
   "execution_count": 14,
   "metadata": {
    "collapsed": false
   },
   "outputs": [
    {
     "data": {
      "text/plain": [
       "6×8 Array{Int64,2}:\n",
       " 1  0  0  0  0  -1   0  0\n",
       " 0  1  0  0  0  -1   0  1\n",
       " 0  0  1  0  0  -1   0  1\n",
       " 0  0  0  1  0  -1  -1  0\n",
       " 0  0  0  0  1  -1  -1  0\n",
       " 0  0  0  0  0   0   0  0"
      ]
     },
     "execution_count": 14,
     "metadata": {},
     "output_type": "execute_result"
    }
   ],
   "source": [
    "Matrix{Int}(rref(A'))"
   ]
  },
  {
   "cell_type": "markdown",
   "metadata": {},
   "source": [
    "We can see that the rank of $A$ is 5:"
   ]
  },
  {
   "cell_type": "code",
   "execution_count": 15,
   "metadata": {
    "collapsed": false
   },
   "outputs": [
    {
     "data": {
      "text/plain": [
       "5"
      ]
     },
     "execution_count": 15,
     "metadata": {},
     "output_type": "execute_result"
    }
   ],
   "source": [
    "rank(A)"
   ]
  },
  {
   "cell_type": "markdown",
   "metadata": {},
   "source": [
    "This means that there are **five loop-free (independent) edges**, and there are **three** (8 - 5) primitive loops.  Using the rref form of $A^T$, we can read off a basis for the left nullspace from the free columns (6,7,8):"
   ]
  },
  {
   "cell_type": "code",
   "execution_count": 16,
   "metadata": {
    "collapsed": false
   },
   "outputs": [
    {
     "data": {
      "text/plain": [
       "8×3 Array{Int64,2}:\n",
       " 1  0   0\n",
       " 1  0  -1\n",
       " 1  0  -1\n",
       " 1  1   0\n",
       " 1  1   0\n",
       " 1  0   0\n",
       " 0  1   0\n",
       " 0  0   1"
      ]
     },
     "execution_count": 16,
     "metadata": {},
     "output_type": "execute_result"
    }
   ],
   "source": [
    "N = leftnullspace(g)"
   ]
  },
  {
   "cell_type": "code",
   "execution_count": 17,
   "metadata": {
    "collapsed": false
   },
   "outputs": [
    {
     "data": {
      "text/plain": [
       "6×3 Array{Int64,2}:\n",
       " 0  0  0\n",
       " 0  0  0\n",
       " 0  0  0\n",
       " 0  0  0\n",
       " 0  0  0\n",
       " 0  0  0"
      ]
     },
     "execution_count": 17,
     "metadata": {},
     "output_type": "execute_result"
    }
   ],
   "source": [
    "A' * N"
   ]
  },
  {
   "cell_type": "markdown",
   "metadata": {},
   "source": [
    "Let's visualize these loops by plotting the edges in a different color (red) one by one,\n",
    "with help from the Interact package to give us an interactive widget:"
   ]
  },
  {
   "cell_type": "code",
   "execution_count": 18,
   "metadata": {
    "collapsed": false
   },
   "outputs": [
    {
     "data": {
      "text/plain": [
       "animloops (generic function with 1 method)"
      ]
     },
     "execution_count": 18,
     "metadata": {},
     "output_type": "execute_result"
    }
   ],
   "source": [
    "colorloop(g::DiGraph, n::Vector) = edgecolors!(edgecolors(g, find(n .> 0), \"red\"), find(n .< 0), \"blue\")\n",
    "function animloops(g::DiGraph)\n",
    "    L = leftnullspace(g)\n",
    "    @manipulate for loop in 1:size(L,2)\n",
    "        colorloop(g, L[:,loop])\n",
    "    end\n",
    "end"
   ]
  },
  {
   "cell_type": "code",
   "execution_count": 19,
   "metadata": {
    "collapsed": false
   },
   "outputs": [
    {
     "data": {
      "text/html": [],
      "text/plain": [
       "Interact.Options{:SelectionSlider,Int64}(Signal{Int64}(2, nactions=1),\"loop\",2,\"2\",Interact.OptionDict(DataStructures.OrderedDict(\"1\"=>1,\"2\"=>2,\"3\"=>3),Dict(2=>\"2\",3=>\"3\",1=>\"1\")),Any[],Any[],true,\"horizontal\")"
      ]
     },
     "metadata": {},
     "output_type": "display_data"
    },
    {
     "data": {
      "image/svg+xml": [
       "<?xml version=\"1.0\" encoding=\"UTF-8\" standalone=\"no\"?>\n",
       "<!DOCTYPE svg PUBLIC \"-//W3C//DTD SVG 1.1//EN\"\n",
       " \"http://www.w3.org/Graphics/SVG/1.1/DTD/svg11.dtd\">\n",
       "<!-- Generated by graphviz version 2.40.1 (20161225.0304)\n",
       " -->\n",
       "<!-- Title: MyDiGraph Pages: 1 -->\n",
       "<svg width=\"259pt\" height=\"257pt\"\n",
       " viewBox=\"0.00 0.00 258.52 256.56\" xmlns=\"http://www.w3.org/2000/svg\" xmlns:xlink=\"http://www.w3.org/1999/xlink\">\n",
       "<g id=\"graph0\" class=\"graph\" transform=\"scale(1 1) rotate(0) translate(4 252.5612)\">\n",
       "<title>MyDiGraph</title>\n",
       "<polygon fill=\"#ffffff\" stroke=\"transparent\" points=\"-4,4 -4,-252.5612 254.5182,-252.5612 254.5182,4 -4,4\"/>\n",
       "<!-- 1 -->\n",
       "<g id=\"node1\" class=\"node\">\n",
       "<title>1</title>\n",
       "<ellipse fill=\"none\" stroke=\"#000000\" cx=\"27\" cy=\"-140.9451\" rx=\"27\" ry=\"18\"/>\n",
       "<text text-anchor=\"middle\" x=\"27\" y=\"-136.7451\" font-family=\"Times,serif\" font-size=\"14.00\" fill=\"#000000\">1</text>\n",
       "</g>\n",
       "<!-- 4 -->\n",
       "<g id=\"node4\" class=\"node\">\n",
       "<title>4</title>\n",
       "<ellipse fill=\"none\" stroke=\"#000000\" cx=\"116.8883\" cy=\"-215.532\" rx=\"27\" ry=\"18\"/>\n",
       "<text text-anchor=\"middle\" x=\"116.8883\" y=\"-211.332\" font-family=\"Times,serif\" font-size=\"14.00\" fill=\"#000000\">4</text>\n",
       "</g>\n",
       "<!-- 1&#45;&gt;4 -->\n",
       "<g id=\"edge1\" class=\"edge\">\n",
       "<title>1&#45;&gt;4</title>\n",
       "<path fill=\"none\" stroke=\"#000000\" d=\"M44.3314,-155.3262C57.8476,-166.5416 76.8036,-182.2708 91.9506,-194.8393\"/>\n",
       "<polygon fill=\"#000000\" stroke=\"#000000\" points=\"89.9843,-197.7558 99.915,-201.448 94.4543,-192.3688 89.9843,-197.7558\"/>\n",
       "<text text-anchor=\"middle\" x=\"64.641\" y=\"-177.8828\" font-family=\"Times,serif\" font-size=\"14.00\" fill=\"#000000\">1</text>\n",
       "</g>\n",
       "<!-- 2 -->\n",
       "<g id=\"node2\" class=\"node\">\n",
       "<title>2</title>\n",
       "<ellipse fill=\"none\" stroke=\"#000000\" cx=\"102.2914\" cy=\"-51.6524\" rx=\"27\" ry=\"18\"/>\n",
       "<text text-anchor=\"middle\" x=\"102.2914\" y=\"-47.4524\" font-family=\"Times,serif\" font-size=\"14.00\" fill=\"#000000\">2</text>\n",
       "</g>\n",
       "<!-- 2&#45;&gt;1 -->\n",
       "<g id=\"edge6\" class=\"edge\">\n",
       "<title>2&#45;&gt;1</title>\n",
       "<path fill=\"none\" stroke=\"#000000\" d=\"M88.8308,-67.6162C77.1606,-81.4566 60.1129,-101.6744 46.8723,-117.3772\"/>\n",
       "<polygon fill=\"#000000\" stroke=\"#000000\" points=\"44.1146,-115.2183 40.3441,-125.1195 49.4661,-119.7307 44.1146,-115.2183\"/>\n",
       "<text text-anchor=\"middle\" x=\"64.3516\" y=\"-95.2967\" font-family=\"Times,serif\" font-size=\"14.00\" fill=\"#000000\">6</text>\n",
       "</g>\n",
       "<!-- 6 -->\n",
       "<g id=\"node6\" class=\"node\">\n",
       "<title>6</title>\n",
       "<ellipse fill=\"none\" stroke=\"#000000\" cx=\"192.6702\" cy=\"-126.1901\" rx=\"27\" ry=\"18\"/>\n",
       "<text text-anchor=\"middle\" x=\"192.6702\" y=\"-121.9901\" font-family=\"Times,serif\" font-size=\"14.00\" fill=\"#000000\">6</text>\n",
       "</g>\n",
       "<!-- 2&#45;&gt;6 -->\n",
       "<g id=\"edge7\" class=\"edge\">\n",
       "<title>2&#45;&gt;6</title>\n",
       "<path fill=\"none\" stroke=\"#ff0000\" d=\"M119.2909,-65.6724C132.8382,-76.8452 152.0133,-92.6594 167.3645,-105.3199\"/>\n",
       "<polygon fill=\"#ff0000\" stroke=\"#ff0000\" points=\"165.4978,-108.3172 175.4396,-111.9796 169.9517,-102.9168 165.4978,-108.3172\"/>\n",
       "<text text-anchor=\"middle\" x=\"139.8277\" y=\"-88.2962\" font-family=\"Times,serif\" font-size=\"14.00\" fill=\"#ff0000\">7</text>\n",
       "</g>\n",
       "<!-- 3 -->\n",
       "<g id=\"node3\" class=\"node\">\n",
       "<title>3</title>\n",
       "<ellipse fill=\"none\" stroke=\"#000000\" cx=\"204.5704\" cy=\"-18\" rx=\"27\" ry=\"18\"/>\n",
       "<text text-anchor=\"middle\" x=\"204.5704\" y=\"-13.8\" font-family=\"Times,serif\" font-size=\"14.00\" fill=\"#000000\">3</text>\n",
       "</g>\n",
       "<!-- 3&#45;&gt;2 -->\n",
       "<g id=\"edge5\" class=\"edge\">\n",
       "<title>3&#45;&gt;2</title>\n",
       "<path fill=\"none\" stroke=\"#ff0000\" d=\"M180.3317,-25.9752C167.1806,-30.3022 150.7115,-35.721 136.2962,-40.464\"/>\n",
       "<polygon fill=\"#ff0000\" stroke=\"#ff0000\" points=\"135.1157,-37.1677 126.7105,-43.6179 137.3035,-43.8171 135.1157,-37.1677\"/>\n",
       "<text text-anchor=\"middle\" x=\"154.814\" y=\"-36.0196\" font-family=\"Times,serif\" font-size=\"14.00\" fill=\"#ff0000\">5</text>\n",
       "</g>\n",
       "<!-- 5 -->\n",
       "<g id=\"node5\" class=\"node\">\n",
       "<title>5</title>\n",
       "<ellipse fill=\"none\" stroke=\"#000000\" cx=\"223.5182\" cy=\"-230.5612\" rx=\"27\" ry=\"18\"/>\n",
       "<text text-anchor=\"middle\" x=\"223.5182\" y=\"-226.3612\" font-family=\"Times,serif\" font-size=\"14.00\" fill=\"#000000\">5</text>\n",
       "</g>\n",
       "<!-- 4&#45;&gt;5 -->\n",
       "<g id=\"edge2\" class=\"edge\">\n",
       "<title>4&#45;&gt;5</title>\n",
       "<path fill=\"none\" stroke=\"#000000\" d=\"M143.5205,-219.2857C156.6248,-221.1327 172.6268,-223.3882 186.8659,-225.3951\"/>\n",
       "<polygon fill=\"#000000\" stroke=\"#000000\" points=\"186.4654,-228.8732 196.856,-226.8032 187.4424,-221.9417 186.4654,-228.8732\"/>\n",
       "<text text-anchor=\"middle\" x=\"161.6932\" y=\"-225.1404\" font-family=\"Times,serif\" font-size=\"14.00\" fill=\"#000000\">2</text>\n",
       "</g>\n",
       "<!-- 4&#45;&gt;6 -->\n",
       "<g id=\"edge8\" class=\"edge\">\n",
       "<title>4&#45;&gt;6</title>\n",
       "<path fill=\"none\" stroke=\"#000000\" d=\"M130.4366,-199.5595C142.1828,-185.7114 159.3415,-165.4824 172.6684,-149.771\"/>\n",
       "<polygon fill=\"#000000\" stroke=\"#000000\" points=\"175.4397,-151.9145 179.2392,-142.0244 170.1014,-147.3865 175.4397,-151.9145\"/>\n",
       "<text text-anchor=\"middle\" x=\"148.0525\" y=\"-177.4652\" font-family=\"Times,serif\" font-size=\"14.00\" fill=\"#000000\">8</text>\n",
       "</g>\n",
       "<!-- 5&#45;&gt;6 -->\n",
       "<g id=\"edge3\" class=\"edge\">\n",
       "<title>5&#45;&gt;6</title>\n",
       "<path fill=\"none\" stroke=\"#000000\" d=\"M218.2853,-212.856C213.499,-196.6623 206.343,-172.4508 200.8102,-153.7311\"/>\n",
       "<polygon fill=\"#000000\" stroke=\"#000000\" points=\"204.1197,-152.58 197.9288,-143.9821 197.4068,-154.5641 204.1197,-152.58\"/>\n",
       "<text text-anchor=\"middle\" x=\"206.0477\" y=\"-186.0936\" font-family=\"Times,serif\" font-size=\"14.00\" fill=\"#000000\">3</text>\n",
       "</g>\n",
       "<!-- 6&#45;&gt;3 -->\n",
       "<g id=\"edge4\" class=\"edge\">\n",
       "<title>6&#45;&gt;3</title>\n",
       "<path fill=\"none\" stroke=\"#ff0000\" d=\"M194.6889,-107.8372C196.5465,-90.9492 199.3293,-65.6489 201.469,-46.1966\"/>\n",
       "<polygon fill=\"#ff0000\" stroke=\"#ff0000\" points=\"204.9671,-46.4047 202.5815,-36.0819 198.009,-45.6393 204.9671,-46.4047\"/>\n",
       "<text text-anchor=\"middle\" x=\"194.5789\" y=\"-79.8169\" font-family=\"Times,serif\" font-size=\"14.00\" fill=\"#ff0000\">4</text>\n",
       "</g>\n",
       "</g>\n",
       "</svg>\n"
      ],
      "text/plain": [
       "DiGraph(DiNode[DiNode(1,Dict{Symbol,Any}()),DiNode(2,Dict{Symbol,Any}()),DiNode(3,Dict{Symbol,Any}()),DiNode(4,Dict{Symbol,Any}()),DiNode(5,Dict{Symbol,Any}()),DiNode(6,Dict{Symbol,Any}())],DiEdge[DiEdge(1=>4,Dict{Symbol,Any}(Pair{Symbol,Any}(:label,1),Pair{Symbol,Any}(:len,1.5))),DiEdge(4=>5,Dict{Symbol,Any}(Pair{Symbol,Any}(:label,2),Pair{Symbol,Any}(:len,1.5))),DiEdge(5=>6,Dict{Symbol,Any}(Pair{Symbol,Any}(:label,3),Pair{Symbol,Any}(:len,1.5))),DiEdge(6=>3,Dict{Symbol,Any}(Pair{Symbol,Any}(:label,4),Pair{Symbol,Any}(:len,1.5),Pair{Symbol,Any}(:color,\"red\"),Pair{Symbol,Any}(:fontcolor,\"red\"))),DiEdge(3=>2,Dict{Symbol,Any}(Pair{Symbol,Any}(:label,5),Pair{Symbol,Any}(:len,1.5),Pair{Symbol,Any}(:color,\"red\"),Pair{Symbol,Any}(:fontcolor,\"red\"))),DiEdge(2=>1,Dict{Symbol,Any}(Pair{Symbol,Any}(:label,6),Pair{Symbol,Any}(:len,1.5))),DiEdge(2=>6,Dict{Symbol,Any}(Pair{Symbol,Any}(:label,7),Pair{Symbol,Any}(:len,1.5),Pair{Symbol,Any}(:color,\"red\"),Pair{Symbol,Any}(:fontcolor,\"red\"))),DiEdge(4=>6,Dict{Symbol,Any}(Pair{Symbol,Any}(:label,8),Pair{Symbol,Any}(:len,1.5)))],Dict{Symbol,Any}())"
      ]
     },
     "execution_count": 19,
     "metadata": {
      "comm_id": "2bb22e44-f655-44a5-9537-b943d7f79e51",
      "reactive": true
     },
     "output_type": "execute_result"
    }
   ],
   "source": [
    "animloops(g)"
   ]
  },
  {
   "cell_type": "markdown",
   "metadata": {},
   "source": [
    "These three loops are **not the only loops** in the graph, but the **other loops can be made from combinations of these loops**.  (Similarly, the columns of $N$ are not the *whole* left nullspace, they are just a **basis** for the n nullspace.\n",
    "\n",
    "For example, the loop between nodes 1-4-6-2 can be made by starting with 1-4-5-6-3-2 and \"subtracting\" the 6-3-2 loop.\n",
    "\n",
    "In this sense, a basis for the left nullspace of $A$ is a \"basis\" for the other loops in the graph: we say that they are \"primitive\" loops."
   ]
  },
  {
   "cell_type": "code",
   "execution_count": 20,
   "metadata": {
    "collapsed": false
   },
   "outputs": [
    {
     "data": {
      "image/svg+xml": [
       "<?xml version=\"1.0\" encoding=\"UTF-8\" standalone=\"no\"?>\n",
       "<!DOCTYPE svg PUBLIC \"-//W3C//DTD SVG 1.1//EN\"\n",
       " \"http://www.w3.org/Graphics/SVG/1.1/DTD/svg11.dtd\">\n",
       "<!-- Generated by graphviz version 2.40.1 (20161225.0304)\n",
       " -->\n",
       "<!-- Title: MyDiGraph Pages: 1 -->\n",
       "<svg width=\"259pt\" height=\"257pt\"\n",
       " viewBox=\"0.00 0.00 258.52 256.56\" xmlns=\"http://www.w3.org/2000/svg\" xmlns:xlink=\"http://www.w3.org/1999/xlink\">\n",
       "<g id=\"graph0\" class=\"graph\" transform=\"scale(1 1) rotate(0) translate(4 252.5612)\">\n",
       "<title>MyDiGraph</title>\n",
       "<polygon fill=\"#ffffff\" stroke=\"transparent\" points=\"-4,4 -4,-252.5612 254.5182,-252.5612 254.5182,4 -4,4\"/>\n",
       "<!-- 1 -->\n",
       "<g id=\"node1\" class=\"node\">\n",
       "<title>1</title>\n",
       "<ellipse fill=\"none\" stroke=\"#000000\" cx=\"27\" cy=\"-140.9451\" rx=\"27\" ry=\"18\"/>\n",
       "<text text-anchor=\"middle\" x=\"27\" y=\"-136.7451\" font-family=\"Times,serif\" font-size=\"14.00\" fill=\"#000000\">1</text>\n",
       "</g>\n",
       "<!-- 4 -->\n",
       "<g id=\"node4\" class=\"node\">\n",
       "<title>4</title>\n",
       "<ellipse fill=\"none\" stroke=\"#000000\" cx=\"116.8883\" cy=\"-215.532\" rx=\"27\" ry=\"18\"/>\n",
       "<text text-anchor=\"middle\" x=\"116.8883\" y=\"-211.332\" font-family=\"Times,serif\" font-size=\"14.00\" fill=\"#000000\">4</text>\n",
       "</g>\n",
       "<!-- 1&#45;&gt;4 -->\n",
       "<g id=\"edge1\" class=\"edge\">\n",
       "<title>1&#45;&gt;4</title>\n",
       "<path fill=\"none\" stroke=\"#ff0000\" d=\"M44.3314,-155.3262C57.8476,-166.5416 76.8036,-182.2708 91.9506,-194.8393\"/>\n",
       "<polygon fill=\"#ff0000\" stroke=\"#ff0000\" points=\"89.9843,-197.7558 99.915,-201.448 94.4543,-192.3688 89.9843,-197.7558\"/>\n",
       "<text text-anchor=\"middle\" x=\"64.641\" y=\"-177.8828\" font-family=\"Times,serif\" font-size=\"14.00\" fill=\"#ff0000\">1</text>\n",
       "</g>\n",
       "<!-- 2 -->\n",
       "<g id=\"node2\" class=\"node\">\n",
       "<title>2</title>\n",
       "<ellipse fill=\"none\" stroke=\"#000000\" cx=\"102.2914\" cy=\"-51.6524\" rx=\"27\" ry=\"18\"/>\n",
       "<text text-anchor=\"middle\" x=\"102.2914\" y=\"-47.4524\" font-family=\"Times,serif\" font-size=\"14.00\" fill=\"#000000\">2</text>\n",
       "</g>\n",
       "<!-- 2&#45;&gt;1 -->\n",
       "<g id=\"edge6\" class=\"edge\">\n",
       "<title>2&#45;&gt;1</title>\n",
       "<path fill=\"none\" stroke=\"#ff0000\" d=\"M88.8308,-67.6162C77.1606,-81.4566 60.1129,-101.6744 46.8723,-117.3772\"/>\n",
       "<polygon fill=\"#ff0000\" stroke=\"#ff0000\" points=\"44.1146,-115.2183 40.3441,-125.1195 49.4661,-119.7307 44.1146,-115.2183\"/>\n",
       "<text text-anchor=\"middle\" x=\"64.3516\" y=\"-95.2967\" font-family=\"Times,serif\" font-size=\"14.00\" fill=\"#ff0000\">6</text>\n",
       "</g>\n",
       "<!-- 6 -->\n",
       "<g id=\"node6\" class=\"node\">\n",
       "<title>6</title>\n",
       "<ellipse fill=\"none\" stroke=\"#000000\" cx=\"192.6702\" cy=\"-126.1901\" rx=\"27\" ry=\"18\"/>\n",
       "<text text-anchor=\"middle\" x=\"192.6702\" y=\"-121.9901\" font-family=\"Times,serif\" font-size=\"14.00\" fill=\"#000000\">6</text>\n",
       "</g>\n",
       "<!-- 2&#45;&gt;6 -->\n",
       "<g id=\"edge7\" class=\"edge\">\n",
       "<title>2&#45;&gt;6</title>\n",
       "<path fill=\"none\" stroke=\"#0000ff\" d=\"M119.2909,-65.6724C132.8382,-76.8452 152.0133,-92.6594 167.3645,-105.3199\"/>\n",
       "<polygon fill=\"#0000ff\" stroke=\"#0000ff\" points=\"165.4978,-108.3172 175.4396,-111.9796 169.9517,-102.9168 165.4978,-108.3172\"/>\n",
       "<text text-anchor=\"middle\" x=\"139.8277\" y=\"-88.2962\" font-family=\"Times,serif\" font-size=\"14.00\" fill=\"#0000ff\">7</text>\n",
       "</g>\n",
       "<!-- 3 -->\n",
       "<g id=\"node3\" class=\"node\">\n",
       "<title>3</title>\n",
       "<ellipse fill=\"none\" stroke=\"#000000\" cx=\"204.5704\" cy=\"-18\" rx=\"27\" ry=\"18\"/>\n",
       "<text text-anchor=\"middle\" x=\"204.5704\" y=\"-13.8\" font-family=\"Times,serif\" font-size=\"14.00\" fill=\"#000000\">3</text>\n",
       "</g>\n",
       "<!-- 3&#45;&gt;2 -->\n",
       "<g id=\"edge5\" class=\"edge\">\n",
       "<title>3&#45;&gt;2</title>\n",
       "<path fill=\"none\" stroke=\"#000000\" d=\"M180.3317,-25.9752C167.1806,-30.3022 150.7115,-35.721 136.2962,-40.464\"/>\n",
       "<polygon fill=\"#000000\" stroke=\"#000000\" points=\"135.1157,-37.1677 126.7105,-43.6179 137.3035,-43.8171 135.1157,-37.1677\"/>\n",
       "<text text-anchor=\"middle\" x=\"154.814\" y=\"-36.0196\" font-family=\"Times,serif\" font-size=\"14.00\" fill=\"#000000\">5</text>\n",
       "</g>\n",
       "<!-- 5 -->\n",
       "<g id=\"node5\" class=\"node\">\n",
       "<title>5</title>\n",
       "<ellipse fill=\"none\" stroke=\"#000000\" cx=\"223.5182\" cy=\"-230.5612\" rx=\"27\" ry=\"18\"/>\n",
       "<text text-anchor=\"middle\" x=\"223.5182\" y=\"-226.3612\" font-family=\"Times,serif\" font-size=\"14.00\" fill=\"#000000\">5</text>\n",
       "</g>\n",
       "<!-- 4&#45;&gt;5 -->\n",
       "<g id=\"edge2\" class=\"edge\">\n",
       "<title>4&#45;&gt;5</title>\n",
       "<path fill=\"none\" stroke=\"#ff0000\" d=\"M143.5205,-219.2857C156.6248,-221.1327 172.6268,-223.3882 186.8659,-225.3951\"/>\n",
       "<polygon fill=\"#ff0000\" stroke=\"#ff0000\" points=\"186.4654,-228.8732 196.856,-226.8032 187.4424,-221.9417 186.4654,-228.8732\"/>\n",
       "<text text-anchor=\"middle\" x=\"161.6932\" y=\"-225.1404\" font-family=\"Times,serif\" font-size=\"14.00\" fill=\"#ff0000\">2</text>\n",
       "</g>\n",
       "<!-- 4&#45;&gt;6 -->\n",
       "<g id=\"edge8\" class=\"edge\">\n",
       "<title>4&#45;&gt;6</title>\n",
       "<path fill=\"none\" stroke=\"#000000\" d=\"M130.4366,-199.5595C142.1828,-185.7114 159.3415,-165.4824 172.6684,-149.771\"/>\n",
       "<polygon fill=\"#000000\" stroke=\"#000000\" points=\"175.4397,-151.9145 179.2392,-142.0244 170.1014,-147.3865 175.4397,-151.9145\"/>\n",
       "<text text-anchor=\"middle\" x=\"148.0525\" y=\"-177.4652\" font-family=\"Times,serif\" font-size=\"14.00\" fill=\"#000000\">8</text>\n",
       "</g>\n",
       "<!-- 5&#45;&gt;6 -->\n",
       "<g id=\"edge3\" class=\"edge\">\n",
       "<title>5&#45;&gt;6</title>\n",
       "<path fill=\"none\" stroke=\"#ff0000\" d=\"M218.2853,-212.856C213.499,-196.6623 206.343,-172.4508 200.8102,-153.7311\"/>\n",
       "<polygon fill=\"#ff0000\" stroke=\"#ff0000\" points=\"204.1197,-152.58 197.9288,-143.9821 197.4068,-154.5641 204.1197,-152.58\"/>\n",
       "<text text-anchor=\"middle\" x=\"206.0477\" y=\"-186.0936\" font-family=\"Times,serif\" font-size=\"14.00\" fill=\"#ff0000\">3</text>\n",
       "</g>\n",
       "<!-- 6&#45;&gt;3 -->\n",
       "<g id=\"edge4\" class=\"edge\">\n",
       "<title>6&#45;&gt;3</title>\n",
       "<path fill=\"none\" stroke=\"#000000\" d=\"M194.6889,-107.8372C196.5465,-90.9492 199.3293,-65.6489 201.469,-46.1966\"/>\n",
       "<polygon fill=\"#000000\" stroke=\"#000000\" points=\"204.9671,-46.4047 202.5815,-36.0819 198.009,-45.6393 204.9671,-46.4047\"/>\n",
       "<text text-anchor=\"middle\" x=\"194.5789\" y=\"-79.8169\" font-family=\"Times,serif\" font-size=\"14.00\" fill=\"#000000\">4</text>\n",
       "</g>\n",
       "</g>\n",
       "</svg>\n"
      ],
      "text/plain": [
       "DiGraph(DiNode[DiNode(1,Dict{Symbol,Any}()),DiNode(2,Dict{Symbol,Any}()),DiNode(3,Dict{Symbol,Any}()),DiNode(4,Dict{Symbol,Any}()),DiNode(5,Dict{Symbol,Any}()),DiNode(6,Dict{Symbol,Any}())],DiEdge[DiEdge(1=>4,Dict{Symbol,Any}(Pair{Symbol,Any}(:label,1),Pair{Symbol,Any}(:len,1.5),Pair{Symbol,Any}(:color,\"red\"),Pair{Symbol,Any}(:fontcolor,\"red\"))),DiEdge(4=>5,Dict{Symbol,Any}(Pair{Symbol,Any}(:label,2),Pair{Symbol,Any}(:len,1.5),Pair{Symbol,Any}(:color,\"red\"),Pair{Symbol,Any}(:fontcolor,\"red\"))),DiEdge(5=>6,Dict{Symbol,Any}(Pair{Symbol,Any}(:label,3),Pair{Symbol,Any}(:len,1.5),Pair{Symbol,Any}(:color,\"red\"),Pair{Symbol,Any}(:fontcolor,\"red\"))),DiEdge(6=>3,Dict{Symbol,Any}(Pair{Symbol,Any}(:label,4),Pair{Symbol,Any}(:len,1.5))),DiEdge(3=>2,Dict{Symbol,Any}(Pair{Symbol,Any}(:label,5),Pair{Symbol,Any}(:len,1.5))),DiEdge(2=>1,Dict{Symbol,Any}(Pair{Symbol,Any}(:label,6),Pair{Symbol,Any}(:len,1.5),Pair{Symbol,Any}(:color,\"red\"),Pair{Symbol,Any}(:fontcolor,\"red\"))),DiEdge(2=>6,Dict{Symbol,Any}(Pair{Symbol,Any}(:label,7),Pair{Symbol,Any}(:len,1.5),Pair{Symbol,Any}(:color,\"blue\"),Pair{Symbol,Any}(:fontcolor,\"blue\"))),DiEdge(4=>6,Dict{Symbol,Any}(Pair{Symbol,Any}(:label,8),Pair{Symbol,Any}(:len,1.5)))],Dict{Symbol,Any}())"
      ]
     },
     "execution_count": 20,
     "metadata": {},
     "output_type": "execute_result"
    }
   ],
   "source": [
    "colorloop(g, N[:,1] - N[:,2]) # subtract two loops to make another loop"
   ]
  },
  {
   "cell_type": "markdown",
   "metadata": {},
   "source": [
    "It is fun to do the same thing for bigger graphs, chosen at random:"
   ]
  },
  {
   "cell_type": "code",
   "execution_count": 21,
   "metadata": {
    "collapsed": false
   },
   "outputs": [
    {
     "data": {
      "text/html": [],
      "text/plain": [
       "Interact.Options{:SelectionSlider,Int64}(Signal{Int64}(5, nactions=1),\"loop\",5,\"5\",Interact.OptionDict(DataStructures.OrderedDict(\"1\"=>1,\"2\"=>2,\"3\"=>3,\"4\"=>4,\"5\"=>5,\"6\"=>6,\"7\"=>7,\"8\"=>8,\"9\"=>9),Dict(7=>\"7\",4=>\"4\",9=>\"9\",2=>\"2\",3=>\"3\",5=>\"5\",8=>\"8\",6=>\"6\",1=>\"1\")),Any[],Any[],true,\"horizontal\")"
      ]
     },
     "metadata": {},
     "output_type": "display_data"
    },
    {
     "data": {
      "image/svg+xml": [
       "<?xml version=\"1.0\" encoding=\"UTF-8\" standalone=\"no\"?>\n",
       "<!DOCTYPE svg PUBLIC \"-//W3C//DTD SVG 1.1//EN\"\n",
       " \"http://www.w3.org/Graphics/SVG/1.1/DTD/svg11.dtd\">\n",
       "<!-- Generated by graphviz version 2.40.1 (20161225.0304)\n",
       " -->\n",
       "<!-- Title: MyDiGraph Pages: 1 -->\n",
       "<svg width=\"527pt\" height=\"580pt\"\n",
       " viewBox=\"0.00 0.00 526.83 579.99\" xmlns=\"http://www.w3.org/2000/svg\" xmlns:xlink=\"http://www.w3.org/1999/xlink\">\n",
       "<g id=\"graph0\" class=\"graph\" transform=\"scale(1 1) rotate(0) translate(4 575.9898)\">\n",
       "<title>MyDiGraph</title>\n",
       "<polygon fill=\"#ffffff\" stroke=\"transparent\" points=\"-4,4 -4,-575.9898 522.8292,-575.9898 522.8292,4 -4,4\"/>\n",
       "<!-- 1 -->\n",
       "<g id=\"node1\" class=\"node\">\n",
       "<title>1</title>\n",
       "<ellipse fill=\"none\" stroke=\"#000000\" cx=\"27\" cy=\"-204.6906\" rx=\"27\" ry=\"18\"/>\n",
       "<text text-anchor=\"middle\" x=\"27\" y=\"-200.4906\" font-family=\"Times,serif\" font-size=\"14.00\" fill=\"#000000\">1</text>\n",
       "</g>\n",
       "<!-- 6 -->\n",
       "<g id=\"node6\" class=\"node\">\n",
       "<title>6</title>\n",
       "<ellipse fill=\"none\" stroke=\"#000000\" cx=\"130.9869\" cy=\"-274.2427\" rx=\"27\" ry=\"18\"/>\n",
       "<text text-anchor=\"middle\" x=\"130.9869\" y=\"-270.0427\" font-family=\"Times,serif\" font-size=\"14.00\" fill=\"#000000\">6</text>\n",
       "</g>\n",
       "<!-- 1&#45;&gt;6 -->\n",
       "<g id=\"edge1\" class=\"edge\">\n",
       "<title>1&#45;&gt;6</title>\n",
       "<path fill=\"none\" stroke=\"#000000\" d=\"M46.0728,-217.4475C62.0961,-228.1648 85.2058,-243.6218 103.2722,-255.7056\"/>\n",
       "<polygon fill=\"#000000\" stroke=\"#000000\" points=\"101.4249,-258.6807 111.6829,-261.3311 105.3166,-252.8622 101.4249,-258.6807\"/>\n",
       "<text text-anchor=\"middle\" x=\"71.1725\" y=\"-239.3766\" font-family=\"Times,serif\" font-size=\"14.00\" fill=\"#000000\">1</text>\n",
       "</g>\n",
       "<!-- 2 -->\n",
       "<g id=\"node2\" class=\"node\">\n",
       "<title>2</title>\n",
       "<ellipse fill=\"none\" stroke=\"#000000\" cx=\"219.6793\" cy=\"-115.4037\" rx=\"27\" ry=\"18\"/>\n",
       "<text text-anchor=\"middle\" x=\"219.6793\" y=\"-111.2037\" font-family=\"Times,serif\" font-size=\"14.00\" fill=\"#000000\">2</text>\n",
       "</g>\n",
       "<!-- 11 -->\n",
       "<g id=\"node11\" class=\"node\">\n",
       "<title>11</title>\n",
       "<ellipse fill=\"none\" stroke=\"#000000\" cx=\"180.5547\" cy=\"-182.8313\" rx=\"27\" ry=\"18\"/>\n",
       "<text text-anchor=\"middle\" x=\"180.5547\" y=\"-178.6313\" font-family=\"Times,serif\" font-size=\"14.00\" fill=\"#000000\">11</text>\n",
       "</g>\n",
       "<!-- 2&#45;&gt;11 -->\n",
       "<g id=\"edge2\" class=\"edge\">\n",
       "<title>2&#45;&gt;11</title>\n",
       "<path fill=\"none\" stroke=\"#000000\" d=\"M209.8065,-132.4185C205.5301,-139.7884 200.4273,-148.5826 195.6901,-156.7469\"/>\n",
       "<polygon fill=\"#000000\" stroke=\"#000000\" points=\"192.5519,-155.1814 190.5604,-165.5874 198.6065,-158.6946 192.5519,-155.1814\"/>\n",
       "<text text-anchor=\"middle\" x=\"199.2483\" y=\"-147.3827\" font-family=\"Times,serif\" font-size=\"14.00\" fill=\"#000000\">2</text>\n",
       "</g>\n",
       "<!-- 12 -->\n",
       "<g id=\"node12\" class=\"node\">\n",
       "<title>12</title>\n",
       "<ellipse fill=\"none\" stroke=\"#000000\" cx=\"100.8845\" cy=\"-161.4388\" rx=\"27\" ry=\"18\"/>\n",
       "<text text-anchor=\"middle\" x=\"100.8845\" y=\"-157.2388\" font-family=\"Times,serif\" font-size=\"14.00\" fill=\"#000000\">12</text>\n",
       "</g>\n",
       "<!-- 2&#45;&gt;12 -->\n",
       "<g id=\"edge3\" class=\"edge\">\n",
       "<title>2&#45;&gt;12</title>\n",
       "<path fill=\"none\" stroke=\"#000000\" d=\"M196.2093,-124.4988C178.393,-131.4029 153.6688,-140.9839 133.8649,-148.6583\"/>\n",
       "<polygon fill=\"#000000\" stroke=\"#000000\" points=\"132.3654,-145.4857 124.3057,-152.3627 134.8948,-152.0128 132.3654,-145.4857\"/>\n",
       "<text text-anchor=\"middle\" x=\"161.5371\" y=\"-139.3785\" font-family=\"Times,serif\" font-size=\"14.00\" fill=\"#000000\">3</text>\n",
       "</g>\n",
       "<!-- 3 -->\n",
       "<g id=\"node3\" class=\"node\">\n",
       "<title>3</title>\n",
       "<ellipse fill=\"none\" stroke=\"#000000\" cx=\"263.7108\" cy=\"-244.6264\" rx=\"27\" ry=\"18\"/>\n",
       "<text text-anchor=\"middle\" x=\"263.7108\" y=\"-240.4264\" font-family=\"Times,serif\" font-size=\"14.00\" fill=\"#000000\">3</text>\n",
       "</g>\n",
       "<!-- 3&#45;&gt;2 -->\n",
       "<g id=\"edge4\" class=\"edge\">\n",
       "<title>3&#45;&gt;2</title>\n",
       "<path fill=\"none\" stroke=\"#000000\" d=\"M257.6808,-226.9294C250.3112,-205.3016 237.7569,-168.4574 229.107,-143.0719\"/>\n",
       "<polygon fill=\"#000000\" stroke=\"#000000\" points=\"232.3162,-141.6383 225.7778,-133.3016 225.6903,-143.896 232.3162,-141.6383\"/>\n",
       "<text text-anchor=\"middle\" x=\"239.8939\" y=\"-187.8007\" font-family=\"Times,serif\" font-size=\"14.00\" fill=\"#000000\">4</text>\n",
       "</g>\n",
       "<!-- 3&#45;&gt;6 -->\n",
       "<g id=\"edge5\" class=\"edge\">\n",
       "<title>3&#45;&gt;6</title>\n",
       "<path fill=\"none\" stroke=\"#000000\" d=\"M236.6116,-245.0576C215.3469,-248.2493 185.6923,-254.7049 163.2126,-260.9513\"/>\n",
       "<polygon fill=\"#000000\" stroke=\"#000000\" points=\"162.0684,-257.639 153.4448,-263.7941 164.0245,-264.3602 162.0684,-257.639\"/>\n",
       "<text text-anchor=\"middle\" x=\"196.4121\" y=\"-241.8045\" font-family=\"Times,serif\" font-size=\"14.00\" fill=\"#000000\">5</text>\n",
       "</g>\n",
       "<!-- 4 -->\n",
       "<g id=\"node4\" class=\"node\">\n",
       "<title>4</title>\n",
       "<ellipse fill=\"none\" stroke=\"#000000\" cx=\"302.6826\" cy=\"-489.4894\" rx=\"27\" ry=\"18\"/>\n",
       "<text text-anchor=\"middle\" x=\"302.6826\" y=\"-485.2894\" font-family=\"Times,serif\" font-size=\"14.00\" fill=\"#000000\">4</text>\n",
       "</g>\n",
       "<!-- 15 -->\n",
       "<g id=\"node15\" class=\"node\">\n",
       "<title>15</title>\n",
       "<ellipse fill=\"none\" stroke=\"#000000\" cx=\"403.9415\" cy=\"-553.9898\" rx=\"27\" ry=\"18\"/>\n",
       "<text text-anchor=\"middle\" x=\"403.9415\" y=\"-549.7898\" font-family=\"Times,serif\" font-size=\"14.00\" fill=\"#000000\">15</text>\n",
       "</g>\n",
       "<!-- 4&#45;&gt;15 -->\n",
       "<g id=\"edge6\" class=\"edge\">\n",
       "<title>4&#45;&gt;15</title>\n",
       "<path fill=\"none\" stroke=\"#000000\" d=\"M322.2063,-501.9258C337.3775,-511.5896 358.6326,-525.1288 375.6649,-535.9781\"/>\n",
       "<polygon fill=\"#000000\" stroke=\"#000000\" points=\"373.8175,-538.9511 384.1322,-541.3716 377.5783,-533.0471 373.8175,-538.9511\"/>\n",
       "<text text-anchor=\"middle\" x=\"345.4356\" y=\"-521.7519\" font-family=\"Times,serif\" font-size=\"14.00\" fill=\"#000000\">6</text>\n",
       "</g>\n",
       "<!-- 5 -->\n",
       "<g id=\"node5\" class=\"node\">\n",
       "<title>5</title>\n",
       "<ellipse fill=\"none\" stroke=\"#000000\" cx=\"182.7277\" cy=\"-501.375\" rx=\"27\" ry=\"18\"/>\n",
       "<text text-anchor=\"middle\" x=\"182.7277\" y=\"-497.175\" font-family=\"Times,serif\" font-size=\"14.00\" fill=\"#000000\">5</text>\n",
       "</g>\n",
       "<!-- 5&#45;&gt;4 -->\n",
       "<g id=\"edge7\" class=\"edge\">\n",
       "<title>5&#45;&gt;4</title>\n",
       "<path fill=\"none\" stroke=\"#0000ff\" d=\"M209.6479,-498.7077C226.2395,-497.0637 247.7393,-494.9334 265.8906,-493.1349\"/>\n",
       "<polygon fill=\"#0000ff\" stroke=\"#0000ff\" points=\"266.2461,-496.6169 275.8522,-492.1479 265.5558,-489.651 266.2461,-496.6169\"/>\n",
       "<text text-anchor=\"middle\" x=\"234.2692\" y=\"-498.7213\" font-family=\"Times,serif\" font-size=\"14.00\" fill=\"#0000ff\">7</text>\n",
       "</g>\n",
       "<!-- 7 -->\n",
       "<g id=\"node7\" class=\"node\">\n",
       "<title>7</title>\n",
       "<ellipse fill=\"none\" stroke=\"#000000\" cx=\"180.0831\" cy=\"-383.5445\" rx=\"27\" ry=\"18\"/>\n",
       "<text text-anchor=\"middle\" x=\"180.0831\" y=\"-379.3445\" font-family=\"Times,serif\" font-size=\"14.00\" fill=\"#000000\">7</text>\n",
       "</g>\n",
       "<!-- 5&#45;&gt;7 -->\n",
       "<g id=\"edge8\" class=\"edge\">\n",
       "<title>5&#45;&gt;7</title>\n",
       "<path fill=\"none\" stroke=\"#ff0000\" d=\"M182.3203,-483.2222C181.8944,-464.249 181.2203,-434.2129 180.7232,-412.0669\"/>\n",
       "<polygon fill=\"#ff0000\" stroke=\"#ff0000\" points=\"184.2189,-411.831 180.4953,-401.9121 177.2207,-411.9881 184.2189,-411.831\"/>\n",
       "<text text-anchor=\"middle\" x=\"178.0217\" y=\"-450.4446\" font-family=\"Times,serif\" font-size=\"14.00\" fill=\"#ff0000\">8</text>\n",
       "</g>\n",
       "<!-- 6&#45;&gt;3 -->\n",
       "<g id=\"edge9\" class=\"edge\">\n",
       "<title>6&#45;&gt;3</title>\n",
       "<path fill=\"none\" stroke=\"#000000\" d=\"M158.0862,-273.8115C179.3509,-270.6198 209.0055,-264.1641 231.4852,-257.9177\"/>\n",
       "<polygon fill=\"#000000\" stroke=\"#000000\" points=\"232.6294,-261.23 241.2529,-255.0749 230.6732,-254.5089 232.6294,-261.23\"/>\n",
       "<text text-anchor=\"middle\" x=\"191.2857\" y=\"-268.6646\" font-family=\"Times,serif\" font-size=\"14.00\" fill=\"#000000\">9</text>\n",
       "</g>\n",
       "<!-- 6&#45;&gt;7 -->\n",
       "<g id=\"edge10\" class=\"edge\">\n",
       "<title>6&#45;&gt;7</title>\n",
       "<path fill=\"none\" stroke=\"#000000\" d=\"M138.8751,-291.8039C146.7486,-309.3325 158.9514,-336.4995 168.0372,-356.7271\"/>\n",
       "<polygon fill=\"#000000\" stroke=\"#000000\" points=\"164.9243,-358.339 172.2145,-366.0269 171.3097,-355.4707 164.9243,-358.339\"/>\n",
       "<text text-anchor=\"middle\" x=\"146.4562\" y=\"-327.0655\" font-family=\"Times,serif\" font-size=\"14.00\" fill=\"#000000\">10</text>\n",
       "</g>\n",
       "<!-- 6&#45;&gt;12 -->\n",
       "<g id=\"edge11\" class=\"edge\">\n",
       "<title>6&#45;&gt;12</title>\n",
       "<path fill=\"none\" stroke=\"#000000\" d=\"M126.2171,-256.3686C121.3952,-238.2991 113.8764,-210.1239 108.281,-189.1561\"/>\n",
       "<polygon fill=\"#000000\" stroke=\"#000000\" points=\"111.5921,-187.9887 105.632,-179.2293 104.8287,-189.7936 111.5921,-187.9887\"/>\n",
       "<text text-anchor=\"middle\" x=\"110.5054\" y=\"-225.5623\" font-family=\"Times,serif\" font-size=\"14.00\" fill=\"#000000\">11</text>\n",
       "</g>\n",
       "<!-- 9 -->\n",
       "<g id=\"node9\" class=\"node\">\n",
       "<title>9</title>\n",
       "<ellipse fill=\"none\" stroke=\"#000000\" cx=\"308.6674\" cy=\"-362.1734\" rx=\"27\" ry=\"18\"/>\n",
       "<text text-anchor=\"middle\" x=\"308.6674\" y=\"-357.9734\" font-family=\"Times,serif\" font-size=\"14.00\" fill=\"#000000\">9</text>\n",
       "</g>\n",
       "<!-- 7&#45;&gt;9 -->\n",
       "<g id=\"edge12\" class=\"edge\">\n",
       "<title>7&#45;&gt;9</title>\n",
       "<path fill=\"none\" stroke=\"#ff0000\" d=\"M206.4143,-379.1682C225.3966,-376.0133 251.2573,-371.7152 272.2217,-368.2308\"/>\n",
       "<polygon fill=\"#ff0000\" stroke=\"#ff0000\" points=\"273.0805,-371.6362 282.3714,-366.5439 271.9328,-364.7309 273.0805,-371.6362\"/>\n",
       "<text text-anchor=\"middle\" x=\"232.318\" y=\"-376.4995\" font-family=\"Times,serif\" font-size=\"14.00\" fill=\"#ff0000\">12</text>\n",
       "</g>\n",
       "<!-- 8 -->\n",
       "<g id=\"node8\" class=\"node\">\n",
       "<title>8</title>\n",
       "<ellipse fill=\"none\" stroke=\"#000000\" cx=\"89.863\" cy=\"-80.5896\" rx=\"27\" ry=\"18\"/>\n",
       "<text text-anchor=\"middle\" x=\"89.863\" y=\"-76.3896\" font-family=\"Times,serif\" font-size=\"14.00\" fill=\"#000000\">8</text>\n",
       "</g>\n",
       "<!-- 8&#45;&gt;1 -->\n",
       "<g id=\"edge13\" class=\"edge\">\n",
       "<title>8&#45;&gt;1</title>\n",
       "<path fill=\"none\" stroke=\"#000000\" d=\"M81.1222,-97.8453C70.5195,-118.7767 52.5407,-154.2694 40.2362,-178.5605\"/>\n",
       "<polygon fill=\"#000000\" stroke=\"#000000\" points=\"37.0632,-177.0791 35.6666,-187.5815 43.3077,-180.2423 37.0632,-177.0791\"/>\n",
       "<text text-anchor=\"middle\" x=\"53.6792\" y=\"-141.0029\" font-family=\"Times,serif\" font-size=\"14.00\" fill=\"#000000\">13</text>\n",
       "</g>\n",
       "<!-- 8&#45;&gt;2 -->\n",
       "<g id=\"edge14\" class=\"edge\">\n",
       "<title>8&#45;&gt;2</title>\n",
       "<path fill=\"none\" stroke=\"#000000\" d=\"M115.2011,-87.3848C134.9477,-92.6804 162.5956,-100.095 184.49,-105.9666\"/>\n",
       "<polygon fill=\"#000000\" stroke=\"#000000\" points=\"183.8398,-109.4159 194.4051,-108.6257 185.6531,-102.6548 183.8398,-109.4159\"/>\n",
       "<text text-anchor=\"middle\" x=\"142.8455\" y=\"-99.4757\" font-family=\"Times,serif\" font-size=\"14.00\" fill=\"#000000\">14</text>\n",
       "</g>\n",
       "<!-- 9&#45;&gt;3 -->\n",
       "<g id=\"edge15\" class=\"edge\">\n",
       "<title>9&#45;&gt;3</title>\n",
       "<path fill=\"none\" stroke=\"#000000\" d=\"M301.9369,-344.5755C294.5873,-325.3586 282.7239,-294.3395 274.1612,-271.9507\"/>\n",
       "<polygon fill=\"#000000\" stroke=\"#000000\" points=\"277.3286,-270.4346 270.4873,-262.3446 270.7905,-272.9351 277.3286,-270.4346\"/>\n",
       "<text text-anchor=\"middle\" x=\"281.0491\" y=\"-311.0631\" font-family=\"Times,serif\" font-size=\"14.00\" fill=\"#000000\">15</text>\n",
       "</g>\n",
       "<!-- 9&#45;&gt;4 -->\n",
       "<g id=\"edge16\" class=\"edge\">\n",
       "<title>9&#45;&gt;4</title>\n",
       "<path fill=\"none\" stroke=\"#ff0000\" d=\"M307.8099,-380.4147C306.8189,-401.4976 305.1759,-436.4484 304.0173,-461.0953\"/>\n",
       "<polygon fill=\"#ff0000\" stroke=\"#ff0000\" points=\"300.512,-461.1286 303.5385,-471.282 307.5043,-461.4574 300.512,-461.1286\"/>\n",
       "<text text-anchor=\"middle\" x=\"298.9136\" y=\"-423.555\" font-family=\"Times,serif\" font-size=\"14.00\" fill=\"#ff0000\">16</text>\n",
       "</g>\n",
       "<!-- 10 -->\n",
       "<g id=\"node10\" class=\"node\">\n",
       "<title>10</title>\n",
       "<ellipse fill=\"none\" stroke=\"#000000\" cx=\"433.7073\" cy=\"-371.8237\" rx=\"27\" ry=\"18\"/>\n",
       "<text text-anchor=\"middle\" x=\"433.7073\" y=\"-367.6237\" font-family=\"Times,serif\" font-size=\"14.00\" fill=\"#000000\">10</text>\n",
       "</g>\n",
       "<!-- 10&#45;&gt;9 -->\n",
       "<g id=\"edge17\" class=\"edge\">\n",
       "<title>10&#45;&gt;9</title>\n",
       "<path fill=\"none\" stroke=\"#000000\" d=\"M406.8831,-369.7535C389.1215,-368.3827 365.5795,-366.5658 345.9968,-365.0544\"/>\n",
       "<polygon fill=\"#000000\" stroke=\"#000000\" points=\"346.1184,-361.5535 335.8787,-364.2735 345.5797,-368.5327 346.1184,-361.5535\"/>\n",
       "<text text-anchor=\"middle\" x=\"369.44\" y=\"-370.204\" font-family=\"Times,serif\" font-size=\"14.00\" fill=\"#000000\">17</text>\n",
       "</g>\n",
       "<!-- 11&#45;&gt;6 -->\n",
       "<g id=\"edge18\" class=\"edge\">\n",
       "<title>11&#45;&gt;6</title>\n",
       "<path fill=\"none\" stroke=\"#000000\" d=\"M171.2314,-200.0251C163.8926,-213.5591 153.5425,-232.6464 145.1764,-248.0748\"/>\n",
       "<polygon fill=\"#000000\" stroke=\"#000000\" points=\"141.9585,-246.6668 140.2684,-257.126 148.1121,-250.0036 141.9585,-246.6668\"/>\n",
       "<text text-anchor=\"middle\" x=\"151.2039\" y=\"-226.8499\" font-family=\"Times,serif\" font-size=\"14.00\" fill=\"#000000\">18</text>\n",
       "</g>\n",
       "<!-- 12&#45;&gt;1 -->\n",
       "<g id=\"edge19\" class=\"edge\">\n",
       "<title>12&#45;&gt;1</title>\n",
       "<path fill=\"none\" stroke=\"#000000\" d=\"M80.3035,-173.4869C72.8579,-177.8455 64.3011,-182.8546 56.2536,-187.5656\"/>\n",
       "<polygon fill=\"#000000\" stroke=\"#000000\" points=\"54.3324,-184.6346 47.4706,-192.7072 57.8688,-190.6757 54.3324,-184.6346\"/>\n",
       "<text text-anchor=\"middle\" x=\"61.2786\" y=\"-183.3262\" font-family=\"Times,serif\" font-size=\"14.00\" fill=\"#000000\">19</text>\n",
       "</g>\n",
       "<!-- 12&#45;&gt;8 -->\n",
       "<g id=\"edge20\" class=\"edge\">\n",
       "<title>12&#45;&gt;8</title>\n",
       "<path fill=\"none\" stroke=\"#000000\" d=\"M98.4385,-143.4958C97.0498,-133.3091 95.2804,-120.3297 93.71,-108.8096\"/>\n",
       "<polygon fill=\"#000000\" stroke=\"#000000\" points=\"97.159,-108.1977 92.3403,-98.7621 90.2232,-109.1432 97.159,-108.1977\"/>\n",
       "<text text-anchor=\"middle\" x=\"89.0742\" y=\"-128.9527\" font-family=\"Times,serif\" font-size=\"14.00\" fill=\"#000000\">20</text>\n",
       "</g>\n",
       "<!-- 13 -->\n",
       "<g id=\"node13\" class=\"node\">\n",
       "<title>13</title>\n",
       "<ellipse fill=\"none\" stroke=\"#000000\" cx=\"491.8292\" cy=\"-476.2114\" rx=\"27\" ry=\"18\"/>\n",
       "<text text-anchor=\"middle\" x=\"491.8292\" y=\"-472.0114\" font-family=\"Times,serif\" font-size=\"14.00\" fill=\"#000000\">13</text>\n",
       "</g>\n",
       "<!-- 13&#45;&gt;10 -->\n",
       "<g id=\"edge21\" class=\"edge\">\n",
       "<title>13&#45;&gt;10</title>\n",
       "<path fill=\"none\" stroke=\"#000000\" d=\"M482.2315,-458.9739C472.9215,-442.2529 458.6791,-416.6733 448.0288,-397.5453\"/>\n",
       "<polygon fill=\"#000000\" stroke=\"#000000\" points=\"451.049,-395.7748 443.1264,-388.7404 444.9331,-399.1801 451.049,-395.7748\"/>\n",
       "<text text-anchor=\"middle\" x=\"458.1301\" y=\"-431.0596\" font-family=\"Times,serif\" font-size=\"14.00\" fill=\"#000000\">21</text>\n",
       "</g>\n",
       "<!-- 13&#45;&gt;15 -->\n",
       "<g id=\"edge22\" class=\"edge\">\n",
       "<title>13&#45;&gt;15</title>\n",
       "<path fill=\"none\" stroke=\"#000000\" d=\"M475.2982,-490.8409C462.0404,-502.5737 443.2399,-519.2117 428.2648,-532.4643\"/>\n",
       "<polygon fill=\"#000000\" stroke=\"#000000\" points=\"425.5675,-530.1776 420.3984,-539.4259 430.2066,-535.4196 425.5675,-530.1776\"/>\n",
       "<text text-anchor=\"middle\" x=\"444.7815\" y=\"-514.4526\" font-family=\"Times,serif\" font-size=\"14.00\" fill=\"#000000\">22</text>\n",
       "</g>\n",
       "<!-- 14 -->\n",
       "<g id=\"node14\" class=\"node\">\n",
       "<title>14</title>\n",
       "<ellipse fill=\"none\" stroke=\"#000000\" cx=\"283.271\" cy=\"-18\" rx=\"27\" ry=\"18\"/>\n",
       "<text text-anchor=\"middle\" x=\"283.271\" y=\"-13.8\" font-family=\"Times,serif\" font-size=\"14.00\" fill=\"#000000\">14</text>\n",
       "</g>\n",
       "<!-- 14&#45;&gt;2 -->\n",
       "<g id=\"edge23\" class=\"edge\">\n",
       "<title>14&#45;&gt;2</title>\n",
       "<path fill=\"none\" stroke=\"#000000\" d=\"M272.4836,-34.5232C262.5256,-49.7758 247.5916,-72.6503 236.1436,-90.1852\"/>\n",
       "<polygon fill=\"#000000\" stroke=\"#000000\" points=\"233.0558,-88.5126 230.5197,-98.7994 238.9172,-92.3394 233.0558,-88.5126\"/>\n",
       "<text text-anchor=\"middle\" x=\"247.3136\" y=\"-65.1542\" font-family=\"Times,serif\" font-size=\"14.00\" fill=\"#000000\">23</text>\n",
       "</g>\n",
       "</g>\n",
       "</svg>\n"
      ],
      "text/plain": [
       "DiGraph(DiNode[DiNode(1,Dict{Symbol,Any}()),DiNode(2,Dict{Symbol,Any}()),DiNode(3,Dict{Symbol,Any}()),DiNode(4,Dict{Symbol,Any}()),DiNode(5,Dict{Symbol,Any}()),DiNode(6,Dict{Symbol,Any}()),DiNode(7,Dict{Symbol,Any}()),DiNode(8,Dict{Symbol,Any}()),DiNode(9,Dict{Symbol,Any}()),DiNode(10,Dict{Symbol,Any}()),DiNode(11,Dict{Symbol,Any}()),DiNode(12,Dict{Symbol,Any}()),DiNode(13,Dict{Symbol,Any}()),DiNode(14,Dict{Symbol,Any}()),DiNode(15,Dict{Symbol,Any}())],DiEdge[DiEdge(1=>6,Dict{Symbol,Any}(Pair{Symbol,Any}(:label,1),Pair{Symbol,Any}(:len,1.5))),DiEdge(2=>11,Dict{Symbol,Any}(Pair{Symbol,Any}(:label,2),Pair{Symbol,Any}(:len,1.5))),DiEdge(2=>12,Dict{Symbol,Any}(Pair{Symbol,Any}(:label,3),Pair{Symbol,Any}(:len,1.5))),DiEdge(3=>2,Dict{Symbol,Any}(Pair{Symbol,Any}(:label,4),Pair{Symbol,Any}(:len,1.5))),DiEdge(3=>6,Dict{Symbol,Any}(Pair{Symbol,Any}(:label,5),Pair{Symbol,Any}(:len,1.5))),DiEdge(4=>15,Dict{Symbol,Any}(Pair{Symbol,Any}(:label,6),Pair{Symbol,Any}(:len,1.5))),DiEdge(5=>4,Dict{Symbol,Any}(Pair{Symbol,Any}(:label,7),Pair{Symbol,Any}(:len,1.5),Pair{Symbol,Any}(:color,\"blue\"),Pair{Symbol,Any}(:fontcolor,\"blue\"))),DiEdge(5=>7,Dict{Symbol,Any}(Pair{Symbol,Any}(:label,8),Pair{Symbol,Any}(:len,1.5),Pair{Symbol,Any}(:color,\"red\"),Pair{Symbol,Any}(:fontcolor,\"red\"))),DiEdge(6=>3,Dict{Symbol,Any}(Pair{Symbol,Any}(:label,9),Pair{Symbol,Any}(:len,1.5))),DiEdge(6=>7,Dict{Symbol,Any}(Pair{Symbol,Any}(:label,10),Pair{Symbol,Any}(:len,1.5)))  …  DiEdge(8=>2,Dict{Symbol,Any}(Pair{Symbol,Any}(:label,14),Pair{Symbol,Any}(:len,1.5))),DiEdge(9=>3,Dict{Symbol,Any}(Pair{Symbol,Any}(:label,15),Pair{Symbol,Any}(:len,1.5))),DiEdge(9=>4,Dict{Symbol,Any}(Pair{Symbol,Any}(:label,16),Pair{Symbol,Any}(:len,1.5),Pair{Symbol,Any}(:color,\"red\"),Pair{Symbol,Any}(:fontcolor,\"red\"))),DiEdge(10=>9,Dict{Symbol,Any}(Pair{Symbol,Any}(:label,17),Pair{Symbol,Any}(:len,1.5))),DiEdge(11=>6,Dict{Symbol,Any}(Pair{Symbol,Any}(:label,18),Pair{Symbol,Any}(:len,1.5))),DiEdge(12=>1,Dict{Symbol,Any}(Pair{Symbol,Any}(:label,19),Pair{Symbol,Any}(:len,1.5))),DiEdge(12=>8,Dict{Symbol,Any}(Pair{Symbol,Any}(:label,20),Pair{Symbol,Any}(:len,1.5))),DiEdge(13=>10,Dict{Symbol,Any}(Pair{Symbol,Any}(:label,21),Pair{Symbol,Any}(:len,1.5))),DiEdge(13=>15,Dict{Symbol,Any}(Pair{Symbol,Any}(:label,22),Pair{Symbol,Any}(:len,1.5))),DiEdge(14=>2,Dict{Symbol,Any}(Pair{Symbol,Any}(:label,23),Pair{Symbol,Any}(:len,1.5)))],Dict{Symbol,Any}())"
      ]
     },
     "execution_count": 21,
     "metadata": {
      "comm_id": "dfc12ee4-1e24-4b69-9308-662a369ec3ff",
      "reactive": true
     },
     "output_type": "execute_result"
    }
   ],
   "source": [
    "gbig = edgelen!(randgraph(15, 1.5), 1.5)\n",
    "animloops(gbig)"
   ]
  },
  {
   "cell_type": "markdown",
   "metadata": {},
   "source": [
    "Conversely, the *independent* rows of $A$ (corresponding to the **pivot columns** of the rref form of $A^T$) form a **maximal set of edges with no loops**.  A graph with no loops is called a [tree](https://en.wikipedia.org/wiki/Tree_(graph_theory)), and this particular tree is called a [spanning tree](https://en.wikipedia.org/wiki/Spanning_tree) because it touches all of (\"spans\") the nodes (assuming the graph is connected).\n",
    "\n",
    "Let's color the spanning tree (loop-free edges) of our example graph red:"
   ]
  },
  {
   "cell_type": "code",
   "execution_count": 22,
   "metadata": {
    "collapsed": false
   },
   "outputs": [
    {
     "data": {
      "image/svg+xml": [
       "<?xml version=\"1.0\" encoding=\"UTF-8\" standalone=\"no\"?>\n",
       "<!DOCTYPE svg PUBLIC \"-//W3C//DTD SVG 1.1//EN\"\n",
       " \"http://www.w3.org/Graphics/SVG/1.1/DTD/svg11.dtd\">\n",
       "<!-- Generated by graphviz version 2.40.1 (20161225.0304)\n",
       " -->\n",
       "<!-- Title: MyDiGraph Pages: 1 -->\n",
       "<svg width=\"259pt\" height=\"257pt\"\n",
       " viewBox=\"0.00 0.00 258.52 256.56\" xmlns=\"http://www.w3.org/2000/svg\" xmlns:xlink=\"http://www.w3.org/1999/xlink\">\n",
       "<g id=\"graph0\" class=\"graph\" transform=\"scale(1 1) rotate(0) translate(4 252.5612)\">\n",
       "<title>MyDiGraph</title>\n",
       "<polygon fill=\"#ffffff\" stroke=\"transparent\" points=\"-4,4 -4,-252.5612 254.5182,-252.5612 254.5182,4 -4,4\"/>\n",
       "<!-- 1 -->\n",
       "<g id=\"node1\" class=\"node\">\n",
       "<title>1</title>\n",
       "<ellipse fill=\"none\" stroke=\"#000000\" cx=\"27\" cy=\"-140.9451\" rx=\"27\" ry=\"18\"/>\n",
       "<text text-anchor=\"middle\" x=\"27\" y=\"-136.7451\" font-family=\"Times,serif\" font-size=\"14.00\" fill=\"#000000\">1</text>\n",
       "</g>\n",
       "<!-- 4 -->\n",
       "<g id=\"node4\" class=\"node\">\n",
       "<title>4</title>\n",
       "<ellipse fill=\"none\" stroke=\"#000000\" cx=\"116.8883\" cy=\"-215.532\" rx=\"27\" ry=\"18\"/>\n",
       "<text text-anchor=\"middle\" x=\"116.8883\" y=\"-211.332\" font-family=\"Times,serif\" font-size=\"14.00\" fill=\"#000000\">4</text>\n",
       "</g>\n",
       "<!-- 1&#45;&gt;4 -->\n",
       "<g id=\"edge1\" class=\"edge\">\n",
       "<title>1&#45;&gt;4</title>\n",
       "<path fill=\"none\" stroke=\"#ff0000\" d=\"M44.3314,-155.3262C57.8476,-166.5416 76.8036,-182.2708 91.9506,-194.8393\"/>\n",
       "<polygon fill=\"#ff0000\" stroke=\"#ff0000\" points=\"89.9843,-197.7558 99.915,-201.448 94.4543,-192.3688 89.9843,-197.7558\"/>\n",
       "<text text-anchor=\"middle\" x=\"64.641\" y=\"-177.8828\" font-family=\"Times,serif\" font-size=\"14.00\" fill=\"#ff0000\">1</text>\n",
       "</g>\n",
       "<!-- 2 -->\n",
       "<g id=\"node2\" class=\"node\">\n",
       "<title>2</title>\n",
       "<ellipse fill=\"none\" stroke=\"#000000\" cx=\"102.2914\" cy=\"-51.6524\" rx=\"27\" ry=\"18\"/>\n",
       "<text text-anchor=\"middle\" x=\"102.2914\" y=\"-47.4524\" font-family=\"Times,serif\" font-size=\"14.00\" fill=\"#000000\">2</text>\n",
       "</g>\n",
       "<!-- 2&#45;&gt;1 -->\n",
       "<g id=\"edge6\" class=\"edge\">\n",
       "<title>2&#45;&gt;1</title>\n",
       "<path fill=\"none\" stroke=\"#000000\" d=\"M88.8308,-67.6162C77.1606,-81.4566 60.1129,-101.6744 46.8723,-117.3772\"/>\n",
       "<polygon fill=\"#000000\" stroke=\"#000000\" points=\"44.1146,-115.2183 40.3441,-125.1195 49.4661,-119.7307 44.1146,-115.2183\"/>\n",
       "<text text-anchor=\"middle\" x=\"64.3516\" y=\"-95.2967\" font-family=\"Times,serif\" font-size=\"14.00\" fill=\"#000000\">6</text>\n",
       "</g>\n",
       "<!-- 6 -->\n",
       "<g id=\"node6\" class=\"node\">\n",
       "<title>6</title>\n",
       "<ellipse fill=\"none\" stroke=\"#000000\" cx=\"192.6702\" cy=\"-126.1901\" rx=\"27\" ry=\"18\"/>\n",
       "<text text-anchor=\"middle\" x=\"192.6702\" y=\"-121.9901\" font-family=\"Times,serif\" font-size=\"14.00\" fill=\"#000000\">6</text>\n",
       "</g>\n",
       "<!-- 2&#45;&gt;6 -->\n",
       "<g id=\"edge7\" class=\"edge\">\n",
       "<title>2&#45;&gt;6</title>\n",
       "<path fill=\"none\" stroke=\"#000000\" d=\"M119.2909,-65.6724C132.8382,-76.8452 152.0133,-92.6594 167.3645,-105.3199\"/>\n",
       "<polygon fill=\"#000000\" stroke=\"#000000\" points=\"165.4978,-108.3172 175.4396,-111.9796 169.9517,-102.9168 165.4978,-108.3172\"/>\n",
       "<text text-anchor=\"middle\" x=\"139.8277\" y=\"-88.2962\" font-family=\"Times,serif\" font-size=\"14.00\" fill=\"#000000\">7</text>\n",
       "</g>\n",
       "<!-- 3 -->\n",
       "<g id=\"node3\" class=\"node\">\n",
       "<title>3</title>\n",
       "<ellipse fill=\"none\" stroke=\"#000000\" cx=\"204.5704\" cy=\"-18\" rx=\"27\" ry=\"18\"/>\n",
       "<text text-anchor=\"middle\" x=\"204.5704\" y=\"-13.8\" font-family=\"Times,serif\" font-size=\"14.00\" fill=\"#000000\">3</text>\n",
       "</g>\n",
       "<!-- 3&#45;&gt;2 -->\n",
       "<g id=\"edge5\" class=\"edge\">\n",
       "<title>3&#45;&gt;2</title>\n",
       "<path fill=\"none\" stroke=\"#ff0000\" d=\"M180.3317,-25.9752C167.1806,-30.3022 150.7115,-35.721 136.2962,-40.464\"/>\n",
       "<polygon fill=\"#ff0000\" stroke=\"#ff0000\" points=\"135.1157,-37.1677 126.7105,-43.6179 137.3035,-43.8171 135.1157,-37.1677\"/>\n",
       "<text text-anchor=\"middle\" x=\"154.814\" y=\"-36.0196\" font-family=\"Times,serif\" font-size=\"14.00\" fill=\"#ff0000\">5</text>\n",
       "</g>\n",
       "<!-- 5 -->\n",
       "<g id=\"node5\" class=\"node\">\n",
       "<title>5</title>\n",
       "<ellipse fill=\"none\" stroke=\"#000000\" cx=\"223.5182\" cy=\"-230.5612\" rx=\"27\" ry=\"18\"/>\n",
       "<text text-anchor=\"middle\" x=\"223.5182\" y=\"-226.3612\" font-family=\"Times,serif\" font-size=\"14.00\" fill=\"#000000\">5</text>\n",
       "</g>\n",
       "<!-- 4&#45;&gt;5 -->\n",
       "<g id=\"edge2\" class=\"edge\">\n",
       "<title>4&#45;&gt;5</title>\n",
       "<path fill=\"none\" stroke=\"#ff0000\" d=\"M143.5205,-219.2857C156.6248,-221.1327 172.6268,-223.3882 186.8659,-225.3951\"/>\n",
       "<polygon fill=\"#ff0000\" stroke=\"#ff0000\" points=\"186.4654,-228.8732 196.856,-226.8032 187.4424,-221.9417 186.4654,-228.8732\"/>\n",
       "<text text-anchor=\"middle\" x=\"161.6932\" y=\"-225.1404\" font-family=\"Times,serif\" font-size=\"14.00\" fill=\"#ff0000\">2</text>\n",
       "</g>\n",
       "<!-- 4&#45;&gt;6 -->\n",
       "<g id=\"edge8\" class=\"edge\">\n",
       "<title>4&#45;&gt;6</title>\n",
       "<path fill=\"none\" stroke=\"#000000\" d=\"M130.4366,-199.5595C142.1828,-185.7114 159.3415,-165.4824 172.6684,-149.771\"/>\n",
       "<polygon fill=\"#000000\" stroke=\"#000000\" points=\"175.4397,-151.9145 179.2392,-142.0244 170.1014,-147.3865 175.4397,-151.9145\"/>\n",
       "<text text-anchor=\"middle\" x=\"148.0525\" y=\"-177.4652\" font-family=\"Times,serif\" font-size=\"14.00\" fill=\"#000000\">8</text>\n",
       "</g>\n",
       "<!-- 5&#45;&gt;6 -->\n",
       "<g id=\"edge3\" class=\"edge\">\n",
       "<title>5&#45;&gt;6</title>\n",
       "<path fill=\"none\" stroke=\"#ff0000\" d=\"M218.2853,-212.856C213.499,-196.6623 206.343,-172.4508 200.8102,-153.7311\"/>\n",
       "<polygon fill=\"#ff0000\" stroke=\"#ff0000\" points=\"204.1197,-152.58 197.9288,-143.9821 197.4068,-154.5641 204.1197,-152.58\"/>\n",
       "<text text-anchor=\"middle\" x=\"206.0477\" y=\"-186.0936\" font-family=\"Times,serif\" font-size=\"14.00\" fill=\"#ff0000\">3</text>\n",
       "</g>\n",
       "<!-- 6&#45;&gt;3 -->\n",
       "<g id=\"edge4\" class=\"edge\">\n",
       "<title>6&#45;&gt;3</title>\n",
       "<path fill=\"none\" stroke=\"#ff0000\" d=\"M194.6889,-107.8372C196.5465,-90.9492 199.3293,-65.6489 201.469,-46.1966\"/>\n",
       "<polygon fill=\"#ff0000\" stroke=\"#ff0000\" points=\"204.9671,-46.4047 202.5815,-36.0819 198.009,-45.6393 204.9671,-46.4047\"/>\n",
       "<text text-anchor=\"middle\" x=\"194.5789\" y=\"-79.8169\" font-family=\"Times,serif\" font-size=\"14.00\" fill=\"#ff0000\">4</text>\n",
       "</g>\n",
       "</g>\n",
       "</svg>\n"
      ],
      "text/plain": [
       "DiGraph(DiNode[DiNode(1,Dict{Symbol,Any}()),DiNode(2,Dict{Symbol,Any}()),DiNode(3,Dict{Symbol,Any}()),DiNode(4,Dict{Symbol,Any}()),DiNode(5,Dict{Symbol,Any}()),DiNode(6,Dict{Symbol,Any}())],DiEdge[DiEdge(1=>4,Dict{Symbol,Any}(Pair{Symbol,Any}(:label,1),Pair{Symbol,Any}(:len,1.5),Pair{Symbol,Any}(:color,\"red\"),Pair{Symbol,Any}(:fontcolor,\"red\"))),DiEdge(4=>5,Dict{Symbol,Any}(Pair{Symbol,Any}(:label,2),Pair{Symbol,Any}(:len,1.5),Pair{Symbol,Any}(:color,\"red\"),Pair{Symbol,Any}(:fontcolor,\"red\"))),DiEdge(5=>6,Dict{Symbol,Any}(Pair{Symbol,Any}(:label,3),Pair{Symbol,Any}(:len,1.5),Pair{Symbol,Any}(:color,\"red\"),Pair{Symbol,Any}(:fontcolor,\"red\"))),DiEdge(6=>3,Dict{Symbol,Any}(Pair{Symbol,Any}(:label,4),Pair{Symbol,Any}(:len,1.5),Pair{Symbol,Any}(:color,\"red\"),Pair{Symbol,Any}(:fontcolor,\"red\"))),DiEdge(3=>2,Dict{Symbol,Any}(Pair{Symbol,Any}(:label,5),Pair{Symbol,Any}(:len,1.5),Pair{Symbol,Any}(:color,\"red\"),Pair{Symbol,Any}(:fontcolor,\"red\"))),DiEdge(2=>1,Dict{Symbol,Any}(Pair{Symbol,Any}(:label,6),Pair{Symbol,Any}(:len,1.5))),DiEdge(2=>6,Dict{Symbol,Any}(Pair{Symbol,Any}(:label,7),Pair{Symbol,Any}(:len,1.5))),DiEdge(4=>6,Dict{Symbol,Any}(Pair{Symbol,Any}(:label,8),Pair{Symbol,Any}(:len,1.5)))],Dict{Symbol,Any}())"
      ]
     },
     "execution_count": 22,
     "metadata": {},
     "output_type": "execute_result"
    }
   ],
   "source": [
    "colortree(g)"
   ]
  },
  {
   "cell_type": "markdown",
   "metadata": {},
   "source": [
    "We can also discard all of the edges that are *not* in the spanning tree, and we are left with a more boring graph of *just* the spanning tree:"
   ]
  },
  {
   "cell_type": "code",
   "execution_count": 23,
   "metadata": {
    "collapsed": false
   },
   "outputs": [
    {
     "data": {
      "image/svg+xml": [
       "<?xml version=\"1.0\" encoding=\"UTF-8\" standalone=\"no\"?>\n",
       "<!DOCTYPE svg PUBLIC \"-//W3C//DTD SVG 1.1//EN\"\n",
       " \"http://www.w3.org/Graphics/SVG/1.1/DTD/svg11.dtd\">\n",
       "<!-- Generated by graphviz version 2.40.1 (20161225.0304)\n",
       " -->\n",
       "<!-- Title: MyDiGraph Pages: 1 -->\n",
       "<svg width=\"492pt\" height=\"364pt\"\n",
       " viewBox=\"0.00 0.00 492.28 363.85\" xmlns=\"http://www.w3.org/2000/svg\" xmlns:xlink=\"http://www.w3.org/1999/xlink\">\n",
       "<g id=\"graph0\" class=\"graph\" transform=\"scale(1 1) rotate(0) translate(4 359.8467)\">\n",
       "<title>MyDiGraph</title>\n",
       "<polygon fill=\"#ffffff\" stroke=\"transparent\" points=\"-4,4 -4,-359.8467 488.2785,-359.8467 488.2785,4 -4,4\"/>\n",
       "<!-- 1 -->\n",
       "<g id=\"node1\" class=\"node\">\n",
       "<title>1</title>\n",
       "<ellipse fill=\"none\" stroke=\"#000000\" cx=\"27\" cy=\"-337.8467\" rx=\"27\" ry=\"18\"/>\n",
       "<text text-anchor=\"middle\" x=\"27\" y=\"-333.6467\" font-family=\"Times,serif\" font-size=\"14.00\" fill=\"#000000\">1</text>\n",
       "</g>\n",
       "<!-- 4 -->\n",
       "<g id=\"node4\" class=\"node\">\n",
       "<title>4</title>\n",
       "<ellipse fill=\"none\" stroke=\"#000000\" cx=\"126.3206\" cy=\"-293.7202\" rx=\"27\" ry=\"18\"/>\n",
       "<text text-anchor=\"middle\" x=\"126.3206\" y=\"-289.5202\" font-family=\"Times,serif\" font-size=\"14.00\" fill=\"#000000\">4</text>\n",
       "</g>\n",
       "<!-- 1&#45;&gt;4 -->\n",
       "<g id=\"edge1\" class=\"edge\">\n",
       "<title>1&#45;&gt;4</title>\n",
       "<path fill=\"none\" stroke=\"#000000\" d=\"M49.5374,-327.8337C62.7772,-321.9515 79.7273,-314.4208 94.3323,-307.9321\"/>\n",
       "<polygon fill=\"#000000\" stroke=\"#000000\" points=\"95.811,-311.1051 103.5286,-303.8463 92.9689,-304.708 95.811,-311.1051\"/>\n",
       "<text text-anchor=\"middle\" x=\"68.4348\" y=\"-320.6829\" font-family=\"Times,serif\" font-size=\"14.00\" fill=\"#000000\">1</text>\n",
       "</g>\n",
       "<!-- 2 -->\n",
       "<g id=\"node2\" class=\"node\">\n",
       "<title>2</title>\n",
       "<ellipse fill=\"none\" stroke=\"#000000\" cx=\"457.2785\" cy=\"-18\" rx=\"27\" ry=\"18\"/>\n",
       "<text text-anchor=\"middle\" x=\"457.2785\" y=\"-13.8\" font-family=\"Times,serif\" font-size=\"14.00\" fill=\"#000000\">2</text>\n",
       "</g>\n",
       "<!-- 3 -->\n",
       "<g id=\"node3\" class=\"node\">\n",
       "<title>3</title>\n",
       "<ellipse fill=\"none\" stroke=\"#000000\" cx=\"363.1409\" cy=\"-72.0233\" rx=\"27\" ry=\"18\"/>\n",
       "<text text-anchor=\"middle\" x=\"363.1409\" y=\"-67.8233\" font-family=\"Times,serif\" font-size=\"14.00\" fill=\"#000000\">3</text>\n",
       "</g>\n",
       "<!-- 3&#45;&gt;2 -->\n",
       "<g id=\"edge5\" class=\"edge\">\n",
       "<title>3&#45;&gt;2</title>\n",
       "<path fill=\"none\" stroke=\"#000000\" d=\"M384.0331,-60.0338C396.919,-52.6389 413.6428,-43.0415 427.8563,-34.8847\"/>\n",
       "<polygon fill=\"#000000\" stroke=\"#000000\" points=\"429.8374,-37.7832 436.7686,-29.7701 426.3532,-31.7119 429.8374,-37.7832\"/>\n",
       "<text text-anchor=\"middle\" x=\"402.4447\" y=\"-50.2592\" font-family=\"Times,serif\" font-size=\"14.00\" fill=\"#000000\">5</text>\n",
       "</g>\n",
       "<!-- 5 -->\n",
       "<g id=\"node5\" class=\"node\">\n",
       "<title>5</title>\n",
       "<ellipse fill=\"none\" stroke=\"#000000\" cx=\"213.7722\" cy=\"-229.1838\" rx=\"27\" ry=\"18\"/>\n",
       "<text text-anchor=\"middle\" x=\"213.7722\" y=\"-224.9838\" font-family=\"Times,serif\" font-size=\"14.00\" fill=\"#000000\">5</text>\n",
       "</g>\n",
       "<!-- 4&#45;&gt;5 -->\n",
       "<g id=\"edge2\" class=\"edge\">\n",
       "<title>4&#45;&gt;5</title>\n",
       "<path fill=\"none\" stroke=\"#000000\" d=\"M144.4406,-280.3482C156.787,-271.237 173.3386,-259.0225 187.1734,-248.8129\"/>\n",
       "<polygon fill=\"#000000\" stroke=\"#000000\" points=\"189.4065,-251.5148 195.3745,-242.7607 185.25,-245.8824 189.4065,-251.5148\"/>\n",
       "<text text-anchor=\"middle\" x=\"162.307\" y=\"-267.3806\" font-family=\"Times,serif\" font-size=\"14.00\" fill=\"#000000\">2</text>\n",
       "</g>\n",
       "<!-- 6 -->\n",
       "<g id=\"node6\" class=\"node\">\n",
       "<title>6</title>\n",
       "<ellipse fill=\"none\" stroke=\"#000000\" cx=\"284.6602\" cy=\"-146.8726\" rx=\"27\" ry=\"18\"/>\n",
       "<text text-anchor=\"middle\" x=\"284.6602\" y=\"-142.6726\" font-family=\"Times,serif\" font-size=\"14.00\" fill=\"#000000\">6</text>\n",
       "</g>\n",
       "<!-- 5&#45;&gt;6 -->\n",
       "<g id=\"edge3\" class=\"edge\">\n",
       "<title>5&#45;&gt;6</title>\n",
       "<path fill=\"none\" stroke=\"#000000\" d=\"M227.4401,-213.3134C237.9333,-201.1292 252.584,-184.1177 264.4336,-170.3586\"/>\n",
       "<polygon fill=\"#000000\" stroke=\"#000000\" points=\"267.1606,-172.5556 271.0343,-162.6943 261.8565,-167.9876 267.1606,-172.5556\"/>\n",
       "<text text-anchor=\"middle\" x=\"242.4369\" y=\"-194.636\" font-family=\"Times,serif\" font-size=\"14.00\" fill=\"#000000\">3</text>\n",
       "</g>\n",
       "<!-- 6&#45;&gt;3 -->\n",
       "<g id=\"edge4\" class=\"edge\">\n",
       "<title>6&#45;&gt;3</title>\n",
       "<path fill=\"none\" stroke=\"#000000\" d=\"M300.1655,-132.0848C311.5594,-121.218 327.2299,-106.2727 340.0884,-94.0092\"/>\n",
       "<polygon fill=\"#000000\" stroke=\"#000000\" points=\"342.8469,-96.2149 347.6678,-86.7804 338.0157,-91.1493 342.8469,-96.2149\"/>\n",
       "<text text-anchor=\"middle\" x=\"316.6269\" y=\"-115.847\" font-family=\"Times,serif\" font-size=\"14.00\" fill=\"#000000\">4</text>\n",
       "</g>\n",
       "</g>\n",
       "</svg>\n"
      ],
      "text/plain": [
       "DiGraph(DiNode[DiNode(1,Dict{Symbol,Any}()),DiNode(2,Dict{Symbol,Any}()),DiNode(3,Dict{Symbol,Any}()),DiNode(4,Dict{Symbol,Any}()),DiNode(5,Dict{Symbol,Any}()),DiNode(6,Dict{Symbol,Any}())],DiEdge[DiEdge(1=>4,Dict{Symbol,Any}(Pair{Symbol,Any}(:label,1),Pair{Symbol,Any}(:len,1.5))),DiEdge(4=>5,Dict{Symbol,Any}(Pair{Symbol,Any}(:label,2),Pair{Symbol,Any}(:len,1.5))),DiEdge(5=>6,Dict{Symbol,Any}(Pair{Symbol,Any}(:label,3),Pair{Symbol,Any}(:len,1.5))),DiEdge(6=>3,Dict{Symbol,Any}(Pair{Symbol,Any}(:label,4),Pair{Symbol,Any}(:len,1.5))),DiEdge(3=>2,Dict{Symbol,Any}(Pair{Symbol,Any}(:label,5),Pair{Symbol,Any}(:len,1.5)))],Dict{Symbol,Any}())"
      ]
     },
     "execution_count": 23,
     "metadata": {},
     "output_type": "execute_result"
    }
   ],
   "source": [
    "tree(g)"
   ]
  },
  {
   "cell_type": "markdown",
   "metadata": {},
   "source": [
    "We can do the same thing for our bigger random example:"
   ]
  },
  {
   "cell_type": "code",
   "execution_count": 24,
   "metadata": {
    "collapsed": false
   },
   "outputs": [
    {
     "data": {
      "image/svg+xml": [
       "<?xml version=\"1.0\" encoding=\"UTF-8\" standalone=\"no\"?>\n",
       "<!DOCTYPE svg PUBLIC \"-//W3C//DTD SVG 1.1//EN\"\n",
       " \"http://www.w3.org/Graphics/SVG/1.1/DTD/svg11.dtd\">\n",
       "<!-- Generated by graphviz version 2.40.1 (20161225.0304)\n",
       " -->\n",
       "<!-- Title: MyDiGraph Pages: 1 -->\n",
       "<svg width=\"527pt\" height=\"580pt\"\n",
       " viewBox=\"0.00 0.00 526.83 579.99\" xmlns=\"http://www.w3.org/2000/svg\" xmlns:xlink=\"http://www.w3.org/1999/xlink\">\n",
       "<g id=\"graph0\" class=\"graph\" transform=\"scale(1 1) rotate(0) translate(4 575.9898)\">\n",
       "<title>MyDiGraph</title>\n",
       "<polygon fill=\"#ffffff\" stroke=\"transparent\" points=\"-4,4 -4,-575.9898 522.8292,-575.9898 522.8292,4 -4,4\"/>\n",
       "<!-- 1 -->\n",
       "<g id=\"node1\" class=\"node\">\n",
       "<title>1</title>\n",
       "<ellipse fill=\"none\" stroke=\"#000000\" cx=\"27\" cy=\"-204.6906\" rx=\"27\" ry=\"18\"/>\n",
       "<text text-anchor=\"middle\" x=\"27\" y=\"-200.4906\" font-family=\"Times,serif\" font-size=\"14.00\" fill=\"#000000\">1</text>\n",
       "</g>\n",
       "<!-- 6 -->\n",
       "<g id=\"node6\" class=\"node\">\n",
       "<title>6</title>\n",
       "<ellipse fill=\"none\" stroke=\"#000000\" cx=\"130.9869\" cy=\"-274.2427\" rx=\"27\" ry=\"18\"/>\n",
       "<text text-anchor=\"middle\" x=\"130.9869\" y=\"-270.0427\" font-family=\"Times,serif\" font-size=\"14.00\" fill=\"#000000\">6</text>\n",
       "</g>\n",
       "<!-- 1&#45;&gt;6 -->\n",
       "<g id=\"edge1\" class=\"edge\">\n",
       "<title>1&#45;&gt;6</title>\n",
       "<path fill=\"none\" stroke=\"#ff0000\" d=\"M46.0728,-217.4475C62.0961,-228.1648 85.2058,-243.6218 103.2722,-255.7056\"/>\n",
       "<polygon fill=\"#ff0000\" stroke=\"#ff0000\" points=\"101.4249,-258.6807 111.6829,-261.3311 105.3166,-252.8622 101.4249,-258.6807\"/>\n",
       "<text text-anchor=\"middle\" x=\"71.1725\" y=\"-239.3766\" font-family=\"Times,serif\" font-size=\"14.00\" fill=\"#ff0000\">1</text>\n",
       "</g>\n",
       "<!-- 2 -->\n",
       "<g id=\"node2\" class=\"node\">\n",
       "<title>2</title>\n",
       "<ellipse fill=\"none\" stroke=\"#000000\" cx=\"219.6793\" cy=\"-115.4037\" rx=\"27\" ry=\"18\"/>\n",
       "<text text-anchor=\"middle\" x=\"219.6793\" y=\"-111.2037\" font-family=\"Times,serif\" font-size=\"14.00\" fill=\"#000000\">2</text>\n",
       "</g>\n",
       "<!-- 11 -->\n",
       "<g id=\"node11\" class=\"node\">\n",
       "<title>11</title>\n",
       "<ellipse fill=\"none\" stroke=\"#000000\" cx=\"180.5547\" cy=\"-182.8313\" rx=\"27\" ry=\"18\"/>\n",
       "<text text-anchor=\"middle\" x=\"180.5547\" y=\"-178.6313\" font-family=\"Times,serif\" font-size=\"14.00\" fill=\"#000000\">11</text>\n",
       "</g>\n",
       "<!-- 2&#45;&gt;11 -->\n",
       "<g id=\"edge2\" class=\"edge\">\n",
       "<title>2&#45;&gt;11</title>\n",
       "<path fill=\"none\" stroke=\"#ff0000\" d=\"M209.8065,-132.4185C205.5301,-139.7884 200.4273,-148.5826 195.6901,-156.7469\"/>\n",
       "<polygon fill=\"#ff0000\" stroke=\"#ff0000\" points=\"192.5519,-155.1814 190.5604,-165.5874 198.6065,-158.6946 192.5519,-155.1814\"/>\n",
       "<text text-anchor=\"middle\" x=\"199.2483\" y=\"-147.3827\" font-family=\"Times,serif\" font-size=\"14.00\" fill=\"#ff0000\">2</text>\n",
       "</g>\n",
       "<!-- 12 -->\n",
       "<g id=\"node12\" class=\"node\">\n",
       "<title>12</title>\n",
       "<ellipse fill=\"none\" stroke=\"#000000\" cx=\"100.8845\" cy=\"-161.4388\" rx=\"27\" ry=\"18\"/>\n",
       "<text text-anchor=\"middle\" x=\"100.8845\" y=\"-157.2388\" font-family=\"Times,serif\" font-size=\"14.00\" fill=\"#000000\">12</text>\n",
       "</g>\n",
       "<!-- 2&#45;&gt;12 -->\n",
       "<g id=\"edge3\" class=\"edge\">\n",
       "<title>2&#45;&gt;12</title>\n",
       "<path fill=\"none\" stroke=\"#ff0000\" d=\"M196.2093,-124.4988C178.393,-131.4029 153.6688,-140.9839 133.8649,-148.6583\"/>\n",
       "<polygon fill=\"#ff0000\" stroke=\"#ff0000\" points=\"132.3654,-145.4857 124.3057,-152.3627 134.8948,-152.0128 132.3654,-145.4857\"/>\n",
       "<text text-anchor=\"middle\" x=\"161.5371\" y=\"-139.3785\" font-family=\"Times,serif\" font-size=\"14.00\" fill=\"#ff0000\">3</text>\n",
       "</g>\n",
       "<!-- 3 -->\n",
       "<g id=\"node3\" class=\"node\">\n",
       "<title>3</title>\n",
       "<ellipse fill=\"none\" stroke=\"#000000\" cx=\"263.7108\" cy=\"-244.6264\" rx=\"27\" ry=\"18\"/>\n",
       "<text text-anchor=\"middle\" x=\"263.7108\" y=\"-240.4264\" font-family=\"Times,serif\" font-size=\"14.00\" fill=\"#000000\">3</text>\n",
       "</g>\n",
       "<!-- 3&#45;&gt;2 -->\n",
       "<g id=\"edge4\" class=\"edge\">\n",
       "<title>3&#45;&gt;2</title>\n",
       "<path fill=\"none\" stroke=\"#ff0000\" d=\"M257.6808,-226.9294C250.3112,-205.3016 237.7569,-168.4574 229.107,-143.0719\"/>\n",
       "<polygon fill=\"#ff0000\" stroke=\"#ff0000\" points=\"232.3162,-141.6383 225.7778,-133.3016 225.6903,-143.896 232.3162,-141.6383\"/>\n",
       "<text text-anchor=\"middle\" x=\"239.8939\" y=\"-187.8007\" font-family=\"Times,serif\" font-size=\"14.00\" fill=\"#ff0000\">4</text>\n",
       "</g>\n",
       "<!-- 3&#45;&gt;6 -->\n",
       "<g id=\"edge5\" class=\"edge\">\n",
       "<title>3&#45;&gt;6</title>\n",
       "<path fill=\"none\" stroke=\"#ff0000\" d=\"M236.6116,-245.0576C215.3469,-248.2493 185.6923,-254.7049 163.2126,-260.9513\"/>\n",
       "<polygon fill=\"#ff0000\" stroke=\"#ff0000\" points=\"162.0684,-257.639 153.4448,-263.7941 164.0245,-264.3602 162.0684,-257.639\"/>\n",
       "<text text-anchor=\"middle\" x=\"196.4121\" y=\"-241.8045\" font-family=\"Times,serif\" font-size=\"14.00\" fill=\"#ff0000\">5</text>\n",
       "</g>\n",
       "<!-- 4 -->\n",
       "<g id=\"node4\" class=\"node\">\n",
       "<title>4</title>\n",
       "<ellipse fill=\"none\" stroke=\"#000000\" cx=\"302.6826\" cy=\"-489.4894\" rx=\"27\" ry=\"18\"/>\n",
       "<text text-anchor=\"middle\" x=\"302.6826\" y=\"-485.2894\" font-family=\"Times,serif\" font-size=\"14.00\" fill=\"#000000\">4</text>\n",
       "</g>\n",
       "<!-- 15 -->\n",
       "<g id=\"node15\" class=\"node\">\n",
       "<title>15</title>\n",
       "<ellipse fill=\"none\" stroke=\"#000000\" cx=\"403.9415\" cy=\"-553.9898\" rx=\"27\" ry=\"18\"/>\n",
       "<text text-anchor=\"middle\" x=\"403.9415\" y=\"-549.7898\" font-family=\"Times,serif\" font-size=\"14.00\" fill=\"#000000\">15</text>\n",
       "</g>\n",
       "<!-- 4&#45;&gt;15 -->\n",
       "<g id=\"edge6\" class=\"edge\">\n",
       "<title>4&#45;&gt;15</title>\n",
       "<path fill=\"none\" stroke=\"#ff0000\" d=\"M322.2063,-501.9258C337.3775,-511.5896 358.6326,-525.1288 375.6649,-535.9781\"/>\n",
       "<polygon fill=\"#ff0000\" stroke=\"#ff0000\" points=\"373.8175,-538.9511 384.1322,-541.3716 377.5783,-533.0471 373.8175,-538.9511\"/>\n",
       "<text text-anchor=\"middle\" x=\"345.4356\" y=\"-521.7519\" font-family=\"Times,serif\" font-size=\"14.00\" fill=\"#ff0000\">6</text>\n",
       "</g>\n",
       "<!-- 5 -->\n",
       "<g id=\"node5\" class=\"node\">\n",
       "<title>5</title>\n",
       "<ellipse fill=\"none\" stroke=\"#000000\" cx=\"182.7277\" cy=\"-501.375\" rx=\"27\" ry=\"18\"/>\n",
       "<text text-anchor=\"middle\" x=\"182.7277\" y=\"-497.175\" font-family=\"Times,serif\" font-size=\"14.00\" fill=\"#000000\">5</text>\n",
       "</g>\n",
       "<!-- 5&#45;&gt;4 -->\n",
       "<g id=\"edge7\" class=\"edge\">\n",
       "<title>5&#45;&gt;4</title>\n",
       "<path fill=\"none\" stroke=\"#ff0000\" d=\"M209.6479,-498.7077C226.2395,-497.0637 247.7393,-494.9334 265.8906,-493.1349\"/>\n",
       "<polygon fill=\"#ff0000\" stroke=\"#ff0000\" points=\"266.2461,-496.6169 275.8522,-492.1479 265.5558,-489.651 266.2461,-496.6169\"/>\n",
       "<text text-anchor=\"middle\" x=\"234.2692\" y=\"-498.7213\" font-family=\"Times,serif\" font-size=\"14.00\" fill=\"#ff0000\">7</text>\n",
       "</g>\n",
       "<!-- 7 -->\n",
       "<g id=\"node7\" class=\"node\">\n",
       "<title>7</title>\n",
       "<ellipse fill=\"none\" stroke=\"#000000\" cx=\"180.0831\" cy=\"-383.5445\" rx=\"27\" ry=\"18\"/>\n",
       "<text text-anchor=\"middle\" x=\"180.0831\" y=\"-379.3445\" font-family=\"Times,serif\" font-size=\"14.00\" fill=\"#000000\">7</text>\n",
       "</g>\n",
       "<!-- 5&#45;&gt;7 -->\n",
       "<g id=\"edge8\" class=\"edge\">\n",
       "<title>5&#45;&gt;7</title>\n",
       "<path fill=\"none\" stroke=\"#ff0000\" d=\"M182.3203,-483.2222C181.8944,-464.249 181.2203,-434.2129 180.7232,-412.0669\"/>\n",
       "<polygon fill=\"#ff0000\" stroke=\"#ff0000\" points=\"184.2189,-411.831 180.4953,-401.9121 177.2207,-411.9881 184.2189,-411.831\"/>\n",
       "<text text-anchor=\"middle\" x=\"178.0217\" y=\"-450.4446\" font-family=\"Times,serif\" font-size=\"14.00\" fill=\"#ff0000\">8</text>\n",
       "</g>\n",
       "<!-- 6&#45;&gt;3 -->\n",
       "<g id=\"edge9\" class=\"edge\">\n",
       "<title>6&#45;&gt;3</title>\n",
       "<path fill=\"none\" stroke=\"#000000\" d=\"M158.0862,-273.8115C179.3509,-270.6198 209.0055,-264.1641 231.4852,-257.9177\"/>\n",
       "<polygon fill=\"#000000\" stroke=\"#000000\" points=\"232.6294,-261.23 241.2529,-255.0749 230.6732,-254.5089 232.6294,-261.23\"/>\n",
       "<text text-anchor=\"middle\" x=\"191.2857\" y=\"-268.6646\" font-family=\"Times,serif\" font-size=\"14.00\" fill=\"#000000\">9</text>\n",
       "</g>\n",
       "<!-- 6&#45;&gt;7 -->\n",
       "<g id=\"edge10\" class=\"edge\">\n",
       "<title>6&#45;&gt;7</title>\n",
       "<path fill=\"none\" stroke=\"#ff0000\" d=\"M138.8751,-291.8039C146.7486,-309.3325 158.9514,-336.4995 168.0372,-356.7271\"/>\n",
       "<polygon fill=\"#ff0000\" stroke=\"#ff0000\" points=\"164.9243,-358.339 172.2145,-366.0269 171.3097,-355.4707 164.9243,-358.339\"/>\n",
       "<text text-anchor=\"middle\" x=\"146.4562\" y=\"-327.0655\" font-family=\"Times,serif\" font-size=\"14.00\" fill=\"#ff0000\">10</text>\n",
       "</g>\n",
       "<!-- 6&#45;&gt;12 -->\n",
       "<g id=\"edge11\" class=\"edge\">\n",
       "<title>6&#45;&gt;12</title>\n",
       "<path fill=\"none\" stroke=\"#000000\" d=\"M126.2171,-256.3686C121.3952,-238.2991 113.8764,-210.1239 108.281,-189.1561\"/>\n",
       "<polygon fill=\"#000000\" stroke=\"#000000\" points=\"111.5921,-187.9887 105.632,-179.2293 104.8287,-189.7936 111.5921,-187.9887\"/>\n",
       "<text text-anchor=\"middle\" x=\"110.5054\" y=\"-225.5623\" font-family=\"Times,serif\" font-size=\"14.00\" fill=\"#000000\">11</text>\n",
       "</g>\n",
       "<!-- 9 -->\n",
       "<g id=\"node9\" class=\"node\">\n",
       "<title>9</title>\n",
       "<ellipse fill=\"none\" stroke=\"#000000\" cx=\"308.6674\" cy=\"-362.1734\" rx=\"27\" ry=\"18\"/>\n",
       "<text text-anchor=\"middle\" x=\"308.6674\" y=\"-357.9734\" font-family=\"Times,serif\" font-size=\"14.00\" fill=\"#000000\">9</text>\n",
       "</g>\n",
       "<!-- 7&#45;&gt;9 -->\n",
       "<g id=\"edge12\" class=\"edge\">\n",
       "<title>7&#45;&gt;9</title>\n",
       "<path fill=\"none\" stroke=\"#ff0000\" d=\"M206.4143,-379.1682C225.3966,-376.0133 251.2573,-371.7152 272.2217,-368.2308\"/>\n",
       "<polygon fill=\"#ff0000\" stroke=\"#ff0000\" points=\"273.0805,-371.6362 282.3714,-366.5439 271.9328,-364.7309 273.0805,-371.6362\"/>\n",
       "<text text-anchor=\"middle\" x=\"232.318\" y=\"-376.4995\" font-family=\"Times,serif\" font-size=\"14.00\" fill=\"#ff0000\">12</text>\n",
       "</g>\n",
       "<!-- 8 -->\n",
       "<g id=\"node8\" class=\"node\">\n",
       "<title>8</title>\n",
       "<ellipse fill=\"none\" stroke=\"#000000\" cx=\"89.863\" cy=\"-80.5896\" rx=\"27\" ry=\"18\"/>\n",
       "<text text-anchor=\"middle\" x=\"89.863\" y=\"-76.3896\" font-family=\"Times,serif\" font-size=\"14.00\" fill=\"#000000\">8</text>\n",
       "</g>\n",
       "<!-- 8&#45;&gt;1 -->\n",
       "<g id=\"edge13\" class=\"edge\">\n",
       "<title>8&#45;&gt;1</title>\n",
       "<path fill=\"none\" stroke=\"#ff0000\" d=\"M81.1222,-97.8453C70.5195,-118.7767 52.5407,-154.2694 40.2362,-178.5605\"/>\n",
       "<polygon fill=\"#ff0000\" stroke=\"#ff0000\" points=\"37.0632,-177.0791 35.6666,-187.5815 43.3077,-180.2423 37.0632,-177.0791\"/>\n",
       "<text text-anchor=\"middle\" x=\"53.6792\" y=\"-141.0029\" font-family=\"Times,serif\" font-size=\"14.00\" fill=\"#ff0000\">13</text>\n",
       "</g>\n",
       "<!-- 8&#45;&gt;2 -->\n",
       "<g id=\"edge14\" class=\"edge\">\n",
       "<title>8&#45;&gt;2</title>\n",
       "<path fill=\"none\" stroke=\"#000000\" d=\"M115.2011,-87.3848C134.9477,-92.6804 162.5956,-100.095 184.49,-105.9666\"/>\n",
       "<polygon fill=\"#000000\" stroke=\"#000000\" points=\"183.8398,-109.4159 194.4051,-108.6257 185.6531,-102.6548 183.8398,-109.4159\"/>\n",
       "<text text-anchor=\"middle\" x=\"142.8455\" y=\"-99.4757\" font-family=\"Times,serif\" font-size=\"14.00\" fill=\"#000000\">14</text>\n",
       "</g>\n",
       "<!-- 9&#45;&gt;3 -->\n",
       "<g id=\"edge15\" class=\"edge\">\n",
       "<title>9&#45;&gt;3</title>\n",
       "<path fill=\"none\" stroke=\"#000000\" d=\"M301.9369,-344.5755C294.5873,-325.3586 282.7239,-294.3395 274.1612,-271.9507\"/>\n",
       "<polygon fill=\"#000000\" stroke=\"#000000\" points=\"277.3286,-270.4346 270.4873,-262.3446 270.7905,-272.9351 277.3286,-270.4346\"/>\n",
       "<text text-anchor=\"middle\" x=\"281.0491\" y=\"-311.0631\" font-family=\"Times,serif\" font-size=\"14.00\" fill=\"#000000\">15</text>\n",
       "</g>\n",
       "<!-- 9&#45;&gt;4 -->\n",
       "<g id=\"edge16\" class=\"edge\">\n",
       "<title>9&#45;&gt;4</title>\n",
       "<path fill=\"none\" stroke=\"#000000\" d=\"M307.8099,-380.4147C306.8189,-401.4976 305.1759,-436.4484 304.0173,-461.0953\"/>\n",
       "<polygon fill=\"#000000\" stroke=\"#000000\" points=\"300.512,-461.1286 303.5385,-471.282 307.5043,-461.4574 300.512,-461.1286\"/>\n",
       "<text text-anchor=\"middle\" x=\"298.9136\" y=\"-423.555\" font-family=\"Times,serif\" font-size=\"14.00\" fill=\"#000000\">16</text>\n",
       "</g>\n",
       "<!-- 10 -->\n",
       "<g id=\"node10\" class=\"node\">\n",
       "<title>10</title>\n",
       "<ellipse fill=\"none\" stroke=\"#000000\" cx=\"433.7073\" cy=\"-371.8237\" rx=\"27\" ry=\"18\"/>\n",
       "<text text-anchor=\"middle\" x=\"433.7073\" y=\"-367.6237\" font-family=\"Times,serif\" font-size=\"14.00\" fill=\"#000000\">10</text>\n",
       "</g>\n",
       "<!-- 10&#45;&gt;9 -->\n",
       "<g id=\"edge17\" class=\"edge\">\n",
       "<title>10&#45;&gt;9</title>\n",
       "<path fill=\"none\" stroke=\"#ff0000\" d=\"M406.8831,-369.7535C389.1215,-368.3827 365.5795,-366.5658 345.9968,-365.0544\"/>\n",
       "<polygon fill=\"#ff0000\" stroke=\"#ff0000\" points=\"346.1184,-361.5535 335.8787,-364.2735 345.5797,-368.5327 346.1184,-361.5535\"/>\n",
       "<text text-anchor=\"middle\" x=\"369.44\" y=\"-370.204\" font-family=\"Times,serif\" font-size=\"14.00\" fill=\"#ff0000\">17</text>\n",
       "</g>\n",
       "<!-- 11&#45;&gt;6 -->\n",
       "<g id=\"edge18\" class=\"edge\">\n",
       "<title>11&#45;&gt;6</title>\n",
       "<path fill=\"none\" stroke=\"#000000\" d=\"M171.2314,-200.0251C163.8926,-213.5591 153.5425,-232.6464 145.1764,-248.0748\"/>\n",
       "<polygon fill=\"#000000\" stroke=\"#000000\" points=\"141.9585,-246.6668 140.2684,-257.126 148.1121,-250.0036 141.9585,-246.6668\"/>\n",
       "<text text-anchor=\"middle\" x=\"151.2039\" y=\"-226.8499\" font-family=\"Times,serif\" font-size=\"14.00\" fill=\"#000000\">18</text>\n",
       "</g>\n",
       "<!-- 12&#45;&gt;1 -->\n",
       "<g id=\"edge19\" class=\"edge\">\n",
       "<title>12&#45;&gt;1</title>\n",
       "<path fill=\"none\" stroke=\"#000000\" d=\"M80.3035,-173.4869C72.8579,-177.8455 64.3011,-182.8546 56.2536,-187.5656\"/>\n",
       "<polygon fill=\"#000000\" stroke=\"#000000\" points=\"54.3324,-184.6346 47.4706,-192.7072 57.8688,-190.6757 54.3324,-184.6346\"/>\n",
       "<text text-anchor=\"middle\" x=\"61.2786\" y=\"-183.3262\" font-family=\"Times,serif\" font-size=\"14.00\" fill=\"#000000\">19</text>\n",
       "</g>\n",
       "<!-- 12&#45;&gt;8 -->\n",
       "<g id=\"edge20\" class=\"edge\">\n",
       "<title>12&#45;&gt;8</title>\n",
       "<path fill=\"none\" stroke=\"#000000\" d=\"M98.4385,-143.4958C97.0498,-133.3091 95.2804,-120.3297 93.71,-108.8096\"/>\n",
       "<polygon fill=\"#000000\" stroke=\"#000000\" points=\"97.159,-108.1977 92.3403,-98.7621 90.2232,-109.1432 97.159,-108.1977\"/>\n",
       "<text text-anchor=\"middle\" x=\"89.0742\" y=\"-128.9527\" font-family=\"Times,serif\" font-size=\"14.00\" fill=\"#000000\">20</text>\n",
       "</g>\n",
       "<!-- 13 -->\n",
       "<g id=\"node13\" class=\"node\">\n",
       "<title>13</title>\n",
       "<ellipse fill=\"none\" stroke=\"#000000\" cx=\"491.8292\" cy=\"-476.2114\" rx=\"27\" ry=\"18\"/>\n",
       "<text text-anchor=\"middle\" x=\"491.8292\" y=\"-472.0114\" font-family=\"Times,serif\" font-size=\"14.00\" fill=\"#000000\">13</text>\n",
       "</g>\n",
       "<!-- 13&#45;&gt;10 -->\n",
       "<g id=\"edge21\" class=\"edge\">\n",
       "<title>13&#45;&gt;10</title>\n",
       "<path fill=\"none\" stroke=\"#ff0000\" d=\"M482.2315,-458.9739C472.9215,-442.2529 458.6791,-416.6733 448.0288,-397.5453\"/>\n",
       "<polygon fill=\"#ff0000\" stroke=\"#ff0000\" points=\"451.049,-395.7748 443.1264,-388.7404 444.9331,-399.1801 451.049,-395.7748\"/>\n",
       "<text text-anchor=\"middle\" x=\"458.1301\" y=\"-431.0596\" font-family=\"Times,serif\" font-size=\"14.00\" fill=\"#ff0000\">21</text>\n",
       "</g>\n",
       "<!-- 13&#45;&gt;15 -->\n",
       "<g id=\"edge22\" class=\"edge\">\n",
       "<title>13&#45;&gt;15</title>\n",
       "<path fill=\"none\" stroke=\"#000000\" d=\"M475.2982,-490.8409C462.0404,-502.5737 443.2399,-519.2117 428.2648,-532.4643\"/>\n",
       "<polygon fill=\"#000000\" stroke=\"#000000\" points=\"425.5675,-530.1776 420.3984,-539.4259 430.2066,-535.4196 425.5675,-530.1776\"/>\n",
       "<text text-anchor=\"middle\" x=\"444.7815\" y=\"-514.4526\" font-family=\"Times,serif\" font-size=\"14.00\" fill=\"#000000\">22</text>\n",
       "</g>\n",
       "<!-- 14 -->\n",
       "<g id=\"node14\" class=\"node\">\n",
       "<title>14</title>\n",
       "<ellipse fill=\"none\" stroke=\"#000000\" cx=\"283.271\" cy=\"-18\" rx=\"27\" ry=\"18\"/>\n",
       "<text text-anchor=\"middle\" x=\"283.271\" y=\"-13.8\" font-family=\"Times,serif\" font-size=\"14.00\" fill=\"#000000\">14</text>\n",
       "</g>\n",
       "<!-- 14&#45;&gt;2 -->\n",
       "<g id=\"edge23\" class=\"edge\">\n",
       "<title>14&#45;&gt;2</title>\n",
       "<path fill=\"none\" stroke=\"#ff0000\" d=\"M272.4836,-34.5232C262.5256,-49.7758 247.5916,-72.6503 236.1436,-90.1852\"/>\n",
       "<polygon fill=\"#ff0000\" stroke=\"#ff0000\" points=\"233.0558,-88.5126 230.5197,-98.7994 238.9172,-92.3394 233.0558,-88.5126\"/>\n",
       "<text text-anchor=\"middle\" x=\"247.3136\" y=\"-65.1542\" font-family=\"Times,serif\" font-size=\"14.00\" fill=\"#ff0000\">23</text>\n",
       "</g>\n",
       "</g>\n",
       "</svg>\n"
      ],
      "text/plain": [
       "DiGraph(DiNode[DiNode(1,Dict{Symbol,Any}()),DiNode(2,Dict{Symbol,Any}()),DiNode(3,Dict{Symbol,Any}()),DiNode(4,Dict{Symbol,Any}()),DiNode(5,Dict{Symbol,Any}()),DiNode(6,Dict{Symbol,Any}()),DiNode(7,Dict{Symbol,Any}()),DiNode(8,Dict{Symbol,Any}()),DiNode(9,Dict{Symbol,Any}()),DiNode(10,Dict{Symbol,Any}()),DiNode(11,Dict{Symbol,Any}()),DiNode(12,Dict{Symbol,Any}()),DiNode(13,Dict{Symbol,Any}()),DiNode(14,Dict{Symbol,Any}()),DiNode(15,Dict{Symbol,Any}())],DiEdge[DiEdge(1=>6,Dict{Symbol,Any}(Pair{Symbol,Any}(:label,1),Pair{Symbol,Any}(:len,1.5),Pair{Symbol,Any}(:color,\"red\"),Pair{Symbol,Any}(:fontcolor,\"red\"))),DiEdge(2=>11,Dict{Symbol,Any}(Pair{Symbol,Any}(:label,2),Pair{Symbol,Any}(:len,1.5),Pair{Symbol,Any}(:color,\"red\"),Pair{Symbol,Any}(:fontcolor,\"red\"))),DiEdge(2=>12,Dict{Symbol,Any}(Pair{Symbol,Any}(:label,3),Pair{Symbol,Any}(:len,1.5),Pair{Symbol,Any}(:color,\"red\"),Pair{Symbol,Any}(:fontcolor,\"red\"))),DiEdge(3=>2,Dict{Symbol,Any}(Pair{Symbol,Any}(:label,4),Pair{Symbol,Any}(:len,1.5),Pair{Symbol,Any}(:color,\"red\"),Pair{Symbol,Any}(:fontcolor,\"red\"))),DiEdge(3=>6,Dict{Symbol,Any}(Pair{Symbol,Any}(:label,5),Pair{Symbol,Any}(:len,1.5),Pair{Symbol,Any}(:color,\"red\"),Pair{Symbol,Any}(:fontcolor,\"red\"))),DiEdge(4=>15,Dict{Symbol,Any}(Pair{Symbol,Any}(:label,6),Pair{Symbol,Any}(:len,1.5),Pair{Symbol,Any}(:color,\"red\"),Pair{Symbol,Any}(:fontcolor,\"red\"))),DiEdge(5=>4,Dict{Symbol,Any}(Pair{Symbol,Any}(:label,7),Pair{Symbol,Any}(:len,1.5),Pair{Symbol,Any}(:color,\"red\"),Pair{Symbol,Any}(:fontcolor,\"red\"))),DiEdge(5=>7,Dict{Symbol,Any}(Pair{Symbol,Any}(:label,8),Pair{Symbol,Any}(:len,1.5),Pair{Symbol,Any}(:color,\"red\"),Pair{Symbol,Any}(:fontcolor,\"red\"))),DiEdge(6=>3,Dict{Symbol,Any}(Pair{Symbol,Any}(:label,9),Pair{Symbol,Any}(:len,1.5))),DiEdge(6=>7,Dict{Symbol,Any}(Pair{Symbol,Any}(:label,10),Pair{Symbol,Any}(:len,1.5),Pair{Symbol,Any}(:color,\"red\"),Pair{Symbol,Any}(:fontcolor,\"red\")))  …  DiEdge(8=>2,Dict{Symbol,Any}(Pair{Symbol,Any}(:label,14),Pair{Symbol,Any}(:len,1.5))),DiEdge(9=>3,Dict{Symbol,Any}(Pair{Symbol,Any}(:label,15),Pair{Symbol,Any}(:len,1.5))),DiEdge(9=>4,Dict{Symbol,Any}(Pair{Symbol,Any}(:label,16),Pair{Symbol,Any}(:len,1.5))),DiEdge(10=>9,Dict{Symbol,Any}(Pair{Symbol,Any}(:label,17),Pair{Symbol,Any}(:len,1.5),Pair{Symbol,Any}(:color,\"red\"),Pair{Symbol,Any}(:fontcolor,\"red\"))),DiEdge(11=>6,Dict{Symbol,Any}(Pair{Symbol,Any}(:label,18),Pair{Symbol,Any}(:len,1.5))),DiEdge(12=>1,Dict{Symbol,Any}(Pair{Symbol,Any}(:label,19),Pair{Symbol,Any}(:len,1.5))),DiEdge(12=>8,Dict{Symbol,Any}(Pair{Symbol,Any}(:label,20),Pair{Symbol,Any}(:len,1.5))),DiEdge(13=>10,Dict{Symbol,Any}(Pair{Symbol,Any}(:label,21),Pair{Symbol,Any}(:len,1.5),Pair{Symbol,Any}(:color,\"red\"),Pair{Symbol,Any}(:fontcolor,\"red\"))),DiEdge(13=>15,Dict{Symbol,Any}(Pair{Symbol,Any}(:label,22),Pair{Symbol,Any}(:len,1.5))),DiEdge(14=>2,Dict{Symbol,Any}(Pair{Symbol,Any}(:label,23),Pair{Symbol,Any}(:len,1.5),Pair{Symbol,Any}(:color,\"red\"),Pair{Symbol,Any}(:fontcolor,\"red\")))],Dict{Symbol,Any}())"
      ]
     },
     "execution_count": 24,
     "metadata": {},
     "output_type": "execute_result"
    }
   ],
   "source": [
    "colortree(gbig)"
   ]
  },
  {
   "cell_type": "code",
   "execution_count": 25,
   "metadata": {
    "collapsed": false
   },
   "outputs": [
    {
     "data": {
      "image/svg+xml": [
       "<?xml version=\"1.0\" encoding=\"UTF-8\" standalone=\"no\"?>\n",
       "<!DOCTYPE svg PUBLIC \"-//W3C//DTD SVG 1.1//EN\"\n",
       " \"http://www.w3.org/Graphics/SVG/1.1/DTD/svg11.dtd\">\n",
       "<!-- Generated by graphviz version 2.40.1 (20161225.0304)\n",
       " -->\n",
       "<!-- Title: MyDiGraph Pages: 1 -->\n",
       "<svg width=\"771pt\" height=\"743pt\"\n",
       " viewBox=\"0.00 0.00 770.88 742.96\" xmlns=\"http://www.w3.org/2000/svg\" xmlns:xlink=\"http://www.w3.org/1999/xlink\">\n",
       "<g id=\"graph0\" class=\"graph\" transform=\"scale(1 1) rotate(0) translate(4 738.9567)\">\n",
       "<title>MyDiGraph</title>\n",
       "<polygon fill=\"#ffffff\" stroke=\"transparent\" points=\"-4,4 -4,-738.9567 766.8811,-738.9567 766.8811,4 -4,4\"/>\n",
       "<!-- 1 -->\n",
       "<g id=\"node1\" class=\"node\">\n",
       "<title>1</title>\n",
       "<ellipse fill=\"none\" stroke=\"#000000\" cx=\"330.7299\" cy=\"-563.5332\" rx=\"27\" ry=\"18\"/>\n",
       "<text text-anchor=\"middle\" x=\"330.7299\" y=\"-559.3332\" font-family=\"Times,serif\" font-size=\"14.00\" fill=\"#000000\">1</text>\n",
       "</g>\n",
       "<!-- 6 -->\n",
       "<g id=\"node6\" class=\"node\">\n",
       "<title>6</title>\n",
       "<ellipse fill=\"none\" stroke=\"#000000\" cx=\"414.3617\" cy=\"-469.2401\" rx=\"27\" ry=\"18\"/>\n",
       "<text text-anchor=\"middle\" x=\"414.3617\" y=\"-465.0401\" font-family=\"Times,serif\" font-size=\"14.00\" fill=\"#000000\">6</text>\n",
       "</g>\n",
       "<!-- 1&#45;&gt;6 -->\n",
       "<g id=\"edge1\" class=\"edge\">\n",
       "<title>1&#45;&gt;6</title>\n",
       "<path fill=\"none\" stroke=\"#000000\" d=\"M344.5399,-547.9626C357.8565,-532.9485 378.186,-510.0274 393.4802,-492.7835\"/>\n",
       "<polygon fill=\"#000000\" stroke=\"#000000\" points=\"396.514,-494.6376 400.5311,-484.8338 391.2771,-489.9928 396.514,-494.6376\"/>\n",
       "<text text-anchor=\"middle\" x=\"365.5101\" y=\"-523.173\" font-family=\"Times,serif\" font-size=\"14.00\" fill=\"#000000\">1</text>\n",
       "</g>\n",
       "<!-- 2 -->\n",
       "<g id=\"node2\" class=\"node\">\n",
       "<title>2</title>\n",
       "<ellipse fill=\"none\" stroke=\"#000000\" cx=\"629.2601\" cy=\"-593.3806\" rx=\"27\" ry=\"18\"/>\n",
       "<text text-anchor=\"middle\" x=\"629.2601\" y=\"-589.1806\" font-family=\"Times,serif\" font-size=\"14.00\" fill=\"#000000\">2</text>\n",
       "</g>\n",
       "<!-- 11 -->\n",
       "<g id=\"node11\" class=\"node\">\n",
       "<title>11</title>\n",
       "<ellipse fill=\"none\" stroke=\"#000000\" cx=\"735.8811\" cy=\"-529.7071\" rx=\"27\" ry=\"18\"/>\n",
       "<text text-anchor=\"middle\" x=\"735.8811\" y=\"-525.5071\" font-family=\"Times,serif\" font-size=\"14.00\" fill=\"#000000\">11</text>\n",
       "</g>\n",
       "<!-- 2&#45;&gt;11 -->\n",
       "<g id=\"edge2\" class=\"edge\">\n",
       "<title>2&#45;&gt;11</title>\n",
       "<path fill=\"none\" stroke=\"#000000\" d=\"M649.8177,-581.1038C665.9984,-571.4407 688.7516,-557.8527 706.7991,-547.0747\"/>\n",
       "<polygon fill=\"#000000\" stroke=\"#000000\" points=\"708.9572,-549.8626 715.7482,-541.7304 705.3681,-543.8527 708.9572,-549.8626\"/>\n",
       "<text text-anchor=\"middle\" x=\"674.8084\" y=\"-566.8892\" font-family=\"Times,serif\" font-size=\"14.00\" fill=\"#000000\">2</text>\n",
       "</g>\n",
       "<!-- 12 -->\n",
       "<g id=\"node12\" class=\"node\">\n",
       "<title>12</title>\n",
       "<ellipse fill=\"none\" stroke=\"#000000\" cx=\"609.2572\" cy=\"-716.9567\" rx=\"27\" ry=\"18\"/>\n",
       "<text text-anchor=\"middle\" x=\"609.2572\" y=\"-712.7567\" font-family=\"Times,serif\" font-size=\"14.00\" fill=\"#000000\">12</text>\n",
       "</g>\n",
       "<!-- 2&#45;&gt;12 -->\n",
       "<g id=\"edge3\" class=\"edge\">\n",
       "<title>2&#45;&gt;12</title>\n",
       "<path fill=\"none\" stroke=\"#000000\" d=\"M626.3515,-611.3497C623.0628,-631.6671 617.666,-665.0081 613.8162,-688.7919\"/>\n",
       "<polygon fill=\"#000000\" stroke=\"#000000\" points=\"610.3122,-688.5352 612.1693,-698.966 617.2223,-689.6537 610.3122,-688.5352\"/>\n",
       "<text text-anchor=\"middle\" x=\"616.5838\" y=\"-652.8708\" font-family=\"Times,serif\" font-size=\"14.00\" fill=\"#000000\">3</text>\n",
       "</g>\n",
       "<!-- 3 -->\n",
       "<g id=\"node3\" class=\"node\">\n",
       "<title>3</title>\n",
       "<ellipse fill=\"none\" stroke=\"#000000\" cx=\"527.1086\" cy=\"-523.6136\" rx=\"27\" ry=\"18\"/>\n",
       "<text text-anchor=\"middle\" x=\"527.1086\" y=\"-519.4136\" font-family=\"Times,serif\" font-size=\"14.00\" fill=\"#000000\">3</text>\n",
       "</g>\n",
       "<!-- 3&#45;&gt;2 -->\n",
       "<g id=\"edge4\" class=\"edge\">\n",
       "<title>3&#45;&gt;2</title>\n",
       "<path fill=\"none\" stroke=\"#000000\" d=\"M546.3225,-536.7363C561.8746,-547.358 583.9888,-562.4615 601.4715,-574.4017\"/>\n",
       "<polygon fill=\"#000000\" stroke=\"#000000\" points=\"599.9005,-577.5672 610.1323,-580.3168 603.8485,-571.7867 599.9005,-577.5672\"/>\n",
       "<text text-anchor=\"middle\" x=\"570.397\" y=\"-558.369\" font-family=\"Times,serif\" font-size=\"14.00\" fill=\"#000000\">4</text>\n",
       "</g>\n",
       "<!-- 3&#45;&gt;6 -->\n",
       "<g id=\"edge5\" class=\"edge\">\n",
       "<title>3&#45;&gt;6</title>\n",
       "<path fill=\"none\" stroke=\"#000000\" d=\"M505.1022,-513.0008C488.1072,-504.8048 464.3736,-493.3589 445.4415,-484.2287\"/>\n",
       "<polygon fill=\"#000000\" stroke=\"#000000\" points=\"446.8402,-481.0176 436.3126,-479.8262 443.7995,-487.3227 446.8402,-481.0176\"/>\n",
       "<text text-anchor=\"middle\" x=\"471.7718\" y=\"-501.4147\" font-family=\"Times,serif\" font-size=\"14.00\" fill=\"#000000\">5</text>\n",
       "</g>\n",
       "<!-- 4 -->\n",
       "<g id=\"node4\" class=\"node\">\n",
       "<title>4</title>\n",
       "<ellipse fill=\"none\" stroke=\"#000000\" cx=\"136.7861\" cy=\"-283.2764\" rx=\"27\" ry=\"18\"/>\n",
       "<text text-anchor=\"middle\" x=\"136.7861\" y=\"-279.0764\" font-family=\"Times,serif\" font-size=\"14.00\" fill=\"#000000\">4</text>\n",
       "</g>\n",
       "<!-- 15 -->\n",
       "<g id=\"node15\" class=\"node\">\n",
       "<title>15</title>\n",
       "<ellipse fill=\"none\" stroke=\"#000000\" cx=\"27\" cy=\"-258.5115\" rx=\"27\" ry=\"18\"/>\n",
       "<text text-anchor=\"middle\" x=\"27\" y=\"-254.3115\" font-family=\"Times,serif\" font-size=\"14.00\" fill=\"#000000\">15</text>\n",
       "</g>\n",
       "<!-- 4&#45;&gt;15 -->\n",
       "<g id=\"edge6\" class=\"edge\">\n",
       "<title>4&#45;&gt;15</title>\n",
       "<path fill=\"none\" stroke=\"#000000\" d=\"M111.0462,-277.4701C96.593,-274.2099 78.3414,-270.0928 62.5423,-266.5289\"/>\n",
       "<polygon fill=\"#000000\" stroke=\"#000000\" points=\"63.1038,-263.0677 52.5787,-264.2814 61.5634,-269.8961 63.1038,-263.0677\"/>\n",
       "<text text-anchor=\"middle\" x=\"83.2942\" y=\"-274.7995\" font-family=\"Times,serif\" font-size=\"14.00\" fill=\"#000000\">6</text>\n",
       "</g>\n",
       "<!-- 5 -->\n",
       "<g id=\"node5\" class=\"node\">\n",
       "<title>5</title>\n",
       "<ellipse fill=\"none\" stroke=\"#000000\" cx=\"248.6827\" cy=\"-316.9415\" rx=\"27\" ry=\"18\"/>\n",
       "<text text-anchor=\"middle\" x=\"248.6827\" y=\"-312.7415\" font-family=\"Times,serif\" font-size=\"14.00\" fill=\"#000000\">5</text>\n",
       "</g>\n",
       "<!-- 5&#45;&gt;4 -->\n",
       "<g id=\"edge7\" class=\"edge\">\n",
       "<title>5&#45;&gt;4</title>\n",
       "<path fill=\"none\" stroke=\"#000000\" d=\"M223.8492,-309.4701C208.3483,-304.8065 188.1751,-298.7372 171.1508,-293.6153\"/>\n",
       "<polygon fill=\"#000000\" stroke=\"#000000\" points=\"172.1346,-290.2564 161.5502,-290.7269 170.1178,-296.9596 172.1346,-290.2564\"/>\n",
       "<text text-anchor=\"middle\" x=\"194\" y=\"-304.3427\" font-family=\"Times,serif\" font-size=\"14.00\" fill=\"#000000\">7</text>\n",
       "</g>\n",
       "<!-- 7 -->\n",
       "<g id=\"node7\" class=\"node\">\n",
       "<title>7</title>\n",
       "<ellipse fill=\"none\" stroke=\"#000000\" cx=\"369.8848\" cy=\"-346.872\" rx=\"27\" ry=\"18\"/>\n",
       "<text text-anchor=\"middle\" x=\"369.8848\" y=\"-342.672\" font-family=\"Times,serif\" font-size=\"14.00\" fill=\"#000000\">7</text>\n",
       "</g>\n",
       "<!-- 5&#45;&gt;7 -->\n",
       "<g id=\"edge8\" class=\"edge\">\n",
       "<title>5&#45;&gt;7</title>\n",
       "<path fill=\"none\" stroke=\"#000000\" d=\"M274.0907,-323.2159C291.6249,-327.5459 315.1746,-333.3615 334.5362,-338.1427\"/>\n",
       "<polygon fill=\"#000000\" stroke=\"#000000\" points=\"333.9628,-341.6062 344.5103,-340.6058 335.6411,-334.8104 333.9628,-341.6062\"/>\n",
       "<text text-anchor=\"middle\" x=\"300.8134\" y=\"-333.4793\" font-family=\"Times,serif\" font-size=\"14.00\" fill=\"#000000\">8</text>\n",
       "</g>\n",
       "<!-- 6&#45;&gt;7 -->\n",
       "<g id=\"edge9\" class=\"edge\">\n",
       "<title>6&#45;&gt;7</title>\n",
       "<path fill=\"none\" stroke=\"#000000\" d=\"M407.9892,-451.7077C400.5911,-431.3533 388.3047,-397.5501 379.6884,-373.8445\"/>\n",
       "<polygon fill=\"#000000\" stroke=\"#000000\" points=\"382.951,-372.5746 376.2454,-364.3718 376.3721,-374.9659 382.951,-372.5746\"/>\n",
       "<text text-anchor=\"middle\" x=\"386.8388\" y=\"-415.5761\" font-family=\"Times,serif\" font-size=\"14.00\" fill=\"#000000\">10</text>\n",
       "</g>\n",
       "<!-- 9 -->\n",
       "<g id=\"node9\" class=\"node\">\n",
       "<title>9</title>\n",
       "<ellipse fill=\"none\" stroke=\"#000000\" cx=\"426.3606\" cy=\"-235.6722\" rx=\"27\" ry=\"18\"/>\n",
       "<text text-anchor=\"middle\" x=\"426.3606\" y=\"-231.4722\" font-family=\"Times,serif\" font-size=\"14.00\" fill=\"#000000\">9</text>\n",
       "</g>\n",
       "<!-- 7&#45;&gt;9 -->\n",
       "<g id=\"edge10\" class=\"edge\">\n",
       "<title>7&#45;&gt;9</title>\n",
       "<path fill=\"none\" stroke=\"#000000\" d=\"M378.7091,-329.497C387.9099,-311.3808 402.4402,-282.7709 413.0386,-261.9028\"/>\n",
       "<polygon fill=\"#000000\" stroke=\"#000000\" points=\"416.1905,-263.426 417.5982,-252.9251 409.9493,-260.2562 416.1905,-263.426\"/>\n",
       "<text text-anchor=\"middle\" x=\"388.8739\" y=\"-298.4999\" font-family=\"Times,serif\" font-size=\"14.00\" fill=\"#000000\">12</text>\n",
       "</g>\n",
       "<!-- 8 -->\n",
       "<g id=\"node8\" class=\"node\">\n",
       "<title>8</title>\n",
       "<ellipse fill=\"none\" stroke=\"#000000\" cx=\"255.6124\" cy=\"-654.7676\" rx=\"27\" ry=\"18\"/>\n",
       "<text text-anchor=\"middle\" x=\"255.6124\" y=\"-650.5676\" font-family=\"Times,serif\" font-size=\"14.00\" fill=\"#000000\">8</text>\n",
       "</g>\n",
       "<!-- 8&#45;&gt;1 -->\n",
       "<g id=\"edge11\" class=\"edge\">\n",
       "<title>8&#45;&gt;1</title>\n",
       "<path fill=\"none\" stroke=\"#000000\" d=\"M268.6969,-638.8758C280.366,-624.7029 297.6179,-603.7495 310.968,-587.5351\"/>\n",
       "<polygon fill=\"#000000\" stroke=\"#000000\" points=\"313.889,-589.4937 317.5433,-579.549 308.485,-585.0443 313.889,-589.4937\"/>\n",
       "<text text-anchor=\"middle\" x=\"282.8324\" y=\"-616.0055\" font-family=\"Times,serif\" font-size=\"14.00\" fill=\"#000000\">13</text>\n",
       "</g>\n",
       "<!-- 10 -->\n",
       "<g id=\"node10\" class=\"node\">\n",
       "<title>10</title>\n",
       "<ellipse fill=\"none\" stroke=\"#000000\" cx=\"465.8186\" cy=\"-125.5\" rx=\"27\" ry=\"18\"/>\n",
       "<text text-anchor=\"middle\" x=\"465.8186\" y=\"-121.3\" font-family=\"Times,serif\" font-size=\"14.00\" fill=\"#000000\">10</text>\n",
       "</g>\n",
       "<!-- 10&#45;&gt;9 -->\n",
       "<g id=\"edge12\" class=\"edge\">\n",
       "<title>10&#45;&gt;9</title>\n",
       "<path fill=\"none\" stroke=\"#000000\" d=\"M459.479,-143.2011C453.1799,-160.7889 443.4329,-188.0038 436.1414,-208.3627\"/>\n",
       "<polygon fill=\"#000000\" stroke=\"#000000\" points=\"432.7612,-207.4205 432.6844,-218.015 439.3513,-209.7807 432.7612,-207.4205\"/>\n",
       "<text text-anchor=\"middle\" x=\"440.8102\" y=\"-178.5819\" font-family=\"Times,serif\" font-size=\"14.00\" fill=\"#000000\">17</text>\n",
       "</g>\n",
       "<!-- 13 -->\n",
       "<g id=\"node13\" class=\"node\">\n",
       "<title>13</title>\n",
       "<ellipse fill=\"none\" stroke=\"#000000\" cx=\"499.8149\" cy=\"-18\" rx=\"27\" ry=\"18\"/>\n",
       "<text text-anchor=\"middle\" x=\"499.8149\" y=\"-13.8\" font-family=\"Times,serif\" font-size=\"14.00\" fill=\"#000000\">13</text>\n",
       "</g>\n",
       "<!-- 13&#45;&gt;10 -->\n",
       "<g id=\"edge13\" class=\"edge\">\n",
       "<title>13&#45;&gt;10</title>\n",
       "<path fill=\"none\" stroke=\"#000000\" d=\"M494.2011,-35.7514C488.8371,-52.7129 480.674,-78.5256 474.4769,-98.1214\"/>\n",
       "<polygon fill=\"#000000\" stroke=\"#000000\" points=\"471.1189,-97.1323 471.4407,-107.7222 477.7931,-99.243 471.1189,-97.1323\"/>\n",
       "<text text-anchor=\"middle\" x=\"477.339\" y=\"-69.7364\" font-family=\"Times,serif\" font-size=\"14.00\" fill=\"#000000\">21</text>\n",
       "</g>\n",
       "<!-- 14 -->\n",
       "<g id=\"node14\" class=\"node\">\n",
       "<title>14</title>\n",
       "<ellipse fill=\"none\" stroke=\"#000000\" cx=\"726.6671\" cy=\"-660.296\" rx=\"27\" ry=\"18\"/>\n",
       "<text text-anchor=\"middle\" x=\"726.6671\" y=\"-656.096\" font-family=\"Times,serif\" font-size=\"14.00\" fill=\"#000000\">14</text>\n",
       "</g>\n",
       "<!-- 14&#45;&gt;2 -->\n",
       "<g id=\"edge14\" class=\"edge\">\n",
       "<title>14&#45;&gt;2</title>\n",
       "<path fill=\"none\" stroke=\"#000000\" d=\"M707.4226,-647.0757C692.9205,-637.1132 672.8366,-623.3162 656.6587,-612.2026\"/>\n",
       "<polygon fill=\"#000000\" stroke=\"#000000\" points=\"658.3575,-609.1233 648.1332,-606.3458 654.3938,-614.893 658.3575,-609.1233\"/>\n",
       "<text text-anchor=\"middle\" x=\"675.0407\" y=\"-632.4391\" font-family=\"Times,serif\" font-size=\"14.00\" fill=\"#000000\">23</text>\n",
       "</g>\n",
       "</g>\n",
       "</svg>\n"
      ],
      "text/plain": [
       "DiGraph(DiNode[DiNode(1,Dict{Symbol,Any}()),DiNode(2,Dict{Symbol,Any}()),DiNode(3,Dict{Symbol,Any}()),DiNode(4,Dict{Symbol,Any}()),DiNode(5,Dict{Symbol,Any}()),DiNode(6,Dict{Symbol,Any}()),DiNode(7,Dict{Symbol,Any}()),DiNode(8,Dict{Symbol,Any}()),DiNode(9,Dict{Symbol,Any}()),DiNode(10,Dict{Symbol,Any}()),DiNode(11,Dict{Symbol,Any}()),DiNode(12,Dict{Symbol,Any}()),DiNode(13,Dict{Symbol,Any}()),DiNode(14,Dict{Symbol,Any}()),DiNode(15,Dict{Symbol,Any}())],DiEdge[DiEdge(1=>6,Dict{Symbol,Any}(Pair{Symbol,Any}(:label,1),Pair{Symbol,Any}(:len,1.5))),DiEdge(2=>11,Dict{Symbol,Any}(Pair{Symbol,Any}(:label,2),Pair{Symbol,Any}(:len,1.5))),DiEdge(2=>12,Dict{Symbol,Any}(Pair{Symbol,Any}(:label,3),Pair{Symbol,Any}(:len,1.5))),DiEdge(3=>2,Dict{Symbol,Any}(Pair{Symbol,Any}(:label,4),Pair{Symbol,Any}(:len,1.5))),DiEdge(3=>6,Dict{Symbol,Any}(Pair{Symbol,Any}(:label,5),Pair{Symbol,Any}(:len,1.5))),DiEdge(4=>15,Dict{Symbol,Any}(Pair{Symbol,Any}(:label,6),Pair{Symbol,Any}(:len,1.5))),DiEdge(5=>4,Dict{Symbol,Any}(Pair{Symbol,Any}(:label,7),Pair{Symbol,Any}(:len,1.5))),DiEdge(5=>7,Dict{Symbol,Any}(Pair{Symbol,Any}(:label,8),Pair{Symbol,Any}(:len,1.5))),DiEdge(6=>7,Dict{Symbol,Any}(Pair{Symbol,Any}(:label,10),Pair{Symbol,Any}(:len,1.5))),DiEdge(7=>9,Dict{Symbol,Any}(Pair{Symbol,Any}(:label,12),Pair{Symbol,Any}(:len,1.5))),DiEdge(8=>1,Dict{Symbol,Any}(Pair{Symbol,Any}(:label,13),Pair{Symbol,Any}(:len,1.5))),DiEdge(10=>9,Dict{Symbol,Any}(Pair{Symbol,Any}(:label,17),Pair{Symbol,Any}(:len,1.5))),DiEdge(13=>10,Dict{Symbol,Any}(Pair{Symbol,Any}(:label,21),Pair{Symbol,Any}(:len,1.5))),DiEdge(14=>2,Dict{Symbol,Any}(Pair{Symbol,Any}(:label,23),Pair{Symbol,Any}(:len,1.5)))],Dict{Symbol,Any}())"
      ]
     },
     "execution_count": 25,
     "metadata": {},
     "output_type": "execute_result"
    }
   ],
   "source": [
    "tree(gbig)"
   ]
  },
  {
   "cell_type": "markdown",
   "metadata": {},
   "source": [
    "And we can make trees from even larger graphs, for fun:"
   ]
  },
  {
   "cell_type": "code",
   "execution_count": 26,
   "metadata": {
    "collapsed": false
   },
   "outputs": [
    {
     "data": {
      "image/svg+xml": [
       "<?xml version=\"1.0\" encoding=\"UTF-8\" standalone=\"no\"?>\n",
       "<!DOCTYPE svg PUBLIC \"-//W3C//DTD SVG 1.1//EN\"\n",
       " \"http://www.w3.org/Graphics/SVG/1.1/DTD/svg11.dtd\">\n",
       "<!-- Generated by graphviz version 2.40.1 (20161225.0304)\n",
       " -->\n",
       "<!-- Title: MyDiGraph Pages: 1 -->\n",
       "<svg width=\"438pt\" height=\"371pt\"\n",
       " viewBox=\"0.00 0.00 438.42 371.47\" xmlns=\"http://www.w3.org/2000/svg\" xmlns:xlink=\"http://www.w3.org/1999/xlink\">\n",
       "<g id=\"graph0\" class=\"graph\" transform=\"scale(1 1) rotate(0) translate(4 367.4699)\">\n",
       "<title>MyDiGraph</title>\n",
       "<polygon fill=\"#ffffff\" stroke=\"transparent\" points=\"-4,4 -4,-367.4699 434.42,-367.4699 434.42,4 -4,4\"/>\n",
       "<!-- 1 -->\n",
       "<g id=\"node1\" class=\"node\">\n",
       "<title>1</title>\n",
       "<ellipse fill=\"none\" stroke=\"#000000\" cx=\"243.8888\" cy=\"-171.8488\" rx=\"27\" ry=\"18\"/>\n",
       "<text text-anchor=\"middle\" x=\"243.8888\" y=\"-167.6488\" font-family=\"Times,serif\" font-size=\"14.00\" fill=\"#000000\">1</text>\n",
       "</g>\n",
       "<!-- 2 -->\n",
       "<g id=\"node2\" class=\"node\">\n",
       "<title>2</title>\n",
       "<ellipse fill=\"none\" stroke=\"#000000\" cx=\"165.0477\" cy=\"-113.6363\" rx=\"27\" ry=\"18\"/>\n",
       "<text text-anchor=\"middle\" x=\"165.0477\" y=\"-109.4363\" font-family=\"Times,serif\" font-size=\"14.00\" fill=\"#000000\">2</text>\n",
       "</g>\n",
       "<!-- 1&#45;&gt;2 -->\n",
       "<g id=\"edge1\" class=\"edge\">\n",
       "<title>1&#45;&gt;2</title>\n",
       "<path fill=\"none\" stroke=\"#000000\" d=\"M225.6029,-158.3474C215.4531,-150.8533 202.6494,-141.3996 191.4325,-133.1176\"/>\n",
       "<polygon fill=\"#000000\" stroke=\"#000000\" points=\"193.3582,-130.1888 183.2344,-127.0645 189.2002,-135.8201 193.3582,-130.1888\"/>\n",
       "<text text-anchor=\"middle\" x=\"205.0177\" y=\"-148.5325\" font-family=\"Times,serif\" font-size=\"14.00\" fill=\"#000000\">1</text>\n",
       "</g>\n",
       "<!-- 5 -->\n",
       "<g id=\"node5\" class=\"node\">\n",
       "<title>5</title>\n",
       "<ellipse fill=\"none\" stroke=\"#000000\" cx=\"253.2752\" cy=\"-260.144\" rx=\"27\" ry=\"18\"/>\n",
       "<text text-anchor=\"middle\" x=\"253.2752\" y=\"-255.944\" font-family=\"Times,serif\" font-size=\"14.00\" fill=\"#000000\">5</text>\n",
       "</g>\n",
       "<!-- 1&#45;&gt;5 -->\n",
       "<g id=\"edge2\" class=\"edge\">\n",
       "<title>1&#45;&gt;5</title>\n",
       "<path fill=\"none\" stroke=\"#000000\" d=\"M245.8336,-190.1436C247.1132,-202.1805 248.8137,-218.1763 250.2661,-231.8385\"/>\n",
       "<polygon fill=\"#000000\" stroke=\"#000000\" points=\"246.8273,-232.6008 251.3649,-242.1747 253.7881,-231.8607 246.8273,-232.6008\"/>\n",
       "<text text-anchor=\"middle\" x=\"244.5499\" y=\"-213.791\" font-family=\"Times,serif\" font-size=\"14.00\" fill=\"#000000\">2</text>\n",
       "</g>\n",
       "<!-- 6 -->\n",
       "<g id=\"node6\" class=\"node\">\n",
       "<title>6</title>\n",
       "<ellipse fill=\"none\" stroke=\"#000000\" cx=\"321.0755\" cy=\"-122.2794\" rx=\"27\" ry=\"18\"/>\n",
       "<text text-anchor=\"middle\" x=\"321.0755\" y=\"-118.0794\" font-family=\"Times,serif\" font-size=\"14.00\" fill=\"#000000\">6</text>\n",
       "</g>\n",
       "<!-- 1&#45;&gt;6 -->\n",
       "<g id=\"edge3\" class=\"edge\">\n",
       "<title>1&#45;&gt;6</title>\n",
       "<path fill=\"none\" stroke=\"#000000\" d=\"M263.3662,-159.3403C272.3248,-153.5872 283.1217,-146.6533 292.9415,-140.347\"/>\n",
       "<polygon fill=\"#000000\" stroke=\"#000000\" points=\"295.0812,-143.1326 301.6042,-134.7839 291.2986,-137.2426 295.0812,-143.1326\"/>\n",
       "<text text-anchor=\"middle\" x=\"274.6539\" y=\"-152.6437\" font-family=\"Times,serif\" font-size=\"14.00\" fill=\"#000000\">3</text>\n",
       "</g>\n",
       "<!-- 7 -->\n",
       "<g id=\"node7\" class=\"node\">\n",
       "<title>7</title>\n",
       "<ellipse fill=\"none\" stroke=\"#000000\" cx=\"184.0492\" cy=\"-247.7651\" rx=\"27\" ry=\"18\"/>\n",
       "<text text-anchor=\"middle\" x=\"184.0492\" y=\"-243.5651\" font-family=\"Times,serif\" font-size=\"14.00\" fill=\"#000000\">7</text>\n",
       "</g>\n",
       "<!-- 1&#45;&gt;7 -->\n",
       "<g id=\"edge4\" class=\"edge\">\n",
       "<title>1&#45;&gt;7</title>\n",
       "<path fill=\"none\" stroke=\"#000000\" d=\"M231.1983,-187.9487C223.0268,-198.3157 212.2542,-211.9825 203.0691,-223.6353\"/>\n",
       "<polygon fill=\"#000000\" stroke=\"#000000\" points=\"200.1631,-221.6682 196.7214,-231.6884 205.6606,-226.0015 200.1631,-221.6682\"/>\n",
       "<text text-anchor=\"middle\" x=\"213.6337\" y=\"-208.592\" font-family=\"Times,serif\" font-size=\"14.00\" fill=\"#000000\">4</text>\n",
       "</g>\n",
       "<!-- 11 -->\n",
       "<g id=\"node11\" class=\"node\">\n",
       "<title>11</title>\n",
       "<ellipse fill=\"none\" stroke=\"#000000\" cx=\"306.4144\" cy=\"-223.7169\" rx=\"27\" ry=\"18\"/>\n",
       "<text text-anchor=\"middle\" x=\"306.4144\" y=\"-219.5169\" font-family=\"Times,serif\" font-size=\"14.00\" fill=\"#000000\">11</text>\n",
       "</g>\n",
       "<!-- 1&#45;&gt;11 -->\n",
       "<g id=\"edge5\" class=\"edge\">\n",
       "<title>1&#45;&gt;11</title>\n",
       "<path fill=\"none\" stroke=\"#000000\" d=\"M260.9742,-186.022C267.3153,-191.2823 274.6437,-197.3616 281.5391,-203.0816\"/>\n",
       "<polygon fill=\"#000000\" stroke=\"#000000\" points=\"279.4185,-205.87 289.3497,-209.5609 283.8878,-200.4824 279.4185,-205.87\"/>\n",
       "<text text-anchor=\"middle\" x=\"267.7567\" y=\"-197.3518\" font-family=\"Times,serif\" font-size=\"14.00\" fill=\"#000000\">5</text>\n",
       "</g>\n",
       "<!-- 19 -->\n",
       "<g id=\"node19\" class=\"node\">\n",
       "<title>19</title>\n",
       "<ellipse fill=\"none\" stroke=\"#000000\" cx=\"198.9822\" cy=\"-196.7783\" rx=\"27\" ry=\"18\"/>\n",
       "<text text-anchor=\"middle\" x=\"198.9822\" y=\"-192.5783\" font-family=\"Times,serif\" font-size=\"14.00\" fill=\"#000000\">19</text>\n",
       "</g>\n",
       "<!-- 1&#45;&gt;19 -->\n",
       "<g id=\"edge6\" class=\"edge\">\n",
       "<title>1&#45;&gt;19</title>\n",
       "<path fill=\"none\" stroke=\"#000000\" d=\"M223.0131,-183.4378C222.8871,-183.5077 222.7611,-183.5777 222.635,-183.6477\"/>\n",
       "<polygon fill=\"#000000\" stroke=\"#000000\" points=\"227.0294,-177.2048 219.9851,-185.1187 230.4271,-183.325 227.0294,-177.2048\"/>\n",
       "<text text-anchor=\"middle\" x=\"226.324\" y=\"-186.3427\" font-family=\"Times,serif\" font-size=\"14.00\" fill=\"#000000\">6</text>\n",
       "</g>\n",
       "<!-- 3 -->\n",
       "<g id=\"node3\" class=\"node\">\n",
       "<title>3</title>\n",
       "<ellipse fill=\"none\" stroke=\"#000000\" cx=\"94.4774\" cy=\"-60.5518\" rx=\"27\" ry=\"18\"/>\n",
       "<text text-anchor=\"middle\" x=\"94.4774\" y=\"-56.3518\" font-family=\"Times,serif\" font-size=\"14.00\" fill=\"#000000\">3</text>\n",
       "</g>\n",
       "<!-- 2&#45;&gt;3 -->\n",
       "<g id=\"edge7\" class=\"edge\">\n",
       "<title>2&#45;&gt;3</title>\n",
       "<path fill=\"none\" stroke=\"#000000\" d=\"M146.8741,-99.9657C138.9514,-94.0061 129.51,-86.9041 120.8383,-80.381\"/>\n",
       "<polygon fill=\"#000000\" stroke=\"#000000\" points=\"122.9302,-77.5749 112.8347,-74.3605 118.7222,-83.169 122.9302,-77.5749\"/>\n",
       "<text text-anchor=\"middle\" x=\"130.3562\" y=\"-92.9734\" font-family=\"Times,serif\" font-size=\"14.00\" fill=\"#000000\">8</text>\n",
       "</g>\n",
       "<!-- 12 -->\n",
       "<g id=\"node12\" class=\"node\">\n",
       "<title>12</title>\n",
       "<ellipse fill=\"none\" stroke=\"#000000\" cx=\"85.4058\" cy=\"-123.6754\" rx=\"27\" ry=\"18\"/>\n",
       "<text text-anchor=\"middle\" x=\"85.4058\" y=\"-119.4754\" font-family=\"Times,serif\" font-size=\"14.00\" fill=\"#000000\">12</text>\n",
       "</g>\n",
       "<!-- 2&#45;&gt;12 -->\n",
       "<g id=\"edge8\" class=\"edge\">\n",
       "<title>2&#45;&gt;12</title>\n",
       "<path fill=\"none\" stroke=\"#000000\" d=\"M138.0846,-117.0351C132.9698,-117.6799 127.538,-118.3646 122.1801,-119.0399\"/>\n",
       "<polygon fill=\"#000000\" stroke=\"#000000\" points=\"121.5545,-115.591 112.0708,-120.3142 122.43,-122.536 121.5545,-115.591\"/>\n",
       "<text text-anchor=\"middle\" x=\"123.3887\" y=\"-120.8375\" font-family=\"Times,serif\" font-size=\"14.00\" fill=\"#000000\">11</text>\n",
       "</g>\n",
       "<!-- 16 -->\n",
       "<g id=\"node16\" class=\"node\">\n",
       "<title>16</title>\n",
       "<ellipse fill=\"none\" stroke=\"#000000\" cx=\"153.9934\" cy=\"-32.6562\" rx=\"27\" ry=\"18\"/>\n",
       "<text text-anchor=\"middle\" x=\"153.9934\" y=\"-28.4562\" font-family=\"Times,serif\" font-size=\"14.00\" fill=\"#000000\">16</text>\n",
       "</g>\n",
       "<!-- 2&#45;&gt;16 -->\n",
       "<g id=\"edge9\" class=\"edge\">\n",
       "<title>2&#45;&gt;16</title>\n",
       "<path fill=\"none\" stroke=\"#000000\" d=\"M162.5944,-95.6642C161.2016,-85.461 159.427,-72.4607 157.8519,-60.9219\"/>\n",
       "<polygon fill=\"#000000\" stroke=\"#000000\" points=\"161.2985,-60.2928 156.4781,-50.8581 154.3629,-61.2396 161.2985,-60.2928\"/>\n",
       "<text text-anchor=\"middle\" x=\"153.2231\" y=\"-81.093\" font-family=\"Times,serif\" font-size=\"14.00\" fill=\"#000000\">12</text>\n",
       "</g>\n",
       "<!-- 17 -->\n",
       "<g id=\"node17\" class=\"node\">\n",
       "<title>17</title>\n",
       "<ellipse fill=\"none\" stroke=\"#000000\" cx=\"200.1045\" cy=\"-40.4066\" rx=\"27\" ry=\"18\"/>\n",
       "<text text-anchor=\"middle\" x=\"200.1045\" y=\"-36.2066\" font-family=\"Times,serif\" font-size=\"14.00\" fill=\"#000000\">17</text>\n",
       "</g>\n",
       "<!-- 2&#45;&gt;17 -->\n",
       "<g id=\"edge10\" class=\"edge\">\n",
       "<title>2&#45;&gt;17</title>\n",
       "<path fill=\"none\" stroke=\"#000000\" d=\"M173.3557,-96.2819C177.5469,-87.5268 182.7214,-76.7179 187.399,-66.9469\"/>\n",
       "<polygon fill=\"#000000\" stroke=\"#000000\" points=\"190.6951,-68.1675 191.8562,-57.6364 184.3813,-65.1449 190.6951,-68.1675\"/>\n",
       "<text text-anchor=\"middle\" x=\"173.3774\" y=\"-84.4144\" font-family=\"Times,serif\" font-size=\"14.00\" fill=\"#000000\">13</text>\n",
       "</g>\n",
       "<!-- 20 -->\n",
       "<g id=\"node20\" class=\"node\">\n",
       "<title>20</title>\n",
       "<ellipse fill=\"none\" stroke=\"#000000\" cx=\"97.5614\" cy=\"-168.7916\" rx=\"27\" ry=\"18\"/>\n",
       "<text text-anchor=\"middle\" x=\"97.5614\" y=\"-164.5916\" font-family=\"Times,serif\" font-size=\"14.00\" fill=\"#000000\">20</text>\n",
       "</g>\n",
       "<!-- 2&#45;&gt;20 -->\n",
       "<g id=\"edge11\" class=\"edge\">\n",
       "<title>2&#45;&gt;20</title>\n",
       "<path fill=\"none\" stroke=\"#000000\" d=\"M147.6683,-127.8402C140.0528,-134.0642 130.9699,-141.4875 122.6421,-148.2936\"/>\n",
       "<polygon fill=\"#000000\" stroke=\"#000000\" points=\"120.1764,-145.7885 114.6483,-154.8268 124.6062,-151.2086 120.1764,-145.7885\"/>\n",
       "<text text-anchor=\"middle\" x=\"142.1552\" y=\"-140.8669\" font-family=\"Times,serif\" font-size=\"14.00\" fill=\"#000000\">14</text>\n",
       "</g>\n",
       "<!-- 4 -->\n",
       "<g id=\"node4\" class=\"node\">\n",
       "<title>4</title>\n",
       "<ellipse fill=\"none\" stroke=\"#000000\" cx=\"27\" cy=\"-18\" rx=\"27\" ry=\"18\"/>\n",
       "<text text-anchor=\"middle\" x=\"27\" y=\"-13.8\" font-family=\"Times,serif\" font-size=\"14.00\" fill=\"#000000\">4</text>\n",
       "</g>\n",
       "<!-- 4&#45;&gt;3 -->\n",
       "<g id=\"edge12\" class=\"edge\">\n",
       "<title>4&#45;&gt;3</title>\n",
       "<path fill=\"none\" stroke=\"#000000\" d=\"M46.8805,-30.5368C52.8673,-34.3121 59.5587,-38.5318 65.9893,-42.5869\"/>\n",
       "<polygon fill=\"#000000\" stroke=\"#000000\" points=\"64.1803,-45.584 74.5058,-47.9575 67.9141,-39.6629 64.1803,-45.584\"/>\n",
       "<text text-anchor=\"middle\" x=\"49.4349\" y=\"-39.3619\" font-family=\"Times,serif\" font-size=\"14.00\" fill=\"#000000\">17</text>\n",
       "</g>\n",
       "<!-- 18 -->\n",
       "<g id=\"node18\" class=\"node\">\n",
       "<title>18</title>\n",
       "<ellipse fill=\"none\" stroke=\"#000000\" cx=\"258.8452\" cy=\"-345.4699\" rx=\"27\" ry=\"18\"/>\n",
       "<text text-anchor=\"middle\" x=\"258.8452\" y=\"-341.2699\" font-family=\"Times,serif\" font-size=\"14.00\" fill=\"#000000\">18</text>\n",
       "</g>\n",
       "<!-- 5&#45;&gt;18 -->\n",
       "<g id=\"edge13\" class=\"edge\">\n",
       "<title>5&#45;&gt;18</title>\n",
       "<path fill=\"none\" stroke=\"#000000\" d=\"M254.4564,-278.2394C255.1949,-289.552 256.1616,-304.3605 256.9997,-317.1993\"/>\n",
       "<polygon fill=\"#000000\" stroke=\"#000000\" points=\"253.5215,-317.6498 257.6656,-327.4005 260.5067,-317.1938 253.5215,-317.6498\"/>\n",
       "<text text-anchor=\"middle\" x=\"248.728\" y=\"-300.5193\" font-family=\"Times,serif\" font-size=\"14.00\" fill=\"#000000\">21</text>\n",
       "</g>\n",
       "<!-- 8 -->\n",
       "<g id=\"node8\" class=\"node\">\n",
       "<title>8</title>\n",
       "<ellipse fill=\"none\" stroke=\"#000000\" cx=\"403.42\" cy=\"-110.3089\" rx=\"27\" ry=\"18\"/>\n",
       "<text text-anchor=\"middle\" x=\"403.42\" y=\"-106.1089\" font-family=\"Times,serif\" font-size=\"14.00\" fill=\"#000000\">8</text>\n",
       "</g>\n",
       "<!-- 6&#45;&gt;8 -->\n",
       "<g id=\"edge14\" class=\"edge\">\n",
       "<title>6&#45;&gt;8</title>\n",
       "<path fill=\"none\" stroke=\"#000000\" d=\"M347.583,-118.426C353.7538,-117.5289 360.4301,-116.5584 366.9473,-115.611\"/>\n",
       "<polygon fill=\"#000000\" stroke=\"#000000\" points=\"367.5696,-119.0574 376.9621,-114.1551 366.5625,-112.1302 367.5696,-119.0574\"/>\n",
       "<text text-anchor=\"middle\" x=\"364.2652\" y=\"-119.8185\" font-family=\"Times,serif\" font-size=\"14.00\" fill=\"#000000\">23</text>\n",
       "</g>\n",
       "<!-- 9 -->\n",
       "<g id=\"node9\" class=\"node\">\n",
       "<title>9</title>\n",
       "<ellipse fill=\"none\" stroke=\"#000000\" cx=\"321.8864\" cy=\"-38.1625\" rx=\"27\" ry=\"18\"/>\n",
       "<text text-anchor=\"middle\" x=\"321.8864\" y=\"-33.9625\" font-family=\"Times,serif\" font-size=\"14.00\" fill=\"#000000\">9</text>\n",
       "</g>\n",
       "<!-- 6&#45;&gt;9 -->\n",
       "<g id=\"edge15\" class=\"edge\">\n",
       "<title>6&#45;&gt;9</title>\n",
       "<path fill=\"none\" stroke=\"#000000\" d=\"M321.2514,-104.0273C321.3566,-93.1147 321.4926,-79.0139 321.6116,-66.6608\"/>\n",
       "<polygon fill=\"#000000\" stroke=\"#000000\" points=\"325.1141,-66.4123 321.7108,-56.379 318.1144,-66.3447 325.1141,-66.4123\"/>\n",
       "<text text-anchor=\"middle\" x=\"314.4315\" y=\"-88.144\" font-family=\"Times,serif\" font-size=\"14.00\" fill=\"#000000\">24</text>\n",
       "</g>\n",
       "<!-- 10 -->\n",
       "<g id=\"node10\" class=\"node\">\n",
       "<title>10</title>\n",
       "<ellipse fill=\"none\" stroke=\"#000000\" cx=\"373.745\" cy=\"-57.5992\" rx=\"27\" ry=\"18\"/>\n",
       "<text text-anchor=\"middle\" x=\"373.745\" y=\"-53.3992\" font-family=\"Times,serif\" font-size=\"14.00\" fill=\"#000000\">10</text>\n",
       "</g>\n",
       "<!-- 6&#45;&gt;10 -->\n",
       "<g id=\"edge16\" class=\"edge\">\n",
       "<title>6&#45;&gt;10</title>\n",
       "<path fill=\"none\" stroke=\"#000000\" d=\"M334.0949,-106.2911C340.1266,-98.884 347.4228,-89.9239 354.1036,-81.7197\"/>\n",
       "<polygon fill=\"#000000\" stroke=\"#000000\" points=\"356.9091,-83.8173 360.5095,-73.8529 351.4811,-79.3972 356.9091,-83.8173\"/>\n",
       "<text text-anchor=\"middle\" x=\"337.0992\" y=\"-82.8054\" font-family=\"Times,serif\" font-size=\"14.00\" fill=\"#000000\">25</text>\n",
       "</g>\n",
       "<!-- 14 -->\n",
       "<g id=\"node14\" class=\"node\">\n",
       "<title>14</title>\n",
       "<ellipse fill=\"none\" stroke=\"#000000\" cx=\"394.9081\" cy=\"-166.5274\" rx=\"27\" ry=\"18\"/>\n",
       "<text text-anchor=\"middle\" x=\"394.9081\" y=\"-162.3274\" font-family=\"Times,serif\" font-size=\"14.00\" fill=\"#000000\">14</text>\n",
       "</g>\n",
       "<!-- 6&#45;&gt;14 -->\n",
       "<g id=\"edge17\" class=\"edge\">\n",
       "<title>6&#45;&gt;14</title>\n",
       "<path fill=\"none\" stroke=\"#000000\" d=\"M341.2505,-134.3704C348.9012,-138.9554 357.7689,-144.2698 366.0647,-149.2415\"/>\n",
       "<polygon fill=\"#000000\" stroke=\"#000000\" points=\"364.3806,-152.3126 374.7574,-154.4511 367.979,-146.3083 364.3806,-152.3126\"/>\n",
       "<text text-anchor=\"middle\" x=\"346.6576\" y=\"-144.6059\" font-family=\"Times,serif\" font-size=\"14.00\" fill=\"#000000\">26</text>\n",
       "</g>\n",
       "<!-- 15 -->\n",
       "<g id=\"node15\" class=\"node\">\n",
       "<title>15</title>\n",
       "<ellipse fill=\"none\" stroke=\"#000000\" cx=\"134.9159\" cy=\"-316.5197\" rx=\"27\" ry=\"18\"/>\n",
       "<text text-anchor=\"middle\" x=\"134.9159\" y=\"-312.3197\" font-family=\"Times,serif\" font-size=\"14.00\" fill=\"#000000\">15</text>\n",
       "</g>\n",
       "<!-- 7&#45;&gt;15 -->\n",
       "<g id=\"edge18\" class=\"edge\">\n",
       "<title>7&#45;&gt;15</title>\n",
       "<path fill=\"none\" stroke=\"#000000\" d=\"M172.4053,-264.059C166.556,-272.2443 159.3402,-282.3416 152.8063,-291.4849\"/>\n",
       "<polygon fill=\"#000000\" stroke=\"#000000\" points=\"149.7841,-289.6941 146.8175,-299.8651 155.4794,-293.764 149.7841,-289.6941\"/>\n",
       "<text text-anchor=\"middle\" x=\"155.6058\" y=\"-280.5719\" font-family=\"Times,serif\" font-size=\"14.00\" fill=\"#000000\">33</text>\n",
       "</g>\n",
       "<!-- 13 -->\n",
       "<g id=\"node13\" class=\"node\">\n",
       "<title>13</title>\n",
       "<ellipse fill=\"none\" stroke=\"#000000\" cx=\"364.1381\" cy=\"-287.9638\" rx=\"27\" ry=\"18\"/>\n",
       "<text text-anchor=\"middle\" x=\"364.1381\" y=\"-283.7638\" font-family=\"Times,serif\" font-size=\"14.00\" fill=\"#000000\">13</text>\n",
       "</g>\n",
       "<!-- 11&#45;&gt;13 -->\n",
       "<g id=\"edge19\" class=\"edge\">\n",
       "<title>11&#45;&gt;13</title>\n",
       "<path fill=\"none\" stroke=\"#000000\" d=\"M320.3877,-239.2693C327.1642,-246.8116 335.4486,-256.0321 342.9783,-264.4128\"/>\n",
       "<polygon fill=\"#000000\" stroke=\"#000000\" points=\"340.6056,-267.0089 349.8925,-272.1083 345.8126,-262.3305 340.6056,-267.0089\"/>\n",
       "<text text-anchor=\"middle\" x=\"324.683\" y=\"-254.6411\" font-family=\"Times,serif\" font-size=\"14.00\" fill=\"#000000\">61</text>\n",
       "</g>\n",
       "</g>\n",
       "</svg>\n"
      ],
      "text/plain": [
       "DiGraph(DiNode[DiNode(1,Dict{Symbol,Any}()),DiNode(2,Dict{Symbol,Any}()),DiNode(3,Dict{Symbol,Any}()),DiNode(4,Dict{Symbol,Any}()),DiNode(5,Dict{Symbol,Any}()),DiNode(6,Dict{Symbol,Any}()),DiNode(7,Dict{Symbol,Any}()),DiNode(8,Dict{Symbol,Any}()),DiNode(9,Dict{Symbol,Any}()),DiNode(10,Dict{Symbol,Any}()),DiNode(11,Dict{Symbol,Any}()),DiNode(12,Dict{Symbol,Any}()),DiNode(13,Dict{Symbol,Any}()),DiNode(14,Dict{Symbol,Any}()),DiNode(15,Dict{Symbol,Any}()),DiNode(16,Dict{Symbol,Any}()),DiNode(17,Dict{Symbol,Any}()),DiNode(18,Dict{Symbol,Any}()),DiNode(19,Dict{Symbol,Any}()),DiNode(20,Dict{Symbol,Any}())],DiEdge[DiEdge(1=>2,Dict{Symbol,Any}(Pair{Symbol,Any}(:label,1))),DiEdge(1=>5,Dict{Symbol,Any}(Pair{Symbol,Any}(:label,2))),DiEdge(1=>6,Dict{Symbol,Any}(Pair{Symbol,Any}(:label,3))),DiEdge(1=>7,Dict{Symbol,Any}(Pair{Symbol,Any}(:label,4))),DiEdge(1=>11,Dict{Symbol,Any}(Pair{Symbol,Any}(:label,5))),DiEdge(1=>19,Dict{Symbol,Any}(Pair{Symbol,Any}(:label,6))),DiEdge(2=>3,Dict{Symbol,Any}(Pair{Symbol,Any}(:label,8))),DiEdge(2=>12,Dict{Symbol,Any}(Pair{Symbol,Any}(:label,11))),DiEdge(2=>16,Dict{Symbol,Any}(Pair{Symbol,Any}(:label,12))),DiEdge(2=>17,Dict{Symbol,Any}(Pair{Symbol,Any}(:label,13))),DiEdge(2=>20,Dict{Symbol,Any}(Pair{Symbol,Any}(:label,14))),DiEdge(4=>3,Dict{Symbol,Any}(Pair{Symbol,Any}(:label,17))),DiEdge(5=>18,Dict{Symbol,Any}(Pair{Symbol,Any}(:label,21))),DiEdge(6=>8,Dict{Symbol,Any}(Pair{Symbol,Any}(:label,23))),DiEdge(6=>9,Dict{Symbol,Any}(Pair{Symbol,Any}(:label,24))),DiEdge(6=>10,Dict{Symbol,Any}(Pair{Symbol,Any}(:label,25))),DiEdge(6=>14,Dict{Symbol,Any}(Pair{Symbol,Any}(:label,26))),DiEdge(7=>15,Dict{Symbol,Any}(Pair{Symbol,Any}(:label,33))),DiEdge(11=>13,Dict{Symbol,Any}(Pair{Symbol,Any}(:label,61)))],Dict{Symbol,Any}())"
      ]
     },
     "execution_count": 26,
     "metadata": {},
     "output_type": "execute_result"
    }
   ],
   "source": [
    "tree(randgraph(20, 6))"
   ]
  },
  {
   "cell_type": "markdown",
   "metadata": {},
   "source": [
    "## Graphs and Kirchhoff's circuit laws\n",
    "\n"
   ]
  },
  {
   "cell_type": "markdown",
   "metadata": {},
   "source": [
    "An elegant application of the incidence matrix and its subspaces arises if we think of the graph as representing an **electrical circuit**:\n",
    "\n",
    "* Each edge represents a wire/resistor, with an unknown current $i$.  The *direction* of the edge indicates the *sign convention* ($i>0$ indicates current flowing in the direction of the arrow).\n",
    "* Each node represents a junction, with an unknown voltage $v$.\n",
    "\n",
    "Let's visualize this by re-labeling our graph from above.  We'll use the [SymPy](https://github.com/JuliaPy/SymPy.jl) package to allow us to do *symbolic* (not numeric) calculations with the incidence matrix."
   ]
  },
  {
   "cell_type": "code",
   "execution_count": 27,
   "metadata": {
    "collapsed": false
   },
   "outputs": [
    {
     "data": {
      "text/plain": [
       "\"v₂ - v₀\""
      ]
     },
     "execution_count": 27,
     "metadata": {},
     "output_type": "execute_result"
    }
   ],
   "source": [
    "# A little code so that we can label graph nodes/edges with SymPy expressions.\n",
    "# convert strings like \"v_2 - v_0\" from SymPy to nicer Unicode strings like \"v₂ - v₀\"\n",
    "subchar(d::Integer) = Char(UInt32('₀')+d)\n",
    "subchar(c::Char) = subchar(UInt32(c)-UInt32('0'))\n",
    "subchar(s::String) = replace(s, r\"_[0-9]\", s -> subchar(s[2]))\n",
    "showprop(io, s::SymPy.Sym) = showprop(io, subchar(stringmime(\"text/plain\", s)))\n",
    "subchar(\"v_2 - v_0\")"
   ]
  },
  {
   "cell_type": "code",
   "execution_count": 28,
   "metadata": {
    "collapsed": false
   },
   "outputs": [
    {
     "data": {
      "image/svg+xml": [
       "<?xml version=\"1.0\" encoding=\"UTF-8\" standalone=\"no\"?>\n",
       "<!DOCTYPE svg PUBLIC \"-//W3C//DTD SVG 1.1//EN\"\n",
       " \"http://www.w3.org/Graphics/SVG/1.1/DTD/svg11.dtd\">\n",
       "<!-- Generated by graphviz version 2.40.1 (20161225.0304)\n",
       " -->\n",
       "<!-- Title: MyDiGraph Pages: 1 -->\n",
       "<svg width=\"259pt\" height=\"257pt\"\n",
       " viewBox=\"0.00 0.00 258.52 256.56\" xmlns=\"http://www.w3.org/2000/svg\" xmlns:xlink=\"http://www.w3.org/1999/xlink\">\n",
       "<g id=\"graph0\" class=\"graph\" transform=\"scale(1 1) rotate(0) translate(4 252.5612)\">\n",
       "<title>MyDiGraph</title>\n",
       "<polygon fill=\"#ffffff\" stroke=\"transparent\" points=\"-4,4 -4,-252.5612 254.5182,-252.5612 254.5182,4 -4,4\"/>\n",
       "<!-- 1 -->\n",
       "<g id=\"node1\" class=\"node\">\n",
       "<title>1</title>\n",
       "<ellipse fill=\"none\" stroke=\"#000000\" cx=\"27\" cy=\"-140.9451\" rx=\"27\" ry=\"18\"/>\n",
       "<text text-anchor=\"middle\" x=\"27\" y=\"-138.2626\" font-family=\"Times,serif\" font-size=\"14.00\" fill=\"#000000\">v₁</text>\n",
       "</g>\n",
       "<!-- 4 -->\n",
       "<g id=\"node4\" class=\"node\">\n",
       "<title>4</title>\n",
       "<ellipse fill=\"none\" stroke=\"#000000\" cx=\"116.8883\" cy=\"-215.532\" rx=\"27\" ry=\"18\"/>\n",
       "<text text-anchor=\"middle\" x=\"116.8883\" y=\"-212.8496\" font-family=\"Times,serif\" font-size=\"14.00\" fill=\"#000000\">v₄</text>\n",
       "</g>\n",
       "<!-- 1&#45;&gt;4 -->\n",
       "<g id=\"edge1\" class=\"edge\">\n",
       "<title>1&#45;&gt;4</title>\n",
       "<path fill=\"none\" stroke=\"#000000\" d=\"M44.3314,-155.3262C57.8476,-166.5416 76.8036,-182.2708 91.9506,-194.8393\"/>\n",
       "<polygon fill=\"#000000\" stroke=\"#000000\" points=\"89.9843,-197.7558 99.915,-201.448 94.4543,-192.3688 89.9843,-197.7558\"/>\n",
       "<text text-anchor=\"middle\" x=\"63.243\" y=\"-180.9179\" font-family=\"Times,serif\" font-size=\"14.00\" fill=\"#000000\">i₁</text>\n",
       "</g>\n",
       "<!-- 2 -->\n",
       "<g id=\"node2\" class=\"node\">\n",
       "<title>2</title>\n",
       "<ellipse fill=\"none\" stroke=\"#000000\" cx=\"102.2914\" cy=\"-51.6524\" rx=\"27\" ry=\"18\"/>\n",
       "<text text-anchor=\"middle\" x=\"102.2914\" y=\"-48.97\" font-family=\"Times,serif\" font-size=\"14.00\" fill=\"#000000\">v₂</text>\n",
       "</g>\n",
       "<!-- 2&#45;&gt;1 -->\n",
       "<g id=\"edge6\" class=\"edge\">\n",
       "<title>2&#45;&gt;1</title>\n",
       "<path fill=\"none\" stroke=\"#000000\" d=\"M88.8308,-67.6162C77.1606,-81.4566 60.1129,-101.6744 46.8723,-117.3772\"/>\n",
       "<polygon fill=\"#000000\" stroke=\"#000000\" points=\"44.1146,-115.2183 40.3441,-125.1195 49.4661,-119.7307 44.1146,-115.2183\"/>\n",
       "<text text-anchor=\"middle\" x=\"62.9536\" y=\"-98.3319\" font-family=\"Times,serif\" font-size=\"14.00\" fill=\"#000000\">i₆</text>\n",
       "</g>\n",
       "<!-- 6 -->\n",
       "<g id=\"node6\" class=\"node\">\n",
       "<title>6</title>\n",
       "<ellipse fill=\"none\" stroke=\"#000000\" cx=\"192.6702\" cy=\"-126.1901\" rx=\"27\" ry=\"18\"/>\n",
       "<text text-anchor=\"middle\" x=\"192.6702\" y=\"-123.5077\" font-family=\"Times,serif\" font-size=\"14.00\" fill=\"#000000\">v₆</text>\n",
       "</g>\n",
       "<!-- 2&#45;&gt;6 -->\n",
       "<g id=\"edge7\" class=\"edge\">\n",
       "<title>2&#45;&gt;6</title>\n",
       "<path fill=\"none\" stroke=\"#000000\" d=\"M119.2909,-65.6724C132.8382,-76.8452 152.0133,-92.6594 167.3645,-105.3199\"/>\n",
       "<polygon fill=\"#000000\" stroke=\"#000000\" points=\"165.4978,-108.3172 175.4396,-111.9796 169.9517,-102.9168 165.4978,-108.3172\"/>\n",
       "<text text-anchor=\"middle\" x=\"138.4298\" y=\"-91.3313\" font-family=\"Times,serif\" font-size=\"14.00\" fill=\"#000000\">i₇</text>\n",
       "</g>\n",
       "<!-- 3 -->\n",
       "<g id=\"node3\" class=\"node\">\n",
       "<title>3</title>\n",
       "<ellipse fill=\"none\" stroke=\"#000000\" cx=\"204.5704\" cy=\"-18\" rx=\"27\" ry=\"18\"/>\n",
       "<text text-anchor=\"middle\" x=\"204.5704\" y=\"-15.3176\" font-family=\"Times,serif\" font-size=\"14.00\" fill=\"#000000\">v₃</text>\n",
       "</g>\n",
       "<!-- 3&#45;&gt;2 -->\n",
       "<g id=\"edge5\" class=\"edge\">\n",
       "<title>3&#45;&gt;2</title>\n",
       "<path fill=\"none\" stroke=\"#000000\" d=\"M180.3317,-25.9752C167.1806,-30.3022 150.7115,-35.721 136.2962,-40.464\"/>\n",
       "<polygon fill=\"#000000\" stroke=\"#000000\" points=\"135.1157,-37.1677 126.7105,-43.6179 137.3035,-43.8171 135.1157,-37.1677\"/>\n",
       "<text text-anchor=\"middle\" x=\"153.416\" y=\"-39.0547\" font-family=\"Times,serif\" font-size=\"14.00\" fill=\"#000000\">i₅</text>\n",
       "</g>\n",
       "<!-- 5 -->\n",
       "<g id=\"node5\" class=\"node\">\n",
       "<title>5</title>\n",
       "<ellipse fill=\"none\" stroke=\"#000000\" cx=\"223.5182\" cy=\"-230.5612\" rx=\"27\" ry=\"18\"/>\n",
       "<text text-anchor=\"middle\" x=\"223.5182\" y=\"-227.8787\" font-family=\"Times,serif\" font-size=\"14.00\" fill=\"#000000\">v₅</text>\n",
       "</g>\n",
       "<!-- 4&#45;&gt;5 -->\n",
       "<g id=\"edge2\" class=\"edge\">\n",
       "<title>4&#45;&gt;5</title>\n",
       "<path fill=\"none\" stroke=\"#000000\" d=\"M143.5205,-219.2857C156.6248,-221.1327 172.6268,-223.3882 186.8659,-225.3951\"/>\n",
       "<polygon fill=\"#000000\" stroke=\"#000000\" points=\"186.4654,-228.8732 196.856,-226.8032 187.4424,-221.9417 186.4654,-228.8732\"/>\n",
       "<text text-anchor=\"middle\" x=\"160.2953\" y=\"-228.1756\" font-family=\"Times,serif\" font-size=\"14.00\" fill=\"#000000\">i₂</text>\n",
       "</g>\n",
       "<!-- 4&#45;&gt;6 -->\n",
       "<g id=\"edge8\" class=\"edge\">\n",
       "<title>4&#45;&gt;6</title>\n",
       "<path fill=\"none\" stroke=\"#000000\" d=\"M130.4366,-199.5595C142.1828,-185.7114 159.3415,-165.4824 172.6684,-149.771\"/>\n",
       "<polygon fill=\"#000000\" stroke=\"#000000\" points=\"175.4397,-151.9145 179.2392,-142.0244 170.1014,-147.3865 175.4397,-151.9145\"/>\n",
       "<text text-anchor=\"middle\" x=\"146.6545\" y=\"-180.5004\" font-family=\"Times,serif\" font-size=\"14.00\" fill=\"#000000\">i₈</text>\n",
       "</g>\n",
       "<!-- 5&#45;&gt;6 -->\n",
       "<g id=\"edge3\" class=\"edge\">\n",
       "<title>5&#45;&gt;6</title>\n",
       "<path fill=\"none\" stroke=\"#000000\" d=\"M218.2853,-212.856C213.499,-196.6623 206.343,-172.4508 200.8102,-153.7311\"/>\n",
       "<polygon fill=\"#000000\" stroke=\"#000000\" points=\"204.1197,-152.58 197.9288,-143.9821 197.4068,-154.5641 204.1197,-152.58\"/>\n",
       "<text text-anchor=\"middle\" x=\"204.6498\" y=\"-189.1287\" font-family=\"Times,serif\" font-size=\"14.00\" fill=\"#000000\">i₃</text>\n",
       "</g>\n",
       "<!-- 6&#45;&gt;3 -->\n",
       "<g id=\"edge4\" class=\"edge\">\n",
       "<title>6&#45;&gt;3</title>\n",
       "<path fill=\"none\" stroke=\"#000000\" d=\"M194.6889,-107.8372C196.5465,-90.9492 199.3293,-65.6489 201.469,-46.1966\"/>\n",
       "<polygon fill=\"#000000\" stroke=\"#000000\" points=\"204.9671,-46.4047 202.5815,-36.0819 198.009,-45.6393 204.9671,-46.4047\"/>\n",
       "<text text-anchor=\"middle\" x=\"193.181\" y=\"-82.852\" font-family=\"Times,serif\" font-size=\"14.00\" fill=\"#000000\">i₄</text>\n",
       "</g>\n",
       "</g>\n",
       "</svg>\n"
      ],
      "text/plain": [
       "DiGraph(DiNode[DiNode(1,Dict{Symbol,Any}(Pair{Symbol,Any}(:label,v_1))),DiNode(2,Dict{Symbol,Any}(Pair{Symbol,Any}(:label,v_2))),DiNode(3,Dict{Symbol,Any}(Pair{Symbol,Any}(:label,v_3))),DiNode(4,Dict{Symbol,Any}(Pair{Symbol,Any}(:label,v_4))),DiNode(5,Dict{Symbol,Any}(Pair{Symbol,Any}(:label,v_5))),DiNode(6,Dict{Symbol,Any}(Pair{Symbol,Any}(:label,v_6)))],DiEdge[DiEdge(1=>4,Dict{Symbol,Any}(Pair{Symbol,Any}(:label,i_1),Pair{Symbol,Any}(:len,1.5))),DiEdge(4=>5,Dict{Symbol,Any}(Pair{Symbol,Any}(:label,i_2),Pair{Symbol,Any}(:len,1.5))),DiEdge(5=>6,Dict{Symbol,Any}(Pair{Symbol,Any}(:label,i_3),Pair{Symbol,Any}(:len,1.5))),DiEdge(6=>3,Dict{Symbol,Any}(Pair{Symbol,Any}(:label,i_4),Pair{Symbol,Any}(:len,1.5))),DiEdge(3=>2,Dict{Symbol,Any}(Pair{Symbol,Any}(:label,i_5),Pair{Symbol,Any}(:len,1.5))),DiEdge(2=>1,Dict{Symbol,Any}(Pair{Symbol,Any}(:label,i_6),Pair{Symbol,Any}(:len,1.5))),DiEdge(2=>6,Dict{Symbol,Any}(Pair{Symbol,Any}(:label,i_7),Pair{Symbol,Any}(:len,1.5))),DiEdge(4=>6,Dict{Symbol,Any}(Pair{Symbol,Any}(:label,i_8),Pair{Symbol,Any}(:len,1.5)))],Dict{Symbol,Any}())"
      ]
     },
     "execution_count": 28,
     "metadata": {},
     "output_type": "execute_result"
    }
   ],
   "source": [
    "labels(g, edges=[Sym(\"i_$i\") for i = 1:size(A,1)], nodes=[Sym(\"v_$i\") for i = 1:size(A,2)])"
   ]
  },
  {
   "cell_type": "markdown",
   "metadata": {},
   "source": [
    "### Kirchhoff's voltage law (KVL)\n",
    "\n",
    "Let's start doing some linear algebra.  What happens if we *multiply* our incidence matrix $A$ by a vector of voltages, one per node?"
   ]
  },
  {
   "cell_type": "code",
   "execution_count": 29,
   "metadata": {
    "collapsed": false
   },
   "outputs": [
    {
     "data": {
      "text/latex": [
       "\\begin{bmatrix}v_{1}\\\\v_{2}\\\\v_{3}\\\\v_{4}\\\\v_{5}\\\\v_{6}\\end{bmatrix}"
      ],
      "text/plain": [
       "6-element Array{SymPy.Sym,1}\n",
       "[v_1]\n",
       "[   ]\n",
       "[v_2]\n",
       "[   ]\n",
       "[v_3]\n",
       "[   ]\n",
       "[v_4]\n",
       "[   ]\n",
       "[v_5]\n",
       "[   ]\n",
       "[v_6]"
      ]
     },
     "execution_count": 29,
     "metadata": {},
     "output_type": "execute_result"
    }
   ],
   "source": [
    "v = [Sym(\"v_$i\") for i = 1:size(A,2)]"
   ]
  },
  {
   "cell_type": "code",
   "execution_count": 30,
   "metadata": {
    "collapsed": false
   },
   "outputs": [
    {
     "data": {
      "text/plain": [
       "8×6 Array{Int64,2}:\n",
       " -1   0   0   1   0   0\n",
       "  0   0   0  -1   1   0\n",
       "  0   0   0   0  -1   1\n",
       "  0   0   1   0   0  -1\n",
       "  0   1  -1   0   0   0\n",
       "  1  -1   0   0   0   0\n",
       "  0  -1   0   0   0   1\n",
       "  0   0   0  -1   0   1"
      ]
     },
     "execution_count": 30,
     "metadata": {},
     "output_type": "execute_result"
    }
   ],
   "source": [
    "A"
   ]
  },
  {
   "cell_type": "code",
   "execution_count": 31,
   "metadata": {
    "collapsed": false
   },
   "outputs": [
    {
     "data": {
      "text/latex": [
       "\\begin{bmatrix}- v_{1} + v_{4}\\\\- v_{4} + v_{5}\\\\- v_{5} + v_{6}\\\\v_{3} - v_{6}\\\\v_{2} - v_{3}\\\\v_{1} - v_{2}\\\\- v_{2} + v_{6}\\\\- v_{4} + v_{6}\\end{bmatrix}"
      ],
      "text/plain": [
       "8-element Array{SymPy.Sym,1}\n",
       "[-v_1 + v_4]\n",
       "[          ]\n",
       "[-v_4 + v_5]\n",
       "[          ]\n",
       "[-v_5 + v_6]\n",
       "[          ]\n",
       "[v_3 - v_6 ]\n",
       "[          ]\n",
       "[v_2 - v_3 ]\n",
       "[          ]\n",
       "[v_1 - v_2 ]\n",
       "[          ]\n",
       "[-v_2 + v_6]\n",
       "[          ]\n",
       "[-v_4 + v_6]"
      ]
     },
     "execution_count": 31,
     "metadata": {},
     "output_type": "execute_result"
    }
   ],
   "source": [
    "A * v"
   ]
  },
  {
   "cell_type": "markdown",
   "metadata": {},
   "source": [
    "What we get are the **voltage difference** (and in particular, the **voltage rise**) across each edge.  It is easier to see this if we use the elements of $Av$ to directly label the edges of our graph:"
   ]
  },
  {
   "cell_type": "code",
   "execution_count": 32,
   "metadata": {
    "collapsed": false
   },
   "outputs": [
    {
     "data": {
      "image/svg+xml": [
       "<?xml version=\"1.0\" encoding=\"UTF-8\" standalone=\"no\"?>\n",
       "<!DOCTYPE svg PUBLIC \"-//W3C//DTD SVG 1.1//EN\"\n",
       " \"http://www.w3.org/Graphics/SVG/1.1/DTD/svg11.dtd\">\n",
       "<!-- Generated by graphviz version 2.40.1 (20161225.0304)\n",
       " -->\n",
       "<!-- Title: MyDiGraph Pages: 1 -->\n",
       "<svg width=\"259pt\" height=\"257pt\"\n",
       " viewBox=\"0.00 0.00 258.52 256.56\" xmlns=\"http://www.w3.org/2000/svg\" xmlns:xlink=\"http://www.w3.org/1999/xlink\">\n",
       "<g id=\"graph0\" class=\"graph\" transform=\"scale(1 1) rotate(0) translate(4 252.5612)\">\n",
       "<title>MyDiGraph</title>\n",
       "<polygon fill=\"#ffffff\" stroke=\"transparent\" points=\"-4,4 -4,-252.5612 254.5182,-252.5612 254.5182,4 -4,4\"/>\n",
       "<!-- 1 -->\n",
       "<g id=\"node1\" class=\"node\">\n",
       "<title>1</title>\n",
       "<ellipse fill=\"none\" stroke=\"#000000\" cx=\"27\" cy=\"-140.9451\" rx=\"27\" ry=\"18\"/>\n",
       "<text text-anchor=\"middle\" x=\"27\" y=\"-138.2626\" font-family=\"Times,serif\" font-size=\"14.00\" fill=\"#000000\">v₁</text>\n",
       "</g>\n",
       "<!-- 4 -->\n",
       "<g id=\"node4\" class=\"node\">\n",
       "<title>4</title>\n",
       "<ellipse fill=\"none\" stroke=\"#000000\" cx=\"116.8883\" cy=\"-215.532\" rx=\"27\" ry=\"18\"/>\n",
       "<text text-anchor=\"middle\" x=\"116.8883\" y=\"-212.8496\" font-family=\"Times,serif\" font-size=\"14.00\" fill=\"#000000\">v₄</text>\n",
       "</g>\n",
       "<!-- 1&#45;&gt;4 -->\n",
       "<g id=\"edge1\" class=\"edge\">\n",
       "<title>1&#45;&gt;4</title>\n",
       "<path fill=\"none\" stroke=\"#000000\" d=\"M44.3314,-155.3262C57.8476,-166.5416 76.8036,-182.2708 91.9506,-194.8393\"/>\n",
       "<polygon fill=\"#000000\" stroke=\"#000000\" points=\"89.9843,-197.7558 99.915,-201.448 94.4543,-192.3688 89.9843,-197.7558\"/>\n",
       "<text text-anchor=\"middle\" x=\"45.4559\" y=\"-180.9179\" font-family=\"Times,serif\" font-size=\"14.00\" fill=\"#000000\">&#45;v₁ + v₄</text>\n",
       "</g>\n",
       "<!-- 2 -->\n",
       "<g id=\"node2\" class=\"node\">\n",
       "<title>2</title>\n",
       "<ellipse fill=\"none\" stroke=\"#000000\" cx=\"102.2914\" cy=\"-51.6524\" rx=\"27\" ry=\"18\"/>\n",
       "<text text-anchor=\"middle\" x=\"102.2914\" y=\"-48.97\" font-family=\"Times,serif\" font-size=\"14.00\" fill=\"#000000\">v₂</text>\n",
       "</g>\n",
       "<!-- 2&#45;&gt;1 -->\n",
       "<g id=\"edge6\" class=\"edge\">\n",
       "<title>2&#45;&gt;1</title>\n",
       "<path fill=\"none\" stroke=\"#000000\" d=\"M88.8308,-67.6162C77.1606,-81.4566 60.1129,-101.6744 46.8723,-117.3772\"/>\n",
       "<polygon fill=\"#000000\" stroke=\"#000000\" points=\"44.1146,-115.2183 40.3441,-125.1195 49.4661,-119.7307 44.1146,-115.2183\"/>\n",
       "<text text-anchor=\"middle\" x=\"49.1143\" y=\"-98.3319\" font-family=\"Times,serif\" font-size=\"14.00\" fill=\"#000000\">v₁ &#45; v₂</text>\n",
       "</g>\n",
       "<!-- 6 -->\n",
       "<g id=\"node6\" class=\"node\">\n",
       "<title>6</title>\n",
       "<ellipse fill=\"none\" stroke=\"#000000\" cx=\"192.6702\" cy=\"-126.1901\" rx=\"27\" ry=\"18\"/>\n",
       "<text text-anchor=\"middle\" x=\"192.6702\" y=\"-123.5077\" font-family=\"Times,serif\" font-size=\"14.00\" fill=\"#000000\">v₆</text>\n",
       "</g>\n",
       "<!-- 2&#45;&gt;6 -->\n",
       "<g id=\"edge7\" class=\"edge\">\n",
       "<title>2&#45;&gt;6</title>\n",
       "<path fill=\"none\" stroke=\"#000000\" d=\"M119.2909,-65.6724C132.8382,-76.8452 152.0133,-92.6594 167.3645,-105.3199\"/>\n",
       "<polygon fill=\"#000000\" stroke=\"#000000\" points=\"165.4978,-108.3172 175.4396,-111.9796 169.9517,-102.9168 165.4978,-108.3172\"/>\n",
       "<text text-anchor=\"middle\" x=\"120.6427\" y=\"-91.3313\" font-family=\"Times,serif\" font-size=\"14.00\" fill=\"#000000\">&#45;v₂ + v₆</text>\n",
       "</g>\n",
       "<!-- 3 -->\n",
       "<g id=\"node3\" class=\"node\">\n",
       "<title>3</title>\n",
       "<ellipse fill=\"none\" stroke=\"#000000\" cx=\"204.5704\" cy=\"-18\" rx=\"27\" ry=\"18\"/>\n",
       "<text text-anchor=\"middle\" x=\"204.5704\" y=\"-15.3176\" font-family=\"Times,serif\" font-size=\"14.00\" fill=\"#000000\">v₃</text>\n",
       "</g>\n",
       "<!-- 3&#45;&gt;2 -->\n",
       "<g id=\"edge5\" class=\"edge\">\n",
       "<title>3&#45;&gt;2</title>\n",
       "<path fill=\"none\" stroke=\"#000000\" d=\"M180.3317,-25.9752C167.1806,-30.3022 150.7115,-35.721 136.2962,-40.464\"/>\n",
       "<polygon fill=\"#000000\" stroke=\"#000000\" points=\"135.1157,-37.1677 126.7105,-43.6179 137.3035,-43.8171 135.1157,-37.1677\"/>\n",
       "<text text-anchor=\"middle\" x=\"139.5766\" y=\"-22.0196\" font-family=\"Times,serif\" font-size=\"14.00\" fill=\"#000000\">v₂ &#45; v₃</text>\n",
       "</g>\n",
       "<!-- 5 -->\n",
       "<g id=\"node5\" class=\"node\">\n",
       "<title>5</title>\n",
       "<ellipse fill=\"none\" stroke=\"#000000\" cx=\"223.5182\" cy=\"-230.5612\" rx=\"27\" ry=\"18\"/>\n",
       "<text text-anchor=\"middle\" x=\"223.5182\" y=\"-227.8787\" font-family=\"Times,serif\" font-size=\"14.00\" fill=\"#000000\">v₅</text>\n",
       "</g>\n",
       "<!-- 4&#45;&gt;5 -->\n",
       "<g id=\"edge2\" class=\"edge\">\n",
       "<title>4&#45;&gt;5</title>\n",
       "<path fill=\"none\" stroke=\"#000000\" d=\"M143.5205,-219.2857C156.6248,-221.1327 172.6268,-223.3882 186.8659,-225.3951\"/>\n",
       "<polygon fill=\"#000000\" stroke=\"#000000\" points=\"186.4654,-228.8732 196.856,-226.8032 187.4424,-221.9417 186.4654,-228.8732\"/>\n",
       "<text text-anchor=\"middle\" x=\"165.1932\" y=\"-211.1404\" font-family=\"Times,serif\" font-size=\"14.00\" fill=\"#000000\">&#45;v₄ + v₅</text>\n",
       "</g>\n",
       "<!-- 4&#45;&gt;6 -->\n",
       "<g id=\"edge8\" class=\"edge\">\n",
       "<title>4&#45;&gt;6</title>\n",
       "<path fill=\"none\" stroke=\"#000000\" d=\"M130.4366,-199.5595C142.1828,-185.7114 159.3415,-165.4824 172.6684,-149.771\"/>\n",
       "<polygon fill=\"#000000\" stroke=\"#000000\" points=\"175.4397,-151.9145 179.2392,-142.0244 170.1014,-147.3865 175.4397,-151.9145\"/>\n",
       "<text text-anchor=\"middle\" x=\"128.8674\" y=\"-180.5004\" font-family=\"Times,serif\" font-size=\"14.00\" fill=\"#000000\">&#45;v₄ + v₆</text>\n",
       "</g>\n",
       "<!-- 5&#45;&gt;6 -->\n",
       "<g id=\"edge3\" class=\"edge\">\n",
       "<title>5&#45;&gt;6</title>\n",
       "<path fill=\"none\" stroke=\"#000000\" d=\"M218.2853,-212.856C213.499,-196.6623 206.343,-172.4508 200.8102,-153.7311\"/>\n",
       "<polygon fill=\"#000000\" stroke=\"#000000\" points=\"204.1197,-152.58 197.9288,-143.9821 197.4068,-154.5641 204.1197,-152.58\"/>\n",
       "<text text-anchor=\"middle\" x=\"186.8627\" y=\"-189.1287\" font-family=\"Times,serif\" font-size=\"14.00\" fill=\"#000000\">&#45;v₅ + v₆</text>\n",
       "</g>\n",
       "<!-- 6&#45;&gt;3 -->\n",
       "<g id=\"edge4\" class=\"edge\">\n",
       "<title>6&#45;&gt;3</title>\n",
       "<path fill=\"none\" stroke=\"#000000\" d=\"M194.6889,-107.8372C196.5465,-90.9492 199.3293,-65.6489 201.469,-46.1966\"/>\n",
       "<polygon fill=\"#000000\" stroke=\"#000000\" points=\"204.9671,-46.4047 202.5815,-36.0819 198.009,-45.6393 204.9671,-46.4047\"/>\n",
       "<text text-anchor=\"middle\" x=\"179.3416\" y=\"-82.852\" font-family=\"Times,serif\" font-size=\"14.00\" fill=\"#000000\">v₃ &#45; v₆</text>\n",
       "</g>\n",
       "</g>\n",
       "</svg>\n"
      ],
      "text/plain": [
       "DiGraph(DiNode[DiNode(1,Dict{Symbol,Any}(Pair{Symbol,Any}(:label,v_1))),DiNode(2,Dict{Symbol,Any}(Pair{Symbol,Any}(:label,v_2))),DiNode(3,Dict{Symbol,Any}(Pair{Symbol,Any}(:label,v_3))),DiNode(4,Dict{Symbol,Any}(Pair{Symbol,Any}(:label,v_4))),DiNode(5,Dict{Symbol,Any}(Pair{Symbol,Any}(:label,v_5))),DiNode(6,Dict{Symbol,Any}(Pair{Symbol,Any}(:label,v_6)))],DiEdge[DiEdge(1=>4,Dict{Symbol,Any}(Pair{Symbol,Any}(:label,-v_1 + v_4),Pair{Symbol,Any}(:len,1.5))),DiEdge(4=>5,Dict{Symbol,Any}(Pair{Symbol,Any}(:label,-v_4 + v_5),Pair{Symbol,Any}(:len,1.5))),DiEdge(5=>6,Dict{Symbol,Any}(Pair{Symbol,Any}(:label,-v_5 + v_6),Pair{Symbol,Any}(:len,1.5))),DiEdge(6=>3,Dict{Symbol,Any}(Pair{Symbol,Any}(:label,v_3 - v_6),Pair{Symbol,Any}(:len,1.5))),DiEdge(3=>2,Dict{Symbol,Any}(Pair{Symbol,Any}(:label,v_2 - v_3),Pair{Symbol,Any}(:len,1.5))),DiEdge(2=>1,Dict{Symbol,Any}(Pair{Symbol,Any}(:label,v_1 - v_2),Pair{Symbol,Any}(:len,1.5))),DiEdge(2=>6,Dict{Symbol,Any}(Pair{Symbol,Any}(:label,-v_2 + v_6),Pair{Symbol,Any}(:len,1.5))),DiEdge(4=>6,Dict{Symbol,Any}(Pair{Symbol,Any}(:label,-v_4 + v_6),Pair{Symbol,Any}(:len,1.5)))],Dict{Symbol,Any}())"
      ]
     },
     "execution_count": 32,
     "metadata": {},
     "output_type": "execute_result"
    }
   ],
   "source": [
    "labels(g, edges=A*v, nodes=v)"
   ]
  },
  {
   "cell_type": "markdown",
   "metadata": {},
   "source": [
    "Now, let's ask the inverse question: **what voltage differences $d=Av$** can possibly arise?  i.e. what $d$ are in $C(A)$? \n",
    "\n",
    "Remember, $A$ is **not full rank**: its rank is 5, but there are 8 rows (8 edges).  So, $C(A)$ is 5-dimensional (\"missing\" three dimensions).  Equivalently $C(A)$ is **orthogonal to the left nullspace**, which has three rows.  What does this mean?\n",
    "\n",
    "Let's visualize the differences d:"
   ]
  },
  {
   "cell_type": "code",
   "execution_count": 33,
   "metadata": {
    "collapsed": false
   },
   "outputs": [
    {
     "data": {
      "image/svg+xml": [
       "<?xml version=\"1.0\" encoding=\"UTF-8\" standalone=\"no\"?>\n",
       "<!DOCTYPE svg PUBLIC \"-//W3C//DTD SVG 1.1//EN\"\n",
       " \"http://www.w3.org/Graphics/SVG/1.1/DTD/svg11.dtd\">\n",
       "<!-- Generated by graphviz version 2.40.1 (20161225.0304)\n",
       " -->\n",
       "<!-- Title: MyDiGraph Pages: 1 -->\n",
       "<svg width=\"259pt\" height=\"257pt\"\n",
       " viewBox=\"0.00 0.00 258.52 256.56\" xmlns=\"http://www.w3.org/2000/svg\" xmlns:xlink=\"http://www.w3.org/1999/xlink\">\n",
       "<g id=\"graph0\" class=\"graph\" transform=\"scale(1 1) rotate(0) translate(4 252.5612)\">\n",
       "<title>MyDiGraph</title>\n",
       "<polygon fill=\"#ffffff\" stroke=\"transparent\" points=\"-4,4 -4,-252.5612 254.5182,-252.5612 254.5182,4 -4,4\"/>\n",
       "<!-- 1 -->\n",
       "<g id=\"node1\" class=\"node\">\n",
       "<title>1</title>\n",
       "<ellipse fill=\"none\" stroke=\"#000000\" cx=\"27\" cy=\"-140.9451\" rx=\"27\" ry=\"18\"/>\n",
       "<text text-anchor=\"middle\" x=\"27\" y=\"-138.2626\" font-family=\"Times,serif\" font-size=\"14.00\" fill=\"#000000\">v₁</text>\n",
       "</g>\n",
       "<!-- 4 -->\n",
       "<g id=\"node4\" class=\"node\">\n",
       "<title>4</title>\n",
       "<ellipse fill=\"none\" stroke=\"#000000\" cx=\"116.8883\" cy=\"-215.532\" rx=\"27\" ry=\"18\"/>\n",
       "<text text-anchor=\"middle\" x=\"116.8883\" y=\"-212.8496\" font-family=\"Times,serif\" font-size=\"14.00\" fill=\"#000000\">v₄</text>\n",
       "</g>\n",
       "<!-- 1&#45;&gt;4 -->\n",
       "<g id=\"edge1\" class=\"edge\">\n",
       "<title>1&#45;&gt;4</title>\n",
       "<path fill=\"none\" stroke=\"#000000\" d=\"M44.3314,-155.3262C57.8476,-166.5416 76.8036,-182.2708 91.9506,-194.8393\"/>\n",
       "<polygon fill=\"#000000\" stroke=\"#000000\" points=\"89.9843,-197.7558 99.915,-201.448 94.4543,-192.3688 89.9843,-197.7558\"/>\n",
       "<text text-anchor=\"middle\" x=\"61.6879\" y=\"-180.9179\" font-family=\"Times,serif\" font-size=\"14.00\" fill=\"#000000\">d₁</text>\n",
       "</g>\n",
       "<!-- 2 -->\n",
       "<g id=\"node2\" class=\"node\">\n",
       "<title>2</title>\n",
       "<ellipse fill=\"none\" stroke=\"#000000\" cx=\"102.2914\" cy=\"-51.6524\" rx=\"27\" ry=\"18\"/>\n",
       "<text text-anchor=\"middle\" x=\"102.2914\" y=\"-48.97\" font-family=\"Times,serif\" font-size=\"14.00\" fill=\"#000000\">v₂</text>\n",
       "</g>\n",
       "<!-- 2&#45;&gt;1 -->\n",
       "<g id=\"edge6\" class=\"edge\">\n",
       "<title>2&#45;&gt;1</title>\n",
       "<path fill=\"none\" stroke=\"#000000\" d=\"M88.8308,-67.6162C77.1606,-81.4566 60.1129,-101.6744 46.8723,-117.3772\"/>\n",
       "<polygon fill=\"#000000\" stroke=\"#000000\" points=\"44.1146,-115.2183 40.3441,-125.1195 49.4661,-119.7307 44.1146,-115.2183\"/>\n",
       "<text text-anchor=\"middle\" x=\"61.3984\" y=\"-98.3319\" font-family=\"Times,serif\" font-size=\"14.00\" fill=\"#000000\">d₆</text>\n",
       "</g>\n",
       "<!-- 6 -->\n",
       "<g id=\"node6\" class=\"node\">\n",
       "<title>6</title>\n",
       "<ellipse fill=\"none\" stroke=\"#000000\" cx=\"192.6702\" cy=\"-126.1901\" rx=\"27\" ry=\"18\"/>\n",
       "<text text-anchor=\"middle\" x=\"192.6702\" y=\"-123.5077\" font-family=\"Times,serif\" font-size=\"14.00\" fill=\"#000000\">v₆</text>\n",
       "</g>\n",
       "<!-- 2&#45;&gt;6 -->\n",
       "<g id=\"edge7\" class=\"edge\">\n",
       "<title>2&#45;&gt;6</title>\n",
       "<path fill=\"none\" stroke=\"#000000\" d=\"M119.2909,-65.6724C132.8382,-76.8452 152.0133,-92.6594 167.3645,-105.3199\"/>\n",
       "<polygon fill=\"#000000\" stroke=\"#000000\" points=\"165.4978,-108.3172 175.4396,-111.9796 169.9517,-102.9168 165.4978,-108.3172\"/>\n",
       "<text text-anchor=\"middle\" x=\"136.8746\" y=\"-91.3313\" font-family=\"Times,serif\" font-size=\"14.00\" fill=\"#000000\">d₇</text>\n",
       "</g>\n",
       "<!-- 3 -->\n",
       "<g id=\"node3\" class=\"node\">\n",
       "<title>3</title>\n",
       "<ellipse fill=\"none\" stroke=\"#000000\" cx=\"204.5704\" cy=\"-18\" rx=\"27\" ry=\"18\"/>\n",
       "<text text-anchor=\"middle\" x=\"204.5704\" y=\"-15.3176\" font-family=\"Times,serif\" font-size=\"14.00\" fill=\"#000000\">v₃</text>\n",
       "</g>\n",
       "<!-- 3&#45;&gt;2 -->\n",
       "<g id=\"edge5\" class=\"edge\">\n",
       "<title>3&#45;&gt;2</title>\n",
       "<path fill=\"none\" stroke=\"#000000\" d=\"M180.3317,-25.9752C167.1806,-30.3022 150.7115,-35.721 136.2962,-40.464\"/>\n",
       "<polygon fill=\"#000000\" stroke=\"#000000\" points=\"135.1157,-37.1677 126.7105,-43.6179 137.3035,-43.8171 135.1157,-37.1677\"/>\n",
       "<text text-anchor=\"middle\" x=\"151.8608\" y=\"-39.0547\" font-family=\"Times,serif\" font-size=\"14.00\" fill=\"#000000\">d₅</text>\n",
       "</g>\n",
       "<!-- 5 -->\n",
       "<g id=\"node5\" class=\"node\">\n",
       "<title>5</title>\n",
       "<ellipse fill=\"none\" stroke=\"#000000\" cx=\"223.5182\" cy=\"-230.5612\" rx=\"27\" ry=\"18\"/>\n",
       "<text text-anchor=\"middle\" x=\"223.5182\" y=\"-227.8787\" font-family=\"Times,serif\" font-size=\"14.00\" fill=\"#000000\">v₅</text>\n",
       "</g>\n",
       "<!-- 4&#45;&gt;5 -->\n",
       "<g id=\"edge2\" class=\"edge\">\n",
       "<title>4&#45;&gt;5</title>\n",
       "<path fill=\"none\" stroke=\"#000000\" d=\"M143.5205,-219.2857C156.6248,-221.1327 172.6268,-223.3882 186.8659,-225.3951\"/>\n",
       "<polygon fill=\"#000000\" stroke=\"#000000\" points=\"186.4654,-228.8732 196.856,-226.8032 187.4424,-221.9417 186.4654,-228.8732\"/>\n",
       "<text text-anchor=\"middle\" x=\"158.7401\" y=\"-228.1756\" font-family=\"Times,serif\" font-size=\"14.00\" fill=\"#000000\">d₂</text>\n",
       "</g>\n",
       "<!-- 4&#45;&gt;6 -->\n",
       "<g id=\"edge8\" class=\"edge\">\n",
       "<title>4&#45;&gt;6</title>\n",
       "<path fill=\"none\" stroke=\"#000000\" d=\"M130.4366,-199.5595C142.1828,-185.7114 159.3415,-165.4824 172.6684,-149.771\"/>\n",
       "<polygon fill=\"#000000\" stroke=\"#000000\" points=\"175.4397,-151.9145 179.2392,-142.0244 170.1014,-147.3865 175.4397,-151.9145\"/>\n",
       "<text text-anchor=\"middle\" x=\"145.0994\" y=\"-180.5004\" font-family=\"Times,serif\" font-size=\"14.00\" fill=\"#000000\">d₈</text>\n",
       "</g>\n",
       "<!-- 5&#45;&gt;6 -->\n",
       "<g id=\"edge3\" class=\"edge\">\n",
       "<title>5&#45;&gt;6</title>\n",
       "<path fill=\"none\" stroke=\"#000000\" d=\"M218.2853,-212.856C213.499,-196.6623 206.343,-172.4508 200.8102,-153.7311\"/>\n",
       "<polygon fill=\"#000000\" stroke=\"#000000\" points=\"204.1197,-152.58 197.9288,-143.9821 197.4068,-154.5641 204.1197,-152.58\"/>\n",
       "<text text-anchor=\"middle\" x=\"203.0946\" y=\"-189.1287\" font-family=\"Times,serif\" font-size=\"14.00\" fill=\"#000000\">d₃</text>\n",
       "</g>\n",
       "<!-- 6&#45;&gt;3 -->\n",
       "<g id=\"edge4\" class=\"edge\">\n",
       "<title>6&#45;&gt;3</title>\n",
       "<path fill=\"none\" stroke=\"#000000\" d=\"M194.6889,-107.8372C196.5465,-90.9492 199.3293,-65.6489 201.469,-46.1966\"/>\n",
       "<polygon fill=\"#000000\" stroke=\"#000000\" points=\"204.9671,-46.4047 202.5815,-36.0819 198.009,-45.6393 204.9671,-46.4047\"/>\n",
       "<text text-anchor=\"middle\" x=\"191.6258\" y=\"-82.852\" font-family=\"Times,serif\" font-size=\"14.00\" fill=\"#000000\">d₄</text>\n",
       "</g>\n",
       "</g>\n",
       "</svg>\n"
      ],
      "text/plain": [
       "DiGraph(DiNode[DiNode(1,Dict{Symbol,Any}(Pair{Symbol,Any}(:label,v_1))),DiNode(2,Dict{Symbol,Any}(Pair{Symbol,Any}(:label,v_2))),DiNode(3,Dict{Symbol,Any}(Pair{Symbol,Any}(:label,v_3))),DiNode(4,Dict{Symbol,Any}(Pair{Symbol,Any}(:label,v_4))),DiNode(5,Dict{Symbol,Any}(Pair{Symbol,Any}(:label,v_5))),DiNode(6,Dict{Symbol,Any}(Pair{Symbol,Any}(:label,v_6)))],DiEdge[DiEdge(1=>4,Dict{Symbol,Any}(Pair{Symbol,Any}(:label,d_1),Pair{Symbol,Any}(:len,1.5))),DiEdge(4=>5,Dict{Symbol,Any}(Pair{Symbol,Any}(:label,d_2),Pair{Symbol,Any}(:len,1.5))),DiEdge(5=>6,Dict{Symbol,Any}(Pair{Symbol,Any}(:label,d_3),Pair{Symbol,Any}(:len,1.5))),DiEdge(6=>3,Dict{Symbol,Any}(Pair{Symbol,Any}(:label,d_4),Pair{Symbol,Any}(:len,1.5))),DiEdge(3=>2,Dict{Symbol,Any}(Pair{Symbol,Any}(:label,d_5),Pair{Symbol,Any}(:len,1.5))),DiEdge(2=>1,Dict{Symbol,Any}(Pair{Symbol,Any}(:label,d_6),Pair{Symbol,Any}(:len,1.5))),DiEdge(2=>6,Dict{Symbol,Any}(Pair{Symbol,Any}(:label,d_7),Pair{Symbol,Any}(:len,1.5))),DiEdge(4=>6,Dict{Symbol,Any}(Pair{Symbol,Any}(:label,d_8),Pair{Symbol,Any}(:len,1.5)))],Dict{Symbol,Any}())"
      ]
     },
     "execution_count": 33,
     "metadata": {},
     "output_type": "execute_result"
    }
   ],
   "source": [
    "d = [Sym(\"d_$j\") for j = 1:size(A,1)]\n",
    "labels(g, edges=d, nodes=v)"
   ]
  },
  {
   "cell_type": "markdown",
   "metadata": {},
   "source": [
    "If $N$ is a basis for the left nullspace, we must have $N^T d = 0$, or:"
   ]
  },
  {
   "cell_type": "code",
   "execution_count": 34,
   "metadata": {
    "collapsed": false
   },
   "outputs": [
    {
     "data": {
      "text/latex": [
       "\\begin{bmatrix}d_{1} + d_{2} + d_{3} + d_{4} + d_{5} + d_{6}\\\\d_{4} + d_{5} + d_{7}\\\\- d_{2} - d_{3} + d_{8}\\end{bmatrix}"
      ],
      "text/plain": [
       "3-element Array{SymPy.Sym,1}\n",
       "[d_1 + d_2 + d_3 + d_4 + d_5 + d_6]\n",
       "[                                 ]\n",
       "[         d_4 + d_5 + d_7         ]\n",
       "[                                 ]\n",
       "[        -d_2 - d_3 + d_8         ]"
      ]
     },
     "execution_count": 34,
     "metadata": {},
     "output_type": "execute_result"
    }
   ],
   "source": [
    "N' * d"
   ]
  },
  {
   "cell_type": "markdown",
   "metadata": {},
   "source": [
    "But what is this?  Remember, each element of the left nullspace corresponded to a **loop in the graph**.  Saying $N^T d = 0$, or $d \\perp N(A^T)$, is equivalent to saying that the **sum of the voltage rises around each loop = 0**.\n",
    "\n",
    "But this is precisely [Kirchhoff's voltage law](https://en.wikipedia.org/wiki/Kirchhoff's_circuit_laws) from circuit theory!"
   ]
  },
  {
   "cell_type": "markdown",
   "metadata": {},
   "source": [
    "### Kirchhoff's current law (KCL)\n",
    "\n",
    "To actually solve circuit problems, we need three additional ingredients:\n",
    "\n",
    "* The voltage difference $d$ must be divided by a resistance $R$ to get the *current* $i$ through that edge: $i = -d/R = -Yd$ (where $Y=1/R$ is the \"admittance\"), by [Ohm's law](https://en.wikipedia.org/wiki/Ohm's_law).  Note that we need a minus sign to get the current in the direction of the arrow, since $d$ was the the voltage *rise* across the edge.\n",
    "\n",
    "* The sum of the currents $i$ entering each node must be zero, by Kirchhoff's current law (KCL).\n",
    "\n",
    "* To get a nontrivial solution, we need some kind of *source*: a battery or current source, to start currents flowing.\n",
    "\n",
    "How do we represent each one of these steps by linear-algebra operations?"
   ]
  },
  {
   "cell_type": "markdown",
   "metadata": {},
   "source": [
    "#### Ohm's law\n",
    "\n",
    "To represent Ohm's law, we need to multiply the voltage differences $d=Av$ by a *diagonal matrix* of admittances:"
   ]
  },
  {
   "cell_type": "code",
   "execution_count": 35,
   "metadata": {
    "collapsed": false
   },
   "outputs": [
    {
     "data": {
      "text/latex": [
       "\\begin{bmatrix}Y_{1}&0&0&0&0&0&0&0\\\\0&Y_{2}&0&0&0&0&0&0\\\\0&0&Y_{3}&0&0&0&0&0\\\\0&0&0&Y_{4}&0&0&0&0\\\\0&0&0&0&Y_{5}&0&0&0\\\\0&0&0&0&0&Y_{6}&0&0\\\\0&0&0&0&0&0&Y_{7}&0\\\\0&0&0&0&0&0&0&Y_{8}\\end{bmatrix}"
      ],
      "text/plain": [
       "8×8 Array{SymPy.Sym,2}\n",
       "[Y_1   0    0    0    0    0    0    0 ]\n",
       "[                                      ]\n",
       "[ 0   Y_2   0    0    0    0    0    0 ]\n",
       "[                                      ]\n",
       "[ 0    0   Y_3   0    0    0    0    0 ]\n",
       "[                                      ]\n",
       "[ 0    0    0   Y_4   0    0    0    0 ]\n",
       "[                                      ]\n",
       "[ 0    0    0    0   Y_5   0    0    0 ]\n",
       "[                                      ]\n",
       "[ 0    0    0    0    0   Y_6   0    0 ]\n",
       "[                                      ]\n",
       "[ 0    0    0    0    0    0   Y_7   0 ]\n",
       "[                                      ]\n",
       "[ 0    0    0    0    0    0    0   Y_8]"
      ]
     },
     "execution_count": 35,
     "metadata": {},
     "output_type": "execute_result"
    }
   ],
   "source": [
    "Y = diagm([Sym(\"Y_$i\") for i = 1:size(A,1)])"
   ]
  },
  {
   "cell_type": "code",
   "execution_count": 36,
   "metadata": {
    "collapsed": false
   },
   "outputs": [
    {
     "data": {
      "text/latex": [
       "\\begin{bmatrix}Y_{1} d_{1}\\\\Y_{2} d_{2}\\\\Y_{3} d_{3}\\\\Y_{4} d_{4}\\\\Y_{5} d_{5}\\\\Y_{6} d_{6}\\\\Y_{7} d_{7}\\\\Y_{8} d_{8}\\end{bmatrix}"
      ],
      "text/plain": [
       "8-element Array{SymPy.Sym,1}\n",
       "[Y_1*d_1]\n",
       "[       ]\n",
       "[Y_2*d_2]\n",
       "[       ]\n",
       "[Y_3*d_3]\n",
       "[       ]\n",
       "[Y_4*d_4]\n",
       "[       ]\n",
       "[Y_5*d_5]\n",
       "[       ]\n",
       "[Y_6*d_6]\n",
       "[       ]\n",
       "[Y_7*d_7]\n",
       "[       ]\n",
       "[Y_8*d_8]"
      ]
     },
     "execution_count": 36,
     "metadata": {},
     "output_type": "execute_result"
    }
   ],
   "source": [
    "Y*d"
   ]
  },
  {
   "cell_type": "code",
   "execution_count": 37,
   "metadata": {
    "collapsed": false
   },
   "outputs": [
    {
     "data": {
      "text/latex": [
       "\\begin{bmatrix}- Y_{1} v_{1} + Y_{1} v_{4}\\\\- Y_{2} v_{4} + Y_{2} v_{5}\\\\- Y_{3} v_{5} + Y_{3} v_{6}\\\\Y_{4} v_{3} - Y_{4} v_{6}\\\\Y_{5} v_{2} - Y_{5} v_{3}\\\\Y_{6} v_{1} - Y_{6} v_{2}\\\\- Y_{7} v_{2} + Y_{7} v_{6}\\\\- Y_{8} v_{4} + Y_{8} v_{6}\\end{bmatrix}"
      ],
      "text/plain": [
       "8-element Array{SymPy.Sym,1}\n",
       "[-Y_1*v_1 + Y_1*v_4]\n",
       "[                  ]\n",
       "[-Y_2*v_4 + Y_2*v_5]\n",
       "[                  ]\n",
       "[-Y_3*v_5 + Y_3*v_6]\n",
       "[                  ]\n",
       "[Y_4*v_3 - Y_4*v_6 ]\n",
       "[                  ]\n",
       "[Y_5*v_2 - Y_5*v_3 ]\n",
       "[                  ]\n",
       "[Y_6*v_1 - Y_6*v_2 ]\n",
       "[                  ]\n",
       "[-Y_7*v_2 + Y_7*v_6]\n",
       "[                  ]\n",
       "[-Y_8*v_4 + Y_8*v_6]"
      ]
     },
     "execution_count": 37,
     "metadata": {},
     "output_type": "execute_result"
    }
   ],
   "source": [
    "Y*A*v"
   ]
  },
  {
   "cell_type": "markdown",
   "metadata": {},
   "source": [
    "#### Net current into each node\n",
    "\n",
    "Given the currents $i$, a little thought shows that the net current flowing into each node is precisely $A^T i$:"
   ]
  },
  {
   "cell_type": "code",
   "execution_count": 38,
   "metadata": {
    "collapsed": false
   },
   "outputs": [
    {
     "data": {
      "text/latex": [
       "\\begin{bmatrix}- i_{1} + i_{6}\\\\i_{5} - i_{6} - i_{7}\\\\i_{4} - i_{5}\\\\i_{1} - i_{2} - i_{8}\\\\i_{2} - i_{3}\\\\i_{3} - i_{4} + i_{7} + i_{8}\\end{bmatrix}"
      ],
      "text/plain": [
       "6-element Array{SymPy.Sym,1}\n",
       "[     -i_1 + i_6      ]\n",
       "[                     ]\n",
       "[   i_5 - i_6 - i_7   ]\n",
       "[                     ]\n",
       "[      i_4 - i_5      ]\n",
       "[                     ]\n",
       "[   i_1 - i_2 - i_8   ]\n",
       "[                     ]\n",
       "[      i_2 - i_3      ]\n",
       "[                     ]\n",
       "[i_3 - i_4 + i_7 + i_8]"
      ]
     },
     "execution_count": 38,
     "metadata": {},
     "output_type": "execute_result"
    }
   ],
   "source": [
    "i = [Sym(\"i_$j\") for j=1:size(A,1)]\n",
    "A'*i"
   ]
  },
  {
   "cell_type": "code",
   "execution_count": 39,
   "metadata": {
    "collapsed": false
   },
   "outputs": [
    {
     "data": {
      "image/svg+xml": [
       "<?xml version=\"1.0\" encoding=\"UTF-8\" standalone=\"no\"?>\n",
       "<!DOCTYPE svg PUBLIC \"-//W3C//DTD SVG 1.1//EN\"\n",
       " \"http://www.w3.org/Graphics/SVG/1.1/DTD/svg11.dtd\">\n",
       "<!-- Generated by graphviz version 2.40.1 (20161225.0304)\n",
       " -->\n",
       "<!-- Title: MyDiGraph Pages: 1 -->\n",
       "<svg width=\"279pt\" height=\"257pt\"\n",
       " viewBox=\"0.00 0.00 279.28 256.56\" xmlns=\"http://www.w3.org/2000/svg\" xmlns:xlink=\"http://www.w3.org/1999/xlink\">\n",
       "<g id=\"graph0\" class=\"graph\" transform=\"scale(1 1) rotate(0) translate(4 252.5612)\">\n",
       "<title>MyDiGraph</title>\n",
       "<polygon fill=\"#ffffff\" stroke=\"transparent\" points=\"-4,4 -4,-252.5612 275.2822,-252.5612 275.2822,4 -4,4\"/>\n",
       "<!-- 1 -->\n",
       "<g id=\"node1\" class=\"node\">\n",
       "<title>1</title>\n",
       "<ellipse fill=\"none\" stroke=\"#000000\" cx=\"38.3727\" cy=\"-140.9451\" rx=\"38.2458\" ry=\"18\"/>\n",
       "<text text-anchor=\"middle\" x=\"38.3727\" y=\"-138.2626\" font-family=\"Times,serif\" font-size=\"14.00\" fill=\"#000000\">&#45;i₁ + i₆</text>\n",
       "</g>\n",
       "<!-- 4 -->\n",
       "<g id=\"node4\" class=\"node\">\n",
       "<title>4</title>\n",
       "<ellipse fill=\"none\" stroke=\"#000000\" cx=\"128.261\" cy=\"-215.532\" rx=\"47.6196\" ry=\"18\"/>\n",
       "<text text-anchor=\"middle\" x=\"128.261\" y=\"-212.8496\" font-family=\"Times,serif\" font-size=\"14.00\" fill=\"#000000\">i₁ &#45; i₂ &#45; i₈</text>\n",
       "</g>\n",
       "<!-- 1&#45;&gt;4 -->\n",
       "<g id=\"edge1\" class=\"edge\">\n",
       "<title>1&#45;&gt;4</title>\n",
       "<path fill=\"none\" stroke=\"#000000\" d=\"M57.4357,-156.763C69.9289,-167.1296 86.4694,-180.8544 100.4238,-192.4334\"/>\n",
       "<polygon fill=\"#000000\" stroke=\"#000000\" points=\"98.3603,-195.2692 108.2909,-198.9614 102.8302,-189.8822 98.3603,-195.2692\"/>\n",
       "<text text-anchor=\"middle\" x=\"74.0318\" y=\"-180.4334\" font-family=\"Times,serif\" font-size=\"14.00\" fill=\"#000000\">i₁</text>\n",
       "</g>\n",
       "<!-- 2 -->\n",
       "<g id=\"node2\" class=\"node\">\n",
       "<title>2</title>\n",
       "<ellipse fill=\"none\" stroke=\"#000000\" cx=\"113.6641\" cy=\"-51.6524\" rx=\"47.6196\" ry=\"18\"/>\n",
       "<text text-anchor=\"middle\" x=\"113.6641\" y=\"-48.97\" font-family=\"Times,serif\" font-size=\"14.00\" fill=\"#000000\">i₅ &#45; i₆ &#45; i₇</text>\n",
       "</g>\n",
       "<!-- 2&#45;&gt;1 -->\n",
       "<g id=\"edge6\" class=\"edge\">\n",
       "<title>2&#45;&gt;1</title>\n",
       "<path fill=\"none\" stroke=\"#000000\" d=\"M99.1471,-68.869C87.8258,-82.2956 71.948,-101.126 59.2608,-116.1726\"/>\n",
       "<polygon fill=\"#000000\" stroke=\"#000000\" points=\"56.3602,-114.183 52.5897,-124.0842 61.7117,-118.6954 56.3602,-114.183\"/>\n",
       "<text text-anchor=\"middle\" x=\"74.306\" y=\"-98.3559\" font-family=\"Times,serif\" font-size=\"14.00\" fill=\"#000000\">i₆</text>\n",
       "</g>\n",
       "<!-- 6 -->\n",
       "<g id=\"node6\" class=\"node\">\n",
       "<title>6</title>\n",
       "<ellipse fill=\"none\" stroke=\"#000000\" cx=\"204.0429\" cy=\"-126.1901\" rx=\"67.4795\" ry=\"18\"/>\n",
       "<text text-anchor=\"middle\" x=\"204.0429\" y=\"-123.5077\" font-family=\"Times,serif\" font-size=\"14.00\" fill=\"#000000\">i₃ &#45; i₄ + i₇ + i₈</text>\n",
       "</g>\n",
       "<!-- 2&#45;&gt;6 -->\n",
       "<g id=\"edge7\" class=\"edge\">\n",
       "<title>2&#45;&gt;6</title>\n",
       "<path fill=\"none\" stroke=\"#000000\" d=\"M133.722,-68.1948C145.8667,-78.2108 161.5623,-91.1553 175.0429,-102.2732\"/>\n",
       "<polygon fill=\"#000000\" stroke=\"#000000\" points=\"173.157,-105.2546 183.0988,-108.917 177.6109,-99.8542 173.157,-105.2546\"/>\n",
       "<text text-anchor=\"middle\" x=\"149.4845\" y=\"-91.0691\" font-family=\"Times,serif\" font-size=\"14.00\" fill=\"#000000\">i₇</text>\n",
       "</g>\n",
       "<!-- 3 -->\n",
       "<g id=\"node3\" class=\"node\">\n",
       "<title>3</title>\n",
       "<ellipse fill=\"none\" stroke=\"#000000\" cx=\"215.9431\" cy=\"-18\" rx=\"32.7585\" ry=\"18\"/>\n",
       "<text text-anchor=\"middle\" x=\"215.9431\" y=\"-15.3176\" font-family=\"Times,serif\" font-size=\"14.00\" fill=\"#000000\">i₄ &#45; i₅</text>\n",
       "</g>\n",
       "<!-- 3&#45;&gt;2 -->\n",
       "<g id=\"edge5\" class=\"edge\">\n",
       "<title>3&#45;&gt;2</title>\n",
       "<path fill=\"none\" stroke=\"#000000\" d=\"M187.7241,-27.2848C178.9435,-30.1738 169.0262,-33.4369 159.3702,-36.6139\"/>\n",
       "<polygon fill=\"#000000\" stroke=\"#000000\" points=\"158.2582,-33.2951 149.8531,-39.7453 160.4461,-39.9445 158.2582,-33.2951\"/>\n",
       "<text text-anchor=\"middle\" x=\"168.6492\" y=\"-37.7845\" font-family=\"Times,serif\" font-size=\"14.00\" fill=\"#000000\">i₅</text>\n",
       "</g>\n",
       "<!-- 5 -->\n",
       "<g id=\"node5\" class=\"node\">\n",
       "<title>5</title>\n",
       "<ellipse fill=\"none\" stroke=\"#000000\" cx=\"234.8909\" cy=\"-230.5612\" rx=\"32.7585\" ry=\"18\"/>\n",
       "<text text-anchor=\"middle\" x=\"234.8909\" y=\"-227.8787\" font-family=\"Times,serif\" font-size=\"14.00\" fill=\"#000000\">i₂ &#45; i₃</text>\n",
       "</g>\n",
       "<!-- 4&#45;&gt;5 -->\n",
       "<g id=\"edge2\" class=\"edge\">\n",
       "<title>4&#45;&gt;5</title>\n",
       "<path fill=\"none\" stroke=\"#000000\" d=\"M173.1726,-221.8621C179.7465,-222.7887 186.4952,-223.7399 193.0053,-224.6575\"/>\n",
       "<polygon fill=\"#000000\" stroke=\"#000000\" points=\"192.589,-228.1333 202.9797,-226.0634 193.5661,-221.2019 192.589,-228.1333\"/>\n",
       "<text text-anchor=\"middle\" x=\"187.9869\" y=\"-229.095\" font-family=\"Times,serif\" font-size=\"14.00\" fill=\"#000000\">i₂</text>\n",
       "</g>\n",
       "<!-- 4&#45;&gt;6 -->\n",
       "<g id=\"edge8\" class=\"edge\">\n",
       "<title>4&#45;&gt;6</title>\n",
       "<path fill=\"none\" stroke=\"#000000\" d=\"M142.8725,-198.306C154.0498,-185.1286 169.6397,-166.7492 182.2832,-151.8434\"/>\n",
       "<polygon fill=\"#000000\" stroke=\"#000000\" points=\"185.158,-153.8649 188.9575,-143.9748 179.8197,-149.3368 185.158,-153.8649\"/>\n",
       "<text text-anchor=\"middle\" x=\"157.6799\" y=\"-180.9098\" font-family=\"Times,serif\" font-size=\"14.00\" fill=\"#000000\">i₈</text>\n",
       "</g>\n",
       "<!-- 5&#45;&gt;6 -->\n",
       "<g id=\"edge3\" class=\"edge\">\n",
       "<title>5&#45;&gt;6</title>\n",
       "<path fill=\"none\" stroke=\"#000000\" d=\"M229.5176,-212.3811C224.7403,-196.2177 217.6846,-172.3454 212.2093,-153.8205\"/>\n",
       "<polygon fill=\"#000000\" stroke=\"#000000\" points=\"215.5455,-152.7597 209.3546,-144.1619 208.8326,-154.7438 215.5455,-152.7597\"/>\n",
       "<text text-anchor=\"middle\" x=\"215.9655\" y=\"-188.9359\" font-family=\"Times,serif\" font-size=\"14.00\" fill=\"#000000\">i₃</text>\n",
       "</g>\n",
       "<!-- 6&#45;&gt;3 -->\n",
       "<g id=\"edge4\" class=\"edge\">\n",
       "<title>6&#45;&gt;3</title>\n",
       "<path fill=\"none\" stroke=\"#000000\" d=\"M206.0616,-107.8372C207.9191,-90.9492 210.702,-65.6489 212.8416,-46.1966\"/>\n",
       "<polygon fill=\"#000000\" stroke=\"#000000\" points=\"216.3398,-46.4047 213.9542,-36.0819 209.3817,-45.6393 216.3398,-46.4047\"/>\n",
       "<text text-anchor=\"middle\" x=\"204.5536\" y=\"-82.852\" font-family=\"Times,serif\" font-size=\"14.00\" fill=\"#000000\">i₄</text>\n",
       "</g>\n",
       "</g>\n",
       "</svg>\n"
      ],
      "text/plain": [
       "DiGraph(DiNode[DiNode(1,Dict{Symbol,Any}(Pair{Symbol,Any}(:label,-i_1 + i_6))),DiNode(2,Dict{Symbol,Any}(Pair{Symbol,Any}(:label,i_5 - i_6 - i_7))),DiNode(3,Dict{Symbol,Any}(Pair{Symbol,Any}(:label,i_4 - i_5))),DiNode(4,Dict{Symbol,Any}(Pair{Symbol,Any}(:label,i_1 - i_2 - i_8))),DiNode(5,Dict{Symbol,Any}(Pair{Symbol,Any}(:label,i_2 - i_3))),DiNode(6,Dict{Symbol,Any}(Pair{Symbol,Any}(:label,i_3 - i_4 + i_7 + i_8)))],DiEdge[DiEdge(1=>4,Dict{Symbol,Any}(Pair{Symbol,Any}(:label,i_1),Pair{Symbol,Any}(:len,1.5))),DiEdge(4=>5,Dict{Symbol,Any}(Pair{Symbol,Any}(:label,i_2),Pair{Symbol,Any}(:len,1.5))),DiEdge(5=>6,Dict{Symbol,Any}(Pair{Symbol,Any}(:label,i_3),Pair{Symbol,Any}(:len,1.5))),DiEdge(6=>3,Dict{Symbol,Any}(Pair{Symbol,Any}(:label,i_4),Pair{Symbol,Any}(:len,1.5))),DiEdge(3=>2,Dict{Symbol,Any}(Pair{Symbol,Any}(:label,i_5),Pair{Symbol,Any}(:len,1.5))),DiEdge(2=>1,Dict{Symbol,Any}(Pair{Symbol,Any}(:label,i_6),Pair{Symbol,Any}(:len,1.5))),DiEdge(2=>6,Dict{Symbol,Any}(Pair{Symbol,Any}(:label,i_7),Pair{Symbol,Any}(:len,1.5))),DiEdge(4=>6,Dict{Symbol,Any}(Pair{Symbol,Any}(:label,i_8),Pair{Symbol,Any}(:len,1.5)))],Dict{Symbol,Any}())"
      ]
     },
     "execution_count": 39,
     "metadata": {},
     "output_type": "execute_result"
    }
   ],
   "source": [
    "labels(g, edges=i, nodes=A'*i)"
   ]
  },
  {
   "cell_type": "markdown",
   "metadata": {},
   "source": [
    "Why is this?  The reason is that each row $A^T$ corresponds to a node, and has $\\pm 1$ for each edge going into or out of the node, exactly the right sign to sum the net currents flowing in:"
   ]
  },
  {
   "cell_type": "code",
   "execution_count": 40,
   "metadata": {
    "collapsed": false
   },
   "outputs": [
    {
     "data": {
      "text/plain": [
       "6×8 Array{Int64,2}:\n",
       " -1   0   0   0   0   1   0   0\n",
       "  0   0   0   0   1  -1  -1   0\n",
       "  0   0   0   1  -1   0   0   0\n",
       "  1  -1   0   0   0   0   0  -1\n",
       "  0   1  -1   0   0   0   0   0\n",
       "  0   0   1  -1   0   0   1   1"
      ]
     },
     "execution_count": 40,
     "metadata": {},
     "output_type": "execute_result"
    }
   ],
   "source": [
    "A'"
   ]
  },
  {
   "cell_type": "markdown",
   "metadata": {},
   "source": [
    "Putting it together, given voltages $v$, the net current flowing **out of** each node is\n",
    "\n",
    "$$\n",
    "A^T Y A v\n",
    "$$\n",
    "\n",
    "The matrix $A^T Y A$ is a very special and important kind of matrix.  It is obviously **symmetric**, and later on in the course we will see that any matrix of this form is necessarily **positive semidefinite** (all pivots are ≥ 0).   Many important matrices in science, engineering, statistics, and other fields take on this special form.\n",
    "\n",
    "If we multiply $A^T Y A$ together, not all of its specialness is apparent.  It is often better to leave it in \"factored\" form:"
   ]
  },
  {
   "cell_type": "code",
   "execution_count": 41,
   "metadata": {
    "collapsed": false
   },
   "outputs": [
    {
     "data": {
      "text/latex": [
       "\\begin{bmatrix}Y_{1} + Y_{6}&- Y_{6}&0&- Y_{1}&0&0\\\\- Y_{6}&Y_{5} + Y_{6} + Y_{7}&- Y_{5}&0&0&- Y_{7}\\\\0&- Y_{5}&Y_{4} + Y_{5}&0&0&- Y_{4}\\\\- Y_{1}&0&0&Y_{1} + Y_{2} + Y_{8}&- Y_{2}&- Y_{8}\\\\0&0&0&- Y_{2}&Y_{2} + Y_{3}&- Y_{3}\\\\0&- Y_{7}&- Y_{4}&- Y_{8}&- Y_{3}&Y_{3} + Y_{4} + Y_{7} + Y_{8}\\end{bmatrix}"
      ],
      "text/plain": [
       "6×6 Array{SymPy.Sym,2}\n",
       "[Y_1 + Y_6       -Y_6            0           -Y_1            0                \n",
       "[                                                                             \n",
       "[  -Y_6     Y_5 + Y_6 + Y_7    -Y_5            0             0              -Y\n",
       "[                                                                             \n",
       "[    0           -Y_5        Y_4 + Y_5         0             0              -Y\n",
       "[                                                                             \n",
       "[  -Y_1            0             0      Y_1 + Y_2 + Y_8    -Y_2             -Y\n",
       "[                                                                             \n",
       "[    0             0             0           -Y_2        Y_2 + Y_3          -Y\n",
       "[                                                                             \n",
       "[    0           -Y_7          -Y_4          -Y_8          -Y_3     Y_3 + Y_4 \n",
       "\n",
       "0          ]\n",
       "           ]\n",
       "_7         ]\n",
       "           ]\n",
       "_4         ]\n",
       "           ]\n",
       "_8         ]\n",
       "           ]\n",
       "_3         ]\n",
       "           ]\n",
       "+ Y_7 + Y_8]"
      ]
     },
     "execution_count": 41,
     "metadata": {},
     "output_type": "execute_result"
    }
   ],
   "source": [
    "A' * Y * A"
   ]
  },
  {
   "cell_type": "markdown",
   "metadata": {
    "collapsed": false
   },
   "source": [
    "#### Null space\n",
    "\n",
    "If we just say that the net current flowing out of each node is zero, we get the equation:\n",
    "$$\n",
    "A^T Y A v = 0\n",
    "$$\n",
    "or $v \\in N(A^T Y A) = N(A)$.\n",
    "\n",
    "It is an amazing and important fact that $N(A^T Y A) = N(A)$!!  (You saw a version of this in homework.)   Why is this?  Clearly, if $Ax = 0$ then $A^T Y Ax=0$.  But what about the converse?  Here is a trick: if $A^T Y Ax =0$, then $x^T A^T Y A x=0 = (Ax)^T Y (Ax)$.  Let $y=Ax$.  It is easy to see that $y^T Y y = \\sum_i Y_i y_i^2 = 0$ only if $y=0$, since all of the admittances $Y_i$ are positive.  (We will later say that $Y$ is a \"positive-definite matrix\".)  This means that $A^T Y Ax =0$ implies that $y=Ax=0$, which implies that $x \\in N(A)$.\n",
    "\n",
    "What is $N(A)$? The rank of $A$ is 5, so $N(A)$ must be **1-dimensional**.  A basis for it is:"
   ]
  },
  {
   "cell_type": "code",
   "execution_count": 42,
   "metadata": {
    "collapsed": false
   },
   "outputs": [
    {
     "data": {
      "text/plain": [
       "6×1 Array{Float64,2}:\n",
       " 0.408248\n",
       " 0.408248\n",
       " 0.408248\n",
       " 0.408248\n",
       " 0.408248\n",
       " 0.408248"
      ]
     },
     "execution_count": 42,
     "metadata": {},
     "output_type": "execute_result"
    }
   ],
   "source": [
    "nullspace(A)"
   ]
  },
  {
   "cell_type": "markdown",
   "metadata": {
    "collapsed": true
   },
   "source": [
    "But this is, of course, just the space of vectors where **all voltages are equal**.   In hindsight, this should be obvious: if all the voltages are equal, then their difference are zero, and the currents are zero, and KCL is satisfied."
   ]
  },
  {
   "cell_type": "markdown",
   "metadata": {},
   "source": [
    "### Current sources\n",
    "\n",
    "Of course, it is much more interesting to think about circuits when the currents are nonzero!\n",
    "\n",
    "To do this, we must consider a **source term** in the equations, and in particular we could try to solve\n",
    "\n",
    "$$\n",
    "A^T Y A v = s\n",
    "$$\n",
    "\n",
    "for some $s\\ne 0$.  What does $s$ represent?  It is precisely an **external source of current** flowing **out of each node**.\n",
    "\n",
    "For this to have a solution, however, we must have $s \\in C(A^T Y A) = N((A^T Y A)^T)^\\perp = N(A^T Y A)^\\perp = N(A)^\\perp$ (since $A^T Y A$ is symmetric, the left and right nullspaces are equal).  We know a basis for $N(A)$ from above, so this boils down to:\n",
    "\n",
    "$$\n",
    "\\begin{pmatrix} 1 & 1 & 1 & 1 & 1 & 1 \\end{pmatrix} s = 0 = \\sum_{i=1}^6 s_i\n",
    "$$\n",
    "\n",
    "That is, to have a solution, **all current that flows in must flow out**, so that the net current flowing into the circuit is zero.  This makes a lot of physical sense!"
   ]
  },
  {
   "cell_type": "markdown",
   "metadata": {},
   "source": [
    "Just for fun, let's solve this circuit problem when the current is flowing **into node 2** and **out through node 1**, with slider controls for the 8 admittances, and label the edges with the currents."
   ]
  },
  {
   "cell_type": "code",
   "execution_count": 43,
   "metadata": {
    "collapsed": false
   },
   "outputs": [
    {
     "data": {
      "text/plain": [
       "twodigits (generic function with 1 method)"
      ]
     },
     "execution_count": 43,
     "metadata": {},
     "output_type": "execute_result"
    }
   ],
   "source": [
    "twodigits(x) = round(x, 2)"
   ]
  },
  {
   "cell_type": "code",
   "execution_count": 44,
   "metadata": {
    "collapsed": false
   },
   "outputs": [
    {
     "data": {
      "text/html": [],
      "text/plain": [
       "Interact.Options{:SelectionSlider,Float64}(Signal{Float64}(5.0, nactions=1),\"Y₁\",5.0,\"5.0\",Interact.OptionDict(DataStructures.OrderedDict(\"0.1\"=>0.1,\"0.2\"=>0.2,\"0.3\"=>0.3,\"0.4\"=>0.4,\"0.5\"=>0.5,\"0.6\"=>0.6,\"0.7\"=>0.7,\"0.8\"=>0.8,\"0.9\"=>0.9,\"1.0\"=>1.0…),Dict(1.2=>\"1.2\",4.3=>\"4.3\",9.6=>\"9.6\",2.0=>\"2.0\",1.5=>\"1.5\",7.1=>\"7.1\",1.4=>\"1.4\",7.4=>\"7.4\",6.2=>\"6.2\",0.2=>\"0.2\"…)),Any[],Any[],true,\"horizontal\")"
      ]
     },
     "metadata": {},
     "output_type": "display_data"
    },
    {
     "data": {
      "text/html": [],
      "text/plain": [
       "Interact.Options{:SelectionSlider,Float64}(Signal{Float64}(5.0, nactions=1),\"Y₂\",5.0,\"5.0\",Interact.OptionDict(DataStructures.OrderedDict(\"0.1\"=>0.1,\"0.2\"=>0.2,\"0.3\"=>0.3,\"0.4\"=>0.4,\"0.5\"=>0.5,\"0.6\"=>0.6,\"0.7\"=>0.7,\"0.8\"=>0.8,\"0.9\"=>0.9,\"1.0\"=>1.0…),Dict(1.2=>\"1.2\",4.3=>\"4.3\",9.6=>\"9.6\",2.0=>\"2.0\",1.5=>\"1.5\",7.1=>\"7.1\",1.4=>\"1.4\",7.4=>\"7.4\",6.2=>\"6.2\",0.2=>\"0.2\"…)),Any[],Any[],true,\"horizontal\")"
      ]
     },
     "metadata": {},
     "output_type": "display_data"
    },
    {
     "data": {
      "text/html": [],
      "text/plain": [
       "Interact.Options{:SelectionSlider,Float64}(Signal{Float64}(5.0, nactions=1),\"Y₃\",5.0,\"5.0\",Interact.OptionDict(DataStructures.OrderedDict(\"0.1\"=>0.1,\"0.2\"=>0.2,\"0.3\"=>0.3,\"0.4\"=>0.4,\"0.5\"=>0.5,\"0.6\"=>0.6,\"0.7\"=>0.7,\"0.8\"=>0.8,\"0.9\"=>0.9,\"1.0\"=>1.0…),Dict(1.2=>\"1.2\",4.3=>\"4.3\",9.6=>\"9.6\",2.0=>\"2.0\",1.5=>\"1.5\",7.1=>\"7.1\",1.4=>\"1.4\",7.4=>\"7.4\",6.2=>\"6.2\",0.2=>\"0.2\"…)),Any[],Any[],true,\"horizontal\")"
      ]
     },
     "metadata": {},
     "output_type": "display_data"
    },
    {
     "data": {
      "text/html": [],
      "text/plain": [
       "Interact.Options{:SelectionSlider,Float64}(Signal{Float64}(5.0, nactions=1),\"Y₄\",5.0,\"5.0\",Interact.OptionDict(DataStructures.OrderedDict(\"0.1\"=>0.1,\"0.2\"=>0.2,\"0.3\"=>0.3,\"0.4\"=>0.4,\"0.5\"=>0.5,\"0.6\"=>0.6,\"0.7\"=>0.7,\"0.8\"=>0.8,\"0.9\"=>0.9,\"1.0\"=>1.0…),Dict(1.2=>\"1.2\",4.3=>\"4.3\",9.6=>\"9.6\",2.0=>\"2.0\",1.5=>\"1.5\",7.1=>\"7.1\",1.4=>\"1.4\",7.4=>\"7.4\",6.2=>\"6.2\",0.2=>\"0.2\"…)),Any[],Any[],true,\"horizontal\")"
      ]
     },
     "metadata": {},
     "output_type": "display_data"
    },
    {
     "data": {
      "text/html": [],
      "text/plain": [
       "Interact.Options{:SelectionSlider,Float64}(Signal{Float64}(5.0, nactions=1),\"Y₅\",5.0,\"5.0\",Interact.OptionDict(DataStructures.OrderedDict(\"0.1\"=>0.1,\"0.2\"=>0.2,\"0.3\"=>0.3,\"0.4\"=>0.4,\"0.5\"=>0.5,\"0.6\"=>0.6,\"0.7\"=>0.7,\"0.8\"=>0.8,\"0.9\"=>0.9,\"1.0\"=>1.0…),Dict(1.2=>\"1.2\",4.3=>\"4.3\",9.6=>\"9.6\",2.0=>\"2.0\",1.5=>\"1.5\",7.1=>\"7.1\",1.4=>\"1.4\",7.4=>\"7.4\",6.2=>\"6.2\",0.2=>\"0.2\"…)),Any[],Any[],true,\"horizontal\")"
      ]
     },
     "metadata": {},
     "output_type": "display_data"
    },
    {
     "data": {
      "text/html": [],
      "text/plain": [
       "Interact.Options{:SelectionSlider,Float64}(Signal{Float64}(5.0, nactions=1),\"Y₆\",5.0,\"5.0\",Interact.OptionDict(DataStructures.OrderedDict(\"0.1\"=>0.1,\"0.2\"=>0.2,\"0.3\"=>0.3,\"0.4\"=>0.4,\"0.5\"=>0.5,\"0.6\"=>0.6,\"0.7\"=>0.7,\"0.8\"=>0.8,\"0.9\"=>0.9,\"1.0\"=>1.0…),Dict(1.2=>\"1.2\",4.3=>\"4.3\",9.6=>\"9.6\",2.0=>\"2.0\",1.5=>\"1.5\",7.1=>\"7.1\",1.4=>\"1.4\",7.4=>\"7.4\",6.2=>\"6.2\",0.2=>\"0.2\"…)),Any[],Any[],true,\"horizontal\")"
      ]
     },
     "metadata": {},
     "output_type": "display_data"
    },
    {
     "data": {
      "text/html": [],
      "text/plain": [
       "Interact.Options{:SelectionSlider,Float64}(Signal{Float64}(5.0, nactions=1),\"Y₇\",5.0,\"5.0\",Interact.OptionDict(DataStructures.OrderedDict(\"0.1\"=>0.1,\"0.2\"=>0.2,\"0.3\"=>0.3,\"0.4\"=>0.4,\"0.5\"=>0.5,\"0.6\"=>0.6,\"0.7\"=>0.7,\"0.8\"=>0.8,\"0.9\"=>0.9,\"1.0\"=>1.0…),Dict(1.2=>\"1.2\",4.3=>\"4.3\",9.6=>\"9.6\",2.0=>\"2.0\",1.5=>\"1.5\",7.1=>\"7.1\",1.4=>\"1.4\",7.4=>\"7.4\",6.2=>\"6.2\",0.2=>\"0.2\"…)),Any[],Any[],true,\"horizontal\")"
      ]
     },
     "metadata": {},
     "output_type": "display_data"
    },
    {
     "data": {
      "text/html": [],
      "text/plain": [
       "Interact.Options{:SelectionSlider,Float64}(Signal{Float64}(5.0, nactions=1),\"Y₈\",5.0,\"5.0\",Interact.OptionDict(DataStructures.OrderedDict(\"0.1\"=>0.1,\"0.2\"=>0.2,\"0.3\"=>0.3,\"0.4\"=>0.4,\"0.5\"=>0.5,\"0.6\"=>0.6,\"0.7\"=>0.7,\"0.8\"=>0.8,\"0.9\"=>0.9,\"1.0\"=>1.0…),Dict(1.2=>\"1.2\",4.3=>\"4.3\",9.6=>\"9.6\",2.0=>\"2.0\",1.5=>\"1.5\",7.1=>\"7.1\",1.4=>\"1.4\",7.4=>\"7.4\",6.2=>\"6.2\",0.2=>\"0.2\"…)),Any[],Any[],true,\"horizontal\")"
      ]
     },
     "metadata": {},
     "output_type": "display_data"
    },
    {
     "data": {
      "image/svg+xml": [
       "<?xml version=\"1.0\" encoding=\"UTF-8\" standalone=\"no\"?>\n",
       "<!DOCTYPE svg PUBLIC \"-//W3C//DTD SVG 1.1//EN\"\n",
       " \"http://www.w3.org/Graphics/SVG/1.1/DTD/svg11.dtd\">\n",
       "<!-- Generated by graphviz version 2.40.1 (20161225.0304)\n",
       " -->\n",
       "<!-- Title: MyDiGraph Pages: 1 -->\n",
       "<svg width=\"259pt\" height=\"257pt\"\n",
       " viewBox=\"0.00 0.00 258.52 256.56\" xmlns=\"http://www.w3.org/2000/svg\" xmlns:xlink=\"http://www.w3.org/1999/xlink\">\n",
       "<g id=\"graph0\" class=\"graph\" transform=\"scale(1 1) rotate(0) translate(4 252.5612)\">\n",
       "<title>MyDiGraph</title>\n",
       "<polygon fill=\"#ffffff\" stroke=\"transparent\" points=\"-4,4 -4,-252.5612 254.5182,-252.5612 254.5182,4 -4,4\"/>\n",
       "<!-- 1 -->\n",
       "<g id=\"node1\" class=\"node\">\n",
       "<title>1</title>\n",
       "<ellipse fill=\"none\" stroke=\"#ff0000\" cx=\"27\" cy=\"-140.9451\" rx=\"27\" ry=\"18\"/>\n",
       "<text text-anchor=\"middle\" x=\"27\" y=\"-136.7451\" font-family=\"Times,serif\" font-size=\"14.00\" fill=\"#ff0000\">1</text>\n",
       "</g>\n",
       "<!-- 4 -->\n",
       "<g id=\"node4\" class=\"node\">\n",
       "<title>4</title>\n",
       "<ellipse fill=\"none\" stroke=\"#000000\" cx=\"116.8883\" cy=\"-215.532\" rx=\"27\" ry=\"18\"/>\n",
       "<text text-anchor=\"middle\" x=\"116.8883\" y=\"-211.332\" font-family=\"Times,serif\" font-size=\"14.00\" fill=\"#000000\">4</text>\n",
       "</g>\n",
       "<!-- 1&#45;&gt;4 -->\n",
       "<g id=\"edge1\" class=\"edge\">\n",
       "<title>1&#45;&gt;4</title>\n",
       "<path fill=\"none\" stroke=\"#000000\" d=\"M44.3314,-155.3262C57.8476,-166.5416 76.8036,-182.2708 91.9506,-194.8393\"/>\n",
       "<polygon fill=\"#000000\" stroke=\"#000000\" points=\"89.9843,-197.7558 99.915,-201.448 94.4543,-192.3688 89.9843,-197.7558\"/>\n",
       "<text text-anchor=\"middle\" x=\"44.7142\" y=\"-180.9179\" font-family=\"Times,serif\" font-size=\"14.00\" fill=\"#000000\">i₁ = &#45;0.3</text>\n",
       "</g>\n",
       "<!-- 2 -->\n",
       "<g id=\"node2\" class=\"node\">\n",
       "<title>2</title>\n",
       "<ellipse fill=\"none\" stroke=\"#ff0000\" cx=\"102.2914\" cy=\"-51.6524\" rx=\"27\" ry=\"18\"/>\n",
       "<text text-anchor=\"middle\" x=\"102.2914\" y=\"-47.4524\" font-family=\"Times,serif\" font-size=\"14.00\" fill=\"#ff0000\">2</text>\n",
       "</g>\n",
       "<!-- 2&#45;&gt;1 -->\n",
       "<g id=\"edge6\" class=\"edge\">\n",
       "<title>2&#45;&gt;1</title>\n",
       "<path fill=\"none\" stroke=\"#000000\" d=\"M88.8308,-67.6162C77.1606,-81.4566 60.1129,-101.6744 46.8723,-117.3772\"/>\n",
       "<polygon fill=\"#000000\" stroke=\"#000000\" points=\"44.1146,-115.2183 40.3441,-125.1195 49.4661,-119.7307 44.1146,-115.2183\"/>\n",
       "<text text-anchor=\"middle\" x=\"46.7559\" y=\"-98.3319\" font-family=\"Times,serif\" font-size=\"14.00\" fill=\"#000000\">i₆ = 0.7</text>\n",
       "</g>\n",
       "<!-- 6 -->\n",
       "<g id=\"node6\" class=\"node\">\n",
       "<title>6</title>\n",
       "<ellipse fill=\"none\" stroke=\"#000000\" cx=\"192.6702\" cy=\"-126.1901\" rx=\"27\" ry=\"18\"/>\n",
       "<text text-anchor=\"middle\" x=\"192.6702\" y=\"-121.9901\" font-family=\"Times,serif\" font-size=\"14.00\" fill=\"#000000\">6</text>\n",
       "</g>\n",
       "<!-- 2&#45;&gt;6 -->\n",
       "<g id=\"edge7\" class=\"edge\">\n",
       "<title>2&#45;&gt;6</title>\n",
       "<path fill=\"none\" stroke=\"#000000\" d=\"M119.2909,-65.6724C132.8382,-76.8452 152.0133,-92.6594 167.3645,-105.3199\"/>\n",
       "<polygon fill=\"#000000\" stroke=\"#000000\" points=\"165.4978,-108.3172 175.4396,-111.9796 169.9517,-102.9168 165.4978,-108.3172\"/>\n",
       "<text text-anchor=\"middle\" x=\"122.232\" y=\"-91.3313\" font-family=\"Times,serif\" font-size=\"14.00\" fill=\"#000000\">i₇ = 0.2</text>\n",
       "</g>\n",
       "<!-- 3 -->\n",
       "<g id=\"node3\" class=\"node\">\n",
       "<title>3</title>\n",
       "<ellipse fill=\"none\" stroke=\"#000000\" cx=\"204.5704\" cy=\"-18\" rx=\"27\" ry=\"18\"/>\n",
       "<text text-anchor=\"middle\" x=\"204.5704\" y=\"-13.8\" font-family=\"Times,serif\" font-size=\"14.00\" fill=\"#000000\">3</text>\n",
       "</g>\n",
       "<!-- 3&#45;&gt;2 -->\n",
       "<g id=\"edge5\" class=\"edge\">\n",
       "<title>3&#45;&gt;2</title>\n",
       "<path fill=\"none\" stroke=\"#000000\" d=\"M180.3317,-25.9752C167.1806,-30.3022 150.7115,-35.721 136.2962,-40.464\"/>\n",
       "<polygon fill=\"#000000\" stroke=\"#000000\" points=\"135.1157,-37.1677 126.7105,-43.6179 137.3035,-43.8171 135.1157,-37.1677\"/>\n",
       "<text text-anchor=\"middle\" x=\"134.8872\" y=\"-22.0196\" font-family=\"Times,serif\" font-size=\"14.00\" fill=\"#000000\">i₅ = &#45;0.1</text>\n",
       "</g>\n",
       "<!-- 5 -->\n",
       "<g id=\"node5\" class=\"node\">\n",
       "<title>5</title>\n",
       "<ellipse fill=\"none\" stroke=\"#000000\" cx=\"223.5182\" cy=\"-230.5612\" rx=\"27\" ry=\"18\"/>\n",
       "<text text-anchor=\"middle\" x=\"223.5182\" y=\"-226.3612\" font-family=\"Times,serif\" font-size=\"14.00\" fill=\"#000000\">5</text>\n",
       "</g>\n",
       "<!-- 4&#45;&gt;5 -->\n",
       "<g id=\"edge2\" class=\"edge\">\n",
       "<title>4&#45;&gt;5</title>\n",
       "<path fill=\"none\" stroke=\"#000000\" d=\"M143.5205,-219.2857C156.6248,-221.1327 172.6268,-223.3882 186.8659,-225.3951\"/>\n",
       "<polygon fill=\"#000000\" stroke=\"#000000\" points=\"186.4654,-228.8732 196.856,-226.8032 187.4424,-221.9417 186.4654,-228.8732\"/>\n",
       "<text text-anchor=\"middle\" x=\"165.1932\" y=\"-211.1404\" font-family=\"Times,serif\" font-size=\"14.00\" fill=\"#000000\">i₂ = &#45;0.1</text>\n",
       "</g>\n",
       "<!-- 4&#45;&gt;6 -->\n",
       "<g id=\"edge8\" class=\"edge\">\n",
       "<title>4&#45;&gt;6</title>\n",
       "<path fill=\"none\" stroke=\"#000000\" d=\"M130.4366,-199.5595C142.1828,-185.7114 159.3415,-165.4824 172.6684,-149.771\"/>\n",
       "<polygon fill=\"#000000\" stroke=\"#000000\" points=\"175.4397,-151.9145 179.2392,-142.0244 170.1014,-147.3865 175.4397,-151.9145\"/>\n",
       "<text text-anchor=\"middle\" x=\"128.1257\" y=\"-180.5004\" font-family=\"Times,serif\" font-size=\"14.00\" fill=\"#000000\">i₈ = &#45;0.2</text>\n",
       "</g>\n",
       "<!-- 5&#45;&gt;6 -->\n",
       "<g id=\"edge3\" class=\"edge\">\n",
       "<title>5&#45;&gt;6</title>\n",
       "<path fill=\"none\" stroke=\"#000000\" d=\"M218.2853,-212.856C213.499,-196.6623 206.343,-172.4508 200.8102,-153.7311\"/>\n",
       "<polygon fill=\"#000000\" stroke=\"#000000\" points=\"204.1197,-152.58 197.9288,-143.9821 197.4068,-154.5641 204.1197,-152.58\"/>\n",
       "<text text-anchor=\"middle\" x=\"186.121\" y=\"-189.1287\" font-family=\"Times,serif\" font-size=\"14.00\" fill=\"#000000\">i₃ = &#45;0.1</text>\n",
       "</g>\n",
       "<!-- 6&#45;&gt;3 -->\n",
       "<g id=\"edge4\" class=\"edge\">\n",
       "<title>6&#45;&gt;3</title>\n",
       "<path fill=\"none\" stroke=\"#000000\" d=\"M194.6889,-107.8372C196.5465,-90.9492 199.3293,-65.6489 201.469,-46.1966\"/>\n",
       "<polygon fill=\"#000000\" stroke=\"#000000\" points=\"204.9671,-46.4047 202.5815,-36.0819 198.009,-45.6393 204.9671,-46.4047\"/>\n",
       "<text text-anchor=\"middle\" x=\"174.6522\" y=\"-82.852\" font-family=\"Times,serif\" font-size=\"14.00\" fill=\"#000000\">i₄ = &#45;0.1</text>\n",
       "</g>\n",
       "</g>\n",
       "</svg>\n"
      ],
      "text/plain": [
       "DiGraph(DiNode[DiNode(1,Dict{Symbol,Any}(Pair{Symbol,Any}(:color,\"red\"),Pair{Symbol,Any}(:fontcolor,\"red\"))),DiNode(2,Dict{Symbol,Any}(Pair{Symbol,Any}(:color,\"red\"),Pair{Symbol,Any}(:fontcolor,\"red\"))),DiNode(3,Dict{Symbol,Any}()),DiNode(4,Dict{Symbol,Any}()),DiNode(5,Dict{Symbol,Any}()),DiNode(6,Dict{Symbol,Any}())],DiEdge[DiEdge(1=>4,Dict{Symbol,Any}(Pair{Symbol,Any}(:label,\"i₁ = -0.3\"),Pair{Symbol,Any}(:len,1.5))),DiEdge(4=>5,Dict{Symbol,Any}(Pair{Symbol,Any}(:label,\"i₂ = -0.1\"),Pair{Symbol,Any}(:len,1.5))),DiEdge(5=>6,Dict{Symbol,Any}(Pair{Symbol,Any}(:label,\"i₃ = -0.1\"),Pair{Symbol,Any}(:len,1.5))),DiEdge(6=>3,Dict{Symbol,Any}(Pair{Symbol,Any}(:label,\"i₄ = -0.1\"),Pair{Symbol,Any}(:len,1.5))),DiEdge(3=>2,Dict{Symbol,Any}(Pair{Symbol,Any}(:label,\"i₅ = -0.1\"),Pair{Symbol,Any}(:len,1.5))),DiEdge(2=>1,Dict{Symbol,Any}(Pair{Symbol,Any}(:label,\"i₆ = 0.7\"),Pair{Symbol,Any}(:len,1.5))),DiEdge(2=>6,Dict{Symbol,Any}(Pair{Symbol,Any}(:label,\"i₇ = 0.2\"),Pair{Symbol,Any}(:len,1.5))),DiEdge(4=>6,Dict{Symbol,Any}(Pair{Symbol,Any}(:label,\"i₈ = -0.2\"),Pair{Symbol,Any}(:len,1.5)))],Dict{Symbol,Any}())"
      ]
     },
     "execution_count": 44,
     "metadata": {
      "comm_id": "2fb7571f-cc50-4975-adae-423e05b320d5",
      "reactive": true
     },
     "output_type": "execute_result"
    }
   ],
   "source": [
    "@manipulate for Y₁=0.1:0.1:10,\n",
    "                Y₂=0.1:0.1:10,\n",
    "                Y₃=0.1:0.1:10,\n",
    "                Y₄=0.1:0.1:10,\n",
    "                Y₅=0.1:0.1:10,\n",
    "                Y₆=0.1:0.1:10,\n",
    "                Y₇=0.1:0.1:10,\n",
    "                Y₈=0.1:0.1:10\n",
    "    s = [1,-1,0,0,0,0]\n",
    "    Y = diagm([Y₁,Y₂,Y₃,Y₄,Y₅,Y₆,Y₇,Y₈])\n",
    "    nodecolors!(labels(g, edges=[subchar(\"i_$j = $i\") for (j,i) in enumerate(twodigits.(Y*A*(pinv(A'*Y*A) * s)))]),\n",
    "                [1,2])\n",
    "end"
   ]
  },
  {
   "cell_type": "markdown",
   "metadata": {},
   "source": [
    "Notice that if we make the admittance $Y_6$ really large compared to all of the other admittances, then nearly all of the current should flow just over that one edge.   Conversely, if we make $Y_6$ really *small*, it is almost like \"cutting\" that wire: almost all of the current should flow through the *other* edges.\n",
    "\n",
    "Hooray, math (and physics) works!"
   ]
  },
  {
   "cell_type": "markdown",
   "metadata": {},
   "source": [
    "## Sparsity\n",
    "\n",
    "The case of matrices arising from graphs illustrates another point that I've made many times: **really large matrices are often sparse (mostly 0)** in practice.\n",
    "\n",
    "For example, imagine a circuit with a million nodes.  For the most part, there will only be *wires between nearby nodes*.  Or imagine a graph where the nodes are websites and the edges are links: there are billions of sites, but *each site only links to a few other sites* (a few hundred at most, usually).   In such cases, the **incidence matrix is mostly zero**, and similarly for $A^T Y A$ etcetetera.\n",
    "\n",
    "This is hugely important, because solving $Ax=b$ and most other matrix equations scale as $\\sim n^3$ for $n \\times n$ matrices.  $1000 \\times 1000$ matrices are easy (< 1 second), but $n=10^6$ would require supercomputers, and $n=10^9$ would be impossibly hard.   What saves us is that there are **much faster algorithms for sparse matrices**.  We won't learn much about such algorithms in 18.06, but the key point is to know that they exist.\n",
    "\n",
    "If you encounter a large sparse matrix problem in the future, go read about sparse matrix algorithms!"
   ]
  }
 ],
 "metadata": {
  "anaconda-cloud": {},
  "kernelspec": {
   "display_name": "Julia 0.5.0",
   "language": "julia",
   "name": "julia-0.5"
  },
  "language_info": {
   "file_extension": ".jl",
   "mimetype": "application/julia",
   "name": "julia",
   "version": "0.5.0"
  }
 },
 "nbformat": 4,
 "nbformat_minor": 1
}
