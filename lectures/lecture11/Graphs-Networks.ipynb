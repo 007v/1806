{
 "cells": [
  {
   "cell_type": "markdown",
   "metadata": {},
   "source": [
    "# Graphs and Networks in Linear Algebra\n",
    "\n",
    "This notebook is based on section 10.1 of Strang's *Linear Algebra* textbook.\n",
    "\n",
    "One interesting source of large matrices in linear algebra is a [graph](https://en.wikipedia.org/wiki/Graph_(discrete_mathematics), a collection of *nodes* (vertices) and *edges* (arrows from one vertex to another).   Graphs are used in many applications to represent *relationships* and *connectivity*, such as:\n",
    "\n",
    "* For computer networks, nodes could represent web pages, and edges could represent links.\n",
    "* For circuits, edges could represent wires (or resistors) and nodes junctions.\n",
    "* For transportation, nodes could represent cities and edges roads.\n",
    "* In bioinformatics, graphs can represent gene regulatory networks.\n",
    "* In sociology, nodes could represent people and edges relationships.\n",
    "* ... and many, many other applications ...\n",
    "\n",
    "In this notebook, we explain how a graph can be represented by a *matrix*, and how linear algebra can tell us properties of the graph and can help us do computations on graph-based problems.  There is a particularly beautiful connection to Kirchhoff's laws of circuit theory."
   ]
  },
  {
   "cell_type": "markdown",
   "metadata": {},
   "source": [
    "## Julia Graph-visualization code\n",
    "\n",
    "There are several Julia packages for manipulating graphs, e.g. [LightGraphs](https://github.com/JuliaGraphs/LightGraphs.jl), along with several packages for visualizing graphs, e.g. [GraphViz](https://github.com/Keno/GraphViz.jl).  LightGraphs is oriented towards fast and sophisticated graph computations, however, and here I just want to do some simple and pretty visualizations with simple algorithms based on those in Strang's 18.06 textbook.\n",
    "\n",
    "So, here I define a simple `DiGraph` datastructure for directed graphs, oriented towards visualization via the GraphViz package (allowing me to control colors and other properties easily).   18.06 students can skip over all of this code directly to the results."
   ]
  },
  {
   "cell_type": "code",
   "execution_count": 1,
   "metadata": {
    "collapsed": true
   },
   "outputs": [],
   "source": [
    "# Pkg.add(\"GraphViz\") # uncomment this line to install GraphViz if needed\n",
    "import GraphViz"
   ]
  },
  {
   "cell_type": "markdown",
   "metadata": {},
   "source": [
    "We will also need the RowEchelon package to reduce our matrices to rref form.  This is not something you would do in \"serious\" computations, but is useful for pedagogy:"
   ]
  },
  {
   "cell_type": "code",
   "execution_count": 2,
   "metadata": {
    "collapsed": true
   },
   "outputs": [],
   "source": [
    "# Pkg.add(\"RowEchelon\") # uncomment this to install\n",
    "using RowEchelon"
   ]
  },
  {
   "cell_type": "code",
   "execution_count": 3,
   "metadata": {
    "collapsed": false
   },
   "outputs": [
    {
     "data": {
      "text/plain": [
       "labels! (generic function with 1 method)"
      ]
     },
     "execution_count": 3,
     "metadata": {},
     "output_type": "execute_result"
    }
   ],
   "source": [
    "# A very simple data structure representing a directed graph, with the ability to\n",
    "# label and color the nodes and edges as needed.\n",
    "const Properties = Dict{Symbol,Any}\n",
    "immutable DiNode\n",
    "    label::Any\n",
    "    props::Properties\n",
    "    DiNode(label, props::Properties) = new(label, props)\n",
    "    DiNode(label, props::Pair{Symbol}...) = DiNode(label, Properties(props...))\n",
    "end\n",
    "Base.copy(n::DiNode) = DiNode(n.label, copy(n.props))\n",
    "immutable DiEdge\n",
    "    e::Pair{Int,Int}\n",
    "    props::Properties\n",
    "    DiEdge(e, props::Properties) = new(e, props)\n",
    "    DiEdge(e, props::Pair{Symbol}...) = DiEdge(e, Properties(props...))\n",
    "end\n",
    "Base.copy(e::DiEdge) = DiEdge(e.e, copy(e.props))\n",
    "type DiGraph\n",
    "    nodes::Vector{DiNode}\n",
    "    edges::Vector{DiEdge}\n",
    "    props::Properties # properties of the whole graph\n",
    "    function DiGraph(nodes::Vector{DiNode}, edges::Vector{DiEdge}, props::Properties)\n",
    "        n = length(nodes)\n",
    "        all(e -> minimum(e.e) ≥ 1 && maximum(e.e) ≤ n, edges) || throw(ArgumentError(\"edge refers to nonexistent node\"))\n",
    "        new(nodes, edges, props)\n",
    "    end\n",
    "    DiGraph(nodes::Vector{DiNode}, edges::Vector{DiEdge}, props::Pair{Symbol}...) =\n",
    "        DiGraph(nodes, edges, Properties(props...))\n",
    "end\n",
    "function DiGraph(numnodes::Integer, edges::Pair{Int,Int}...)\n",
    "    n = Int(numnodes)\n",
    "    m = length(edges)\n",
    "    DiGraph([DiNode(i) for i=1:n], [DiEdge(edges[j], :label=>j) for j=1:m])\n",
    "end\n",
    "DiGraph(edges::Pair{Int,Int}...) = DiGraph(maximum(e -> maximum(e), edges), edges...)\n",
    "Base.copy(g::DiGraph) = DiGraph(copy.(g.nodes), copy.(g.edges), copy(g.props))\n",
    "function colornodes(g::DiGraph, nodes::AbstractVector{Int}, color::String=\"red\")\n",
    "    gc = copy(g)\n",
    "    for n in nodes\n",
    "        gc.nodes[n].props[:color] = color\n",
    "        gc.nodes[n].props[:fontcolor] = color\n",
    "    end\n",
    "    gc\n",
    "end\n",
    "function coloredges(g::DiGraph, edges::AbstractVector{Int}, color::String=\"red\")\n",
    "    gc = copy(g)\n",
    "    for e in edges\n",
    "        gc.edges[e].props[:color] = color\n",
    "        gc.edges[e].props[:fontcolor] = color\n",
    "    end\n",
    "    gc\n",
    "end\n",
    "function edgelen!(g::DiGraph, len::Real=1)\n",
    "    for e in g.edges\n",
    "        e.props[:len] = len\n",
    "    end\n",
    "    g\n",
    "end\n",
    "function labels!(g::DiGraph; edges=nothing, nodes=nothing)\n",
    "    if edges !== nothing\n",
    "        for (e,E) in zip(g.edges, edges)\n",
    "            e.props[:label] = E\n",
    "        end\n",
    "    end\n",
    "    if nodes !== nothing\n",
    "        for (n,N) in zip(g.nodes, nodes)\n",
    "            n.props[:label] = N\n",
    "        end\n",
    "    end\n",
    "    g\n",
    "end"
   ]
  },
  {
   "cell_type": "code",
   "execution_count": 4,
   "metadata": {
    "collapsed": false
   },
   "outputs": [
    {
     "data": {
      "text/plain": [
       "DOTstring (generic function with 1 method)"
      ]
     },
     "execution_count": 4,
     "metadata": {},
     "output_type": "execute_result"
    }
   ],
   "source": [
    "# visualization of DiGraph via GraphViz\n",
    "function showprop(io, x::String)\n",
    "    print(io, '\"')\n",
    "    escape_string(io, x, \"\")\n",
    "    print(io, '\"')\n",
    "end\n",
    "showprop(io, x::Number) = print(io, x)\n",
    "showprop(io, x) = showprop(io, string(x))\n",
    "GraphViz.Graph(g::DiGraph) = GraphViz.Graph(DOTstring(g))\n",
    "Base.show(io::IO, m::MIME\"image/svg+xml\", g::DiGraph) = show(io, m, GraphViz.Graph(g))\n",
    "function DOTstring(g::DiGraph)\n",
    "    buf = IOBuffer()\n",
    "    println(buf, \"digraph MyDiGraph {\")\n",
    "    for (i,n) in enumerate(g.nodes)\n",
    "        print(buf, \"  \", i, \" [label=\")\n",
    "        showprop(buf, n.label)\n",
    "        for (p,v) in n.props\n",
    "            print(buf, ' ', p, '=')\n",
    "            showprop(buf, v)\n",
    "        end\n",
    "        print(buf, \"]\\n\")\n",
    "    end\n",
    "    for (j,e) in enumerate(g.edges)\n",
    "        print(buf, \"  \", e.e.first, \" -> \", e.e.second, \" [\")\n",
    "        for (p,v) in e.props\n",
    "            print(buf, ' ', p, '=')\n",
    "            showprop(buf, v)\n",
    "        end\n",
    "        print(buf, \"]\\n\")\n",
    "    end\n",
    "    println(buf, \"}\")\n",
    "    String(take!(buf))\n",
    "end"
   ]
  },
  {
   "cell_type": "code",
   "execution_count": 5,
   "metadata": {
    "collapsed": false
   },
   "outputs": [
    {
     "data": {
      "text/plain": [
       "randgraph (generic function with 1 method)"
      ]
     },
     "execution_count": 5,
     "metadata": {},
     "output_type": "execute_result"
    }
   ],
   "source": [
    "# generate a random graph with a given average #edges per node\n",
    "function randgraph(numnodes::Integer, edgespernode::Real)\n",
    "    p = edgespernode/numnodes # probability of each edge\n",
    "    e = Vector{Pair{Int,Int}}()\n",
    "    for i = 1:numnodes, j = 1:numnodes\n",
    "        if i != j && rand() < p\n",
    "            push!(e, i=>j)\n",
    "        end\n",
    "    end\n",
    "    return DiGraph(numnodes, e...)\n",
    "end"
   ]
  },
  {
   "cell_type": "code",
   "execution_count": 6,
   "metadata": {
    "collapsed": false
   },
   "outputs": [
    {
     "data": {
      "text/plain": [
       "incidence (generic function with 1 method)"
      ]
     },
     "execution_count": 6,
     "metadata": {},
     "output_type": "execute_result"
    }
   ],
   "source": [
    "# returns the incidence matrix for g\n",
    "function incidence(g::DiGraph)\n",
    "    A = zeros(Int, length(g.edges), length(g.nodes))\n",
    "    for (i,e) in enumerate(g.edges)\n",
    "        A[i,e.e.first] = -1\n",
    "        A[i,e.e.second] = 1\n",
    "    end\n",
    "    return A\n",
    "end"
   ]
  },
  {
   "cell_type": "code",
   "execution_count": 7,
   "metadata": {
    "collapsed": false
   },
   "outputs": [
    {
     "data": {
      "text/plain": [
       "leftnullspace (generic function with 1 method)"
      ]
     },
     "execution_count": 7,
     "metadata": {},
     "output_type": "execute_result"
    }
   ],
   "source": [
    "# Find the loops in g by the simplest \"textbook\" manner:\n",
    "# get a basis for the left nullspace incidence matrix.\n",
    "# We do this via the rref form, rather than nullspace(A'), because\n",
    "# we want a \"nice\" basis of ±1 and 0 entries.\n",
    "function leftnullspace(g::DiGraph)\n",
    "    A = incidence(g)\n",
    "    R = rref(A')\n",
    "    m, n = size(R)\n",
    "    pivots = Int[]\n",
    "    for i = 1:m\n",
    "        j = findfirst(R[i,:])\n",
    "        j > 0 && push!(pivots, j)\n",
    "    end\n",
    "    r = length(pivots) # rank\n",
    "    free = Int[j for j=1:n if j ∉ pivots]\n",
    "    N = zeros(Int, n, n-r)\n",
    "    k = 0\n",
    "    for (k,j) in enumerate(free)\n",
    "        N[pivots, k] = -R[1:r, j]\n",
    "        N[j, k] = 1\n",
    "    end\n",
    "    return N\n",
    "end"
   ]
  },
  {
   "cell_type": "code",
   "execution_count": 8,
   "metadata": {
    "collapsed": false
   },
   "outputs": [
    {
     "data": {
      "text/plain": [
       "tree (generic function with 1 method)"
      ]
     },
     "execution_count": 8,
     "metadata": {},
     "output_type": "execute_result"
    }
   ],
   "source": [
    "# color the edges of a spanning tree of g, by the textbook\n",
    "# method of finding the pivot rows of the incidence matrix\n",
    "function pivotrows(g::DiGraph)\n",
    "    A = incidence(g)\n",
    "    R = rref(A')\n",
    "    m, n = size(R)\n",
    "    pivots = Int[]\n",
    "    for i = 1:m\n",
    "        j = findfirst(R[i,:])\n",
    "        j > 0 && push!(pivots, j)\n",
    "    end\n",
    "    return pivots\n",
    "end\n",
    "colortree(g::DiGraph, color::String=\"red\") = coloredges(g, pivotrows(g), color)\n",
    "tree(g::DiGraph) = DiGraph(copy.(g.nodes), g.edges[pivotrows(g)], copy(g.props))"
   ]
  },
  {
   "cell_type": "markdown",
   "metadata": {},
   "source": [
    "## Graphs and incidence matrices\n",
    "\n",
    "Let's start by looking at an example graph with 6 nodes 8 edges.  Computers are pretty good at drawing graphs for us:"
   ]
  },
  {
   "cell_type": "code",
   "execution_count": 9,
   "metadata": {
    "collapsed": false
   },
   "outputs": [
    {
     "data": {
      "image/svg+xml": [
       "<?xml version=\"1.0\" encoding=\"UTF-8\" standalone=\"no\"?>\n",
       "<!DOCTYPE svg PUBLIC \"-//W3C//DTD SVG 1.1//EN\"\n",
       " \"http://www.w3.org/Graphics/SVG/1.1/DTD/svg11.dtd\">\n",
       "<!-- Generated by graphviz version 2.40.1 (20161225.0304)\n",
       " -->\n",
       "<!-- Title: MyDiGraph Pages: 1 -->\n",
       "<svg width=\"259pt\" height=\"257pt\"\n",
       " viewBox=\"0.00 0.00 258.52 256.56\" xmlns=\"http://www.w3.org/2000/svg\" xmlns:xlink=\"http://www.w3.org/1999/xlink\">\n",
       "<g id=\"graph0\" class=\"graph\" transform=\"scale(1 1) rotate(0) translate(4 252.5612)\">\n",
       "<title>MyDiGraph</title>\n",
       "<polygon fill=\"#ffffff\" stroke=\"transparent\" points=\"-4,4 -4,-252.5612 254.5182,-252.5612 254.5182,4 -4,4\"/>\n",
       "<!-- 1 -->\n",
       "<g id=\"node1\" class=\"node\">\n",
       "<title>1</title>\n",
       "<ellipse fill=\"none\" stroke=\"#000000\" cx=\"27\" cy=\"-140.9451\" rx=\"27\" ry=\"18\"/>\n",
       "<text text-anchor=\"middle\" x=\"27\" y=\"-136.7451\" font-family=\"Times,serif\" font-size=\"14.00\" fill=\"#000000\">1</text>\n",
       "</g>\n",
       "<!-- 4 -->\n",
       "<g id=\"node4\" class=\"node\">\n",
       "<title>4</title>\n",
       "<ellipse fill=\"none\" stroke=\"#000000\" cx=\"116.8883\" cy=\"-215.532\" rx=\"27\" ry=\"18\"/>\n",
       "<text text-anchor=\"middle\" x=\"116.8883\" y=\"-211.332\" font-family=\"Times,serif\" font-size=\"14.00\" fill=\"#000000\">4</text>\n",
       "</g>\n",
       "<!-- 1&#45;&gt;4 -->\n",
       "<g id=\"edge1\" class=\"edge\">\n",
       "<title>1&#45;&gt;4</title>\n",
       "<path fill=\"none\" stroke=\"#000000\" d=\"M44.3314,-155.3262C57.8476,-166.5416 76.8036,-182.2708 91.9506,-194.8393\"/>\n",
       "<polygon fill=\"#000000\" stroke=\"#000000\" points=\"89.9843,-197.7558 99.915,-201.448 94.4543,-192.3688 89.9843,-197.7558\"/>\n",
       "<text text-anchor=\"middle\" x=\"64.641\" y=\"-177.8828\" font-family=\"Times,serif\" font-size=\"14.00\" fill=\"#000000\">1</text>\n",
       "</g>\n",
       "<!-- 2 -->\n",
       "<g id=\"node2\" class=\"node\">\n",
       "<title>2</title>\n",
       "<ellipse fill=\"none\" stroke=\"#000000\" cx=\"102.2914\" cy=\"-51.6524\" rx=\"27\" ry=\"18\"/>\n",
       "<text text-anchor=\"middle\" x=\"102.2914\" y=\"-47.4524\" font-family=\"Times,serif\" font-size=\"14.00\" fill=\"#000000\">2</text>\n",
       "</g>\n",
       "<!-- 2&#45;&gt;1 -->\n",
       "<g id=\"edge6\" class=\"edge\">\n",
       "<title>2&#45;&gt;1</title>\n",
       "<path fill=\"none\" stroke=\"#000000\" d=\"M88.8308,-67.6162C77.1606,-81.4566 60.1129,-101.6744 46.8723,-117.3772\"/>\n",
       "<polygon fill=\"#000000\" stroke=\"#000000\" points=\"44.1146,-115.2183 40.3441,-125.1195 49.4661,-119.7307 44.1146,-115.2183\"/>\n",
       "<text text-anchor=\"middle\" x=\"64.3516\" y=\"-95.2967\" font-family=\"Times,serif\" font-size=\"14.00\" fill=\"#000000\">6</text>\n",
       "</g>\n",
       "<!-- 6 -->\n",
       "<g id=\"node6\" class=\"node\">\n",
       "<title>6</title>\n",
       "<ellipse fill=\"none\" stroke=\"#000000\" cx=\"192.6702\" cy=\"-126.1901\" rx=\"27\" ry=\"18\"/>\n",
       "<text text-anchor=\"middle\" x=\"192.6702\" y=\"-121.9901\" font-family=\"Times,serif\" font-size=\"14.00\" fill=\"#000000\">6</text>\n",
       "</g>\n",
       "<!-- 2&#45;&gt;6 -->\n",
       "<g id=\"edge7\" class=\"edge\">\n",
       "<title>2&#45;&gt;6</title>\n",
       "<path fill=\"none\" stroke=\"#000000\" d=\"M119.2909,-65.6724C132.8382,-76.8452 152.0133,-92.6594 167.3645,-105.3199\"/>\n",
       "<polygon fill=\"#000000\" stroke=\"#000000\" points=\"165.4978,-108.3172 175.4396,-111.9796 169.9517,-102.9168 165.4978,-108.3172\"/>\n",
       "<text text-anchor=\"middle\" x=\"139.8277\" y=\"-88.2962\" font-family=\"Times,serif\" font-size=\"14.00\" fill=\"#000000\">7</text>\n",
       "</g>\n",
       "<!-- 3 -->\n",
       "<g id=\"node3\" class=\"node\">\n",
       "<title>3</title>\n",
       "<ellipse fill=\"none\" stroke=\"#000000\" cx=\"204.5704\" cy=\"-18\" rx=\"27\" ry=\"18\"/>\n",
       "<text text-anchor=\"middle\" x=\"204.5704\" y=\"-13.8\" font-family=\"Times,serif\" font-size=\"14.00\" fill=\"#000000\">3</text>\n",
       "</g>\n",
       "<!-- 3&#45;&gt;2 -->\n",
       "<g id=\"edge5\" class=\"edge\">\n",
       "<title>3&#45;&gt;2</title>\n",
       "<path fill=\"none\" stroke=\"#000000\" d=\"M180.3317,-25.9752C167.1806,-30.3022 150.7115,-35.721 136.2962,-40.464\"/>\n",
       "<polygon fill=\"#000000\" stroke=\"#000000\" points=\"135.1157,-37.1677 126.7105,-43.6179 137.3035,-43.8171 135.1157,-37.1677\"/>\n",
       "<text text-anchor=\"middle\" x=\"154.814\" y=\"-36.0196\" font-family=\"Times,serif\" font-size=\"14.00\" fill=\"#000000\">5</text>\n",
       "</g>\n",
       "<!-- 5 -->\n",
       "<g id=\"node5\" class=\"node\">\n",
       "<title>5</title>\n",
       "<ellipse fill=\"none\" stroke=\"#000000\" cx=\"223.5182\" cy=\"-230.5612\" rx=\"27\" ry=\"18\"/>\n",
       "<text text-anchor=\"middle\" x=\"223.5182\" y=\"-226.3612\" font-family=\"Times,serif\" font-size=\"14.00\" fill=\"#000000\">5</text>\n",
       "</g>\n",
       "<!-- 4&#45;&gt;5 -->\n",
       "<g id=\"edge2\" class=\"edge\">\n",
       "<title>4&#45;&gt;5</title>\n",
       "<path fill=\"none\" stroke=\"#000000\" d=\"M143.5205,-219.2857C156.6248,-221.1327 172.6268,-223.3882 186.8659,-225.3951\"/>\n",
       "<polygon fill=\"#000000\" stroke=\"#000000\" points=\"186.4654,-228.8732 196.856,-226.8032 187.4424,-221.9417 186.4654,-228.8732\"/>\n",
       "<text text-anchor=\"middle\" x=\"161.6932\" y=\"-225.1404\" font-family=\"Times,serif\" font-size=\"14.00\" fill=\"#000000\">2</text>\n",
       "</g>\n",
       "<!-- 4&#45;&gt;6 -->\n",
       "<g id=\"edge8\" class=\"edge\">\n",
       "<title>4&#45;&gt;6</title>\n",
       "<path fill=\"none\" stroke=\"#000000\" d=\"M130.4366,-199.5595C142.1828,-185.7114 159.3415,-165.4824 172.6684,-149.771\"/>\n",
       "<polygon fill=\"#000000\" stroke=\"#000000\" points=\"175.4397,-151.9145 179.2392,-142.0244 170.1014,-147.3865 175.4397,-151.9145\"/>\n",
       "<text text-anchor=\"middle\" x=\"148.0525\" y=\"-177.4652\" font-family=\"Times,serif\" font-size=\"14.00\" fill=\"#000000\">8</text>\n",
       "</g>\n",
       "<!-- 5&#45;&gt;6 -->\n",
       "<g id=\"edge3\" class=\"edge\">\n",
       "<title>5&#45;&gt;6</title>\n",
       "<path fill=\"none\" stroke=\"#000000\" d=\"M218.2853,-212.856C213.499,-196.6623 206.343,-172.4508 200.8102,-153.7311\"/>\n",
       "<polygon fill=\"#000000\" stroke=\"#000000\" points=\"204.1197,-152.58 197.9288,-143.9821 197.4068,-154.5641 204.1197,-152.58\"/>\n",
       "<text text-anchor=\"middle\" x=\"206.0477\" y=\"-186.0936\" font-family=\"Times,serif\" font-size=\"14.00\" fill=\"#000000\">3</text>\n",
       "</g>\n",
       "<!-- 6&#45;&gt;3 -->\n",
       "<g id=\"edge4\" class=\"edge\">\n",
       "<title>6&#45;&gt;3</title>\n",
       "<path fill=\"none\" stroke=\"#000000\" d=\"M194.6889,-107.8372C196.5465,-90.9492 199.3293,-65.6489 201.469,-46.1966\"/>\n",
       "<polygon fill=\"#000000\" stroke=\"#000000\" points=\"204.9671,-46.4047 202.5815,-36.0819 198.009,-45.6393 204.9671,-46.4047\"/>\n",
       "<text text-anchor=\"middle\" x=\"194.5789\" y=\"-79.8169\" font-family=\"Times,serif\" font-size=\"14.00\" fill=\"#000000\">4</text>\n",
       "</g>\n",
       "</g>\n",
       "</svg>\n"
      ],
      "text/plain": [
       "DiGraph(DiNode[DiNode(1,Dict{Symbol,Any}()),DiNode(2,Dict{Symbol,Any}()),DiNode(3,Dict{Symbol,Any}()),DiNode(4,Dict{Symbol,Any}()),DiNode(5,Dict{Symbol,Any}()),DiNode(6,Dict{Symbol,Any}())],DiEdge[DiEdge(1=>4,Dict{Symbol,Any}(Pair{Symbol,Any}(:label,1),Pair{Symbol,Any}(:len,1.5))),DiEdge(4=>5,Dict{Symbol,Any}(Pair{Symbol,Any}(:label,2),Pair{Symbol,Any}(:len,1.5))),DiEdge(5=>6,Dict{Symbol,Any}(Pair{Symbol,Any}(:label,3),Pair{Symbol,Any}(:len,1.5))),DiEdge(6=>3,Dict{Symbol,Any}(Pair{Symbol,Any}(:label,4),Pair{Symbol,Any}(:len,1.5))),DiEdge(3=>2,Dict{Symbol,Any}(Pair{Symbol,Any}(:label,5),Pair{Symbol,Any}(:len,1.5))),DiEdge(2=>1,Dict{Symbol,Any}(Pair{Symbol,Any}(:label,6),Pair{Symbol,Any}(:len,1.5))),DiEdge(2=>6,Dict{Symbol,Any}(Pair{Symbol,Any}(:label,7),Pair{Symbol,Any}(:len,1.5))),DiEdge(4=>6,Dict{Symbol,Any}(Pair{Symbol,Any}(:label,8),Pair{Symbol,Any}(:len,1.5)))],Dict{Symbol,Any}())"
      ]
     },
     "execution_count": 9,
     "metadata": {},
     "output_type": "execute_result"
    }
   ],
   "source": [
    "g = edgelen!(DiGraph(1=>4, 4=>5, 5=>6, 6=>3, 3=>2, 2=>1, 2=>6, 4=>6), 1.5)"
   ]
  },
  {
   "cell_type": "markdown",
   "metadata": {},
   "source": [
    "A key way to represent a graph in linear algebra is the [incidence matrix](https://en.wikipedia.org/wiki/Incidence_matrix).  As defined in Strang's textbook, this is a matrix where the **rows correspond to edges** and the **columns correspond to nodes**.  (Some authors use the transpose of this instead.)\n",
    "\n",
    "In particular, in the row for each edge going **from node N to node M**, there is a **-1 in column N** and a **+1 in column N**.\n",
    "\n",
    "For example, the incidence matrix of the graph above is:"
   ]
  },
  {
   "cell_type": "code",
   "execution_count": 10,
   "metadata": {
    "collapsed": false
   },
   "outputs": [
    {
     "data": {
      "text/plain": [
       "8×6 Array{Int64,2}:\n",
       " -1   0   0   1   0   0\n",
       "  0   0   0  -1   1   0\n",
       "  0   0   0   0  -1   1\n",
       "  0   0   1   0   0  -1\n",
       "  0   1  -1   0   0   0\n",
       "  1  -1   0   0   0   0\n",
       "  0  -1   0   0   0   1\n",
       "  0   0   0  -1   0   1"
      ]
     },
     "execution_count": 10,
     "metadata": {},
     "output_type": "execute_result"
    }
   ],
   "source": [
    "A = incidence(g)"
   ]
  },
  {
   "cell_type": "markdown",
   "metadata": {},
   "source": [
    "There is an interesting structure if you think about *loops* in the graph.  For example, in the graph above there is a loop among nodes 6, 3, 2, via edges 4,5,7.  Let's look at the rows of $A$ corresponding to those edges:"
   ]
  },
  {
   "cell_type": "code",
   "execution_count": 11,
   "metadata": {
    "collapsed": false
   },
   "outputs": [
    {
     "data": {
      "text/plain": [
       "3×6 Array{Int64,2}:\n",
       " 0   0   1  0  0  -1\n",
       " 0   1  -1  0  0   0\n",
       " 0  -1   0  0  0   1"
      ]
     },
     "execution_count": 11,
     "metadata": {},
     "output_type": "execute_result"
    }
   ],
   "source": [
    "A[[4,5,7],:]"
   ]
  },
  {
   "cell_type": "markdown",
   "metadata": {},
   "source": [
    "If we **add these rows** we get **zero**:"
   ]
  },
  {
   "cell_type": "code",
   "execution_count": 12,
   "metadata": {
    "collapsed": false
   },
   "outputs": [
    {
     "data": {
      "text/plain": [
       "1×6 Array{Int64,2}:\n",
       " 0  0  0  0  0  0"
      ]
     },
     "execution_count": 12,
     "metadata": {},
     "output_type": "execute_result"
    }
   ],
   "source": [
    "A[4,:]' + A[5,:]' + A[7,:]'"
   ]
  },
  {
   "cell_type": "markdown",
   "metadata": {},
   "source": [
    "In general, it is easy to see that **any loop in the graph** corresponds to **dependent rows**: if we sum the rows going around the loop (with a minus sign for arrows in the wrong direction), we get zero.\n",
    "\n",
    "The reason is simple: we get a -1 in a column when we *leave* a node, and a +1 in the column when we *enter* a node.  When we go around the loop, we leave and enter each node, so the sum is zero.\n",
    "\n",
    "But dependent rows correspond to **elements of the left nullspace**:"
   ]
  },
  {
   "cell_type": "code",
   "execution_count": 13,
   "metadata": {
    "collapsed": false
   },
   "outputs": [
    {
     "data": {
      "text/plain": [
       "1×6 Array{Int64,2}:\n",
       " 0  0  0  0  0  0"
      ]
     },
     "execution_count": 13,
     "metadata": {},
     "output_type": "execute_result"
    }
   ],
   "source": [
    "[0 0 0 1 1 0 1 0] * A"
   ]
  },
  {
   "cell_type": "markdown",
   "metadata": {},
   "source": [
    "That means that the number of \"independent\" (primitive) loops in a graph is related to the **rank** of the incidence matrix, and the **independent rows of A have no loops**.\n",
    "\n",
    "Let's look at the row-reduced echelon (rref) form of $A^T$:"
   ]
  },
  {
   "cell_type": "code",
   "execution_count": 14,
   "metadata": {
    "collapsed": false
   },
   "outputs": [
    {
     "data": {
      "text/plain": [
       "6×8 Array{Int64,2}:\n",
       " 1  0  0  0  0  -1   0  0\n",
       " 0  1  0  0  0  -1   0  1\n",
       " 0  0  1  0  0  -1   0  1\n",
       " 0  0  0  1  0  -1  -1  0\n",
       " 0  0  0  0  1  -1  -1  0\n",
       " 0  0  0  0  0   0   0  0"
      ]
     },
     "execution_count": 14,
     "metadata": {},
     "output_type": "execute_result"
    }
   ],
   "source": [
    "Matrix{Int}(rref(A'))"
   ]
  },
  {
   "cell_type": "markdown",
   "metadata": {},
   "source": [
    "We can see that the rank of $A$ is 5:"
   ]
  },
  {
   "cell_type": "code",
   "execution_count": 15,
   "metadata": {
    "collapsed": false
   },
   "outputs": [
    {
     "data": {
      "text/plain": [
       "5"
      ]
     },
     "execution_count": 15,
     "metadata": {},
     "output_type": "execute_result"
    }
   ],
   "source": [
    "rank(A)"
   ]
  },
  {
   "cell_type": "markdown",
   "metadata": {},
   "source": [
    "This means that there are **five loop-free (independent) edges**, and there are **three** (8 - 5) primitive loops.  Using the rref form of $A^T$, we can read off a basis for the left nullspace from the free columns (6,7,8):"
   ]
  },
  {
   "cell_type": "code",
   "execution_count": 16,
   "metadata": {
    "collapsed": false
   },
   "outputs": [
    {
     "data": {
      "text/plain": [
       "8×3 Array{Int64,2}:\n",
       " 1  0   0\n",
       " 1  0  -1\n",
       " 1  0  -1\n",
       " 1  1   0\n",
       " 1  1   0\n",
       " 1  0   0\n",
       " 0  1   0\n",
       " 0  0   1"
      ]
     },
     "execution_count": 16,
     "metadata": {},
     "output_type": "execute_result"
    }
   ],
   "source": [
    "leftnullspace(g)"
   ]
  },
  {
   "cell_type": "markdown",
   "metadata": {},
   "source": [
    "Let's visualize these loops by plotting the edges in a different color (red) one by one,\n",
    "with help from the Interact package to give us an interactive widget:"
   ]
  },
  {
   "cell_type": "code",
   "execution_count": 17,
   "metadata": {
    "collapsed": false
   },
   "outputs": [
    {
     "data": {
      "text/html": [
       "<div id=\"interact-js-shim\">\n",
       "    <script charset=\"utf-8\">\n",
       "(function (IPython, $, _, MathJax) {\n",
       "    $.event.special.destroyed = {\n",
       "\tremove: function(o) {\n",
       "\t    if (o.handler) {\n",
       "\t\to.handler.apply(this, arguments)\n",
       "\t    }\n",
       "\t}\n",
       "    }\n",
       "\n",
       "    var OutputArea = IPython.version >= \"4.0.0\" ? require(\"notebook/js/outputarea\").OutputArea : IPython.OutputArea;\n",
       "\n",
       "    var redrawValue = function (container, type, val) {\n",
       "\tvar selector = $(\"<div/>\");\n",
       "\tvar oa = new OutputArea(_.extend(selector, {\n",
       "\t    selector: selector,\n",
       "\t    prompt_area: true,\n",
       "\t    events: IPython.events,\n",
       "\t    keyboard_manager: IPython.keyboard_manager\n",
       "\t})); // Hack to work with IPython 2.1.0\n",
       "\n",
       "\tswitch (type) {\n",
       "\tcase \"image/png\":\n",
       "            var _src = 'data:' + type + ';base64,' + val;\n",
       "\t    $(container).find(\"img\").attr('src', _src);\n",
       "\t    break;\n",
       "\tcase \"text/latex\":\n",
       "\t\tif (MathJax){\n",
       "\t\t\tvar math = MathJax.Hub.getAllJax(container)[0];\n",
       "\t\t\tMathJax.Hub.Queue([\"Text\", math, val.replace(/^\\${1,2}|\\${1,2}$/g, '')]);\n",
       "\t\t\tbreak;\n",
       "\t\t}\n",
       "\tdefault:\n",
       "\t    var toinsert = OutputArea.append_map[type].apply(\n",
       "\t\toa, [val, {}, selector]\n",
       "\t    );\n",
       "\t    $(container).empty().append(toinsert.contents());\n",
       "\t    selector.remove();\n",
       "\t}\n",
       "    }\n",
       "\n",
       "\n",
       "    $(document).ready(function() {\n",
       "\tfunction initComm(evt, data) {\n",
       "\t    var comm_manager = data.kernel.comm_manager;\n",
       "        //_.extend(comm_manager.targets, require(\"widgets/js/widget\"))\n",
       "\t    comm_manager.register_target(\"Signal\", function (comm) {\n",
       "            comm.on_msg(function (msg) {\n",
       "                var val = msg.content.data.value;\n",
       "                $(\".signal-\" + comm.comm_id).each(function() {\n",
       "                var type = $(this).data(\"type\");\n",
       "                if (typeof(val[type]) !== \"undefined\" && val[type] !== null) {\n",
       "                    redrawValue(this, type, val[type], type);\n",
       "                }\n",
       "                });\n",
       "                delete val;\n",
       "                delete msg.content.data.value;\n",
       "            });\n",
       "\t    });\n",
       "\n",
       "\t    // coordingate with Comm and redraw Signals\n",
       "\t    // XXX: Test using Reactive here to improve performance\n",
       "\t    $([IPython.events]).on(\n",
       "\t\t'output_appended.OutputArea', function (event, type, value, md, toinsert) {\n",
       "\t\t    if (md && md.reactive) {\n",
       "                // console.log(md.comm_id);\n",
       "                toinsert.addClass(\"signal-\" + md.comm_id);\n",
       "                toinsert.data(\"type\", type);\n",
       "                // Signal back indicating the mimetype required\n",
       "                var comm_manager = IPython.notebook.kernel.comm_manager;\n",
       "                var comm = comm_manager.comms[md.comm_id];\n",
       "                comm.then(function (c) {\n",
       "                    c.send({action: \"subscribe_mime\",\n",
       "                       mime: type});\n",
       "                    toinsert.bind(\"destroyed\", function() {\n",
       "                        c.send({action: \"unsubscribe_mime\",\n",
       "                               mime: type});\n",
       "                    });\n",
       "                })\n",
       "\t\t    }\n",
       "\t    });\n",
       "\t}\n",
       "\n",
       "\ttry {\n",
       "\t    // try to initialize right away. otherwise, wait on the status_started event.\n",
       "\t    initComm(undefined, IPython.notebook);\n",
       "\t} catch (e) {\n",
       "\t    $([IPython.events]).on('kernel_created.Kernel kernel_created.Session', initComm);\n",
       "\t}\n",
       "    });\n",
       "})(IPython, jQuery, _, MathJax);\n",
       "</script>\n",
       "    <script>\n",
       "        window.interactLoadedFlag = true\n",
       "       $(\"#interact-js-shim\").bind(\"destroyed\", function () {\n",
       "           if (window.interactLoadedFlag) {\n",
       "               console.warn(\"JavaScript required by Interact will be removed if you remove this cell or run using Interact more than once.\")\n",
       "           }\n",
       "       })\n",
       "       $([IPython.events]).on(\"kernel_starting.Kernel kernel_restarting.Kernel\", function () { window.interactLoadedFlag = false })\n",
       "   </script>\n",
       "</div>"
      ]
     },
     "metadata": {},
     "output_type": "display_data"
    },
    {
     "data": {
      "text/plain": [
       "animloops (generic function with 1 method)"
      ]
     },
     "execution_count": 17,
     "metadata": {},
     "output_type": "execute_result"
    }
   ],
   "source": [
    "using Interact\n",
    "\n",
    "function animloops(g::DiGraph)\n",
    "    L = leftnullspace(g)\n",
    "    @manipulate for loop in 1:size(L,2)\n",
    "        coloredges(coloredges(g, find(L[:,loop] .== 1), \"red\"), find(L[:,loop] .== -1), \"blue\")\n",
    "    end\n",
    "end"
   ]
  },
  {
   "cell_type": "code",
   "execution_count": 18,
   "metadata": {
    "collapsed": false
   },
   "outputs": [
    {
     "data": {
      "text/html": [],
      "text/plain": [
       "Interact.Options{:SelectionSlider,Int64}(Signal{Int64}(2, nactions=1),\"loop\",2,\"2\",Interact.OptionDict(DataStructures.OrderedDict(\"1\"=>1,\"2\"=>2,\"3\"=>3),Dict(2=>\"2\",3=>\"3\",1=>\"1\")),Any[],Any[],true,\"horizontal\")"
      ]
     },
     "metadata": {},
     "output_type": "display_data"
    },
    {
     "data": {
      "image/svg+xml": [
       "<?xml version=\"1.0\" encoding=\"UTF-8\" standalone=\"no\"?>\n",
       "<!DOCTYPE svg PUBLIC \"-//W3C//DTD SVG 1.1//EN\"\n",
       " \"http://www.w3.org/Graphics/SVG/1.1/DTD/svg11.dtd\">\n",
       "<!-- Generated by graphviz version 2.40.1 (20161225.0304)\n",
       " -->\n",
       "<!-- Title: MyDiGraph Pages: 1 -->\n",
       "<svg width=\"259pt\" height=\"257pt\"\n",
       " viewBox=\"0.00 0.00 258.52 256.56\" xmlns=\"http://www.w3.org/2000/svg\" xmlns:xlink=\"http://www.w3.org/1999/xlink\">\n",
       "<g id=\"graph0\" class=\"graph\" transform=\"scale(1 1) rotate(0) translate(4 252.5612)\">\n",
       "<title>MyDiGraph</title>\n",
       "<polygon fill=\"#ffffff\" stroke=\"transparent\" points=\"-4,4 -4,-252.5612 254.5182,-252.5612 254.5182,4 -4,4\"/>\n",
       "<!-- 1 -->\n",
       "<g id=\"node1\" class=\"node\">\n",
       "<title>1</title>\n",
       "<ellipse fill=\"none\" stroke=\"#000000\" cx=\"27\" cy=\"-140.9451\" rx=\"27\" ry=\"18\"/>\n",
       "<text text-anchor=\"middle\" x=\"27\" y=\"-136.7451\" font-family=\"Times,serif\" font-size=\"14.00\" fill=\"#000000\">1</text>\n",
       "</g>\n",
       "<!-- 4 -->\n",
       "<g id=\"node4\" class=\"node\">\n",
       "<title>4</title>\n",
       "<ellipse fill=\"none\" stroke=\"#000000\" cx=\"116.8883\" cy=\"-215.532\" rx=\"27\" ry=\"18\"/>\n",
       "<text text-anchor=\"middle\" x=\"116.8883\" y=\"-211.332\" font-family=\"Times,serif\" font-size=\"14.00\" fill=\"#000000\">4</text>\n",
       "</g>\n",
       "<!-- 1&#45;&gt;4 -->\n",
       "<g id=\"edge1\" class=\"edge\">\n",
       "<title>1&#45;&gt;4</title>\n",
       "<path fill=\"none\" stroke=\"#000000\" d=\"M44.3314,-155.3262C57.8476,-166.5416 76.8036,-182.2708 91.9506,-194.8393\"/>\n",
       "<polygon fill=\"#000000\" stroke=\"#000000\" points=\"89.9843,-197.7558 99.915,-201.448 94.4543,-192.3688 89.9843,-197.7558\"/>\n",
       "<text text-anchor=\"middle\" x=\"64.641\" y=\"-177.8828\" font-family=\"Times,serif\" font-size=\"14.00\" fill=\"#000000\">1</text>\n",
       "</g>\n",
       "<!-- 2 -->\n",
       "<g id=\"node2\" class=\"node\">\n",
       "<title>2</title>\n",
       "<ellipse fill=\"none\" stroke=\"#000000\" cx=\"102.2914\" cy=\"-51.6524\" rx=\"27\" ry=\"18\"/>\n",
       "<text text-anchor=\"middle\" x=\"102.2914\" y=\"-47.4524\" font-family=\"Times,serif\" font-size=\"14.00\" fill=\"#000000\">2</text>\n",
       "</g>\n",
       "<!-- 2&#45;&gt;1 -->\n",
       "<g id=\"edge6\" class=\"edge\">\n",
       "<title>2&#45;&gt;1</title>\n",
       "<path fill=\"none\" stroke=\"#000000\" d=\"M88.8308,-67.6162C77.1606,-81.4566 60.1129,-101.6744 46.8723,-117.3772\"/>\n",
       "<polygon fill=\"#000000\" stroke=\"#000000\" points=\"44.1146,-115.2183 40.3441,-125.1195 49.4661,-119.7307 44.1146,-115.2183\"/>\n",
       "<text text-anchor=\"middle\" x=\"64.3516\" y=\"-95.2967\" font-family=\"Times,serif\" font-size=\"14.00\" fill=\"#000000\">6</text>\n",
       "</g>\n",
       "<!-- 6 -->\n",
       "<g id=\"node6\" class=\"node\">\n",
       "<title>6</title>\n",
       "<ellipse fill=\"none\" stroke=\"#000000\" cx=\"192.6702\" cy=\"-126.1901\" rx=\"27\" ry=\"18\"/>\n",
       "<text text-anchor=\"middle\" x=\"192.6702\" y=\"-121.9901\" font-family=\"Times,serif\" font-size=\"14.00\" fill=\"#000000\">6</text>\n",
       "</g>\n",
       "<!-- 2&#45;&gt;6 -->\n",
       "<g id=\"edge7\" class=\"edge\">\n",
       "<title>2&#45;&gt;6</title>\n",
       "<path fill=\"none\" stroke=\"#ff0000\" d=\"M119.2909,-65.6724C132.8382,-76.8452 152.0133,-92.6594 167.3645,-105.3199\"/>\n",
       "<polygon fill=\"#ff0000\" stroke=\"#ff0000\" points=\"165.4978,-108.3172 175.4396,-111.9796 169.9517,-102.9168 165.4978,-108.3172\"/>\n",
       "<text text-anchor=\"middle\" x=\"139.8277\" y=\"-88.2962\" font-family=\"Times,serif\" font-size=\"14.00\" fill=\"#ff0000\">7</text>\n",
       "</g>\n",
       "<!-- 3 -->\n",
       "<g id=\"node3\" class=\"node\">\n",
       "<title>3</title>\n",
       "<ellipse fill=\"none\" stroke=\"#000000\" cx=\"204.5704\" cy=\"-18\" rx=\"27\" ry=\"18\"/>\n",
       "<text text-anchor=\"middle\" x=\"204.5704\" y=\"-13.8\" font-family=\"Times,serif\" font-size=\"14.00\" fill=\"#000000\">3</text>\n",
       "</g>\n",
       "<!-- 3&#45;&gt;2 -->\n",
       "<g id=\"edge5\" class=\"edge\">\n",
       "<title>3&#45;&gt;2</title>\n",
       "<path fill=\"none\" stroke=\"#ff0000\" d=\"M180.3317,-25.9752C167.1806,-30.3022 150.7115,-35.721 136.2962,-40.464\"/>\n",
       "<polygon fill=\"#ff0000\" stroke=\"#ff0000\" points=\"135.1157,-37.1677 126.7105,-43.6179 137.3035,-43.8171 135.1157,-37.1677\"/>\n",
       "<text text-anchor=\"middle\" x=\"154.814\" y=\"-36.0196\" font-family=\"Times,serif\" font-size=\"14.00\" fill=\"#ff0000\">5</text>\n",
       "</g>\n",
       "<!-- 5 -->\n",
       "<g id=\"node5\" class=\"node\">\n",
       "<title>5</title>\n",
       "<ellipse fill=\"none\" stroke=\"#000000\" cx=\"223.5182\" cy=\"-230.5612\" rx=\"27\" ry=\"18\"/>\n",
       "<text text-anchor=\"middle\" x=\"223.5182\" y=\"-226.3612\" font-family=\"Times,serif\" font-size=\"14.00\" fill=\"#000000\">5</text>\n",
       "</g>\n",
       "<!-- 4&#45;&gt;5 -->\n",
       "<g id=\"edge2\" class=\"edge\">\n",
       "<title>4&#45;&gt;5</title>\n",
       "<path fill=\"none\" stroke=\"#000000\" d=\"M143.5205,-219.2857C156.6248,-221.1327 172.6268,-223.3882 186.8659,-225.3951\"/>\n",
       "<polygon fill=\"#000000\" stroke=\"#000000\" points=\"186.4654,-228.8732 196.856,-226.8032 187.4424,-221.9417 186.4654,-228.8732\"/>\n",
       "<text text-anchor=\"middle\" x=\"161.6932\" y=\"-225.1404\" font-family=\"Times,serif\" font-size=\"14.00\" fill=\"#000000\">2</text>\n",
       "</g>\n",
       "<!-- 4&#45;&gt;6 -->\n",
       "<g id=\"edge8\" class=\"edge\">\n",
       "<title>4&#45;&gt;6</title>\n",
       "<path fill=\"none\" stroke=\"#000000\" d=\"M130.4366,-199.5595C142.1828,-185.7114 159.3415,-165.4824 172.6684,-149.771\"/>\n",
       "<polygon fill=\"#000000\" stroke=\"#000000\" points=\"175.4397,-151.9145 179.2392,-142.0244 170.1014,-147.3865 175.4397,-151.9145\"/>\n",
       "<text text-anchor=\"middle\" x=\"148.0525\" y=\"-177.4652\" font-family=\"Times,serif\" font-size=\"14.00\" fill=\"#000000\">8</text>\n",
       "</g>\n",
       "<!-- 5&#45;&gt;6 -->\n",
       "<g id=\"edge3\" class=\"edge\">\n",
       "<title>5&#45;&gt;6</title>\n",
       "<path fill=\"none\" stroke=\"#000000\" d=\"M218.2853,-212.856C213.499,-196.6623 206.343,-172.4508 200.8102,-153.7311\"/>\n",
       "<polygon fill=\"#000000\" stroke=\"#000000\" points=\"204.1197,-152.58 197.9288,-143.9821 197.4068,-154.5641 204.1197,-152.58\"/>\n",
       "<text text-anchor=\"middle\" x=\"206.0477\" y=\"-186.0936\" font-family=\"Times,serif\" font-size=\"14.00\" fill=\"#000000\">3</text>\n",
       "</g>\n",
       "<!-- 6&#45;&gt;3 -->\n",
       "<g id=\"edge4\" class=\"edge\">\n",
       "<title>6&#45;&gt;3</title>\n",
       "<path fill=\"none\" stroke=\"#ff0000\" d=\"M194.6889,-107.8372C196.5465,-90.9492 199.3293,-65.6489 201.469,-46.1966\"/>\n",
       "<polygon fill=\"#ff0000\" stroke=\"#ff0000\" points=\"204.9671,-46.4047 202.5815,-36.0819 198.009,-45.6393 204.9671,-46.4047\"/>\n",
       "<text text-anchor=\"middle\" x=\"194.5789\" y=\"-79.8169\" font-family=\"Times,serif\" font-size=\"14.00\" fill=\"#ff0000\">4</text>\n",
       "</g>\n",
       "</g>\n",
       "</svg>\n"
      ],
      "text/plain": [
       "DiGraph(DiNode[DiNode(1,Dict{Symbol,Any}()),DiNode(2,Dict{Symbol,Any}()),DiNode(3,Dict{Symbol,Any}()),DiNode(4,Dict{Symbol,Any}()),DiNode(5,Dict{Symbol,Any}()),DiNode(6,Dict{Symbol,Any}())],DiEdge[DiEdge(1=>4,Dict{Symbol,Any}(Pair{Symbol,Any}(:label,1),Pair{Symbol,Any}(:len,1.5))),DiEdge(4=>5,Dict{Symbol,Any}(Pair{Symbol,Any}(:label,2),Pair{Symbol,Any}(:len,1.5))),DiEdge(5=>6,Dict{Symbol,Any}(Pair{Symbol,Any}(:label,3),Pair{Symbol,Any}(:len,1.5))),DiEdge(6=>3,Dict{Symbol,Any}(Pair{Symbol,Any}(:label,4),Pair{Symbol,Any}(:len,1.5),Pair{Symbol,Any}(:color,\"red\"),Pair{Symbol,Any}(:fontcolor,\"red\"))),DiEdge(3=>2,Dict{Symbol,Any}(Pair{Symbol,Any}(:label,5),Pair{Symbol,Any}(:len,1.5),Pair{Symbol,Any}(:color,\"red\"),Pair{Symbol,Any}(:fontcolor,\"red\"))),DiEdge(2=>1,Dict{Symbol,Any}(Pair{Symbol,Any}(:label,6),Pair{Symbol,Any}(:len,1.5))),DiEdge(2=>6,Dict{Symbol,Any}(Pair{Symbol,Any}(:label,7),Pair{Symbol,Any}(:len,1.5),Pair{Symbol,Any}(:color,\"red\"),Pair{Symbol,Any}(:fontcolor,\"red\"))),DiEdge(4=>6,Dict{Symbol,Any}(Pair{Symbol,Any}(:label,8),Pair{Symbol,Any}(:len,1.5)))],Dict{Symbol,Any}())"
      ]
     },
     "execution_count": 18,
     "metadata": {
      "comm_id": "2ecd5a7e-0469-42a8-8a81-b22abdd0fc69",
      "reactive": true
     },
     "output_type": "execute_result"
    }
   ],
   "source": [
    "animloops(g)"
   ]
  },
  {
   "cell_type": "markdown",
   "metadata": {},
   "source": [
    "These three loops are **not the only loops** in the graph, but the **other loops can be made from combinations of these loops**.\n",
    "\n",
    "For example, the loop between nodes 1-4-6-2 can be made by starting with 1-4-5-6-3-2 and \"subtracting\" the 6-3-2 loop.\n",
    "\n",
    "In this sense, a basis for the left nullspace of $A$ is a \"basis\" for the other loops in the graph: we say that they are \"primitive\" loops."
   ]
  },
  {
   "cell_type": "markdown",
   "metadata": {},
   "source": [
    "It is fun to do the same thing for bigger graphs, chosen at random:"
   ]
  },
  {
   "cell_type": "code",
   "execution_count": 19,
   "metadata": {
    "collapsed": false
   },
   "outputs": [
    {
     "data": {
      "text/html": [],
      "text/plain": [
       "Interact.Options{:SelectionSlider,Int64}(Signal{Int64}(4, nactions=1),\"loop\",4,\"4\",Interact.OptionDict(DataStructures.OrderedDict(\"1\"=>1,\"2\"=>2,\"3\"=>3,\"4\"=>4,\"5\"=>5,\"6\"=>6,\"7\"=>7),Dict(7=>\"7\",4=>\"4\",2=>\"2\",3=>\"3\",5=>\"5\",6=>\"6\",1=>\"1\")),Any[],Any[],true,\"horizontal\")"
      ]
     },
     "metadata": {},
     "output_type": "display_data"
    },
    {
     "data": {
      "image/svg+xml": [
       "<?xml version=\"1.0\" encoding=\"UTF-8\" standalone=\"no\"?>\n",
       "<!DOCTYPE svg PUBLIC \"-//W3C//DTD SVG 1.1//EN\"\n",
       " \"http://www.w3.org/Graphics/SVG/1.1/DTD/svg11.dtd\">\n",
       "<!-- Generated by graphviz version 2.40.1 (20161225.0304)\n",
       " -->\n",
       "<!-- Title: MyDiGraph Pages: 1 -->\n",
       "<svg width=\"549pt\" height=\"451pt\"\n",
       " viewBox=\"0.00 0.00 548.61 450.64\" xmlns=\"http://www.w3.org/2000/svg\" xmlns:xlink=\"http://www.w3.org/1999/xlink\">\n",
       "<g id=\"graph0\" class=\"graph\" transform=\"scale(1 1) rotate(0) translate(4 446.6432)\">\n",
       "<title>MyDiGraph</title>\n",
       "<polygon fill=\"#ffffff\" stroke=\"transparent\" points=\"-4,4 -4,-446.6432 544.6136,-446.6432 544.6136,4 -4,4\"/>\n",
       "<!-- 1 -->\n",
       "<g id=\"node1\" class=\"node\">\n",
       "<title>1</title>\n",
       "<ellipse fill=\"none\" stroke=\"#000000\" cx=\"298.8874\" cy=\"-289.6949\" rx=\"27\" ry=\"18\"/>\n",
       "<text text-anchor=\"middle\" x=\"298.8874\" y=\"-285.4949\" font-family=\"Times,serif\" font-size=\"14.00\" fill=\"#000000\">1</text>\n",
       "</g>\n",
       "<!-- 4 -->\n",
       "<g id=\"node4\" class=\"node\">\n",
       "<title>4</title>\n",
       "<ellipse fill=\"none\" stroke=\"#000000\" cx=\"323.8824\" cy=\"-202.3734\" rx=\"27\" ry=\"18\"/>\n",
       "<text text-anchor=\"middle\" x=\"323.8824\" y=\"-198.1734\" font-family=\"Times,serif\" font-size=\"14.00\" fill=\"#000000\">4</text>\n",
       "</g>\n",
       "<!-- 1&#45;&gt;4 -->\n",
       "<g id=\"edge1\" class=\"edge\">\n",
       "<title>1&#45;&gt;4</title>\n",
       "<path fill=\"none\" stroke=\"#ff0000\" d=\"M309.6066,-272.7272C314.3085,-260.7789 319.1811,-244.5191 322.31,-230.6352\"/>\n",
       "<polygon fill=\"#ff0000\" stroke=\"#ff0000\" points=\"325.7894,-231.086 324.3311,-220.592 318.927,-229.7049 325.7894,-231.086\"/>\n",
       "<text text-anchor=\"middle\" x=\"312.4583\" y=\"-254.4812\" font-family=\"Times,serif\" font-size=\"14.00\" fill=\"#ff0000\">1</text>\n",
       "</g>\n",
       "<!-- 14 -->\n",
       "<g id=\"node14\" class=\"node\">\n",
       "<title>14</title>\n",
       "<ellipse fill=\"none\" stroke=\"#000000\" cx=\"219.0172\" cy=\"-247.6322\" rx=\"27\" ry=\"18\"/>\n",
       "<text text-anchor=\"middle\" x=\"219.0172\" y=\"-243.4322\" font-family=\"Times,serif\" font-size=\"14.00\" fill=\"#000000\">14</text>\n",
       "</g>\n",
       "<!-- 1&#45;&gt;14 -->\n",
       "<g id=\"edge2\" class=\"edge\">\n",
       "<title>1&#45;&gt;14</title>\n",
       "<path fill=\"none\" stroke=\"#0000ff\" d=\"M277.4837,-278.4228C268.889,-273.8965 258.8228,-268.5953 249.4886,-263.6796\"/>\n",
       "<polygon fill=\"#0000ff\" stroke=\"#0000ff\" points=\"250.9589,-260.4983 240.48,-258.9353 247.6971,-266.6919 250.9589,-260.4983\"/>\n",
       "<text text-anchor=\"middle\" x=\"259.9861\" y=\"-273.8512\" font-family=\"Times,serif\" font-size=\"14.00\" fill=\"#0000ff\">2</text>\n",
       "</g>\n",
       "<!-- 2 -->\n",
       "<g id=\"node2\" class=\"node\">\n",
       "<title>2</title>\n",
       "<ellipse fill=\"none\" stroke=\"#000000\" cx=\"106.8275\" cy=\"-212.8945\" rx=\"27\" ry=\"18\"/>\n",
       "<text text-anchor=\"middle\" x=\"106.8275\" y=\"-208.6945\" font-family=\"Times,serif\" font-size=\"14.00\" fill=\"#000000\">2</text>\n",
       "</g>\n",
       "<!-- 3 -->\n",
       "<g id=\"node3\" class=\"node\">\n",
       "<title>3</title>\n",
       "<ellipse fill=\"none\" stroke=\"#000000\" cx=\"191.6936\" cy=\"-125.429\" rx=\"27\" ry=\"18\"/>\n",
       "<text text-anchor=\"middle\" x=\"191.6936\" y=\"-121.229\" font-family=\"Times,serif\" font-size=\"14.00\" fill=\"#000000\">3</text>\n",
       "</g>\n",
       "<!-- 3&#45;&gt;2 -->\n",
       "<g id=\"edge3\" class=\"edge\">\n",
       "<title>3&#45;&gt;2</title>\n",
       "<path fill=\"none\" stroke=\"#000000\" d=\"M176.911,-140.6643C163.6065,-154.3764 143.8785,-174.7087 128.74,-190.3108\"/>\n",
       "<polygon fill=\"#000000\" stroke=\"#000000\" points=\"126.1771,-187.9261 121.7254,-197.5403 131.2009,-192.8006 126.1771,-187.9261\"/>\n",
       "<text text-anchor=\"middle\" x=\"149.3255\" y=\"-168.2876\" font-family=\"Times,serif\" font-size=\"14.00\" fill=\"#000000\">3</text>\n",
       "</g>\n",
       "<!-- 4&#45;&gt;1 -->\n",
       "<g id=\"edge4\" class=\"edge\">\n",
       "<title>4&#45;&gt;1</title>\n",
       "<path fill=\"none\" stroke=\"#000000\" d=\"M313.1632,-219.341C308.4613,-231.2893 303.5887,-247.5492 300.4598,-261.433\"/>\n",
       "<polygon fill=\"#000000\" stroke=\"#000000\" points=\"296.9804,-260.9822 298.4387,-271.4762 303.8428,-262.3633 296.9804,-260.9822\"/>\n",
       "<text text-anchor=\"middle\" x=\"303.3115\" y=\"-243.187\" font-family=\"Times,serif\" font-size=\"14.00\" fill=\"#000000\">4</text>\n",
       "</g>\n",
       "<!-- 4&#45;&gt;3 -->\n",
       "<g id=\"edge5\" class=\"edge\">\n",
       "<title>4&#45;&gt;3</title>\n",
       "<path fill=\"none\" stroke=\"#000000\" d=\"M303.5176,-190.5194C281.4583,-177.6792 246.0691,-157.0799 221.0174,-142.4978\"/>\n",
       "<polygon fill=\"#000000\" stroke=\"#000000\" points=\"222.7026,-139.429 212.2993,-137.4232 219.1811,-145.4787 222.7026,-139.429\"/>\n",
       "<text text-anchor=\"middle\" x=\"258.7675\" y=\"-169.3086\" font-family=\"Times,serif\" font-size=\"14.00\" fill=\"#000000\">5</text>\n",
       "</g>\n",
       "<!-- 8 -->\n",
       "<g id=\"node8\" class=\"node\">\n",
       "<title>8</title>\n",
       "<ellipse fill=\"none\" stroke=\"#000000\" cx=\"400.3281\" cy=\"-318.6477\" rx=\"27\" ry=\"18\"/>\n",
       "<text text-anchor=\"middle\" x=\"400.3281\" y=\"-314.4477\" font-family=\"Times,serif\" font-size=\"14.00\" fill=\"#000000\">8</text>\n",
       "</g>\n",
       "<!-- 4&#45;&gt;8 -->\n",
       "<g id=\"edge6\" class=\"edge\">\n",
       "<title>4&#45;&gt;8</title>\n",
       "<path fill=\"none\" stroke=\"#ff0000\" d=\"M334.8352,-219.0326C347.6645,-238.5461 369.0463,-271.0678 383.873,-293.6194\"/>\n",
       "<polygon fill=\"#ff0000\" stroke=\"#ff0000\" points=\"380.9774,-295.5862 389.3956,-302.0193 386.8265,-291.7407 380.9774,-295.5862\"/>\n",
       "<text text-anchor=\"middle\" x=\"355.8541\" y=\"-259.126\" font-family=\"Times,serif\" font-size=\"14.00\" fill=\"#ff0000\">6</text>\n",
       "</g>\n",
       "<!-- 4&#45;&gt;14 -->\n",
       "<g id=\"edge7\" class=\"edge\">\n",
       "<title>4&#45;&gt;14</title>\n",
       "<path fill=\"none\" stroke=\"#000000\" d=\"M301.1282,-212.1938C286.562,-218.4805 267.4392,-226.7337 251.313,-233.6936\"/>\n",
       "<polygon fill=\"#000000\" stroke=\"#000000\" points=\"249.5214,-230.6547 241.727,-237.8309 252.2953,-237.0817 249.5214,-230.6547\"/>\n",
       "<text text-anchor=\"middle\" x=\"272.7206\" y=\"-225.7437\" font-family=\"Times,serif\" font-size=\"14.00\" fill=\"#000000\">7</text>\n",
       "</g>\n",
       "<!-- 5 -->\n",
       "<g id=\"node5\" class=\"node\">\n",
       "<title>5</title>\n",
       "<ellipse fill=\"none\" stroke=\"#000000\" cx=\"324.9919\" cy=\"-424.6432\" rx=\"27\" ry=\"18\"/>\n",
       "<text text-anchor=\"middle\" x=\"324.9919\" y=\"-420.4432\" font-family=\"Times,serif\" font-size=\"14.00\" fill=\"#000000\">5</text>\n",
       "</g>\n",
       "<!-- 5&#45;&gt;8 -->\n",
       "<g id=\"edge8\" class=\"edge\">\n",
       "<title>5&#45;&gt;8</title>\n",
       "<path fill=\"none\" stroke=\"#0000ff\" d=\"M336.7632,-408.0814C349.0919,-390.7353 368.5942,-363.2962 382.748,-343.3824\"/>\n",
       "<polygon fill=\"#0000ff\" stroke=\"#0000ff\" points=\"385.699,-345.2718 388.6395,-335.0932 379.9933,-341.2165 385.699,-345.2718\"/>\n",
       "<text text-anchor=\"middle\" x=\"356.2556\" y=\"-378.5319\" font-family=\"Times,serif\" font-size=\"14.00\" fill=\"#0000ff\">8</text>\n",
       "</g>\n",
       "<!-- 6 -->\n",
       "<g id=\"node6\" class=\"node\">\n",
       "<title>6</title>\n",
       "<ellipse fill=\"none\" stroke=\"#000000\" cx=\"27\" cy=\"-304.8876\" rx=\"27\" ry=\"18\"/>\n",
       "<text text-anchor=\"middle\" x=\"27\" y=\"-300.6876\" font-family=\"Times,serif\" font-size=\"14.00\" fill=\"#000000\">6</text>\n",
       "</g>\n",
       "<!-- 6&#45;&gt;2 -->\n",
       "<g id=\"edge9\" class=\"edge\">\n",
       "<title>6&#45;&gt;2</title>\n",
       "<path fill=\"none\" stroke=\"#000000\" d=\"M40.5416,-289.2822C53.1566,-274.7447 72.1333,-252.876 86.554,-236.2576\"/>\n",
       "<polygon fill=\"#000000\" stroke=\"#000000\" points=\"89.3089,-238.4232 93.2194,-228.5764 84.0219,-233.8354 89.3089,-238.4232\"/>\n",
       "<text text-anchor=\"middle\" x=\"60.0478\" y=\"-265.5699\" font-family=\"Times,serif\" font-size=\"14.00\" fill=\"#000000\">9</text>\n",
       "</g>\n",
       "<!-- 7 -->\n",
       "<g id=\"node7\" class=\"node\">\n",
       "<title>7</title>\n",
       "<ellipse fill=\"none\" stroke=\"#000000\" cx=\"105.9775\" cy=\"-32.3288\" rx=\"27\" ry=\"18\"/>\n",
       "<text text-anchor=\"middle\" x=\"105.9775\" y=\"-28.1288\" font-family=\"Times,serif\" font-size=\"14.00\" fill=\"#000000\">7</text>\n",
       "</g>\n",
       "<!-- 7&#45;&gt;3 -->\n",
       "<g id=\"edge10\" class=\"edge\">\n",
       "<title>7&#45;&gt;3</title>\n",
       "<path fill=\"none\" stroke=\"#000000\" d=\"M120.1317,-47.7024C133.9042,-62.6614 154.9958,-85.5698 170.718,-102.6464\"/>\n",
       "<polygon fill=\"#000000\" stroke=\"#000000\" points=\"168.1701,-105.0464 177.5183,-110.0326 173.3198,-100.3051 168.1701,-105.0464\"/>\n",
       "<text text-anchor=\"middle\" x=\"138.4249\" y=\"-77.9744\" font-family=\"Times,serif\" font-size=\"14.00\" fill=\"#000000\">10</text>\n",
       "</g>\n",
       "<!-- 9 -->\n",
       "<g id=\"node9\" class=\"node\">\n",
       "<title>9</title>\n",
       "<ellipse fill=\"none\" stroke=\"#000000\" cx=\"513.6136\" cy=\"-279.0527\" rx=\"27\" ry=\"18\"/>\n",
       "<text text-anchor=\"middle\" x=\"513.6136\" y=\"-274.8527\" font-family=\"Times,serif\" font-size=\"14.00\" fill=\"#000000\">9</text>\n",
       "</g>\n",
       "<!-- 9&#45;&gt;8 -->\n",
       "<g id=\"edge11\" class=\"edge\">\n",
       "<title>9&#45;&gt;8</title>\n",
       "<path fill=\"none\" stroke=\"#000000\" d=\"M489.5887,-287.4498C473.3677,-293.1193 451.7328,-300.681 433.8254,-306.9399\"/>\n",
       "<polygon fill=\"#000000\" stroke=\"#000000\" points=\"432.6036,-303.6592 424.3184,-310.2627 434.9133,-310.2672 432.6036,-303.6592\"/>\n",
       "<text text-anchor=\"middle\" x=\"454.9634\" y=\"-299.9948\" font-family=\"Times,serif\" font-size=\"14.00\" fill=\"#000000\">11</text>\n",
       "</g>\n",
       "<!-- 10 -->\n",
       "<g id=\"node10\" class=\"node\">\n",
       "<title>10</title>\n",
       "<ellipse fill=\"none\" stroke=\"#000000\" cx=\"238.5848\" cy=\"-18\" rx=\"27\" ry=\"18\"/>\n",
       "<text text-anchor=\"middle\" x=\"238.5848\" y=\"-13.8\" font-family=\"Times,serif\" font-size=\"14.00\" fill=\"#000000\">10</text>\n",
       "</g>\n",
       "<!-- 10&#45;&gt;3 -->\n",
       "<g id=\"edge12\" class=\"edge\">\n",
       "<title>10&#45;&gt;3</title>\n",
       "<path fill=\"none\" stroke=\"#000000\" d=\"M230.8417,-35.7397C223.3647,-52.8697 211.9445,-79.0336 203.3651,-98.6892\"/>\n",
       "<polygon fill=\"#000000\" stroke=\"#000000\" points=\"200.0853,-97.4542 199.2926,-108.0194 206.5008,-100.2546 200.0853,-97.4542\"/>\n",
       "<text text-anchor=\"middle\" x=\"210.1034\" y=\"-70.0145\" font-family=\"Times,serif\" font-size=\"14.00\" fill=\"#000000\">12</text>\n",
       "</g>\n",
       "<!-- 11 -->\n",
       "<g id=\"node11\" class=\"node\">\n",
       "<title>11</title>\n",
       "<ellipse fill=\"none\" stroke=\"#000000\" cx=\"89.7887\" cy=\"-410.7034\" rx=\"27\" ry=\"18\"/>\n",
       "<text text-anchor=\"middle\" x=\"89.7887\" y=\"-406.5034\" font-family=\"Times,serif\" font-size=\"14.00\" fill=\"#000000\">11</text>\n",
       "</g>\n",
       "<!-- 11&#45;&gt;6 -->\n",
       "<g id=\"edge13\" class=\"edge\">\n",
       "<title>11&#45;&gt;6</title>\n",
       "<path fill=\"none\" stroke=\"#000000\" d=\"M79.7006,-393.7023C69.5855,-376.6556 53.8831,-350.1929 42.2471,-330.5831\"/>\n",
       "<polygon fill=\"#000000\" stroke=\"#000000\" points=\"45.1761,-328.6604 37.0631,-321.8465 39.1561,-332.2326 45.1761,-328.6604\"/>\n",
       "<text text-anchor=\"middle\" x=\"53.9739\" y=\"-364.9427\" font-family=\"Times,serif\" font-size=\"14.00\" fill=\"#000000\">13</text>\n",
       "</g>\n",
       "<!-- 12 -->\n",
       "<g id=\"node12\" class=\"node\">\n",
       "<title>12</title>\n",
       "<ellipse fill=\"none\" stroke=\"#000000\" cx=\"206.935\" cy=\"-381.2111\" rx=\"27\" ry=\"18\"/>\n",
       "<text text-anchor=\"middle\" x=\"206.935\" y=\"-377.0111\" font-family=\"Times,serif\" font-size=\"14.00\" fill=\"#000000\">12</text>\n",
       "</g>\n",
       "<!-- 12&#45;&gt;5 -->\n",
       "<g id=\"edge14\" class=\"edge\">\n",
       "<title>12&#45;&gt;5</title>\n",
       "<path fill=\"none\" stroke=\"#0000ff\" d=\"M230.8256,-390.0002C248.2676,-396.417 272.145,-405.2013 291.4912,-412.3185\"/>\n",
       "<polygon fill=\"#0000ff\" stroke=\"#0000ff\" points=\"290.5433,-415.6991 301.1369,-415.8671 292.9603,-409.1296 290.5433,-415.6991\"/>\n",
       "<text text-anchor=\"middle\" x=\"254.1584\" y=\"-403.9594\" font-family=\"Times,serif\" font-size=\"14.00\" fill=\"#0000ff\">14</text>\n",
       "</g>\n",
       "<!-- 12&#45;&gt;11 -->\n",
       "<g id=\"edge15\" class=\"edge\">\n",
       "<title>12&#45;&gt;11</title>\n",
       "<path fill=\"none\" stroke=\"#000000\" d=\"M181.516,-387.6105C165.0136,-391.765 143.276,-397.2376 125.104,-401.8125\"/>\n",
       "<polygon fill=\"#000000\" stroke=\"#000000\" points=\"124.001,-398.481 115.1581,-404.3165 125.71,-405.2691 124.001,-398.481\"/>\n",
       "<text text-anchor=\"middle\" x=\"146.31\" y=\"-397.5115\" font-family=\"Times,serif\" font-size=\"14.00\" fill=\"#000000\">15</text>\n",
       "</g>\n",
       "<!-- 12&#45;&gt;14 -->\n",
       "<g id=\"edge16\" class=\"edge\">\n",
       "<title>12&#45;&gt;14</title>\n",
       "<path fill=\"none\" stroke=\"#ff0000\" d=\"M208.5645,-363.196C210.5912,-340.7888 214.0745,-302.2773 216.4587,-275.9178\"/>\n",
       "<polygon fill=\"#ff0000\" stroke=\"#ff0000\" points=\"219.9598,-276.0631 217.3749,-265.7884 212.9883,-275.4324 219.9598,-276.0631\"/>\n",
       "<text text-anchor=\"middle\" x=\"205.5116\" y=\"-322.3569\" font-family=\"Times,serif\" font-size=\"14.00\" fill=\"#ff0000\">16</text>\n",
       "</g>\n",
       "<!-- 13 -->\n",
       "<g id=\"node13\" class=\"node\">\n",
       "<title>13</title>\n",
       "<ellipse fill=\"none\" stroke=\"#000000\" cx=\"447.4132\" cy=\"-174.5719\" rx=\"27\" ry=\"18\"/>\n",
       "<text text-anchor=\"middle\" x=\"447.4132\" y=\"-170.3719\" font-family=\"Times,serif\" font-size=\"14.00\" fill=\"#000000\">13</text>\n",
       "</g>\n",
       "<!-- 13&#45;&gt;4 -->\n",
       "<g id=\"edge17\" class=\"edge\">\n",
       "<title>13&#45;&gt;4</title>\n",
       "<path fill=\"none\" stroke=\"#000000\" d=\"M421.8175,-180.3324C403.884,-184.3685 379.6692,-189.8182 359.805,-194.2887\"/>\n",
       "<polygon fill=\"#000000\" stroke=\"#000000\" points=\"358.8577,-190.9143 349.8703,-196.5246 360.3947,-197.7435 358.8577,-190.9143\"/>\n",
       "<text text-anchor=\"middle\" x=\"383.8113\" y=\"-190.1106\" font-family=\"Times,serif\" font-size=\"14.00\" fill=\"#000000\">17</text>\n",
       "</g>\n",
       "<!-- 13&#45;&gt;9 -->\n",
       "<g id=\"edge18\" class=\"edge\">\n",
       "<title>13&#45;&gt;9</title>\n",
       "<path fill=\"none\" stroke=\"#000000\" d=\"M458.0494,-191.3585C468.7142,-208.1902 485.2697,-234.319 497.538,-253.6813\"/>\n",
       "<polygon fill=\"#000000\" stroke=\"#000000\" points=\"494.695,-255.7338 503.0038,-262.3077 500.608,-251.9873 494.695,-255.7338\"/>\n",
       "<text text-anchor=\"middle\" x=\"470.7937\" y=\"-225.3199\" font-family=\"Times,serif\" font-size=\"14.00\" fill=\"#000000\">18</text>\n",
       "</g>\n",
       "<!-- 14&#45;&gt;2 -->\n",
       "<g id=\"edge19\" class=\"edge\">\n",
       "<title>14&#45;&gt;2</title>\n",
       "<path fill=\"none\" stroke=\"#000000\" d=\"M194.3967,-240.0088C178.76,-235.1672 158.2991,-228.8318 141.0878,-223.5026\"/>\n",
       "<polygon fill=\"#000000\" stroke=\"#000000\" points=\"141.9784,-220.1145 131.3905,-220.5 139.9078,-226.8013 141.9784,-220.1145\"/>\n",
       "<text text-anchor=\"middle\" x=\"160.7422\" y=\"-234.5557\" font-family=\"Times,serif\" font-size=\"14.00\" fill=\"#000000\">19</text>\n",
       "</g>\n",
       "<!-- 15 -->\n",
       "<g id=\"node15\" class=\"node\">\n",
       "<title>15</title>\n",
       "<ellipse fill=\"none\" stroke=\"#000000\" cx=\"265.8631\" cy=\"-115.2466\" rx=\"27\" ry=\"18\"/>\n",
       "<text text-anchor=\"middle\" x=\"265.8631\" y=\"-111.0466\" font-family=\"Times,serif\" font-size=\"14.00\" fill=\"#000000\">15</text>\n",
       "</g>\n",
       "<!-- 14&#45;&gt;15 -->\n",
       "<g id=\"edge20\" class=\"edge\">\n",
       "<title>14&#45;&gt;15</title>\n",
       "<path fill=\"none\" stroke=\"#000000\" d=\"M225.238,-230.0524C233.1479,-207.6991 246.891,-168.8614 256.1779,-142.6168\"/>\n",
       "<polygon fill=\"#000000\" stroke=\"#000000\" points=\"259.5802,-143.4939 259.6166,-132.8991 252.9812,-141.1587 259.5802,-143.4939\"/>\n",
       "<text text-anchor=\"middle\" x=\"233.7079\" y=\"-189.1346\" font-family=\"Times,serif\" font-size=\"14.00\" fill=\"#000000\">20</text>\n",
       "</g>\n",
       "<!-- 15&#45;&gt;10 -->\n",
       "<g id=\"edge21\" class=\"edge\">\n",
       "<title>15&#45;&gt;10</title>\n",
       "<path fill=\"none\" stroke=\"#000000\" d=\"M260.8599,-97.4101C256.7839,-82.8794 250.96,-62.1173 246.2895,-45.4669\"/>\n",
       "<polygon fill=\"#000000\" stroke=\"#000000\" points=\"249.6272,-44.4065 243.5564,-35.7234 242.8873,-46.2971 249.6272,-44.4065\"/>\n",
       "<text text-anchor=\"middle\" x=\"246.5747\" y=\"-74.2385\" font-family=\"Times,serif\" font-size=\"14.00\" fill=\"#000000\">21</text>\n",
       "</g>\n",
       "</g>\n",
       "</svg>\n"
      ],
      "text/plain": [
       "DiGraph(DiNode[DiNode(1,Dict{Symbol,Any}()),DiNode(2,Dict{Symbol,Any}()),DiNode(3,Dict{Symbol,Any}()),DiNode(4,Dict{Symbol,Any}()),DiNode(5,Dict{Symbol,Any}()),DiNode(6,Dict{Symbol,Any}()),DiNode(7,Dict{Symbol,Any}()),DiNode(8,Dict{Symbol,Any}()),DiNode(9,Dict{Symbol,Any}()),DiNode(10,Dict{Symbol,Any}()),DiNode(11,Dict{Symbol,Any}()),DiNode(12,Dict{Symbol,Any}()),DiNode(13,Dict{Symbol,Any}()),DiNode(14,Dict{Symbol,Any}()),DiNode(15,Dict{Symbol,Any}())],DiEdge[DiEdge(1=>4,Dict{Symbol,Any}(Pair{Symbol,Any}(:label,1),Pair{Symbol,Any}(:len,1.5),Pair{Symbol,Any}(:color,\"red\"),Pair{Symbol,Any}(:fontcolor,\"red\"))),DiEdge(1=>14,Dict{Symbol,Any}(Pair{Symbol,Any}(:label,2),Pair{Symbol,Any}(:len,1.5),Pair{Symbol,Any}(:color,\"blue\"),Pair{Symbol,Any}(:fontcolor,\"blue\"))),DiEdge(3=>2,Dict{Symbol,Any}(Pair{Symbol,Any}(:label,3),Pair{Symbol,Any}(:len,1.5))),DiEdge(4=>1,Dict{Symbol,Any}(Pair{Symbol,Any}(:label,4),Pair{Symbol,Any}(:len,1.5))),DiEdge(4=>3,Dict{Symbol,Any}(Pair{Symbol,Any}(:label,5),Pair{Symbol,Any}(:len,1.5))),DiEdge(4=>8,Dict{Symbol,Any}(Pair{Symbol,Any}(:label,6),Pair{Symbol,Any}(:len,1.5),Pair{Symbol,Any}(:color,\"red\"),Pair{Symbol,Any}(:fontcolor,\"red\"))),DiEdge(4=>14,Dict{Symbol,Any}(Pair{Symbol,Any}(:label,7),Pair{Symbol,Any}(:len,1.5))),DiEdge(5=>8,Dict{Symbol,Any}(Pair{Symbol,Any}(:label,8),Pair{Symbol,Any}(:len,1.5),Pair{Symbol,Any}(:color,\"blue\"),Pair{Symbol,Any}(:fontcolor,\"blue\"))),DiEdge(6=>2,Dict{Symbol,Any}(Pair{Symbol,Any}(:label,9),Pair{Symbol,Any}(:len,1.5))),DiEdge(7=>3,Dict{Symbol,Any}(Pair{Symbol,Any}(:label,10),Pair{Symbol,Any}(:len,1.5)))  …  DiEdge(10=>3,Dict{Symbol,Any}(Pair{Symbol,Any}(:label,12),Pair{Symbol,Any}(:len,1.5))),DiEdge(11=>6,Dict{Symbol,Any}(Pair{Symbol,Any}(:label,13),Pair{Symbol,Any}(:len,1.5))),DiEdge(12=>5,Dict{Symbol,Any}(Pair{Symbol,Any}(:label,14),Pair{Symbol,Any}(:len,1.5),Pair{Symbol,Any}(:color,\"blue\"),Pair{Symbol,Any}(:fontcolor,\"blue\"))),DiEdge(12=>11,Dict{Symbol,Any}(Pair{Symbol,Any}(:label,15),Pair{Symbol,Any}(:len,1.5))),DiEdge(12=>14,Dict{Symbol,Any}(Pair{Symbol,Any}(:label,16),Pair{Symbol,Any}(:len,1.5),Pair{Symbol,Any}(:color,\"red\"),Pair{Symbol,Any}(:fontcolor,\"red\"))),DiEdge(13=>4,Dict{Symbol,Any}(Pair{Symbol,Any}(:label,17),Pair{Symbol,Any}(:len,1.5))),DiEdge(13=>9,Dict{Symbol,Any}(Pair{Symbol,Any}(:label,18),Pair{Symbol,Any}(:len,1.5))),DiEdge(14=>2,Dict{Symbol,Any}(Pair{Symbol,Any}(:label,19),Pair{Symbol,Any}(:len,1.5))),DiEdge(14=>15,Dict{Symbol,Any}(Pair{Symbol,Any}(:label,20),Pair{Symbol,Any}(:len,1.5))),DiEdge(15=>10,Dict{Symbol,Any}(Pair{Symbol,Any}(:label,21),Pair{Symbol,Any}(:len,1.5)))],Dict{Symbol,Any}())"
      ]
     },
     "execution_count": 19,
     "metadata": {
      "comm_id": "212e7c93-405e-4cb4-9289-324019cead7a",
      "reactive": true
     },
     "output_type": "execute_result"
    }
   ],
   "source": [
    "gbig = edgelen!(randgraph(15, 1.5), 1.5)\n",
    "animloops(gbig)"
   ]
  },
  {
   "cell_type": "markdown",
   "metadata": {},
   "source": [
    "Conversely, the *independent* rows of $A$ (corresponding to the **pivot columns** of the rref form of $A^T$) form a **maximal set of edges with no loops**.  A graph with no loops is called a [tree](https://en.wikipedia.org/wiki/Tree_(graph_theory)), and this particular tree is called a [spanning tree](https://en.wikipedia.org/wiki/Spanning_tree) because it touches all of (\"spans\") the nodes (assuming the graph is connected).\n",
    "\n",
    "Let's color the spanning tree (loop-free edges) of our example graph red:"
   ]
  },
  {
   "cell_type": "code",
   "execution_count": 20,
   "metadata": {
    "collapsed": false
   },
   "outputs": [
    {
     "data": {
      "image/svg+xml": [
       "<?xml version=\"1.0\" encoding=\"UTF-8\" standalone=\"no\"?>\n",
       "<!DOCTYPE svg PUBLIC \"-//W3C//DTD SVG 1.1//EN\"\n",
       " \"http://www.w3.org/Graphics/SVG/1.1/DTD/svg11.dtd\">\n",
       "<!-- Generated by graphviz version 2.40.1 (20161225.0304)\n",
       " -->\n",
       "<!-- Title: MyDiGraph Pages: 1 -->\n",
       "<svg width=\"259pt\" height=\"257pt\"\n",
       " viewBox=\"0.00 0.00 258.52 256.56\" xmlns=\"http://www.w3.org/2000/svg\" xmlns:xlink=\"http://www.w3.org/1999/xlink\">\n",
       "<g id=\"graph0\" class=\"graph\" transform=\"scale(1 1) rotate(0) translate(4 252.5612)\">\n",
       "<title>MyDiGraph</title>\n",
       "<polygon fill=\"#ffffff\" stroke=\"transparent\" points=\"-4,4 -4,-252.5612 254.5182,-252.5612 254.5182,4 -4,4\"/>\n",
       "<!-- 1 -->\n",
       "<g id=\"node1\" class=\"node\">\n",
       "<title>1</title>\n",
       "<ellipse fill=\"none\" stroke=\"#000000\" cx=\"27\" cy=\"-140.9451\" rx=\"27\" ry=\"18\"/>\n",
       "<text text-anchor=\"middle\" x=\"27\" y=\"-136.7451\" font-family=\"Times,serif\" font-size=\"14.00\" fill=\"#000000\">1</text>\n",
       "</g>\n",
       "<!-- 4 -->\n",
       "<g id=\"node4\" class=\"node\">\n",
       "<title>4</title>\n",
       "<ellipse fill=\"none\" stroke=\"#000000\" cx=\"116.8883\" cy=\"-215.532\" rx=\"27\" ry=\"18\"/>\n",
       "<text text-anchor=\"middle\" x=\"116.8883\" y=\"-211.332\" font-family=\"Times,serif\" font-size=\"14.00\" fill=\"#000000\">4</text>\n",
       "</g>\n",
       "<!-- 1&#45;&gt;4 -->\n",
       "<g id=\"edge1\" class=\"edge\">\n",
       "<title>1&#45;&gt;4</title>\n",
       "<path fill=\"none\" stroke=\"#ff0000\" d=\"M44.3314,-155.3262C57.8476,-166.5416 76.8036,-182.2708 91.9506,-194.8393\"/>\n",
       "<polygon fill=\"#ff0000\" stroke=\"#ff0000\" points=\"89.9843,-197.7558 99.915,-201.448 94.4543,-192.3688 89.9843,-197.7558\"/>\n",
       "<text text-anchor=\"middle\" x=\"64.641\" y=\"-177.8828\" font-family=\"Times,serif\" font-size=\"14.00\" fill=\"#ff0000\">1</text>\n",
       "</g>\n",
       "<!-- 2 -->\n",
       "<g id=\"node2\" class=\"node\">\n",
       "<title>2</title>\n",
       "<ellipse fill=\"none\" stroke=\"#000000\" cx=\"102.2914\" cy=\"-51.6524\" rx=\"27\" ry=\"18\"/>\n",
       "<text text-anchor=\"middle\" x=\"102.2914\" y=\"-47.4524\" font-family=\"Times,serif\" font-size=\"14.00\" fill=\"#000000\">2</text>\n",
       "</g>\n",
       "<!-- 2&#45;&gt;1 -->\n",
       "<g id=\"edge6\" class=\"edge\">\n",
       "<title>2&#45;&gt;1</title>\n",
       "<path fill=\"none\" stroke=\"#000000\" d=\"M88.8308,-67.6162C77.1606,-81.4566 60.1129,-101.6744 46.8723,-117.3772\"/>\n",
       "<polygon fill=\"#000000\" stroke=\"#000000\" points=\"44.1146,-115.2183 40.3441,-125.1195 49.4661,-119.7307 44.1146,-115.2183\"/>\n",
       "<text text-anchor=\"middle\" x=\"64.3516\" y=\"-95.2967\" font-family=\"Times,serif\" font-size=\"14.00\" fill=\"#000000\">6</text>\n",
       "</g>\n",
       "<!-- 6 -->\n",
       "<g id=\"node6\" class=\"node\">\n",
       "<title>6</title>\n",
       "<ellipse fill=\"none\" stroke=\"#000000\" cx=\"192.6702\" cy=\"-126.1901\" rx=\"27\" ry=\"18\"/>\n",
       "<text text-anchor=\"middle\" x=\"192.6702\" y=\"-121.9901\" font-family=\"Times,serif\" font-size=\"14.00\" fill=\"#000000\">6</text>\n",
       "</g>\n",
       "<!-- 2&#45;&gt;6 -->\n",
       "<g id=\"edge7\" class=\"edge\">\n",
       "<title>2&#45;&gt;6</title>\n",
       "<path fill=\"none\" stroke=\"#000000\" d=\"M119.2909,-65.6724C132.8382,-76.8452 152.0133,-92.6594 167.3645,-105.3199\"/>\n",
       "<polygon fill=\"#000000\" stroke=\"#000000\" points=\"165.4978,-108.3172 175.4396,-111.9796 169.9517,-102.9168 165.4978,-108.3172\"/>\n",
       "<text text-anchor=\"middle\" x=\"139.8277\" y=\"-88.2962\" font-family=\"Times,serif\" font-size=\"14.00\" fill=\"#000000\">7</text>\n",
       "</g>\n",
       "<!-- 3 -->\n",
       "<g id=\"node3\" class=\"node\">\n",
       "<title>3</title>\n",
       "<ellipse fill=\"none\" stroke=\"#000000\" cx=\"204.5704\" cy=\"-18\" rx=\"27\" ry=\"18\"/>\n",
       "<text text-anchor=\"middle\" x=\"204.5704\" y=\"-13.8\" font-family=\"Times,serif\" font-size=\"14.00\" fill=\"#000000\">3</text>\n",
       "</g>\n",
       "<!-- 3&#45;&gt;2 -->\n",
       "<g id=\"edge5\" class=\"edge\">\n",
       "<title>3&#45;&gt;2</title>\n",
       "<path fill=\"none\" stroke=\"#ff0000\" d=\"M180.3317,-25.9752C167.1806,-30.3022 150.7115,-35.721 136.2962,-40.464\"/>\n",
       "<polygon fill=\"#ff0000\" stroke=\"#ff0000\" points=\"135.1157,-37.1677 126.7105,-43.6179 137.3035,-43.8171 135.1157,-37.1677\"/>\n",
       "<text text-anchor=\"middle\" x=\"154.814\" y=\"-36.0196\" font-family=\"Times,serif\" font-size=\"14.00\" fill=\"#ff0000\">5</text>\n",
       "</g>\n",
       "<!-- 5 -->\n",
       "<g id=\"node5\" class=\"node\">\n",
       "<title>5</title>\n",
       "<ellipse fill=\"none\" stroke=\"#000000\" cx=\"223.5182\" cy=\"-230.5612\" rx=\"27\" ry=\"18\"/>\n",
       "<text text-anchor=\"middle\" x=\"223.5182\" y=\"-226.3612\" font-family=\"Times,serif\" font-size=\"14.00\" fill=\"#000000\">5</text>\n",
       "</g>\n",
       "<!-- 4&#45;&gt;5 -->\n",
       "<g id=\"edge2\" class=\"edge\">\n",
       "<title>4&#45;&gt;5</title>\n",
       "<path fill=\"none\" stroke=\"#ff0000\" d=\"M143.5205,-219.2857C156.6248,-221.1327 172.6268,-223.3882 186.8659,-225.3951\"/>\n",
       "<polygon fill=\"#ff0000\" stroke=\"#ff0000\" points=\"186.4654,-228.8732 196.856,-226.8032 187.4424,-221.9417 186.4654,-228.8732\"/>\n",
       "<text text-anchor=\"middle\" x=\"161.6932\" y=\"-225.1404\" font-family=\"Times,serif\" font-size=\"14.00\" fill=\"#ff0000\">2</text>\n",
       "</g>\n",
       "<!-- 4&#45;&gt;6 -->\n",
       "<g id=\"edge8\" class=\"edge\">\n",
       "<title>4&#45;&gt;6</title>\n",
       "<path fill=\"none\" stroke=\"#000000\" d=\"M130.4366,-199.5595C142.1828,-185.7114 159.3415,-165.4824 172.6684,-149.771\"/>\n",
       "<polygon fill=\"#000000\" stroke=\"#000000\" points=\"175.4397,-151.9145 179.2392,-142.0244 170.1014,-147.3865 175.4397,-151.9145\"/>\n",
       "<text text-anchor=\"middle\" x=\"148.0525\" y=\"-177.4652\" font-family=\"Times,serif\" font-size=\"14.00\" fill=\"#000000\">8</text>\n",
       "</g>\n",
       "<!-- 5&#45;&gt;6 -->\n",
       "<g id=\"edge3\" class=\"edge\">\n",
       "<title>5&#45;&gt;6</title>\n",
       "<path fill=\"none\" stroke=\"#ff0000\" d=\"M218.2853,-212.856C213.499,-196.6623 206.343,-172.4508 200.8102,-153.7311\"/>\n",
       "<polygon fill=\"#ff0000\" stroke=\"#ff0000\" points=\"204.1197,-152.58 197.9288,-143.9821 197.4068,-154.5641 204.1197,-152.58\"/>\n",
       "<text text-anchor=\"middle\" x=\"206.0477\" y=\"-186.0936\" font-family=\"Times,serif\" font-size=\"14.00\" fill=\"#ff0000\">3</text>\n",
       "</g>\n",
       "<!-- 6&#45;&gt;3 -->\n",
       "<g id=\"edge4\" class=\"edge\">\n",
       "<title>6&#45;&gt;3</title>\n",
       "<path fill=\"none\" stroke=\"#ff0000\" d=\"M194.6889,-107.8372C196.5465,-90.9492 199.3293,-65.6489 201.469,-46.1966\"/>\n",
       "<polygon fill=\"#ff0000\" stroke=\"#ff0000\" points=\"204.9671,-46.4047 202.5815,-36.0819 198.009,-45.6393 204.9671,-46.4047\"/>\n",
       "<text text-anchor=\"middle\" x=\"194.5789\" y=\"-79.8169\" font-family=\"Times,serif\" font-size=\"14.00\" fill=\"#ff0000\">4</text>\n",
       "</g>\n",
       "</g>\n",
       "</svg>\n"
      ],
      "text/plain": [
       "DiGraph(DiNode[DiNode(1,Dict{Symbol,Any}()),DiNode(2,Dict{Symbol,Any}()),DiNode(3,Dict{Symbol,Any}()),DiNode(4,Dict{Symbol,Any}()),DiNode(5,Dict{Symbol,Any}()),DiNode(6,Dict{Symbol,Any}())],DiEdge[DiEdge(1=>4,Dict{Symbol,Any}(Pair{Symbol,Any}(:label,1),Pair{Symbol,Any}(:len,1.5),Pair{Symbol,Any}(:color,\"red\"),Pair{Symbol,Any}(:fontcolor,\"red\"))),DiEdge(4=>5,Dict{Symbol,Any}(Pair{Symbol,Any}(:label,2),Pair{Symbol,Any}(:len,1.5),Pair{Symbol,Any}(:color,\"red\"),Pair{Symbol,Any}(:fontcolor,\"red\"))),DiEdge(5=>6,Dict{Symbol,Any}(Pair{Symbol,Any}(:label,3),Pair{Symbol,Any}(:len,1.5),Pair{Symbol,Any}(:color,\"red\"),Pair{Symbol,Any}(:fontcolor,\"red\"))),DiEdge(6=>3,Dict{Symbol,Any}(Pair{Symbol,Any}(:label,4),Pair{Symbol,Any}(:len,1.5),Pair{Symbol,Any}(:color,\"red\"),Pair{Symbol,Any}(:fontcolor,\"red\"))),DiEdge(3=>2,Dict{Symbol,Any}(Pair{Symbol,Any}(:label,5),Pair{Symbol,Any}(:len,1.5),Pair{Symbol,Any}(:color,\"red\"),Pair{Symbol,Any}(:fontcolor,\"red\"))),DiEdge(2=>1,Dict{Symbol,Any}(Pair{Symbol,Any}(:label,6),Pair{Symbol,Any}(:len,1.5))),DiEdge(2=>6,Dict{Symbol,Any}(Pair{Symbol,Any}(:label,7),Pair{Symbol,Any}(:len,1.5))),DiEdge(4=>6,Dict{Symbol,Any}(Pair{Symbol,Any}(:label,8),Pair{Symbol,Any}(:len,1.5)))],Dict{Symbol,Any}())"
      ]
     },
     "execution_count": 20,
     "metadata": {},
     "output_type": "execute_result"
    }
   ],
   "source": [
    "colortree(g)"
   ]
  },
  {
   "cell_type": "markdown",
   "metadata": {},
   "source": [
    "We can also discard all of the edges that are *not* in the spanning tree, and we are left with a more boring graph of *just* the spanning tree:"
   ]
  },
  {
   "cell_type": "code",
   "execution_count": 21,
   "metadata": {
    "collapsed": false
   },
   "outputs": [
    {
     "data": {
      "image/svg+xml": [
       "<?xml version=\"1.0\" encoding=\"UTF-8\" standalone=\"no\"?>\n",
       "<!DOCTYPE svg PUBLIC \"-//W3C//DTD SVG 1.1//EN\"\n",
       " \"http://www.w3.org/Graphics/SVG/1.1/DTD/svg11.dtd\">\n",
       "<!-- Generated by graphviz version 2.40.1 (20161225.0304)\n",
       " -->\n",
       "<!-- Title: MyDiGraph Pages: 1 -->\n",
       "<svg width=\"492pt\" height=\"364pt\"\n",
       " viewBox=\"0.00 0.00 492.28 363.85\" xmlns=\"http://www.w3.org/2000/svg\" xmlns:xlink=\"http://www.w3.org/1999/xlink\">\n",
       "<g id=\"graph0\" class=\"graph\" transform=\"scale(1 1) rotate(0) translate(4 359.8467)\">\n",
       "<title>MyDiGraph</title>\n",
       "<polygon fill=\"#ffffff\" stroke=\"transparent\" points=\"-4,4 -4,-359.8467 488.2785,-359.8467 488.2785,4 -4,4\"/>\n",
       "<!-- 1 -->\n",
       "<g id=\"node1\" class=\"node\">\n",
       "<title>1</title>\n",
       "<ellipse fill=\"none\" stroke=\"#000000\" cx=\"27\" cy=\"-337.8467\" rx=\"27\" ry=\"18\"/>\n",
       "<text text-anchor=\"middle\" x=\"27\" y=\"-333.6467\" font-family=\"Times,serif\" font-size=\"14.00\" fill=\"#000000\">1</text>\n",
       "</g>\n",
       "<!-- 4 -->\n",
       "<g id=\"node4\" class=\"node\">\n",
       "<title>4</title>\n",
       "<ellipse fill=\"none\" stroke=\"#000000\" cx=\"126.3206\" cy=\"-293.7202\" rx=\"27\" ry=\"18\"/>\n",
       "<text text-anchor=\"middle\" x=\"126.3206\" y=\"-289.5202\" font-family=\"Times,serif\" font-size=\"14.00\" fill=\"#000000\">4</text>\n",
       "</g>\n",
       "<!-- 1&#45;&gt;4 -->\n",
       "<g id=\"edge1\" class=\"edge\">\n",
       "<title>1&#45;&gt;4</title>\n",
       "<path fill=\"none\" stroke=\"#000000\" d=\"M49.5374,-327.8337C62.7772,-321.9515 79.7273,-314.4208 94.3323,-307.9321\"/>\n",
       "<polygon fill=\"#000000\" stroke=\"#000000\" points=\"95.811,-311.1051 103.5286,-303.8463 92.9689,-304.708 95.811,-311.1051\"/>\n",
       "<text text-anchor=\"middle\" x=\"68.4348\" y=\"-320.6829\" font-family=\"Times,serif\" font-size=\"14.00\" fill=\"#000000\">1</text>\n",
       "</g>\n",
       "<!-- 2 -->\n",
       "<g id=\"node2\" class=\"node\">\n",
       "<title>2</title>\n",
       "<ellipse fill=\"none\" stroke=\"#000000\" cx=\"457.2785\" cy=\"-18\" rx=\"27\" ry=\"18\"/>\n",
       "<text text-anchor=\"middle\" x=\"457.2785\" y=\"-13.8\" font-family=\"Times,serif\" font-size=\"14.00\" fill=\"#000000\">2</text>\n",
       "</g>\n",
       "<!-- 3 -->\n",
       "<g id=\"node3\" class=\"node\">\n",
       "<title>3</title>\n",
       "<ellipse fill=\"none\" stroke=\"#000000\" cx=\"363.1409\" cy=\"-72.0233\" rx=\"27\" ry=\"18\"/>\n",
       "<text text-anchor=\"middle\" x=\"363.1409\" y=\"-67.8233\" font-family=\"Times,serif\" font-size=\"14.00\" fill=\"#000000\">3</text>\n",
       "</g>\n",
       "<!-- 3&#45;&gt;2 -->\n",
       "<g id=\"edge5\" class=\"edge\">\n",
       "<title>3&#45;&gt;2</title>\n",
       "<path fill=\"none\" stroke=\"#000000\" d=\"M384.0331,-60.0338C396.919,-52.6389 413.6428,-43.0415 427.8563,-34.8847\"/>\n",
       "<polygon fill=\"#000000\" stroke=\"#000000\" points=\"429.8374,-37.7832 436.7686,-29.7701 426.3532,-31.7119 429.8374,-37.7832\"/>\n",
       "<text text-anchor=\"middle\" x=\"402.4447\" y=\"-50.2592\" font-family=\"Times,serif\" font-size=\"14.00\" fill=\"#000000\">5</text>\n",
       "</g>\n",
       "<!-- 5 -->\n",
       "<g id=\"node5\" class=\"node\">\n",
       "<title>5</title>\n",
       "<ellipse fill=\"none\" stroke=\"#000000\" cx=\"213.7722\" cy=\"-229.1838\" rx=\"27\" ry=\"18\"/>\n",
       "<text text-anchor=\"middle\" x=\"213.7722\" y=\"-224.9838\" font-family=\"Times,serif\" font-size=\"14.00\" fill=\"#000000\">5</text>\n",
       "</g>\n",
       "<!-- 4&#45;&gt;5 -->\n",
       "<g id=\"edge2\" class=\"edge\">\n",
       "<title>4&#45;&gt;5</title>\n",
       "<path fill=\"none\" stroke=\"#000000\" d=\"M144.4406,-280.3482C156.787,-271.237 173.3386,-259.0225 187.1734,-248.8129\"/>\n",
       "<polygon fill=\"#000000\" stroke=\"#000000\" points=\"189.4065,-251.5148 195.3745,-242.7607 185.25,-245.8824 189.4065,-251.5148\"/>\n",
       "<text text-anchor=\"middle\" x=\"162.307\" y=\"-267.3806\" font-family=\"Times,serif\" font-size=\"14.00\" fill=\"#000000\">2</text>\n",
       "</g>\n",
       "<!-- 6 -->\n",
       "<g id=\"node6\" class=\"node\">\n",
       "<title>6</title>\n",
       "<ellipse fill=\"none\" stroke=\"#000000\" cx=\"284.6602\" cy=\"-146.8726\" rx=\"27\" ry=\"18\"/>\n",
       "<text text-anchor=\"middle\" x=\"284.6602\" y=\"-142.6726\" font-family=\"Times,serif\" font-size=\"14.00\" fill=\"#000000\">6</text>\n",
       "</g>\n",
       "<!-- 5&#45;&gt;6 -->\n",
       "<g id=\"edge3\" class=\"edge\">\n",
       "<title>5&#45;&gt;6</title>\n",
       "<path fill=\"none\" stroke=\"#000000\" d=\"M227.4401,-213.3134C237.9333,-201.1292 252.584,-184.1177 264.4336,-170.3586\"/>\n",
       "<polygon fill=\"#000000\" stroke=\"#000000\" points=\"267.1606,-172.5556 271.0343,-162.6943 261.8565,-167.9876 267.1606,-172.5556\"/>\n",
       "<text text-anchor=\"middle\" x=\"242.4369\" y=\"-194.636\" font-family=\"Times,serif\" font-size=\"14.00\" fill=\"#000000\">3</text>\n",
       "</g>\n",
       "<!-- 6&#45;&gt;3 -->\n",
       "<g id=\"edge4\" class=\"edge\">\n",
       "<title>6&#45;&gt;3</title>\n",
       "<path fill=\"none\" stroke=\"#000000\" d=\"M300.1655,-132.0848C311.5594,-121.218 327.2299,-106.2727 340.0884,-94.0092\"/>\n",
       "<polygon fill=\"#000000\" stroke=\"#000000\" points=\"342.8469,-96.2149 347.6678,-86.7804 338.0157,-91.1493 342.8469,-96.2149\"/>\n",
       "<text text-anchor=\"middle\" x=\"316.6269\" y=\"-115.847\" font-family=\"Times,serif\" font-size=\"14.00\" fill=\"#000000\">4</text>\n",
       "</g>\n",
       "</g>\n",
       "</svg>\n"
      ],
      "text/plain": [
       "DiGraph(DiNode[DiNode(1,Dict{Symbol,Any}()),DiNode(2,Dict{Symbol,Any}()),DiNode(3,Dict{Symbol,Any}()),DiNode(4,Dict{Symbol,Any}()),DiNode(5,Dict{Symbol,Any}()),DiNode(6,Dict{Symbol,Any}())],DiEdge[DiEdge(1=>4,Dict{Symbol,Any}(Pair{Symbol,Any}(:label,1),Pair{Symbol,Any}(:len,1.5))),DiEdge(4=>5,Dict{Symbol,Any}(Pair{Symbol,Any}(:label,2),Pair{Symbol,Any}(:len,1.5))),DiEdge(5=>6,Dict{Symbol,Any}(Pair{Symbol,Any}(:label,3),Pair{Symbol,Any}(:len,1.5))),DiEdge(6=>3,Dict{Symbol,Any}(Pair{Symbol,Any}(:label,4),Pair{Symbol,Any}(:len,1.5))),DiEdge(3=>2,Dict{Symbol,Any}(Pair{Symbol,Any}(:label,5),Pair{Symbol,Any}(:len,1.5)))],Dict{Symbol,Any}())"
      ]
     },
     "execution_count": 21,
     "metadata": {},
     "output_type": "execute_result"
    }
   ],
   "source": [
    "tree(g)"
   ]
  },
  {
   "cell_type": "markdown",
   "metadata": {},
   "source": [
    "We can do the same thing for our bigger random example:"
   ]
  },
  {
   "cell_type": "code",
   "execution_count": 22,
   "metadata": {
    "collapsed": false
   },
   "outputs": [
    {
     "data": {
      "image/svg+xml": [
       "<?xml version=\"1.0\" encoding=\"UTF-8\" standalone=\"no\"?>\n",
       "<!DOCTYPE svg PUBLIC \"-//W3C//DTD SVG 1.1//EN\"\n",
       " \"http://www.w3.org/Graphics/SVG/1.1/DTD/svg11.dtd\">\n",
       "<!-- Generated by graphviz version 2.40.1 (20161225.0304)\n",
       " -->\n",
       "<!-- Title: MyDiGraph Pages: 1 -->\n",
       "<svg width=\"549pt\" height=\"451pt\"\n",
       " viewBox=\"0.00 0.00 548.61 450.64\" xmlns=\"http://www.w3.org/2000/svg\" xmlns:xlink=\"http://www.w3.org/1999/xlink\">\n",
       "<g id=\"graph0\" class=\"graph\" transform=\"scale(1 1) rotate(0) translate(4 446.6432)\">\n",
       "<title>MyDiGraph</title>\n",
       "<polygon fill=\"#ffffff\" stroke=\"transparent\" points=\"-4,4 -4,-446.6432 544.6136,-446.6432 544.6136,4 -4,4\"/>\n",
       "<!-- 1 -->\n",
       "<g id=\"node1\" class=\"node\">\n",
       "<title>1</title>\n",
       "<ellipse fill=\"none\" stroke=\"#000000\" cx=\"298.8874\" cy=\"-289.6949\" rx=\"27\" ry=\"18\"/>\n",
       "<text text-anchor=\"middle\" x=\"298.8874\" y=\"-285.4949\" font-family=\"Times,serif\" font-size=\"14.00\" fill=\"#000000\">1</text>\n",
       "</g>\n",
       "<!-- 4 -->\n",
       "<g id=\"node4\" class=\"node\">\n",
       "<title>4</title>\n",
       "<ellipse fill=\"none\" stroke=\"#000000\" cx=\"323.8824\" cy=\"-202.3734\" rx=\"27\" ry=\"18\"/>\n",
       "<text text-anchor=\"middle\" x=\"323.8824\" y=\"-198.1734\" font-family=\"Times,serif\" font-size=\"14.00\" fill=\"#000000\">4</text>\n",
       "</g>\n",
       "<!-- 1&#45;&gt;4 -->\n",
       "<g id=\"edge1\" class=\"edge\">\n",
       "<title>1&#45;&gt;4</title>\n",
       "<path fill=\"none\" stroke=\"#ff0000\" d=\"M309.6066,-272.7272C314.3085,-260.7789 319.1811,-244.5191 322.31,-230.6352\"/>\n",
       "<polygon fill=\"#ff0000\" stroke=\"#ff0000\" points=\"325.7894,-231.086 324.3311,-220.592 318.927,-229.7049 325.7894,-231.086\"/>\n",
       "<text text-anchor=\"middle\" x=\"312.4583\" y=\"-254.4812\" font-family=\"Times,serif\" font-size=\"14.00\" fill=\"#ff0000\">1</text>\n",
       "</g>\n",
       "<!-- 14 -->\n",
       "<g id=\"node14\" class=\"node\">\n",
       "<title>14</title>\n",
       "<ellipse fill=\"none\" stroke=\"#000000\" cx=\"219.0172\" cy=\"-247.6322\" rx=\"27\" ry=\"18\"/>\n",
       "<text text-anchor=\"middle\" x=\"219.0172\" y=\"-243.4322\" font-family=\"Times,serif\" font-size=\"14.00\" fill=\"#000000\">14</text>\n",
       "</g>\n",
       "<!-- 1&#45;&gt;14 -->\n",
       "<g id=\"edge2\" class=\"edge\">\n",
       "<title>1&#45;&gt;14</title>\n",
       "<path fill=\"none\" stroke=\"#ff0000\" d=\"M277.4837,-278.4228C268.889,-273.8965 258.8228,-268.5953 249.4886,-263.6796\"/>\n",
       "<polygon fill=\"#ff0000\" stroke=\"#ff0000\" points=\"250.9589,-260.4983 240.48,-258.9353 247.6971,-266.6919 250.9589,-260.4983\"/>\n",
       "<text text-anchor=\"middle\" x=\"259.9861\" y=\"-273.8512\" font-family=\"Times,serif\" font-size=\"14.00\" fill=\"#ff0000\">2</text>\n",
       "</g>\n",
       "<!-- 2 -->\n",
       "<g id=\"node2\" class=\"node\">\n",
       "<title>2</title>\n",
       "<ellipse fill=\"none\" stroke=\"#000000\" cx=\"106.8275\" cy=\"-212.8945\" rx=\"27\" ry=\"18\"/>\n",
       "<text text-anchor=\"middle\" x=\"106.8275\" y=\"-208.6945\" font-family=\"Times,serif\" font-size=\"14.00\" fill=\"#000000\">2</text>\n",
       "</g>\n",
       "<!-- 3 -->\n",
       "<g id=\"node3\" class=\"node\">\n",
       "<title>3</title>\n",
       "<ellipse fill=\"none\" stroke=\"#000000\" cx=\"191.6936\" cy=\"-125.429\" rx=\"27\" ry=\"18\"/>\n",
       "<text text-anchor=\"middle\" x=\"191.6936\" y=\"-121.229\" font-family=\"Times,serif\" font-size=\"14.00\" fill=\"#000000\">3</text>\n",
       "</g>\n",
       "<!-- 3&#45;&gt;2 -->\n",
       "<g id=\"edge3\" class=\"edge\">\n",
       "<title>3&#45;&gt;2</title>\n",
       "<path fill=\"none\" stroke=\"#ff0000\" d=\"M176.911,-140.6643C163.6065,-154.3764 143.8785,-174.7087 128.74,-190.3108\"/>\n",
       "<polygon fill=\"#ff0000\" stroke=\"#ff0000\" points=\"126.1771,-187.9261 121.7254,-197.5403 131.2009,-192.8006 126.1771,-187.9261\"/>\n",
       "<text text-anchor=\"middle\" x=\"149.3255\" y=\"-168.2876\" font-family=\"Times,serif\" font-size=\"14.00\" fill=\"#ff0000\">3</text>\n",
       "</g>\n",
       "<!-- 4&#45;&gt;1 -->\n",
       "<g id=\"edge4\" class=\"edge\">\n",
       "<title>4&#45;&gt;1</title>\n",
       "<path fill=\"none\" stroke=\"#000000\" d=\"M313.1632,-219.341C308.4613,-231.2893 303.5887,-247.5492 300.4598,-261.433\"/>\n",
       "<polygon fill=\"#000000\" stroke=\"#000000\" points=\"296.9804,-260.9822 298.4387,-271.4762 303.8428,-262.3633 296.9804,-260.9822\"/>\n",
       "<text text-anchor=\"middle\" x=\"303.3115\" y=\"-243.187\" font-family=\"Times,serif\" font-size=\"14.00\" fill=\"#000000\">4</text>\n",
       "</g>\n",
       "<!-- 4&#45;&gt;3 -->\n",
       "<g id=\"edge5\" class=\"edge\">\n",
       "<title>4&#45;&gt;3</title>\n",
       "<path fill=\"none\" stroke=\"#ff0000\" d=\"M303.5176,-190.5194C281.4583,-177.6792 246.0691,-157.0799 221.0174,-142.4978\"/>\n",
       "<polygon fill=\"#ff0000\" stroke=\"#ff0000\" points=\"222.7026,-139.429 212.2993,-137.4232 219.1811,-145.4787 222.7026,-139.429\"/>\n",
       "<text text-anchor=\"middle\" x=\"258.7675\" y=\"-169.3086\" font-family=\"Times,serif\" font-size=\"14.00\" fill=\"#ff0000\">5</text>\n",
       "</g>\n",
       "<!-- 8 -->\n",
       "<g id=\"node8\" class=\"node\">\n",
       "<title>8</title>\n",
       "<ellipse fill=\"none\" stroke=\"#000000\" cx=\"400.3281\" cy=\"-318.6477\" rx=\"27\" ry=\"18\"/>\n",
       "<text text-anchor=\"middle\" x=\"400.3281\" y=\"-314.4477\" font-family=\"Times,serif\" font-size=\"14.00\" fill=\"#000000\">8</text>\n",
       "</g>\n",
       "<!-- 4&#45;&gt;8 -->\n",
       "<g id=\"edge6\" class=\"edge\">\n",
       "<title>4&#45;&gt;8</title>\n",
       "<path fill=\"none\" stroke=\"#ff0000\" d=\"M334.8352,-219.0326C347.6645,-238.5461 369.0463,-271.0678 383.873,-293.6194\"/>\n",
       "<polygon fill=\"#ff0000\" stroke=\"#ff0000\" points=\"380.9774,-295.5862 389.3956,-302.0193 386.8265,-291.7407 380.9774,-295.5862\"/>\n",
       "<text text-anchor=\"middle\" x=\"355.8541\" y=\"-259.126\" font-family=\"Times,serif\" font-size=\"14.00\" fill=\"#ff0000\">6</text>\n",
       "</g>\n",
       "<!-- 4&#45;&gt;14 -->\n",
       "<g id=\"edge7\" class=\"edge\">\n",
       "<title>4&#45;&gt;14</title>\n",
       "<path fill=\"none\" stroke=\"#000000\" d=\"M301.1282,-212.1938C286.562,-218.4805 267.4392,-226.7337 251.313,-233.6936\"/>\n",
       "<polygon fill=\"#000000\" stroke=\"#000000\" points=\"249.5214,-230.6547 241.727,-237.8309 252.2953,-237.0817 249.5214,-230.6547\"/>\n",
       "<text text-anchor=\"middle\" x=\"272.7206\" y=\"-225.7437\" font-family=\"Times,serif\" font-size=\"14.00\" fill=\"#000000\">7</text>\n",
       "</g>\n",
       "<!-- 5 -->\n",
       "<g id=\"node5\" class=\"node\">\n",
       "<title>5</title>\n",
       "<ellipse fill=\"none\" stroke=\"#000000\" cx=\"324.9919\" cy=\"-424.6432\" rx=\"27\" ry=\"18\"/>\n",
       "<text text-anchor=\"middle\" x=\"324.9919\" y=\"-420.4432\" font-family=\"Times,serif\" font-size=\"14.00\" fill=\"#000000\">5</text>\n",
       "</g>\n",
       "<!-- 5&#45;&gt;8 -->\n",
       "<g id=\"edge8\" class=\"edge\">\n",
       "<title>5&#45;&gt;8</title>\n",
       "<path fill=\"none\" stroke=\"#ff0000\" d=\"M336.7632,-408.0814C349.0919,-390.7353 368.5942,-363.2962 382.748,-343.3824\"/>\n",
       "<polygon fill=\"#ff0000\" stroke=\"#ff0000\" points=\"385.699,-345.2718 388.6395,-335.0932 379.9933,-341.2165 385.699,-345.2718\"/>\n",
       "<text text-anchor=\"middle\" x=\"356.2556\" y=\"-378.5319\" font-family=\"Times,serif\" font-size=\"14.00\" fill=\"#ff0000\">8</text>\n",
       "</g>\n",
       "<!-- 6 -->\n",
       "<g id=\"node6\" class=\"node\">\n",
       "<title>6</title>\n",
       "<ellipse fill=\"none\" stroke=\"#000000\" cx=\"27\" cy=\"-304.8876\" rx=\"27\" ry=\"18\"/>\n",
       "<text text-anchor=\"middle\" x=\"27\" y=\"-300.6876\" font-family=\"Times,serif\" font-size=\"14.00\" fill=\"#000000\">6</text>\n",
       "</g>\n",
       "<!-- 6&#45;&gt;2 -->\n",
       "<g id=\"edge9\" class=\"edge\">\n",
       "<title>6&#45;&gt;2</title>\n",
       "<path fill=\"none\" stroke=\"#ff0000\" d=\"M40.5416,-289.2822C53.1566,-274.7447 72.1333,-252.876 86.554,-236.2576\"/>\n",
       "<polygon fill=\"#ff0000\" stroke=\"#ff0000\" points=\"89.3089,-238.4232 93.2194,-228.5764 84.0219,-233.8354 89.3089,-238.4232\"/>\n",
       "<text text-anchor=\"middle\" x=\"60.0478\" y=\"-265.5699\" font-family=\"Times,serif\" font-size=\"14.00\" fill=\"#ff0000\">9</text>\n",
       "</g>\n",
       "<!-- 7 -->\n",
       "<g id=\"node7\" class=\"node\">\n",
       "<title>7</title>\n",
       "<ellipse fill=\"none\" stroke=\"#000000\" cx=\"105.9775\" cy=\"-32.3288\" rx=\"27\" ry=\"18\"/>\n",
       "<text text-anchor=\"middle\" x=\"105.9775\" y=\"-28.1288\" font-family=\"Times,serif\" font-size=\"14.00\" fill=\"#000000\">7</text>\n",
       "</g>\n",
       "<!-- 7&#45;&gt;3 -->\n",
       "<g id=\"edge10\" class=\"edge\">\n",
       "<title>7&#45;&gt;3</title>\n",
       "<path fill=\"none\" stroke=\"#ff0000\" d=\"M120.1317,-47.7024C133.9042,-62.6614 154.9958,-85.5698 170.718,-102.6464\"/>\n",
       "<polygon fill=\"#ff0000\" stroke=\"#ff0000\" points=\"168.1701,-105.0464 177.5183,-110.0326 173.3198,-100.3051 168.1701,-105.0464\"/>\n",
       "<text text-anchor=\"middle\" x=\"138.4249\" y=\"-77.9744\" font-family=\"Times,serif\" font-size=\"14.00\" fill=\"#ff0000\">10</text>\n",
       "</g>\n",
       "<!-- 9 -->\n",
       "<g id=\"node9\" class=\"node\">\n",
       "<title>9</title>\n",
       "<ellipse fill=\"none\" stroke=\"#000000\" cx=\"513.6136\" cy=\"-279.0527\" rx=\"27\" ry=\"18\"/>\n",
       "<text text-anchor=\"middle\" x=\"513.6136\" y=\"-274.8527\" font-family=\"Times,serif\" font-size=\"14.00\" fill=\"#000000\">9</text>\n",
       "</g>\n",
       "<!-- 9&#45;&gt;8 -->\n",
       "<g id=\"edge11\" class=\"edge\">\n",
       "<title>9&#45;&gt;8</title>\n",
       "<path fill=\"none\" stroke=\"#ff0000\" d=\"M489.5887,-287.4498C473.3677,-293.1193 451.7328,-300.681 433.8254,-306.9399\"/>\n",
       "<polygon fill=\"#ff0000\" stroke=\"#ff0000\" points=\"432.6036,-303.6592 424.3184,-310.2627 434.9133,-310.2672 432.6036,-303.6592\"/>\n",
       "<text text-anchor=\"middle\" x=\"454.9634\" y=\"-299.9948\" font-family=\"Times,serif\" font-size=\"14.00\" fill=\"#ff0000\">11</text>\n",
       "</g>\n",
       "<!-- 10 -->\n",
       "<g id=\"node10\" class=\"node\">\n",
       "<title>10</title>\n",
       "<ellipse fill=\"none\" stroke=\"#000000\" cx=\"238.5848\" cy=\"-18\" rx=\"27\" ry=\"18\"/>\n",
       "<text text-anchor=\"middle\" x=\"238.5848\" y=\"-13.8\" font-family=\"Times,serif\" font-size=\"14.00\" fill=\"#000000\">10</text>\n",
       "</g>\n",
       "<!-- 10&#45;&gt;3 -->\n",
       "<g id=\"edge12\" class=\"edge\">\n",
       "<title>10&#45;&gt;3</title>\n",
       "<path fill=\"none\" stroke=\"#ff0000\" d=\"M230.8417,-35.7397C223.3647,-52.8697 211.9445,-79.0336 203.3651,-98.6892\"/>\n",
       "<polygon fill=\"#ff0000\" stroke=\"#ff0000\" points=\"200.0853,-97.4542 199.2926,-108.0194 206.5008,-100.2546 200.0853,-97.4542\"/>\n",
       "<text text-anchor=\"middle\" x=\"210.1034\" y=\"-70.0145\" font-family=\"Times,serif\" font-size=\"14.00\" fill=\"#ff0000\">12</text>\n",
       "</g>\n",
       "<!-- 11 -->\n",
       "<g id=\"node11\" class=\"node\">\n",
       "<title>11</title>\n",
       "<ellipse fill=\"none\" stroke=\"#000000\" cx=\"89.7887\" cy=\"-410.7034\" rx=\"27\" ry=\"18\"/>\n",
       "<text text-anchor=\"middle\" x=\"89.7887\" y=\"-406.5034\" font-family=\"Times,serif\" font-size=\"14.00\" fill=\"#000000\">11</text>\n",
       "</g>\n",
       "<!-- 11&#45;&gt;6 -->\n",
       "<g id=\"edge13\" class=\"edge\">\n",
       "<title>11&#45;&gt;6</title>\n",
       "<path fill=\"none\" stroke=\"#ff0000\" d=\"M79.7006,-393.7023C69.5855,-376.6556 53.8831,-350.1929 42.2471,-330.5831\"/>\n",
       "<polygon fill=\"#ff0000\" stroke=\"#ff0000\" points=\"45.1761,-328.6604 37.0631,-321.8465 39.1561,-332.2326 45.1761,-328.6604\"/>\n",
       "<text text-anchor=\"middle\" x=\"53.9739\" y=\"-364.9427\" font-family=\"Times,serif\" font-size=\"14.00\" fill=\"#ff0000\">13</text>\n",
       "</g>\n",
       "<!-- 12 -->\n",
       "<g id=\"node12\" class=\"node\">\n",
       "<title>12</title>\n",
       "<ellipse fill=\"none\" stroke=\"#000000\" cx=\"206.935\" cy=\"-381.2111\" rx=\"27\" ry=\"18\"/>\n",
       "<text text-anchor=\"middle\" x=\"206.935\" y=\"-377.0111\" font-family=\"Times,serif\" font-size=\"14.00\" fill=\"#000000\">12</text>\n",
       "</g>\n",
       "<!-- 12&#45;&gt;5 -->\n",
       "<g id=\"edge14\" class=\"edge\">\n",
       "<title>12&#45;&gt;5</title>\n",
       "<path fill=\"none\" stroke=\"#ff0000\" d=\"M230.8256,-390.0002C248.2676,-396.417 272.145,-405.2013 291.4912,-412.3185\"/>\n",
       "<polygon fill=\"#ff0000\" stroke=\"#ff0000\" points=\"290.5433,-415.6991 301.1369,-415.8671 292.9603,-409.1296 290.5433,-415.6991\"/>\n",
       "<text text-anchor=\"middle\" x=\"254.1584\" y=\"-403.9594\" font-family=\"Times,serif\" font-size=\"14.00\" fill=\"#ff0000\">14</text>\n",
       "</g>\n",
       "<!-- 12&#45;&gt;11 -->\n",
       "<g id=\"edge15\" class=\"edge\">\n",
       "<title>12&#45;&gt;11</title>\n",
       "<path fill=\"none\" stroke=\"#000000\" d=\"M181.516,-387.6105C165.0136,-391.765 143.276,-397.2376 125.104,-401.8125\"/>\n",
       "<polygon fill=\"#000000\" stroke=\"#000000\" points=\"124.001,-398.481 115.1581,-404.3165 125.71,-405.2691 124.001,-398.481\"/>\n",
       "<text text-anchor=\"middle\" x=\"146.31\" y=\"-397.5115\" font-family=\"Times,serif\" font-size=\"14.00\" fill=\"#000000\">15</text>\n",
       "</g>\n",
       "<!-- 12&#45;&gt;14 -->\n",
       "<g id=\"edge16\" class=\"edge\">\n",
       "<title>12&#45;&gt;14</title>\n",
       "<path fill=\"none\" stroke=\"#000000\" d=\"M208.5645,-363.196C210.5912,-340.7888 214.0745,-302.2773 216.4587,-275.9178\"/>\n",
       "<polygon fill=\"#000000\" stroke=\"#000000\" points=\"219.9598,-276.0631 217.3749,-265.7884 212.9883,-275.4324 219.9598,-276.0631\"/>\n",
       "<text text-anchor=\"middle\" x=\"205.5116\" y=\"-322.3569\" font-family=\"Times,serif\" font-size=\"14.00\" fill=\"#000000\">16</text>\n",
       "</g>\n",
       "<!-- 13 -->\n",
       "<g id=\"node13\" class=\"node\">\n",
       "<title>13</title>\n",
       "<ellipse fill=\"none\" stroke=\"#000000\" cx=\"447.4132\" cy=\"-174.5719\" rx=\"27\" ry=\"18\"/>\n",
       "<text text-anchor=\"middle\" x=\"447.4132\" y=\"-170.3719\" font-family=\"Times,serif\" font-size=\"14.00\" fill=\"#000000\">13</text>\n",
       "</g>\n",
       "<!-- 13&#45;&gt;4 -->\n",
       "<g id=\"edge17\" class=\"edge\">\n",
       "<title>13&#45;&gt;4</title>\n",
       "<path fill=\"none\" stroke=\"#ff0000\" d=\"M421.8175,-180.3324C403.884,-184.3685 379.6692,-189.8182 359.805,-194.2887\"/>\n",
       "<polygon fill=\"#ff0000\" stroke=\"#ff0000\" points=\"358.8577,-190.9143 349.8703,-196.5246 360.3947,-197.7435 358.8577,-190.9143\"/>\n",
       "<text text-anchor=\"middle\" x=\"383.8113\" y=\"-190.1106\" font-family=\"Times,serif\" font-size=\"14.00\" fill=\"#ff0000\">17</text>\n",
       "</g>\n",
       "<!-- 13&#45;&gt;9 -->\n",
       "<g id=\"edge18\" class=\"edge\">\n",
       "<title>13&#45;&gt;9</title>\n",
       "<path fill=\"none\" stroke=\"#000000\" d=\"M458.0494,-191.3585C468.7142,-208.1902 485.2697,-234.319 497.538,-253.6813\"/>\n",
       "<polygon fill=\"#000000\" stroke=\"#000000\" points=\"494.695,-255.7338 503.0038,-262.3077 500.608,-251.9873 494.695,-255.7338\"/>\n",
       "<text text-anchor=\"middle\" x=\"470.7937\" y=\"-225.3199\" font-family=\"Times,serif\" font-size=\"14.00\" fill=\"#000000\">18</text>\n",
       "</g>\n",
       "<!-- 14&#45;&gt;2 -->\n",
       "<g id=\"edge19\" class=\"edge\">\n",
       "<title>14&#45;&gt;2</title>\n",
       "<path fill=\"none\" stroke=\"#000000\" d=\"M194.3967,-240.0088C178.76,-235.1672 158.2991,-228.8318 141.0878,-223.5026\"/>\n",
       "<polygon fill=\"#000000\" stroke=\"#000000\" points=\"141.9784,-220.1145 131.3905,-220.5 139.9078,-226.8013 141.9784,-220.1145\"/>\n",
       "<text text-anchor=\"middle\" x=\"160.7422\" y=\"-234.5557\" font-family=\"Times,serif\" font-size=\"14.00\" fill=\"#000000\">19</text>\n",
       "</g>\n",
       "<!-- 15 -->\n",
       "<g id=\"node15\" class=\"node\">\n",
       "<title>15</title>\n",
       "<ellipse fill=\"none\" stroke=\"#000000\" cx=\"265.8631\" cy=\"-115.2466\" rx=\"27\" ry=\"18\"/>\n",
       "<text text-anchor=\"middle\" x=\"265.8631\" y=\"-111.0466\" font-family=\"Times,serif\" font-size=\"14.00\" fill=\"#000000\">15</text>\n",
       "</g>\n",
       "<!-- 14&#45;&gt;15 -->\n",
       "<g id=\"edge20\" class=\"edge\">\n",
       "<title>14&#45;&gt;15</title>\n",
       "<path fill=\"none\" stroke=\"#ff0000\" d=\"M225.238,-230.0524C233.1479,-207.6991 246.891,-168.8614 256.1779,-142.6168\"/>\n",
       "<polygon fill=\"#ff0000\" stroke=\"#ff0000\" points=\"259.5802,-143.4939 259.6166,-132.8991 252.9812,-141.1587 259.5802,-143.4939\"/>\n",
       "<text text-anchor=\"middle\" x=\"233.7079\" y=\"-189.1346\" font-family=\"Times,serif\" font-size=\"14.00\" fill=\"#ff0000\">20</text>\n",
       "</g>\n",
       "<!-- 15&#45;&gt;10 -->\n",
       "<g id=\"edge21\" class=\"edge\">\n",
       "<title>15&#45;&gt;10</title>\n",
       "<path fill=\"none\" stroke=\"#000000\" d=\"M260.8599,-97.4101C256.7839,-82.8794 250.96,-62.1173 246.2895,-45.4669\"/>\n",
       "<polygon fill=\"#000000\" stroke=\"#000000\" points=\"249.6272,-44.4065 243.5564,-35.7234 242.8873,-46.2971 249.6272,-44.4065\"/>\n",
       "<text text-anchor=\"middle\" x=\"246.5747\" y=\"-74.2385\" font-family=\"Times,serif\" font-size=\"14.00\" fill=\"#000000\">21</text>\n",
       "</g>\n",
       "</g>\n",
       "</svg>\n"
      ],
      "text/plain": [
       "DiGraph(DiNode[DiNode(1,Dict{Symbol,Any}()),DiNode(2,Dict{Symbol,Any}()),DiNode(3,Dict{Symbol,Any}()),DiNode(4,Dict{Symbol,Any}()),DiNode(5,Dict{Symbol,Any}()),DiNode(6,Dict{Symbol,Any}()),DiNode(7,Dict{Symbol,Any}()),DiNode(8,Dict{Symbol,Any}()),DiNode(9,Dict{Symbol,Any}()),DiNode(10,Dict{Symbol,Any}()),DiNode(11,Dict{Symbol,Any}()),DiNode(12,Dict{Symbol,Any}()),DiNode(13,Dict{Symbol,Any}()),DiNode(14,Dict{Symbol,Any}()),DiNode(15,Dict{Symbol,Any}())],DiEdge[DiEdge(1=>4,Dict{Symbol,Any}(Pair{Symbol,Any}(:label,1),Pair{Symbol,Any}(:len,1.5),Pair{Symbol,Any}(:color,\"red\"),Pair{Symbol,Any}(:fontcolor,\"red\"))),DiEdge(1=>14,Dict{Symbol,Any}(Pair{Symbol,Any}(:label,2),Pair{Symbol,Any}(:len,1.5),Pair{Symbol,Any}(:color,\"red\"),Pair{Symbol,Any}(:fontcolor,\"red\"))),DiEdge(3=>2,Dict{Symbol,Any}(Pair{Symbol,Any}(:label,3),Pair{Symbol,Any}(:len,1.5),Pair{Symbol,Any}(:color,\"red\"),Pair{Symbol,Any}(:fontcolor,\"red\"))),DiEdge(4=>1,Dict{Symbol,Any}(Pair{Symbol,Any}(:label,4),Pair{Symbol,Any}(:len,1.5))),DiEdge(4=>3,Dict{Symbol,Any}(Pair{Symbol,Any}(:label,5),Pair{Symbol,Any}(:len,1.5),Pair{Symbol,Any}(:color,\"red\"),Pair{Symbol,Any}(:fontcolor,\"red\"))),DiEdge(4=>8,Dict{Symbol,Any}(Pair{Symbol,Any}(:label,6),Pair{Symbol,Any}(:len,1.5),Pair{Symbol,Any}(:color,\"red\"),Pair{Symbol,Any}(:fontcolor,\"red\"))),DiEdge(4=>14,Dict{Symbol,Any}(Pair{Symbol,Any}(:label,7),Pair{Symbol,Any}(:len,1.5))),DiEdge(5=>8,Dict{Symbol,Any}(Pair{Symbol,Any}(:label,8),Pair{Symbol,Any}(:len,1.5),Pair{Symbol,Any}(:color,\"red\"),Pair{Symbol,Any}(:fontcolor,\"red\"))),DiEdge(6=>2,Dict{Symbol,Any}(Pair{Symbol,Any}(:label,9),Pair{Symbol,Any}(:len,1.5),Pair{Symbol,Any}(:color,\"red\"),Pair{Symbol,Any}(:fontcolor,\"red\"))),DiEdge(7=>3,Dict{Symbol,Any}(Pair{Symbol,Any}(:label,10),Pair{Symbol,Any}(:len,1.5),Pair{Symbol,Any}(:color,\"red\"),Pair{Symbol,Any}(:fontcolor,\"red\")))  …  DiEdge(10=>3,Dict{Symbol,Any}(Pair{Symbol,Any}(:label,12),Pair{Symbol,Any}(:len,1.5),Pair{Symbol,Any}(:color,\"red\"),Pair{Symbol,Any}(:fontcolor,\"red\"))),DiEdge(11=>6,Dict{Symbol,Any}(Pair{Symbol,Any}(:label,13),Pair{Symbol,Any}(:len,1.5),Pair{Symbol,Any}(:color,\"red\"),Pair{Symbol,Any}(:fontcolor,\"red\"))),DiEdge(12=>5,Dict{Symbol,Any}(Pair{Symbol,Any}(:label,14),Pair{Symbol,Any}(:len,1.5),Pair{Symbol,Any}(:color,\"red\"),Pair{Symbol,Any}(:fontcolor,\"red\"))),DiEdge(12=>11,Dict{Symbol,Any}(Pair{Symbol,Any}(:label,15),Pair{Symbol,Any}(:len,1.5))),DiEdge(12=>14,Dict{Symbol,Any}(Pair{Symbol,Any}(:label,16),Pair{Symbol,Any}(:len,1.5))),DiEdge(13=>4,Dict{Symbol,Any}(Pair{Symbol,Any}(:label,17),Pair{Symbol,Any}(:len,1.5),Pair{Symbol,Any}(:color,\"red\"),Pair{Symbol,Any}(:fontcolor,\"red\"))),DiEdge(13=>9,Dict{Symbol,Any}(Pair{Symbol,Any}(:label,18),Pair{Symbol,Any}(:len,1.5))),DiEdge(14=>2,Dict{Symbol,Any}(Pair{Symbol,Any}(:label,19),Pair{Symbol,Any}(:len,1.5))),DiEdge(14=>15,Dict{Symbol,Any}(Pair{Symbol,Any}(:label,20),Pair{Symbol,Any}(:len,1.5),Pair{Symbol,Any}(:color,\"red\"),Pair{Symbol,Any}(:fontcolor,\"red\"))),DiEdge(15=>10,Dict{Symbol,Any}(Pair{Symbol,Any}(:label,21),Pair{Symbol,Any}(:len,1.5)))],Dict{Symbol,Any}())"
      ]
     },
     "execution_count": 22,
     "metadata": {},
     "output_type": "execute_result"
    }
   ],
   "source": [
    "colortree(gbig)"
   ]
  },
  {
   "cell_type": "code",
   "execution_count": 23,
   "metadata": {
    "collapsed": false
   },
   "outputs": [
    {
     "data": {
      "image/svg+xml": [
       "<?xml version=\"1.0\" encoding=\"UTF-8\" standalone=\"no\"?>\n",
       "<!DOCTYPE svg PUBLIC \"-//W3C//DTD SVG 1.1//EN\"\n",
       " \"http://www.w3.org/Graphics/SVG/1.1/DTD/svg11.dtd\">\n",
       "<!-- Generated by graphviz version 2.40.1 (20161225.0304)\n",
       " -->\n",
       "<!-- Title: MyDiGraph Pages: 1 -->\n",
       "<svg width=\"579pt\" height=\"800pt\"\n",
       " viewBox=\"0.00 0.00 579.08 800.38\" xmlns=\"http://www.w3.org/2000/svg\" xmlns:xlink=\"http://www.w3.org/1999/xlink\">\n",
       "<g id=\"graph0\" class=\"graph\" transform=\"scale(1 1) rotate(0) translate(4 796.3775)\">\n",
       "<title>MyDiGraph</title>\n",
       "<polygon fill=\"#ffffff\" stroke=\"transparent\" points=\"-4,4 -4,-796.3775 575.082,-796.3775 575.082,4 -4,4\"/>\n",
       "<!-- 1 -->\n",
       "<g id=\"node1\" class=\"node\">\n",
       "<title>1</title>\n",
       "<ellipse fill=\"none\" stroke=\"#000000\" cx=\"379.5934\" cy=\"-609.2368\" rx=\"27\" ry=\"18\"/>\n",
       "<text text-anchor=\"middle\" x=\"379.5934\" y=\"-605.0368\" font-family=\"Times,serif\" font-size=\"14.00\" fill=\"#000000\">1</text>\n",
       "</g>\n",
       "<!-- 4 -->\n",
       "<g id=\"node4\" class=\"node\">\n",
       "<title>4</title>\n",
       "<ellipse fill=\"none\" stroke=\"#000000\" cx=\"311.1871\" cy=\"-496.7549\" rx=\"27\" ry=\"18\"/>\n",
       "<text text-anchor=\"middle\" x=\"311.1871\" y=\"-492.5549\" font-family=\"Times,serif\" font-size=\"14.00\" fill=\"#000000\">4</text>\n",
       "</g>\n",
       "<!-- 1&#45;&gt;4 -->\n",
       "<g id=\"edge1\" class=\"edge\">\n",
       "<title>1&#45;&gt;4</title>\n",
       "<path fill=\"none\" stroke=\"#000000\" d=\"M369.2039,-592.1532C357.8884,-573.5468 339.6695,-543.589 326.6676,-522.2099\"/>\n",
       "<polygon fill=\"#000000\" stroke=\"#000000\" points=\"329.6367,-520.3561 321.4502,-513.6307 323.6559,-523.9934 329.6367,-520.3561\"/>\n",
       "<text text-anchor=\"middle\" x=\"344.4358\" y=\"-559.9815\" font-family=\"Times,serif\" font-size=\"14.00\" fill=\"#000000\">1</text>\n",
       "</g>\n",
       "<!-- 14 -->\n",
       "<g id=\"node14\" class=\"node\">\n",
       "<title>14</title>\n",
       "<ellipse fill=\"none\" stroke=\"#000000\" cx=\"465.2262\" cy=\"-693.6008\" rx=\"27\" ry=\"18\"/>\n",
       "<text text-anchor=\"middle\" x=\"465.2262\" y=\"-689.4008\" font-family=\"Times,serif\" font-size=\"14.00\" fill=\"#000000\">14</text>\n",
       "</g>\n",
       "<!-- 1&#45;&gt;14 -->\n",
       "<g id=\"edge2\" class=\"edge\">\n",
       "<title>1&#45;&gt;14</title>\n",
       "<path fill=\"none\" stroke=\"#000000\" d=\"M394.9028,-624.3194C408.176,-637.3959 427.5652,-656.4978 442.6244,-671.3339\"/>\n",
       "<polygon fill=\"#000000\" stroke=\"#000000\" points=\"440.4693,-674.124 450.0493,-678.6488 445.382,-669.1374 440.4693,-674.124\"/>\n",
       "<text text-anchor=\"middle\" x=\"415.2636\" y=\"-650.6266\" font-family=\"Times,serif\" font-size=\"14.00\" fill=\"#000000\">2</text>\n",
       "</g>\n",
       "<!-- 2 -->\n",
       "<g id=\"node2\" class=\"node\">\n",
       "<title>2</title>\n",
       "<ellipse fill=\"none\" stroke=\"#000000\" cx=\"358.8333\" cy=\"-242.3447\" rx=\"27\" ry=\"18\"/>\n",
       "<text text-anchor=\"middle\" x=\"358.8333\" y=\"-238.1447\" font-family=\"Times,serif\" font-size=\"14.00\" fill=\"#000000\">2</text>\n",
       "</g>\n",
       "<!-- 3 -->\n",
       "<g id=\"node3\" class=\"node\">\n",
       "<title>3</title>\n",
       "<ellipse fill=\"none\" stroke=\"#000000\" cx=\"336.5903\" cy=\"-364.1274\" rx=\"27\" ry=\"18\"/>\n",
       "<text text-anchor=\"middle\" x=\"336.5903\" y=\"-359.9274\" font-family=\"Times,serif\" font-size=\"14.00\" fill=\"#000000\">3</text>\n",
       "</g>\n",
       "<!-- 3&#45;&gt;2 -->\n",
       "<g id=\"edge3\" class=\"edge\">\n",
       "<title>3&#45;&gt;2</title>\n",
       "<path fill=\"none\" stroke=\"#000000\" d=\"M339.8724,-346.158C343.5192,-326.1909 349.4543,-293.6957 353.7132,-270.3778\"/>\n",
       "<polygon fill=\"#000000\" stroke=\"#000000\" points=\"357.184,-270.854 355.5378,-260.3879 350.2979,-269.5962 357.184,-270.854\"/>\n",
       "<text text-anchor=\"middle\" x=\"343.2928\" y=\"-311.0679\" font-family=\"Times,serif\" font-size=\"14.00\" fill=\"#000000\">3</text>\n",
       "</g>\n",
       "<!-- 4&#45;&gt;3 -->\n",
       "<g id=\"edge4\" class=\"edge\">\n",
       "<title>4&#45;&gt;3</title>\n",
       "<path fill=\"none\" stroke=\"#000000\" d=\"M314.6131,-478.8682C318.8744,-456.6205 326.1982,-418.3834 331.2111,-392.2116\"/>\n",
       "<polygon fill=\"#000000\" stroke=\"#000000\" points=\"334.6937,-392.6343 333.1375,-382.1544 327.8187,-391.3174 334.6937,-392.6343\"/>\n",
       "<text text-anchor=\"middle\" x=\"319.4121\" y=\"-438.3399\" font-family=\"Times,serif\" font-size=\"14.00\" fill=\"#000000\">5</text>\n",
       "</g>\n",
       "<!-- 8 -->\n",
       "<g id=\"node8\" class=\"node\">\n",
       "<title>8</title>\n",
       "<ellipse fill=\"none\" stroke=\"#000000\" cx=\"189.4693\" cy=\"-541.5382\" rx=\"27\" ry=\"18\"/>\n",
       "<text text-anchor=\"middle\" x=\"189.4693\" y=\"-537.3382\" font-family=\"Times,serif\" font-size=\"14.00\" fill=\"#000000\">8</text>\n",
       "</g>\n",
       "<!-- 4&#45;&gt;8 -->\n",
       "<g id=\"edge5\" class=\"edge\">\n",
       "<title>4&#45;&gt;8</title>\n",
       "<path fill=\"none\" stroke=\"#000000\" d=\"M287.4297,-505.4959C268.9987,-512.2772 243.2264,-521.7595 222.7424,-529.2962\"/>\n",
       "<polygon fill=\"#000000\" stroke=\"#000000\" points=\"221.3431,-526.0815 213.1667,-532.8193 223.7602,-532.651 221.3431,-526.0815\"/>\n",
       "<text text-anchor=\"middle\" x=\"251.586\" y=\"-520.196\" font-family=\"Times,serif\" font-size=\"14.00\" fill=\"#000000\">6</text>\n",
       "</g>\n",
       "<!-- 5 -->\n",
       "<g id=\"node5\" class=\"node\">\n",
       "<title>5</title>\n",
       "<ellipse fill=\"none\" stroke=\"#000000\" cx=\"118.6026\" cy=\"-640.4941\" rx=\"27\" ry=\"18\"/>\n",
       "<text text-anchor=\"middle\" x=\"118.6026\" y=\"-636.2941\" font-family=\"Times,serif\" font-size=\"14.00\" fill=\"#000000\">5</text>\n",
       "</g>\n",
       "<!-- 5&#45;&gt;8 -->\n",
       "<g id=\"edge6\" class=\"edge\">\n",
       "<title>5&#45;&gt;8</title>\n",
       "<path fill=\"none\" stroke=\"#000000\" d=\"M130.3048,-624.1535C141.5888,-608.397 158.8153,-584.3425 171.7751,-566.2458\"/>\n",
       "<polygon fill=\"#000000\" stroke=\"#000000\" points=\"174.7729,-568.0711 177.7497,-557.9031 169.0817,-563.9954 174.7729,-568.0711\"/>\n",
       "<text text-anchor=\"middle\" x=\"147.5399\" y=\"-597.9997\" font-family=\"Times,serif\" font-size=\"14.00\" fill=\"#000000\">8</text>\n",
       "</g>\n",
       "<!-- 6 -->\n",
       "<g id=\"node6\" class=\"node\">\n",
       "<title>6</title>\n",
       "<ellipse fill=\"none\" stroke=\"#000000\" cx=\"377.5696\" cy=\"-128.7589\" rx=\"27\" ry=\"18\"/>\n",
       "<text text-anchor=\"middle\" x=\"377.5696\" y=\"-124.5589\" font-family=\"Times,serif\" font-size=\"14.00\" fill=\"#000000\">6</text>\n",
       "</g>\n",
       "<!-- 6&#45;&gt;2 -->\n",
       "<g id=\"edge7\" class=\"edge\">\n",
       "<title>6&#45;&gt;2</title>\n",
       "<path fill=\"none\" stroke=\"#000000\" d=\"M374.6008,-146.7569C371.5995,-164.9516 366.9197,-193.3221 363.437,-214.4352\"/>\n",
       "<polygon fill=\"#000000\" stroke=\"#000000\" points=\"359.9625,-213.9945 361.7882,-224.4309 366.8692,-215.1339 359.9625,-213.9945\"/>\n",
       "<text text-anchor=\"middle\" x=\"365.5189\" y=\"-183.3961\" font-family=\"Times,serif\" font-size=\"14.00\" fill=\"#000000\">9</text>\n",
       "</g>\n",
       "<!-- 7 -->\n",
       "<g id=\"node7\" class=\"node\">\n",
       "<title>7</title>\n",
       "<ellipse fill=\"none\" stroke=\"#000000\" cx=\"230.1467\" cy=\"-306.0635\" rx=\"27\" ry=\"18\"/>\n",
       "<text text-anchor=\"middle\" x=\"230.1467\" y=\"-301.8635\" font-family=\"Times,serif\" font-size=\"14.00\" fill=\"#000000\">7</text>\n",
       "</g>\n",
       "<!-- 7&#45;&gt;3 -->\n",
       "<g id=\"edge8\" class=\"edge\">\n",
       "<title>7&#45;&gt;3</title>\n",
       "<path fill=\"none\" stroke=\"#000000\" d=\"M251.1765,-317.5351C267.0676,-326.2035 289.0918,-338.2175 306.7955,-347.8747\"/>\n",
       "<polygon fill=\"#000000\" stroke=\"#000000\" points=\"305.1493,-350.9635 315.6042,-352.6797 308.5014,-344.8183 305.1493,-350.9635\"/>\n",
       "<text text-anchor=\"middle\" x=\"271.986\" y=\"-335.5049\" font-family=\"Times,serif\" font-size=\"14.00\" fill=\"#000000\">10</text>\n",
       "</g>\n",
       "<!-- 9 -->\n",
       "<g id=\"node9\" class=\"node\">\n",
       "<title>9</title>\n",
       "<ellipse fill=\"none\" stroke=\"#000000\" cx=\"78.6571\" cy=\"-489.2759\" rx=\"27\" ry=\"18\"/>\n",
       "<text text-anchor=\"middle\" x=\"78.6571\" y=\"-485.0759\" font-family=\"Times,serif\" font-size=\"14.00\" fill=\"#000000\">9</text>\n",
       "</g>\n",
       "<!-- 9&#45;&gt;8 -->\n",
       "<g id=\"edge9\" class=\"edge\">\n",
       "<title>9&#45;&gt;8</title>\n",
       "<path fill=\"none\" stroke=\"#000000\" d=\"M100.8153,-499.7263C117.2733,-507.4885 139.9423,-518.1798 158.2372,-526.8083\"/>\n",
       "<polygon fill=\"#000000\" stroke=\"#000000\" points=\"156.812,-530.0058 167.3495,-531.1059 159.798,-523.6746 156.812,-530.0058\"/>\n",
       "<text text-anchor=\"middle\" x=\"122.7826\" y=\"-516.0673\" font-family=\"Times,serif\" font-size=\"14.00\" fill=\"#000000\">11</text>\n",
       "</g>\n",
       "<!-- 10 -->\n",
       "<g id=\"node10\" class=\"node\">\n",
       "<title>10</title>\n",
       "<ellipse fill=\"none\" stroke=\"#000000\" cx=\"460.7862\" cy=\"-344.3819\" rx=\"27\" ry=\"18\"/>\n",
       "<text text-anchor=\"middle\" x=\"460.7862\" y=\"-340.1819\" font-family=\"Times,serif\" font-size=\"14.00\" fill=\"#000000\">10</text>\n",
       "</g>\n",
       "<!-- 10&#45;&gt;3 -->\n",
       "<g id=\"edge10\" class=\"edge\">\n",
       "<title>10&#45;&gt;3</title>\n",
       "<path fill=\"none\" stroke=\"#000000\" d=\"M434.4475,-348.5694C416.4995,-351.4229 392.506,-355.2376 372.7695,-358.3754\"/>\n",
       "<polygon fill=\"#000000\" stroke=\"#000000\" points=\"372.2175,-354.9191 362.8911,-359.9459 373.3167,-361.8323 372.2175,-354.9191\"/>\n",
       "<text text-anchor=\"middle\" x=\"396.6085\" y=\"-356.2724\" font-family=\"Times,serif\" font-size=\"14.00\" fill=\"#000000\">12</text>\n",
       "</g>\n",
       "<!-- 11 -->\n",
       "<g id=\"node11\" class=\"node\">\n",
       "<title>11</title>\n",
       "<ellipse fill=\"none\" stroke=\"#000000\" cx=\"379.6611\" cy=\"-18\" rx=\"27\" ry=\"18\"/>\n",
       "<text text-anchor=\"middle\" x=\"379.6611\" y=\"-13.8\" font-family=\"Times,serif\" font-size=\"14.00\" fill=\"#000000\">11</text>\n",
       "</g>\n",
       "<!-- 11&#45;&gt;6 -->\n",
       "<g id=\"edge11\" class=\"edge\">\n",
       "<title>11&#45;&gt;6</title>\n",
       "<path fill=\"none\" stroke=\"#000000\" d=\"M379.3157,-36.2896C378.9872,-53.685 378.4881,-80.1166 378.1076,-100.272\"/>\n",
       "<polygon fill=\"#000000\" stroke=\"#000000\" points=\"374.605,-100.3778 377.9155,-110.4421 381.6038,-100.51 374.605,-100.3778\"/>\n",
       "<text text-anchor=\"middle\" x=\"371.7116\" y=\"-71.0808\" font-family=\"Times,serif\" font-size=\"14.00\" fill=\"#000000\">13</text>\n",
       "</g>\n",
       "<!-- 12 -->\n",
       "<g id=\"node12\" class=\"node\">\n",
       "<title>12</title>\n",
       "<ellipse fill=\"none\" stroke=\"#000000\" cx=\"27\" cy=\"-709.8456\" rx=\"27\" ry=\"18\"/>\n",
       "<text text-anchor=\"middle\" x=\"27\" y=\"-705.6456\" font-family=\"Times,serif\" font-size=\"14.00\" fill=\"#000000\">12</text>\n",
       "</g>\n",
       "<!-- 12&#45;&gt;5 -->\n",
       "<g id=\"edge12\" class=\"edge\">\n",
       "<title>12&#45;&gt;5</title>\n",
       "<path fill=\"none\" stroke=\"#000000\" d=\"M45.0977,-696.144C58.6477,-685.8855 77.3793,-671.7039 92.5417,-660.2246\"/>\n",
       "<polygon fill=\"#000000\" stroke=\"#000000\" points=\"94.6823,-662.9939 100.5424,-654.1673 90.457,-657.4129 94.6823,-662.9939\"/>\n",
       "<text text-anchor=\"middle\" x=\"61.8197\" y=\"-680.9843\" font-family=\"Times,serif\" font-size=\"14.00\" fill=\"#000000\">14</text>\n",
       "</g>\n",
       "<!-- 13 -->\n",
       "<g id=\"node13\" class=\"node\">\n",
       "<title>13</title>\n",
       "<ellipse fill=\"none\" stroke=\"#000000\" cx=\"421.82\" cy=\"-503.3638\" rx=\"27\" ry=\"18\"/>\n",
       "<text text-anchor=\"middle\" x=\"421.82\" y=\"-499.1638\" font-family=\"Times,serif\" font-size=\"14.00\" fill=\"#000000\">13</text>\n",
       "</g>\n",
       "<!-- 13&#45;&gt;4 -->\n",
       "<g id=\"edge13\" class=\"edge\">\n",
       "<title>13&#45;&gt;4</title>\n",
       "<path fill=\"none\" stroke=\"#000000\" d=\"M394.7561,-501.7471C380.8266,-500.915 363.6299,-499.8877 348.4645,-498.9818\"/>\n",
       "<polygon fill=\"#000000\" stroke=\"#000000\" points=\"348.5459,-495.4805 338.355,-498.3778 348.1284,-502.468 348.5459,-495.4805\"/>\n",
       "<text text-anchor=\"middle\" x=\"364.6103\" y=\"-503.1644\" font-family=\"Times,serif\" font-size=\"14.00\" fill=\"#000000\">17</text>\n",
       "</g>\n",
       "<!-- 15 -->\n",
       "<g id=\"node15\" class=\"node\">\n",
       "<title>15</title>\n",
       "<ellipse fill=\"none\" stroke=\"#000000\" cx=\"544.082\" cy=\"-774.3775\" rx=\"27\" ry=\"18\"/>\n",
       "<text text-anchor=\"middle\" x=\"544.082\" y=\"-770.1775\" font-family=\"Times,serif\" font-size=\"14.00\" fill=\"#000000\">15</text>\n",
       "</g>\n",
       "<!-- 14&#45;&gt;15 -->\n",
       "<g id=\"edge14\" class=\"edge\">\n",
       "<title>14&#45;&gt;15</title>\n",
       "<path fill=\"none\" stroke=\"#000000\" d=\"M480.0584,-708.7943C491.9537,-720.9794 508.8221,-738.2587 522.2583,-752.0222\"/>\n",
       "<polygon fill=\"#000000\" stroke=\"#000000\" points=\"519.8263,-754.5414 529.3163,-759.2522 524.8353,-749.6516 519.8263,-754.5414\"/>\n",
       "<text text-anchor=\"middle\" x=\"494.1583\" y=\"-733.2083\" font-family=\"Times,serif\" font-size=\"14.00\" fill=\"#000000\">20</text>\n",
       "</g>\n",
       "</g>\n",
       "</svg>\n"
      ],
      "text/plain": [
       "DiGraph(DiNode[DiNode(1,Dict{Symbol,Any}()),DiNode(2,Dict{Symbol,Any}()),DiNode(3,Dict{Symbol,Any}()),DiNode(4,Dict{Symbol,Any}()),DiNode(5,Dict{Symbol,Any}()),DiNode(6,Dict{Symbol,Any}()),DiNode(7,Dict{Symbol,Any}()),DiNode(8,Dict{Symbol,Any}()),DiNode(9,Dict{Symbol,Any}()),DiNode(10,Dict{Symbol,Any}()),DiNode(11,Dict{Symbol,Any}()),DiNode(12,Dict{Symbol,Any}()),DiNode(13,Dict{Symbol,Any}()),DiNode(14,Dict{Symbol,Any}()),DiNode(15,Dict{Symbol,Any}())],DiEdge[DiEdge(1=>4,Dict{Symbol,Any}(Pair{Symbol,Any}(:label,1),Pair{Symbol,Any}(:len,1.5))),DiEdge(1=>14,Dict{Symbol,Any}(Pair{Symbol,Any}(:label,2),Pair{Symbol,Any}(:len,1.5))),DiEdge(3=>2,Dict{Symbol,Any}(Pair{Symbol,Any}(:label,3),Pair{Symbol,Any}(:len,1.5))),DiEdge(4=>3,Dict{Symbol,Any}(Pair{Symbol,Any}(:label,5),Pair{Symbol,Any}(:len,1.5))),DiEdge(4=>8,Dict{Symbol,Any}(Pair{Symbol,Any}(:label,6),Pair{Symbol,Any}(:len,1.5))),DiEdge(5=>8,Dict{Symbol,Any}(Pair{Symbol,Any}(:label,8),Pair{Symbol,Any}(:len,1.5))),DiEdge(6=>2,Dict{Symbol,Any}(Pair{Symbol,Any}(:label,9),Pair{Symbol,Any}(:len,1.5))),DiEdge(7=>3,Dict{Symbol,Any}(Pair{Symbol,Any}(:label,10),Pair{Symbol,Any}(:len,1.5))),DiEdge(9=>8,Dict{Symbol,Any}(Pair{Symbol,Any}(:label,11),Pair{Symbol,Any}(:len,1.5))),DiEdge(10=>3,Dict{Symbol,Any}(Pair{Symbol,Any}(:label,12),Pair{Symbol,Any}(:len,1.5))),DiEdge(11=>6,Dict{Symbol,Any}(Pair{Symbol,Any}(:label,13),Pair{Symbol,Any}(:len,1.5))),DiEdge(12=>5,Dict{Symbol,Any}(Pair{Symbol,Any}(:label,14),Pair{Symbol,Any}(:len,1.5))),DiEdge(13=>4,Dict{Symbol,Any}(Pair{Symbol,Any}(:label,17),Pair{Symbol,Any}(:len,1.5))),DiEdge(14=>15,Dict{Symbol,Any}(Pair{Symbol,Any}(:label,20),Pair{Symbol,Any}(:len,1.5)))],Dict{Symbol,Any}())"
      ]
     },
     "execution_count": 23,
     "metadata": {},
     "output_type": "execute_result"
    }
   ],
   "source": [
    "tree(gbig)"
   ]
  },
  {
   "cell_type": "markdown",
   "metadata": {},
   "source": [
    "And we can make trees from even larger graphs, for fun:"
   ]
  },
  {
   "cell_type": "code",
   "execution_count": 24,
   "metadata": {
    "collapsed": false
   },
   "outputs": [
    {
     "data": {
      "image/svg+xml": [
       "<?xml version=\"1.0\" encoding=\"UTF-8\" standalone=\"no\"?>\n",
       "<!DOCTYPE svg PUBLIC \"-//W3C//DTD SVG 1.1//EN\"\n",
       " \"http://www.w3.org/Graphics/SVG/1.1/DTD/svg11.dtd\">\n",
       "<!-- Generated by graphviz version 2.40.1 (20161225.0304)\n",
       " -->\n",
       "<!-- Title: MyDiGraph Pages: 1 -->\n",
       "<svg width=\"616pt\" height=\"378pt\"\n",
       " viewBox=\"0.00 0.00 615.90 377.87\" xmlns=\"http://www.w3.org/2000/svg\" xmlns:xlink=\"http://www.w3.org/1999/xlink\">\n",
       "<g id=\"graph0\" class=\"graph\" transform=\"scale(1 1) rotate(0) translate(4 373.8677)\">\n",
       "<title>MyDiGraph</title>\n",
       "<polygon fill=\"#ffffff\" stroke=\"transparent\" points=\"-4,4 -4,-373.8677 611.9045,-373.8677 611.9045,4 -4,4\"/>\n",
       "<!-- 1 -->\n",
       "<g id=\"node1\" class=\"node\">\n",
       "<title>1</title>\n",
       "<ellipse fill=\"none\" stroke=\"#000000\" cx=\"172.6319\" cy=\"-268.2009\" rx=\"27\" ry=\"18\"/>\n",
       "<text text-anchor=\"middle\" x=\"172.6319\" y=\"-264.0009\" font-family=\"Times,serif\" font-size=\"14.00\" fill=\"#000000\">1</text>\n",
       "</g>\n",
       "<!-- 7 -->\n",
       "<g id=\"node7\" class=\"node\">\n",
       "<title>7</title>\n",
       "<ellipse fill=\"none\" stroke=\"#000000\" cx=\"103.0324\" cy=\"-213.2379\" rx=\"27\" ry=\"18\"/>\n",
       "<text text-anchor=\"middle\" x=\"103.0324\" y=\"-209.0379\" font-family=\"Times,serif\" font-size=\"14.00\" fill=\"#000000\">7</text>\n",
       "</g>\n",
       "<!-- 1&#45;&gt;7 -->\n",
       "<g id=\"edge1\" class=\"edge\">\n",
       "<title>1&#45;&gt;7</title>\n",
       "<path fill=\"none\" stroke=\"#000000\" d=\"M155.069,-254.3314C147.1346,-248.0655 137.6007,-240.5366 128.8735,-233.6446\"/>\n",
       "<polygon fill=\"#000000\" stroke=\"#000000\" points=\"130.8489,-230.7449 120.8318,-227.2941 126.5106,-236.2385 130.8489,-230.7449\"/>\n",
       "<text text-anchor=\"middle\" x=\"138.4713\" y=\"-246.788\" font-family=\"Times,serif\" font-size=\"14.00\" fill=\"#000000\">1</text>\n",
       "</g>\n",
       "<!-- 9 -->\n",
       "<g id=\"node9\" class=\"node\">\n",
       "<title>9</title>\n",
       "<ellipse fill=\"none\" stroke=\"#000000\" cx=\"245.3585\" cy=\"-220.9568\" rx=\"27\" ry=\"18\"/>\n",
       "<text text-anchor=\"middle\" x=\"245.3585\" y=\"-216.7568\" font-family=\"Times,serif\" font-size=\"14.00\" fill=\"#000000\">9</text>\n",
       "</g>\n",
       "<!-- 1&#45;&gt;9 -->\n",
       "<g id=\"edge2\" class=\"edge\">\n",
       "<title>1&#45;&gt;9</title>\n",
       "<path fill=\"none\" stroke=\"#000000\" d=\"M192.1213,-255.5403C199.8658,-250.5094 208.9223,-244.6262 217.3466,-239.1537\"/>\n",
       "<polygon fill=\"#000000\" stroke=\"#000000\" points=\"219.336,-242.035 225.8153,-233.6523 215.5227,-236.1649 219.336,-242.035\"/>\n",
       "<text text-anchor=\"middle\" x=\"201.234\" y=\"-236.147\" font-family=\"Times,serif\" font-size=\"14.00\" fill=\"#000000\">2</text>\n",
       "</g>\n",
       "<!-- 14 -->\n",
       "<g id=\"node14\" class=\"node\">\n",
       "<title>14</title>\n",
       "<ellipse fill=\"none\" stroke=\"#000000\" cx=\"195.8241\" cy=\"-351.8677\" rx=\"27\" ry=\"18\"/>\n",
       "<text text-anchor=\"middle\" x=\"195.8241\" y=\"-347.6677\" font-family=\"Times,serif\" font-size=\"14.00\" fill=\"#000000\">14</text>\n",
       "</g>\n",
       "<!-- 1&#45;&gt;14 -->\n",
       "<g id=\"edge3\" class=\"edge\">\n",
       "<title>1&#45;&gt;14</title>\n",
       "<path fill=\"none\" stroke=\"#000000\" d=\"M177.5504,-285.9445C180.6252,-297.0371 184.6503,-311.5577 188.14,-324.1468\"/>\n",
       "<polygon fill=\"#000000\" stroke=\"#000000\" points=\"184.8686,-325.4481 190.9128,-334.1497 191.6143,-323.5781 184.8686,-325.4481\"/>\n",
       "<text text-anchor=\"middle\" x=\"179.3452\" y=\"-307.8456\" font-family=\"Times,serif\" font-size=\"14.00\" fill=\"#000000\">3</text>\n",
       "</g>\n",
       "<!-- 15 -->\n",
       "<g id=\"node15\" class=\"node\">\n",
       "<title>15</title>\n",
       "<ellipse fill=\"none\" stroke=\"#000000\" cx=\"139.0168\" cy=\"-345.5867\" rx=\"27\" ry=\"18\"/>\n",
       "<text text-anchor=\"middle\" x=\"139.0168\" y=\"-341.3867\" font-family=\"Times,serif\" font-size=\"14.00\" fill=\"#000000\">15</text>\n",
       "</g>\n",
       "<!-- 1&#45;&gt;15 -->\n",
       "<g id=\"edge4\" class=\"edge\">\n",
       "<title>1&#45;&gt;15</title>\n",
       "<path fill=\"none\" stroke=\"#000000\" d=\"M165.0041,-285.7609C160.7922,-295.4573 155.4708,-307.7078 150.7419,-318.5942\"/>\n",
       "<polygon fill=\"#000000\" stroke=\"#000000\" points=\"147.3884,-317.5296 146.6144,-328.0961 153.8088,-320.3186 147.3884,-317.5296\"/>\n",
       "<text text-anchor=\"middle\" x=\"154.373\" y=\"-304.9776\" font-family=\"Times,serif\" font-size=\"14.00\" fill=\"#000000\">4</text>\n",
       "</g>\n",
       "<!-- 18 -->\n",
       "<g id=\"node18\" class=\"node\">\n",
       "<title>18</title>\n",
       "<ellipse fill=\"none\" stroke=\"#000000\" cx=\"100.9403\" cy=\"-291.7937\" rx=\"27\" ry=\"18\"/>\n",
       "<text text-anchor=\"middle\" x=\"100.9403\" y=\"-287.5937\" font-family=\"Times,serif\" font-size=\"14.00\" fill=\"#000000\">18</text>\n",
       "</g>\n",
       "<!-- 1&#45;&gt;18 -->\n",
       "<g id=\"edge5\" class=\"edge\">\n",
       "<title>1&#45;&gt;18</title>\n",
       "<path fill=\"none\" stroke=\"#000000\" d=\"M148.3604,-276.1883C144.0393,-277.6104 139.4668,-279.1151 134.9338,-280.6068\"/>\n",
       "<polygon fill=\"#000000\" stroke=\"#000000\" points=\"133.5915,-277.3638 125.1868,-283.8145 135.7798,-284.013 133.5915,-277.3638\"/>\n",
       "<text text-anchor=\"middle\" x=\"138.1471\" y=\"-281.1976\" font-family=\"Times,serif\" font-size=\"14.00\" fill=\"#000000\">5</text>\n",
       "</g>\n",
       "<!-- 2 -->\n",
       "<g id=\"node2\" class=\"node\">\n",
       "<title>2</title>\n",
       "<ellipse fill=\"none\" stroke=\"#000000\" cx=\"425.2506\" cy=\"-202.1995\" rx=\"27\" ry=\"18\"/>\n",
       "<text text-anchor=\"middle\" x=\"425.2506\" y=\"-197.9995\" font-family=\"Times,serif\" font-size=\"14.00\" fill=\"#000000\">2</text>\n",
       "</g>\n",
       "<!-- 5 -->\n",
       "<g id=\"node5\" class=\"node\">\n",
       "<title>5</title>\n",
       "<ellipse fill=\"none\" stroke=\"#000000\" cx=\"507.5577\" cy=\"-227.4788\" rx=\"27\" ry=\"18\"/>\n",
       "<text text-anchor=\"middle\" x=\"507.5577\" y=\"-223.2788\" font-family=\"Times,serif\" font-size=\"14.00\" fill=\"#000000\">5</text>\n",
       "</g>\n",
       "<!-- 2&#45;&gt;5 -->\n",
       "<g id=\"edge6\" class=\"edge\">\n",
       "<title>2&#45;&gt;5</title>\n",
       "<path fill=\"none\" stroke=\"#000000\" d=\"M449.9455,-209.7841C457.2702,-212.0338 465.4277,-214.5393 473.2463,-216.9406\"/>\n",
       "<polygon fill=\"#000000\" stroke=\"#000000\" points=\"472.2934,-220.3092 482.8803,-219.8995 474.3486,-213.6177 472.2934,-220.3092\"/>\n",
       "<text text-anchor=\"middle\" x=\"458.0959\" y=\"-216.1624\" font-family=\"Times,serif\" font-size=\"14.00\" fill=\"#000000\">6</text>\n",
       "</g>\n",
       "<!-- 6 -->\n",
       "<g id=\"node6\" class=\"node\">\n",
       "<title>6</title>\n",
       "<ellipse fill=\"none\" stroke=\"#000000\" cx=\"440.156\" cy=\"-287.2034\" rx=\"27\" ry=\"18\"/>\n",
       "<text text-anchor=\"middle\" x=\"440.156\" y=\"-283.0034\" font-family=\"Times,serif\" font-size=\"14.00\" fill=\"#000000\">6</text>\n",
       "</g>\n",
       "<!-- 2&#45;&gt;6 -->\n",
       "<g id=\"edge7\" class=\"edge\">\n",
       "<title>2&#45;&gt;6</title>\n",
       "<path fill=\"none\" stroke=\"#000000\" d=\"M428.4117,-220.2266C430.3878,-231.4965 432.9747,-246.2491 435.2175,-259.0395\"/>\n",
       "<polygon fill=\"#000000\" stroke=\"#000000\" points=\"431.8249,-259.9571 436.9995,-269.2023 438.7197,-258.748 431.8249,-259.9571\"/>\n",
       "<text text-anchor=\"middle\" x=\"428.3146\" y=\"-242.433\" font-family=\"Times,serif\" font-size=\"14.00\" fill=\"#000000\">7</text>\n",
       "</g>\n",
       "<!-- 10 -->\n",
       "<g id=\"node10\" class=\"node\">\n",
       "<title>10</title>\n",
       "<ellipse fill=\"none\" stroke=\"#000000\" cx=\"469.7299\" cy=\"-134.9462\" rx=\"27\" ry=\"18\"/>\n",
       "<text text-anchor=\"middle\" x=\"469.7299\" y=\"-130.7462\" font-family=\"Times,serif\" font-size=\"14.00\" fill=\"#000000\">10</text>\n",
       "</g>\n",
       "<!-- 2&#45;&gt;10 -->\n",
       "<g id=\"edge8\" class=\"edge\">\n",
       "<title>2&#45;&gt;10</title>\n",
       "<path fill=\"none\" stroke=\"#000000\" d=\"M436.2455,-185.5751C441.2862,-177.9536 447.3726,-168.7507 452.9663,-160.293\"/>\n",
       "<polygon fill=\"#000000\" stroke=\"#000000\" points=\"455.9554,-162.1181 458.5526,-151.8465 450.1168,-158.2566 455.9554,-162.1181\"/>\n",
       "<text text-anchor=\"middle\" x=\"441.1059\" y=\"-161.734\" font-family=\"Times,serif\" font-size=\"14.00\" fill=\"#000000\">8</text>\n",
       "</g>\n",
       "<!-- 3 -->\n",
       "<g id=\"node3\" class=\"node\">\n",
       "<title>3</title>\n",
       "<ellipse fill=\"none\" stroke=\"#000000\" cx=\"331.1837\" cy=\"-179.5527\" rx=\"27\" ry=\"18\"/>\n",
       "<text text-anchor=\"middle\" x=\"331.1837\" y=\"-175.3527\" font-family=\"Times,serif\" font-size=\"14.00\" fill=\"#000000\">3</text>\n",
       "</g>\n",
       "<!-- 3&#45;&gt;2 -->\n",
       "<g id=\"edge9\" class=\"edge\">\n",
       "<title>3&#45;&gt;2</title>\n",
       "<path fill=\"none\" stroke=\"#000000\" d=\"M356.8879,-185.741C367.05,-188.1876 378.8975,-191.0399 389.8477,-193.6761\"/>\n",
       "<polygon fill=\"#000000\" stroke=\"#000000\" points=\"389.0361,-197.0807 399.5775,-196.0186 390.6746,-190.2751 389.0361,-197.0807\"/>\n",
       "<text text-anchor=\"middle\" x=\"369.8678\" y=\"-192.5086\" font-family=\"Times,serif\" font-size=\"14.00\" fill=\"#000000\">9</text>\n",
       "</g>\n",
       "<!-- 3&#45;&gt;9 -->\n",
       "<g id=\"edge10\" class=\"edge\">\n",
       "<title>3&#45;&gt;9</title>\n",
       "<path fill=\"none\" stroke=\"#000000\" d=\"M309.0816,-190.2153C299.1707,-194.9965 287.3058,-200.7204 276.5154,-205.926\"/>\n",
       "<polygon fill=\"#000000\" stroke=\"#000000\" points=\"274.8716,-202.8329 267.3857,-210.3304 277.9132,-209.1376 274.8716,-202.8329\"/>\n",
       "<text text-anchor=\"middle\" x=\"285.7985\" y=\"-200.8706\" font-family=\"Times,serif\" font-size=\"14.00\" fill=\"#000000\">10</text>\n",
       "</g>\n",
       "<!-- 13 -->\n",
       "<g id=\"node13\" class=\"node\">\n",
       "<title>13</title>\n",
       "<ellipse fill=\"none\" stroke=\"#000000\" cx=\"360.0605\" cy=\"-231.5333\" rx=\"27\" ry=\"18\"/>\n",
       "<text text-anchor=\"middle\" x=\"360.0605\" y=\"-227.3333\" font-family=\"Times,serif\" font-size=\"14.00\" fill=\"#000000\">13</text>\n",
       "</g>\n",
       "<!-- 3&#45;&gt;13 -->\n",
       "<g id=\"edge11\" class=\"edge\">\n",
       "<title>3&#45;&gt;13</title>\n",
       "<path fill=\"none\" stroke=\"#000000\" d=\"M340.6391,-196.5731C342.3014,-199.5655 344.0642,-202.7386 345.823,-205.9046\"/>\n",
       "<polygon fill=\"#000000\" stroke=\"#000000\" points=\"342.7667,-207.6103 350.6825,-214.6522 348.8858,-204.2108 342.7667,-207.6103\"/>\n",
       "<text text-anchor=\"middle\" x=\"336.4874\" y=\"-204.0389\" font-family=\"Times,serif\" font-size=\"14.00\" fill=\"#000000\">11</text>\n",
       "</g>\n",
       "<!-- 16 -->\n",
       "<g id=\"node16\" class=\"node\">\n",
       "<title>16</title>\n",
       "<ellipse fill=\"none\" stroke=\"#000000\" cx=\"282.4467\" cy=\"-132.1757\" rx=\"27\" ry=\"18\"/>\n",
       "<text text-anchor=\"middle\" x=\"282.4467\" y=\"-127.9757\" font-family=\"Times,serif\" font-size=\"14.00\" fill=\"#000000\">16</text>\n",
       "</g>\n",
       "<!-- 3&#45;&gt;16 -->\n",
       "<g id=\"edge12\" class=\"edge\">\n",
       "<title>3&#45;&gt;16</title>\n",
       "<path fill=\"none\" stroke=\"#000000\" d=\"M315.763,-164.5623C312.3852,-161.2787 308.7409,-157.7362 305.1454,-154.241\"/>\n",
       "<polygon fill=\"#000000\" stroke=\"#000000\" points=\"307.5444,-151.6919 297.9344,-147.2312 302.6652,-156.7112 307.5444,-151.6919\"/>\n",
       "<text text-anchor=\"middle\" x=\"317.4542\" y=\"-148.2017\" font-family=\"Times,serif\" font-size=\"14.00\" fill=\"#000000\">12</text>\n",
       "</g>\n",
       "<!-- 20 -->\n",
       "<g id=\"node20\" class=\"node\">\n",
       "<title>20</title>\n",
       "<ellipse fill=\"none\" stroke=\"#000000\" cx=\"320.5454\" cy=\"-256.7098\" rx=\"27\" ry=\"18\"/>\n",
       "<text text-anchor=\"middle\" x=\"320.5454\" y=\"-252.5098\" font-family=\"Times,serif\" font-size=\"14.00\" fill=\"#000000\">20</text>\n",
       "</g>\n",
       "<!-- 3&#45;&gt;20 -->\n",
       "<g id=\"edge13\" class=\"edge\">\n",
       "<title>3&#45;&gt;20</title>\n",
       "<path fill=\"none\" stroke=\"#000000\" d=\"M328.6626,-197.8379C327.404,-206.9664 325.8532,-218.214 324.4454,-228.424\"/>\n",
       "<polygon fill=\"#000000\" stroke=\"#000000\" points=\"320.9472,-228.1715 323.0485,-238.5559 327.8816,-229.1277 320.9472,-228.1715\"/>\n",
       "<text text-anchor=\"middle\" x=\"319.554\" y=\"-215.9309\" font-family=\"Times,serif\" font-size=\"14.00\" fill=\"#000000\">14</text>\n",
       "</g>\n",
       "<!-- 4 -->\n",
       "<g id=\"node4\" class=\"node\">\n",
       "<title>4</title>\n",
       "<ellipse fill=\"none\" stroke=\"#000000\" cx=\"334.5759\" cy=\"-89.3695\" rx=\"27\" ry=\"18\"/>\n",
       "<text text-anchor=\"middle\" x=\"334.5759\" y=\"-85.1695\" font-family=\"Times,serif\" font-size=\"14.00\" fill=\"#000000\">4</text>\n",
       "</g>\n",
       "<!-- 4&#45;&gt;3 -->\n",
       "<g id=\"edge14\" class=\"edge\">\n",
       "<title>4&#45;&gt;3</title>\n",
       "<path fill=\"none\" stroke=\"#000000\" d=\"M333.8894,-107.6195C333.4205,-120.0877 332.7896,-136.8607 332.255,-151.0738\"/>\n",
       "<polygon fill=\"#000000\" stroke=\"#000000\" points=\"328.7476,-151.2054 331.8692,-161.3299 335.7427,-151.4686 328.7476,-151.2054\"/>\n",
       "<text text-anchor=\"middle\" x=\"326.0722\" y=\"-132.1466\" font-family=\"Times,serif\" font-size=\"14.00\" fill=\"#000000\">15</text>\n",
       "</g>\n",
       "<!-- 11 -->\n",
       "<g id=\"node11\" class=\"node\">\n",
       "<title>11</title>\n",
       "<ellipse fill=\"none\" stroke=\"#000000\" cx=\"287.3518\" cy=\"-19.72\" rx=\"27\" ry=\"18\"/>\n",
       "<text text-anchor=\"middle\" x=\"287.3518\" y=\"-15.52\" font-family=\"Times,serif\" font-size=\"14.00\" fill=\"#000000\">11</text>\n",
       "</g>\n",
       "<!-- 4&#45;&gt;11 -->\n",
       "<g id=\"edge15\" class=\"edge\">\n",
       "<title>4&#45;&gt;11</title>\n",
       "<path fill=\"none\" stroke=\"#000000\" d=\"M323.3844,-72.8636C317.7624,-64.5717 310.827,-54.3429 304.547,-45.0807\"/>\n",
       "<polygon fill=\"#000000\" stroke=\"#000000\" points=\"307.2998,-42.904 298.791,-36.5913 301.506,-46.8324 307.2998,-42.904\"/>\n",
       "<text text-anchor=\"middle\" x=\"306.9657\" y=\"-47.7721\" font-family=\"Times,serif\" font-size=\"14.00\" fill=\"#000000\">17</text>\n",
       "</g>\n",
       "<!-- 17 -->\n",
       "<g id=\"node17\" class=\"node\">\n",
       "<title>17</title>\n",
       "<ellipse fill=\"none\" stroke=\"#000000\" cx=\"372.4807\" cy=\"-18\" rx=\"27\" ry=\"18\"/>\n",
       "<text text-anchor=\"middle\" x=\"372.4807\" y=\"-13.8\" font-family=\"Times,serif\" font-size=\"14.00\" fill=\"#000000\">17</text>\n",
       "</g>\n",
       "<!-- 4&#45;&gt;17 -->\n",
       "<g id=\"edge16\" class=\"edge\">\n",
       "<title>4&#45;&gt;17</title>\n",
       "<path fill=\"none\" stroke=\"#000000\" d=\"M343.7516,-72.093C348.2213,-63.6772 353.69,-53.3803 358.6521,-44.0374\"/>\n",
       "<polygon fill=\"#000000\" stroke=\"#000000\" points=\"361.79,-45.5909 363.3895,-35.1175 355.6078,-42.3075 361.79,-45.5909\"/>\n",
       "<text text-anchor=\"middle\" x=\"344.2018\" y=\"-46.8652\" font-family=\"Times,serif\" font-size=\"14.00\" fill=\"#000000\">19</text>\n",
       "</g>\n",
       "<!-- 8 -->\n",
       "<g id=\"node8\" class=\"node\">\n",
       "<title>8</title>\n",
       "<ellipse fill=\"none\" stroke=\"#000000\" cx=\"580.9045\" cy=\"-193.6388\" rx=\"27\" ry=\"18\"/>\n",
       "<text text-anchor=\"middle\" x=\"580.9045\" y=\"-189.4388\" font-family=\"Times,serif\" font-size=\"14.00\" fill=\"#000000\">8</text>\n",
       "</g>\n",
       "<!-- 5&#45;&gt;8 -->\n",
       "<g id=\"edge17\" class=\"edge\">\n",
       "<title>5&#45;&gt;8</title>\n",
       "<path fill=\"none\" stroke=\"#000000\" d=\"M529.9627,-217.1418C536.0766,-214.321 542.8174,-211.2111 549.3384,-208.2024\"/>\n",
       "<polygon fill=\"#000000\" stroke=\"#000000\" points=\"551.0228,-211.28 558.6367,-203.9125 548.0902,-204.9238 551.0228,-211.28\"/>\n",
       "<text text-anchor=\"middle\" x=\"546.6506\" y=\"-215.4721\" font-family=\"Times,serif\" font-size=\"14.00\" fill=\"#000000\">23</text>\n",
       "</g>\n",
       "<!-- 12 -->\n",
       "<g id=\"node12\" class=\"node\">\n",
       "<title>12</title>\n",
       "<ellipse fill=\"none\" stroke=\"#000000\" cx=\"554.7637\" cy=\"-296.2038\" rx=\"27\" ry=\"18\"/>\n",
       "<text text-anchor=\"middle\" x=\"554.7637\" y=\"-292.0038\" font-family=\"Times,serif\" font-size=\"14.00\" fill=\"#000000\">12</text>\n",
       "</g>\n",
       "<!-- 5&#45;&gt;12 -->\n",
       "<g id=\"edge18\" class=\"edge\">\n",
       "<title>5&#45;&gt;12</title>\n",
       "<path fill=\"none\" stroke=\"#000000\" d=\"M518.9849,-244.1152C524.6094,-252.3036 531.5041,-262.3413 537.7346,-271.4121\"/>\n",
       "<polygon fill=\"#000000\" stroke=\"#000000\" points=\"534.8948,-273.4595 543.4416,-279.7206 540.6648,-269.4962 534.8948,-273.4595\"/>\n",
       "<text text-anchor=\"middle\" x=\"521.3598\" y=\"-260.5636\" font-family=\"Times,serif\" font-size=\"14.00\" fill=\"#000000\">26</text>\n",
       "</g>\n",
       "<!-- 19 -->\n",
       "<g id=\"node19\" class=\"node\">\n",
       "<title>19</title>\n",
       "<ellipse fill=\"none\" stroke=\"#000000\" cx=\"27\" cy=\"-189.2428\" rx=\"27\" ry=\"18\"/>\n",
       "<text text-anchor=\"middle\" x=\"27\" y=\"-185.0428\" font-family=\"Times,serif\" font-size=\"14.00\" fill=\"#000000\">19</text>\n",
       "</g>\n",
       "<!-- 7&#45;&gt;19 -->\n",
       "<g id=\"edge19\" class=\"edge\">\n",
       "<title>7&#45;&gt;19</title>\n",
       "<path fill=\"none\" stroke=\"#000000\" d=\"M78.5568,-205.5136C72.9947,-203.7583 66.9878,-201.8625 61.1069,-200.0066\"/>\n",
       "<polygon fill=\"#000000\" stroke=\"#000000\" points=\"62.0196,-196.6245 51.4298,-196.9526 59.9128,-203.3 62.0196,-196.6245\"/>\n",
       "<text text-anchor=\"middle\" x=\"62.8319\" y=\"-205.5601\" font-family=\"Times,serif\" font-size=\"14.00\" fill=\"#000000\">39</text>\n",
       "</g>\n",
       "</g>\n",
       "</svg>\n"
      ],
      "text/plain": [
       "DiGraph(DiNode[DiNode(1,Dict{Symbol,Any}()),DiNode(2,Dict{Symbol,Any}()),DiNode(3,Dict{Symbol,Any}()),DiNode(4,Dict{Symbol,Any}()),DiNode(5,Dict{Symbol,Any}()),DiNode(6,Dict{Symbol,Any}()),DiNode(7,Dict{Symbol,Any}()),DiNode(8,Dict{Symbol,Any}()),DiNode(9,Dict{Symbol,Any}()),DiNode(10,Dict{Symbol,Any}()),DiNode(11,Dict{Symbol,Any}()),DiNode(12,Dict{Symbol,Any}()),DiNode(13,Dict{Symbol,Any}()),DiNode(14,Dict{Symbol,Any}()),DiNode(15,Dict{Symbol,Any}()),DiNode(16,Dict{Symbol,Any}()),DiNode(17,Dict{Symbol,Any}()),DiNode(18,Dict{Symbol,Any}()),DiNode(19,Dict{Symbol,Any}()),DiNode(20,Dict{Symbol,Any}())],DiEdge[DiEdge(1=>7,Dict{Symbol,Any}(Pair{Symbol,Any}(:label,1))),DiEdge(1=>9,Dict{Symbol,Any}(Pair{Symbol,Any}(:label,2))),DiEdge(1=>14,Dict{Symbol,Any}(Pair{Symbol,Any}(:label,3))),DiEdge(1=>15,Dict{Symbol,Any}(Pair{Symbol,Any}(:label,4))),DiEdge(1=>18,Dict{Symbol,Any}(Pair{Symbol,Any}(:label,5))),DiEdge(2=>5,Dict{Symbol,Any}(Pair{Symbol,Any}(:label,6))),DiEdge(2=>6,Dict{Symbol,Any}(Pair{Symbol,Any}(:label,7))),DiEdge(2=>10,Dict{Symbol,Any}(Pair{Symbol,Any}(:label,8))),DiEdge(3=>2,Dict{Symbol,Any}(Pair{Symbol,Any}(:label,9))),DiEdge(3=>9,Dict{Symbol,Any}(Pair{Symbol,Any}(:label,10))),DiEdge(3=>13,Dict{Symbol,Any}(Pair{Symbol,Any}(:label,11))),DiEdge(3=>16,Dict{Symbol,Any}(Pair{Symbol,Any}(:label,12))),DiEdge(3=>20,Dict{Symbol,Any}(Pair{Symbol,Any}(:label,14))),DiEdge(4=>3,Dict{Symbol,Any}(Pair{Symbol,Any}(:label,15))),DiEdge(4=>11,Dict{Symbol,Any}(Pair{Symbol,Any}(:label,17))),DiEdge(4=>17,Dict{Symbol,Any}(Pair{Symbol,Any}(:label,19))),DiEdge(5=>8,Dict{Symbol,Any}(Pair{Symbol,Any}(:label,23))),DiEdge(5=>12,Dict{Symbol,Any}(Pair{Symbol,Any}(:label,26))),DiEdge(7=>19,Dict{Symbol,Any}(Pair{Symbol,Any}(:label,39)))],Dict{Symbol,Any}())"
      ]
     },
     "execution_count": 24,
     "metadata": {},
     "output_type": "execute_result"
    }
   ],
   "source": [
    "tree(randgraph(20, 6))"
   ]
  },
  {
   "cell_type": "markdown",
   "metadata": {},
   "source": [
    "## Graphs and Kirchhoff's circuit laws\n",
    "\n"
   ]
  },
  {
   "cell_type": "markdown",
   "metadata": {},
   "source": [
    "An elegant application of the incidence matrix and its subspaces arises if we think of the graph as representing an **electrical circuit**:\n",
    "\n",
    "* Each edge represents a wire/resistor, with an unknown current $i$.  The *direction* of the edge indicates the *sign convention* ($i>0$ indicates current flowing in the direction of the arrow).\n",
    "* Each node represents a junction, with an unknown voltage $v$.\n",
    "\n",
    "Let's visualize this by re-labeling our graph from above.  We'll use the [SymPy](https://github.com/JuliaPy/SymPy.jl) package to allow us to do *symbolic* (not numeric) calculations with the incidence matrix."
   ]
  },
  {
   "cell_type": "code",
   "execution_count": 25,
   "metadata": {
    "collapsed": false
   },
   "outputs": [],
   "source": [
    "import SymPy: Sym\n",
    "# A little code so that we can label graph nodes/edges with SymPy expressions.\n",
    "# convert strings like \"v_2 - v_0\" from SymPy to nicer Unicode strings like \"v₂ - v₀\"\n",
    "subchar(d::Integer) = Char(UInt32('₀')+d)\n",
    "subchar(c::Char) = subchar(UInt32(c)-UInt32('0'))\n",
    "subchar(s::String) = replace(s, r\"_[0-9]\", s -> subchar(s[2]))\n",
    "showprop(io, s::SymPy.Sym) = showprop(io, subchar(stringmime(\"text/plain\", s)))\n",
    "subchar(\"v_2 - v_0\")"
   ]
  },
  {
   "cell_type": "code",
   "execution_count": 35,
   "metadata": {
    "collapsed": false
   },
   "outputs": [
    {
     "data": {
      "image/svg+xml": [
       "<?xml version=\"1.0\" encoding=\"UTF-8\" standalone=\"no\"?>\n",
       "<!DOCTYPE svg PUBLIC \"-//W3C//DTD SVG 1.1//EN\"\n",
       " \"http://www.w3.org/Graphics/SVG/1.1/DTD/svg11.dtd\">\n",
       "<!-- Generated by graphviz version 2.40.1 (20161225.0304)\n",
       " -->\n",
       "<!-- Title: MyDiGraph Pages: 1 -->\n",
       "<svg width=\"259pt\" height=\"257pt\"\n",
       " viewBox=\"0.00 0.00 258.52 256.56\" xmlns=\"http://www.w3.org/2000/svg\" xmlns:xlink=\"http://www.w3.org/1999/xlink\">\n",
       "<g id=\"graph0\" class=\"graph\" transform=\"scale(1 1) rotate(0) translate(4 252.5612)\">\n",
       "<title>MyDiGraph</title>\n",
       "<polygon fill=\"#ffffff\" stroke=\"transparent\" points=\"-4,4 -4,-252.5612 254.5182,-252.5612 254.5182,4 -4,4\"/>\n",
       "<!-- 1 -->\n",
       "<g id=\"node1\" class=\"node\">\n",
       "<title>1</title>\n",
       "<ellipse fill=\"none\" stroke=\"#000000\" cx=\"27\" cy=\"-140.9451\" rx=\"27\" ry=\"18\"/>\n",
       "<text text-anchor=\"middle\" x=\"27\" y=\"-138.2626\" font-family=\"Times,serif\" font-size=\"14.00\" fill=\"#000000\">v₁</text>\n",
       "</g>\n",
       "<!-- 4 -->\n",
       "<g id=\"node4\" class=\"node\">\n",
       "<title>4</title>\n",
       "<ellipse fill=\"none\" stroke=\"#000000\" cx=\"116.8883\" cy=\"-215.532\" rx=\"27\" ry=\"18\"/>\n",
       "<text text-anchor=\"middle\" x=\"116.8883\" y=\"-212.8496\" font-family=\"Times,serif\" font-size=\"14.00\" fill=\"#000000\">v₄</text>\n",
       "</g>\n",
       "<!-- 1&#45;&gt;4 -->\n",
       "<g id=\"edge1\" class=\"edge\">\n",
       "<title>1&#45;&gt;4</title>\n",
       "<path fill=\"none\" stroke=\"#000000\" d=\"M44.3314,-155.3262C57.8476,-166.5416 76.8036,-182.2708 91.9506,-194.8393\"/>\n",
       "<polygon fill=\"#000000\" stroke=\"#000000\" points=\"89.9843,-197.7558 99.915,-201.448 94.4543,-192.3688 89.9843,-197.7558\"/>\n",
       "<text text-anchor=\"middle\" x=\"63.243\" y=\"-180.9179\" font-family=\"Times,serif\" font-size=\"14.00\" fill=\"#000000\">i₁</text>\n",
       "</g>\n",
       "<!-- 2 -->\n",
       "<g id=\"node2\" class=\"node\">\n",
       "<title>2</title>\n",
       "<ellipse fill=\"none\" stroke=\"#000000\" cx=\"102.2914\" cy=\"-51.6524\" rx=\"27\" ry=\"18\"/>\n",
       "<text text-anchor=\"middle\" x=\"102.2914\" y=\"-48.97\" font-family=\"Times,serif\" font-size=\"14.00\" fill=\"#000000\">v₂</text>\n",
       "</g>\n",
       "<!-- 2&#45;&gt;1 -->\n",
       "<g id=\"edge6\" class=\"edge\">\n",
       "<title>2&#45;&gt;1</title>\n",
       "<path fill=\"none\" stroke=\"#000000\" d=\"M88.8308,-67.6162C77.1606,-81.4566 60.1129,-101.6744 46.8723,-117.3772\"/>\n",
       "<polygon fill=\"#000000\" stroke=\"#000000\" points=\"44.1146,-115.2183 40.3441,-125.1195 49.4661,-119.7307 44.1146,-115.2183\"/>\n",
       "<text text-anchor=\"middle\" x=\"62.9536\" y=\"-98.3319\" font-family=\"Times,serif\" font-size=\"14.00\" fill=\"#000000\">i₆</text>\n",
       "</g>\n",
       "<!-- 6 -->\n",
       "<g id=\"node6\" class=\"node\">\n",
       "<title>6</title>\n",
       "<ellipse fill=\"none\" stroke=\"#000000\" cx=\"192.6702\" cy=\"-126.1901\" rx=\"27\" ry=\"18\"/>\n",
       "<text text-anchor=\"middle\" x=\"192.6702\" y=\"-123.5077\" font-family=\"Times,serif\" font-size=\"14.00\" fill=\"#000000\">v₆</text>\n",
       "</g>\n",
       "<!-- 2&#45;&gt;6 -->\n",
       "<g id=\"edge7\" class=\"edge\">\n",
       "<title>2&#45;&gt;6</title>\n",
       "<path fill=\"none\" stroke=\"#000000\" d=\"M119.2909,-65.6724C132.8382,-76.8452 152.0133,-92.6594 167.3645,-105.3199\"/>\n",
       "<polygon fill=\"#000000\" stroke=\"#000000\" points=\"165.4978,-108.3172 175.4396,-111.9796 169.9517,-102.9168 165.4978,-108.3172\"/>\n",
       "<text text-anchor=\"middle\" x=\"138.4298\" y=\"-91.3313\" font-family=\"Times,serif\" font-size=\"14.00\" fill=\"#000000\">i₇</text>\n",
       "</g>\n",
       "<!-- 3 -->\n",
       "<g id=\"node3\" class=\"node\">\n",
       "<title>3</title>\n",
       "<ellipse fill=\"none\" stroke=\"#000000\" cx=\"204.5704\" cy=\"-18\" rx=\"27\" ry=\"18\"/>\n",
       "<text text-anchor=\"middle\" x=\"204.5704\" y=\"-15.3176\" font-family=\"Times,serif\" font-size=\"14.00\" fill=\"#000000\">v₃</text>\n",
       "</g>\n",
       "<!-- 3&#45;&gt;2 -->\n",
       "<g id=\"edge5\" class=\"edge\">\n",
       "<title>3&#45;&gt;2</title>\n",
       "<path fill=\"none\" stroke=\"#000000\" d=\"M180.3317,-25.9752C167.1806,-30.3022 150.7115,-35.721 136.2962,-40.464\"/>\n",
       "<polygon fill=\"#000000\" stroke=\"#000000\" points=\"135.1157,-37.1677 126.7105,-43.6179 137.3035,-43.8171 135.1157,-37.1677\"/>\n",
       "<text text-anchor=\"middle\" x=\"153.416\" y=\"-39.0547\" font-family=\"Times,serif\" font-size=\"14.00\" fill=\"#000000\">i₅</text>\n",
       "</g>\n",
       "<!-- 5 -->\n",
       "<g id=\"node5\" class=\"node\">\n",
       "<title>5</title>\n",
       "<ellipse fill=\"none\" stroke=\"#000000\" cx=\"223.5182\" cy=\"-230.5612\" rx=\"27\" ry=\"18\"/>\n",
       "<text text-anchor=\"middle\" x=\"223.5182\" y=\"-227.8787\" font-family=\"Times,serif\" font-size=\"14.00\" fill=\"#000000\">v₅</text>\n",
       "</g>\n",
       "<!-- 4&#45;&gt;5 -->\n",
       "<g id=\"edge2\" class=\"edge\">\n",
       "<title>4&#45;&gt;5</title>\n",
       "<path fill=\"none\" stroke=\"#000000\" d=\"M143.5205,-219.2857C156.6248,-221.1327 172.6268,-223.3882 186.8659,-225.3951\"/>\n",
       "<polygon fill=\"#000000\" stroke=\"#000000\" points=\"186.4654,-228.8732 196.856,-226.8032 187.4424,-221.9417 186.4654,-228.8732\"/>\n",
       "<text text-anchor=\"middle\" x=\"160.2953\" y=\"-228.1756\" font-family=\"Times,serif\" font-size=\"14.00\" fill=\"#000000\">i₂</text>\n",
       "</g>\n",
       "<!-- 4&#45;&gt;6 -->\n",
       "<g id=\"edge8\" class=\"edge\">\n",
       "<title>4&#45;&gt;6</title>\n",
       "<path fill=\"none\" stroke=\"#000000\" d=\"M130.4366,-199.5595C142.1828,-185.7114 159.3415,-165.4824 172.6684,-149.771\"/>\n",
       "<polygon fill=\"#000000\" stroke=\"#000000\" points=\"175.4397,-151.9145 179.2392,-142.0244 170.1014,-147.3865 175.4397,-151.9145\"/>\n",
       "<text text-anchor=\"middle\" x=\"146.6545\" y=\"-180.5004\" font-family=\"Times,serif\" font-size=\"14.00\" fill=\"#000000\">i₈</text>\n",
       "</g>\n",
       "<!-- 5&#45;&gt;6 -->\n",
       "<g id=\"edge3\" class=\"edge\">\n",
       "<title>5&#45;&gt;6</title>\n",
       "<path fill=\"none\" stroke=\"#000000\" d=\"M218.2853,-212.856C213.499,-196.6623 206.343,-172.4508 200.8102,-153.7311\"/>\n",
       "<polygon fill=\"#000000\" stroke=\"#000000\" points=\"204.1197,-152.58 197.9288,-143.9821 197.4068,-154.5641 204.1197,-152.58\"/>\n",
       "<text text-anchor=\"middle\" x=\"204.6498\" y=\"-189.1287\" font-family=\"Times,serif\" font-size=\"14.00\" fill=\"#000000\">i₃</text>\n",
       "</g>\n",
       "<!-- 6&#45;&gt;3 -->\n",
       "<g id=\"edge4\" class=\"edge\">\n",
       "<title>6&#45;&gt;3</title>\n",
       "<path fill=\"none\" stroke=\"#000000\" d=\"M194.6889,-107.8372C196.5465,-90.9492 199.3293,-65.6489 201.469,-46.1966\"/>\n",
       "<polygon fill=\"#000000\" stroke=\"#000000\" points=\"204.9671,-46.4047 202.5815,-36.0819 198.009,-45.6393 204.9671,-46.4047\"/>\n",
       "<text text-anchor=\"middle\" x=\"193.181\" y=\"-82.852\" font-family=\"Times,serif\" font-size=\"14.00\" fill=\"#000000\">i₄</text>\n",
       "</g>\n",
       "</g>\n",
       "</svg>\n"
      ],
      "text/plain": [
       "DiGraph(DiNode[DiNode(1,Dict{Symbol,Any}(Pair{Symbol,Any}(:label,v_1))),DiNode(2,Dict{Symbol,Any}(Pair{Symbol,Any}(:label,v_2))),DiNode(3,Dict{Symbol,Any}(Pair{Symbol,Any}(:label,v_3))),DiNode(4,Dict{Symbol,Any}(Pair{Symbol,Any}(:label,v_4))),DiNode(5,Dict{Symbol,Any}(Pair{Symbol,Any}(:label,v_5))),DiNode(6,Dict{Symbol,Any}(Pair{Symbol,Any}(:label,v_6)))],DiEdge[DiEdge(1=>4,Dict{Symbol,Any}(Pair{Symbol,Any}(:label,i_1),Pair{Symbol,Any}(:len,1.5))),DiEdge(4=>5,Dict{Symbol,Any}(Pair{Symbol,Any}(:label,i_2),Pair{Symbol,Any}(:len,1.5))),DiEdge(5=>6,Dict{Symbol,Any}(Pair{Symbol,Any}(:label,i_3),Pair{Symbol,Any}(:len,1.5))),DiEdge(6=>3,Dict{Symbol,Any}(Pair{Symbol,Any}(:label,i_4),Pair{Symbol,Any}(:len,1.5))),DiEdge(3=>2,Dict{Symbol,Any}(Pair{Symbol,Any}(:label,i_5),Pair{Symbol,Any}(:len,1.5))),DiEdge(2=>1,Dict{Symbol,Any}(Pair{Symbol,Any}(:label,i_6),Pair{Symbol,Any}(:len,1.5))),DiEdge(2=>6,Dict{Symbol,Any}(Pair{Symbol,Any}(:label,i_7),Pair{Symbol,Any}(:len,1.5))),DiEdge(4=>6,Dict{Symbol,Any}(Pair{Symbol,Any}(:label,i_8),Pair{Symbol,Any}(:len,1.5)))],Dict{Symbol,Any}())"
      ]
     },
     "execution_count": 35,
     "metadata": {},
     "output_type": "execute_result"
    }
   ],
   "source": [
    "labels!(copy(g), edges=[Sym(\"i_$i\") for i = 1:size(A,1)], nodes=[Sym(\"v_$i\") for i = 1:size(A,2)])"
   ]
  },
  {
   "cell_type": "markdown",
   "metadata": {},
   "source": [
    "### Kirchhoff's voltage law (KVL)\n",
    "\n",
    "Let's start doing some linear algebra.  What happens if we *multiply* our incidence matrix $A$ by a vector of voltages, one per node?"
   ]
  },
  {
   "cell_type": "code",
   "execution_count": 26,
   "metadata": {
    "collapsed": false
   },
   "outputs": [
    {
     "data": {
      "text/latex": [
       "\\begin{bmatrix}v_{1}\\\\v_{2}\\\\v_{3}\\\\v_{4}\\\\v_{5}\\\\v_{6}\\end{bmatrix}"
      ],
      "text/plain": [
       "6-element Array{SymPy.Sym,1}\n",
       "[v_1]\n",
       "[   ]\n",
       "[v_2]\n",
       "[   ]\n",
       "[v_3]\n",
       "[   ]\n",
       "[v_4]\n",
       "[   ]\n",
       "[v_5]\n",
       "[   ]\n",
       "[v_6]"
      ]
     },
     "execution_count": 26,
     "metadata": {},
     "output_type": "execute_result"
    }
   ],
   "source": [
    "v = [Sym(\"v_$i\") for i = 1:size(A,2)]"
   ]
  },
  {
   "cell_type": "code",
   "execution_count": 27,
   "metadata": {
    "collapsed": false
   },
   "outputs": [
    {
     "data": {
      "text/plain": [
       "8×6 Array{Int64,2}:\n",
       " -1   0   0   1   0   0\n",
       "  0   0   0  -1   1   0\n",
       "  0   0   0   0  -1   1\n",
       "  0   0   1   0   0  -1\n",
       "  0   1  -1   0   0   0\n",
       "  1  -1   0   0   0   0\n",
       "  0  -1   0   0   0   1\n",
       "  0   0   0  -1   0   1"
      ]
     },
     "execution_count": 27,
     "metadata": {},
     "output_type": "execute_result"
    }
   ],
   "source": [
    "A"
   ]
  },
  {
   "cell_type": "code",
   "execution_count": 28,
   "metadata": {
    "collapsed": false
   },
   "outputs": [
    {
     "data": {
      "text/latex": [
       "\\begin{bmatrix}- v_{1} + v_{4}\\\\- v_{4} + v_{5}\\\\- v_{5} + v_{6}\\\\v_{3} - v_{6}\\\\v_{2} - v_{3}\\\\v_{1} - v_{2}\\\\- v_{2} + v_{6}\\\\- v_{4} + v_{6}\\end{bmatrix}"
      ],
      "text/plain": [
       "8-element Array{SymPy.Sym,1}\n",
       "[-v_1 + v_4]\n",
       "[          ]\n",
       "[-v_4 + v_5]\n",
       "[          ]\n",
       "[-v_5 + v_6]\n",
       "[          ]\n",
       "[v_3 - v_6 ]\n",
       "[          ]\n",
       "[v_2 - v_3 ]\n",
       "[          ]\n",
       "[v_1 - v_2 ]\n",
       "[          ]\n",
       "[-v_2 + v_6]\n",
       "[          ]\n",
       "[-v_4 + v_6]"
      ]
     },
     "execution_count": 28,
     "metadata": {},
     "output_type": "execute_result"
    }
   ],
   "source": [
    "A * v"
   ]
  },
  {
   "cell_type": "markdown",
   "metadata": {},
   "source": [
    "What we get are the **voltage difference** across each edge.  It is easier to see this if we use the elements of $Av$ to directly label the edges of our graph:"
   ]
  },
  {
   "cell_type": "code",
   "execution_count": 30,
   "metadata": {
    "collapsed": false
   },
   "outputs": [
    {
     "data": {
      "image/svg+xml": [
       "<?xml version=\"1.0\" encoding=\"UTF-8\" standalone=\"no\"?>\n",
       "<!DOCTYPE svg PUBLIC \"-//W3C//DTD SVG 1.1//EN\"\n",
       " \"http://www.w3.org/Graphics/SVG/1.1/DTD/svg11.dtd\">\n",
       "<!-- Generated by graphviz version 2.40.1 (20161225.0304)\n",
       " -->\n",
       "<!-- Title: MyDiGraph Pages: 1 -->\n",
       "<svg width=\"259pt\" height=\"257pt\"\n",
       " viewBox=\"0.00 0.00 258.52 256.56\" xmlns=\"http://www.w3.org/2000/svg\" xmlns:xlink=\"http://www.w3.org/1999/xlink\">\n",
       "<g id=\"graph0\" class=\"graph\" transform=\"scale(1 1) rotate(0) translate(4 252.5612)\">\n",
       "<title>MyDiGraph</title>\n",
       "<polygon fill=\"#ffffff\" stroke=\"transparent\" points=\"-4,4 -4,-252.5612 254.5182,-252.5612 254.5182,4 -4,4\"/>\n",
       "<!-- 1 -->\n",
       "<g id=\"node1\" class=\"node\">\n",
       "<title>1</title>\n",
       "<ellipse fill=\"none\" stroke=\"#000000\" cx=\"27\" cy=\"-140.9451\" rx=\"27\" ry=\"18\"/>\n",
       "<text text-anchor=\"middle\" x=\"27\" y=\"-138.2626\" font-family=\"Times,serif\" font-size=\"14.00\" fill=\"#000000\">v₁</text>\n",
       "</g>\n",
       "<!-- 4 -->\n",
       "<g id=\"node4\" class=\"node\">\n",
       "<title>4</title>\n",
       "<ellipse fill=\"none\" stroke=\"#000000\" cx=\"116.8883\" cy=\"-215.532\" rx=\"27\" ry=\"18\"/>\n",
       "<text text-anchor=\"middle\" x=\"116.8883\" y=\"-212.8496\" font-family=\"Times,serif\" font-size=\"14.00\" fill=\"#000000\">v₄</text>\n",
       "</g>\n",
       "<!-- 1&#45;&gt;4 -->\n",
       "<g id=\"edge1\" class=\"edge\">\n",
       "<title>1&#45;&gt;4</title>\n",
       "<path fill=\"none\" stroke=\"#000000\" d=\"M44.3314,-155.3262C57.8476,-166.5416 76.8036,-182.2708 91.9506,-194.8393\"/>\n",
       "<polygon fill=\"#000000\" stroke=\"#000000\" points=\"89.9843,-197.7558 99.915,-201.448 94.4543,-192.3688 89.9843,-197.7558\"/>\n",
       "<text text-anchor=\"middle\" x=\"45.4559\" y=\"-180.9179\" font-family=\"Times,serif\" font-size=\"14.00\" fill=\"#000000\">&#45;v₁ + v₄</text>\n",
       "</g>\n",
       "<!-- 2 -->\n",
       "<g id=\"node2\" class=\"node\">\n",
       "<title>2</title>\n",
       "<ellipse fill=\"none\" stroke=\"#000000\" cx=\"102.2914\" cy=\"-51.6524\" rx=\"27\" ry=\"18\"/>\n",
       "<text text-anchor=\"middle\" x=\"102.2914\" y=\"-48.97\" font-family=\"Times,serif\" font-size=\"14.00\" fill=\"#000000\">v₂</text>\n",
       "</g>\n",
       "<!-- 2&#45;&gt;1 -->\n",
       "<g id=\"edge6\" class=\"edge\">\n",
       "<title>2&#45;&gt;1</title>\n",
       "<path fill=\"none\" stroke=\"#000000\" d=\"M88.8308,-67.6162C77.1606,-81.4566 60.1129,-101.6744 46.8723,-117.3772\"/>\n",
       "<polygon fill=\"#000000\" stroke=\"#000000\" points=\"44.1146,-115.2183 40.3441,-125.1195 49.4661,-119.7307 44.1146,-115.2183\"/>\n",
       "<text text-anchor=\"middle\" x=\"49.1143\" y=\"-98.3319\" font-family=\"Times,serif\" font-size=\"14.00\" fill=\"#000000\">v₁ &#45; v₂</text>\n",
       "</g>\n",
       "<!-- 6 -->\n",
       "<g id=\"node6\" class=\"node\">\n",
       "<title>6</title>\n",
       "<ellipse fill=\"none\" stroke=\"#000000\" cx=\"192.6702\" cy=\"-126.1901\" rx=\"27\" ry=\"18\"/>\n",
       "<text text-anchor=\"middle\" x=\"192.6702\" y=\"-123.5077\" font-family=\"Times,serif\" font-size=\"14.00\" fill=\"#000000\">v₆</text>\n",
       "</g>\n",
       "<!-- 2&#45;&gt;6 -->\n",
       "<g id=\"edge7\" class=\"edge\">\n",
       "<title>2&#45;&gt;6</title>\n",
       "<path fill=\"none\" stroke=\"#000000\" d=\"M119.2909,-65.6724C132.8382,-76.8452 152.0133,-92.6594 167.3645,-105.3199\"/>\n",
       "<polygon fill=\"#000000\" stroke=\"#000000\" points=\"165.4978,-108.3172 175.4396,-111.9796 169.9517,-102.9168 165.4978,-108.3172\"/>\n",
       "<text text-anchor=\"middle\" x=\"120.6427\" y=\"-91.3313\" font-family=\"Times,serif\" font-size=\"14.00\" fill=\"#000000\">&#45;v₂ + v₆</text>\n",
       "</g>\n",
       "<!-- 3 -->\n",
       "<g id=\"node3\" class=\"node\">\n",
       "<title>3</title>\n",
       "<ellipse fill=\"none\" stroke=\"#000000\" cx=\"204.5704\" cy=\"-18\" rx=\"27\" ry=\"18\"/>\n",
       "<text text-anchor=\"middle\" x=\"204.5704\" y=\"-15.3176\" font-family=\"Times,serif\" font-size=\"14.00\" fill=\"#000000\">v₃</text>\n",
       "</g>\n",
       "<!-- 3&#45;&gt;2 -->\n",
       "<g id=\"edge5\" class=\"edge\">\n",
       "<title>3&#45;&gt;2</title>\n",
       "<path fill=\"none\" stroke=\"#000000\" d=\"M180.3317,-25.9752C167.1806,-30.3022 150.7115,-35.721 136.2962,-40.464\"/>\n",
       "<polygon fill=\"#000000\" stroke=\"#000000\" points=\"135.1157,-37.1677 126.7105,-43.6179 137.3035,-43.8171 135.1157,-37.1677\"/>\n",
       "<text text-anchor=\"middle\" x=\"139.5766\" y=\"-22.0196\" font-family=\"Times,serif\" font-size=\"14.00\" fill=\"#000000\">v₂ &#45; v₃</text>\n",
       "</g>\n",
       "<!-- 5 -->\n",
       "<g id=\"node5\" class=\"node\">\n",
       "<title>5</title>\n",
       "<ellipse fill=\"none\" stroke=\"#000000\" cx=\"223.5182\" cy=\"-230.5612\" rx=\"27\" ry=\"18\"/>\n",
       "<text text-anchor=\"middle\" x=\"223.5182\" y=\"-227.8787\" font-family=\"Times,serif\" font-size=\"14.00\" fill=\"#000000\">v₅</text>\n",
       "</g>\n",
       "<!-- 4&#45;&gt;5 -->\n",
       "<g id=\"edge2\" class=\"edge\">\n",
       "<title>4&#45;&gt;5</title>\n",
       "<path fill=\"none\" stroke=\"#000000\" d=\"M143.5205,-219.2857C156.6248,-221.1327 172.6268,-223.3882 186.8659,-225.3951\"/>\n",
       "<polygon fill=\"#000000\" stroke=\"#000000\" points=\"186.4654,-228.8732 196.856,-226.8032 187.4424,-221.9417 186.4654,-228.8732\"/>\n",
       "<text text-anchor=\"middle\" x=\"165.1932\" y=\"-211.1404\" font-family=\"Times,serif\" font-size=\"14.00\" fill=\"#000000\">&#45;v₄ + v₅</text>\n",
       "</g>\n",
       "<!-- 4&#45;&gt;6 -->\n",
       "<g id=\"edge8\" class=\"edge\">\n",
       "<title>4&#45;&gt;6</title>\n",
       "<path fill=\"none\" stroke=\"#000000\" d=\"M130.4366,-199.5595C142.1828,-185.7114 159.3415,-165.4824 172.6684,-149.771\"/>\n",
       "<polygon fill=\"#000000\" stroke=\"#000000\" points=\"175.4397,-151.9145 179.2392,-142.0244 170.1014,-147.3865 175.4397,-151.9145\"/>\n",
       "<text text-anchor=\"middle\" x=\"128.8674\" y=\"-180.5004\" font-family=\"Times,serif\" font-size=\"14.00\" fill=\"#000000\">&#45;v₄ + v₆</text>\n",
       "</g>\n",
       "<!-- 5&#45;&gt;6 -->\n",
       "<g id=\"edge3\" class=\"edge\">\n",
       "<title>5&#45;&gt;6</title>\n",
       "<path fill=\"none\" stroke=\"#000000\" d=\"M218.2853,-212.856C213.499,-196.6623 206.343,-172.4508 200.8102,-153.7311\"/>\n",
       "<polygon fill=\"#000000\" stroke=\"#000000\" points=\"204.1197,-152.58 197.9288,-143.9821 197.4068,-154.5641 204.1197,-152.58\"/>\n",
       "<text text-anchor=\"middle\" x=\"186.8627\" y=\"-189.1287\" font-family=\"Times,serif\" font-size=\"14.00\" fill=\"#000000\">&#45;v₅ + v₆</text>\n",
       "</g>\n",
       "<!-- 6&#45;&gt;3 -->\n",
       "<g id=\"edge4\" class=\"edge\">\n",
       "<title>6&#45;&gt;3</title>\n",
       "<path fill=\"none\" stroke=\"#000000\" d=\"M194.6889,-107.8372C196.5465,-90.9492 199.3293,-65.6489 201.469,-46.1966\"/>\n",
       "<polygon fill=\"#000000\" stroke=\"#000000\" points=\"204.9671,-46.4047 202.5815,-36.0819 198.009,-45.6393 204.9671,-46.4047\"/>\n",
       "<text text-anchor=\"middle\" x=\"179.3416\" y=\"-82.852\" font-family=\"Times,serif\" font-size=\"14.00\" fill=\"#000000\">v₃ &#45; v₆</text>\n",
       "</g>\n",
       "</g>\n",
       "</svg>\n"
      ],
      "text/plain": [
       "DiGraph(DiNode[DiNode(1,Dict{Symbol,Any}(Pair{Symbol,Any}(:label,v_1))),DiNode(2,Dict{Symbol,Any}(Pair{Symbol,Any}(:label,v_2))),DiNode(3,Dict{Symbol,Any}(Pair{Symbol,Any}(:label,v_3))),DiNode(4,Dict{Symbol,Any}(Pair{Symbol,Any}(:label,v_4))),DiNode(5,Dict{Symbol,Any}(Pair{Symbol,Any}(:label,v_5))),DiNode(6,Dict{Symbol,Any}(Pair{Symbol,Any}(:label,v_6)))],DiEdge[DiEdge(1=>4,Dict{Symbol,Any}(Pair{Symbol,Any}(:label,-v_1 + v_4),Pair{Symbol,Any}(:len,1.5))),DiEdge(4=>5,Dict{Symbol,Any}(Pair{Symbol,Any}(:label,-v_4 + v_5),Pair{Symbol,Any}(:len,1.5))),DiEdge(5=>6,Dict{Symbol,Any}(Pair{Symbol,Any}(:label,-v_5 + v_6),Pair{Symbol,Any}(:len,1.5))),DiEdge(6=>3,Dict{Symbol,Any}(Pair{Symbol,Any}(:label,v_3 - v_6),Pair{Symbol,Any}(:len,1.5))),DiEdge(3=>2,Dict{Symbol,Any}(Pair{Symbol,Any}(:label,v_2 - v_3),Pair{Symbol,Any}(:len,1.5))),DiEdge(2=>1,Dict{Symbol,Any}(Pair{Symbol,Any}(:label,v_1 - v_2),Pair{Symbol,Any}(:len,1.5))),DiEdge(2=>6,Dict{Symbol,Any}(Pair{Symbol,Any}(:label,-v_2 + v_6),Pair{Symbol,Any}(:len,1.5))),DiEdge(4=>6,Dict{Symbol,Any}(Pair{Symbol,Any}(:label,-v_4 + v_6),Pair{Symbol,Any}(:len,1.5)))],Dict{Symbol,Any}())"
      ]
     },
     "execution_count": 30,
     "metadata": {},
     "output_type": "execute_result"
    }
   ],
   "source": [
    "labels!(copy(g), edges=A*v, nodes=v)"
   ]
  },
  {
   "cell_type": "markdown",
   "metadata": {},
   "source": [
    "Now, let's ask the inverse question: **what voltage differences $d=Av$** can possibly arise?  i.e. what $d$ are in $C(A)$? \n",
    "\n",
    "Remember, $A$ is **not full rank**: its rank is 5, but there are 8 rows (8 edges).  So, $C(A)$ is 5-dimensional (\"missing\" three dimensions).  Equivalently $C(A)$ is **orthogonal to the left nullspace**, which has three rows.  What does this mean?\n",
    "\n",
    "Let's visualize the differences d:"
   ]
  },
  {
   "cell_type": "code",
   "execution_count": 36,
   "metadata": {
    "collapsed": false
   },
   "outputs": [
    {
     "data": {
      "image/svg+xml": [
       "<?xml version=\"1.0\" encoding=\"UTF-8\" standalone=\"no\"?>\n",
       "<!DOCTYPE svg PUBLIC \"-//W3C//DTD SVG 1.1//EN\"\n",
       " \"http://www.w3.org/Graphics/SVG/1.1/DTD/svg11.dtd\">\n",
       "<!-- Generated by graphviz version 2.40.1 (20161225.0304)\n",
       " -->\n",
       "<!-- Title: MyDiGraph Pages: 1 -->\n",
       "<svg width=\"259pt\" height=\"257pt\"\n",
       " viewBox=\"0.00 0.00 258.52 256.56\" xmlns=\"http://www.w3.org/2000/svg\" xmlns:xlink=\"http://www.w3.org/1999/xlink\">\n",
       "<g id=\"graph0\" class=\"graph\" transform=\"scale(1 1) rotate(0) translate(4 252.5612)\">\n",
       "<title>MyDiGraph</title>\n",
       "<polygon fill=\"#ffffff\" stroke=\"transparent\" points=\"-4,4 -4,-252.5612 254.5182,-252.5612 254.5182,4 -4,4\"/>\n",
       "<!-- 1 -->\n",
       "<g id=\"node1\" class=\"node\">\n",
       "<title>1</title>\n",
       "<ellipse fill=\"none\" stroke=\"#000000\" cx=\"27\" cy=\"-140.9451\" rx=\"27\" ry=\"18\"/>\n",
       "<text text-anchor=\"middle\" x=\"27\" y=\"-138.2626\" font-family=\"Times,serif\" font-size=\"14.00\" fill=\"#000000\">v₁</text>\n",
       "</g>\n",
       "<!-- 4 -->\n",
       "<g id=\"node4\" class=\"node\">\n",
       "<title>4</title>\n",
       "<ellipse fill=\"none\" stroke=\"#000000\" cx=\"116.8883\" cy=\"-215.532\" rx=\"27\" ry=\"18\"/>\n",
       "<text text-anchor=\"middle\" x=\"116.8883\" y=\"-212.8496\" font-family=\"Times,serif\" font-size=\"14.00\" fill=\"#000000\">v₄</text>\n",
       "</g>\n",
       "<!-- 1&#45;&gt;4 -->\n",
       "<g id=\"edge1\" class=\"edge\">\n",
       "<title>1&#45;&gt;4</title>\n",
       "<path fill=\"none\" stroke=\"#000000\" d=\"M44.3314,-155.3262C57.8476,-166.5416 76.8036,-182.2708 91.9506,-194.8393\"/>\n",
       "<polygon fill=\"#000000\" stroke=\"#000000\" points=\"89.9843,-197.7558 99.915,-201.448 94.4543,-192.3688 89.9843,-197.7558\"/>\n",
       "<text text-anchor=\"middle\" x=\"61.6879\" y=\"-180.9179\" font-family=\"Times,serif\" font-size=\"14.00\" fill=\"#000000\">d₁</text>\n",
       "</g>\n",
       "<!-- 2 -->\n",
       "<g id=\"node2\" class=\"node\">\n",
       "<title>2</title>\n",
       "<ellipse fill=\"none\" stroke=\"#000000\" cx=\"102.2914\" cy=\"-51.6524\" rx=\"27\" ry=\"18\"/>\n",
       "<text text-anchor=\"middle\" x=\"102.2914\" y=\"-48.97\" font-family=\"Times,serif\" font-size=\"14.00\" fill=\"#000000\">v₂</text>\n",
       "</g>\n",
       "<!-- 2&#45;&gt;1 -->\n",
       "<g id=\"edge6\" class=\"edge\">\n",
       "<title>2&#45;&gt;1</title>\n",
       "<path fill=\"none\" stroke=\"#000000\" d=\"M88.8308,-67.6162C77.1606,-81.4566 60.1129,-101.6744 46.8723,-117.3772\"/>\n",
       "<polygon fill=\"#000000\" stroke=\"#000000\" points=\"44.1146,-115.2183 40.3441,-125.1195 49.4661,-119.7307 44.1146,-115.2183\"/>\n",
       "<text text-anchor=\"middle\" x=\"61.3984\" y=\"-98.3319\" font-family=\"Times,serif\" font-size=\"14.00\" fill=\"#000000\">d₆</text>\n",
       "</g>\n",
       "<!-- 6 -->\n",
       "<g id=\"node6\" class=\"node\">\n",
       "<title>6</title>\n",
       "<ellipse fill=\"none\" stroke=\"#000000\" cx=\"192.6702\" cy=\"-126.1901\" rx=\"27\" ry=\"18\"/>\n",
       "<text text-anchor=\"middle\" x=\"192.6702\" y=\"-123.5077\" font-family=\"Times,serif\" font-size=\"14.00\" fill=\"#000000\">v₆</text>\n",
       "</g>\n",
       "<!-- 2&#45;&gt;6 -->\n",
       "<g id=\"edge7\" class=\"edge\">\n",
       "<title>2&#45;&gt;6</title>\n",
       "<path fill=\"none\" stroke=\"#000000\" d=\"M119.2909,-65.6724C132.8382,-76.8452 152.0133,-92.6594 167.3645,-105.3199\"/>\n",
       "<polygon fill=\"#000000\" stroke=\"#000000\" points=\"165.4978,-108.3172 175.4396,-111.9796 169.9517,-102.9168 165.4978,-108.3172\"/>\n",
       "<text text-anchor=\"middle\" x=\"136.8746\" y=\"-91.3313\" font-family=\"Times,serif\" font-size=\"14.00\" fill=\"#000000\">d₇</text>\n",
       "</g>\n",
       "<!-- 3 -->\n",
       "<g id=\"node3\" class=\"node\">\n",
       "<title>3</title>\n",
       "<ellipse fill=\"none\" stroke=\"#000000\" cx=\"204.5704\" cy=\"-18\" rx=\"27\" ry=\"18\"/>\n",
       "<text text-anchor=\"middle\" x=\"204.5704\" y=\"-15.3176\" font-family=\"Times,serif\" font-size=\"14.00\" fill=\"#000000\">v₃</text>\n",
       "</g>\n",
       "<!-- 3&#45;&gt;2 -->\n",
       "<g id=\"edge5\" class=\"edge\">\n",
       "<title>3&#45;&gt;2</title>\n",
       "<path fill=\"none\" stroke=\"#000000\" d=\"M180.3317,-25.9752C167.1806,-30.3022 150.7115,-35.721 136.2962,-40.464\"/>\n",
       "<polygon fill=\"#000000\" stroke=\"#000000\" points=\"135.1157,-37.1677 126.7105,-43.6179 137.3035,-43.8171 135.1157,-37.1677\"/>\n",
       "<text text-anchor=\"middle\" x=\"151.8608\" y=\"-39.0547\" font-family=\"Times,serif\" font-size=\"14.00\" fill=\"#000000\">d₅</text>\n",
       "</g>\n",
       "<!-- 5 -->\n",
       "<g id=\"node5\" class=\"node\">\n",
       "<title>5</title>\n",
       "<ellipse fill=\"none\" stroke=\"#000000\" cx=\"223.5182\" cy=\"-230.5612\" rx=\"27\" ry=\"18\"/>\n",
       "<text text-anchor=\"middle\" x=\"223.5182\" y=\"-227.8787\" font-family=\"Times,serif\" font-size=\"14.00\" fill=\"#000000\">v₅</text>\n",
       "</g>\n",
       "<!-- 4&#45;&gt;5 -->\n",
       "<g id=\"edge2\" class=\"edge\">\n",
       "<title>4&#45;&gt;5</title>\n",
       "<path fill=\"none\" stroke=\"#000000\" d=\"M143.5205,-219.2857C156.6248,-221.1327 172.6268,-223.3882 186.8659,-225.3951\"/>\n",
       "<polygon fill=\"#000000\" stroke=\"#000000\" points=\"186.4654,-228.8732 196.856,-226.8032 187.4424,-221.9417 186.4654,-228.8732\"/>\n",
       "<text text-anchor=\"middle\" x=\"158.7401\" y=\"-228.1756\" font-family=\"Times,serif\" font-size=\"14.00\" fill=\"#000000\">d₂</text>\n",
       "</g>\n",
       "<!-- 4&#45;&gt;6 -->\n",
       "<g id=\"edge8\" class=\"edge\">\n",
       "<title>4&#45;&gt;6</title>\n",
       "<path fill=\"none\" stroke=\"#000000\" d=\"M130.4366,-199.5595C142.1828,-185.7114 159.3415,-165.4824 172.6684,-149.771\"/>\n",
       "<polygon fill=\"#000000\" stroke=\"#000000\" points=\"175.4397,-151.9145 179.2392,-142.0244 170.1014,-147.3865 175.4397,-151.9145\"/>\n",
       "<text text-anchor=\"middle\" x=\"145.0994\" y=\"-180.5004\" font-family=\"Times,serif\" font-size=\"14.00\" fill=\"#000000\">d₈</text>\n",
       "</g>\n",
       "<!-- 5&#45;&gt;6 -->\n",
       "<g id=\"edge3\" class=\"edge\">\n",
       "<title>5&#45;&gt;6</title>\n",
       "<path fill=\"none\" stroke=\"#000000\" d=\"M218.2853,-212.856C213.499,-196.6623 206.343,-172.4508 200.8102,-153.7311\"/>\n",
       "<polygon fill=\"#000000\" stroke=\"#000000\" points=\"204.1197,-152.58 197.9288,-143.9821 197.4068,-154.5641 204.1197,-152.58\"/>\n",
       "<text text-anchor=\"middle\" x=\"203.0946\" y=\"-189.1287\" font-family=\"Times,serif\" font-size=\"14.00\" fill=\"#000000\">d₃</text>\n",
       "</g>\n",
       "<!-- 6&#45;&gt;3 -->\n",
       "<g id=\"edge4\" class=\"edge\">\n",
       "<title>6&#45;&gt;3</title>\n",
       "<path fill=\"none\" stroke=\"#000000\" d=\"M194.6889,-107.8372C196.5465,-90.9492 199.3293,-65.6489 201.469,-46.1966\"/>\n",
       "<polygon fill=\"#000000\" stroke=\"#000000\" points=\"204.9671,-46.4047 202.5815,-36.0819 198.009,-45.6393 204.9671,-46.4047\"/>\n",
       "<text text-anchor=\"middle\" x=\"191.6258\" y=\"-82.852\" font-family=\"Times,serif\" font-size=\"14.00\" fill=\"#000000\">d₄</text>\n",
       "</g>\n",
       "</g>\n",
       "</svg>\n"
      ],
      "text/plain": [
       "DiGraph(DiNode[DiNode(1,Dict{Symbol,Any}(Pair{Symbol,Any}(:label,v_1))),DiNode(2,Dict{Symbol,Any}(Pair{Symbol,Any}(:label,v_2))),DiNode(3,Dict{Symbol,Any}(Pair{Symbol,Any}(:label,v_3))),DiNode(4,Dict{Symbol,Any}(Pair{Symbol,Any}(:label,v_4))),DiNode(5,Dict{Symbol,Any}(Pair{Symbol,Any}(:label,v_5))),DiNode(6,Dict{Symbol,Any}(Pair{Symbol,Any}(:label,v_6)))],DiEdge[DiEdge(1=>4,Dict{Symbol,Any}(Pair{Symbol,Any}(:label,d_1),Pair{Symbol,Any}(:len,1.5))),DiEdge(4=>5,Dict{Symbol,Any}(Pair{Symbol,Any}(:label,d_2),Pair{Symbol,Any}(:len,1.5))),DiEdge(5=>6,Dict{Symbol,Any}(Pair{Symbol,Any}(:label,d_3),Pair{Symbol,Any}(:len,1.5))),DiEdge(6=>3,Dict{Symbol,Any}(Pair{Symbol,Any}(:label,d_4),Pair{Symbol,Any}(:len,1.5))),DiEdge(3=>2,Dict{Symbol,Any}(Pair{Symbol,Any}(:label,d_5),Pair{Symbol,Any}(:len,1.5))),DiEdge(2=>1,Dict{Symbol,Any}(Pair{Symbol,Any}(:label,d_6),Pair{Symbol,Any}(:len,1.5))),DiEdge(2=>6,Dict{Symbol,Any}(Pair{Symbol,Any}(:label,d_7),Pair{Symbol,Any}(:len,1.5))),DiEdge(4=>6,Dict{Symbol,Any}(Pair{Symbol,Any}(:label,d_8),Pair{Symbol,Any}(:len,1.5)))],Dict{Symbol,Any}())"
      ]
     },
     "execution_count": 36,
     "metadata": {},
     "output_type": "execute_result"
    }
   ],
   "source": [
    "d = [Sym(\"d_$j\") for j = 1:size(A,1)]\n",
    "labels!(copy(g), edges=d, nodes=v)"
   ]
  },
  {
   "cell_type": "markdown",
   "metadata": {},
   "source": [
    "If $N$ is a basis for the left nullspace, we must have $N^T d = 0$, or:"
   ]
  },
  {
   "cell_type": "code",
   "execution_count": 38,
   "metadata": {
    "collapsed": false
   },
   "outputs": [
    {
     "data": {
      "text/latex": [
       "\\begin{bmatrix}d_{1} + d_{2} + d_{3} + d_{4} + d_{5} + d_{6}\\\\d_{4} + d_{5} + d_{7}\\\\- d_{2} - d_{3} + d_{8}\\end{bmatrix}"
      ],
      "text/plain": [
       "3-element Array{SymPy.Sym,1}\n",
       "[d_1 + d_2 + d_3 + d_4 + d_5 + d_6]\n",
       "[                                 ]\n",
       "[         d_4 + d_5 + d_7         ]\n",
       "[                                 ]\n",
       "[        -d_2 - d_3 + d_8         ]"
      ]
     },
     "execution_count": 38,
     "metadata": {},
     "output_type": "execute_result"
    }
   ],
   "source": [
    "leftnullspace(g)' * d"
   ]
  },
  {
   "cell_type": "markdown",
   "metadata": {},
   "source": [
    "But what is this?  Remember, each element of the left nullspace corresponded to a **loop in the graph**.  Saying $N^T d = 0$, or $d \\perp N(A^T)$, is equivalent to saying that the **sum of the voltage drops around each loop = 0**.\n",
    "\n",
    "But this is precisely [Kirchhoff's voltage law](https://en.wikipedia.org/wiki/Kirchhoff's_circuit_laws) from circuit theory!"
   ]
  },
  {
   "cell_type": "markdown",
   "metadata": {},
   "source": [
    "### Kirchhoff's current law (KCL)\n",
    "\n",
    "To actually solve circuit problems, we need three additional ingredients:\n",
    "\n",
    "* The voltage difference $d$ must be divided by a resistance $R$ to get the *current* $i$ through that edge: $i = d/R = Yd$ (where $Y=1/R$ is the \"admittance\"), by [Ohm's law](https://en.wikipedia.org/wiki/Ohm's_law).\n",
    "\n",
    "* The sum of the currents $i$ entering each node must be zero, by Kirchhoff's current law (KCL).\n",
    "\n",
    "* To get a nontrivial solution, we need some kind of *source*: a battery or current source, to start currents flowing.\n",
    "\n",
    "How do we represent each one of these steps by linear-algebra operations?"
   ]
  },
  {
   "cell_type": "markdown",
   "metadata": {},
   "source": [
    "#### Ohm's law\n",
    "\n",
    "To represent Ohm's law, we need to multiply the voltage differences $d=Av$ by a *diagonal matrix* of admittances:"
   ]
  },
  {
   "cell_type": "code",
   "execution_count": 31,
   "metadata": {
    "collapsed": false
   },
   "outputs": [
    {
     "data": {
      "text/latex": [
       "\\begin{bmatrix}Y_{1}&0&0&0&0&0&0&0\\\\0&Y_{2}&0&0&0&0&0&0\\\\0&0&Y_{3}&0&0&0&0&0\\\\0&0&0&Y_{4}&0&0&0&0\\\\0&0&0&0&Y_{5}&0&0&0\\\\0&0&0&0&0&Y_{6}&0&0\\\\0&0&0&0&0&0&Y_{7}&0\\\\0&0&0&0&0&0&0&Y_{8}\\end{bmatrix}"
      ],
      "text/plain": [
       "8×8 Array{SymPy.Sym,2}\n",
       "[Y_1   0    0    0    0    0    0    0 ]\n",
       "[                                      ]\n",
       "[ 0   Y_2   0    0    0    0    0    0 ]\n",
       "[                                      ]\n",
       "[ 0    0   Y_3   0    0    0    0    0 ]\n",
       "[                                      ]\n",
       "[ 0    0    0   Y_4   0    0    0    0 ]\n",
       "[                                      ]\n",
       "[ 0    0    0    0   Y_5   0    0    0 ]\n",
       "[                                      ]\n",
       "[ 0    0    0    0    0   Y_6   0    0 ]\n",
       "[                                      ]\n",
       "[ 0    0    0    0    0    0   Y_7   0 ]\n",
       "[                                      ]\n",
       "[ 0    0    0    0    0    0    0   Y_8]"
      ]
     },
     "execution_count": 31,
     "metadata": {},
     "output_type": "execute_result"
    }
   ],
   "source": [
    "Y = diagm([Sym(\"Y_$i\") for i = 1:size(A,1)])"
   ]
  },
  {
   "cell_type": "code",
   "execution_count": 39,
   "metadata": {
    "collapsed": false
   },
   "outputs": [
    {
     "data": {
      "text/latex": [
       "\\begin{bmatrix}Y_{1} d_{1}\\\\Y_{2} d_{2}\\\\Y_{3} d_{3}\\\\Y_{4} d_{4}\\\\Y_{5} d_{5}\\\\Y_{6} d_{6}\\\\Y_{7} d_{7}\\\\Y_{8} d_{8}\\end{bmatrix}"
      ],
      "text/plain": [
       "8-element Array{SymPy.Sym,1}\n",
       "[Y_1*d_1]\n",
       "[       ]\n",
       "[Y_2*d_2]\n",
       "[       ]\n",
       "[Y_3*d_3]\n",
       "[       ]\n",
       "[Y_4*d_4]\n",
       "[       ]\n",
       "[Y_5*d_5]\n",
       "[       ]\n",
       "[Y_6*d_6]\n",
       "[       ]\n",
       "[Y_7*d_7]\n",
       "[       ]\n",
       "[Y_8*d_8]"
      ]
     },
     "execution_count": 39,
     "metadata": {},
     "output_type": "execute_result"
    }
   ],
   "source": [
    "Y*d"
   ]
  },
  {
   "cell_type": "code",
   "execution_count": 40,
   "metadata": {
    "collapsed": false
   },
   "outputs": [
    {
     "data": {
      "text/latex": [
       "\\begin{bmatrix}- Y_{1} v_{1} + Y_{1} v_{4}\\\\- Y_{2} v_{4} + Y_{2} v_{5}\\\\- Y_{3} v_{5} + Y_{3} v_{6}\\\\Y_{4} v_{3} - Y_{4} v_{6}\\\\Y_{5} v_{2} - Y_{5} v_{3}\\\\Y_{6} v_{1} - Y_{6} v_{2}\\\\- Y_{7} v_{2} + Y_{7} v_{6}\\\\- Y_{8} v_{4} + Y_{8} v_{6}\\end{bmatrix}"
      ],
      "text/plain": [
       "8-element Array{SymPy.Sym,1}\n",
       "[-Y_1*v_1 + Y_1*v_4]\n",
       "[                  ]\n",
       "[-Y_2*v_4 + Y_2*v_5]\n",
       "[                  ]\n",
       "[-Y_3*v_5 + Y_3*v_6]\n",
       "[                  ]\n",
       "[Y_4*v_3 - Y_4*v_6 ]\n",
       "[                  ]\n",
       "[Y_5*v_2 - Y_5*v_3 ]\n",
       "[                  ]\n",
       "[Y_6*v_1 - Y_6*v_2 ]\n",
       "[                  ]\n",
       "[-Y_7*v_2 + Y_7*v_6]\n",
       "[                  ]\n",
       "[-Y_8*v_4 + Y_8*v_6]"
      ]
     },
     "execution_count": 40,
     "metadata": {},
     "output_type": "execute_result"
    }
   ],
   "source": [
    "Y*A*v"
   ]
  },
  {
   "cell_type": "markdown",
   "metadata": {},
   "source": [
    "#### Net current into each node\n",
    "\n",
    "Given the currents $i$, a little thought shows that the net current flowing into each node is precisely $A^T i$:"
   ]
  },
  {
   "cell_type": "code",
   "execution_count": 41,
   "metadata": {
    "collapsed": false
   },
   "outputs": [
    {
     "data": {
      "text/latex": [
       "\\begin{bmatrix}- i_{1} + i_{6}\\\\i_{5} - i_{6} - i_{7}\\\\i_{4} - i_{5}\\\\i_{1} - i_{2} - i_{8}\\\\i_{2} - i_{3}\\\\i_{3} - i_{4} + i_{7} + i_{8}\\end{bmatrix}"
      ],
      "text/plain": [
       "6-element Array{SymPy.Sym,1}\n",
       "[     -i_1 + i_6      ]\n",
       "[                     ]\n",
       "[   i_5 - i_6 - i_7   ]\n",
       "[                     ]\n",
       "[      i_4 - i_5      ]\n",
       "[                     ]\n",
       "[   i_1 - i_2 - i_8   ]\n",
       "[                     ]\n",
       "[      i_2 - i_3      ]\n",
       "[                     ]\n",
       "[i_3 - i_4 + i_7 + i_8]"
      ]
     },
     "execution_count": 41,
     "metadata": {},
     "output_type": "execute_result"
    }
   ],
   "source": [
    "i = [Sym(\"i_$j\") for j=1:size(A,1)]\n",
    "A'*i"
   ]
  },
  {
   "cell_type": "code",
   "execution_count": 42,
   "metadata": {
    "collapsed": false
   },
   "outputs": [
    {
     "data": {
      "image/svg+xml": [
       "<?xml version=\"1.0\" encoding=\"UTF-8\" standalone=\"no\"?>\n",
       "<!DOCTYPE svg PUBLIC \"-//W3C//DTD SVG 1.1//EN\"\n",
       " \"http://www.w3.org/Graphics/SVG/1.1/DTD/svg11.dtd\">\n",
       "<!-- Generated by graphviz version 2.40.1 (20161225.0304)\n",
       " -->\n",
       "<!-- Title: MyDiGraph Pages: 1 -->\n",
       "<svg width=\"279pt\" height=\"257pt\"\n",
       " viewBox=\"0.00 0.00 279.28 256.56\" xmlns=\"http://www.w3.org/2000/svg\" xmlns:xlink=\"http://www.w3.org/1999/xlink\">\n",
       "<g id=\"graph0\" class=\"graph\" transform=\"scale(1 1) rotate(0) translate(4 252.5612)\">\n",
       "<title>MyDiGraph</title>\n",
       "<polygon fill=\"#ffffff\" stroke=\"transparent\" points=\"-4,4 -4,-252.5612 275.2822,-252.5612 275.2822,4 -4,4\"/>\n",
       "<!-- 1 -->\n",
       "<g id=\"node1\" class=\"node\">\n",
       "<title>1</title>\n",
       "<ellipse fill=\"none\" stroke=\"#000000\" cx=\"38.3727\" cy=\"-140.9451\" rx=\"38.2458\" ry=\"18\"/>\n",
       "<text text-anchor=\"middle\" x=\"38.3727\" y=\"-138.2626\" font-family=\"Times,serif\" font-size=\"14.00\" fill=\"#000000\">&#45;i₁ + i₆</text>\n",
       "</g>\n",
       "<!-- 4 -->\n",
       "<g id=\"node4\" class=\"node\">\n",
       "<title>4</title>\n",
       "<ellipse fill=\"none\" stroke=\"#000000\" cx=\"128.261\" cy=\"-215.532\" rx=\"47.6196\" ry=\"18\"/>\n",
       "<text text-anchor=\"middle\" x=\"128.261\" y=\"-212.8496\" font-family=\"Times,serif\" font-size=\"14.00\" fill=\"#000000\">i₁ &#45; i₂ &#45; i₈</text>\n",
       "</g>\n",
       "<!-- 1&#45;&gt;4 -->\n",
       "<g id=\"edge1\" class=\"edge\">\n",
       "<title>1&#45;&gt;4</title>\n",
       "<path fill=\"none\" stroke=\"#000000\" d=\"M57.4357,-156.763C69.9289,-167.1296 86.4694,-180.8544 100.4238,-192.4334\"/>\n",
       "<polygon fill=\"#000000\" stroke=\"#000000\" points=\"98.3603,-195.2692 108.2909,-198.9614 102.8302,-189.8822 98.3603,-195.2692\"/>\n",
       "<text text-anchor=\"middle\" x=\"74.0318\" y=\"-180.4334\" font-family=\"Times,serif\" font-size=\"14.00\" fill=\"#000000\">i₁</text>\n",
       "</g>\n",
       "<!-- 2 -->\n",
       "<g id=\"node2\" class=\"node\">\n",
       "<title>2</title>\n",
       "<ellipse fill=\"none\" stroke=\"#000000\" cx=\"113.6641\" cy=\"-51.6524\" rx=\"47.6196\" ry=\"18\"/>\n",
       "<text text-anchor=\"middle\" x=\"113.6641\" y=\"-48.97\" font-family=\"Times,serif\" font-size=\"14.00\" fill=\"#000000\">i₅ &#45; i₆ &#45; i₇</text>\n",
       "</g>\n",
       "<!-- 2&#45;&gt;1 -->\n",
       "<g id=\"edge6\" class=\"edge\">\n",
       "<title>2&#45;&gt;1</title>\n",
       "<path fill=\"none\" stroke=\"#000000\" d=\"M99.1471,-68.869C87.8258,-82.2956 71.948,-101.126 59.2608,-116.1726\"/>\n",
       "<polygon fill=\"#000000\" stroke=\"#000000\" points=\"56.3602,-114.183 52.5897,-124.0842 61.7117,-118.6954 56.3602,-114.183\"/>\n",
       "<text text-anchor=\"middle\" x=\"74.306\" y=\"-98.3559\" font-family=\"Times,serif\" font-size=\"14.00\" fill=\"#000000\">i₆</text>\n",
       "</g>\n",
       "<!-- 6 -->\n",
       "<g id=\"node6\" class=\"node\">\n",
       "<title>6</title>\n",
       "<ellipse fill=\"none\" stroke=\"#000000\" cx=\"204.0429\" cy=\"-126.1901\" rx=\"67.4795\" ry=\"18\"/>\n",
       "<text text-anchor=\"middle\" x=\"204.0429\" y=\"-123.5077\" font-family=\"Times,serif\" font-size=\"14.00\" fill=\"#000000\">i₃ &#45; i₄ + i₇ + i₈</text>\n",
       "</g>\n",
       "<!-- 2&#45;&gt;6 -->\n",
       "<g id=\"edge7\" class=\"edge\">\n",
       "<title>2&#45;&gt;6</title>\n",
       "<path fill=\"none\" stroke=\"#000000\" d=\"M133.722,-68.1948C145.8667,-78.2108 161.5623,-91.1553 175.0429,-102.2732\"/>\n",
       "<polygon fill=\"#000000\" stroke=\"#000000\" points=\"173.157,-105.2546 183.0988,-108.917 177.6109,-99.8542 173.157,-105.2546\"/>\n",
       "<text text-anchor=\"middle\" x=\"149.4845\" y=\"-91.0691\" font-family=\"Times,serif\" font-size=\"14.00\" fill=\"#000000\">i₇</text>\n",
       "</g>\n",
       "<!-- 3 -->\n",
       "<g id=\"node3\" class=\"node\">\n",
       "<title>3</title>\n",
       "<ellipse fill=\"none\" stroke=\"#000000\" cx=\"215.9431\" cy=\"-18\" rx=\"32.7585\" ry=\"18\"/>\n",
       "<text text-anchor=\"middle\" x=\"215.9431\" y=\"-15.3176\" font-family=\"Times,serif\" font-size=\"14.00\" fill=\"#000000\">i₄ &#45; i₅</text>\n",
       "</g>\n",
       "<!-- 3&#45;&gt;2 -->\n",
       "<g id=\"edge5\" class=\"edge\">\n",
       "<title>3&#45;&gt;2</title>\n",
       "<path fill=\"none\" stroke=\"#000000\" d=\"M187.7241,-27.2848C178.9435,-30.1738 169.0262,-33.4369 159.3702,-36.6139\"/>\n",
       "<polygon fill=\"#000000\" stroke=\"#000000\" points=\"158.2582,-33.2951 149.8531,-39.7453 160.4461,-39.9445 158.2582,-33.2951\"/>\n",
       "<text text-anchor=\"middle\" x=\"168.6492\" y=\"-37.7845\" font-family=\"Times,serif\" font-size=\"14.00\" fill=\"#000000\">i₅</text>\n",
       "</g>\n",
       "<!-- 5 -->\n",
       "<g id=\"node5\" class=\"node\">\n",
       "<title>5</title>\n",
       "<ellipse fill=\"none\" stroke=\"#000000\" cx=\"234.8909\" cy=\"-230.5612\" rx=\"32.7585\" ry=\"18\"/>\n",
       "<text text-anchor=\"middle\" x=\"234.8909\" y=\"-227.8787\" font-family=\"Times,serif\" font-size=\"14.00\" fill=\"#000000\">i₂ &#45; i₃</text>\n",
       "</g>\n",
       "<!-- 4&#45;&gt;5 -->\n",
       "<g id=\"edge2\" class=\"edge\">\n",
       "<title>4&#45;&gt;5</title>\n",
       "<path fill=\"none\" stroke=\"#000000\" d=\"M173.1726,-221.8621C179.7465,-222.7887 186.4952,-223.7399 193.0053,-224.6575\"/>\n",
       "<polygon fill=\"#000000\" stroke=\"#000000\" points=\"192.589,-228.1333 202.9797,-226.0634 193.5661,-221.2019 192.589,-228.1333\"/>\n",
       "<text text-anchor=\"middle\" x=\"187.9869\" y=\"-229.095\" font-family=\"Times,serif\" font-size=\"14.00\" fill=\"#000000\">i₂</text>\n",
       "</g>\n",
       "<!-- 4&#45;&gt;6 -->\n",
       "<g id=\"edge8\" class=\"edge\">\n",
       "<title>4&#45;&gt;6</title>\n",
       "<path fill=\"none\" stroke=\"#000000\" d=\"M142.8725,-198.306C154.0498,-185.1286 169.6397,-166.7492 182.2832,-151.8434\"/>\n",
       "<polygon fill=\"#000000\" stroke=\"#000000\" points=\"185.158,-153.8649 188.9575,-143.9748 179.8197,-149.3368 185.158,-153.8649\"/>\n",
       "<text text-anchor=\"middle\" x=\"157.6799\" y=\"-180.9098\" font-family=\"Times,serif\" font-size=\"14.00\" fill=\"#000000\">i₈</text>\n",
       "</g>\n",
       "<!-- 5&#45;&gt;6 -->\n",
       "<g id=\"edge3\" class=\"edge\">\n",
       "<title>5&#45;&gt;6</title>\n",
       "<path fill=\"none\" stroke=\"#000000\" d=\"M229.5176,-212.3811C224.7403,-196.2177 217.6846,-172.3454 212.2093,-153.8205\"/>\n",
       "<polygon fill=\"#000000\" stroke=\"#000000\" points=\"215.5455,-152.7597 209.3546,-144.1619 208.8326,-154.7438 215.5455,-152.7597\"/>\n",
       "<text text-anchor=\"middle\" x=\"215.9655\" y=\"-188.9359\" font-family=\"Times,serif\" font-size=\"14.00\" fill=\"#000000\">i₃</text>\n",
       "</g>\n",
       "<!-- 6&#45;&gt;3 -->\n",
       "<g id=\"edge4\" class=\"edge\">\n",
       "<title>6&#45;&gt;3</title>\n",
       "<path fill=\"none\" stroke=\"#000000\" d=\"M206.0616,-107.8372C207.9191,-90.9492 210.702,-65.6489 212.8416,-46.1966\"/>\n",
       "<polygon fill=\"#000000\" stroke=\"#000000\" points=\"216.3398,-46.4047 213.9542,-36.0819 209.3817,-45.6393 216.3398,-46.4047\"/>\n",
       "<text text-anchor=\"middle\" x=\"204.5536\" y=\"-82.852\" font-family=\"Times,serif\" font-size=\"14.00\" fill=\"#000000\">i₄</text>\n",
       "</g>\n",
       "</g>\n",
       "</svg>\n"
      ],
      "text/plain": [
       "DiGraph(DiNode[DiNode(1,Dict{Symbol,Any}(Pair{Symbol,Any}(:label,-i_1 + i_6))),DiNode(2,Dict{Symbol,Any}(Pair{Symbol,Any}(:label,i_5 - i_6 - i_7))),DiNode(3,Dict{Symbol,Any}(Pair{Symbol,Any}(:label,i_4 - i_5))),DiNode(4,Dict{Symbol,Any}(Pair{Symbol,Any}(:label,i_1 - i_2 - i_8))),DiNode(5,Dict{Symbol,Any}(Pair{Symbol,Any}(:label,i_2 - i_3))),DiNode(6,Dict{Symbol,Any}(Pair{Symbol,Any}(:label,i_3 - i_4 + i_7 + i_8)))],DiEdge[DiEdge(1=>4,Dict{Symbol,Any}(Pair{Symbol,Any}(:label,i_1),Pair{Symbol,Any}(:len,1.5))),DiEdge(4=>5,Dict{Symbol,Any}(Pair{Symbol,Any}(:label,i_2),Pair{Symbol,Any}(:len,1.5))),DiEdge(5=>6,Dict{Symbol,Any}(Pair{Symbol,Any}(:label,i_3),Pair{Symbol,Any}(:len,1.5))),DiEdge(6=>3,Dict{Symbol,Any}(Pair{Symbol,Any}(:label,i_4),Pair{Symbol,Any}(:len,1.5))),DiEdge(3=>2,Dict{Symbol,Any}(Pair{Symbol,Any}(:label,i_5),Pair{Symbol,Any}(:len,1.5))),DiEdge(2=>1,Dict{Symbol,Any}(Pair{Symbol,Any}(:label,i_6),Pair{Symbol,Any}(:len,1.5))),DiEdge(2=>6,Dict{Symbol,Any}(Pair{Symbol,Any}(:label,i_7),Pair{Symbol,Any}(:len,1.5))),DiEdge(4=>6,Dict{Symbol,Any}(Pair{Symbol,Any}(:label,i_8),Pair{Symbol,Any}(:len,1.5)))],Dict{Symbol,Any}())"
      ]
     },
     "execution_count": 42,
     "metadata": {},
     "output_type": "execute_result"
    }
   ],
   "source": [
    "labels!(copy(g), edges=i, nodes=A'*i)"
   ]
  },
  {
   "cell_type": "markdown",
   "metadata": {},
   "source": [
    "Why is this?  The reason is that each row $A^T$ corresponds to a node, and has $\\pm 1$ for each edge going into or out of the node, exactly the right sign to sum the net currents flowing in:"
   ]
  },
  {
   "cell_type": "code",
   "execution_count": 43,
   "metadata": {
    "collapsed": false
   },
   "outputs": [
    {
     "data": {
      "text/plain": [
       "6×8 Array{Int64,2}:\n",
       " -1   0   0   0   0   1   0   0\n",
       "  0   0   0   0   1  -1  -1   0\n",
       "  0   0   0   1  -1   0   0   0\n",
       "  1  -1   0   0   0   0   0  -1\n",
       "  0   1  -1   0   0   0   0   0\n",
       "  0   0   1  -1   0   0   1   1"
      ]
     },
     "execution_count": 43,
     "metadata": {},
     "output_type": "execute_result"
    }
   ],
   "source": [
    "A'"
   ]
  },
  {
   "cell_type": "markdown",
   "metadata": {},
   "source": [
    "Putting it together, given voltages $v$, the net current flowing into each node is\n",
    "\n",
    "$$\n",
    "A^T Y A v\n",
    "$$\n",
    "\n",
    "The matrix $A^T Y A$ is a very special and important kind of matrix.  It is obviously **symmetric**, and later on in the course we will see that any matrix of this form is necessarily **positive semidefinite** (all pivots are ≥ 0).   Many important matrices in science, engineering, statistics, and other fields take on this special form.\n",
    "\n",
    "If we multiply $A^T Y A$ together, not all of its specialness is apparent.  It is often better to leave it in \"factored\" form:"
   ]
  },
  {
   "cell_type": "code",
   "execution_count": 44,
   "metadata": {
    "collapsed": false
   },
   "outputs": [
    {
     "data": {
      "text/latex": [
       "\\begin{bmatrix}Y_{1} + Y_{6}&- Y_{6}&0&- Y_{1}&0&0\\\\- Y_{6}&Y_{5} + Y_{6} + Y_{7}&- Y_{5}&0&0&- Y_{7}\\\\0&- Y_{5}&Y_{4} + Y_{5}&0&0&- Y_{4}\\\\- Y_{1}&0&0&Y_{1} + Y_{2} + Y_{8}&- Y_{2}&- Y_{8}\\\\0&0&0&- Y_{2}&Y_{2} + Y_{3}&- Y_{3}\\\\0&- Y_{7}&- Y_{4}&- Y_{8}&- Y_{3}&Y_{3} + Y_{4} + Y_{7} + Y_{8}\\end{bmatrix}"
      ],
      "text/plain": [
       "6×6 Array{SymPy.Sym,2}\n",
       "[Y_1 + Y_6       -Y_6            0           -Y_1            0                \n",
       "[                                                                             \n",
       "[  -Y_6     Y_5 + Y_6 + Y_7    -Y_5            0             0              -Y\n",
       "[                                                                             \n",
       "[    0           -Y_5        Y_4 + Y_5         0             0              -Y\n",
       "[                                                                             \n",
       "[  -Y_1            0             0      Y_1 + Y_2 + Y_8    -Y_2             -Y\n",
       "[                                                                             \n",
       "[    0             0             0           -Y_2        Y_2 + Y_3          -Y\n",
       "[                                                                             \n",
       "[    0           -Y_7          -Y_4          -Y_8          -Y_3     Y_3 + Y_4 \n",
       "\n",
       "0          ]\n",
       "           ]\n",
       "_7         ]\n",
       "           ]\n",
       "_4         ]\n",
       "           ]\n",
       "_8         ]\n",
       "           ]\n",
       "_3         ]\n",
       "           ]\n",
       "+ Y_7 + Y_8]"
      ]
     },
     "execution_count": 44,
     "metadata": {},
     "output_type": "execute_result"
    }
   ],
   "source": [
    "A' * Y * A"
   ]
  },
  {
   "cell_type": "markdown",
   "metadata": {
    "collapsed": false
   },
   "source": [
    "#### Null space\n",
    "\n",
    "If we just say that the net current flowing into each node is zero, we get the equation:\n",
    "$$\n",
    "A^T Y A v = 0\n",
    "$$\n",
    "or $v \\in N(A^T Y A) = N(A)$.\n",
    "\n",
    "It is an amazing and important fact that $N(A^T Y A) = N(A)$!!  (You saw a version of this in homework.)   Why is this?  Clearly, if $Ax = 0$ then $A^T Y Ax=0$.  But what about the converse?  Here is a trick: if $A^T Y Ax =0$, then $x^T A^T Y A x=0 = (Ax)^T Y (Ax)$.  Let $y=Ax$.  It is easy to see that $y^T Y y = \\sum_i Y_i y_i^2 = 0$ only if $y=0$, since all of the admittances $Y_i$ are positive.  (We will later say that $Y$ is a \"positive-definite matrix\".)  This means that $A^T Y Ax =0$ implies that $y=Ax=0$, which implies that $x \\in N(A)$.\n",
    "\n",
    "What is $N(A)$? The rank of $A$ is 5, so $N(A)$ must be **1-dimensional**.  A basis for it is:"
   ]
  },
  {
   "cell_type": "code",
   "execution_count": 45,
   "metadata": {
    "collapsed": false
   },
   "outputs": [
    {
     "data": {
      "text/plain": [
       "6×1 Array{Float64,2}:\n",
       " 0.408248\n",
       " 0.408248\n",
       " 0.408248\n",
       " 0.408248\n",
       " 0.408248\n",
       " 0.408248"
      ]
     },
     "execution_count": 45,
     "metadata": {},
     "output_type": "execute_result"
    }
   ],
   "source": [
    "nullspace(A)"
   ]
  },
  {
   "cell_type": "markdown",
   "metadata": {
    "collapsed": true
   },
   "source": [
    "But this is, of course, just the space of vectors where **all voltages are equal**.   In hindsight, this should be obvious: if all the voltages are equal, then their difference are zero, and the currents are zero, and KCL is satisfied."
   ]
  },
  {
   "cell_type": "markdown",
   "metadata": {},
   "source": [
    "### Current sources\n",
    "\n",
    "Of course, it is much more interesting to think about circuits when the currents are nonzero!\n",
    "\n",
    "To do this, we must consider a **source term** in the equations, and in particular we could try to solve\n",
    "\n",
    "$$\n",
    "A^T Y A v = s\n",
    "$$\n",
    "\n",
    "for some $s\\ne 0$.  What does $s$ represent?  It is precisely an **external source of current** flowing **into each node**.\n",
    "\n",
    "For this to have a solution, however, we must have $s \\in C(A^T Y A) = N(A^T Y A)^T = N(A)^T$ (since $A^T Y A$ is symmetric, the left and right nullspaces are equal).  We know a basis for $N(A)$ from above, so this boils down to:\n",
    "\n",
    "$$\n",
    "\\begin{pmatrix} 1 & 1 & 1 & 1 & 1 & 1 \\end{pmatrix} s = 0 = \\sum_{i=1}^6 s_i\n",
    "$$\n",
    "\n",
    "That is, to have a solution, **all current that flows in must flow out**, so that the net current flowing into the circuit is zero.  This makes a lot of physical sense!"
   ]
  },
  {
   "cell_type": "markdown",
   "metadata": {},
   "source": [
    "Just for fun, let's solve this circuit problem when the current is flowing **into node 1** and **out through node 2**, with slider controls for the 8 admittances:"
   ]
  },
  {
   "cell_type": "code",
   "execution_count": 48,
   "metadata": {
    "collapsed": false
   },
   "outputs": [
    {
     "data": {
      "text/plain": [
       "twodigits (generic function with 1 method)"
      ]
     },
     "execution_count": 48,
     "metadata": {},
     "output_type": "execute_result"
    }
   ],
   "source": [
    "twodigits(x) = round(x, 2)"
   ]
  },
  {
   "cell_type": "code",
   "execution_count": 52,
   "metadata": {
    "collapsed": false
   },
   "outputs": [
    {
     "data": {
      "text/html": [],
      "text/plain": [
       "Interact.Options{:SelectionSlider,Float64}(Signal{Float64}(5.0, nactions=1),\"Y₁\",5.0,\"5.0\",Interact.OptionDict(DataStructures.OrderedDict(\"0.1\"=>0.1,\"0.2\"=>0.2,\"0.3\"=>0.3,\"0.4\"=>0.4,\"0.5\"=>0.5,\"0.6\"=>0.6,\"0.7\"=>0.7,\"0.8\"=>0.8,\"0.9\"=>0.9,\"1.0\"=>1.0…),Dict(1.2=>\"1.2\",4.3=>\"4.3\",9.6=>\"9.6\",2.0=>\"2.0\",1.5=>\"1.5\",7.1=>\"7.1\",1.4=>\"1.4\",7.4=>\"7.4\",6.2=>\"6.2\",0.2=>\"0.2\"…)),Any[],Any[],true,\"horizontal\")"
      ]
     },
     "metadata": {},
     "output_type": "display_data"
    },
    {
     "data": {
      "text/html": [],
      "text/plain": [
       "Interact.Options{:SelectionSlider,Float64}(Signal{Float64}(5.0, nactions=1),\"Y₂\",5.0,\"5.0\",Interact.OptionDict(DataStructures.OrderedDict(\"0.1\"=>0.1,\"0.2\"=>0.2,\"0.3\"=>0.3,\"0.4\"=>0.4,\"0.5\"=>0.5,\"0.6\"=>0.6,\"0.7\"=>0.7,\"0.8\"=>0.8,\"0.9\"=>0.9,\"1.0\"=>1.0…),Dict(1.2=>\"1.2\",4.3=>\"4.3\",9.6=>\"9.6\",2.0=>\"2.0\",1.5=>\"1.5\",7.1=>\"7.1\",1.4=>\"1.4\",7.4=>\"7.4\",6.2=>\"6.2\",0.2=>\"0.2\"…)),Any[],Any[],true,\"horizontal\")"
      ]
     },
     "metadata": {},
     "output_type": "display_data"
    },
    {
     "data": {
      "text/html": [],
      "text/plain": [
       "Interact.Options{:SelectionSlider,Float64}(Signal{Float64}(5.0, nactions=1),\"Y₃\",5.0,\"5.0\",Interact.OptionDict(DataStructures.OrderedDict(\"0.1\"=>0.1,\"0.2\"=>0.2,\"0.3\"=>0.3,\"0.4\"=>0.4,\"0.5\"=>0.5,\"0.6\"=>0.6,\"0.7\"=>0.7,\"0.8\"=>0.8,\"0.9\"=>0.9,\"1.0\"=>1.0…),Dict(1.2=>\"1.2\",4.3=>\"4.3\",9.6=>\"9.6\",2.0=>\"2.0\",1.5=>\"1.5\",7.1=>\"7.1\",1.4=>\"1.4\",7.4=>\"7.4\",6.2=>\"6.2\",0.2=>\"0.2\"…)),Any[],Any[],true,\"horizontal\")"
      ]
     },
     "metadata": {},
     "output_type": "display_data"
    },
    {
     "data": {
      "text/html": [],
      "text/plain": [
       "Interact.Options{:SelectionSlider,Float64}(Signal{Float64}(5.0, nactions=1),\"Y₄\",5.0,\"5.0\",Interact.OptionDict(DataStructures.OrderedDict(\"0.1\"=>0.1,\"0.2\"=>0.2,\"0.3\"=>0.3,\"0.4\"=>0.4,\"0.5\"=>0.5,\"0.6\"=>0.6,\"0.7\"=>0.7,\"0.8\"=>0.8,\"0.9\"=>0.9,\"1.0\"=>1.0…),Dict(1.2=>\"1.2\",4.3=>\"4.3\",9.6=>\"9.6\",2.0=>\"2.0\",1.5=>\"1.5\",7.1=>\"7.1\",1.4=>\"1.4\",7.4=>\"7.4\",6.2=>\"6.2\",0.2=>\"0.2\"…)),Any[],Any[],true,\"horizontal\")"
      ]
     },
     "metadata": {},
     "output_type": "display_data"
    },
    {
     "data": {
      "text/html": [],
      "text/plain": [
       "Interact.Options{:SelectionSlider,Float64}(Signal{Float64}(5.0, nactions=1),\"Y₅\",5.0,\"5.0\",Interact.OptionDict(DataStructures.OrderedDict(\"0.1\"=>0.1,\"0.2\"=>0.2,\"0.3\"=>0.3,\"0.4\"=>0.4,\"0.5\"=>0.5,\"0.6\"=>0.6,\"0.7\"=>0.7,\"0.8\"=>0.8,\"0.9\"=>0.9,\"1.0\"=>1.0…),Dict(1.2=>\"1.2\",4.3=>\"4.3\",9.6=>\"9.6\",2.0=>\"2.0\",1.5=>\"1.5\",7.1=>\"7.1\",1.4=>\"1.4\",7.4=>\"7.4\",6.2=>\"6.2\",0.2=>\"0.2\"…)),Any[],Any[],true,\"horizontal\")"
      ]
     },
     "metadata": {},
     "output_type": "display_data"
    },
    {
     "data": {
      "text/html": [],
      "text/plain": [
       "Interact.Options{:SelectionSlider,Float64}(Signal{Float64}(5.0, nactions=1),\"Y₆\",5.0,\"5.0\",Interact.OptionDict(DataStructures.OrderedDict(\"0.1\"=>0.1,\"0.2\"=>0.2,\"0.3\"=>0.3,\"0.4\"=>0.4,\"0.5\"=>0.5,\"0.6\"=>0.6,\"0.7\"=>0.7,\"0.8\"=>0.8,\"0.9\"=>0.9,\"1.0\"=>1.0…),Dict(1.2=>\"1.2\",4.3=>\"4.3\",9.6=>\"9.6\",2.0=>\"2.0\",1.5=>\"1.5\",7.1=>\"7.1\",1.4=>\"1.4\",7.4=>\"7.4\",6.2=>\"6.2\",0.2=>\"0.2\"…)),Any[],Any[],true,\"horizontal\")"
      ]
     },
     "metadata": {},
     "output_type": "display_data"
    },
    {
     "data": {
      "text/html": [],
      "text/plain": [
       "Interact.Options{:SelectionSlider,Float64}(Signal{Float64}(5.0, nactions=1),\"Y₇\",5.0,\"5.0\",Interact.OptionDict(DataStructures.OrderedDict(\"0.1\"=>0.1,\"0.2\"=>0.2,\"0.3\"=>0.3,\"0.4\"=>0.4,\"0.5\"=>0.5,\"0.6\"=>0.6,\"0.7\"=>0.7,\"0.8\"=>0.8,\"0.9\"=>0.9,\"1.0\"=>1.0…),Dict(1.2=>\"1.2\",4.3=>\"4.3\",9.6=>\"9.6\",2.0=>\"2.0\",1.5=>\"1.5\",7.1=>\"7.1\",1.4=>\"1.4\",7.4=>\"7.4\",6.2=>\"6.2\",0.2=>\"0.2\"…)),Any[],Any[],true,\"horizontal\")"
      ]
     },
     "metadata": {},
     "output_type": "display_data"
    },
    {
     "data": {
      "text/html": [],
      "text/plain": [
       "Interact.Options{:SelectionSlider,Float64}(Signal{Float64}(5.0, nactions=1),\"Y₈\",5.0,\"5.0\",Interact.OptionDict(DataStructures.OrderedDict(\"0.1\"=>0.1,\"0.2\"=>0.2,\"0.3\"=>0.3,\"0.4\"=>0.4,\"0.5\"=>0.5,\"0.6\"=>0.6,\"0.7\"=>0.7,\"0.8\"=>0.8,\"0.9\"=>0.9,\"1.0\"=>1.0…),Dict(1.2=>\"1.2\",4.3=>\"4.3\",9.6=>\"9.6\",2.0=>\"2.0\",1.5=>\"1.5\",7.1=>\"7.1\",1.4=>\"1.4\",7.4=>\"7.4\",6.2=>\"6.2\",0.2=>\"0.2\"…)),Any[],Any[],true,\"horizontal\")"
      ]
     },
     "metadata": {},
     "output_type": "display_data"
    },
    {
     "data": {
      "image/svg+xml": [
       "<?xml version=\"1.0\" encoding=\"UTF-8\" standalone=\"no\"?>\n",
       "<!DOCTYPE svg PUBLIC \"-//W3C//DTD SVG 1.1//EN\"\n",
       " \"http://www.w3.org/Graphics/SVG/1.1/DTD/svg11.dtd\">\n",
       "<!-- Generated by graphviz version 2.40.1 (20161225.0304)\n",
       " -->\n",
       "<!-- Title: MyDiGraph Pages: 1 -->\n",
       "<svg width=\"259pt\" height=\"257pt\"\n",
       " viewBox=\"0.00 0.00 258.52 256.56\" xmlns=\"http://www.w3.org/2000/svg\" xmlns:xlink=\"http://www.w3.org/1999/xlink\">\n",
       "<g id=\"graph0\" class=\"graph\" transform=\"scale(1 1) rotate(0) translate(4 252.5612)\">\n",
       "<title>MyDiGraph</title>\n",
       "<polygon fill=\"#ffffff\" stroke=\"transparent\" points=\"-4,4 -4,-252.5612 254.5182,-252.5612 254.5182,4 -4,4\"/>\n",
       "<!-- 1 -->\n",
       "<g id=\"node1\" class=\"node\">\n",
       "<title>1</title>\n",
       "<ellipse fill=\"none\" stroke=\"#000000\" cx=\"27\" cy=\"-140.9451\" rx=\"27\" ry=\"18\"/>\n",
       "<text text-anchor=\"middle\" x=\"27\" y=\"-136.7451\" font-family=\"Times,serif\" font-size=\"14.00\" fill=\"#000000\">0.08</text>\n",
       "</g>\n",
       "<!-- 4 -->\n",
       "<g id=\"node4\" class=\"node\">\n",
       "<title>4</title>\n",
       "<ellipse fill=\"none\" stroke=\"#000000\" cx=\"116.8883\" cy=\"-215.532\" rx=\"27\" ry=\"18\"/>\n",
       "<text text-anchor=\"middle\" x=\"116.8883\" y=\"-211.332\" font-family=\"Times,serif\" font-size=\"14.00\" fill=\"#000000\">0.02</text>\n",
       "</g>\n",
       "<!-- 1&#45;&gt;4 -->\n",
       "<g id=\"edge1\" class=\"edge\">\n",
       "<title>1&#45;&gt;4</title>\n",
       "<path fill=\"none\" stroke=\"#000000\" d=\"M44.3314,-155.3262C57.8476,-166.5416 76.8036,-182.2708 91.9506,-194.8393\"/>\n",
       "<polygon fill=\"#000000\" stroke=\"#000000\" points=\"89.9843,-197.7558 99.915,-201.448 94.4543,-192.3688 89.9843,-197.7558\"/>\n",
       "<text text-anchor=\"middle\" x=\"60.1327\" y=\"-180.9179\" font-family=\"Times,serif\" font-size=\"14.00\" fill=\"#000000\">Y₁</text>\n",
       "</g>\n",
       "<!-- 2 -->\n",
       "<g id=\"node2\" class=\"node\">\n",
       "<title>2</title>\n",
       "<ellipse fill=\"none\" stroke=\"#000000\" cx=\"102.2914\" cy=\"-51.6524\" rx=\"28.5557\" ry=\"18\"/>\n",
       "<text text-anchor=\"middle\" x=\"102.2914\" y=\"-47.4524\" font-family=\"Times,serif\" font-size=\"14.00\" fill=\"#000000\">&#45;0.06</text>\n",
       "</g>\n",
       "<!-- 2&#45;&gt;1 -->\n",
       "<g id=\"edge6\" class=\"edge\">\n",
       "<title>2&#45;&gt;1</title>\n",
       "<path fill=\"none\" stroke=\"#000000\" d=\"M88.8308,-67.6162C77.1606,-81.4566 60.1129,-101.6744 46.8723,-117.3772\"/>\n",
       "<polygon fill=\"#000000\" stroke=\"#000000\" points=\"44.1146,-115.2183 40.3441,-125.1195 49.4661,-119.7307 44.1146,-115.2183\"/>\n",
       "<text text-anchor=\"middle\" x=\"59.8433\" y=\"-98.3319\" font-family=\"Times,serif\" font-size=\"14.00\" fill=\"#000000\">Y₆</text>\n",
       "</g>\n",
       "<!-- 6 -->\n",
       "<g id=\"node6\" class=\"node\">\n",
       "<title>6</title>\n",
       "<ellipse fill=\"none\" stroke=\"#000000\" cx=\"192.6702\" cy=\"-126.1901\" rx=\"28.5557\" ry=\"18\"/>\n",
       "<text text-anchor=\"middle\" x=\"192.6702\" y=\"-121.9901\" font-family=\"Times,serif\" font-size=\"14.00\" fill=\"#000000\">&#45;0.02</text>\n",
       "</g>\n",
       "<!-- 2&#45;&gt;6 -->\n",
       "<g id=\"edge7\" class=\"edge\">\n",
       "<title>2&#45;&gt;6</title>\n",
       "<path fill=\"none\" stroke=\"#000000\" d=\"M119.7173,-66.0241C133.2207,-77.1607 152.1242,-92.7508 167.3049,-105.2708\"/>\n",
       "<polygon fill=\"#000000\" stroke=\"#000000\" points=\"165.356,-108.2002 175.2977,-111.8626 169.8098,-102.7999 165.356,-108.2002\"/>\n",
       "<text text-anchor=\"middle\" x=\"135.5028\" y=\"-91.4826\" font-family=\"Times,serif\" font-size=\"14.00\" fill=\"#000000\">Y₇</text>\n",
       "</g>\n",
       "<!-- 3 -->\n",
       "<g id=\"node3\" class=\"node\">\n",
       "<title>3</title>\n",
       "<ellipse fill=\"none\" stroke=\"#000000\" cx=\"204.5704\" cy=\"-18\" rx=\"28.5557\" ry=\"18\"/>\n",
       "<text text-anchor=\"middle\" x=\"204.5704\" y=\"-13.8\" font-family=\"Times,serif\" font-size=\"14.00\" fill=\"#000000\">&#45;0.04</text>\n",
       "</g>\n",
       "<!-- 3&#45;&gt;2 -->\n",
       "<g id=\"edge5\" class=\"edge\">\n",
       "<title>3&#45;&gt;2</title>\n",
       "<path fill=\"none\" stroke=\"#000000\" d=\"M179.0249,-26.4051C166.4553,-30.5409 151.1062,-35.5911 137.4481,-40.085\"/>\n",
       "<polygon fill=\"#000000\" stroke=\"#000000\" points=\"136.2708,-36.7877 127.8657,-43.2378 138.4586,-43.437 136.2708,-36.7877\"/>\n",
       "<text text-anchor=\"middle\" x=\"150.2282\" y=\"-39.0802\" font-family=\"Times,serif\" font-size=\"14.00\" fill=\"#000000\">Y₅</text>\n",
       "</g>\n",
       "<!-- 5 -->\n",
       "<g id=\"node5\" class=\"node\">\n",
       "<title>5</title>\n",
       "<ellipse fill=\"none\" stroke=\"#000000\" cx=\"223.5182\" cy=\"-230.5612\" rx=\"27\" ry=\"18\"/>\n",
       "<text text-anchor=\"middle\" x=\"223.5182\" y=\"-226.3612\" font-family=\"Times,serif\" font-size=\"14.00\" fill=\"#000000\">0.0</text>\n",
       "</g>\n",
       "<!-- 4&#45;&gt;5 -->\n",
       "<g id=\"edge2\" class=\"edge\">\n",
       "<title>4&#45;&gt;5</title>\n",
       "<path fill=\"none\" stroke=\"#000000\" d=\"M143.5205,-219.2857C156.6248,-221.1327 172.6268,-223.3882 186.8659,-225.3951\"/>\n",
       "<polygon fill=\"#000000\" stroke=\"#000000\" points=\"186.4654,-228.8732 196.856,-226.8032 187.4424,-221.9417 186.4654,-228.8732\"/>\n",
       "<text text-anchor=\"middle\" x=\"157.1849\" y=\"-228.1756\" font-family=\"Times,serif\" font-size=\"14.00\" fill=\"#000000\">Y₂</text>\n",
       "</g>\n",
       "<!-- 4&#45;&gt;6 -->\n",
       "<g id=\"edge8\" class=\"edge\">\n",
       "<title>4&#45;&gt;6</title>\n",
       "<path fill=\"none\" stroke=\"#000000\" d=\"M130.4366,-199.5595C142.1103,-185.7969 159.1299,-165.7319 172.4211,-150.0624\"/>\n",
       "<polygon fill=\"#000000\" stroke=\"#000000\" points=\"175.1842,-152.2157 178.9837,-142.3256 169.8459,-147.6877 175.1842,-152.2157\"/>\n",
       "<text text-anchor=\"middle\" x=\"143.4206\" y=\"-180.6461\" font-family=\"Times,serif\" font-size=\"14.00\" fill=\"#000000\">Y₈</text>\n",
       "</g>\n",
       "<!-- 5&#45;&gt;6 -->\n",
       "<g id=\"edge3\" class=\"edge\">\n",
       "<title>5&#45;&gt;6</title>\n",
       "<path fill=\"none\" stroke=\"#000000\" d=\"M218.2853,-212.856C213.499,-196.6623 206.343,-172.4508 200.8102,-153.7311\"/>\n",
       "<polygon fill=\"#000000\" stroke=\"#000000\" points=\"204.1197,-152.58 197.9288,-143.9821 197.4068,-154.5641 204.1197,-152.58\"/>\n",
       "<text text-anchor=\"middle\" x=\"201.5394\" y=\"-189.1287\" font-family=\"Times,serif\" font-size=\"14.00\" fill=\"#000000\">Y₃</text>\n",
       "</g>\n",
       "<!-- 6&#45;&gt;3 -->\n",
       "<g id=\"edge4\" class=\"edge\">\n",
       "<title>6&#45;&gt;3</title>\n",
       "<path fill=\"none\" stroke=\"#000000\" d=\"M194.6889,-107.8372C196.5465,-90.9492 199.3293,-65.6489 201.469,-46.1966\"/>\n",
       "<polygon fill=\"#000000\" stroke=\"#000000\" points=\"204.9671,-46.4047 202.5815,-36.0819 198.009,-45.6393 204.9671,-46.4047\"/>\n",
       "<text text-anchor=\"middle\" x=\"190.0706\" y=\"-82.852\" font-family=\"Times,serif\" font-size=\"14.00\" fill=\"#000000\">Y₄</text>\n",
       "</g>\n",
       "</g>\n",
       "</svg>\n"
      ],
      "text/plain": [
       "DiGraph(DiNode[DiNode(1,Dict{Symbol,Any}(Pair{Symbol,Any}(:label,0.08))),DiNode(2,Dict{Symbol,Any}(Pair{Symbol,Any}(:label,-0.06))),DiNode(3,Dict{Symbol,Any}(Pair{Symbol,Any}(:label,-0.04))),DiNode(4,Dict{Symbol,Any}(Pair{Symbol,Any}(:label,0.02))),DiNode(5,Dict{Symbol,Any}(Pair{Symbol,Any}(:label,0.0))),DiNode(6,Dict{Symbol,Any}(Pair{Symbol,Any}(:label,-0.02)))],DiEdge[DiEdge(1=>4,Dict{Symbol,Any}(Pair{Symbol,Any}(:label,Y_1),Pair{Symbol,Any}(:len,1.5))),DiEdge(4=>5,Dict{Symbol,Any}(Pair{Symbol,Any}(:label,Y_2),Pair{Symbol,Any}(:len,1.5))),DiEdge(5=>6,Dict{Symbol,Any}(Pair{Symbol,Any}(:label,Y_3),Pair{Symbol,Any}(:len,1.5))),DiEdge(6=>3,Dict{Symbol,Any}(Pair{Symbol,Any}(:label,Y_4),Pair{Symbol,Any}(:len,1.5))),DiEdge(3=>2,Dict{Symbol,Any}(Pair{Symbol,Any}(:label,Y_5),Pair{Symbol,Any}(:len,1.5))),DiEdge(2=>1,Dict{Symbol,Any}(Pair{Symbol,Any}(:label,Y_6),Pair{Symbol,Any}(:len,1.5))),DiEdge(2=>6,Dict{Symbol,Any}(Pair{Symbol,Any}(:label,Y_7),Pair{Symbol,Any}(:len,1.5))),DiEdge(4=>6,Dict{Symbol,Any}(Pair{Symbol,Any}(:label,Y_8),Pair{Symbol,Any}(:len,1.5)))],Dict{Symbol,Any}())"
      ]
     },
     "execution_count": 52,
     "metadata": {
      "comm_id": "ce60b847-65c3-4376-aac0-d0cda3675974",
      "reactive": true
     },
     "output_type": "execute_result"
    }
   ],
   "source": [
    "@manipulate for Y₁=0.1:0.1:10,\n",
    "                Y₂=0.1:0.1:10,\n",
    "                Y₃=0.1:0.1:10,\n",
    "                Y₄=0.1:0.1:10,\n",
    "                Y₅=0.1:0.1:10,\n",
    "                Y₆=0.1:0.1:10,\n",
    "                Y₇=0.1:0.1:10,\n",
    "                Y₈=0.1:0.1:10\n",
    "    s = [1,-1,0,0,0,0]\n",
    "    Y = diagm([Y₁,Y₂,Y₃,Y₄,Y₅,Y₆,Y₇,Y₈])\n",
    "    labels!(copy(g), edges=[Sym(\"Y_$j\") for j=1:size(A,1)],\n",
    "                     nodes=twodigits.(pinv(A'*Y*A) * s))\n",
    "end"
   ]
  },
  {
   "cell_type": "markdown",
   "metadata": {},
   "source": [
    "Notice that if we make the admittance $Y_6$ really large compared to all of the other admittances, then nearly all of the current should flow just over that one edge.  Since (nearly) no current is flowing over the other edges, the other voltage drops are nearly zero (nearly constant voltages on the other nodes).\n",
    "\n",
    "Hooray, math (and physics) works!"
   ]
  }
 ],
 "metadata": {
  "anaconda-cloud": {},
  "kernelspec": {
   "display_name": "Julia 0.5.0",
   "language": "julia",
   "name": "julia-0.5"
  },
  "language_info": {
   "file_extension": ".jl",
   "mimetype": "application/julia",
   "name": "julia",
   "version": "0.5.0"
  },
  "widgets": {
   "state": {
    "0b878f25-6529-4e4c-9296-9c818db5038c": {
     "views": [
      {
       "cell_index": 75
      }
     ]
    },
    "0bb51f5d-c013-46dc-acc9-0c9205318d20": {
     "views": [
      {
       "cell_index": 75
      }
     ]
    },
    "0cf9fee2-dd93-401e-a758-470d6b8594ab": {
     "views": [
      {
       "cell_index": 74
      }
     ]
    },
    "1cf7534f-80c4-4afc-8d1f-7277443c9fcd": {
     "views": [
      {
       "cell_index": 75
      }
     ]
    },
    "1f2da899-e0aa-49ba-a2df-d5d54fcd6670": {
     "views": [
      {
       "cell_index": 74
      }
     ]
    },
    "2f0eef11-ea64-4ba3-84d9-7aed48ccdfbe": {
     "views": [
      {
       "cell_index": 74
      }
     ]
    },
    "47e15c04-45d9-4dc1-8e5b-de234a388e3d": {
     "views": [
      {
       "cell_index": 75
      }
     ]
    },
    "4b277fb2-38a4-46b7-a56f-c1183dfc047c": {
     "views": [
      {
       "cell_index": 75
      }
     ]
    },
    "583a9a14-86ba-45e3-99ab-647ad3bfe53b": {
     "views": [
      {
       "cell_index": 75
      }
     ]
    },
    "69407d70-9620-4f6d-bdd5-0af5e2b46cb7": {
     "views": [
      {
       "cell_index": 74
      }
     ]
    },
    "6bc290a5-37ae-4ff6-af78-46a9e598b793": {
     "views": [
      {
       "cell_index": 74
      }
     ]
    },
    "6db525ce-a42f-4821-814f-aeb1dbefcf57": {
     "views": [
      {
       "cell_index": 75
      }
     ]
    },
    "8ddbbe9b-31dd-4d0a-b6f5-c71aea75e6cc": {
     "views": [
      {
       "cell_index": 74
      }
     ]
    },
    "b4c281d4-999b-40a9-a20c-47fc792ac8f3": {
     "views": [
      {
       "cell_index": 75
      }
     ]
    },
    "b92f0536-3aa9-400d-bf2e-78846ca8149d": {
     "views": [
      {
       "cell_index": 75
      }
     ]
    },
    "bc034461-2d30-4391-81f7-f07fb71493e2": {
     "views": [
      {
       "cell_index": 75
      }
     ]
    },
    "bf4ba049-60ac-4933-8fba-363e2757d01b": {
     "views": [
      {
       "cell_index": 75
      }
     ]
    },
    "c48dde10-a548-4a94-bb44-4a06afd773ef": {
     "views": [
      {
       "cell_index": 75
      }
     ]
    },
    "c8b54e85-8574-4d29-99c8-a9bef95624be": {
     "views": [
      {
       "cell_index": 75
      }
     ]
    },
    "e0d6097f-0deb-4465-a555-4dd99bc54dd3": {
     "views": [
      {
       "cell_index": 32
      }
     ]
    },
    "e3d5c8ab-ae95-483f-9d02-b1bf5b66cd76": {
     "views": [
      {
       "cell_index": 75
      }
     ]
    },
    "e4d125fe-fb8f-4c5e-96c8-45780780f60c": {
     "views": [
      {
       "cell_index": 75
      }
     ]
    },
    "ebb2d793-38c8-4280-baf7-a3b88f57efbb": {
     "views": [
      {
       "cell_index": 29
      }
     ]
    },
    "f1091750-2a26-4ba2-86ac-68fb18939030": {
     "views": [
      {
       "cell_index": 74
      }
     ]
    },
    "fec8a22b-2960-4543-afa6-57db83d98aff": {
     "views": [
      {
       "cell_index": 75
      }
     ]
    },
    "ffc8a98a-091b-498e-a636-1545713daa12": {
     "views": [
      {
       "cell_index": 74
      }
     ]
    }
   },
   "version": "1.2.0"
  }
 },
 "nbformat": 4,
 "nbformat_minor": 1
}
