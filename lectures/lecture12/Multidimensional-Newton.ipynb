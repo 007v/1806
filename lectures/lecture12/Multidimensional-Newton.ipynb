{
 "cells": [
  {
   "cell_type": "markdown",
   "metadata": {},
   "source": [
    "# Newton's method and nonlinear equations\n",
    "\n",
    "In first-year calculus, most students learn [Newton's method](https://en.wikipedia.org/wiki/Newton's_method) for solving nonlinear equations $f(x) = 0$, which iteratively improves a sequence of guesses for the solution $x$ by **approximating f by a straight line**.   That is, it **approximates a *nonlinear* equation by a sequence of approximate *linear* equations**.\n",
    "\n",
    "This can be extended to *systems* of nonlinear equations as a **multidimensional Newton** method, in which we iterate by solving a sequence of linear (*matrix*) systems of equations.  This is one example of an amazing fact: **linear algebra is a fundamental tool even for solving nonlinear equations**."
   ]
  },
  {
   "cell_type": "markdown",
   "metadata": {},
   "source": [
    "## Packages for this notebook"
   ]
  },
  {
   "cell_type": "code",
   "execution_count": 1,
   "metadata": {
    "collapsed": false
   },
   "outputs": [
    {
     "data": {
      "text/html": [
       "<div id=\"interact-js-shim\">\n",
       "    <script charset=\"utf-8\">\n",
       "(function (IPython, $, _, MathJax) {\n",
       "    $.event.special.destroyed = {\n",
       "\tremove: function(o) {\n",
       "\t    if (o.handler) {\n",
       "\t\to.handler.apply(this, arguments)\n",
       "\t    }\n",
       "\t}\n",
       "    }\n",
       "\n",
       "    var OutputArea = IPython.version >= \"4.0.0\" ? require(\"notebook/js/outputarea\").OutputArea : IPython.OutputArea;\n",
       "\n",
       "    var redrawValue = function (container, type, val) {\n",
       "\tvar selector = $(\"<div/>\");\n",
       "\tvar oa = new OutputArea(_.extend(selector, {\n",
       "\t    selector: selector,\n",
       "\t    prompt_area: true,\n",
       "\t    events: IPython.events,\n",
       "\t    keyboard_manager: IPython.keyboard_manager\n",
       "\t})); // Hack to work with IPython 2.1.0\n",
       "\n",
       "\tswitch (type) {\n",
       "\tcase \"image/png\":\n",
       "            var _src = 'data:' + type + ';base64,' + val;\n",
       "\t    $(container).find(\"img\").attr('src', _src);\n",
       "\t    break;\n",
       "\tcase \"text/latex\":\n",
       "\t\tif (MathJax){\n",
       "\t\t\tvar math = MathJax.Hub.getAllJax(container)[0];\n",
       "\t\t\tMathJax.Hub.Queue([\"Text\", math, val.replace(/^\\${1,2}|\\${1,2}$/g, '')]);\n",
       "\t\t\tbreak;\n",
       "\t\t}\n",
       "\tdefault:\n",
       "\t    var toinsert = OutputArea.append_map[type].apply(\n",
       "\t\toa, [val, {}, selector]\n",
       "\t    );\n",
       "\t    $(container).empty().append(toinsert.contents());\n",
       "\t    selector.remove();\n",
       "\t}\n",
       "    }\n",
       "\n",
       "\n",
       "    $(document).ready(function() {\n",
       "\tfunction initComm(evt, data) {\n",
       "\t    var comm_manager = data.kernel.comm_manager;\n",
       "        //_.extend(comm_manager.targets, require(\"widgets/js/widget\"))\n",
       "\t    comm_manager.register_target(\"Signal\", function (comm) {\n",
       "            comm.on_msg(function (msg) {\n",
       "                var val = msg.content.data.value;\n",
       "                $(\".signal-\" + comm.comm_id).each(function() {\n",
       "                var type = $(this).data(\"type\");\n",
       "                if (typeof(val[type]) !== \"undefined\" && val[type] !== null) {\n",
       "                    redrawValue(this, type, val[type], type);\n",
       "                }\n",
       "                });\n",
       "                delete val;\n",
       "                delete msg.content.data.value;\n",
       "            });\n",
       "\t    });\n",
       "\n",
       "\t    // coordingate with Comm and redraw Signals\n",
       "\t    // XXX: Test using Reactive here to improve performance\n",
       "\t    $([IPython.events]).on(\n",
       "\t\t'output_appended.OutputArea', function (event, type, value, md, toinsert) {\n",
       "\t\t    if (md && md.reactive) {\n",
       "                // console.log(md.comm_id);\n",
       "                toinsert.addClass(\"signal-\" + md.comm_id);\n",
       "                toinsert.data(\"type\", type);\n",
       "                // Signal back indicating the mimetype required\n",
       "                var comm_manager = IPython.notebook.kernel.comm_manager;\n",
       "                var comm = comm_manager.comms[md.comm_id];\n",
       "                comm.then(function (c) {\n",
       "                    c.send({action: \"subscribe_mime\",\n",
       "                       mime: type});\n",
       "                    toinsert.bind(\"destroyed\", function() {\n",
       "                        c.send({action: \"unsubscribe_mime\",\n",
       "                               mime: type});\n",
       "                    });\n",
       "                })\n",
       "\t\t    }\n",
       "\t    });\n",
       "\t}\n",
       "\n",
       "\ttry {\n",
       "\t    // try to initialize right away. otherwise, wait on the status_started event.\n",
       "\t    initComm(undefined, IPython.notebook);\n",
       "\t} catch (e) {\n",
       "\t    $([IPython.events]).on('kernel_created.Kernel kernel_created.Session', initComm);\n",
       "\t}\n",
       "    });\n",
       "})(IPython, jQuery, _, MathJax);\n",
       "</script>\n",
       "    <script>\n",
       "        window.interactLoadedFlag = true\n",
       "       $(\"#interact-js-shim\").bind(\"destroyed\", function () {\n",
       "           if (window.interactLoadedFlag) {\n",
       "               console.warn(\"JavaScript required by Interact will be removed if you remove this cell or run using Interact more than once.\")\n",
       "           }\n",
       "       })\n",
       "       $([IPython.events]).on(\"kernel_starting.Kernel kernel_restarting.Kernel\", function () { window.interactLoadedFlag = false })\n",
       "   </script>\n",
       "</div>"
      ]
     },
     "metadata": {},
     "output_type": "display_data"
    }
   ],
   "source": [
    "# Pkg.add.([\"Interact\", \"PyPlot\"])   # uncomment this line to install, if necessary\n",
    "using Interact, PyPlot"
   ]
  },
  {
   "cell_type": "markdown",
   "metadata": {},
   "source": [
    "## One-dimensional Newton\n",
    "\n",
    "The standard one-dimensional Newton's method proceeds as follows.  Suppose we are solving for a zero (root) of $f(x)$:\n",
    "\n",
    "$$\n",
    "f(x) = 0\n",
    "$$\n",
    "\n",
    "for an arbitrary (but differentiable) function $f$, and we have a guess $x$.   We find an *improved* guess $x+\\delta$ by [Taylor expanding](https://en.wikipedia.org/wiki/Taylor_series) $f(x+\\delta)$ around $x$ to *first order* (linear!) in $\\delta$, and finding the .  (This should be accurate if $x$ is *close enough* to a solution, so that the $\\delta$ is *small*.)  That is, we solve:\n",
    "\n",
    "$$\n",
    "f(x + \\delta) \\approx f(x) + f'(x) \\delta = 0\n",
    "$$\n",
    "\n",
    "to obtain $\\delta = -f(x) / f'(x)$.  Plugging this into $x+\\delta$, we obtain:\n",
    "\n",
    "$$\n",
    "\\boxed{\\mbox{new } x = x - f(x)/f'(x)}.\n",
    "$$\n",
    "\n",
    "This is called a **Newton step**.  Then we simply repeat the process.\n",
    "\n",
    "Let's visualize this process for finding a root of $f(x) = 2\\cos(x) - x + x^2/10$ (a [transcendental equation](https://en.wikipedia.org/wiki/Transcendental_equation) that has no closed-form solution)."
   ]
  },
  {
   "cell_type": "code",
   "execution_count": 22,
   "metadata": {
    "collapsed": false
   },
   "outputs": [
    {
     "data": {
      "text/html": [],
      "text/plain": [
       "Interact.Slider{Int64}(Signal{Int64}(1, nactions=1),\"\",1,1:20,\"horizontal\",true,\"d\",true)"
      ]
     },
     "metadata": {},
     "output_type": "display_data"
    },
    {
     "data": {
      "text/html": [],
      "text/plain": [
       "Interact.Slider{Float64}(Signal{Float64}(-0.1, nactions=1),\"\",-0.1,-4.0:0.1:4.0,\"horizontal\",true,\".3f\",true)"
      ]
     },
     "metadata": {},
     "output_type": "display_data"
    },
    {
     "data": {
      "image/png": "[encoded data removed]",
      "text/plain": [
       "PyPlot.Figure(PyObject <matplotlib.figure.Figure object at 0x32b8eb190>)"
      ]
     },
     "execution_count": 22,
     "metadata": {
      "comm_id": "97ce07d4-9331-40c4-82e3-ad15f55b76c3",
      "reactive": true
     },
     "output_type": "execute_result"
    }
   ],
   "source": [
    "fig = figure()\n",
    "xs = linspace(-5,5,1000)\n",
    "@manipulate for step in slider(1:20, value=1), start in slider(-4:0.1:4, value=-0.1)\n",
    "    withfig(fig) do\n",
    "        x = start\n",
    "        local xprev, f, f′\n",
    "        for i = 1:step\n",
    "            xprev = x\n",
    "            f = 2cos(x) - x + x^2/10\n",
    "            f′ = -2sin(x) - 1 + 2x/10\n",
    "            x = x - f/f′\n",
    "        end\n",
    "        plot(xs, 0*xs, \"k-\")\n",
    "        plot(xs, 2cos.(xs) - xs + xs.^2/10, \"b-\")\n",
    "        newf = 2cos(x) - x + x^2/10\n",
    "        plot([xprev, x], [f, 0.0], \"ro\")\n",
    "        plot(x, newf, \"bo\")\n",
    "        plot(xs, f + f′ * (xs - xprev), \"r--\")\n",
    "        xlim(minimum(xs), maximum(xs))\n",
    "        ylim(-5,4)\n",
    "        title(\"Newton step $step: f($x) = $newf\")\n",
    "    end\n",
    "end"
   ]
  },
  {
   "cell_type": "markdown",
   "metadata": {},
   "source": [
    "If you start it anywhere near a root of $f(x)$, Newton's method can converge extremely quickly: **asymptotically, it doubles the number of accurate digits on each step**.\n",
    "\n",
    "However, if you start it far from a root, the convergence can be hard to predict, and it may not even converge at all (it can oscillate forever around a local minimum).\n",
    "\n",
    "Still, in many practical applications, there are ways to get a good initial guess for Newton, and then it is an extremely effective way to solve nonlinear equations to high accuracy."
   ]
  },
  {
   "cell_type": "code",
   "execution_count": null,
   "metadata": {
    "collapsed": true
   },
   "outputs": [],
   "source": []
  }
 ],
 "metadata": {
  "kernelspec": {
   "display_name": "Julia 0.5.0",
   "language": "julia",
   "name": "julia-0.5"
  },
  "language_info": {
   "file_extension": ".jl",
   "mimetype": "application/julia",
   "name": "julia",
   "version": "0.5.0"
  },
  "widgets": {
   "state": {
    "17cc60ce-da7f-400a-a5a8-156aaf70754f": {
     "views": [
      {
       "cell_index": 4
      }
     ]
    },
    "1e91f69d-e842-497c-8b1d-bef6bd907773": {
     "views": [
      {
       "cell_index": 4
      }
     ]
    },
    "23d88bb6-5c93-45dd-b7e4-2f367e0909da": {
     "views": [
      {
       "cell_index": 4
      }
     ]
    },
    "3777ebd3-da67-43fc-94ee-7efe50d98b3d": {
     "views": [
      {
       "cell_index": 4
      }
     ]
    },
    "3d44752f-e27f-4423-ad72-d1e0f2a7139c": {
     "views": [
      {
       "cell_index": 4
      }
     ]
    },
    "3f34292a-1540-4d61-be6a-fd481383620b": {
     "views": [
      {
       "cell_index": 4
      }
     ]
    },
    "67f69a79-6aa6-4c78-ae43-2bd25cfc77e5": {
     "views": [
      {
       "cell_index": 4
      }
     ]
    },
    "7bddb623-7d71-49a2-8afc-d111a7f2e0f4": {
     "views": [
      {
       "cell_index": 4
      }
     ]
    },
    "8817ce6b-5c1d-4344-80ea-79c2291ae7bd": {
     "views": [
      {
       "cell_index": 4
      }
     ]
    },
    "8942eb1c-084c-476c-b7e6-ba15948d3b33": {
     "views": [
      {
       "cell_index": 4
      }
     ]
    },
    "a2d605cd-b3fc-4bd6-ba43-794815229df0": {
     "views": [
      {
       "cell_index": 4
      }
     ]
    },
    "c0c4d925-74d5-421a-ac91-5572fb9ef01c": {
     "views": [
      {
       "cell_index": 4
      }
     ]
    },
    "d41aa67c-a3d4-47b2-839c-27948d1fd139": {
     "views": [
      {
       "cell_index": 4
      }
     ]
    },
    "d4cebd71-35f4-4539-b075-9a0fa23fcc97": {
     "views": [
      {
       "cell_index": 4
      }
     ]
    },
    "d8ffa208-18e0-4db2-8bc0-774c251978f7": {
     "views": [
      {
       "cell_index": 4
      }
     ]
    },
    "da466665-7892-4b7e-bcf0-1d6daef53057": {
     "views": [
      {
       "cell_index": 4
      }
     ]
    },
    "f8d51aaf-29d9-4a4c-ad2a-b8f38d11c8dd": {
     "views": [
      {
       "cell_index": 4
      }
     ]
    }
   },
   "version": "1.2.0"
  }
 },
 "nbformat": 4,
 "nbformat_minor": 2
}
