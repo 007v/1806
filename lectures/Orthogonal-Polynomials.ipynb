{
 "cells": [
  {
   "cell_type": "code",
   "execution_count": 1,
   "metadata": {
    "collapsed": false
   },
   "outputs": [],
   "source": [
    "# Pkg.add([\"Polynomials\", \"PyPlot\"]) uncomment to install if needed\n",
    "using Polynomials, PyPlot"
   ]
  },
  {
   "cell_type": "markdown",
   "metadata": {
    "collapsed": true
   },
   "source": [
    "# Dot products of functions\n",
    "\n",
    "We can apply the Gram–Schmidt process to *any* vector space as long as we **define a dot product** (also called an **inner product**).   (Technically, a continuous (\"complete\") vector space equipped with an inner product is called a **Hilbert space**.)\n",
    "\n",
    "For column vectors, the usual dot product is to multiply the components and add them up.\n",
    "\n",
    "But (real-valued) *functions* $f(x)$ also define a vector space (you can add, subtract, and multiply by constants).  In particular, consider functions defined on the interval $x \\in [-1,1]$.   The \"components\" of $f$ can be viewed as its *values* $f(x)$ at each point in the domain, and the obvious analogue of \"summing the components\" is the **integral**.   Hence, the most obvious \"dot product\" of two functions in this space is:\n",
    "\n",
    "$$\n",
    "f \\cdot g = \\int_0^1 f(x) g(x) \\, dx\n",
    "$$\n",
    "\n",
    "Such a generalized inner product is commonly denoted $\\langle f, g \\rangle$ (or $\\langle f | g \\rangle$ in physics)."
   ]
  },
  {
   "cell_type": "markdown",
   "metadata": {},
   "source": [
    "# Orthogonal polynomials\n",
    "\n",
    "In particular, let us consider a subspace of functions defined on $[-1,1]$: **polynomials** $p(x)$ (of any degree).\n",
    "\n",
    "One possible basis of polynomials is simply:\n",
    "\n",
    "$$\n",
    "{1, x, x^2, x^3, \\ldots}\n",
    "$$\n",
    "\n",
    "(There are infinitely many polynomials in this basis because this vector space is **infinite-dimensional**.)\n",
    "\n",
    "Instead, let us apply Gram–Schmidt to this basis in order to get an **orthogonal basis of polynomials** known as the [Legendre polynomials](https://en.wikipedia.org/wiki/Legendre_polynomials)."
   ]
  },
  {
   "cell_type": "markdown",
   "metadata": {},
   "source": [
    "## Julia code\n",
    "\n",
    "I'll use the [Polynomials package](https://github.com/Keno/Polynomials.jl) to do polynomial arithmetic for me.\n",
    "\n",
    "However, I'll need to define a few extra methods to perform my dot products from above, and I also want to display (\"pretty print\") the polynomials a bit more nicely than the default."
   ]
  },
  {
   "cell_type": "code",
   "execution_count": 2,
   "metadata": {
    "collapsed": false
   },
   "outputs": [
    {
     "data": {
      "text/plain": [
       "polydot (generic function with 1 method)"
      ]
     },
     "execution_count": 2,
     "metadata": {},
     "output_type": "execute_result"
    }
   ],
   "source": [
    "# compute the definite integral of p(x) from a to b\n",
    "function Polynomials.polyint(p::Poly, a, b)\n",
    "    pi = polyint(p)\n",
    "    pi(b) - pi(a)\n",
    "end\n",
    "# compute the dot product ⟨p,q⟩ = ∫p(x)q(x) on [-1,1]\n",
    "polydot(p::Poly, q::Poly) = polyint(p*q, -1,1)"
   ]
  },
  {
   "cell_type": "code",
   "execution_count": 3,
   "metadata": {
    "collapsed": false
   },
   "outputs": [],
   "source": [
    "# force IJulia to display as LaTeX rather than HTML\n",
    "Base.mimewritable(::MIME\"text/html\", ::Poly) = false"
   ]
  },
  {
   "cell_type": "markdown",
   "metadata": {},
   "source": [
    "## Gram–Schmidt on polynomials\n",
    "\n",
    "Now, let's apply Gram–Schmidt on the polynomials $a_i = x^i$ for $i = 0, 1, \\ldots$.\n",
    "\n",
    "Ordinarily, in Gram–Schmidt, I would normalize each result $p(x)$ by dividing by $\\Vert p \\Vert = \\sqrt{p \\cdot p}$, but that will result in a lot of annoying square roots.  Instead, I will divide by $p(1)$ to result in the more conventional Legendre polynomials.\n",
    "\n",
    "That means that to get $p_i(x)$, I will do:\n",
    "\n",
    "$$\n",
    "\\hat{p}_i(x) = a_i(x) - \\sum_{j=0}^i p_i(x) \\frac{p_i \\cdot a_i}{p_i \\cdot p_i}\n",
    "$$\n",
    "\n",
    "where I explicitly divide by $p_i \\cdot p_i$ in the projections to compensate for the lack of normalization.\n",
    "\n",
    "In Julia, I will use the special syntax `2 // 3` to construct the exact rational $\\frac{2}{3}$, etc.  This will allow me to see the exact Legendre polynomials without any roundoff errors or annoying decimals."
   ]
  },
  {
   "cell_type": "code",
   "execution_count": 4,
   "metadata": {
    "collapsed": false
   },
   "outputs": [
    {
     "data": {
      "text/latex": [
       "$1$"
      ],
      "text/plain": [
       "Poly(1//1)"
      ]
     },
     "execution_count": 4,
     "metadata": {},
     "output_type": "execute_result"
    }
   ],
   "source": [
    "p0 = a0 = Poly([1//1])"
   ]
  },
  {
   "cell_type": "code",
   "execution_count": 5,
   "metadata": {
    "collapsed": false
   },
   "outputs": [
    {
     "data": {
      "text/latex": [
       "$x$"
      ],
      "text/plain": [
       "Poly(x)"
      ]
     },
     "execution_count": 5,
     "metadata": {},
     "output_type": "execute_result"
    }
   ],
   "source": [
    "a1 = Poly([0, 1//1])"
   ]
  },
  {
   "cell_type": "code",
   "execution_count": 6,
   "metadata": {
    "collapsed": false
   },
   "outputs": [
    {
     "data": {
      "text/latex": [
       "$x$"
      ],
      "text/plain": [
       "Poly(x)"
      ]
     },
     "execution_count": 6,
     "metadata": {},
     "output_type": "execute_result"
    }
   ],
   "source": [
    "p1 = a1 - p0 * polydot(p0, a1) // polydot(p0, p0)\n",
    "p1 = p1 / p1(1)"
   ]
  },
  {
   "cell_type": "code",
   "execution_count": 7,
   "metadata": {
    "collapsed": false
   },
   "outputs": [
    {
     "data": {
      "text/latex": [
       "$x^{2}$"
      ],
      "text/plain": [
       "Poly(x^2)"
      ]
     },
     "execution_count": 7,
     "metadata": {},
     "output_type": "execute_result"
    }
   ],
   "source": [
    "a2 = Poly([0, 0, 1//1])"
   ]
  },
  {
   "cell_type": "code",
   "execution_count": 8,
   "metadata": {
    "collapsed": false
   },
   "outputs": [
    {
     "data": {
      "text/latex": [
       "$-\\frac{1}{2} + \\frac{3}{2}\\cdot x^{2}$"
      ],
      "text/plain": [
       "Poly(-1//2 + 3//2⋅x^2)"
      ]
     },
     "execution_count": 8,
     "metadata": {},
     "output_type": "execute_result"
    }
   ],
   "source": [
    "p2 = a2 - p0 * polydot(p0, a2) // polydot(p0, p0) -\n",
    "          p1 * polydot(p1, a2) // polydot(p1, p1)\n",
    "p2 = p2 / p2(1)"
   ]
  },
  {
   "cell_type": "markdown",
   "metadata": {},
   "source": [
    "It quickly gets tiresome to type in these expressions one by one, so let's just write a function to compute the Legendre polynomials $p_0, \\ldots, p_n$:"
   ]
  },
  {
   "cell_type": "code",
   "execution_count": 9,
   "metadata": {
    "collapsed": false
   },
   "outputs": [
    {
     "data": {
      "text/plain": [
       "legendre_gramschmidt (generic function with 1 method)"
      ]
     },
     "execution_count": 9,
     "metadata": {},
     "output_type": "execute_result"
    }
   ],
   "source": [
    "function legendre_gramschmidt(n)\n",
    "    legendre = [Poly([1//1])]\n",
    "    for i = 1:n\n",
    "        p = Poly([k == i ? 1//1 : 0//1 for k=0:i])\n",
    "        for q in legendre\n",
    "            p = p - q * (polydot(q, p) // polydot(q,q))\n",
    "        end\n",
    "        push!(legendre, p / p(1))\n",
    "    end\n",
    "    return legendre\n",
    "end"
   ]
  },
  {
   "cell_type": "code",
   "execution_count": 10,
   "metadata": {
    "collapsed": false
   },
   "outputs": [
    {
     "data": {
      "text/plain": [
       "6-element Array{Polynomials.Poly{Rational{Int64}},1}:\n",
       " Poly(1//1)                           \n",
       " Poly(x)                              \n",
       " Poly(-1//2 + 3//2⋅x^2)               \n",
       " Poly(-3//2⋅x + 5//2⋅x^3)             \n",
       " Poly(3//8 - 15//4⋅x^2 + 35//8⋅x^4)   \n",
       " Poly(15//8⋅x - 35//4⋅x^3 + 63//8⋅x^5)"
      ]
     },
     "execution_count": 10,
     "metadata": {},
     "output_type": "execute_result"
    }
   ],
   "source": [
    "L = legendre_gramschmidt(5)"
   ]
  },
  {
   "cell_type": "markdown",
   "metadata": {},
   "source": [
    "Let's display them more nicely with LaTeX:"
   ]
  },
  {
   "cell_type": "code",
   "execution_count": 11,
   "metadata": {
    "collapsed": false
   },
   "outputs": [
    {
     "data": {
      "text/latex": [
       "$1$"
      ]
     },
     "metadata": {},
     "output_type": "display_data"
    },
    {
     "data": {
      "text/latex": [
       "$x$"
      ]
     },
     "metadata": {},
     "output_type": "display_data"
    },
    {
     "data": {
      "text/latex": [
       "$-\\frac{1}{2} + \\frac{3}{2}\\cdot x^{2}$"
      ]
     },
     "metadata": {},
     "output_type": "display_data"
    },
    {
     "data": {
      "text/latex": [
       "$-\\frac{3}{2}\\cdot x + \\frac{5}{2}\\cdot x^{3}$"
      ]
     },
     "metadata": {},
     "output_type": "display_data"
    },
    {
     "data": {
      "text/latex": [
       "$\\frac{3}{8} - \\frac{15}{4}\\cdot x^{2} + \\frac{35}{8}\\cdot x^{4}$"
      ]
     },
     "metadata": {},
     "output_type": "display_data"
    },
    {
     "data": {
      "text/latex": [
       "$\\frac{15}{8}\\cdot x - \\frac{35}{4}\\cdot x^{3} + \\frac{63}{8}\\cdot x^{5}$"
      ]
     },
     "metadata": {},
     "output_type": "display_data"
    }
   ],
   "source": [
    "foreach(p -> display(\"text/latex\", p), L)"
   ]
  },
  {
   "cell_type": "markdown",
   "metadata": {},
   "source": [
    "These polynomials are **very special** in many ways.  To get a hint of that, let's plot them:"
   ]
  },
  {
   "cell_type": "code",
   "execution_count": 12,
   "metadata": {
    "collapsed": false
   },
   "outputs": [
    {
     "data": {
      "image/png": "[encoded data removed]",
      "text/plain": [
       "PyPlot.Figure(PyObject <matplotlib.figure.Figure object at 0x3250dffd0>)"
      ]
     },
     "metadata": {},
     "output_type": "display_data"
    },
    {
     "data": {
      "text/plain": [
       "PyObject <matplotlib.text.Text object at 0x325271510>"
      ]
     },
     "execution_count": 12,
     "metadata": {},
     "output_type": "execute_result"
    }
   ],
   "source": [
    "leg = []\n",
    "x = linspace(-1, 1, 300)\n",
    "for i in eachindex(L)\n",
    "    plot(x, L[i].(x), \"-\")\n",
    "    push!(leg, \"\\$P_{$(i-1)}(x)\\$\")\n",
    "end\n",
    "plot(x, 0*x, \"k--\")\n",
    "legend(leg)\n",
    "xlabel(L\"x\")\n",
    "ylabel(\"Legendre polynomials\")"
   ]
  },
  {
   "cell_type": "markdown",
   "metadata": {},
   "source": [
    "Note that $p_n(x)$ has exactly $n$ roots in the interval $[-1,1]$!"
   ]
  },
  {
   "cell_type": "markdown",
   "metadata": {},
   "source": [
    "### Expanding a polynomial in the Legendre basis.\n",
    "\n",
    "Now that we have an orthogonal (but not orthonormal) basis, it is easy to take an arbitrary polynomial $p(x)$ and write it in this basis:\n",
    "\n",
    "$$\n",
    "    p(x) = \\alpha_0 p_0(x) + \\alpha_1 p_1(x) + \\cdots = \\sum_{i=0}^\\infty \\alpha_i p_i(x)\n",
    "$$\n",
    "\n",
    "because we can get the coefficients $\\alpha_i$ merely by projecting:\n",
    "\n",
    "$$\n",
    "\\alpha_i = \\frac{p_i \\cdot p}{p_i \\cdot p_i}\n",
    "$$\n",
    "\n",
    "Note, however, that this isn't actually an infinite series: if the polynomial $p(x)$ has degree $d$, then $\\alpha_i = 0$ for $i > d$.  The polynomials $p_0, \\ldots, p_d$ are a basis for the subspace of polynomials of degree $d$ (= span of $1, x, \\ldots, x^d$)!\n",
    "\n",
    "Let's see how this works for a \"randomly\" chosen $p(x)$ of degree 5:"
   ]
  },
  {
   "cell_type": "code",
   "execution_count": 13,
   "metadata": {
    "collapsed": false
   },
   "outputs": [
    {
     "data": {
      "text/latex": [
       "$1 + 3\\cdot x + 4\\cdot x^{2} + 7\\cdot x^{3} + 2\\cdot x^{4} + 5\\cdot x^{5}$"
      ],
      "text/plain": [
       "Poly(1 + 3⋅x + 4⋅x^2 + 7⋅x^3 + 2⋅x^4 + 5⋅x^5)"
      ]
     },
     "execution_count": 13,
     "metadata": {},
     "output_type": "execute_result"
    }
   ],
   "source": [
    "p = Poly([1,3,4,7,2,5])"
   ]
  },
  {
   "cell_type": "markdown",
   "metadata": {},
   "source": [
    "Here are the coefficients α:"
   ]
  },
  {
   "cell_type": "code",
   "execution_count": 14,
   "metadata": {
    "collapsed": false
   },
   "outputs": [
    {
     "data": {
      "text/plain": [
       "6-element Array{Rational{Int64},1}:\n",
       "  41//15\n",
       " 327//35\n",
       "  80//21\n",
       " 226//45\n",
       "  16//35\n",
       "  40//63"
      ]
     },
     "execution_count": 14,
     "metadata": {},
     "output_type": "execute_result"
    }
   ],
   "source": [
    "α = [polydot(q,p)/polydot(q,q) for q in L]"
   ]
  },
  {
   "cell_type": "markdown",
   "metadata": {},
   "source": [
    "Let's check that the sum of $\\alpha_i p_i(x)$ gives $p(x)$:"
   ]
  },
  {
   "cell_type": "code",
   "execution_count": 15,
   "metadata": {
    "collapsed": false
   },
   "outputs": [
    {
     "data": {
      "text/latex": [
       "$1 + 3\\cdot x + 4\\cdot x^{2} + 7\\cdot x^{3} + 2\\cdot x^{4} + 5\\cdot x^{5}$"
      ],
      "text/plain": [
       "Poly(1//1 + 3//1⋅x + 4//1⋅x^2 + 7//1⋅x^3 + 2//1⋅x^4 + 5//1⋅x^5)"
      ]
     },
     "execution_count": 15,
     "metadata": {},
     "output_type": "execute_result"
    }
   ],
   "source": [
    "sum(α .* L) # α[1]*L[1] + α[2]*L[2] + ... + α[6]*L[6]"
   ]
  },
  {
   "cell_type": "code",
   "execution_count": 16,
   "metadata": {
    "collapsed": false
   },
   "outputs": [
    {
     "data": {
      "text/latex": [
       "$0//1$"
      ],
      "text/plain": [
       "Poly(0//1)"
      ]
     },
     "execution_count": 16,
     "metadata": {},
     "output_type": "execute_result"
    }
   ],
   "source": [
    "sum(α .* L) - p"
   ]
  }
 ],
 "metadata": {
  "kernelspec": {
   "display_name": "Julia 0.5.0",
   "language": "julia",
   "name": "julia-0.5"
  },
  "language_info": {
   "file_extension": ".jl",
   "mimetype": "application/julia",
   "name": "julia",
   "version": "0.5.0"
  }
 },
 "nbformat": 4,
 "nbformat_minor": 2
}
