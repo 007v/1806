{
 "cells": [
  {
   "cell_type": "markdown",
   "metadata": {},
   "source": [
    "# Gaussian elimination\n",
    "\n",
    "This Julia notebook allows us to interactively visualize the process of Gaussian elimination.\n",
    "\n",
    "Recall that the process of [Gaussian elimination](https://en.wikipedia.org/wiki/Gaussian_elimination) involves subtracting rows to turn a matrix $A$ into an [upper triangular matrix](https://en.wikipedia.org/wiki/Triangular_matrix) $U$.  Often we *augment* the matrix with an additional column, representing the right-hand side $b$ of a system of equations $Ax=b$ that we want to solve: by doing the same row operations to both $A$ and $b$, we arrive at an equivalent equation $Ux=c$ that is easy to solve by *backsubstitution* (solving for one variable at a time, working from the last row to the top row).\n",
    "\n",
    "For example, suppose we are solving:\n",
    "\n",
    "$$\n",
    "Ax = \n",
    "\\begin{pmatrix}\n",
    "1 & 3 & 1  \\\\\n",
    "1 & 1 & -1  \\\\\n",
    "3 & 11 & 6 \n",
    "\\end{pmatrix} x = \n",
    "\\begin{pmatrix}\n",
    "9 \\\\\n",
    "1 \\\\\n",
    "35\n",
    "\\end{pmatrix} = b\n",
    "$$\n",
    "\n",
    "We would perform the following elimination process.\n",
    "\n",
    "$$\n",
    "\\left[\\begin{array}{rrr|r}\n",
    "1 & 3 & 1 & 9 \\\\\n",
    "1 & 1 & -1 & 1 \\\\\n",
    "3 & 11 & 6 & 35\n",
    "\\end{array}\\right]\\to\n",
    "\\left[\\begin{array}{rrr|r}\n",
    "1 & 3 & 1 & 9 \\\\\n",
    "0 & -2 & -2 & -8 \\\\\n",
    "0 & 2 & 3 & 8\n",
    "\\end{array}\\right]\\to\n",
    "\\left[\\begin{array}{rrr|r}\n",
    "1 & 3 & 1 & 9 \\\\\n",
    "0 & -2 & -2 & -8 \\\\\n",
    "0 & 0 & 1 & 0\n",
    "\\end{array}\\right]\n",
    "$$\n",
    "\n",
    "It is much more fun to let the computer do the arithmetic than to crunch through it ourselves on the blackboard, but usually the computer does things *too* quickly (and it often does some re-ordering of the rows that makes it harder to follow what is going on).  For example, in Julia, we can solve the above system of equations by simply:"
   ]
  },
  {
   "cell_type": "code",
   "execution_count": 1,
   "metadata": {},
   "outputs": [
    {
     "data": {
      "text/plain": [
       "3×3 Array{Int64,2}:\n",
       " 1   3   1\n",
       " 1   1  -1\n",
       " 3  11   6"
      ]
     },
     "execution_count": 1,
     "metadata": {},
     "output_type": "execute_result"
    }
   ],
   "source": [
    "A = [1 3  1\n",
    "     1 1 -1\n",
    "     3 11 6]"
   ]
  },
  {
   "cell_type": "code",
   "execution_count": 2,
   "metadata": {},
   "outputs": [
    {
     "data": {
      "text/plain": [
       "3-element Array{Int64,1}:\n",
       "  9\n",
       "  1\n",
       " 35"
      ]
     },
     "execution_count": 2,
     "metadata": {},
     "output_type": "execute_result"
    }
   ],
   "source": [
    "b = [9, 1, 35]"
   ]
  },
  {
   "cell_type": "code",
   "execution_count": 3,
   "metadata": {},
   "outputs": [
    {
     "data": {
      "text/plain": [
       "3-element Array{Float64,1}:\n",
       " -3.0\n",
       "  4.0\n",
       "  0.0"
      ]
     },
     "execution_count": 3,
     "metadata": {},
     "output_type": "execute_result"
    }
   ],
   "source": [
    "x = A \\ b # solves Ax = b by (essentially) Gaussian elimination"
   ]
  },
  {
   "cell_type": "markdown",
   "metadata": {},
   "source": [
    "Of course, the computer can solve *much bigger problems* easily.  It can solve 1000 equations in 1000 unknowns in a fraction of a second — nowadays, that is no longer considered a \"big\" system of equations."
   ]
  },
  {
   "cell_type": "code",
   "execution_count": 4,
   "metadata": {},
   "outputs": [
    {
     "data": {
      "text/plain": [
       "1000×1000 Array{Float64,2}:\n",
       " 0.712053   0.445208   0.513177   …  0.0583092  0.441528    0.702338 \n",
       " 0.630853   0.394359   0.852201      0.415312   0.154614    0.956574 \n",
       " 0.34654    0.747768   0.696717      0.242099   0.626468    0.33115  \n",
       " 0.5798     0.635612   0.604009      0.120102   0.676887    0.221381 \n",
       " 0.609632   0.793706   0.557075      0.0360807  0.898336    0.592665 \n",
       " 0.020877   0.205968   0.493826   …  0.962798   0.494655    0.994687 \n",
       " 0.68995    0.236696   0.515805      0.280352   0.966515    0.0409876\n",
       " 0.579126   0.202286   0.595244      0.812614   0.166532    0.186777 \n",
       " 0.228173   0.52849    0.650399      0.677822   0.365476    0.23537  \n",
       " 0.0837131  0.102003   0.971145      0.986674   0.949548    0.595752 \n",
       " 0.0355462  0.589246   0.378192   …  0.378316   0.214112    0.321572 \n",
       " 0.44694    0.18816    0.281915      0.220178   0.860242    0.0738616\n",
       " 0.322266   0.929446   0.413392      0.0298244  0.624485    0.888938 \n",
       " ⋮                                ⋱                                  \n",
       " 0.172274   0.887887   0.733985      0.37247    0.280335    0.240805 \n",
       " 0.912184   0.0347142  0.618238      0.486542   0.0914065   0.812761 \n",
       " 0.305229   0.504314   0.694544   …  0.24443    0.0562553   0.6495   \n",
       " 0.690316   0.0120463  0.0965805     0.10979    0.341256    0.963786 \n",
       " 0.305659   0.317812   0.285415      0.811636   0.037469    0.590632 \n",
       " 0.551042   0.71272    0.407513      0.165414   0.817435    0.767484 \n",
       " 0.37343    0.209894   0.834518      0.415813   0.526772    0.222452 \n",
       " 0.28941    0.306957   0.122476   …  0.74515    0.428345    0.813539 \n",
       " 0.988487   0.890829   0.81564       0.909948   0.887421    0.999985 \n",
       " 0.374284   0.284847   0.758662      0.107097   0.334953    0.385771 \n",
       " 0.997246   0.921273   0.724247      0.660137   0.875743    0.320411 \n",
       " 0.57126    0.356156   0.711697      0.132622   0.00289096  0.144516 "
      ]
     },
     "execution_count": 4,
     "metadata": {},
     "output_type": "execute_result"
    }
   ],
   "source": [
    "Ahuge = rand(1000,1000)"
   ]
  },
  {
   "cell_type": "code",
   "execution_count": 5,
   "metadata": {},
   "outputs": [
    {
     "data": {
      "text/plain": [
       "1000-element Array{Float64,1}:\n",
       " 0.85324  \n",
       " 0.499709 \n",
       " 0.602028 \n",
       " 0.91877  \n",
       " 0.0348583\n",
       " 0.690683 \n",
       " 0.240692 \n",
       " 0.585336 \n",
       " 0.0184383\n",
       " 0.344167 \n",
       " 0.391457 \n",
       " 0.169543 \n",
       " 0.935342 \n",
       " ⋮        \n",
       " 0.38345  \n",
       " 0.514139 \n",
       " 0.999857 \n",
       " 0.923956 \n",
       " 0.874439 \n",
       " 0.423468 \n",
       " 0.730768 \n",
       " 0.151295 \n",
       " 0.075942 \n",
       " 0.495674 \n",
       " 0.0244817\n",
       " 0.405973 "
      ]
     },
     "execution_count": 5,
     "metadata": {},
     "output_type": "execute_result"
    }
   ],
   "source": [
    "bhuge = rand(1000)"
   ]
  },
  {
   "cell_type": "code",
   "execution_count": 6,
   "metadata": {},
   "outputs": [
    {
     "data": {
      "text/plain": [
       "1000-element Array{Float64,1}:\n",
       "  33.1866 \n",
       "  40.8415 \n",
       "  33.0752 \n",
       "  21.1301 \n",
       " -69.0749 \n",
       " -52.4694 \n",
       "  43.9718 \n",
       " -25.9109 \n",
       "  19.9183 \n",
       "  21.494  \n",
       "  -3.17084\n",
       "  17.1288 \n",
       "  66.8204 \n",
       "   ⋮      \n",
       "  18.1618 \n",
       "  25.0979 \n",
       "   1.59689\n",
       " -50.0938 \n",
       "  -7.74028\n",
       " -65.2327 \n",
       " -42.6991 \n",
       " -10.0009 \n",
       "  -1.20455\n",
       "  -8.38998\n",
       "  17.8502 \n",
       " -22.3897 "
      ]
     },
     "execution_count": 6,
     "metadata": {},
     "output_type": "execute_result"
    }
   ],
   "source": [
    "Ahuge \\ bhuge"
   ]
  },
  {
   "cell_type": "code",
   "execution_count": 7,
   "metadata": {},
   "outputs": [
    {
     "name": "stdout",
     "output_type": "stream",
     "text": [
      "  0.028887 seconds (92 allocations: 7.651 MiB, 19.19% gc time)\n",
      "  0.021000 seconds (12 allocations: 7.645 MiB)\n",
      "  0.033352 seconds (12 allocations: 7.645 MiB, 19.86% gc time)\n"
     ]
    }
   ],
   "source": [
    "@time Ahuge \\ bhuge;\n",
    "@time Ahuge \\ bhuge;\n",
    "@time Ahuge \\ bhuge;"
   ]
  },
  {
   "cell_type": "markdown",
   "metadata": {},
   "source": [
    "If we want to see the matrix $U$ from above, we use the fact (covered soon in 18.06) that Gaussian elimination is really \"LU\" factorization, performed by the built-in function `lu`. By default, however, \"serious\" computer implementations of this process automatically re-order the rows to reduce the effect of roundoff errors, so we need to pass an extra option that tells Julia not to do this.  (You should *not* normally do this, except for learning exercises.)"
   ]
  },
  {
   "cell_type": "code",
   "execution_count": 8,
   "metadata": {},
   "outputs": [
    {
     "data": {
      "text/plain": [
       "3×4 Array{Float64,2}:\n",
       " 1.0   3.0   1.0   9.0\n",
       " 0.0  -2.0  -2.0  -8.0\n",
       " 0.0   0.0   1.0   0.0"
      ]
     },
     "execution_count": 8,
     "metadata": {},
     "output_type": "execute_result"
    }
   ],
   "source": [
    "# LU factorization (Gaussian elimination) of the augumented matrix [A b], \n",
    "# passing the undocumented option Val{false} to prevent row re-ordering\n",
    "L, U = lu([A b], Val{false}) \n",
    "U # just show U"
   ]
  },
  {
   "cell_type": "markdown",
   "metadata": {},
   "source": [
    "However, it would be nice to show the individual steps of this process.  This requires some programming."
   ]
  },
  {
   "cell_type": "markdown",
   "metadata": {},
   "source": [
    "# Code to interactively visualize Gaussian elimination\n",
    "\n",
    "The following is some slightly tricky code that lets us visualize the process of Gaussian elimination in Julia.  It takes advantage of the [Interact](https://github.com/JuliaGizmos/Interact.jl) package in Julia, which allows us to easily create interactive displays using sliders, pushbuttons, and other widgets.\n",
    "\n",
    "Implementing this is **not really a beginner exercise** for new Julia programmers, though it is fairly straightforward for people who are used to Julia.  It involves defining our own type to control display, our own implementation of Gaussian elimination that allows us to stop partway through, and using the Interact package to create interactive widgets.\n",
    "\n",
    "You can skip this part if you aren't ready for the programming details."
   ]
  },
  {
   "cell_type": "code",
   "execution_count": 9,
   "metadata": {},
   "outputs": [
    {
     "data": {
      "text/plain": [
       "naive_gauss"
      ]
     },
     "execution_count": 9,
     "metadata": {},
     "output_type": "execute_result"
    }
   ],
   "source": [
    "\"\"\"\n",
    "TwoMatrices is just a wrapper type around two matrices or vectors with the same\n",
    "number of rows, so that they can be displayed side-by-side with a title and\n",
    "and arrow pointing from left to right.\n",
    "\"\"\"\n",
    "type TwoMatrices\n",
    "    left::AbstractVecOrMat\n",
    "    right::AbstractVecOrMat\n",
    "    title::AbstractString\n",
    "    function TwoMatrices(left, right, title=\"\")\n",
    "        size(left,1) == size(right,1) || throw(DimensionMismatch(\"two matrices must have same # rows\"))\n",
    "        return new(left, right, title)\n",
    "    end\n",
    "end\n",
    "function Base.show(io::IO, ::MIME\"text/plain\", x::TwoMatrices)\n",
    "    isempty(x.title) || println(io, x.title)\n",
    "    m = size(x.left, 1)\n",
    "    s = [Text(\" \"^10) for i in 1:m]\n",
    "    s[(m+1)÷2] = Text(\"   --->   \")\n",
    "    Base.showarray(io, [x.left s x.right], false; header=false)\n",
    "end\n",
    "\n",
    "\"\"\"\n",
    "    naive_gauss(A, [step])\n",
    "\n",
    "Given a matrix `A`, performs Gaussian elimination to convert\n",
    "`A` into an upper-triangular matrix `U`.\n",
    "\n",
    "This implementation is \"naive\" because it *never re-orders the rows*.\n",
    "(It will obviously fail if a zero pivot is encountered.)\n",
    "\n",
    "If the optional `step` argument is supplied, only performs `step`\n",
    "steps of Gaussian elimination.\n",
    "\n",
    "Returns `(U, row, col, factor)`, where `row` and `col` are the\n",
    "row and column of the last step performed, while `factor`\n",
    "is the last factor multiplying the pivot row.\n",
    "\"\"\"\n",
    "function naive_gauss(A, step=typemax(Int))\n",
    "    m = size(A,1) # number of rows\n",
    "    factor = A[1,1]/A[1,1]\n",
    "    step ≤ 0 && return (A, 1, 1, factor)\n",
    "    U = copy!(similar(A, typeof(factor)), A)\n",
    "    for j = 1:m   # loop over m columns\n",
    "        for i = j+1:m   # loop over rows below the pivot row j\n",
    "            # subtract a multiple of the pivot row (j)\n",
    "            # from the current row (i) to cancel U[i,j] = Uᵢⱼ:\n",
    "            factor = -U[i,j]/U[j,j]\n",
    "            U[i,:] = U[i,:] + U[j,:] * factor\n",
    "            step -= 1\n",
    "            step ≤ 0 && return (U, i, j, factor)\n",
    "        end\n",
    "    end\n",
    "    return U, m, m, factor\n",
    "end"
   ]
  },
  {
   "cell_type": "code",
   "execution_count": 10,
   "metadata": {},
   "outputs": [
    {
     "data": {
      "text/html": [
       "<div id=\"interact-js-shim\">\n",
       "    <script charset=\"utf-8\">\n",
       "(function (IPython, $, _, MathJax) {\n",
       "    $.event.special.destroyed = {\n",
       "\tremove: function(o) {\n",
       "\t    if (o.handler) {\n",
       "\t\to.handler.apply(this, arguments)\n",
       "\t    }\n",
       "\t}\n",
       "    }\n",
       "\n",
       "    var OutputArea = IPython.version >= \"4.0.0\" ? require(\"notebook/js/outputarea\").OutputArea : IPython.OutputArea;\n",
       "\n",
       "    var redrawValue = function (container, type, val) {\n",
       "\tvar selector = $(\"<div/>\");\n",
       "\tvar oa = new OutputArea(_.extend(selector, {\n",
       "\t    selector: selector,\n",
       "\t    prompt_area: true,\n",
       "\t    events: IPython.events,\n",
       "\t    keyboard_manager: IPython.keyboard_manager\n",
       "\t})); // Hack to work with IPython 2.1.0\n",
       "\n",
       "\tswitch (type) {\n",
       "\tcase \"image/png\":\n",
       "            var _src = 'data:' + type + ';base64,' + val;\n",
       "\t    $(container).find(\"img\").attr('src', _src);\n",
       "\t    break;\n",
       "\tcase \"text/latex\":\n",
       "\t\tif (MathJax){\n",
       "\t\t\tvar math = MathJax.Hub.getAllJax(container)[0];\n",
       "\t\t\tMathJax.Hub.Queue([\"Text\", math, val.replace(/^\\${1,2}|\\${1,2}$/g, '')]);\n",
       "\t\t\tbreak;\n",
       "\t\t}\n",
       "\tdefault:\n",
       "\t    var toinsert = OutputArea.append_map[type].apply(\n",
       "\t\toa, [val, {}, selector]\n",
       "\t    );\n",
       "\t    $(container).empty().append(toinsert.contents());\n",
       "\t    selector.remove();\n",
       "\t}\n",
       "    }\n",
       "\n",
       "\n",
       "    $(document).ready(function() {\n",
       "\tfunction initComm(evt, data) {\n",
       "\t    var comm_manager = data.kernel.comm_manager;\n",
       "        //_.extend(comm_manager.targets, require(\"widgets/js/widget\"))\n",
       "\t    comm_manager.register_target(\"Signal\", function (comm) {\n",
       "            comm.on_msg(function (msg) {\n",
       "                var val = msg.content.data.value;\n",
       "                $(\".signal-\" + comm.comm_id).each(function() {\n",
       "                var type = $(this).data(\"type\");\n",
       "                if (typeof(val[type]) !== \"undefined\" && val[type] !== null) {\n",
       "                    redrawValue(this, type, val[type], type);\n",
       "                }\n",
       "                });\n",
       "                delete val;\n",
       "                delete msg.content.data.value;\n",
       "            });\n",
       "\t    });\n",
       "\n",
       "\t    // coordingate with Comm and redraw Signals\n",
       "\t    // XXX: Test using Reactive here to improve performance\n",
       "\t    $([IPython.events]).on(\n",
       "\t\t'output_appended.OutputArea', function (event, type, value, md, toinsert) {\n",
       "\t\t    if (md && md.reactive) {\n",
       "                // console.log(md.comm_id);\n",
       "                toinsert.addClass(\"signal-\" + md.comm_id);\n",
       "                toinsert.data(\"type\", type);\n",
       "                // Signal back indicating the mimetype required\n",
       "                var comm_manager = IPython.notebook.kernel.comm_manager;\n",
       "                var comm = comm_manager.comms[md.comm_id];\n",
       "                comm.then(function (c) {\n",
       "                    c.send({action: \"subscribe_mime\",\n",
       "                       mime: type});\n",
       "                    toinsert.bind(\"destroyed\", function() {\n",
       "                        c.send({action: \"unsubscribe_mime\",\n",
       "                               mime: type});\n",
       "                    });\n",
       "                })\n",
       "\t\t    }\n",
       "\t    });\n",
       "\t}\n",
       "\n",
       "\ttry {\n",
       "\t    // try to initialize right away. otherwise, wait on the status_started event.\n",
       "\t    initComm(undefined, IPython.notebook);\n",
       "\t} catch (e) {\n",
       "\t    $([IPython.events]).on('kernel_created.Kernel kernel_created.Session', initComm);\n",
       "\t}\n",
       "    });\n",
       "})(IPython, jQuery, _, MathJax);\n",
       "</script>\n",
       "    <script>\n",
       "        window.interactLoadedFlag = true\n",
       "       $(\"#interact-js-shim\").bind(\"destroyed\", function () {\n",
       "           if (window.interactLoadedFlag) {\n",
       "               console.warn(\"JavaScript required by Interact will be removed if you remove this cell or run using Interact more than once.\")\n",
       "           }\n",
       "       })\n",
       "       $([IPython.events]).on(\"kernel_starting.Kernel kernel_restarting.Kernel\", function () { window.interactLoadedFlag = false })\n",
       "   </script>\n",
       "</div>"
      ]
     },
     "metadata": {},
     "output_type": "display_data"
    },
    {
     "data": {
      "text/plain": [
       "visualize_gauss (generic function with 1 method)"
      ]
     },
     "execution_count": 10,
     "metadata": {},
     "output_type": "execute_result"
    }
   ],
   "source": [
    "using Interact\n",
    "\n",
    "# For display, I only want to show 3 decimal places of floating-point values,\n",
    "# but I want to show integers and similar types exactly, so I define a little\n",
    "# function to do this rounding\n",
    "shorten(x::AbstractFloat) = round(x, 3)\n",
    "shorten(x) = x # leave non floating-point values as-is\n",
    "\n",
    "# create an interactive widget to visualize the Gaussian-elimination process for the matrix A.\n",
    "function visualize_gauss(A)\n",
    "    m = size(A, 1)\n",
    "    @manipulate for step in slider(1:(m*(m-1))÷2, value=1, label=\"gauss step\")\n",
    "        Uprev, = naive_gauss(A, step-1)\n",
    "        U, row, col, factor = naive_gauss(A, step)\n",
    "        pivot = U[col,col]\n",
    "        TwoMatrices(shorten.(Uprev), shorten.(U), \"Gaussian elimination for column $col with pivot $pivot: add $(shorten(factor)) * (row $col) to (row $row)\")\n",
    "    end\n",
    "end"
   ]
  },
  {
   "cell_type": "markdown",
   "metadata": {},
   "source": [
    "# Gaussian elimination examples\n",
    "\n",
    "Now, let's use this machinery to interact with some examples, starting with our $3 \\times 3$ matrix from above:"
   ]
  },
  {
   "cell_type": "code",
   "execution_count": 11,
   "metadata": {},
   "outputs": [
    {
     "data": {
      "text/html": [],
      "text/plain": [
       "Interact.Slider{Int64}(1: \"input\" = 1 Int64 , \"gauss step\", 1, 1:3, \"horizontal\", true, \"d\", true)"
      ]
     },
     "metadata": {},
     "output_type": "display_data"
    },
    {
     "data": {
      "text/plain": [
       "Gaussian elimination for column 1 with pivot 1.0: add -1.0 * (row 1) to (row 2)\n",
       " 1   3   1   9              1.0   3.0   1.0   9.0\n",
       " 1   1  -1   1     --->     0.0  -2.0  -2.0  -8.0\n",
       " 3  11   6  35              3.0  11.0   6.0  35.0"
      ]
     },
     "execution_count": 11,
     "metadata": {
      "comm_id": "b249b020-0fb4-4e97-be46-05f401a7e9fa",
      "reactive": true
     },
     "output_type": "execute_result"
    }
   ],
   "source": [
    "visualize_gauss([A b])"
   ]
  },
  {
   "cell_type": "code",
   "execution_count": 12,
   "metadata": {},
   "outputs": [
    {
     "data": {
      "text/html": [],
      "text/plain": [
       "Interact.Slider{Int64}(5: \"input-2\" = 1 Int64 , \"gauss step\", 1, 1:10, \"horizontal\", true, \"d\", true)"
      ]
     },
     "metadata": {},
     "output_type": "display_data"
    },
    {
     "data": {
      "text/plain": [
       "Gaussian elimination for column 1 with pivot -1.0: add 0.0 * (row 1) to (row 2)\n",
       " -1  -5   1  -4  1              -1.0  -5.0   1.0  -4.0  1.0\n",
       "  0   8   0   6  3               0.0   8.0   0.0   6.0  3.0\n",
       "  8   9   1   8  0     --->      8.0   9.0   1.0   8.0  0.0\n",
       "  0   0  -7   7  0               0.0   0.0  -7.0   7.0  0.0\n",
       " -5   4   8  -7  1              -5.0   4.0   8.0  -7.0  1.0"
      ]
     },
     "execution_count": 12,
     "metadata": {
      "comm_id": "4faa9b93-d3c1-4862-a157-549053c20670",
      "reactive": true
     },
     "output_type": "execute_result"
    }
   ],
   "source": [
    "visualize_gauss(rand(-9:9,5,5))"
   ]
  },
  {
   "cell_type": "markdown",
   "metadata": {},
   "source": [
    "Of course, because we are not re-ordering the rows, this process can go horribly wrong, most obviously if a zero pivot is encountered:"
   ]
  },
  {
   "cell_type": "code",
   "execution_count": 13,
   "metadata": {},
   "outputs": [
    {
     "data": {
      "text/html": [],
      "text/plain": [
       "Interact.Slider{Int64}(9: \"input-3\" = 1 Int64 , \"gauss step\", 1, 1:10, \"horizontal\", true, \"d\", true)"
      ]
     },
     "metadata": {},
     "output_type": "display_data"
    },
    {
     "data": {
      "text/plain": [
       "Gaussian elimination for column 1 with pivot -3.0: add 1.0 * (row 1) to (row 2)\n",
       " -3   5   5   3  -7              -3.0   5.0   5.0   3.0   -7.0\n",
       "  3  -5   8  -8  -6               0.0   0.0  13.0  -5.0  -13.0\n",
       "  8   2   8   2  -8     --->      8.0   2.0   8.0   2.0   -8.0\n",
       " -6  -2   6   4  -8              -6.0  -2.0   6.0   4.0   -8.0\n",
       " -8   4  -6  -1   8              -8.0   4.0  -6.0  -1.0    8.0"
      ]
     },
     "execution_count": 13,
     "metadata": {
      "comm_id": "55a8405e-107b-4b50-8f3a-809698fbe0c0",
      "reactive": true
     },
     "output_type": "execute_result"
    }
   ],
   "source": [
    "Abad = [-3   5   5   3  -7\n",
    "         3  -5   8  -8  -6\n",
    "         8   2   8   2  -8\n",
    "        -6  -2   6   4  -8\n",
    "        -8   4  -6  -1   8]\n",
    "visualize_gauss(Abad)"
   ]
  },
  {
   "cell_type": "markdown",
   "metadata": {},
   "source": [
    "But this matrix is not actually singular:"
   ]
  },
  {
   "cell_type": "code",
   "execution_count": 14,
   "metadata": {},
   "outputs": [
    {
     "data": {
      "text/plain": [
       "19211.999999999996"
      ]
     },
     "execution_count": 14,
     "metadata": {},
     "output_type": "execute_result"
    }
   ],
   "source": [
    "det(Abad)"
   ]
  },
  {
   "cell_type": "markdown",
   "metadata": {},
   "source": [
    "So we can fix the problem just by re-ordering the rows, e.g. swapping the first and last rows:"
   ]
  },
  {
   "cell_type": "code",
   "execution_count": 15,
   "metadata": {},
   "outputs": [
    {
     "data": {
      "text/html": [],
      "text/plain": [
       "Interact.Slider{Int64}(13: \"input-4\" = 1 Int64 , \"gauss step\", 1, 1:10, \"horizontal\", true, \"d\", true)"
      ]
     },
     "metadata": {},
     "output_type": "display_data"
    },
    {
     "data": {
      "text/plain": [
       "Gaussian elimination for column 1 with pivot -8.0: add 0.375 * (row 1) to (row 2)\n",
       " -8   4  -6  -1   8              -8.0   4.0  -6.0   -1.0     8.0\n",
       "  3  -5   8  -8  -6               0.0  -3.5   5.75  -8.375  -3.0\n",
       "  8   2   8   2  -8     --->      8.0   2.0   8.0    2.0    -8.0\n",
       " -6  -2   6   4  -8              -6.0  -2.0   6.0    4.0    -8.0\n",
       " -3   5   5   3  -7              -3.0   5.0   5.0    3.0    -7.0"
      ]
     },
     "execution_count": 15,
     "metadata": {
      "comm_id": "4904f1ba-5536-4285-be00-876dd658576e",
      "reactive": true
     },
     "output_type": "execute_result"
    }
   ],
   "source": [
    "Aok = [-8   4  -6  -1   8\n",
    "        3  -5   8  -8  -6\n",
    "        8   2   8   2  -8\n",
    "       -6  -2   6   4  -8\n",
    "       -3   5   5   3  -7]\n",
    "visualize_gauss(Aok)"
   ]
  },
  {
   "cell_type": "markdown",
   "metadata": {},
   "source": [
    "## A bigger example\n",
    "\n",
    "We quickly run out of space for displaying matrices as text, but we can visualize the process for larger matrices by using images, with the PyPlot package (a wrapper around the Python Matplotlib library):"
   ]
  },
  {
   "cell_type": "code",
   "execution_count": 16,
   "metadata": {},
   "outputs": [],
   "source": [
    "using PyPlot"
   ]
  },
  {
   "cell_type": "code",
   "execution_count": 17,
   "metadata": {},
   "outputs": [
    {
     "data": {
      "text/html": [],
      "text/plain": [
       "Interact.Slider{Int64}(17: \"input-5\" = 2 Int64 , \"gauss step\", 2, 0:50:4950, \"horizontal\", true, \"d\", true)"
      ]
     },
     "metadata": {},
     "output_type": "display_data"
    },
    {
     "data": {
      "image/png": "[encoded data removed]",
      "text/plain": [
       "PyPlot.Figure(PyObject <matplotlib.figure.Figure object at 0x127d2ced0>)"
      ]
     },
     "execution_count": 17,
     "metadata": {
      "comm_id": "90bdcee8-a671-4ae5-8ed2-51c9de45aad1",
      "reactive": true
     },
     "output_type": "execute_result"
    }
   ],
   "source": [
    "m = 100\n",
    "Abig = randn(m,m)\n",
    "fig = figure()\n",
    "nsteps = (m*(m-1))÷2\n",
    "@manipulate for step in slider(0:50:nsteps, value=2, label=\"gauss step\")\n",
    "    withfig(fig) do\n",
    "        U, row, col = naive_gauss(Abig, step)\n",
    "        # I had to experiment a little to find a nice way to plot this\n",
    "        imshow(log10.(abs.(U) .+ 1), cmap=\"hot\", vmin=0, vmax=3)\n",
    "        title(\"step $step: column $col, row $row\")\n",
    "        colorbar(label=L\"\\log_{10}(|U_{i,j}| + 1)\")\n",
    "    end\n",
    "end"
   ]
  },
  {
   "cell_type": "markdown",
   "metadata": {},
   "source": [
    "Note that it takes a *lot* more steps of Gaussian elimination for a $100 \\times 100$ matrix (4950 steps) than for a $5 \\times 5$ matrix (10 steps).  Later on in 18.06, we will analyze the computational cost of Gaussian elimination and how it scales with the size of the matrix (in computer science, this is known as the [complexity](https://en.wikipedia.org/wiki/Computational_complexity_theory) of the algorithm)."
   ]
  }
 ],
 "metadata": {
  "anaconda-cloud": {},
  "kernelspec": {
   "display_name": "Julia 0.6.0",
   "language": "julia",
   "name": "julia-0.6"
  },
  "language_info": {
   "file_extension": ".jl",
   "mimetype": "application/julia",
   "name": "julia",
   "version": "0.6.0"
  },
  "widgets": {
   "state": {
    "294167a6-1234-43dc-aef6-951949f1fac6": {
     "views": [
      {
       "cell_index": 26
      }
     ]
    },
    "41f7367b-0ad3-43e3-bd43-c6e4a1618e8d": {
     "views": [
      {
       "cell_index": 19
      }
     ]
    },
    "6e3620ec-4915-4734-8d3a-3332fdc63970": {
     "views": [
      {
       "cell_index": 16
      }
     ]
    },
    "ce72699c-d8cc-4a03-902b-a490178223e5": {
     "views": [
      {
       "cell_index": 17
      }
     ]
    },
    "db2d9825-08d3-4028-8072-1e865d1a0c4f": {
     "views": [
      {
       "cell_index": 23
      }
     ]
    }
   },
   "version": "1.2.0"
  }
 },
 "nbformat": 4,
 "nbformat_minor": 2
}
