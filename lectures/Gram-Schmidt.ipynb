{
 "cells": [
  {
   "cell_type": "markdown",
   "metadata": {},
   "source": [
    "        Chapter 4.4 illustrates a hand technique for computing orthonormal vectors q₁,q₂,… from arbitrary vectors a,b,… with the property that the first k vectors in the original set span the same subspace as the orthonormal set, and this is true for k=1,2,3,...\n",
    "      We will move this hand technique to the computer in this notebook.  Some of you will notice that on the computer one can combine operations in a simpler block fashion.  "
   ]
  },
  {
   "cell_type": "code",
   "execution_count": 2,
   "metadata": {},
   "outputs": [
    {
     "data": {
      "text/plain": [
       "6-element Array{Int64,1}:\n",
       " 3\n",
       " 6\n",
       " 1\n",
       " 4\n",
       " 3\n",
       " 8"
      ]
     },
     "execution_count": 2,
     "metadata": {},
     "output_type": "execute_result"
    }
   ],
   "source": [
    "# start with four arbitrary vectors in ℜⁿ with random entries from 1 to 10.\n",
    "n = 6\n",
    "a = rand(1:10,n)\n",
    "b = rand(1:10,n)\n",
    "c = rand(1:10,n)\n",
    "d = rand(1:10,n)"
   ]
  },
  {
   "cell_type": "code",
   "execution_count": 6,
   "metadata": {},
   "outputs": [],
   "source": [
    "# The capital letters are vectors, but they are all orthogonal and\n",
    "#span([A]) = span([a])\n",
    "#span([A B]) = span([a b])\n",
    "#span([A B C]) = span([a b c] )\n",
    "#span([A B C D]) = span([a b c d])\n",
    "A = a\n",
    "B = b - (A'b)/(A'A)*A \n",
    "C = c - (A'c)/(A'A)*A - (B'c)/(B'B)*B\n",
    "D = d - (A'd)/(A'A)*A - (B'd)/(B'B)*B - (C'd)/(C'C)*C;"
   ]
  },
  {
   "cell_type": "code",
   "execution_count": 10,
   "metadata": {},
   "outputs": [],
   "source": [
    "# now we normalize\n",
    "q₁ = normalize(A)\n",
    "q₂ = normalize(B)\n",
    "q₃ = normalize(C)\n",
    "q₄ = normalize(D);"
   ]
  },
  {
   "cell_type": "code",
   "execution_count": 12,
   "metadata": {},
   "outputs": [
    {
     "data": {
      "text/plain": [
       "6×4 Array{Float64,2}:\n",
       " 0.635001   -0.517781   -0.186293   -0.383813  \n",
       " 0.571501    0.332341    0.0558568  -0.16537   \n",
       " 0.0635001   0.0494204   0.430962   -0.3867    \n",
       " 0.3175     -0.202669   -0.339382    0.689078  \n",
       " 0.254       0.759896   -0.292097    0.00662598\n",
       " 0.3175      0.0222165   0.758911    0.448253  "
      ]
     },
     "execution_count": 12,
     "metadata": {},
     "output_type": "execute_result"
    }
   ],
   "source": [
    "# Gather into a matrix\n",
    "Q = [q₁ q₂ q₃ q₄]"
   ]
  },
  {
   "cell_type": "code",
   "execution_count": 19,
   "metadata": {},
   "outputs": [
    {
     "data": {
      "text/plain": [
       "true"
      ]
     },
     "execution_count": 19,
     "metadata": {},
     "output_type": "execute_result"
    }
   ],
   "source": [
    "#check that Q has orthonormal columns\n",
    "Q'Q ≈ eye(4,4)"
   ]
  },
  {
   "cell_type": "code",
   "execution_count": 28,
   "metadata": {},
   "outputs": [
    {
     "data": {
      "text/plain": [
       "4×4 Array{Float64,2}:\n",
       " 15.748   8.82651  15.24     9.96951\n",
       " -0.0     8.89341   2.75304  2.13687\n",
       " -0.0    -0.0       6.72032  4.04469\n",
       "  0.0     0.0       0.0      3.83186"
      ]
     },
     "execution_count": 28,
     "metadata": {},
     "output_type": "execute_result"
    }
   ],
   "source": [
    "# What does this triangular structure say?\n",
    "round.(Q'*[a b c d], 5)"
   ]
  },
  {
   "cell_type": "markdown",
   "metadata": {},
   "source": [
    "## How do we do all this at once on a computer?  We ask the computer to factor the matrix as Q*R (orthonormal columns times upper-triangular)"
   ]
  },
  {
   "cell_type": "code",
   "execution_count": 31,
   "metadata": {},
   "outputs": [
    {
     "data": {
      "text/plain": [
       "([-0.635001 0.517781 0.186293 0.383813; -0.571501 -0.332341 -0.0558568 0.16537; … ; -0.254 -0.759896 0.292097 -0.00662598; -0.3175 -0.0222165 -0.758911 -0.448253], [-15.748 -8.82651 -15.24 -9.96951; 0.0 -8.89341 -2.75304 -2.13687; 0.0 0.0 -6.72032 -4.04469; 0.0 0.0 0.0 -3.83186])"
      ]
     },
     "execution_count": 31,
     "metadata": {},
     "output_type": "execute_result"
    }
   ],
   "source": [
    "Q2,R = qr([a b c d])"
   ]
  },
  {
   "cell_type": "code",
   "execution_count": 35,
   "metadata": {},
   "outputs": [
    {
     "data": {
      "text/plain": [
       "true"
      ]
     },
     "execution_count": 35,
     "metadata": {},
     "output_type": "execute_result"
    }
   ],
   "source": [
    "Q2 ≈ -Q  # This produced the negative Q which still has all the good properties"
   ]
  },
  {
   "cell_type": "code",
   "execution_count": 38,
   "metadata": {},
   "outputs": [
    {
     "data": {
      "text/plain": [
       "4×4 Array{Float64,2}:\n",
       " 15.748   8.82651  15.24     9.96951\n",
       " -0.0     8.89341   2.75304  2.13687\n",
       " -0.0    -0.0       6.72032  4.04469\n",
       " -0.0    -0.0      -0.0      3.83186"
      ]
     },
     "execution_count": 38,
     "metadata": {},
     "output_type": "execute_result"
    }
   ],
   "source": [
    "-R ## Recognize this matrix?"
   ]
  },
  {
   "cell_type": "code",
   "execution_count": 40,
   "metadata": {},
   "outputs": [
    {
     "data": {
      "text/plain": [
       "true"
      ]
     },
     "execution_count": 40,
     "metadata": {},
     "output_type": "execute_result"
    }
   ],
   "source": [
    "Q2*R ≈ [a b c d]"
   ]
  },
  {
   "cell_type": "code",
   "execution_count": null,
   "metadata": {
    "collapsed": true
   },
   "outputs": [],
   "source": []
  }
 ],
 "metadata": {
  "kernelspec": {
   "display_name": "Julia 0.6.0",
   "language": "julia",
   "name": "julia-0.6"
  },
  "language_info": {
   "file_extension": ".jl",
   "mimetype": "application/julia",
   "name": "julia",
   "version": "0.6.0"
  }
 },
 "nbformat": 4,
 "nbformat_minor": 2
}
