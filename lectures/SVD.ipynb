{
 "cells": [
  {
   "cell_type": "markdown",
   "metadata": {},
   "source": [
    "# The Singular Value Decomposition"
   ]
  },
  {
   "cell_type": "markdown",
   "metadata": {},
   "source": [
    "Often more important in today's world than the eigenvalue decomposition.  Shows up in machine learning, image compression, and many discrete applications."
   ]
  },
  {
   "cell_type": "markdown",
   "metadata": {},
   "source": [
    "## Definition\n",
    "\n",
    "For any $m \\times n$ matrix $A$ of rank $r$:\n",
    "\n",
    "$$A = U \\Sigma V^T = \\\\\n",
    "\\begin{pmatrix} u_1 & \\cdots & u_r & \\cdots & u_m\\end{pmatrix} \\begin{pmatrix} \\sigma_1 & & & & & \\\\ & \\sigma_2 & & & & \\\\ & & \\ddots & & & \\\\ & & & \\sigma_r & & \\\\ & & & & 0 & \\\\ & & & & & \\ddots \\end{pmatrix} \\begin{pmatrix} v_1 & \\cdots & v_r & \\cdots & v_n\\end{pmatrix}^T \\\\\n",
    "= \\sigma_1 u_1 v_1^T + \\cdots \\sigma_r u_r v_r^T\n",
    "$$\n",
    "\n",
    "(more generally: $U \\Sigma V^H$ for complex matrices)\n",
    "\n",
    "* $U$ is $m\\times m$ orthogonal (unitary) matrix of **left singular vectors** $u_k$\n",
    "* $V$ is $n \\times n$ orthogonal (unitary) of **right singular vectors** $v_k$\n",
    "* $\\Sigma$ is $m\\times n$  diagonal matrix of r **singular values** $\\sigma_k$ (and $n-r$ columns / $m-r$ rows of zeros)\n",
    "\n",
    "The most basic SVD is a matrix decomposition of a matrix A into $U$ Diagonal($\\sigma$) $V^T$, where $U$ and $V$ are  square orthogonal and $\\sigma$ is a vector of decreasing singular\n",
    "values that are non-negative. The notation $\\Sigma$ denotes the diagonal matrix\n",
    "\n",
    "$$\n",
    "\\Sigma = \\begin{pmatrix}\n",
    "\\sigma_1 & 0 & \\cdots \\\\\n",
    "0 & \\sigma_2 & \\cdots \\\\\n",
    "& & \\ddots\n",
    "\\end{pmatrix}\n",
    "$$\n",
    "\n",
    "* The vectors $u_1, \\ldots, u_r$ form an **orthonormal basis for the column space** $C(A)$, and $v_1, \\ldots, v_r$ form an **orthonormal basis for the row space** $C(A^T)$."
   ]
  },
  {
   "cell_type": "markdown",
   "metadata": {},
   "source": [
    "### Square Example"
   ]
  },
  {
   "cell_type": "code",
   "execution_count": 1,
   "metadata": {},
   "outputs": [
    {
     "data": {
      "text/plain": [
       "5×5 Array{Float64,2}:\n",
       "  0.137964   0.802975  -0.33451   -0.133751   0.454325\n",
       " -0.594489  -0.354293  -0.644095  -0.154276   0.287055\n",
       " -0.412599   0.105922   0.552392  -0.703149   0.137797\n",
       "  0.60776   -0.271151  -0.310012  -0.66645   -0.12978 \n",
       "  0.296544  -0.380744   0.268331   0.140486   0.821801"
      ]
     },
     "metadata": {},
     "output_type": "display_data"
    },
    {
     "data": {
      "text/plain": [
       "5-element Array{Float64,1}:\n",
       " 3.3395  \n",
       " 2.25461 \n",
       " 1.53138 \n",
       " 0.827798\n",
       " 0.433907"
      ]
     },
     "metadata": {},
     "output_type": "display_data"
    },
    {
     "data": {
      "text/plain": [
       "5×5 Array{Float64,2}:\n",
       " -0.000224795   0.878455  -0.22219     0.310668  -0.287113 \n",
       "  0.553295      0.033749  -0.634097   -0.539019   0.0102978\n",
       "  0.576199      0.289554   0.722739   -0.239351   0.067176 \n",
       " -0.26087       0.331897  -0.0603928  -0.158941   0.890439 \n",
       "  0.542039     -0.182154  -0.150181    0.728281   0.346505 "
      ]
     },
     "metadata": {},
     "output_type": "display_data"
    }
   ],
   "source": [
    "A = randn(5,5)\n",
    "U,σ,V = svd(A)\n",
    "display(U), display(σ), display(V);"
   ]
  },
  {
   "cell_type": "code",
   "execution_count": 2,
   "metadata": {},
   "outputs": [
    {
     "data": {
      "text/plain": [
       "5×5 Diagonal{Float64}:\n",
       " 3.3395   ⋅        ⋅        ⋅         ⋅      \n",
       "  ⋅      2.25461   ⋅        ⋅         ⋅      \n",
       "  ⋅       ⋅       1.53138   ⋅         ⋅      \n",
       "  ⋅       ⋅        ⋅       0.827798   ⋅      \n",
       "  ⋅       ⋅        ⋅        ⋅        0.433907"
      ]
     },
     "execution_count": 2,
     "metadata": {},
     "output_type": "execute_result"
    }
   ],
   "source": [
    "σ\n",
    "Σ = Diagonal(σ)"
   ]
  },
  {
   "cell_type": "code",
   "execution_count": 3,
   "metadata": {},
   "outputs": [
    {
     "name": "stderr",
     "output_type": "stream",
     "text": [
      "\u001b[1m\u001b[33mWARNING: \u001b[39m\u001b[22m\u001b[33mround(x::AbstractArray, digits::Integer, base::Integer=10) is deprecated, use round.(x, digits, base) instead.\u001b[39m\n",
      "Stacktrace:\n",
      " [1] \u001b[1mdepwarn\u001b[22m\u001b[22m\u001b[1m(\u001b[22m\u001b[22m::String, ::Symbol\u001b[1m)\u001b[22m\u001b[22m at \u001b[1m./deprecated.jl:70\u001b[22m\u001b[22m\n",
      " [2] \u001b[1mround\u001b[22m\u001b[22m\u001b[1m(\u001b[22m\u001b[22m::Array{Float64,2}, ::Int64, ::Int64\u001b[1m)\u001b[22m\u001b[22m at \u001b[1m./deprecated.jl:57\u001b[22m\u001b[22m (repeats 2 times)\n",
      " [3] \u001b[1minclude_string\u001b[22m\u001b[22m\u001b[1m(\u001b[22m\u001b[22m::String, ::String\u001b[1m)\u001b[22m\u001b[22m at \u001b[1m./loading.jl:515\u001b[22m\u001b[22m\n",
      " [4] \u001b[1minclude_string\u001b[22m\u001b[22m\u001b[1m(\u001b[22m\u001b[22m::Module, ::String, ::String\u001b[1m)\u001b[22m\u001b[22m at \u001b[1m/Users/stevenj/.julia/v0.6/Compat/src/Compat.jl:464\u001b[22m\u001b[22m\n",
      " [5] \u001b[1mexecute_request\u001b[22m\u001b[22m\u001b[1m(\u001b[22m\u001b[22m::ZMQ.Socket, ::IJulia.Msg\u001b[1m)\u001b[22m\u001b[22m at \u001b[1m/Users/stevenj/.julia/v0.6/IJulia/src/execute_request.jl:154\u001b[22m\u001b[22m\n",
      " [6] \u001b[1meventloop\u001b[22m\u001b[22m\u001b[1m(\u001b[22m\u001b[22m::ZMQ.Socket\u001b[1m)\u001b[22m\u001b[22m at \u001b[1m/Users/stevenj/.julia/v0.6/IJulia/src/eventloop.jl:8\u001b[22m\u001b[22m\n",
      " [7] \u001b[1m(::IJulia.##14#17)\u001b[22m\u001b[22m\u001b[1m(\u001b[22m\u001b[22m\u001b[1m)\u001b[22m\u001b[22m at \u001b[1m./task.jl:335\u001b[22m\u001b[22m\n",
      "while loading In[3], in expression starting on line 1\n"
     ]
    },
    {
     "data": {
      "text/plain": [
       "5×5 Array{Float64,2}:\n",
       " 1.0   0.0   0.0   0.0  0.0\n",
       " 0.0   1.0   0.0  -0.0  0.0\n",
       " 0.0   0.0   1.0  -0.0  0.0\n",
       " 0.0  -0.0  -0.0   1.0  0.0\n",
       " 0.0   0.0   0.0   0.0  1.0"
      ]
     },
     "execution_count": 3,
     "metadata": {},
     "output_type": "execute_result"
    }
   ],
   "source": [
    "round(U'U,2)"
   ]
  },
  {
   "cell_type": "code",
   "execution_count": 4,
   "metadata": {},
   "outputs": [
    {
     "name": "stderr",
     "output_type": "stream",
     "text": [
      "\u001b[1m\u001b[33mWARNING: \u001b[39m\u001b[22m\u001b[33mround(x::AbstractArray, digits::Integer, base::Integer=10) is deprecated, use round.(x, digits, base) instead.\u001b[39m\n",
      "Stacktrace:\n",
      " [1] \u001b[1mdepwarn\u001b[22m\u001b[22m\u001b[1m(\u001b[22m\u001b[22m::String, ::Symbol\u001b[1m)\u001b[22m\u001b[22m at \u001b[1m./deprecated.jl:70\u001b[22m\u001b[22m\n",
      " [2] \u001b[1mround\u001b[22m\u001b[22m\u001b[1m(\u001b[22m\u001b[22m::Array{Float64,2}, ::Int64, ::Int64\u001b[1m)\u001b[22m\u001b[22m at \u001b[1m./deprecated.jl:57\u001b[22m\u001b[22m (repeats 2 times)\n",
      " [3] \u001b[1minclude_string\u001b[22m\u001b[22m\u001b[1m(\u001b[22m\u001b[22m::String, ::String\u001b[1m)\u001b[22m\u001b[22m at \u001b[1m./loading.jl:515\u001b[22m\u001b[22m\n",
      " [4] \u001b[1minclude_string\u001b[22m\u001b[22m\u001b[1m(\u001b[22m\u001b[22m::Module, ::String, ::String\u001b[1m)\u001b[22m\u001b[22m at \u001b[1m/Users/stevenj/.julia/v0.6/Compat/src/Compat.jl:464\u001b[22m\u001b[22m\n",
      " [5] \u001b[1mexecute_request\u001b[22m\u001b[22m\u001b[1m(\u001b[22m\u001b[22m::ZMQ.Socket, ::IJulia.Msg\u001b[1m)\u001b[22m\u001b[22m at \u001b[1m/Users/stevenj/.julia/v0.6/IJulia/src/execute_request.jl:154\u001b[22m\u001b[22m\n",
      " [6] \u001b[1meventloop\u001b[22m\u001b[22m\u001b[1m(\u001b[22m\u001b[22m::ZMQ.Socket\u001b[1m)\u001b[22m\u001b[22m at \u001b[1m/Users/stevenj/.julia/v0.6/IJulia/src/eventloop.jl:8\u001b[22m\u001b[22m\n",
      " [7] \u001b[1m(::IJulia.##14#17)\u001b[22m\u001b[22m\u001b[1m(\u001b[22m\u001b[22m\u001b[1m)\u001b[22m\u001b[22m at \u001b[1m./task.jl:335\u001b[22m\u001b[22m\n",
      "while loading In[4], in expression starting on line 1\n"
     ]
    },
    {
     "data": {
      "text/plain": [
       "5×5 Array{Float64,2}:\n",
       "  1.0  0.0   0.0   0.0  -0.0\n",
       "  0.0  1.0   0.0   0.0   0.0\n",
       "  0.0  0.0   1.0   0.0  -0.0\n",
       "  0.0  0.0   0.0   1.0  -0.0\n",
       " -0.0  0.0  -0.0  -0.0   1.0"
      ]
     },
     "execution_count": 4,
     "metadata": {},
     "output_type": "execute_result"
    }
   ],
   "source": [
    "round(V'V,2)"
   ]
  },
  {
   "cell_type": "code",
   "execution_count": 5,
   "metadata": {},
   "outputs": [
    {
     "data": {
      "text/plain": [
       "5-element Array{Float64,1}:\n",
       " 3.3395  \n",
       " 2.25461 \n",
       " 1.53138 \n",
       " 0.827798\n",
       " 0.433907"
      ]
     },
     "execution_count": 5,
     "metadata": {},
     "output_type": "execute_result"
    }
   ],
   "source": [
    "σ"
   ]
  },
  {
   "cell_type": "code",
   "execution_count": 6,
   "metadata": {},
   "outputs": [
    {
     "data": {
      "text/plain": [
       "5×5 Array{Float64,2}:\n",
       "  1.61307    0.702552   0.459195    0.704746  -0.0154304\n",
       " -0.557536  -0.429852  -2.04916     0.443562  -0.832325 \n",
       " -0.175854  -0.976346   0.0299311   0.533374  -1.32059  \n",
       " -0.58723    1.70017    0.777593   -0.666153   0.861492 \n",
       " -0.911867   0.199388   0.615157   -0.269035   0.839695 "
      ]
     },
     "execution_count": 6,
     "metadata": {},
     "output_type": "execute_result"
    }
   ],
   "source": [
    "Σ=Diagonal(σ)\n",
    "U*Σ*V'"
   ]
  },
  {
   "cell_type": "code",
   "execution_count": 7,
   "metadata": {},
   "outputs": [
    {
     "data": {
      "text/plain": [
       "5×5 Array{Float64,2}:\n",
       "  1.61307    0.702552   0.459195    0.704746  -0.0154304\n",
       " -0.557536  -0.429852  -2.04916     0.443562  -0.832325 \n",
       " -0.175854  -0.976346   0.0299311   0.533374  -1.32059  \n",
       " -0.58723    1.70017    0.777593   -0.666153   0.861492 \n",
       " -0.911867   0.199388   0.615157   -0.269035   0.839695 "
      ]
     },
     "execution_count": 7,
     "metadata": {},
     "output_type": "execute_result"
    }
   ],
   "source": [
    "A"
   ]
  },
  {
   "cell_type": "markdown",
   "metadata": {},
   "source": [
    "### \"tall-skinny\" full column rank example"
   ]
  },
  {
   "cell_type": "code",
   "execution_count": 8,
   "metadata": {},
   "outputs": [
    {
     "data": {
      "text/plain": [
       "5×5 Array{Float64,2}:\n",
       " -0.504009    0.423015   0.407325  -0.184504    0.605869\n",
       "  0.281671    0.137801  -0.636942  -0.588282    0.387172\n",
       "  0.526002   -0.48418    0.346672   0.150287    0.588322\n",
       " -0.0884007   0.208707  -0.492116   0.766438    0.344994\n",
       "  0.618177    0.723933   0.256966   0.0993447  -0.133704"
      ]
     },
     "metadata": {},
     "output_type": "display_data"
    },
    {
     "data": {
      "text/plain": [
       "3-element Array{Float64,1}:\n",
       " 3.32895\n",
       " 1.39294\n",
       " 1.19936"
      ]
     },
     "metadata": {},
     "output_type": "display_data"
    },
    {
     "data": {
      "text/plain": [
       "3×3 Array{Float64,2}:\n",
       "  0.963315  -0.0356066   0.266002\n",
       " -0.233653  -0.598875    0.765999\n",
       "  0.132027  -0.80005    -0.585225"
      ]
     },
     "metadata": {},
     "output_type": "display_data"
    }
   ],
   "source": [
    "A = randn(5,3)\n",
    "U,σ,V = svd(A,thin=false) # thin=false gives the basic svd, \n",
    "                          # often the default (thin=true) is more useful\n",
    "display(U), display(σ), display(V);"
   ]
  },
  {
   "cell_type": "code",
   "execution_count": 9,
   "metadata": {},
   "outputs": [
    {
     "data": {
      "text/plain": [
       "5×3 Array{Float64,2}:\n",
       " -1.5073     0.413363  -0.978834 \n",
       "  0.693232  -0.919205   0.417295 \n",
       "  1.82141    0.313256   0.527438 \n",
       " -0.450838  -0.557453   0.0739727\n",
       "  2.02846   -0.848655  -0.715432 "
      ]
     },
     "metadata": {},
     "output_type": "display_data"
    },
    {
     "data": {
      "text/plain": [
       "5×3 Array{Float64,2}:\n",
       " -1.5073     0.413363  -0.978834 \n",
       "  0.693232  -0.919205   0.417295 \n",
       "  1.82141    0.313256   0.527438 \n",
       " -0.450838  -0.557453   0.0739727\n",
       "  2.02846   -0.848655  -0.715432 "
      ]
     },
     "execution_count": 9,
     "metadata": {},
     "output_type": "execute_result"
    }
   ],
   "source": [
    "Σ = zeros(A) # Make Σ the size of A\n",
    "for i=1:length(σ) Σ[i,i]=σ[i] end # put the singular values on the diagonal\n",
    "\n",
    "display(A)\n",
    "U*Σ*V'"
   ]
  },
  {
   "cell_type": "code",
   "execution_count": 10,
   "metadata": {},
   "outputs": [
    {
     "data": {
      "text/plain": [
       "5×3 Array{Float64,2}:\n",
       " 3.32895  0.0      0.0    \n",
       " 0.0      1.39294  0.0    \n",
       " 0.0      0.0      1.19936\n",
       " 0.0      0.0      0.0    \n",
       " 0.0      0.0      0.0    "
      ]
     },
     "execution_count": 10,
     "metadata": {},
     "output_type": "execute_result"
    }
   ],
   "source": [
    "Σ"
   ]
  },
  {
   "cell_type": "markdown",
   "metadata": {},
   "source": [
    "### short fat matrix"
   ]
  },
  {
   "cell_type": "code",
   "execution_count": 11,
   "metadata": {},
   "outputs": [
    {
     "data": {
      "text/plain": [
       "3×3 Array{Float64,2}:\n",
       " -0.426242   0.887623   0.174477\n",
       " -0.762784  -0.456351   0.458153\n",
       "  0.48629    0.0621956  0.871581"
      ]
     },
     "metadata": {},
     "output_type": "display_data"
    },
    {
     "data": {
      "text/plain": [
       "3-element Array{Float64,1}:\n",
       " 2.72821 \n",
       " 2.20502 \n",
       " 0.895075"
      ]
     },
     "metadata": {},
     "output_type": "display_data"
    },
    {
     "data": {
      "text/plain": [
       "5×5 Array{Float64,2}:\n",
       " -0.363091  -0.045751  -0.742966    0.554305   -0.0825792\n",
       "  0.591144   0.315986   0.147099    0.656974    0.312168 \n",
       " -0.547589  -0.294552   0.626749    0.465894    0.0592773\n",
       "  0.43765   -0.888701  -0.0909405   0.0824995  -0.0599702\n",
       " -0.165291  -0.146663  -0.158994   -0.19305     0.942667 "
      ]
     },
     "metadata": {},
     "output_type": "display_data"
    },
    {
     "data": {
      "text/plain": [
       "3×5 Array{Float64,2}:\n",
       "  0.216656  -0.0460008   0.158154  -2.26253    -0.119669\n",
       "  0.496966  -1.48784     1.69297   -0.0537908   0.426358\n",
       " -1.0676     0.942364   -0.277938   0.387808   -0.363442"
      ]
     },
     "execution_count": 11,
     "metadata": {},
     "output_type": "execute_result"
    }
   ],
   "source": [
    "A = randn(3,5)\n",
    "U,σ,V = svd(A,thin=false) # thin=false gives the basic svd, \n",
    "                          # often the default (thin=true) is more useful\n",
    "display(U), display(σ), display(V)\n",
    "Σ = zeros(A) # Make Σ the size of A\n",
    "for i=1:length(σ) Σ[i,i]=σ[i] end # put the singular values on the diagonal\n",
    "U*Σ*V'\n",
    "A"
   ]
  },
  {
   "cell_type": "code",
   "execution_count": 12,
   "metadata": {},
   "outputs": [
    {
     "data": {
      "text/plain": [
       "3×5 Array{Float64,2}:\n",
       "  0.216656  -0.0460008   0.158154  -2.26253    -0.119669\n",
       "  0.496966  -1.48784     1.69297   -0.0537908   0.426358\n",
       " -1.0676     0.942364   -0.277938   0.387808   -0.363442"
      ]
     },
     "execution_count": 12,
     "metadata": {},
     "output_type": "execute_result"
    }
   ],
   "source": [
    "A"
   ]
  },
  {
   "cell_type": "code",
   "execution_count": 13,
   "metadata": {},
   "outputs": [
    {
     "data": {
      "text/plain": [
       "3×5 Array{Float64,2}:\n",
       " 2.72821  0.0      0.0       0.0  0.0\n",
       " 0.0      2.20502  0.0       0.0  0.0\n",
       " 0.0      0.0      0.895075  0.0  0.0"
      ]
     },
     "execution_count": 13,
     "metadata": {},
     "output_type": "execute_result"
    }
   ],
   "source": [
    "Σ"
   ]
  },
  {
   "cell_type": "markdown",
   "metadata": {},
   "source": [
    "Thin: for tall skinny, U is the size of A, Σ is square <br>\n",
    "Thin: for short fat, V is the size of A, Σ is square "
   ]
  },
  {
   "cell_type": "code",
   "execution_count": 14,
   "metadata": {},
   "outputs": [
    {
     "data": {
      "text/plain": [
       "5×3 Array{Float64,2}:\n",
       " -0.0393212   0.625641  -0.389647\n",
       "  0.601076   -0.297929   0.29942 \n",
       "  0.759555    0.221421  -0.433578\n",
       "  0.220175   -0.16661    0.259325\n",
       " -0.108445   -0.665601  -0.709425"
      ]
     },
     "metadata": {},
     "output_type": "display_data"
    },
    {
     "name": "stderr",
     "output_type": "stream",
     "text": [
      "\u001b[1m\u001b[33mWARNING: \u001b[39m\u001b[22m\u001b[33mround(x::AbstractArray, digits::Integer, base::Integer=10) is deprecated, use round.(x, digits, base) instead.\u001b[39m\n",
      "Stacktrace:\n",
      " [1] \u001b[1mdepwarn\u001b[22m\u001b[22m\u001b[1m(\u001b[22m\u001b[22m::String, ::Symbol\u001b[1m)\u001b[22m\u001b[22m at \u001b[1m./deprecated.jl:70\u001b[22m\u001b[22m\n",
      " [2] \u001b[1mround\u001b[22m\u001b[22m\u001b[1m(\u001b[22m\u001b[22m::Array{Float64,2}, ::Int64, ::Int64\u001b[1m)\u001b[22m\u001b[22m at \u001b[1m./deprecated.jl:57\u001b[22m\u001b[22m (repeats 2 times)\n",
      " [3] \u001b[1minclude_string\u001b[22m\u001b[22m\u001b[1m(\u001b[22m\u001b[22m::String, ::String\u001b[1m)\u001b[22m\u001b[22m at \u001b[1m./loading.jl:515\u001b[22m\u001b[22m\n",
      " [4] \u001b[1minclude_string\u001b[22m\u001b[22m\u001b[1m(\u001b[22m\u001b[22m::Module, ::String, ::String\u001b[1m)\u001b[22m\u001b[22m at \u001b[1m/Users/stevenj/.julia/v0.6/Compat/src/Compat.jl:464\u001b[22m\u001b[22m\n"
     ]
    },
    {
     "data": {
      "text/plain": [
       "3×3 Array{Float64,2}:\n",
       "  1.0  -0.0  0.0\n",
       " -0.0   1.0  0.0\n",
       "  0.0   0.0  1.0"
      ]
     },
     "metadata": {},
     "output_type": "display_data"
    },
    {
     "data": {
      "text/plain": [
       "5×3 Array{Float64,2}:\n",
       "  0.980362   0.514368    0.415942\n",
       " -1.05405   -0.476334    1.11009 \n",
       " -0.494685   0.0577207   1.88208 \n",
       " -0.456699  -0.267213    0.360968\n",
       " -1.04265   -0.0392818  -0.786467"
      ]
     },
     "metadata": {},
     "output_type": "display_data"
    },
    {
     "name": "stderr",
     "output_type": "stream",
     "text": [
      " [5] \u001b[1mexecute_request\u001b[22m\u001b[22m\u001b[1m(\u001b[22m\u001b[22m::ZMQ.Socket, ::IJulia.Msg\u001b[1m)\u001b[22m\u001b[22m at \u001b[1m/Users/stevenj/.julia/v0.6/IJulia/src/execute_request.jl:154\u001b[22m\u001b[22m\n",
      " [6] \u001b[1meventloop\u001b[22m\u001b[22m\u001b[1m(\u001b[22m\u001b[22m::ZMQ.Socket\u001b[1m)\u001b[22m\u001b[22m at \u001b[1m/Users/stevenj/.julia/v0.6/IJulia/src/eventloop.jl:8\u001b[22m\u001b[22m\n",
      " [7] \u001b[1m(::IJulia.##14#17)\u001b[22m\u001b[22m\u001b[1m(\u001b[22m\u001b[22m\u001b[1m)\u001b[22m\u001b[22m at \u001b[1m./task.jl:335\u001b[22m\u001b[22m\n",
      "while loading In[14], in expression starting on line 4\n"
     ]
    },
    {
     "data": {
      "text/plain": [
       "5×3 Array{Float64,2}:\n",
       "  0.980362   0.514368    0.415942\n",
       " -1.05405   -0.476334    1.11009 \n",
       " -0.494685   0.0577207   1.88208 \n",
       " -0.456699  -0.267213    0.360968\n",
       " -1.04265   -0.0392818  -0.786467"
      ]
     },
     "execution_count": 14,
     "metadata": {},
     "output_type": "execute_result"
    }
   ],
   "source": [
    "A = randn(5,3)\n",
    "U,σ,V = svd(A) # thin = true\n",
    "display(U)\n",
    "display(round(U'U,2))\n",
    "display(A)\n",
    "U*Diagonal(σ)*V'"
   ]
  },
  {
   "cell_type": "code",
   "execution_count": 15,
   "metadata": {},
   "outputs": [
    {
     "data": {
      "text/plain": [
       "5×3 Array{Float64,2}:\n",
       " -0.542191   -0.0187858   0.709478\n",
       " -0.433227    0.749758   -0.448208\n",
       " -0.391919   -0.273888   -0.124539\n",
       "  0.601881    0.382869    0.272958\n",
       " -0.0498276   0.464657    0.453579"
      ]
     },
     "metadata": {},
     "output_type": "display_data"
    },
    {
     "data": {
      "text/plain": [
       "3×3 Array{Float64,2}:\n",
       "  1.0  0.0  -0.0\n",
       "  0.0  1.0   0.0\n",
       " -0.0  0.0   1.0"
      ]
     },
     "metadata": {},
     "output_type": "display_data"
    },
    {
     "data": {
      "text/plain": [
       "3×5 Array{Float64,2}:\n",
       "  1.14962   -0.546918   1.09557   -1.60263   -0.547976\n",
       " -1.99217   -2.02499   -1.42534    2.21458   -0.31118 \n",
       "  0.392026   1.90935   -0.442522   0.606679   1.19657 "
      ]
     },
     "metadata": {},
     "output_type": "display_data"
    },
    {
     "name": "stderr",
     "output_type": "stream",
     "text": [
      "\u001b[1m\u001b[33mWARNING: \u001b[39m\u001b[22m\u001b[33mround(x::AbstractArray, digits::Integer, base::Integer=10) is deprecated, use round.(x, digits, base) instead.\u001b[39m\n",
      "Stacktrace:\n",
      " [1] \u001b[1mdepwarn\u001b[22m\u001b[22m\u001b[1m(\u001b[22m\u001b[22m::String, ::Symbol\u001b[1m)\u001b[22m\u001b[22m at \u001b[1m./deprecated.jl:70\u001b[22m\u001b[22m\n",
      " [2] \u001b[1mround\u001b[22m\u001b[22m\u001b[1m(\u001b[22m\u001b[22m::Array{Float64,2}, ::Int64, ::Int64\u001b[1m)\u001b[22m\u001b[22m at \u001b[1m./deprecated.jl:57\u001b[22m\u001b[22m (repeats 2 times)\n",
      " [3] \u001b[1minclude_string\u001b[22m\u001b[22m\u001b[1m(\u001b[22m\u001b[22m::String, ::String\u001b[1m)\u001b[22m\u001b[22m at \u001b[1m./loading.jl:515\u001b[22m\u001b[22m\n",
      " [4] \u001b[1minclude_string\u001b[22m\u001b[22m\u001b[1m(\u001b[22m\u001b[22m::Module, ::String, ::String\u001b[1m)\u001b[22m\u001b[22m at \u001b[1m/Users/stevenj/.julia/v0.6/Compat/src/Compat.jl:464\u001b[22m\u001b[22m\n",
      " [5] \u001b[1mexecute_request\u001b[22m\u001b[22m\u001b[1m(\u001b[22m\u001b[22m::ZMQ.Socket, ::IJulia.Msg\u001b[1m)\u001b[22m\u001b[22m at \u001b[1m/Users/stevenj/.julia/v0.6/IJulia/src/execute_request.jl:154\u001b[22m\u001b[22m\n",
      " [6] \u001b[1meventloop\u001b[22m\u001b[22m\u001b[1m(\u001b[22m\u001b[22m::ZMQ.Socket\u001b[1m)\u001b[22m\u001b[22m at \u001b[1m/Users/stevenj/.julia/v0.6/IJulia/src/eventloop.jl:8\u001b[22m\u001b[22m\n",
      " [7] \u001b[1m(::IJulia.##14#17)\u001b[22m\u001b[22m\u001b[1m(\u001b[22m\u001b[22m\u001b[1m)\u001b[22m\u001b[22m at \u001b[1m./task.jl:335\u001b[22m\u001b[22m\n",
      "while loading In[15], in expression starting on line 4\n"
     ]
    },
    {
     "data": {
      "text/plain": [
       "3×5 Array{Float64,2}:\n",
       "  1.14962   -0.546918   1.09557   -1.60263   -0.547976\n",
       " -1.99217   -2.02499   -1.42534    2.21458   -0.31118 \n",
       "  0.392026   1.90935   -0.442522   0.606679   1.19657 "
      ]
     },
     "execution_count": 15,
     "metadata": {},
     "output_type": "execute_result"
    }
   ],
   "source": [
    "A = randn(3,5)\n",
    "U,σ,V = svd(A)\n",
    "display(V)\n",
    "display(round(V'V,2))\n",
    "display(A)\n",
    "U*Diagonal(σ)*V'"
   ]
  },
  {
   "cell_type": "markdown",
   "metadata": {},
   "source": [
    "## Data \"compression\""
   ]
  },
  {
   "cell_type": "code",
   "execution_count": 16,
   "metadata": {},
   "outputs": [
    {
     "data": {
      "text/html": [
       "<div id=\"interact-js-shim\">\n",
       "    <script charset=\"utf-8\">\n",
       "(function (IPython, $, _, MathJax) {\n",
       "    $.event.special.destroyed = {\n",
       "\tremove: function(o) {\n",
       "\t    if (o.handler) {\n",
       "\t\to.handler.apply(this, arguments)\n",
       "\t    }\n",
       "\t}\n",
       "    }\n",
       "\n",
       "    var OutputArea = IPython.version >= \"4.0.0\" ? require(\"notebook/js/outputarea\").OutputArea : IPython.OutputArea;\n",
       "\n",
       "    var redrawValue = function (container, type, val) {\n",
       "\tvar selector = $(\"<div/>\");\n",
       "\tvar oa = new OutputArea(_.extend(selector, {\n",
       "\t    selector: selector,\n",
       "\t    prompt_area: true,\n",
       "\t    events: IPython.events,\n",
       "\t    keyboard_manager: IPython.keyboard_manager\n",
       "\t})); // Hack to work with IPython 2.1.0\n",
       "\n",
       "\tswitch (type) {\n",
       "\tcase \"image/png\":\n",
       "            var _src = 'data:' + type + ';base64,' + val;\n",
       "\t    $(container).find(\"img\").attr('src', _src);\n",
       "\t    break;\n",
       "\tcase \"text/latex\":\n",
       "\t\tif (MathJax){\n",
       "\t\t\tvar math = MathJax.Hub.getAllJax(container)[0];\n",
       "\t\t\tMathJax.Hub.Queue([\"Text\", math, val.replace(/^\\${1,2}|\\${1,2}$/g, '')]);\n",
       "\t\t\tbreak;\n",
       "\t\t}\n",
       "\tdefault:\n",
       "\t    var toinsert = OutputArea.append_map[type].apply(\n",
       "\t\toa, [val, {}, selector]\n",
       "\t    );\n",
       "\t    $(container).empty().append(toinsert.contents());\n",
       "\t    selector.remove();\n",
       "\t}\n",
       "    }\n",
       "\n",
       "\n",
       "    $(document).ready(function() {\n",
       "\tfunction initComm(evt, data) {\n",
       "\t    var comm_manager = data.kernel.comm_manager;\n",
       "        //_.extend(comm_manager.targets, require(\"widgets/js/widget\"))\n",
       "\t    comm_manager.register_target(\"Signal\", function (comm) {\n",
       "            comm.on_msg(function (msg) {\n",
       "                var val = msg.content.data.value;\n",
       "                $(\".signal-\" + comm.comm_id).each(function() {\n",
       "                var type = $(this).data(\"type\");\n",
       "                if (typeof(val[type]) !== \"undefined\" && val[type] !== null) {\n",
       "                    redrawValue(this, type, val[type], type);\n",
       "                }\n",
       "                });\n",
       "                delete val;\n",
       "                delete msg.content.data.value;\n",
       "            });\n",
       "\t    });\n",
       "\n",
       "\t    // coordingate with Comm and redraw Signals\n",
       "\t    // XXX: Test using Reactive here to improve performance\n",
       "\t    $([IPython.events]).on(\n",
       "\t\t'output_appended.OutputArea', function (event, type, value, md, toinsert) {\n",
       "\t\t    if (md && md.reactive) {\n",
       "                // console.log(md.comm_id);\n",
       "                toinsert.addClass(\"signal-\" + md.comm_id);\n",
       "                toinsert.data(\"type\", type);\n",
       "                // Signal back indicating the mimetype required\n",
       "                var comm_manager = IPython.notebook.kernel.comm_manager;\n",
       "                var comm = comm_manager.comms[md.comm_id];\n",
       "                comm.then(function (c) {\n",
       "                    c.send({action: \"subscribe_mime\",\n",
       "                       mime: type});\n",
       "                    toinsert.bind(\"destroyed\", function() {\n",
       "                        c.send({action: \"unsubscribe_mime\",\n",
       "                               mime: type});\n",
       "                    });\n",
       "                })\n",
       "\t\t    }\n",
       "\t    });\n",
       "\t}\n",
       "\n",
       "\ttry {\n",
       "\t    // try to initialize right away. otherwise, wait on the status_started event.\n",
       "\t    initComm(undefined, IPython.notebook);\n",
       "\t} catch (e) {\n",
       "\t    $([IPython.events]).on('kernel_created.Kernel kernel_created.Session', initComm);\n",
       "\t}\n",
       "    });\n",
       "})(IPython, jQuery, _, MathJax);\n",
       "</script>\n",
       "    <script>\n",
       "        window.interactLoadedFlag = true\n",
       "       $(\"#interact-js-shim\").bind(\"destroyed\", function () {\n",
       "           if (window.interactLoadedFlag) {\n",
       "               console.warn(\"JavaScript required by Interact will be removed if you remove this cell or run using Interact more than once.\")\n",
       "           }\n",
       "       })\n",
       "       $([IPython.events]).on(\"kernel_starting.Kernel kernel_restarting.Kernel\", function () { window.interactLoadedFlag = false })\n",
       "   </script>\n",
       "</div>"
      ]
     },
     "metadata": {},
     "output_type": "display_data"
    },
    {
     "name": "stderr",
     "output_type": "stream",
     "text": [
      "  % Total    % Received % Xferd  Average Speed   Time    Time     Time  Current\n",
      "                                 Dload  Upload   Total   Spent    Left  Speed\n",
      "\r",
      "  0     0    0     0    0     0      0      0 --:--:-- --:--:-- --:--:--     0\r",
      "100  111k  100  111k    0     0  1482k      0 --:--:-- --:--:-- --:--:-- 2028k\n"
     ]
    },
    {
     "data": {
      "image/png": "[encoded data removed]",
      "text/plain": [
       "198×313 Array{RGB4{N0f8},2}:\n",
       " RGB4{N0f8}(0.502,0.576,0.592)  …  RGB4{N0f8}(0.106,0.071,0.012)\n",
       " RGB4{N0f8}(0.408,0.467,0.455)     RGB4{N0f8}(0.071,0.075,0.02) \n",
       " RGB4{N0f8}(0.275,0.282,0.271)     RGB4{N0f8}(0.09,0.09,0.051)  \n",
       " RGB4{N0f8}(0.153,0.129,0.137)     RGB4{N0f8}(0.114,0.071,0.055)\n",
       " RGB4{N0f8}(0.094,0.055,0.098)     RGB4{N0f8}(0.145,0.047,0.059)\n",
       " RGB4{N0f8}(0.063,0.067,0.047)  …  RGB4{N0f8}(0.2,0.027,0.078)  \n",
       " RGB4{N0f8}(0.039,0.039,0.039)     RGB4{N0f8}(0.208,0.039,0.078)\n",
       " RGB4{N0f8}(0.012,0.008,0.031)     RGB4{N0f8}(0.216,0.047,0.086)\n",
       " RGB4{N0f8}(0.0,0.0,0.035)         RGB4{N0f8}(0.231,0.055,0.082)\n",
       " RGB4{N0f8}(0.016,0.016,0.047)     RGB4{N0f8}(0.251,0.075,0.094)\n",
       " RGB4{N0f8}(0.0,0.004,0.0)      …  RGB4{N0f8}(0.278,0.098,0.11) \n",
       " RGB4{N0f8}(0.004,0.027,0.0)       RGB4{N0f8}(0.278,0.098,0.106)\n",
       " RGB4{N0f8}(0.122,0.149,0.086)     RGB4{N0f8}(0.263,0.082,0.09) \n",
       " ⋮                              ⋱                               \n",
       " RGB4{N0f8}(0.812,0.847,0.843)     RGB4{N0f8}(0.482,0.388,0.294)\n",
       " RGB4{N0f8}(0.812,0.827,0.831)     RGB4{N0f8}(0.435,0.341,0.247)\n",
       " RGB4{N0f8}(0.827,0.835,0.831)     RGB4{N0f8}(0.396,0.298,0.212)\n",
       " RGB4{N0f8}(0.847,0.847,0.847)     RGB4{N0f8}(0.416,0.333,0.22) \n",
       " RGB4{N0f8}(0.839,0.839,0.839)  …  RGB4{N0f8}(0.447,0.388,0.267)\n",
       " RGB4{N0f8}(0.835,0.827,0.831)     RGB4{N0f8}(0.467,0.416,0.282)\n",
       " RGB4{N0f8}(0.851,0.835,0.839)     RGB4{N0f8}(0.451,0.373,0.243)\n",
       " RGB4{N0f8}(0.882,0.859,0.867)     RGB4{N0f8}(0.427,0.306,0.184)\n",
       " RGB4{N0f8}(0.886,0.851,0.863)     RGB4{N0f8}(0.439,0.302,0.176)\n",
       " RGB4{N0f8}(0.812,0.776,0.788)  …  RGB4{N0f8}(0.49,0.396,0.247) \n",
       " RGB4{N0f8}(0.729,0.686,0.702)     RGB4{N0f8}(0.549,0.498,0.333)\n",
       " RGB4{N0f8}(0.69,0.631,0.612)      RGB4{N0f8}(0.557,0.522,0.369)"
      ]
     },
     "execution_count": 16,
     "metadata": {},
     "output_type": "execute_result"
    }
   ],
   "source": [
    "using Images, Interact\n",
    "picture = download(\"http://web.mit.edu/jfrench/Public/gstrang.png\")\n",
    "pimage = load(picture)"
   ]
  },
  {
   "cell_type": "code",
   "execution_count": 17,
   "metadata": {},
   "outputs": [
    {
     "data": {
      "text/plain": [
       "3×198×313 Array{Float32,3}:\n",
       "[:, :, 1] =\n",
       " 0.501961  0.407843  0.27451   0.152941  …  0.811765  0.729412  0.690196\n",
       " 0.576471  0.466667  0.282353  0.129412     0.776471  0.686275  0.631373\n",
       " 0.592157  0.454902  0.270588  0.137255     0.788235  0.701961  0.611765\n",
       "\n",
       "[:, :, 2] =\n",
       " 0.478431  0.4       0.278431  0.156863  …  0.792157  0.717647  0.67451 \n",
       " 0.560784  0.462745  0.298039  0.133333     0.74902   0.670588  0.607843\n",
       " 0.572549  0.45098   0.27451   0.141176     0.764706  0.686275  0.576471\n",
       "\n",
       "[:, :, 3] =\n",
       " 0.47451   0.403922  0.298039  0.168627  …  0.788235  0.717647  0.67451 \n",
       " 0.556863  0.478431  0.317647  0.145098     0.741176  0.670588  0.603922\n",
       " 0.560784  0.454902  0.294118  0.145098     0.74902   0.678431  0.564706\n",
       "\n",
       "...\n",
       "\n",
       "[:, :, 311] =\n",
       " 0.180392  0.14902   0.14902   0.145098  …  0.521569  0.576471  0.627451\n",
       " 0.203922  0.211765  0.211765  0.160784     0.431373  0.529412  0.588235\n",
       " 0.196078  0.2       0.211765  0.196078     0.258824  0.333333  0.447059\n",
       "\n",
       "[:, :, 312] =\n",
       " 0.160784  0.12549   0.133333  0.137255  …  0.501961  0.556863  0.564706\n",
       " 0.14902   0.152941  0.156863  0.121569     0.411765  0.505882  0.529412\n",
       " 0.113725  0.121569  0.141176  0.12549      0.247059  0.329412  0.376471\n",
       "\n",
       "[:, :, 313] =\n",
       " 0.105882   0.0705882  0.0901961  0.113725   …  0.490196  0.54902   0.556863\n",
       " 0.0705882  0.0745098  0.0901961  0.0705882     0.396078  0.498039  0.521569\n",
       " 0.0117647  0.0196078  0.0509804  0.054902      0.247059  0.333333  0.368627"
      ]
     },
     "execution_count": 17,
     "metadata": {},
     "output_type": "execute_result"
    }
   ],
   "source": [
    "p = float.(channelview(pimage)) # convert to an array"
   ]
  },
  {
   "cell_type": "code",
   "execution_count": 18,
   "metadata": {},
   "outputs": [
    {
     "data": {
      "text/plain": [
       "(Float32[-0.0425342 -0.0450355 … 0.00151836 0.00756665; -0.0404301 -0.0474971 … 0.0181529 -0.0318149; … ; -0.143038 0.101536 … 0.0478255 -0.0318742; -0.144002 0.111712 … 0.0020869 -0.00648022], Float32[85.0721, 21.0869, 16.5932, 14.0062, 11.7329, 10.1639, 9.09969, 7.38199, 7.21165, 6.61043  …  0.0242462, 0.022777, 0.0226533, 0.0215464, 0.0208985, 0.0198097, 0.0191087, 0.0189206, 0.0177044, 0.0170277], Float32[-0.0697387 -0.0166765 … -0.00833062 -0.00208743; -0.0695658 -0.0410424 … 0.0132683 0.054568; … ; -0.0231986 -0.00117249 … 0.00207896 -0.0117388; -0.0217245 0.00349054 … 0.0677017 0.0426328])"
      ]
     },
     "execution_count": 18,
     "metadata": {},
     "output_type": "execute_result"
    }
   ],
   "source": [
    "pr,pg,pb = p[1,:,:],p[2,:,:],p[3,:,:]\n",
    "Ur,σr,Vr = svd(pr)\n",
    "Ug,σg,Vg = svd(pg)\n",
    "Ub,σb,Vb = svd(pb)"
   ]
  },
  {
   "cell_type": "code",
   "execution_count": 19,
   "metadata": {},
   "outputs": [
    {
     "data": {
      "text/plain": [
       "-5933"
      ]
     },
     "execution_count": 19,
     "metadata": {},
     "output_type": "execute_result"
    }
   ],
   "source": [
    "866-211-6588"
   ]
  },
  {
   "cell_type": "code",
   "execution_count": 20,
   "metadata": {
    "collapsed": true
   },
   "outputs": [],
   "source": [
    "using Interact"
   ]
  },
  {
   "cell_type": "code",
   "execution_count": 21,
   "metadata": {},
   "outputs": [
    {
     "data": {
      "text/html": [],
      "text/plain": [
       "Interact.Slider{Int64}(1: \"input\" = 1 Int64 , \"\", 1, 1:40, \"horizontal\", true, \"d\", true)"
      ]
     },
     "metadata": {},
     "output_type": "display_data"
    },
    {
     "data": {
      "image/png": "[encoded data removed]",
      "text/plain": [
       "198×313 ColorView{RGB}(::ImageCore.StackedView{Float32,3,Tuple{Array{Float32,2},Array{Float32,2},Array{Float32,2}}}) with element type ColorTypes.RGB{Float32}:\n",
       " RGB{Float32}(0.312814,0.279052,0.252348)  …  RGB{Float32}(0.166007,0.106187,0.0786094) \n",
       " RGB{Float32}(0.304305,0.265645,0.239865)     RGB{Float32}(0.161491,0.101086,0.0747209) \n",
       " RGB{Float32}(0.286459,0.236847,0.21343)      RGB{Float32}(0.152021,0.0901273,0.066486) \n",
       " RGB{Float32}(0.280208,0.218937,0.202903)     RGB{Float32}(0.148703,0.0833119,0.0632067)\n",
       " RGB{Float32}(0.297686,0.231955,0.223369)     RGB{Float32}(0.157979,0.0882657,0.0695823)\n",
       " RGB{Float32}(0.307481,0.252568,0.238944)  …  RGB{Float32}(0.163177,0.0961095,0.0744341)\n",
       " RGB{Float32}(0.308393,0.26725,0.248571)      RGB{Float32}(0.163661,0.101697,0.0774329) \n",
       " RGB{Float32}(0.30603,0.282164,0.260474)      RGB{Float32}(0.162407,0.107372,0.0811408) \n",
       " RGB{Float32}(0.282804,0.270185,0.249136)     RGB{Float32}(0.150081,0.102813,0.077609)  \n",
       " RGB{Float32}(0.241086,0.234827,0.21378)      RGB{Float32}(0.127942,0.0893586,0.066595) \n",
       " RGB{Float32}(0.208498,0.208992,0.185866)  …  RGB{Float32}(0.110648,0.0795274,0.0578995)\n",
       " RGB{Float32}(0.195036,0.197723,0.17103)      RGB{Float32}(0.103504,0.0752393,0.0532781)\n",
       " RGB{Float32}(0.202481,0.204492,0.177112)     RGB{Float32}(0.107454,0.0778153,0.0551726)\n",
       " ⋮                                         ⋱                                            \n",
       " RGB{Float32}(0.688237,0.812801,0.786532)     RGB{Float32}(0.36524,0.309295,0.245014)   \n",
       " RGB{Float32}(0.687801,0.812215,0.779951)     RGB{Float32}(0.365009,0.309071,0.242965)  \n",
       " RGB{Float32}(0.688019,0.81278,0.775883)      RGB{Float32}(0.365125,0.309286,0.241697)  \n",
       " RGB{Float32}(0.686798,0.811459,0.772773)     RGB{Float32}(0.364477,0.308784,0.240729)  \n",
       " RGB{Float32}(0.688835,0.81551,0.774734)   …  RGB{Float32}(0.365557,0.310325,0.241339)  \n",
       " RGB{Float32}(0.694745,0.825195,0.782282)     RGB{Float32}(0.368694,0.314011,0.243691)  \n",
       " RGB{Float32}(0.702463,0.835754,0.794086)     RGB{Float32}(0.37279,0.318029,0.247368)   \n",
       " RGB{Float32}(0.712309,0.84885,0.810219)      RGB{Float32}(0.378015,0.323012,0.252393)  \n",
       " RGB{Float32}(0.719846,0.859838,0.827583)     RGB{Float32}(0.382015,0.327193,0.257803)  \n",
       " RGB{Float32}(0.724093,0.866251,0.839708)  …  RGB{Float32}(0.384269,0.329634,0.26158)   \n",
       " RGB{Float32}(0.727427,0.872144,0.848617)     RGB{Float32}(0.386038,0.331876,0.264355)  \n",
       " RGB{Float32}(0.727142,0.878492,0.854337)     RGB{Float32}(0.385887,0.334292,0.266137)  "
      ]
     },
     "execution_count": 21,
     "metadata": {
      "comm_id": "e51ab537-6f91-4ebe-ae8b-2783607a03f0",
      "reactive": true
     },
     "output_type": "execute_result"
    }
   ],
   "source": [
    "@manipulate for k=slider(1:40,value=1)\n",
    "    p̂r = Ur[:,1:k]*Diagonal(σr[1:k])*Vr[:,1:k]'\n",
    "    p̂g = Ug[:,1:k]*Diagonal(σg[1:k])*Vg[:,1:k]'\n",
    "    p̂b = Ub[:,1:k]*Diagonal(σb[1:k])*Vb[:,1:k]'\n",
    "    img = colorview(RGB, p̂r,p̂g,p̂b) \n",
    "end"
   ]
  },
  {
   "cell_type": "code",
   "execution_count": 22,
   "metadata": {},
   "outputs": [
    {
     "data": {
      "image/png": "[encoded data removed]",
      "text/plain": [
       "500×500 Array{Gray{Float64},2}:\n",
       " Gray{Float64}(8.0e-6)    Gray{Float64}(2.0e-5)    …  Gray{Float64}(1.0)    \n",
       " Gray{Float64}(2.0e-5)    Gray{Float64}(3.2e-5)       Gray{Float64}(1.00002)\n",
       " Gray{Float64}(4.0e-5)    Gray{Float64}(5.2e-5)       Gray{Float64}(1.00004)\n",
       " Gray{Float64}(6.8e-5)    Gray{Float64}(8.0e-5)       Gray{Float64}(1.00006)\n",
       " Gray{Float64}(0.000104)  Gray{Float64}(0.000116)     Gray{Float64}(1.0001) \n",
       " Gray{Float64}(0.000148)  Gray{Float64}(0.00016)   …  Gray{Float64}(1.00014)\n",
       " Gray{Float64}(0.0002)    Gray{Float64}(0.000212)     Gray{Float64}(1.0002) \n",
       " Gray{Float64}(0.00026)   Gray{Float64}(0.000272)     Gray{Float64}(1.00026)\n",
       " Gray{Float64}(0.000328)  Gray{Float64}(0.00034)      Gray{Float64}(1.00032)\n",
       " Gray{Float64}(0.000404)  Gray{Float64}(0.000416)     Gray{Float64}(1.0004) \n",
       " Gray{Float64}(0.000488)  Gray{Float64}(0.0005)    …  Gray{Float64}(1.00048)\n",
       " Gray{Float64}(0.00058)   Gray{Float64}(0.000592)     Gray{Float64}(1.00058)\n",
       " Gray{Float64}(0.00068)   Gray{Float64}(0.000692)     Gray{Float64}(1.00068)\n",
       " ⋮                                                 ⋱                        \n",
       " Gray{Float64}(0.956488)  Gray{Float64}(0.9565)       Gray{Float64}(1.95648)\n",
       " Gray{Float64}(0.960404)  Gray{Float64}(0.960416)     Gray{Float64}(1.9604) \n",
       " Gray{Float64}(0.964328)  Gray{Float64}(0.96434)   …  Gray{Float64}(1.96432)\n",
       " Gray{Float64}(0.96826)   Gray{Float64}(0.968272)     Gray{Float64}(1.96826)\n",
       " Gray{Float64}(0.9722)    Gray{Float64}(0.972212)     Gray{Float64}(1.9722) \n",
       " Gray{Float64}(0.976148)  Gray{Float64}(0.97616)      Gray{Float64}(1.97614)\n",
       " Gray{Float64}(0.980104)  Gray{Float64}(0.980116)     Gray{Float64}(1.9801) \n",
       " Gray{Float64}(0.984068)  Gray{Float64}(0.98408)   …  Gray{Float64}(1.98406)\n",
       " Gray{Float64}(0.98804)   Gray{Float64}(0.988052)     Gray{Float64}(1.98804)\n",
       " Gray{Float64}(0.99202)   Gray{Float64}(0.992032)     Gray{Float64}(1.99202)\n",
       " Gray{Float64}(0.996008)  Gray{Float64}(0.99602)      Gray{Float64}(1.996)  \n",
       " Gray{Float64}(1.0)       Gray{Float64}(1.00002)      Gray{Float64}(2.0)    "
      ]
     },
     "execution_count": 22,
     "metadata": {},
     "output_type": "execute_result"
    }
   ],
   "source": [
    "u = 1.0*[1:500;]/500\n",
    "v = 1.0*[1:500;]/500\n",
    "img = colorview(Gray,u.^2.+v'.^2)"
   ]
  },
  {
   "cell_type": "code",
   "execution_count": 23,
   "metadata": {},
   "outputs": [
    {
     "data": {
      "text/plain": [
       "5×5 Array{Int64,2}:\n",
       " 1   2   3   4   5\n",
       " 2   4   6   8  10\n",
       " 3   6   9  12  15\n",
       " 4   8  12  16  20\n",
       " 5  10  15  20  25"
      ]
     },
     "execution_count": 23,
     "metadata": {},
     "output_type": "execute_result"
    }
   ],
   "source": [
    "u = [1:5;]\n",
    "v = u\n",
    "u*v'"
   ]
  },
  {
   "cell_type": "markdown",
   "metadata": {},
   "source": [
    "Moral of the story:  if k is large enough\n",
    "    U[:,1:k] * Diagonal(sigma(1:k)) * V[:,1:k]'\n",
    "    is a good approsimation to A often requiring less storage and less computation"
   ]
  },
  {
   "cell_type": "markdown",
   "metadata": {},
   "source": [
    "let $u=$Ur[:,1:1], that is the first column of Ur <br>\n",
    "let $v=$Vr[:,1:1], that is the first column of Vr <br>\n",
    "let $\\sigma$  be the first sing value: Diagonal(σr[1:k])\n",
    "\n",
    "Consider $u*\\sigma*v'$\n",
    "\n",
    "Now consider k=2 and we now have\n",
    "$u_1*\\sigma_1*v_1' + u_2*\\sigma_2*v_2'$\n"
   ]
  },
  {
   "cell_type": "markdown",
   "metadata": {},
   "source": [
    "# What happens when a matrix has low rank?"
   ]
  },
  {
   "cell_type": "markdown",
   "metadata": {},
   "source": [
    "The four fundamental subspaces done nicely --- could have been an early lecture if we accepted the existence of the SVD\n",
    "\n",
    "U  contains a basis for the column space and the left nullspace.\n",
    "\n",
    "V contains a basis for the row space and the nullspace."
   ]
  },
  {
   "cell_type": "markdown",
   "metadata": {},
   "source": [
    "## The svd not as an eigenproblem"
   ]
  },
  {
   "cell_type": "code",
   "execution_count": 24,
   "metadata": {},
   "outputs": [
    {
     "data": {
      "text/plain": [
       "5-element Array{Float64,1}:\n",
       " 1.0\n",
       " 1.0\n",
       " 1.0\n",
       " 1.0\n",
       " 1.0"
      ]
     },
     "execution_count": 24,
     "metadata": {},
     "output_type": "execute_result"
    }
   ],
   "source": [
    "A = eye(5)\n",
    "svdvals(A)"
   ]
  },
  {
   "cell_type": "code",
   "execution_count": 25,
   "metadata": {},
   "outputs": [
    {
     "data": {
      "text/plain": [
       "5×5 Diagonal{Float64}:\n",
       " -0.0248082    ⋅          ⋅         ⋅       ⋅      \n",
       "   ⋅         -0.977161    ⋅         ⋅       ⋅      \n",
       "   ⋅           ⋅        -0.855298   ⋅       ⋅      \n",
       "   ⋅           ⋅          ⋅        0.2969   ⋅      \n",
       "   ⋅           ⋅          ⋅         ⋅      0.211585"
      ]
     },
     "execution_count": 25,
     "metadata": {},
     "output_type": "execute_result"
    }
   ],
   "source": [
    "A = Diagonal(randn(5))"
   ]
  },
  {
   "cell_type": "code",
   "execution_count": 26,
   "metadata": {},
   "outputs": [
    {
     "data": {
      "text/plain": [
       "5-element Array{Float64,1}:\n",
       " 0.977161 \n",
       " 0.855298 \n",
       " 0.2969   \n",
       " 0.211585 \n",
       " 0.0248082"
      ]
     },
     "execution_count": 26,
     "metadata": {},
     "output_type": "execute_result"
    }
   ],
   "source": [
    "svdvals(A) # absolute value of diagonals\n",
    "# svdvals always are in monotonically non-increasing order"
   ]
  },
  {
   "cell_type": "code",
   "execution_count": 27,
   "metadata": {},
   "outputs": [
    {
     "data": {
      "text/plain": [
       "([-0.767562 0.260866 … 0.410858 0.413307; 0.249213 -0.490439 … -0.0480636 0.830337; … ; -0.173704 0.438618 … -0.827778 0.24743; 0.553226 0.694974 … 0.357335 0.252558], [-1.21028 -0.728475 … -1.63971 -0.788631; 0.0 -1.22128 … 0.233973 -0.465832; … ; 0.0 0.0 … -0.60178 -1.30788; 0.0 0.0 … 0.0 -1.04679])"
      ]
     },
     "execution_count": 27,
     "metadata": {},
     "output_type": "execute_result"
    }
   ],
   "source": [
    "Q,_ = qr(randn(5,5))"
   ]
  },
  {
   "cell_type": "code",
   "execution_count": 28,
   "metadata": {},
   "outputs": [
    {
     "data": {
      "text/plain": [
       "5×5 Array{Float64,2}:\n",
       "  1.0          -7.87624e-17   3.67059e-17  -3.93175e-17  -1.23886e-16\n",
       " -7.87624e-17   1.0          -2.20807e-17  -1.2615e-16    1.45712e-17\n",
       "  3.67059e-17  -2.20807e-17   1.0           1.11841e-17  -2.18674e-17\n",
       " -3.93175e-17  -1.2615e-16    1.11841e-17   1.0          -1.55207e-18\n",
       " -1.23886e-16   1.45712e-17  -2.18674e-17  -1.55207e-18   1.0        "
      ]
     },
     "execution_count": 28,
     "metadata": {},
     "output_type": "execute_result"
    }
   ],
   "source": [
    "Q'Q"
   ]
  },
  {
   "cell_type": "code",
   "execution_count": 29,
   "metadata": {},
   "outputs": [
    {
     "data": {
      "text/plain": [
       "5-element Array{Float64,1}:\n",
       " 1.0\n",
       " 1.0\n",
       " 1.0\n",
       " 1.0\n",
       " 1.0"
      ]
     },
     "execution_count": 29,
     "metadata": {},
     "output_type": "execute_result"
    }
   ],
   "source": [
    "svdvals(Q)\n",
    "# Q = Q * (Σ=I) * (V=I)'"
   ]
  },
  {
   "cell_type": "code",
   "execution_count": 30,
   "metadata": {},
   "outputs": [
    {
     "data": {
      "text/plain": [
       "5×5 Diagonal{Float64}:\n",
       " 0.648603    ⋅        ⋅          ⋅         ⋅      \n",
       "  ⋅        -0.98904   ⋅          ⋅         ⋅      \n",
       "  ⋅          ⋅       0.455635    ⋅         ⋅      \n",
       "  ⋅          ⋅        ⋅        -0.87071    ⋅      \n",
       "  ⋅          ⋅        ⋅          ⋅       -0.267413"
      ]
     },
     "execution_count": 30,
     "metadata": {},
     "output_type": "execute_result"
    }
   ],
   "source": [
    "D = Diagonal(randn(5))"
   ]
  },
  {
   "cell_type": "code",
   "execution_count": 31,
   "metadata": {},
   "outputs": [
    {
     "data": {
      "text/plain": [
       "5-element Array{Float64,1}:\n",
       " 0.98904 \n",
       " 0.87071 \n",
       " 0.648603\n",
       " 0.455635\n",
       " 0.267413"
      ]
     },
     "execution_count": 31,
     "metadata": {},
     "output_type": "execute_result"
    }
   ],
   "source": [
    "svdvals(Q*D)"
   ]
  },
  {
   "cell_type": "code",
   "execution_count": 32,
   "metadata": {},
   "outputs": [
    {
     "data": {
      "text/plain": [
       "5-element Array{Float64,1}:\n",
       " 0.98904 \n",
       " 0.87071 \n",
       " 0.648603\n",
       " 0.455635\n",
       " 0.267413"
      ]
     },
     "execution_count": 32,
     "metadata": {},
     "output_type": "execute_result"
    }
   ],
   "source": [
    "svdvals(D*Q)"
   ]
  },
  {
   "cell_type": "markdown",
   "metadata": {},
   "source": [
    "## The SVD as an eigenproblem"
   ]
  },
  {
   "cell_type": "code",
   "execution_count": 33,
   "metadata": {
    "collapsed": true
   },
   "outputs": [],
   "source": [
    "# Notice if A = U Σ V' then\n",
    "# A'A = U Σ V'V Σ' U'\n",
    "# A'A = V Σ² V'\n",
    "# A*A' = U Σ² U'"
   ]
  },
  {
   "cell_type": "markdown",
   "metadata": {},
   "source": [
    "Notice that the EIGENVALUES of A'A are the squares\n",
    "of the singular values, and the EIGENVECTORS are the\n",
    "RIGHT singular vectors of A <br>\n",
    "\n",
    "Notice that the EIGENVALUES of A*A' are the squares\n",
    "of the singular values, and the EIGENVECTORS are the\n",
    "LEFT singular vectors of A <br>\n"
   ]
  },
  {
   "cell_type": "code",
   "execution_count": 34,
   "metadata": {},
   "outputs": [
    {
     "data": {
      "text/plain": [
       "5×5 Array{Float64,2}:\n",
       " -0.967414   1.15315   -0.475011   0.22488     0.524904\n",
       "  0.32444   -0.328432  -0.158524  -0.0978699   0.790006\n",
       " -0.503125  -1.59322   -0.589392  -2.08426    -2.53952 \n",
       "  0.268269  -0.247003   0.143205   0.22796     0.984164\n",
       " -2.02664   -0.281079  -0.179329  -0.0660401  -1.04314 "
      ]
     },
     "execution_count": 34,
     "metadata": {},
     "output_type": "execute_result"
    }
   ],
   "source": [
    "A = randn(5,5)"
   ]
  },
  {
   "cell_type": "code",
   "execution_count": 35,
   "metadata": {},
   "outputs": [
    {
     "data": {
      "text/plain": [
       "5-element Array{Float64,1}:\n",
       "  0.00626693\n",
       "  0.76329   \n",
       "  0.904744  \n",
       "  5.46888   \n",
       " 16.9633    "
      ]
     },
     "execution_count": 35,
     "metadata": {},
     "output_type": "execute_result"
    }
   ],
   "source": [
    "svdvals(A).^2 |> sort"
   ]
  },
  {
   "cell_type": "code",
   "execution_count": 36,
   "metadata": {},
   "outputs": [
    {
     "data": {
      "text/plain": [
       "5-element Array{Float64,1}:\n",
       "  0.00626693\n",
       "  0.76329   \n",
       "  0.904744  \n",
       "  5.46888   \n",
       " 16.9633    "
      ]
     },
     "execution_count": 36,
     "metadata": {},
     "output_type": "execute_result"
    }
   ],
   "source": [
    "eigvals(A'A) |> sort"
   ]
  },
  {
   "cell_type": "code",
   "execution_count": 37,
   "metadata": {},
   "outputs": [
    {
     "data": {
      "text/plain": [
       "([0.149356 -0.600848 … 0.700815 -0.162926; 0.11406 0.197591 … 0.521636 0.651548; … ; 0.199366 0.145332 … 0.195732 -0.715502; -0.358662 -0.719776 … -0.285097 0.118528], [4.11865, 2.33856, 0.95118, 0.873665, 0.0791639], [0.272381 0.86339 … -0.0579778 0.164957; 0.390433 -0.420775 … 0.141091 -0.216078; … ; 0.473809 -0.251211 … -0.62201 0.560741; 0.729609 0.0464749 … 0.458678 -0.175741])"
      ]
     },
     "execution_count": 37,
     "metadata": {},
     "output_type": "execute_result"
    }
   ],
   "source": [
    "U,σ,V = svd(A)"
   ]
  },
  {
   "cell_type": "code",
   "execution_count": 38,
   "metadata": {},
   "outputs": [
    {
     "data": {
      "text/plain": [
       "5×5 Array{Float64,2}:\n",
       "  0.164957  -0.0579778   0.387031   0.86339    0.272381\n",
       " -0.216078   0.141091    0.777119  -0.420775   0.390433\n",
       " -0.762092  -0.615995   -0.104786   0.11063    0.128631\n",
       "  0.560741  -0.62201    -0.105223  -0.251211   0.473809\n",
       " -0.175741   0.458678   -0.47354    0.0464749  0.729609"
      ]
     },
     "metadata": {},
     "output_type": "display_data"
    }
   ],
   "source": [
    "E,X = eig(A'A)\n",
    "display(X)"
   ]
  },
  {
   "cell_type": "code",
   "execution_count": 39,
   "metadata": {},
   "outputs": [
    {
     "data": {
      "text/plain": [
       "5×5 Array{Float64,2}:\n",
       "  0.164957  -0.0579778   0.387031   0.86339    0.272381\n",
       " -0.216078   0.141091    0.777119  -0.420775   0.390433\n",
       " -0.762092  -0.615995   -0.104786   0.11063    0.128631\n",
       "  0.560741  -0.62201    -0.105223  -0.251211   0.473809\n",
       " -0.175741   0.458678   -0.47354    0.0464749  0.729609"
      ]
     },
     "execution_count": 39,
     "metadata": {},
     "output_type": "execute_result"
    }
   ],
   "source": [
    "V[:,5:-1:1]"
   ]
  },
  {
   "cell_type": "code",
   "execution_count": 40,
   "metadata": {},
   "outputs": [
    {
     "data": {
      "text/plain": [
       "5×5 Array{Float64,2}:\n",
       "  0.162926   0.700815  -0.314625    0.600848  -0.149356\n",
       " -0.651548   0.521636   0.501327   -0.197591  -0.11406 \n",
       "  0.151483   0.34229   -0.0533948  -0.246457   0.892355\n",
       "  0.715502   0.195732   0.6236     -0.145332  -0.199366\n",
       " -0.118528  -0.285097   0.507892    0.719776   0.358662"
      ]
     },
     "metadata": {},
     "output_type": "display_data"
    }
   ],
   "source": [
    "E,X = eig(A*A')\n",
    "display(X)"
   ]
  },
  {
   "cell_type": "code",
   "execution_count": 41,
   "metadata": {},
   "outputs": [
    {
     "data": {
      "text/plain": [
       "5×5 Array{Float64,2}:\n",
       " -0.162926   0.700815   0.314625   -0.600848   0.149356\n",
       "  0.651548   0.521636  -0.501327    0.197591   0.11406 \n",
       " -0.151483   0.34229    0.0533948   0.246457  -0.892355\n",
       " -0.715502   0.195732  -0.6236      0.145332   0.199366\n",
       "  0.118528  -0.285097  -0.507892   -0.719776  -0.358662"
      ]
     },
     "execution_count": 41,
     "metadata": {},
     "output_type": "execute_result"
    }
   ],
   "source": [
    "U[:,5:-1:1]"
   ]
  },
  {
   "cell_type": "markdown",
   "metadata": {},
   "source": [
    "How many parameters are there \"REALLY\" in an n x n orthogonal matrix Q?"
   ]
  },
  {
   "cell_type": "markdown",
   "metadata": {
    "collapsed": true
   },
   "source": [
    "The answer is $n(n-1)/2$ (or \"n choose 2\")\n",
    "\n",
    "one can easily check there are $n(n+1)/2$ constraints in $Q^T Q=I$:"
   ]
  },
  {
   "cell_type": "code",
   "execution_count": 42,
   "metadata": {},
   "outputs": [
    {
     "ename": "LoadError",
     "evalue": "\u001b[91mUndefVarError: n not defined\u001b[39m",
     "output_type": "error",
     "traceback": [
      "\u001b[91mUndefVarError: n not defined\u001b[39m",
      "",
      "Stacktrace:",
      " [1] \u001b[1minclude_string\u001b[22m\u001b[22m\u001b[1m(\u001b[22m\u001b[22m::String, ::String\u001b[1m)\u001b[22m\u001b[22m at \u001b[1m./loading.jl:515\u001b[22m\u001b[22m"
     ]
    }
   ],
   "source": [
    "n(n-1)/2 + n + n(n-1)/2 "
   ]
  }
 ],
 "metadata": {
  "kernelspec": {
   "display_name": "Julia 0.6.0",
   "language": "julia",
   "name": "julia-0.6"
  },
  "language_info": {
   "file_extension": ".jl",
   "mimetype": "application/julia",
   "name": "julia",
   "version": "0.6.0"
  },
  "widgets": {
   "state": {
    "63e0bdca-e210-41ff-ae4c-d3806f23a333": {
     "views": [
      {
       "cell_index": 27
      }
     ]
    }
   },
   "version": "1.2.0"
  }
 },
 "nbformat": 4,
 "nbformat_minor": 2
}
