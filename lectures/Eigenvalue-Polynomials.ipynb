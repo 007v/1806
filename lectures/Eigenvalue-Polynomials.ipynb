{
 "cells": [
  {
   "cell_type": "code",
   "execution_count": 1,
   "metadata": {
    "collapsed": false
   },
   "outputs": [
    {
     "data": {
      "text/html": [
       "<div id=\"interact-js-shim\">\n",
       "    <script charset=\"utf-8\">\n",
       "(function (IPython, $, _, MathJax) {\n",
       "    $.event.special.destroyed = {\n",
       "\tremove: function(o) {\n",
       "\t    if (o.handler) {\n",
       "\t\to.handler.apply(this, arguments)\n",
       "\t    }\n",
       "\t}\n",
       "    }\n",
       "\n",
       "    var OutputArea = IPython.version >= \"4.0.0\" ? require(\"notebook/js/outputarea\").OutputArea : IPython.OutputArea;\n",
       "\n",
       "    var redrawValue = function (container, type, val) {\n",
       "\tvar selector = $(\"<div/>\");\n",
       "\tvar oa = new OutputArea(_.extend(selector, {\n",
       "\t    selector: selector,\n",
       "\t    prompt_area: true,\n",
       "\t    events: IPython.events,\n",
       "\t    keyboard_manager: IPython.keyboard_manager\n",
       "\t})); // Hack to work with IPython 2.1.0\n",
       "\n",
       "\tswitch (type) {\n",
       "\tcase \"image/png\":\n",
       "            var _src = 'data:' + type + ';base64,' + val;\n",
       "\t    $(container).find(\"img\").attr('src', _src);\n",
       "\t    break;\n",
       "\tcase \"text/latex\":\n",
       "\t\tif (MathJax){\n",
       "\t\t\tvar math = MathJax.Hub.getAllJax(container)[0];\n",
       "\t\t\tMathJax.Hub.Queue([\"Text\", math, val.replace(/^\\${1,2}|\\${1,2}$/g, '')]);\n",
       "\t\t\tbreak;\n",
       "\t\t}\n",
       "\tdefault:\n",
       "\t    var toinsert = OutputArea.append_map[type].apply(\n",
       "\t\toa, [val, {}, selector]\n",
       "\t    );\n",
       "\t    $(container).empty().append(toinsert.contents());\n",
       "\t    selector.remove();\n",
       "\t}\n",
       "    }\n",
       "\n",
       "\n",
       "    $(document).ready(function() {\n",
       "\tfunction initComm(evt, data) {\n",
       "\t    var comm_manager = data.kernel.comm_manager;\n",
       "        //_.extend(comm_manager.targets, require(\"widgets/js/widget\"))\n",
       "\t    comm_manager.register_target(\"Signal\", function (comm) {\n",
       "            comm.on_msg(function (msg) {\n",
       "                var val = msg.content.data.value;\n",
       "                $(\".signal-\" + comm.comm_id).each(function() {\n",
       "                var type = $(this).data(\"type\");\n",
       "                if (typeof(val[type]) !== \"undefined\" && val[type] !== null) {\n",
       "                    redrawValue(this, type, val[type], type);\n",
       "                }\n",
       "                });\n",
       "                delete val;\n",
       "                delete msg.content.data.value;\n",
       "            });\n",
       "\t    });\n",
       "\n",
       "\t    // coordingate with Comm and redraw Signals\n",
       "\t    // XXX: Test using Reactive here to improve performance\n",
       "\t    $([IPython.events]).on(\n",
       "\t\t'output_appended.OutputArea', function (event, type, value, md, toinsert) {\n",
       "\t\t    if (md && md.reactive) {\n",
       "                // console.log(md.comm_id);\n",
       "                toinsert.addClass(\"signal-\" + md.comm_id);\n",
       "                toinsert.data(\"type\", type);\n",
       "                // Signal back indicating the mimetype required\n",
       "                var comm_manager = IPython.notebook.kernel.comm_manager;\n",
       "                var comm = comm_manager.comms[md.comm_id];\n",
       "                comm.then(function (c) {\n",
       "                    c.send({action: \"subscribe_mime\",\n",
       "                       mime: type});\n",
       "                    toinsert.bind(\"destroyed\", function() {\n",
       "                        c.send({action: \"unsubscribe_mime\",\n",
       "                               mime: type});\n",
       "                    });\n",
       "                })\n",
       "\t\t    }\n",
       "\t    });\n",
       "\t}\n",
       "\n",
       "\ttry {\n",
       "\t    // try to initialize right away. otherwise, wait on the status_started event.\n",
       "\t    initComm(undefined, IPython.notebook);\n",
       "\t} catch (e) {\n",
       "\t    $([IPython.events]).on('kernel_created.Kernel kernel_created.Session', initComm);\n",
       "\t}\n",
       "    });\n",
       "})(IPython, jQuery, _, MathJax);\n",
       "</script>\n",
       "    <script>\n",
       "        window.interactLoadedFlag = true\n",
       "       $(\"#interact-js-shim\").bind(\"destroyed\", function () {\n",
       "           if (window.interactLoadedFlag) {\n",
       "               console.warn(\"JavaScript required by Interact will be removed if you remove this cell or run using Interact more than once.\")\n",
       "           }\n",
       "       })\n",
       "       $([IPython.events]).on(\"kernel_starting.Kernel kernel_restarting.Kernel\", function () { window.interactLoadedFlag = false })\n",
       "   </script>\n",
       "</div>"
      ]
     },
     "metadata": {},
     "output_type": "display_data"
    }
   ],
   "source": [
    "using Polynomials, PyPlot, Interact"
   ]
  },
  {
   "cell_type": "markdown",
   "metadata": {},
   "source": [
    "# Eigenvalues: The Key Idea\n",
    "\n",
    "If we can find a solution $x \\ne 0$ to\n",
    "\n",
    "$$\n",
    "Ax = \\lambda x\n",
    "$$\n",
    "\n",
    "then, for this vector, the matrix $A$ **acts like a scalar**.  $x$ is called an **eigenvector** of $A$, and $\\lambda$ is called an **eigenvalue**.\n",
    "\n",
    "In fact, for an $m \\times m$ matrix $A$, we typically find $m$ linearly independendent eigenvectors $x_1,x_2,\\ldots,x_m$ and $m$ corresponding eigenvalues $\\lambda_1, \\lambda_2, \\ldots, \\lambda_m$.   Such a matrix is called **diagonalizable**.  Most matrices are diagonalizable; we will deal with the rare \"defective\" (non-diagonalizable) case later.\n",
    "\n",
    "Given such a **basis of eigenvectors**, the key idea for using them is:\n",
    "\n",
    "1. Take any vector $x$ and expand it in this basis: $x = c_1 x_1 + \\cdots c_m x_n$, or $x = Xc$ or $c = X^{-1}x$ where $X$ is the matrix whose *columns are the eigenvectors*.\n",
    "\n",
    "2. For each eigenvector $x_k$, the matrix $A$ acts like a scalar $\\lambda_k$.  Multiplication or division corresponds to multiplying/dividing $x_k$ by $\\lambda_k$.  **Solve your problem for each eigenvector by treating A as the scalar λ**.\n",
    "\n",
    "3. Add up the solution to your problem (sum the basis of the eigenvectors).  That is, multiply the new coefficients by $X$.\n",
    "\n",
    "This process of expanding in the eigenvectors, multiplying (or whatever) by λ, and then summing up the eigenvectors times their new coefficients, is expressed algebraically as the following **diagonalization** of the matrix $A$:\n",
    "\n",
    "$$\n",
    "A = X \\Lambda X^{-1}\n",
    "$$\n",
    "\n",
    "where $\\Lambda$ is the **diagonal matrix of the eigenvalues** and $X = \\begin{pmatrix} x_1 & x_2 & \\cdots & x_m \\end{pmatrix}$ from above."
   ]
  },
  {
   "cell_type": "markdown",
   "metadata": {},
   "source": [
    "# The characteristic polynomial\n",
    "\n",
    "To *find* the eigenvalues, one approach is to realize that $Ax = \\lambda x$ means:\n",
    "\n",
    "$$\n",
    "(A - \\lambda I) x = 0 \\, ,\n",
    "$$\n",
    "\n",
    "so the matrix $A - \\lambda I$ is **singular for any eigenvalue λ**.  This corresponds to the determinant being zero:\n",
    "\n",
    "$$\n",
    "p(\\lambda) = \\det(A - \\lambda I) = 0\n",
    "$$\n",
    "\n",
    "where $p(\\lambda)$ is the **characteristic polynomial of A: a polynomial of degree m** if $A$ is $m \\times m$.  The **roots of this polynomial are the eigenvalues λ**.\n",
    "\n",
    "A polynomial of degree $m$ has at most $m$ roots (possibly complex), and typically has $m$ distinct roots.  **This is why most matrices have $m$ distinct eigenvalues/eigenvectors, and are diagonalizable**.\n",
    "\n",
    "## Eigenvalue example:\n",
    "\n",
    "For example, consider the matric\n",
    "\n",
    "$$\n",
    "A = \\begin{pmatrix} 1 & 1 \\\\ -2 & 4 \\end{pmatrix}\n",
    "$$\n",
    "\n",
    "whose eigenvalues are $\\lambda = \\{2,3\\}$:"
   ]
  },
  {
   "cell_type": "code",
   "execution_count": 2,
   "metadata": {
    "collapsed": false
   },
   "outputs": [
    {
     "data": {
      "text/plain": [
       "2×2 Array{Int64,2}:\n",
       "  1  1\n",
       " -2  4"
      ]
     },
     "execution_count": 2,
     "metadata": {},
     "output_type": "execute_result"
    }
   ],
   "source": [
    "A = [ 1 1\n",
    "     -2 4 ]"
   ]
  },
  {
   "cell_type": "code",
   "execution_count": 3,
   "metadata": {
    "collapsed": false
   },
   "outputs": [
    {
     "data": {
      "text/plain": [
       "2-element Array{Float64,1}:\n",
       " 2.0\n",
       " 3.0"
      ]
     },
     "execution_count": 3,
     "metadata": {},
     "output_type": "execute_result"
    }
   ],
   "source": [
    "eigvals(A)"
   ]
  },
  {
   "cell_type": "markdown",
   "metadata": {},
   "source": [
    "The characteristic polynomial is\n",
    "\n",
    "$$\n",
    "\\det(A - \\lambda I) = \\det \\begin{pmatrix} 1 - \\lambda & 1 \\\\ -2 & 4 - \\lambda \\end{pmatrix} = (1 - \\lambda)(4 - \\lambda) - (1)(-2) = \\lambda^2 - 5\\lambda + 6 = (\\lambda - 2) (\\lambda - 3)\n",
    "$$\n",
    "\n",
    "where we have used high-school algebra to factor the polynomial.   Hence its roots are $\\lambda = \\{2, 3\\}$, as computed above."
   ]
  },
  {
   "cell_type": "markdown",
   "metadata": {},
   "source": [
    "## Eigenvectors\n",
    "\n",
    "Once we have the eigenvalues, finding the eigenvectors is (in principle) easy: **the eigenvectors are just (a basis for) the nullspace**\n",
    "\n",
    "$$\n",
    "N(A - \\lambda I)\n",
    "$$\n",
    "\n",
    "when $\\lambda$ is an eigenvalue.\n",
    "\n",
    "For example, with the matrix above, let's take the eigenvalue $\\lambda_1 = 2$:\n",
    "\n",
    "$$\n",
    "A - 2I = \\begin{pmatrix} -1 & 1 \\\\ -2 & 2 \\end{pmatrix}\n",
    "$$\n",
    "\n",
    "We could go through Gaussian elimination to find the nullspace, but we can see by inspection that the second column is minus the first, hence $x_1 = (1, 1)$ is a basis for the nullspace:\n",
    "\n",
    "$$\n",
    "(A - 2I) x_1 = \\begin{pmatrix} -1 & 1 \\\\ -2 & 2 \\end{pmatrix} \\begin{pmatrix} 1 \\\\ 1 \\end{pmatrix} = \\begin{pmatrix} 0 \\\\ 0 \\end{pmatrix}\n",
    "$$\n",
    "\n",
    "or\n",
    "\n",
    "$$\n",
    "A x_1 = 2 x_1\n",
    "$$\n",
    "\n",
    "as desired.  $x_1 = (1, 1)$ is an eigenvector!  Let's check:"
   ]
  },
  {
   "cell_type": "code",
   "execution_count": 4,
   "metadata": {
    "collapsed": false
   },
   "outputs": [
    {
     "data": {
      "text/plain": [
       "2-element Array{Int64,1}:\n",
       " 2\n",
       " 2"
      ]
     },
     "execution_count": 4,
     "metadata": {},
     "output_type": "execute_result"
    }
   ],
   "source": [
    "A * [1, 1]"
   ]
  },
  {
   "cell_type": "markdown",
   "metadata": {},
   "source": [
    "For the other eigenvalue, $\\lambda = 3$, we get:\n",
    "\n",
    "$$\n",
    "A - 3I = \\begin{pmatrix} -2 & 1 \\\\ -2 & 1 \\end{pmatrix}\n",
    "$$\n",
    "\n",
    "from which it is obvious that a basis for the nullspace is $x_2 = (1, 2)$.  Let's check:"
   ]
  },
  {
   "cell_type": "code",
   "execution_count": 5,
   "metadata": {
    "collapsed": false
   },
   "outputs": [
    {
     "data": {
      "text/plain": [
       "2-element Array{Int64,1}:\n",
       " 3\n",
       " 6"
      ]
     },
     "execution_count": 5,
     "metadata": {},
     "output_type": "execute_result"
    }
   ],
   "source": [
    "A * [1, 2]"
   ]
  },
  {
   "cell_type": "markdown",
   "metadata": {},
   "source": [
    "Yup, $A x_2 = 3 x_2$!\n",
    "\n",
    "For more complicated cases, of course, we might have to go through elimination to find the nullspace.  In practice, though, we alway just let the computer do it.  The `eig` function in Julia will return the eigenvalues and eigenvectors:"
   ]
  },
  {
   "cell_type": "code",
   "execution_count": 6,
   "metadata": {
    "collapsed": false
   },
   "outputs": [
    {
     "data": {
      "text/plain": [
       "([2.0,3.0],\n",
       "[-0.707107 -0.447214; -0.707107 -0.894427])"
      ]
     },
     "execution_count": 6,
     "metadata": {},
     "output_type": "execute_result"
    }
   ],
   "source": [
    "λ, X = eig(A)"
   ]
  },
  {
   "cell_type": "code",
   "execution_count": 7,
   "metadata": {
    "collapsed": false
   },
   "outputs": [
    {
     "data": {
      "text/plain": [
       "2-element Array{Float64,1}:\n",
       " 2.0\n",
       " 3.0"
      ]
     },
     "execution_count": 7,
     "metadata": {},
     "output_type": "execute_result"
    }
   ],
   "source": [
    "λ"
   ]
  },
  {
   "cell_type": "code",
   "execution_count": 8,
   "metadata": {
    "collapsed": false
   },
   "outputs": [
    {
     "data": {
      "text/plain": [
       "2×2 Array{Float64,2}:\n",
       " -0.707107  -0.447214\n",
       " -0.707107  -0.894427"
      ]
     },
     "execution_count": 8,
     "metadata": {},
     "output_type": "execute_result"
    }
   ],
   "source": [
    "X"
   ]
  },
  {
   "cell_type": "markdown",
   "metadata": {},
   "source": [
    "The columns of `X` are indeed the eigenvectors from above, but they are scaled differently (they are normalized to unit length).  If we divide each one by its first element, though, we should recover our scaling from above:"
   ]
  },
  {
   "cell_type": "code",
   "execution_count": 9,
   "metadata": {
    "collapsed": false
   },
   "outputs": [
    {
     "data": {
      "text/plain": [
       "2-element Array{Float64,1}:\n",
       " 1.0\n",
       " 1.0"
      ]
     },
     "execution_count": 9,
     "metadata": {},
     "output_type": "execute_result"
    }
   ],
   "source": [
    "X[:,1] / X[1,1]  # first column, with first entry scaled to 1"
   ]
  },
  {
   "cell_type": "code",
   "execution_count": 10,
   "metadata": {
    "collapsed": false
   },
   "outputs": [
    {
     "data": {
      "text/plain": [
       "2-element Array{Float64,1}:\n",
       " 1.0\n",
       " 2.0"
      ]
     },
     "execution_count": 10,
     "metadata": {},
     "output_type": "execute_result"
    }
   ],
   "source": [
    "X[:,2] / X[1,2] # second column, with second entry scaled to 1"
   ]
  },
  {
   "cell_type": "markdown",
   "metadata": {},
   "source": [
    "In practice, computing eigenvalues by hand, especially by this method, is even more pointless than doing Gaussian elimination by hand, for reasons explained below, so I will **focus more on the properties of eigenvalues and how to use them than how to compute them.**  The computer will give us their values."
   ]
  },
  {
   "cell_type": "markdown",
   "metadata": {},
   "source": [
    "## Complex eigenvalues\n",
    "\n",
    "If we change the matrix to:\n",
    "$$\n",
    "\\begin{pmatrix} 1 & 3 \\\\ -2 & 4 \\end{pmatrix}\n",
    "$$\n",
    "we get a characteristic polynomial:\n",
    "$$\n",
    "\\det \\begin{pmatrix} 1 - \\lambda & 3 \\\\ -2 & 4 - \\lambda \\end{pmatrix} = (1 - \\lambda)(4 - \\lambda) - (3)(-2) = \\lambda^2 - 5\\lambda + 10\n",
    "$$\n",
    "whose roots, from the quadratic formula, are:\n",
    "$$\n",
    "\\lambda = \\frac{5 \\pm \\sqrt{5^2 - 40}}{2} = \\frac{5 \\pm \\sqrt{-15}}{2}\n",
    "$$\n",
    "which are complex!  Let's check:"
   ]
  },
  {
   "cell_type": "code",
   "execution_count": 11,
   "metadata": {
    "collapsed": false
   },
   "outputs": [
    {
     "data": {
      "text/plain": [
       "2-element Array{Complex{Float64},1}:\n",
       " 2.5+1.93649im\n",
       " 2.5-1.93649im"
      ]
     },
     "execution_count": 11,
     "metadata": {},
     "output_type": "execute_result"
    }
   ],
   "source": [
    "eigvals([1 3\n",
    "        -2 4])"
   ]
  },
  {
   "cell_type": "code",
   "execution_count": 12,
   "metadata": {
    "collapsed": false
   },
   "outputs": [
    {
     "data": {
      "text/html": [
       "2.5 + 1.9364916731037085im"
      ],
      "text/plain": [
       "2.5 + 1.9364916731037085im"
      ]
     },
     "execution_count": 12,
     "metadata": {},
     "output_type": "execute_result"
    }
   ],
   "source": [
    "(5 + sqrt(15)*im) / 2"
   ]
  },
  {
   "cell_type": "markdown",
   "metadata": {},
   "source": [
    "Yup, it matches our formula.\n",
    "\n",
    "**Eigenvalues may be complex numbers, even for real matrices**.  We can't avoid complex numbers for any longer in 18.06!\n",
    "\n",
    "(But, for real matrices, they are the [roots of a real polynomial](https://en.wikipedia.org/wiki/Complex_conjugate_root_theorem) and hence come in [complex conjugate pairs](https://en.wikipedia.org/wiki/Complex_conjugate).)"
   ]
  },
  {
   "cell_type": "markdown",
   "metadata": {},
   "source": [
    "# The perils of polynomial roots\n",
    "\n",
    "You might think that finding roots of polynomials is we must inevitably find eigenvalues.  In fact, although we use the characteristic polynomial to *think* about eigenvalues, in practice they are not used to *compute* them except for tiny matrices.\n",
    "\n",
    "In fact, working with the characteristic polynomial is a computational disaster in general, because **roots of polynomials are exponentially sensitive to their coefficients**.  Any tiny roundoff error leads to disaster.\n",
    "\n",
    "For example, consider the polynomial\n",
    "\n",
    "$$\n",
    "w(x) = (x - 1) (x - 2) (x - 3) \\cdots (x - 10)\n",
    "$$\n",
    "whose roots are, obviously, ${1,2,\\ldots,10}$.  What happens if we actually multiply this polynomial together and compute the roots from the coefficients?"
   ]
  },
  {
   "cell_type": "code",
   "execution_count": 13,
   "metadata": {
    "collapsed": false
   },
   "outputs": [
    {
     "data": {
      "text/html": [
       "3.6288e6 &#45; 1.062864e7&#8729;x &#43; 1.2753576e7&#8729;x^2 &#45; 8.4095e6&#8729;x^3 &#43; 3.41693e6&#8729;x^4 &#45; 902055.0&#8729;x^5 &#43; 157773.0&#8729;x^6 &#45; 18150.0&#8729;x^7 &#43; 1320.0&#8729;x^8 &#45; 55.0&#8729;x^9 &#43; 1.0&#8729;x^10"
      ],
      "text/plain": [
       "Poly(3.6288e6 - 1.062864e7*x + 1.2753576e7*x^2 - 8.4095e6*x^3 + 3.41693e6*x^4 - 902055.0*x^5 + 157773.0*x^6 - 18150.0*x^7 + 1320.0*x^8 - 55.0*x^9 + 1.0*x^10)"
      ]
     },
     "execution_count": 13,
     "metadata": {},
     "output_type": "execute_result"
    }
   ],
   "source": [
    "w = prod([Poly([-n, 1.0]) for n = 1:10])"
   ]
  },
  {
   "cell_type": "markdown",
   "metadata": {},
   "source": [
    "Already, this seems hard: how do we find roots of a high-degree polynomial?  More on this below.\n",
    "\n",
    "For the moment, we will just use a \"black box\" function `roots` provided by the Polynomials package to \"magically\" get the roots of $w$ from its coefficients:"
   ]
  },
  {
   "cell_type": "code",
   "execution_count": 14,
   "metadata": {
    "collapsed": false
   },
   "outputs": [
    {
     "data": {
      "text/plain": [
       "10-element Array{Float64,1}:\n",
       " 10.0\n",
       "  9.0\n",
       "  8.0\n",
       "  7.0\n",
       "  6.0\n",
       "  5.0\n",
       "  4.0\n",
       "  3.0\n",
       "  2.0\n",
       "  1.0"
      ]
     },
     "execution_count": 14,
     "metadata": {},
     "output_type": "execute_result"
    }
   ],
   "source": [
    "roots(w)"
   ]
  },
  {
   "cell_type": "markdown",
   "metadata": {},
   "source": [
    "Looks good!  The roots are what they should be.\n",
    "\n",
    "Howevever, suppose we make a *tiny error* in computing the coefficients.  Let's multiply each coefficient by $1 + \\epsilon$, where $\\epsilon$ is a *random small number* of root-mean-square value $R$.\n",
    "\n",
    "The following code plots the roots in the [complex plane](https://en.wikipedia.org/wiki/Complex_plane) for 100 random perturbations, and lets us vary the magnitude $R$ of the pertubation:"
   ]
  },
  {
   "cell_type": "code",
   "execution_count": 15,
   "metadata": {
    "collapsed": false
   },
   "outputs": [
    {
     "data": {
      "text/html": [],
      "text/plain": [
       "Interact.Options{:SelectionSlider,Float64}(Signal{Float64}(-6.5, nactions=1),\"logR\",-6.5,\"-6.5\",Interact.OptionDict(DataStructures.OrderedDict(\"-12.0\"=>-12.0,\"-11.9\"=>-11.9,\"-11.8\"=>-11.8,\"-11.7\"=>-11.7,\"-11.6\"=>-11.6,\"-11.5\"=>-11.5,\"-11.4\"=>-11.4,\"-11.3\"=>-11.3,\"-11.2\"=>-11.2,\"-11.1\"=>-11.1…),Dict(-6.3=>\"-6.3\",-2.3=>\"-2.3\",-7.0=>\"-7.0\",-1.3=>\"-1.3\",-8.3=>\"-8.3\",-9.1=>\"-9.1\",-3.4=>\"-3.4\",-10.1=>\"-10.1\",-8.2=>\"-8.2\",-3.0=>\"-3.0\"…)),Any[],Any[],true,\"horizontal\")"
      ]
     },
     "metadata": {},
     "output_type": "display_data"
    },
    {
     "data": {
      "image/png": "[encoded data removed]",
      "text/plain": [
       "PyPlot.Figure(PyObject <matplotlib.figure.Figure object at 0x31bd3eb90>)"
      ]
     },
     "execution_count": 15,
     "metadata": {
      "comm_id": "c1b72207-a3f7-4585-9ef2-3788b818c5f0",
      "reactive": true
     },
     "output_type": "execute_result"
    }
   ],
   "source": [
    "N = 10\n",
    "w = prod([Poly([-n, 1.0]) for n = 1:N])\n",
    "fig = figure()\n",
    "@manipulate for logR in -12:0.1:-1\n",
    "    withfig(fig) do\n",
    "        plot(1:N, zeros(10), \"r*\")\n",
    "        R = exp10(logR)\n",
    "        for i = 1:100\n",
    "            r = roots(Poly(coeffs(w) .* (1 .+ R .* randn(N+1))))\n",
    "            plot(real(r), imag(r), \"b.\")\n",
    "        end\n",
    "        xlabel(\"real part of roots\")\n",
    "        ylabel(\"imaginary part of roots\")\n",
    "        title(\"roots of \\$(x-1)\\\\cdots(x-10)\\$ with coeffs perturbed by R=$R\")\n",
    "    end\n",
    "end"
   ]
  },
  {
   "cell_type": "markdown",
   "metadata": {},
   "source": [
    "Even a **tiny error** causes the roots to be **complete garbage**.  This gets exponentially worse as the degree of the polynomials increases.\n",
    "\n",
    "Because computers inevitably use a finite precision (usually about 15 significant digits), the tiny roundoff errors mean that characteristic polynomials are a computational disaster if they are actually computed explicitly."
   ]
  },
  {
   "cell_type": "markdown",
   "metadata": {},
   "source": [
    "# Companion matrices\n",
    "\n",
    "Finding **roots of polynomials is *equivalent* to finding eigenvalues**.  Not only can you find eigenvalues by solving for the roots of the characteristic polynomial, but you can conversely find roots of *any* polynomial by turning into a matrix and finding the eigenvalues.\n",
    "\n",
    "Given the degree-$n$ polynomial:\n",
    "\n",
    "$$\n",
    "p(z)=c_0 + c_1 z + \\cdots + c_{n-1}z^{n-1} + z^n \\;,\n",
    "$$\n",
    "\n",
    "(notice that the $z^n$ coefficient is 1), we define the $n \\times n$  **companion matrix**\n",
    "\n",
    "$$\n",
    "C=\\begin{pmatrix}\n",
    "0 & 1 & 0 & \\dots & 0 \\\\\n",
    "0 & 0 & 1 & \\dots & 0 \\\\\n",
    "0 & \\ddots & \\ddots & \\ddots & \\vdots \\\\\n",
    "\\vdots & \\vdots & \\ddots & 0 & 1 \\\\\n",
    "-c_0 & -c_1 & \\dots & -c_{n-2} & -c_{n-1}\n",
    "\\end{pmatrix}.\n",
    "$$\n",
    "\n",
    "The amazing fact is that the *characteristic polynomial* $\\det (C - \\lambda I) = p(\\lambda)$, and so the **eigenvalues of C are the roots of p**.\n",
    "\n",
    "## Proof\n",
    "\n",
    "Suppose $z$ is an root of $p(z) = 0$.  We can now show that this is an eigenvalue of $C$, with eigenvector $= (1,z,z^2,\\ldots,z^{n-1})$:\n",
    "\n",
    "$$\n",
    "C \\begin{pmatrix} 1 \\\\ z \\\\ z^2 \\\\ \\vdots \\\\ z^{n-1} \\end{pmatrix}\n",
    "= \\begin{pmatrix} z \\\\ z^2 \\\\ \\vdots \\\\ z^{n-1} \\\\ -c_0 - c_1 z - \\cdots - c_{n-1} z^{m-1} \\end{pmatrix}\n",
    "= \\begin{pmatrix} z \\\\ z^2 \\\\ \\vdots \\\\ z^{n-1} \\\\ z^n \\end{pmatrix}\n",
    "= z \\begin{pmatrix} 1 \\\\ z \\\\ z^2 \\\\ \\vdots \\\\ z^{n-1} \\end{pmatrix}\n",
    "$$\n",
    "\n",
    "where in the last row we used the fact that $p(z) = 0$ so $z^n = -c_0 - c_1 z - \\cdots - c_{n-1} z^{m-1}$.\n",
    "\n",
    "Hence $z$ is an eigenvalue.  The **eigenvalues of C are the roots of p** and vice versa.\n",
    "\n",
    "## Conclusion\n",
    "\n",
    "If you have a polynomial whose leading coefficient is *not* 1, you can just divide the polynomial by that coefficient to get it in this form, without changing its roots.   Hence the **roots of any polynomial can be found by computing the eigenvalues of a companion matrix.**"
   ]
  },
  {
   "cell_type": "code",
   "execution_count": 16,
   "metadata": {
    "collapsed": false
   },
   "outputs": [
    {
     "data": {
      "text/plain": [
       "companion (generic function with 1 method)"
      ]
     },
     "execution_count": 16,
     "metadata": {},
     "output_type": "execute_result"
    }
   ],
   "source": [
    "function companion(p::Poly)\n",
    "    c = coeffs(p)\n",
    "    n = degree(p)\n",
    "    c = c[1:n] / c[end]\n",
    "    C = [ [ zeros(n-1)'; eye(n-1,n-1) ] -c ]'\n",
    "    return C\n",
    "end"
   ]
  },
  {
   "cell_type": "code",
   "execution_count": 17,
   "metadata": {
    "collapsed": false
   },
   "outputs": [
    {
     "data": {
      "text/html": [
       "6 &#45; 5&#8729;x &#43; x^2"
      ],
      "text/plain": [
       "Poly(6 - 5*x + x^2)"
      ]
     },
     "execution_count": 17,
     "metadata": {},
     "output_type": "execute_result"
    }
   ],
   "source": [
    "p = Poly([-2, 1]) * Poly([-3, 1]) # (x - 2) * (x - 3)"
   ]
  },
  {
   "cell_type": "code",
   "execution_count": 18,
   "metadata": {
    "collapsed": false
   },
   "outputs": [
    {
     "data": {
      "text/plain": [
       "2×2 Array{Float64,2}:\n",
       "  0.0  1.0\n",
       " -6.0  5.0"
      ]
     },
     "execution_count": 18,
     "metadata": {},
     "output_type": "execute_result"
    }
   ],
   "source": [
    "C = companion(p)"
   ]
  },
  {
   "cell_type": "code",
   "execution_count": 19,
   "metadata": {
    "collapsed": false
   },
   "outputs": [
    {
     "data": {
      "text/plain": [
       "2-element Array{Float64,1}:\n",
       " 2.0\n",
       " 3.0"
      ]
     },
     "execution_count": 19,
     "metadata": {},
     "output_type": "execute_result"
    }
   ],
   "source": [
    "eigvals(C)"
   ]
  },
  {
   "cell_type": "code",
   "execution_count": 20,
   "metadata": {
    "collapsed": false
   },
   "outputs": [
    {
     "data": {
      "text/html": [
       "&#45;24 &#43; 2&#8729;x &#43; 17&#8729;x^2 &#45; 8&#8729;x^3 &#43; x^4"
      ],
      "text/plain": [
       "Poly(-24 + 2*x + 17*x^2 - 8*x^3 + x^4)"
      ]
     },
     "execution_count": 20,
     "metadata": {},
     "output_type": "execute_result"
    }
   ],
   "source": [
    " # (x - 2) * (x - 3) * (x - 4) * (x + 1)\n",
    "p = Poly([-2, 1]) * Poly([-3, 1]) * Poly([-4, 1]) * Poly([1, 1])"
   ]
  },
  {
   "cell_type": "code",
   "execution_count": 21,
   "metadata": {
    "collapsed": false
   },
   "outputs": [
    {
     "data": {
      "text/plain": [
       "4×4 Array{Float64,2}:\n",
       "  0.0   1.0    0.0  0.0\n",
       "  0.0   0.0    1.0  0.0\n",
       "  0.0   0.0    0.0  1.0\n",
       " 24.0  -2.0  -17.0  8.0"
      ]
     },
     "execution_count": 21,
     "metadata": {},
     "output_type": "execute_result"
    }
   ],
   "source": [
    "C = companion(p)"
   ]
  },
  {
   "cell_type": "code",
   "execution_count": 22,
   "metadata": {
    "collapsed": false
   },
   "outputs": [
    {
     "data": {
      "text/plain": [
       "4-element Array{Float64,1}:\n",
       " -1.0\n",
       "  4.0\n",
       "  3.0\n",
       "  2.0"
      ]
     },
     "execution_count": 22,
     "metadata": {},
     "output_type": "execute_result"
    }
   ],
   "source": [
    "eigvals(C)"
   ]
  },
  {
   "cell_type": "markdown",
   "metadata": {},
   "source": [
    "In fact, **this is the most common method to find roots of polynomials of degree ≥ 5**: you find the companion matrix, and compute its eigenvalues.  This is precisely how the Polynomials package does it (albeit with some extra cleverness to check for leading and trailing zero coefficients):"
   ]
  },
  {
   "cell_type": "code",
   "execution_count": 23,
   "metadata": {
    "collapsed": false
   },
   "outputs": [
    {
     "data": {
      "text/html": [
       "roots<i>{T}</i>(p::<b>Polynomials.Poly{T}</b>) at <a href=\"https://github.com/JuliaMath/Polynomials.jl/tree/101d574deaf26ad30f2c713b3def9c4c186f04c5/src/Polynomials.jl#L621\" target=\"_blank\">/Users/stevenj/.julia/v0.5/Polynomials/src/Polynomials.jl:621</a>"
      ],
      "text/plain": [
       "roots{T}(p::Polynomials.Poly{T}) at /Users/stevenj/.julia/v0.5/Polynomials/src/Polynomials.jl:621"
      ]
     },
     "execution_count": 23,
     "metadata": {},
     "output_type": "execute_result"
    }
   ],
   "source": [
    "@which roots(p)"
   ]
  },
  {
   "cell_type": "markdown",
   "metadata": {},
   "source": [
    "This would seem rather circular if eigenvalues were computed, in turn, by finding roots of polynomials.  But they aren't: **practical computer eigenvalue solvers never compute the characteristic polynomial, and don't resemble generic root-finding algorithms (like Newton's method)**."
   ]
  },
  {
   "cell_type": "markdown",
   "metadata": {},
   "source": [
    "# Computing eigenvalues = polynomial roots = hard\n",
    "\n",
    "* Everyone learns the [quadratic formula](https://en.wikipedia.org/wiki/Quadratic_formula) to find roots of a quadratic (degree-2) polynomial.\n",
    "\n",
    "* There is a (horrible) [cubic formula](https://en.wikipedia.org/wiki/Cubic_function) to find the roots of any cubic (degree-3) polynomial.\n",
    "\n",
    "* There is a (terrifying) [quartic formula](https://en.wikipedia.org/wiki/Quartic_function) to find the roots of any quartic (degree-4) polynomial.\n",
    "\n",
    "* There is **no formula** (in terms of a *finite number* of ±,×,÷,ⁿ√) for the roots of an **arbitrary quintic** polynomial or **any degree ≥ 5**.  This is the [Abel–Ruffini theorem](https://en.wikipedia.org/wiki/Abel%E2%80%93Ruffini_theorem), proved in the 19th century.\n",
    "\n",
    "This does **not mean** that you can't compute roots (or eigenvalues) in practice!  But it means that **root-finding/eigenvalue algorithms are necessarily *iterative***: they **converge toward the solution** but **never reach it exactly**.  You can get the solution to *any desired accuracy*.\n",
    "\n",
    "For example we've already seen one such algorithm!  [Newton's method](https://en.wikipedia.org/wiki/Newton%27s_method) is an algorithm that could be used to find the roots of an arbitrary polynomial (given enough starting guesses), and converges *very* quickly without ever exactly *reaching* the root.\n",
    "\n",
    "The most common algorithm to find eigenvalues (and hence polynomial roots, via companion matrices) is the [QR algorithm](https://en.wikipedia.org/wiki/QR_algorithm).  As you might guess, it is *related* to the $A=QR$ factorization.  Explaining *how* and *why* this algorithm works, however, is outside the scope of 18.06.  (It takes me a week+ in 18.335: graduate numerical methods.)\n",
    "\n",
    "This means that the textbook characteristic-polynomial method we use to find eigenvalues of $2\\times 2$ matrices is something of a fraud: unlike Gaussian elimination, it bears no resemblance whatsoever to how eigenvalues are really computed.  In 18.06, therefore, we will mostly assume that the computer hands us the eigenvalues and eigenvectors, and **we will focus on what eigensolutions *mean*, how they are *used*, and what their *properties* are.**"
   ]
  },
  {
   "cell_type": "markdown",
   "metadata": {
    "collapsed": true
   },
   "source": [
    "One thing that it is useful to know, however, is that the computer algorithm to compute eigenvalues/eigenvectors of an $m \\times m$ matrix requires $\\sim m^3$ operations, just like Gaussian elimination.  However, the \"constant\"  coefficient in front of $m^3$ is significantly worse:"
   ]
  },
  {
   "cell_type": "code",
   "execution_count": 27,
   "metadata": {
    "collapsed": false
   },
   "outputs": [
    {
     "name": "stdout",
     "output_type": "stream",
     "text": [
      "  0.125705 seconds (11 allocations: 7.637 MB, 82.49% gc time)\n",
      "  1.537934 seconds (40 allocations: 7.941 MB)\n",
      "  2.909295 seconds (88 allocations: 30.831 MB, 0.14% gc time)\n"
     ]
    }
   ],
   "source": [
    "A1000 = rand(1000,1000)\n",
    "@time lufact(A1000)\n",
    "@time eigvals(A1000);\n",
    "@time eig(A1000);"
   ]
  },
  {
   "cell_type": "code",
   "execution_count": 29,
   "metadata": {
    "collapsed": false
   },
   "outputs": [
    {
     "data": {
      "text/html": [
       "152.82364279464474"
      ],
      "text/plain": [
       "152.82364279464474"
      ]
     },
     "execution_count": 29,
     "metadata": {},
     "output_type": "execute_result"
    }
   ],
   "source": [
    "@elapsed(eig(A1000)) / @elapsed(lufact(A1000))"
   ]
  },
  {
   "cell_type": "markdown",
   "metadata": {},
   "source": [
    "Finding eigenvalues and/or eigenvectors is not so cheap!"
   ]
  }
 ],
 "metadata": {
  "kernelspec": {
   "display_name": "Julia 0.5.0",
   "language": "julia",
   "name": "julia-0.5"
  },
  "language_info": {
   "file_extension": ".jl",
   "mimetype": "application/julia",
   "name": "julia",
   "version": "0.5.0"
  },
  "widgets": {
   "state": {
    "1df4718a-d6a4-4ee1-9281-dbdb7f019e2d": {
     "views": [
      {
       "cell_index": 27
      }
     ]
    }
   },
   "version": "1.2.0"
  }
 },
 "nbformat": 4,
 "nbformat_minor": 2
}
