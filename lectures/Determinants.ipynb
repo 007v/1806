{
 "cells": [
  {
   "cell_type": "markdown",
   "metadata": {},
   "source": [
    "# Determinants\n",
    "\n",
    "One of the first things that most students learn about in linear algebra is the [determinant](https://en.wikipedia.org/wiki/Determinant) of a matrix.  Lots of useful formulas for 2×2 and 3×3 matrices can be expressed in terms of determinants, and determinants played a central role in linear algebra 100 years ago when most matrices were tiny.\n",
    "\n",
    "Nowadays, determinants are much less useful as a practical tool, although they still occasionally show up. Determinant-related formulas are also useful in proving theorems in linear algebra.   The basic computational problem, however, is that the determinant formulas don't scale — for a big matrix, there is almost always a better way of computing something than using explicit determinants, cofactors, [Cramer's rule](https://en.wikipedia.org/wiki/Cramer's_rule), and other tricks useful for small matrices.\n",
    "\n",
    "Still, it is important to know what determinants are, and their basic properties.  In 18.06, we mainly use determinants as a *conceptual* tool to help us understand eigenvalues via the [characteristic polynomial](https://en.wikipedia.org/wiki/Characteristic_polynomial) — although, again, this is not a practical *computational* tool for eigenvalues, which are nowadays computed by very different methods."
   ]
  },
  {
   "cell_type": "markdown",
   "metadata": {},
   "source": [
    "# Singular = Zero determinant\n",
    "\n",
    "The property that most students learn about determinants of 2×2 and 3×3 is this: **given a square matrix A, the determinant det(A) is a single number that is zero if and only if the matrix is singular**.\n",
    "\n",
    "For example, the following matrix is not singular, and its determinant (`det(A)` in Julia) is nonzero:"
   ]
  },
  {
   "cell_type": "code",
   "execution_count": 2,
   "metadata": {
    "collapsed": false
   },
   "outputs": [
    {
     "data": {
      "text/plain": [
       "-2.0"
      ]
     },
     "execution_count": 2,
     "metadata": {},
     "output_type": "execute_result"
    }
   ],
   "source": [
    "A = [1 3\n",
    "     2 4]\n",
    "det(A)"
   ]
  },
  {
   "cell_type": "markdown",
   "metadata": {},
   "source": [
    "(You may even remember the formula for the 2×2 determinant: $1 \\times 4 - 3 \\times 2 = -2$.\n",
    "\n",
    "But this matrix is singular (the second column is twice the first), and so its determinant is zero:"
   ]
  },
  {
   "cell_type": "code",
   "execution_count": 10,
   "metadata": {
    "collapsed": false
   },
   "outputs": [
    {
     "data": {
      "text/plain": [
       "0.0"
      ]
     },
     "execution_count": 10,
     "metadata": {},
     "output_type": "execute_result"
    }
   ],
   "source": [
    "A = [1 2\n",
    "     2 4]\n",
    "det(A)"
   ]
  },
  {
   "cell_type": "markdown",
   "metadata": {},
   "source": [
    "* By the way, many authors, including Strang's book, use the abbreviated notation $|A| = \\det A$.  I won't use this notation, mainly because I don't think the determinant is important enough anymore to deserve its own punctuation, and anyway $|A|$ looks too much like an absolute value.  "
   ]
  },
  {
   "cell_type": "markdown",
   "metadata": {},
   "source": [
    "In 18.06, we know have another way to check whether a matrix is zero: perform Gaussian elimination, and then **check whether any pivots (diagonal entries of U) are zero**.\n",
    "\n",
    "But this gives us an obvious way to construct a single determinant-like number: **just multiply the pivots together**, and the result will be zero if and only if the matrix is singular.\n",
    "\n",
    "In fact, that turns out to be *almost* equivalent to a determinant:\n",
    "\n",
    "* The **determinant is ± the product of the pivots**, with a minus sign if elimination involved an *odd* number of row swaps.\n",
    "\n",
    "We can check this for a random matrix:"
   ]
  },
  {
   "cell_type": "code",
   "execution_count": 5,
   "metadata": {
    "collapsed": false
   },
   "outputs": [
    {
     "data": {
      "text/plain": [
       "-78.25076585767704"
      ]
     },
     "execution_count": 5,
     "metadata": {},
     "output_type": "execute_result"
    }
   ],
   "source": [
    "A = randn(10,10)\n",
    "det(A)"
   ]
  },
  {
   "cell_type": "code",
   "execution_count": 6,
   "metadata": {
    "collapsed": false
   },
   "outputs": [
    {
     "data": {
      "text/plain": [
       "10×10 Array{Float64,2}:\n",
       " 0.304115  -0.898309  0.327801  -0.223036  …   1.17947    0.612762  -0.507399\n",
       " 0.0       -1.15734   1.98681   -0.530212      2.46341    0.30796    0.904658\n",
       " 0.0        0.0       3.21309   -0.932497      1.82697   -0.403789   3.51121 \n",
       " 0.0        0.0       0.0        2.10461       2.7236     0.958211  -1.63682 \n",
       " 0.0        0.0       0.0        0.0           0.781524   1.65726   -1.00576 \n",
       " 0.0        0.0       0.0        0.0       …   1.82736   -0.345939  -0.215032\n",
       " 0.0        0.0       0.0        0.0          -0.599248   4.13618   -0.672694\n",
       " 0.0        0.0       0.0        0.0           2.01776   -2.13104    1.65822 \n",
       " 0.0        0.0       0.0        0.0           0.0        1.06191   -0.963799\n",
       " 0.0        0.0       0.0        0.0           0.0        0.0        3.65412 "
      ]
     },
     "execution_count": 6,
     "metadata": {},
     "output_type": "execute_result"
    }
   ],
   "source": [
    "L,U = lu(A, Val{false}) # LU without row swaps\n",
    "U"
   ]
  },
  {
   "cell_type": "code",
   "execution_count": 7,
   "metadata": {
    "collapsed": false
   },
   "outputs": [
    {
     "data": {
      "text/plain": [
       "-78.25076585767717"
      ]
     },
     "execution_count": 7,
     "metadata": {},
     "output_type": "execute_result"
    }
   ],
   "source": [
    "prod(diag(U)) # the product of the diagonal elements of U"
   ]
  },
  {
   "cell_type": "markdown",
   "metadata": {},
   "source": [
    "Note that this matches `det(A)` (up to roundoff errors in the last few digits)."
   ]
  },
  {
   "cell_type": "markdown",
   "metadata": {},
   "source": [
    "This immediately gives you a hint of why the determinant is not such a useful computational tool:\n",
    "\n",
    "* The most efficient way to compute a determinant, in general, is to do Gaussian elimination and then multiply the pivots together.\n",
    "\n",
    "* Once you have done elimination, you *already* know whether the matrix is singular and you can *already* solve $Ax=b$ efficiently, so the determinant is mostly superfluous.\n",
    "\n",
    "We'll discuss some actual determinant applications later.  For now, however, we need a more systematic development of a determinant definition that leads to the pivot-product formula above, and in particular it is useful to derive **key properties of determinants**."
   ]
  },
  {
   "cell_type": "markdown",
   "metadata": {},
   "source": [
    "# Defining properties of the determinant\n",
    "\n",
    "The following three properties are actually sufficient to *uniquely define* the determinant of any matrix, and are taken from [Strang's Introduction to Linear Algebra](http://math.mit.edu/~gs/linearalgebra/), section 5.1:"
   ]
  },
  {
   "cell_type": "markdown",
   "metadata": {},
   "source": [
    "## 1. det(I) = 1\n",
    "\n",
    "It is clear that the identity matrix $I$ is not singular, and all its pivots are 1.  A good starting point for defining determinants, therefore, is to require:\n",
    "\n",
    "* $\\det I = 1$ for any $m \\times m$ identity matrix I (any $m$).\n",
    "\n",
    "For example:"
   ]
  },
  {
   "cell_type": "code",
   "execution_count": 8,
   "metadata": {
    "collapsed": false
   },
   "outputs": [
    {
     "data": {
      "text/plain": [
       "5×5 Array{Float64,2}:\n",
       " 1.0  0.0  0.0  0.0  0.0\n",
       " 0.0  1.0  0.0  0.0  0.0\n",
       " 0.0  0.0  1.0  0.0  0.0\n",
       " 0.0  0.0  0.0  1.0  0.0\n",
       " 0.0  0.0  0.0  0.0  1.0"
      ]
     },
     "execution_count": 8,
     "metadata": {},
     "output_type": "execute_result"
    }
   ],
   "source": [
    "eye(5)"
   ]
  },
  {
   "cell_type": "code",
   "execution_count": 9,
   "metadata": {
    "collapsed": false
   },
   "outputs": [
    {
     "data": {
      "text/plain": [
       "1.0"
      ]
     },
     "execution_count": 9,
     "metadata": {},
     "output_type": "execute_result"
    }
   ],
   "source": [
    "det(eye(5))"
   ]
  },
  {
   "cell_type": "markdown",
   "metadata": {},
   "source": [
    "## 2. Sign flips under row exchange"
   ]
  },
  {
   "cell_type": "markdown",
   "metadata": {},
   "source": [
    "## 3. Linearity in any individual row"
   ]
  },
  {
   "cell_type": "markdown",
   "metadata": {},
   "source": [
    "# Additional properties of determinants\n",
    "\n",
    "The following properties can be derived from the above 3, and are quite useful to know.  Again, the numbering follows Strang, section 5.1:"
   ]
  },
  {
   "cell_type": "markdown",
   "metadata": {},
   "source": [
    "## 4. If two rows are equal, det(A) = 0"
   ]
  },
  {
   "cell_type": "markdown",
   "metadata": {},
   "source": [
    "## 5. Subtracting a multiple of one row from another doesn’t change det(A)"
   ]
  },
  {
   "cell_type": "markdown",
   "metadata": {},
   "source": [
    "## 6. A matrix with a row of zeros has det(A) = 0"
   ]
  },
  {
   "cell_type": "markdown",
   "metadata": {},
   "source": [
    "## 7. If A is triangular then det(A) is the product of the diagonal entries"
   ]
  },
  {
   "cell_type": "markdown",
   "metadata": {},
   "source": [
    "## 8. det(A) = 0 if and only if A is singular"
   ]
  },
  {
   "cell_type": "markdown",
   "metadata": {},
   "source": [
    "## 9. det(AB) = det(A) det(B)"
   ]
  },
  {
   "cell_type": "markdown",
   "metadata": {},
   "source": [
    "## 10. det(Aᵀ) = det(A)"
   ]
  },
  {
   "cell_type": "markdown",
   "metadata": {},
   "source": [
    "# Useful applications of determinants\n",
    "\n",
    "Ignoring formulas (e.g. Cramer's rule, a formula for $A^{-1}$) that are mainly useful for tiny matrices, here are some examples of real usages of determinants **even for large matrices**:\n",
    "\n",
    "* Understanding **eigenvalues**: determinants will turn eigenvalues into polynomial roots, and since we know about polynomial roots, that tells us a lot about eigenvalues.  (This is *not* how eigenvalues are *computed* in practice, however!)\n",
    "\n",
    " - There is also something called a [nonlinear eigenproblem](https://en.wikipedia.org/wiki/Nonlinear_eigenproblem), arising in many science and engineering problems, in which the determinant plays a basic conceptual role.  Again, however, computational methods typically avoid computing determinants explicitly except for tiny matrices.\n",
    "\n",
    "* Proofs: Determinants show up in a lot of proofs in matrix theory, because they reduce matrices to numbers that have nice properties and are easy to reason about.  One also often sees things like the [adjugate matrix](https://en.wikipedia.org/wiki/Adjugate_matrix) and the [Cayley–Hamilton theorem](https://en.wikipedia.org/wiki/Cayley%E2%80%93Hamilton_theorem), both related to determinants.\n",
    "\n",
    "* [Jacobian factors](https://en.wikipedia.org/wiki/Jacobian_matrix_and_determinant): in multivariable calculus, a factor of $|\\det J|$ arises when you perform a *change of variables* in integration, where $J$ is a Jacobian matrix.\n",
    "\n",
    " - The reason a determinant arises here is that, more generally, **det(A) is the volume of a parallelepiped** (\"box\") whose edges are given by the columns of $A$.\n",
    " \n",
    " - Integration may sound like something that only happens in a few dimensions (= tiny matrices J), but extremely high dimensional (even infinite-dimensional) integrals appear in statistics, quantum field theory, bioinformatics, and other fields.\n",
    "\n",
    "* High-dimensional [Gaussian integrals](https://en.wikipedia.org/wiki/Gaussian_integral) often arise in **statistics** and related areas of science (e.g. [quantum field theory](https://en.wikipedia.org/wiki/Common_integrals_in_quantum_field_theory)), and the inverse of the square root of a determinant appears in the answer.  Often, one wants the logarithm of the result, in which case what arises is the **log determinant** $\\log \\det A$, an important matrix function.\n",
    "\n",
    "This is no doubt an incomplete list.  Nevertheless, although determinants are a much more marginal topic in modern linear algebra than they were in the 19th century, they have hardly disappeared."
   ]
  }
 ],
 "metadata": {
  "anaconda-cloud": {},
  "kernelspec": {
   "display_name": "Julia 0.5.0",
   "language": "julia",
   "name": "julia-0.5"
  },
  "language_info": {
   "file_extension": ".jl",
   "mimetype": "application/julia",
   "name": "julia",
   "version": "0.5.1"
  }
 },
 "nbformat": 4,
 "nbformat_minor": 1
}
