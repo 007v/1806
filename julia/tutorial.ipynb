{
 "cells": [
  {
   "cell_type": "markdown",
   "metadata": {},
   "source": [
    "# Julia Basics\n",
    "\n",
    "This is a *basic* introduction to an IJulia notebook."
   ]
  },
  {
   "cell_type": "code",
   "execution_count": 1,
   "metadata": {
    "collapsed": false
   },
   "outputs": [
    {
     "data": {
      "text/plain": [
       "2"
      ]
     },
     "execution_count": 1,
     "metadata": {},
     "output_type": "execute_result"
    }
   ],
   "source": [
    "1+1"
   ]
  },
  {
   "cell_type": "code",
   "execution_count": 2,
   "metadata": {
    "collapsed": false
   },
   "outputs": [
    {
     "data": {
      "text/plain": [
       "3"
      ]
     },
     "execution_count": 2,
     "metadata": {},
     "output_type": "execute_result"
    }
   ],
   "source": [
    "x = 3"
   ]
  },
  {
   "cell_type": "code",
   "execution_count": 3,
   "metadata": {
    "collapsed": false
   },
   "outputs": [
    {
     "data": {
      "text/plain": [
       "3"
      ]
     },
     "execution_count": 3,
     "metadata": {},
     "output_type": "execute_result"
    }
   ],
   "source": [
    "x"
   ]
  },
  {
   "cell_type": "code",
   "execution_count": 4,
   "metadata": {
    "collapsed": false
   },
   "outputs": [
    {
     "data": {
      "text/plain": [
       "36.141120008059865"
      ]
     },
     "execution_count": 4,
     "metadata": {},
     "output_type": "execute_result"
    }
   ],
   "source": [
    "3*x + x^3 + sin(x)"
   ]
  },
  {
   "cell_type": "code",
   "execution_count": 5,
   "metadata": {
    "collapsed": false
   },
   "outputs": [
    {
     "data": {
      "text/plain": [
       "3 + 4im"
      ]
     },
     "execution_count": 5,
     "metadata": {},
     "output_type": "execute_result"
    }
   ],
   "source": [
    "z = 3 + 4im"
   ]
  },
  {
   "cell_type": "code",
   "execution_count": 6,
   "metadata": {
    "collapsed": false
   },
   "outputs": [
    {
     "data": {
      "text/plain": [
       "-117 + 44im"
      ]
     },
     "execution_count": 6,
     "metadata": {},
     "output_type": "execute_result"
    }
   ],
   "source": [
    "z^3"
   ]
  },
  {
   "cell_type": "code",
   "execution_count": 7,
   "metadata": {
    "collapsed": false
   },
   "outputs": [
    {
     "data": {
      "text/plain": [
       "-13.128783081462158 - 15.200784463067954im"
      ]
     },
     "execution_count": 7,
     "metadata": {},
     "output_type": "execute_result"
    }
   ],
   "source": [
    "exp(z)"
   ]
  },
  {
   "cell_type": "code",
   "execution_count": 8,
   "metadata": {
    "collapsed": false
   },
   "outputs": [
    {
     "data": {
      "text/plain": [
       "2.0 + 1.0im"
      ]
     },
     "execution_count": 8,
     "metadata": {},
     "output_type": "execute_result"
    }
   ],
   "source": [
    "sqrt(z)"
   ]
  },
  {
   "cell_type": "code",
   "execution_count": 9,
   "metadata": {
    "collapsed": false
   },
   "outputs": [
    {
     "data": {
      "text/plain": [
       "0.0 + 1.4142135623730951im"
      ]
     },
     "execution_count": 9,
     "metadata": {},
     "output_type": "execute_result"
    }
   ],
   "source": [
    "sqrt(-2+0im)"
   ]
  },
  {
   "cell_type": "code",
   "execution_count": 10,
   "metadata": {
    "collapsed": false
   },
   "outputs": [
    {
     "ename": "LoadError",
     "evalue": "KeyError: key 12 not found",
     "output_type": "error",
     "traceback": [
      "KeyError: key 12 not found",
      "",
      " in getindex(::Dict{Int64,Any}, ::Int64) at ./dict.jl:688"
     ]
    }
   ],
   "source": [
    "abs(Out[12])"
   ]
  },
  {
   "cell_type": "code",
   "execution_count": 11,
   "metadata": {
    "collapsed": false
   },
   "outputs": [
    {
     "data": {
      "text/plain": [
       "5.0"
      ]
     },
     "execution_count": 11,
     "metadata": {},
     "output_type": "execute_result"
    }
   ],
   "source": [
    "abs(3+4im)"
   ]
  },
  {
   "cell_type": "code",
   "execution_count": 12,
   "metadata": {
    "collapsed": false
   },
   "outputs": [
    {
     "data": {
      "text/plain": [
       "3-element Array{Int64,1}:\n",
       " 1\n",
       " 2\n",
       " 3"
      ]
     },
     "execution_count": 12,
     "metadata": {},
     "output_type": "execute_result"
    }
   ],
   "source": [
    "x = [1,2,3]"
   ]
  },
  {
   "cell_type": "code",
   "execution_count": 13,
   "metadata": {
    "collapsed": false
   },
   "outputs": [
    {
     "data": {
      "text/plain": [
       "1×3 Array{Int64,2}:\n",
       " 1  2  3"
      ]
     },
     "execution_count": 13,
     "metadata": {},
     "output_type": "execute_result"
    }
   ],
   "source": [
    "y = [1 2 3]"
   ]
  },
  {
   "cell_type": "code",
   "execution_count": 14,
   "metadata": {
    "collapsed": false
   },
   "outputs": [
    {
     "data": {
      "text/plain": [
       "1-element Array{Int64,1}:\n",
       " 14"
      ]
     },
     "execution_count": 14,
     "metadata": {},
     "output_type": "execute_result"
    }
   ],
   "source": [
    "y * x"
   ]
  },
  {
   "cell_type": "code",
   "execution_count": 15,
   "metadata": {
    "collapsed": false
   },
   "outputs": [
    {
     "data": {
      "text/plain": [
       "3×3 Array{Int64,2}:\n",
       " 1  2  3\n",
       " 2  4  6\n",
       " 3  6  9"
      ]
     },
     "execution_count": 15,
     "metadata": {},
     "output_type": "execute_result"
    }
   ],
   "source": [
    "x * y"
   ]
  },
  {
   "cell_type": "code",
   "execution_count": 16,
   "metadata": {
    "collapsed": false
   },
   "outputs": [
    {
     "ename": "LoadError",
     "evalue": "DimensionMismatch(\"dimensions must match\")",
     "output_type": "error",
     "traceback": [
      "DimensionMismatch(\"dimensions must match\")",
      "",
      " in promote_shape(::Tuple{Base.OneTo{Int64},Base.OneTo{Int64}}, ::Tuple{Base.OneTo{Int64}}) at ./operators.jl:406",
      " in promote_shape(::Tuple{Base.OneTo{Int64}}, ::Tuple{Base.OneTo{Int64},Base.OneTo{Int64}}) at ./operators.jl:402",
      " in promote_shape(::Array{Int64,1}, ::Array{Int64,2}) at ./operators.jl:397",
      " in _elementwise(::Base.#+, ::Type{Int64}, ::Array{Int64,1}, ::Array{Int64,2}) at ./arraymath.jl:57",
      " in +(::Array{Int64,1}, ::Array{Int64,2}) at ./arraymath.jl:49"
     ]
    }
   ],
   "source": [
    "x + y"
   ]
  },
  {
   "cell_type": "code",
   "execution_count": 17,
   "metadata": {
    "collapsed": false
   },
   "outputs": [
    {
     "data": {
      "text/plain": [
       "3×3 Array{Int64,2}:\n",
       " 2  3  4\n",
       " 3  4  5\n",
       " 4  5  6"
      ]
     },
     "execution_count": 17,
     "metadata": {},
     "output_type": "execute_result"
    }
   ],
   "source": [
    "A = x .+ y"
   ]
  },
  {
   "cell_type": "code",
   "execution_count": 18,
   "metadata": {
    "collapsed": false
   },
   "outputs": [
    {
     "data": {
      "text/plain": [
       "3-element Array{Int64,1}:\n",
       " 1\n",
       " 4\n",
       " 9"
      ]
     },
     "execution_count": 18,
     "metadata": {},
     "output_type": "execute_result"
    }
   ],
   "source": [
    "x .* x"
   ]
  },
  {
   "cell_type": "code",
   "execution_count": 19,
   "metadata": {
    "collapsed": false
   },
   "outputs": [
    {
     "data": {
      "text/plain": [
       "20-element Array{Float64,1}:\n",
       " 0.865113 \n",
       " 0.933176 \n",
       " 0.618455 \n",
       " 0.617167 \n",
       " 0.401063 \n",
       " 0.73383  \n",
       " 0.435374 \n",
       " 0.0494422\n",
       " 0.937702 \n",
       " 0.26655  \n",
       " 0.369985 \n",
       " 0.361838 \n",
       " 0.498797 \n",
       " 0.173794 \n",
       " 0.948838 \n",
       " 0.108735 \n",
       " 0.262631 \n",
       " 0.0768341\n",
       " 0.825819 \n",
       " 0.620872 "
      ]
     },
     "execution_count": 19,
     "metadata": {},
     "output_type": "execute_result"
    }
   ],
   "source": [
    "x = rand(20)"
   ]
  },
  {
   "cell_type": "code",
   "execution_count": 20,
   "metadata": {
    "collapsed": false
   },
   "outputs": [
    {
     "data": {
      "text/plain": [
       "0.9331756932130784"
      ]
     },
     "execution_count": 20,
     "metadata": {},
     "output_type": "execute_result"
    }
   ],
   "source": [
    "x[2]"
   ]
  },
  {
   "cell_type": "code",
   "execution_count": 21,
   "metadata": {
    "collapsed": false
   },
   "outputs": [
    {
     "data": {
      "text/plain": [
       "4-element Array{Float64,1}:\n",
       " 0.933176\n",
       " 0.618455\n",
       " 0.617167\n",
       " 0.401063"
      ]
     },
     "execution_count": 21,
     "metadata": {},
     "output_type": "execute_result"
    }
   ],
   "source": [
    "x[2:5]"
   ]
  },
  {
   "cell_type": "code",
   "execution_count": 22,
   "metadata": {
    "collapsed": false
   },
   "outputs": [
    {
     "data": {
      "text/plain": [
       "7-element Array{Float64,1}:\n",
       " 0.435374\n",
       " 0.937702\n",
       " 0.369985\n",
       " 0.498797\n",
       " 0.948838\n",
       " 0.262631\n",
       " 0.825819"
      ]
     },
     "execution_count": 22,
     "metadata": {},
     "output_type": "execute_result"
    }
   ],
   "source": [
    "x[7:2:end] # x[7], x[9], x[11], ... end of array"
   ]
  },
  {
   "cell_type": "code",
   "execution_count": 23,
   "metadata": {
    "collapsed": false
   },
   "outputs": [
    {
     "data": {
      "text/plain": [
       "9-element Array{Float64,1}:\n",
       " 0.865113\n",
       " 0.933176\n",
       " 0.618455\n",
       " 0.617167\n",
       " 0.73383 \n",
       " 0.937702\n",
       " 0.948838\n",
       " 0.825819\n",
       " 0.620872"
      ]
     },
     "execution_count": 23,
     "metadata": {},
     "output_type": "execute_result"
    }
   ],
   "source": [
    "x[x .> 0.5]"
   ]
  },
  {
   "cell_type": "markdown",
   "metadata": {},
   "source": [
    "Any function `f` can be applied elementwise to an array `x` by the syntax `f.(x)`.\n",
    "\n",
    "You may be thinking that Matlab and Numpy do this without dots, but it turns out that the `.` in `f.(x)` enables extensive possibilities that aren't possible in other language.  See also [this blog post on the real power of this syntax](http://julialang.org/blog/2017/01/moredots).\n",
    "\n",
    "e.g. compute $e^{\\sin x_i}$ for each element $x_i$=`x[i]` of the array `x`:"
   ]
  },
  {
   "cell_type": "code",
   "execution_count": 24,
   "metadata": {
    "collapsed": false
   },
   "outputs": [
    {
     "data": {
      "text/plain": [
       "20-element Array{Float64,1}:\n",
       " 2.14078\n",
       " 2.23338\n",
       " 1.78564\n",
       " 1.78377\n",
       " 1.47757\n",
       " 1.95369\n",
       " 1.52463\n",
       " 1.05066\n",
       " 2.23938\n",
       " 1.30135\n",
       " 1.43563\n",
       " 1.42475\n",
       " 1.61344\n",
       " 1.18877\n",
       " 2.25407\n",
       " 1.11463\n",
       " 1.29644\n",
       " 1.07978\n",
       " 2.0857 \n",
       " 1.78916"
      ]
     },
     "execution_count": 24,
     "metadata": {},
     "output_type": "execute_result"
    }
   ],
   "source": [
    "exp.(sin.(x))"
   ]
  },
  {
   "cell_type": "markdown",
   "metadata": {},
   "source": [
    "## Plotting"
   ]
  },
  {
   "cell_type": "code",
   "execution_count": 27,
   "metadata": {
    "collapsed": false
   },
   "outputs": [],
   "source": [
    "using PyPlot # thin wrapper around Python Matplotlib"
   ]
  },
  {
   "cell_type": "code",
   "execution_count": 29,
   "metadata": {
    "collapsed": false
   },
   "outputs": [
    {
     "data": {
      "image/png": "[encoded data removed]",
      "text/plain": [
       "PyPlot.Figure(PyObject <matplotlib.figure.Figure object at 0x3232ada50>)"
      ]
     },
     "metadata": {},
     "output_type": "display_data"
    },
    {
     "data": {
      "text/plain": [
       "1-element Array{Any,1}:\n",
       " PyObject <matplotlib.lines.Line2D object at 0x322f17250>"
      ]
     },
     "execution_count": 29,
     "metadata": {},
     "output_type": "execute_result"
    }
   ],
   "source": [
    "x = linspace(0,1,20)\n",
    "plot(x, x.*x, \"bo-\")"
   ]
  },
  {
   "cell_type": "markdown",
   "metadata": {},
   "source": [
    "Let's plot a more complicated function, $\\sqrt{e^{x^2}} = e^{x^2/2}$:"
   ]
  },
  {
   "cell_type": "code",
   "execution_count": 30,
   "metadata": {
    "collapsed": false
   },
   "outputs": [
    {
     "data": {
      "image/png": "[encoded data removed]",
      "text/plain": [
       "PyPlot.Figure(PyObject <matplotlib.figure.Figure object at 0x30853c190>)"
      ]
     },
     "metadata": {},
     "output_type": "display_data"
    },
    {
     "data": {
      "text/plain": [
       "PyObject <matplotlib.text.Text object at 0x322f615d0>"
      ]
     },
     "execution_count": 30,
     "metadata": {},
     "output_type": "execute_result"
    }
   ],
   "source": [
    "x = linspace(0, 3, 100)\n",
    "plot(x, sqrt(exp(x.*x)), \"r-\")\n",
    "title(\"a simple quadratic curve\")\n",
    "xlabel(L\"x\")\n",
    "ylabel(L\"\\sqrt{e^{x^2}}\")"
   ]
  },
  {
   "cell_type": "code",
   "execution_count": 31,
   "metadata": {
    "collapsed": false
   },
   "outputs": [
    {
     "data": {
      "image/png": "[encoded data removed]",
      "text/plain": [
       "PyPlot.Figure(PyObject <matplotlib.figure.Figure object at 0x322f17350>)"
      ]
     },
     "metadata": {},
     "output_type": "display_data"
    },
    {
     "data": {
      "text/plain": [
       "PyObject <matplotlib.legend.Legend object at 0x323328610>"
      ]
     },
     "execution_count": 31,
     "metadata": {},
     "output_type": "execute_result"
    }
   ],
   "source": [
    "x = linspace(0.1, 3, 100)\n",
    "loglog(x, x.^(-2), \"r-\")\n",
    "loglog(x, x.^(-3), \"b-\")\n",
    "title(\"a couple of power laws\")\n",
    "xlabel(L\"x\")\n",
    "legend([L\"1/x^2\", L\"1/x^3\"])"
   ]
  },
  {
   "cell_type": "markdown",
   "metadata": {},
   "source": [
    "## Linear algebra"
   ]
  },
  {
   "cell_type": "code",
   "execution_count": 32,
   "metadata": {
    "collapsed": false
   },
   "outputs": [
    {
     "data": {
      "text/plain": [
       "3×4 Array{Int64,2}:\n",
       " 1   2   3   4\n",
       " 5   6   7   8\n",
       " 9  10  11  12"
      ]
     },
     "execution_count": 32,
     "metadata": {},
     "output_type": "execute_result"
    }
   ],
   "source": [
    "A = [1 2 3 4; 5 6 7 8; 9 10 11 12]"
   ]
  },
  {
   "cell_type": "code",
   "execution_count": 33,
   "metadata": {
    "collapsed": false
   },
   "outputs": [
    {
     "data": {
      "text/plain": [
       "3×4 Array{Int64,2}:\n",
       " 1   2   3   4\n",
       " 5   6   7   8\n",
       " 9  10  11  12"
      ]
     },
     "execution_count": 33,
     "metadata": {},
     "output_type": "execute_result"
    }
   ],
   "source": [
    "A = [1 2 3 4\n",
    "     5 6 7 8\n",
    "     9 10 11 12]"
   ]
  },
  {
   "cell_type": "code",
   "execution_count": 34,
   "metadata": {
    "collapsed": false
   },
   "outputs": [
    {
     "data": {
      "text/plain": [
       "4×4 Array{Float64,2}:\n",
       " 0.354297  0.796286  0.817323  0.0345978\n",
       " 0.690757  0.545312  0.10516   0.960872 \n",
       " 0.534802  0.541574  0.910064  0.547655 \n",
       " 0.246295  0.804683  0.217789  0.227035 "
      ]
     },
     "execution_count": 34,
     "metadata": {},
     "output_type": "execute_result"
    }
   ],
   "source": [
    "A = rand(4,4)"
   ]
  },
  {
   "cell_type": "code",
   "execution_count": 35,
   "metadata": {
    "collapsed": false
   },
   "outputs": [
    {
     "data": {
      "text/plain": [
       "1000×1000 Array{Float64,2}:\n",
       " -1.65081   -0.240849    0.303505   …  -1.7985      1.58347     2.17258   \n",
       "  1.1676    -1.14529    -0.79521        0.757942    0.136036   -0.202522  \n",
       " -0.42534   -0.636201   -0.271092       0.636029    0.432697    0.982919  \n",
       "  0.548365   0.813392    0.180881       0.892248   -2.66757     0.623155  \n",
       "  0.358272  -1.32407    -1.62438       -0.583573    1.39367     1.84467   \n",
       " -0.522505   0.635723   -1.83343    …   0.373494    0.880843    0.197541  \n",
       " -1.36032    0.328761    0.966728       0.214797   -0.519872    0.786407  \n",
       " -1.96225   -1.18058     0.0220994      1.03323     1.73717    -1.02543   \n",
       " -2.3271     2.59105    -0.105579      -0.740164   -0.588027   -1.22532   \n",
       "  0.455888  -1.17448    -1.23745        1.26299    -0.996511   -0.0343119 \n",
       " -1.37476   -0.695493   -0.349228   …   0.623711   -0.118538   -2.10232   \n",
       "  0.385374   0.500938    0.328916       1.69133     0.0510919  -1.33315   \n",
       "  0.367484  -0.88171    -0.0158286     -0.0158428   0.0727947   0.330221  \n",
       "  ⋮                                 ⋱                                     \n",
       "  2.07491    0.301412   -2.88188       -2.13433    -1.46011    -1.33492   \n",
       "  0.445576   0.200213    0.867564       2.16332    -0.607085   -0.719657  \n",
       "  1.15989    1.38095     0.0995334  …   0.656682   -0.286683    1.1383    \n",
       "  1.49364    1.61671     1.74414        2.3082     -0.608303   -0.857497  \n",
       "  1.00611   -0.49429    -0.999569      -1.72488     0.0250074   1.70796   \n",
       " -0.653577  -0.867363   -1.2563        -1.27231     0.629835    0.731937  \n",
       "  0.381445   0.974918   -0.0255441     -0.824598   -1.34282     0.00359473\n",
       "  0.695848   0.0786676   1.72538    …  -0.0131363  -0.859186   -0.483053  \n",
       " -0.775784  -1.15708    -0.238277       0.658991   -0.40027     1.3225    \n",
       "  0.733769   0.673854   -1.31093        0.176824   -1.0881     -1.46115   \n",
       " -0.240597   0.142289    0.265261       0.365702   -1.2539      0.0856285 \n",
       " -1.05008   -0.707914    0.447666       0.743693    0.61162     1.02591   "
      ]
     },
     "execution_count": 35,
     "metadata": {},
     "output_type": "execute_result"
    }
   ],
   "source": [
    "A = randn(1000,1000)"
   ]
  },
  {
   "cell_type": "code",
   "execution_count": 36,
   "metadata": {
    "collapsed": false
   },
   "outputs": [
    {
     "data": {
      "text/plain": [
       "1000-element Array{Float64,1}:\n",
       "  0.704118 \n",
       " -0.096427 \n",
       " -0.733399 \n",
       " -0.343855 \n",
       "  1.94833  \n",
       " -0.712985 \n",
       "  0.37097  \n",
       "  0.438342 \n",
       " -0.486407 \n",
       "  0.772552 \n",
       "  0.370966 \n",
       " -1.60214  \n",
       "  0.0380739\n",
       "  ⋮        \n",
       " -1.5625   \n",
       "  0.67892  \n",
       " -0.305153 \n",
       "  0.872263 \n",
       "  1.37475  \n",
       " -0.0145622\n",
       "  1.55491  \n",
       " -2.12784  \n",
       " -1.57598  \n",
       "  0.625179 \n",
       "  1.07015  \n",
       " -0.840333 "
      ]
     },
     "execution_count": 36,
     "metadata": {},
     "output_type": "execute_result"
    }
   ],
   "source": [
    "b = randn(1000)"
   ]
  },
  {
   "cell_type": "markdown",
   "metadata": {},
   "source": [
    "Let's solve $Ax = b$:"
   ]
  },
  {
   "cell_type": "code",
   "execution_count": 37,
   "metadata": {
    "collapsed": false
   },
   "outputs": [
    {
     "data": {
      "text/plain": [
       "1000-element Array{Float64,1}:\n",
       "  0.582043\n",
       "  1.18294 \n",
       " -0.045209\n",
       " -0.671191\n",
       "  1.51479 \n",
       " -2.11266 \n",
       " -0.849299\n",
       "  1.68512 \n",
       "  0.101655\n",
       "  0.228883\n",
       " -0.619881\n",
       " -0.755786\n",
       " -4.20192 \n",
       "  ⋮       \n",
       " -1.57702 \n",
       "  3.67938 \n",
       " -1.59842 \n",
       "  2.11529 \n",
       " -2.26215 \n",
       " -0.348302\n",
       " -2.48251 \n",
       "  2.41252 \n",
       "  2.1558  \n",
       " -2.08519 \n",
       " -1.97143 \n",
       " -1.54951 "
      ]
     },
     "execution_count": 37,
     "metadata": {},
     "output_type": "execute_result"
    }
   ],
   "source": [
    "x = inv(A) * b"
   ]
  },
  {
   "cell_type": "code",
   "execution_count": 38,
   "metadata": {
    "collapsed": false
   },
   "outputs": [
    {
     "data": {
      "text/plain": [
       "1000-element Array{Float64,1}:\n",
       "  0.582043\n",
       "  1.18294 \n",
       " -0.045209\n",
       " -0.671191\n",
       "  1.51479 \n",
       " -2.11266 \n",
       " -0.849299\n",
       "  1.68512 \n",
       "  0.101655\n",
       "  0.228883\n",
       " -0.619881\n",
       " -0.755786\n",
       " -4.20192 \n",
       "  ⋮       \n",
       " -1.57702 \n",
       "  3.67938 \n",
       " -1.59842 \n",
       "  2.11529 \n",
       " -2.26215 \n",
       " -0.348302\n",
       " -2.48251 \n",
       "  2.41252 \n",
       "  2.1558  \n",
       " -2.08519 \n",
       " -1.97143 \n",
       " -1.54951 "
      ]
     },
     "execution_count": 38,
     "metadata": {},
     "output_type": "execute_result"
    }
   ],
   "source": [
    "x = A \\ b"
   ]
  },
  {
   "cell_type": "code",
   "execution_count": 39,
   "metadata": {
    "collapsed": false
   },
   "outputs": [
    {
     "data": {
      "text/plain": [
       "1000-element Array{Complex{Float64},1}:\n",
       "   23.8373+20.5315im\n",
       "   23.8373-20.5315im\n",
       "   16.9749+26.496im \n",
       "   16.9749-26.496im \n",
       "   16.5081+26.5372im\n",
       "   16.5081-26.5372im\n",
       "   31.0478+5.66555im\n",
       "   31.0478-5.66555im\n",
       "   29.4471+11.4433im\n",
       "   29.4471-11.4433im\n",
       "   28.0514+14.2995im\n",
       "   28.0514-14.2995im\n",
       "    30.288+6.98167im\n",
       "          ⋮         \n",
       " -0.353185-3.43256im\n",
       "    3.2686+1.52675im\n",
       "    3.2686-1.52675im\n",
       "   3.89872+0.0im    \n",
       "   1.85608+2.95923im\n",
       "   1.85608-2.95923im\n",
       " -0.532069+2.10994im\n",
       " -0.532069-2.10994im\n",
       "    1.4669+1.1996im \n",
       "    1.4669-1.1996im \n",
       "   -1.4334+0.0im    \n",
       "  0.659698+0.0im    "
      ]
     },
     "execution_count": 39,
     "metadata": {},
     "output_type": "execute_result"
    }
   ],
   "source": [
    "λ = eigvals(A)"
   ]
  },
  {
   "cell_type": "markdown",
   "metadata": {},
   "source": [
    "You may be wondering how to type `λ`.  It turns out you can just type `\\lambda` (the LaTeX code for λ) and then hit *tab*.  You can type much more complicated variable names this way.  (This is all thanks to Julia's support for something called [Unicode](https://en.wikipedia.org/wiki/Unicode).)"
   ]
  },
  {
   "cell_type": "code",
   "execution_count": 50,
   "metadata": {
    "collapsed": false
   },
   "outputs": [
    {
     "data": {
      "text/plain": [
       "7"
      ]
     },
     "execution_count": 50,
     "metadata": {},
     "output_type": "execute_result"
    }
   ],
   "source": [
    "x̂₂′ = 7 # x\\hat<tab>\\_2<tab>\\prime<tab>"
   ]
  },
  {
   "cell_type": "code",
   "execution_count": 40,
   "metadata": {
    "collapsed": false
   },
   "outputs": [
    {
     "data": {
      "image/png": "[encoded data removed]",
      "text/plain": [
       "PyPlot.Figure(PyObject <matplotlib.figure.Figure object at 0x323328050>)"
      ]
     },
     "metadata": {},
     "output_type": "display_data"
    }
   ],
   "source": [
    "A = randn(1000,1000)\n",
    "λ = eigvals(A)\n",
    "plot(real(λ), imag(λ), \"b.\")\n",
    "axis(\"equal\")\n",
    "xlabel(L\"\\Re \\lambda\")\n",
    "ylabel(L\"\\Im \\lambda\")\n",
    "savefig(\"foo.pdf\")"
   ]
  },
  {
   "cell_type": "code",
   "execution_count": 41,
   "metadata": {
    "collapsed": false
   },
   "outputs": [
    {
     "data": {
      "text/plain": [
       "5×5 Array{Float64,2}:\n",
       " 0.654851   0.870059  0.0121391  0.28378    0.281063\n",
       " 0.185478   0.835295  0.921174   0.211865   0.792001\n",
       " 0.402456   0.174917  0.385094   0.104552   0.449979\n",
       " 0.0853418  0.462815  0.404998   0.0762736  0.566363\n",
       " 0.501122   0.769946  0.985798   0.533097   0.331967"
      ]
     },
     "execution_count": 41,
     "metadata": {},
     "output_type": "execute_result"
    }
   ],
   "source": [
    "A = rand(5,5)"
   ]
  },
  {
   "cell_type": "code",
   "execution_count": 42,
   "metadata": {
    "collapsed": false
   },
   "outputs": [
    {
     "data": {
      "text/plain": [
       "(Complex{Float64}[2.33956+0.0im,0.202439+0.471556im,0.202439-0.471556im,-0.504527+0.0im,0.0435738+0.0im],\n",
       "Complex{Float64}[0.439548+0.0im 0.731467+0.0im … -0.0449559+0.0im -0.283944+0.0im; 0.564317+0.0im -0.317749+0.340296im … 0.184355+0.0im -0.177871+0.0im; … ; 0.32097+0.0im -0.134243+0.232145im … 0.41431+0.0im 0.840298+0.0im; 0.551383+0.0im -0.0572381-0.042745im … -0.818658+0.0im 0.331318+0.0im])"
      ]
     },
     "execution_count": 42,
     "metadata": {},
     "output_type": "execute_result"
    }
   ],
   "source": [
    "λ, X = eig(A)"
   ]
  },
  {
   "cell_type": "code",
   "execution_count": 43,
   "metadata": {
    "collapsed": false
   },
   "outputs": [
    {
     "data": {
      "text/plain": [
       "5-element Array{Complex{Float64},1}:\n",
       "   2.33956+0.0im     \n",
       "  0.202439+0.471556im\n",
       "  0.202439-0.471556im\n",
       " -0.504527+0.0im     \n",
       " 0.0435738+0.0im     "
      ]
     },
     "execution_count": 43,
     "metadata": {},
     "output_type": "execute_result"
    }
   ],
   "source": [
    "λ"
   ]
  },
  {
   "cell_type": "code",
   "execution_count": 44,
   "metadata": {
    "collapsed": false
   },
   "outputs": [
    {
     "data": {
      "text/plain": [
       "5×5 Array{Complex{Float64},2}:\n",
       " 0.439548+0.0im    0.731467+0.0im       …  -0.0449559+0.0im  -0.283944+0.0im\n",
       " 0.564317+0.0im   -0.317749+0.340296im       0.184355+0.0im  -0.177871+0.0im\n",
       "  0.28513+0.0im  -0.0230972-0.413087im       0.349483+0.0im  -0.268076+0.0im\n",
       "  0.32097+0.0im   -0.134243+0.232145im        0.41431+0.0im   0.840298+0.0im\n",
       " 0.551383+0.0im  -0.0572381-0.042745im      -0.818658+0.0im   0.331318+0.0im"
      ]
     },
     "execution_count": 44,
     "metadata": {},
     "output_type": "execute_result"
    }
   ],
   "source": [
    "X "
   ]
  },
  {
   "cell_type": "code",
   "execution_count": 45,
   "metadata": {
    "collapsed": false
   },
   "outputs": [
    {
     "data": {
      "text/plain": [
       "(Complex{Float64}[2.33956+0.0im,0.202439+0.471556im,0.202439-0.471556im,-0.504527+0.0im,0.0435738+0.0im],\n",
       "Complex{Float64}[0.439548+0.0im 0.731467+0.0im … -0.0449559+0.0im -0.283944+0.0im; 0.564317+0.0im -0.317749+0.340296im … 0.184355+0.0im -0.177871+0.0im; … ; 0.32097+0.0im -0.134243+0.232145im … 0.41431+0.0im 0.840298+0.0im; 0.551383+0.0im -0.0572381-0.042745im … -0.818658+0.0im 0.331318+0.0im])"
      ]
     },
     "execution_count": 45,
     "metadata": {},
     "output_type": "execute_result"
    }
   ],
   "source": [
    "λ, X"
   ]
  },
  {
   "cell_type": "code",
   "execution_count": 46,
   "metadata": {
    "collapsed": false
   },
   "outputs": [
    {
     "name": "stderr",
     "output_type": "stream",
     "text": [
      "\u001b[1m\u001b[34mINFO: Precompiling module DataStructures.\n",
      "\u001b[0m"
     ]
    },
    {
     "data": {
      "text/html": [
       "<div id=\"interact-js-shim\">\n",
       "    <script charset=\"utf-8\">\n",
       "(function (IPython, $, _, MathJax) {\n",
       "    $.event.special.destroyed = {\n",
       "\tremove: function(o) {\n",
       "\t    if (o.handler) {\n",
       "\t\to.handler.apply(this, arguments)\n",
       "\t    }\n",
       "\t}\n",
       "    }\n",
       "\n",
       "    var OutputArea = IPython.version >= \"4.0.0\" ? require(\"notebook/js/outputarea\").OutputArea : IPython.OutputArea;\n",
       "\n",
       "    var redrawValue = function (container, type, val) {\n",
       "\tvar selector = $(\"<div/>\");\n",
       "\tvar oa = new OutputArea(_.extend(selector, {\n",
       "\t    selector: selector,\n",
       "\t    prompt_area: true,\n",
       "\t    events: IPython.events,\n",
       "\t    keyboard_manager: IPython.keyboard_manager\n",
       "\t})); // Hack to work with IPython 2.1.0\n",
       "\n",
       "\tswitch (type) {\n",
       "\tcase \"image/png\":\n",
       "            var _src = 'data:' + type + ';base64,' + val;\n",
       "\t    $(container).find(\"img\").attr('src', _src);\n",
       "\t    break;\n",
       "\tcase \"text/latex\":\n",
       "\t\tif (MathJax){\n",
       "\t\t\tvar math = MathJax.Hub.getAllJax(container)[0];\n",
       "\t\t\tMathJax.Hub.Queue([\"Text\", math, val.replace(/^\\${1,2}|\\${1,2}$/g, '')]);\n",
       "\t\t\tbreak;\n",
       "\t\t}\n",
       "\tdefault:\n",
       "\t    var toinsert = OutputArea.append_map[type].apply(\n",
       "\t\toa, [val, {}, selector]\n",
       "\t    );\n",
       "\t    $(container).empty().append(toinsert.contents());\n",
       "\t    selector.remove();\n",
       "\t}\n",
       "    }\n",
       "\n",
       "\n",
       "    $(document).ready(function() {\n",
       "\tfunction initComm(evt, data) {\n",
       "\t    var comm_manager = data.kernel.comm_manager;\n",
       "        //_.extend(comm_manager.targets, require(\"widgets/js/widget\"))\n",
       "\t    comm_manager.register_target(\"Signal\", function (comm) {\n",
       "            comm.on_msg(function (msg) {\n",
       "                var val = msg.content.data.value;\n",
       "                $(\".signal-\" + comm.comm_id).each(function() {\n",
       "                var type = $(this).data(\"type\");\n",
       "                if (typeof(val[type]) !== \"undefined\" && val[type] !== null) {\n",
       "                    redrawValue(this, type, val[type], type);\n",
       "                }\n",
       "                });\n",
       "                delete val;\n",
       "                delete msg.content.data.value;\n",
       "            });\n",
       "\t    });\n",
       "\n",
       "\t    // coordingate with Comm and redraw Signals\n",
       "\t    // XXX: Test using Reactive here to improve performance\n",
       "\t    $([IPython.events]).on(\n",
       "\t\t'output_appended.OutputArea', function (event, type, value, md, toinsert) {\n",
       "\t\t    if (md && md.reactive) {\n",
       "                // console.log(md.comm_id);\n",
       "                toinsert.addClass(\"signal-\" + md.comm_id);\n",
       "                toinsert.data(\"type\", type);\n",
       "                // Signal back indicating the mimetype required\n",
       "                var comm_manager = IPython.notebook.kernel.comm_manager;\n",
       "                var comm = comm_manager.comms[md.comm_id];\n",
       "                comm.then(function (c) {\n",
       "                    c.send({action: \"subscribe_mime\",\n",
       "                       mime: type});\n",
       "                    toinsert.bind(\"destroyed\", function() {\n",
       "                        c.send({action: \"unsubscribe_mime\",\n",
       "                               mime: type});\n",
       "                    });\n",
       "                })\n",
       "\t\t    }\n",
       "\t    });\n",
       "\t}\n",
       "\n",
       "\ttry {\n",
       "\t    // try to initialize right away. otherwise, wait on the status_started event.\n",
       "\t    initComm(undefined, IPython.notebook);\n",
       "\t} catch (e) {\n",
       "\t    $([IPython.events]).on('kernel_created.Kernel kernel_created.Session', initComm);\n",
       "\t}\n",
       "    });\n",
       "})(IPython, jQuery, _, MathJax);\n",
       "</script>\n",
       "    <script>\n",
       "        window.interactLoadedFlag = true\n",
       "       $(\"#interact-js-shim\").bind(\"destroyed\", function () {\n",
       "           if (window.interactLoadedFlag) {\n",
       "               console.warn(\"JavaScript required by Interact will be removed if you remove this cell or run using Interact more than once.\")\n",
       "           }\n",
       "       })\n",
       "       $([IPython.events]).on(\"kernel_starting.Kernel kernel_restarting.Kernel\", function () { window.interactLoadedFlag = false })\n",
       "   </script>\n",
       "</div>"
      ]
     },
     "metadata": {},
     "output_type": "display_data"
    }
   ],
   "source": [
    "using Interact"
   ]
  },
  {
   "cell_type": "code",
   "execution_count": 47,
   "metadata": {
    "collapsed": false
   },
   "outputs": [
    {
     "data": {
      "text/html": [],
      "text/plain": [
       "Interact.Options{:SelectionSlider,Int64}(Signal{Int64}(505, nactions=1),\"n\",505,\"505\",Interact.OptionDict(DataStructures.OrderedDict(\"10\"=>10,\"11\"=>11,\"12\"=>12,\"13\"=>13,\"14\"=>14,\"15\"=>15,\"16\"=>16,\"17\"=>17,\"18\"=>18,\"19\"=>19…),Dict(306=>\"306\",29=>\"29\",74=>\"74\",905=>\"905\",176=>\"176\",892=>\"892\",285=>\"285\",318=>\"318\",873=>\"873\",975=>\"975\"…)),Any[],Any[],true,\"horizontal\")"
      ]
     },
     "metadata": {},
     "output_type": "display_data"
    },
    {
     "data": {
      "image/png": "[encoded data removed]",
      "text/plain": [
       "PyPlot.Figure(PyObject <matplotlib.figure.Figure object at 0x31e614350>)"
      ]
     },
     "execution_count": 47,
     "metadata": {
      "comm_id": "aaf65e16-ba9f-47b4-9a45-93adba93d698",
      "reactive": true
     },
     "output_type": "execute_result"
    }
   ],
   "source": [
    "f = figure()\n",
    "@manipulate for n in 10:1000\n",
    "    withfig(f) do\n",
    "        A = randn(n,n)\n",
    "        λ = eigvals(A)\n",
    "        plot(real(λ), imag(λ), \"b.\")\n",
    "        axis(\"equal\")\n",
    "        xlabel(L\"\\Re \\lambda\")\n",
    "        ylabel(L\"\\Im \\lambda\")\n",
    "    end\n",
    "end"
   ]
  },
  {
   "cell_type": "markdown",
   "metadata": {},
   "source": [
    "## Calling Python\n",
    "\n",
    "Being a young language, Julia doesn't have as many mature libraries and packages as a language like Python.  Fortunately, Julia code can *call Python libraries* directly, with the help of the [PyCall package](https://github.com/JuliaPy/PyCall.jl):"
   ]
  },
  {
   "cell_type": "code",
   "execution_count": 48,
   "metadata": {
    "collapsed": true
   },
   "outputs": [],
   "source": [
    "using PyCall"
   ]
  },
  {
   "cell_type": "code",
   "execution_count": 49,
   "metadata": {
    "collapsed": true
   },
   "outputs": [],
   "source": [
    "@pyimport scipy.special as special"
   ]
  },
  {
   "cell_type": "code",
   "execution_count": 50,
   "metadata": {
    "collapsed": false
   },
   "outputs": [
    {
     "data": {
      "text/plain": [
       "(0.006591139357460717,-0.011912976705951313,14.037328963730229,22.92221496638217)"
      ]
     },
     "execution_count": 50,
     "metadata": {},
     "output_type": "execute_result"
    }
   ],
   "source": [
    "special.airy(3)"
   ]
  },
  {
   "cell_type": "code",
   "execution_count": 51,
   "metadata": {
    "collapsed": true
   },
   "outputs": [],
   "source": [
    "@pyimport scipy.optimize as opt"
   ]
  },
  {
   "cell_type": "code",
   "execution_count": 52,
   "metadata": {
    "collapsed": false
   },
   "outputs": [
    {
     "data": {
      "text/plain": [
       "0.0"
      ]
     },
     "execution_count": 52,
     "metadata": {},
     "output_type": "execute_result"
    }
   ],
   "source": [
    "opt.newton(cos, 1.4) - pi/2"
   ]
  },
  {
   "cell_type": "code",
   "execution_count": 53,
   "metadata": {
    "collapsed": false
   },
   "outputs": [
    {
     "data": {
      "text/plain": [
       "0.7390851332151607"
      ]
     },
     "execution_count": 53,
     "metadata": {},
     "output_type": "execute_result"
    }
   ],
   "source": [
    "opt.newton(x -> cos(x) - x, 1.4)"
   ]
  }
 ],
 "metadata": {
  "anaconda-cloud": {},
  "kernelspec": {
   "display_name": "Julia 0.5.0",
   "language": "julia",
   "name": "julia-0.5"
  },
  "language_info": {
   "file_extension": ".jl",
   "mimetype": "application/julia",
   "name": "julia",
   "version": "0.5.0"
  },
  "widgets": {
   "state": {
    "2249e52a-4038-4bb7-bb18-32aa5c4ed838": {
     "views": [
      {
       "cell_index": 51
      }
     ]
    }
   },
   "version": "1.2.0"
  }
 },
 "nbformat": 4,
 "nbformat_minor": 0
}
