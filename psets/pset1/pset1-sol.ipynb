{
 "cells": [
  {
   "cell_type": "markdown",
   "metadata": {},
   "source": [
    "# 18.06 pset 1 solutions\n"
   ]
  },
  {
   "cell_type": "markdown",
   "metadata": {},
   "source": [
    "## Problem 1\n",
    "\n",
    "The following code multiplies two random *lower-triangular matrices* (matrices whose entries are *zero above the diagonal*).\n",
    "\n",
    "* What do you observe about the result?\n",
    "* Explain why this always happens when one multiplies lower-triangular matrices (of any size)."
   ]
  },
  {
   "cell_type": "code",
   "execution_count": 1,
   "metadata": {
    "collapsed": false
   },
   "outputs": [
    {
     "data": {
      "text/plain": [
       "5x5 Array{Int64,2}:\n",
       " -7   0   0  0  0\n",
       " -5   8   0  0  0\n",
       " -3   5  -2  0  0\n",
       "  3   4  -3  7  0\n",
       " -9  -3   0  0  2"
      ]
     },
     "execution_count": 1,
     "metadata": {},
     "output_type": "execute_result"
    }
   ],
   "source": [
    "L₁ = Matrix(LowerTriangular(rand(-9:9, 5,5)))"
   ]
  },
  {
   "cell_type": "code",
   "execution_count": 2,
   "metadata": {
    "collapsed": false
   },
   "outputs": [
    {
     "data": {
      "text/plain": [
       "5x5 Array{Int64,2}:\n",
       " -7   0   0  0  0\n",
       " -9   1   0  0  0\n",
       " -8  -9   9  0  0\n",
       "  2  -6   5  3  0\n",
       " -1   5  -2  5  1"
      ]
     },
     "execution_count": 2,
     "metadata": {},
     "output_type": "execute_result"
    }
   ],
   "source": [
    "L₂ = Matrix(LowerTriangular(rand(-9:9, 5,5)))"
   ]
  },
  {
   "cell_type": "code",
   "execution_count": 3,
   "metadata": {
    "collapsed": false
   },
   "outputs": [
    {
     "data": {
      "text/plain": [
       "5x5 Array{Int64,2}:\n",
       "  49    0    0   0  0\n",
       " -37    8    0   0  0\n",
       "  -8   23  -18   0  0\n",
       " -19  -11    8  21  0\n",
       "  88    7   -4  10  2"
      ]
     },
     "execution_count": 3,
     "metadata": {},
     "output_type": "execute_result"
    }
   ],
   "source": [
    "L₁ * L₂"
   ]
  },
  {
   "cell_type": "markdown",
   "metadata": {},
   "source": [
    "## Solution\n",
    "\n",
    "The product of two lower triangular matrices is always lower triangular. In fact if $L_1$ and $L_2$ are lower triangular the $(i,j)$ component of $L_1L_2$ is obtaining by the dot product of the $i$-th row of $L_1$ and the $j$-th column of $L_2$. But when $i<j$ (= entries *above* the diagonal), the dot product is always 0, since a nonzero component of the $i$-th row of $L_1$ is always paired with a zero component of the $j$-th column of $L_2$ and vice versa. In formulas:\n",
    "\n",
    "$$ (L_1L_2)_{ij} = \\sum_{k=1}^n (L_1)_{ik}(L_2)_{kj} = \\sum_{k=1}^{j-1} (L_1)_{ik}(L_2)_{kj} + \\sum_{k=j}^n (L_1)_{ik}(L_2)_{kj} = \\sum_{k=1}^{j-1} (L_1)_{ik}\\cdot 0 + \\sum_{k=j}^n 0\\cdot (L_2)_{kj}=0 $$\n",
    "\n",
    "In the $\\sum_{k=1}^{j-1}$, we have $(L_2)_{kj} = 0$ because $k < j$, which corresponds to an entry of $L_2$ above the diagonal.  In the $\\sum_{k=j}^n$, we have $(L_1)_{ik} = 0$ if $i<j$ because $k \\ge j > i$ and hence $(L_1)_{ik}$ is an entry of $L_1$ above the diagonal."
   ]
  },
  {
   "cell_type": "markdown",
   "metadata": {},
   "source": [
    "## Problem 2\n",
    "\n",
    "In this problem, we will see what happens when we think of a matrix as consisting of \"blocks\" that themselves are matrices (\"submatrices\").  In particular, we will compute the product:\n",
    "$$\n",
    "M = \\begin{pmatrix} A & B \\\\ C & D \\end{pmatrix}\n",
    "    \\begin{pmatrix} E & F \\\\ G & H \\end{pmatrix}\n",
    "  = \\begin{pmatrix} M_1 & M_2 \\\\ M_3 & M_4 \\end{pmatrix}\n",
    "$$\n",
    "where $A$, $B$, and so on are $2\\times2$ submatrices.  \n",
    "\n",
    "* The goal is to figure out how to write the entries of $M$ in terms of matrix operations on the submatrices.  In particular, if $M_1$ is the upper-left $2\\times2$ submatrix of $M$, can we write a formula for this in terms of matrix operations on $A$, $B$ and so on?\n",
    "\n",
    "You should figure out a formula and then **try it out on** a randomly generated matrix below to see whether your formula works:"
   ]
  },
  {
   "cell_type": "code",
   "execution_count": 4,
   "metadata": {
    "collapsed": false
   },
   "outputs": [
    {
     "data": {
      "text/plain": [
       "4x4 Array{Int64,2}:\n",
       " -82   28   33    9\n",
       " -49  -64   66  -56\n",
       "  13   59  -46   90\n",
       " -36  -92   73  -71"
      ]
     },
     "execution_count": 4,
     "metadata": {},
     "output_type": "execute_result"
    }
   ],
   "source": [
    "# make random 2x2 submatrices\n",
    "A = rand(-9:9,2,2)\n",
    "B = rand(-9:9,2,2)\n",
    "C = rand(-9:9,2,2)\n",
    "D = rand(-9:9,2,2)\n",
    "E = rand(-9:9,2,2)\n",
    "F = rand(-9:9,2,2)\n",
    "G = rand(-9:9,2,2)\n",
    "H = rand(-9:9,2,2)\n",
    "\n",
    "# compute the matrix M from the product:\n",
    "M = [ A B\n",
    "      C D ] * [ E F\n",
    "                G H ]"
   ]
  },
  {
   "cell_type": "code",
   "execution_count": 5,
   "metadata": {
    "collapsed": false
   },
   "outputs": [
    {
     "data": {
      "text/plain": [
       "2x2 Array{Int64,2}:\n",
       " -82   28\n",
       " -49  -64"
      ]
     },
     "execution_count": 5,
     "metadata": {},
     "output_type": "execute_result"
    }
   ],
   "source": [
    "M₁ = M[1:2, 1:2] # this is the upper-left 2x2 submatrix of M"
   ]
  },
  {
   "cell_type": "markdown",
   "metadata": {
    "collapsed": false
   },
   "source": [
    "Now, can you figure out a formula for $M_1$ in terms of matrix operations on the submatrices of $M$?  For example, is it $A + CF - H$?"
   ]
  },
  {
   "cell_type": "code",
   "execution_count": 6,
   "metadata": {
    "collapsed": false
   },
   "outputs": [
    {
     "data": {
      "text/plain": [
       "2x2 Array{Int64,2}:\n",
       " 41   14\n",
       " 31  -43"
      ]
     },
     "execution_count": 6,
     "metadata": {},
     "output_type": "execute_result"
    }
   ],
   "source": [
    "A + C*F - H # wrong formula -- fix this!"
   ]
  },
  {
   "cell_type": "markdown",
   "metadata": {
    "collapsed": false
   },
   "source": [
    "Nope, that doesn't match $M_1$.   Figure out the correct formula (don't just try things at random...it might help to make a diagram of a row × column operation in computing $M$ and see what submatrices that involves).  Try out your formula in Julia and verify that it works.\n",
    "\n",
    "## Solution\n",
    "\n",
    "The correct formula is"
   ]
  },
  {
   "cell_type": "code",
   "execution_count": 7,
   "metadata": {
    "collapsed": false
   },
   "outputs": [
    {
     "data": {
      "text/plain": [
       "2x2 Array{Int64,2}:\n",
       " -82   28\n",
       " -49  -64"
      ]
     },
     "execution_count": 7,
     "metadata": {},
     "output_type": "execute_result"
    }
   ],
   "source": [
    "A*E+B*G"
   ]
  },
  {
   "cell_type": "markdown",
   "metadata": {},
   "source": [
    "This can be seen  by looking at the definition of matrix multiplication: to compute the entry in the $(i,j)$-th position we compute the dot product of the $i$-th row of the first matrix by the $j$-th column of the second matrix. This is the sum of the dot product of the $i$-th row of $A$ by the $j$-th column of $E$ with the dot product of the $i$-th row of $B$ with the $j$-th column of $G$. More details can be found on the textbook section on block matrices and block multiplication at page 74."
   ]
  },
  {
   "cell_type": "markdown",
   "metadata": {},
   "source": [
    "## Problem 3\n",
    "\n",
    "In this problem, you will do something *like* standard Gaussian elimination, but not in quite the usual way.\n",
    "\n",
    "Suppose we want to solve $Ax = b$ where\n",
    "$$\n",
    "A = \\begin{pmatrix} 1 & 6 & -1 \\\\ -2 & 3 & 4 \\\\ 1 & 0 & -2 \\end{pmatrix} , \\\\\n",
    "b = \\begin{pmatrix} 7 \\\\ 3 \\\\ 0 \\end{pmatrix} .\n",
    "$$\n",
    "\n",
    "Normally, with Gaussian elimination, you would convert $A$ to upper-triangular form $U$, performing the same row operations on $b$ to get $c$, and then finally solve $Ux=c$ for $x$ by backsubstitution (starting from the last equation and working upwards).\n",
    "\n",
    "* **Instead, for this problem,** you should convert the $Ax=b$ to the form $Lx = d$ where $L$ is **lower triangular** (zero *above* the diagonal).  Find $L$, find $d$, and then use this $Lx = d$ equation to solve for $x$.\n",
    "\n",
    "For comparison, we can solve the same equation in Julia by `x = A \\ b`.  This is useful as a check to make sure that you got the correct answer for $x$ in the end:"
   ]
  },
  {
   "cell_type": "code",
   "execution_count": 8,
   "metadata": {
    "collapsed": false
   },
   "outputs": [
    {
     "data": {
      "text/plain": [
       "3x3 Array{Int64,2}:\n",
       "  1  6  -3\n",
       " -2  3   4\n",
       "  1  0  -2"
      ]
     },
     "execution_count": 8,
     "metadata": {},
     "output_type": "execute_result"
    }
   ],
   "source": [
    "A = [ 1  6 -3\n",
    "     -2  3  4\n",
    "      1  0 -2 ]"
   ]
  },
  {
   "cell_type": "code",
   "execution_count": 9,
   "metadata": {
    "collapsed": false
   },
   "outputs": [
    {
     "data": {
      "text/plain": [
       "3-element Array{Int64,1}:\n",
       " 7\n",
       " 3\n",
       " 0"
      ]
     },
     "execution_count": 9,
     "metadata": {},
     "output_type": "execute_result"
    }
   ],
   "source": [
    "b = [7, 3, 0]"
   ]
  },
  {
   "cell_type": "code",
   "execution_count": 10,
   "metadata": {
    "collapsed": false
   },
   "outputs": [
    {
     "data": {
      "text/plain": [
       "3-element Array{Float64,1}:\n",
       " -2.0\n",
       "  1.0\n",
       " -1.0"
      ]
     },
     "execution_count": 10,
     "metadata": {},
     "output_type": "execute_result"
    }
   ],
   "source": [
    "x = A \\ b"
   ]
  },
  {
   "cell_type": "markdown",
   "metadata": {},
   "source": [
    "## Solution\n",
    "\n",
    "We start with the matrix\n",
    "$$ (A|b)=\\left(\\begin{array}{@{}ccc|c@{}} 1 &6& -3& 7\\\\\n",
    "                                         -2 & 3 & 4 &3\\\\\n",
    "                                         1 & 0 & -2 & 0\\end{array}\\right) $$\n",
    "In order to reduce to lower triangular form, add twice the third row to the second and remove $3/2$ times the third row from the first\n",
    "$$ \\left(\\begin{array}{@{}ccc|c@{}} -\\frac{1}{2}  & 6 &  0 & 7\\\\\n",
    "                                   0  & 3 &  0 & 3\\\\\n",
    "                                   1  & 0 & -2 & 0\\end{array}\\right)$$\n",
    "Finally we remove twice the second row from the first\n",
    "$$\\left(\\begin{array}{@{}ccc|c@{}} -\\frac{1}{2}  & 0 &  0 & 1\\\\\n",
    "                                   0  & 3 &  0 & 3\\\\\n",
    "                                   1  & 0 & -2 & 0\\end{array}\\right)$$\n",
    "                                   \n",
    "So we have transformed the system to the equivalent one $Lx=d$ where\n",
    "\n",
    "$$ L = \\begin{pmatrix} -\\frac{1}{2} & 0 & 0\\\\ 0 & 3 & 0 \\\\ 1 & 0 & -2\\end{pmatrix} \\qquad d = \\begin{pmatrix}1\\\\3\\\\0\\end{pmatrix}\\,.$$\n",
    "\n",
    "And we can solve it via backsubstitution: we start with the first equation\n",
    "$$-\\frac{1}{2}x_1 = 1\\Rightarrow x_1=-2$$\n",
    "$$ 3x_2=x_2\\Rightarrow x_2=1 $$\n",
    "$$ x_1-2x_2 = 0 \\Rightarrow x_2=\\frac{1}{2}x_1=-1$$\n",
    "\n",
    "Finally, the solution is\n",
    "$$\\begin{pmatrix}-2 & 1 & -1\\end{pmatrix}\\,.$$"
   ]
  },
  {
   "cell_type": "markdown",
   "metadata": {},
   "source": [
    "## Problem 4\n",
    "\n",
    "In class, we went over standard Gaussian elimination: you subtract rows of a matrix $A$, one by one, to bring it into upper-triangular form.  Sometimes, if we encounter a zero pivot, we can swap rows in order to get a nonzero pivot.   (If we can't do this, then the equations are *singular* and may have no solution.)\n",
    "\n",
    "In principle, as long as we never encounter a zero pivot, this procedure will always work.  In practice, however, if we apply the procedure blindly, we may get disastrous results due to **rounding errors**: a computer, a calculator, or (in olden days) a human doing hand calculation will usually only keep **a fixed number of significant digits** and will discard additional digits (*round*) during calculations.\n",
    "\n",
    "Apply Gaussian elimination to solve the following $Ax = b$ system of equations:\n",
    "$$\n",
    "A = \\begin{pmatrix} 10^{-20} & 1 \\\\ 1 & 1 \\end{pmatrix}, \\\\\n",
    "b = \\begin{pmatrix} 1 \\\\ 0 \\end{pmatrix}\n",
    "$$\n",
    "That is, convert $A$ to upper-triangular form as usual, do the same row operations on $b$, and solve the resulting triangular system for $x$.\n",
    "\n",
    "* What is the *exact* solution $x$?  \n",
    "* If you *round* the result of each operation to *16 significant digits*, what *approximate solution* $\\tilde{x}$ will you get?  (For example, $2 + 10^{-20} \\approx 2$ if you round to 16 significant digits.) How close is it to the exact solution $x$?\n",
    "* Do the same thing (round each operation to 16 digits), but first *swap the first and second rows of the equation* to **maximize the magnitude of the pivot**.  (This is called [partial pivoting](https://en.wikipedia.org/wiki/Pivot_element#Partial_and_complete_pivoting).)  What is the new approximate solution, and how close is it to the exact $x$?\n",
    "\n",
    "(It turns out that *computer arithmetic* ordinarily rounds to about 15–16 digits, so this kind of concern is *very* important when people write computer programs to do linear algebra.)\n",
    "\n",
    "For comparison, the Julia code below implements naive Gaussian elimination (no row re-ordering) and backsubstitution.   Because this is using standard [double precision](https://en.wikipedia.org/wiki/Double-precision_floating-point_format) computer arithmetic, it rounds to about 15–16 decimal digits (technically, 53 binary digits), so its results should be very similar to your results above.  (The following code is **only for informational purposes**; you don't need it to answer the questions above.)"
   ]
  },
  {
   "cell_type": "markdown",
   "metadata": {},
   "source": [
    "## Solution\n",
    "\n",
    "Let us use the Gauss elimination algorithm on the matrix\n",
    "$$\\left(\\begin{array}{@{}cc|c@{}} 10^{-20}  & 1 &  1\\\\\n",
    "                                   1 & 1 & 0\\end{array}\\right) \\Rightarrow\\left(\\begin{array}{@{}cc|c@{}} 10^{-20}  & 1 &  1\\\\\n",
    "                                                                                                          0 & 1-10^{20} & -10^{20}\\end{array}\\right)$$\n",
    "So the exact solution is\n",
    "$$\\begin{pmatrix} -\\frac{10^{20}}{10^{20}-1} & \\frac{10^{20}}{10^{20}-1}\\end{pmatrix}\\approx \\begin{pmatrix}-1 &1\\end{pmatrix}\\,.$$\n",
    "However if we approximate the system after row reduction we get\n",
    "$$\\left(\\begin{array}{@{}cc|c@{}} 10^{-20}  & 1 &  1\\\\\n",
    "                                  0 & -10^{20} & -10^{20}\\end{array}\\right)$$\n",
    "and the solution to the approximate system is\n",
    "$$\\begin{pmatrix} 0 & 1\\end{pmatrix}$$\n",
    "which is very different from the exact solution. This is exactly the solution that `naive_gauss` produces below, because Julia (like most computer programs) performs arithmetic rounded to about 16 decimal places ([\"double precision\"](https://en.wikipedia.org/wiki/Double-precision_floating-point_format)).\n",
    "\n",
    "If we swapped the rows instead we would get\n",
    "$$\\left(\\begin{array}{@{}cc|c@{}} 1 & 1 &  0\\\\\n",
    "                                   10^{-20} & 1 & 1\\end{array}\\right) \\Rightarrow\n",
    " \\left(\\begin{array}{@{}cc|c@{}} 1  & 1 &  0\\\\\n",
    "                                 0 & 1-10^{-20} & 1\\end{array}\\right)\\approx\n",
    " \\left(\\begin{array}{@{}cc|c@{}} 1  & 1 &  0\\\\\n",
    "                                 0 & 1 & 1\\end{array}\\right)\\,.\n",
    "                                 $$\n",
    "The solution to this approximate system is\n",
    "$$\\begin{pmatrix} -1 & 1\\end{pmatrix}$$\n",
    "which is very close to the solution to the exact system.\n",
    "\n",
    "Note that `A \\ b` in Julia produces this (nearly) correct solution. In fact, the Julia solver algorithm (like all serious numerical linear algebra programs) swaps the rows (for *every* column step of Gaussian elimination) so as to obtain the pivot with the largest possible magnitude. This is called *partial pivoting*, and is essential for accuracy.  See also the end of section 2.7 in the textbook, and section 11.1."
   ]
  },
  {
   "cell_type": "code",
   "execution_count": 11,
   "metadata": {
    "collapsed": false
   },
   "outputs": [
    {
     "data": {
      "text/plain": [
       "backsubstitution (generic function with 1 method)"
      ]
     },
     "execution_count": 11,
     "metadata": {},
     "output_type": "execute_result"
    }
   ],
   "source": [
    "\"\"\"\n",
    "    naive_gauss(A)\n",
    "\n",
    "Given a matrix `A`, performs Gaussian elimination to convert\n",
    "`A` into an upper-triangular matrix `U`, and returns the matrix `U`.\n",
    "\n",
    "This implementation is \"naive\" because it *never re-orders the rows*.\n",
    "(It will obviously fail if a zero pivit is encountered.)\n",
    "\"\"\"\n",
    "function naive_gauss(A)\n",
    "    m = size(A,1) # number of rows\n",
    "    U = copy(A)\n",
    "    for j = 1:m   # loop over m columns\n",
    "        for i = j+1:m   # loop over rows below the pivot row j\n",
    "            # subtract a multiple of the pivot row (j)\n",
    "            # from the current row (i) to cancel U[i,j] = Uᵢⱼ:\n",
    "            U[i,:] = U[i,:] - U[j,:] * U[i,j]/U[j,j]\n",
    "        end\n",
    "    end\n",
    "    return U\n",
    "end\n",
    "\n",
    "\"\"\"\n",
    "    backsubstitution(U, c)\n",
    "\n",
    "Given an upper-triangular matrix `U`, return the solution `x` to `U*x=c` by\n",
    "the backsubstitution algorithm.\n",
    "\"\"\"\n",
    "function backsubstitution(U, c)\n",
    "    m = size(U,1)  # number of rows\n",
    "    x = similar(c, typeof(c[1]/U[1,1])) # allocate the solution vector\n",
    "    for i = m:-1:1 # loop over the rows from bottom to top\n",
    "        r = c[i]\n",
    "        for k = i+1:m\n",
    "            r = r - U[i,k]*x[k]\n",
    "        end\n",
    "        x[i] = r / U[i,i]\n",
    "    end\n",
    "    return x\n",
    "end"
   ]
  },
  {
   "cell_type": "markdown",
   "metadata": {},
   "source": [
    "Let's perform naive Gaussian elimination (no row re-ordering) on the matrix $A$ from above.  We'll augment it with an extra column containing the vector $b$, so that the same row operations are performed on $b$:"
   ]
  },
  {
   "cell_type": "code",
   "execution_count": 12,
   "metadata": {
    "collapsed": false
   },
   "outputs": [
    {
     "data": {
      "text/plain": [
       "2x3 Array{Float64,2}:\n",
       " 1.0e-20   1.0      1.0   \n",
       " 0.0      -1.0e20  -1.0e20"
      ]
     },
     "execution_count": 12,
     "metadata": {},
     "output_type": "execute_result"
    }
   ],
   "source": [
    "A = [1e-20 1\n",
    "     1     1]\n",
    "b = [1,0]\n",
    "U = naive_gauss([A b])"
   ]
  },
  {
   "cell_type": "markdown",
   "metadata": {},
   "source": [
    "Now, let's perform backsubstitution to solve $Ux=c$ (where $U$ is the first two columns of the augmented `U` matrix returned by `naive_gauss`, and `c` is the last column):"
   ]
  },
  {
   "cell_type": "code",
   "execution_count": 13,
   "metadata": {
    "collapsed": false
   },
   "outputs": [
    {
     "data": {
      "text/plain": [
       "2-element Array{Float64,1}:\n",
       " 0.0\n",
       " 1.0"
      ]
     },
     "execution_count": 13,
     "metadata": {},
     "output_type": "execute_result"
    }
   ],
   "source": [
    "backsubstitution(U[:,1:2], U[:,3])"
   ]
  },
  {
   "cell_type": "markdown",
   "metadata": {},
   "source": [
    "In comparison, the built-in `\\` solver is a little more clever, and may come up with a different answer:"
   ]
  },
  {
   "cell_type": "code",
   "execution_count": 14,
   "metadata": {
    "collapsed": false
   },
   "outputs": [
    {
     "data": {
      "text/plain": [
       "2-element Array{Float64,1}:\n",
       " -1.0\n",
       "  1.0"
      ]
     },
     "execution_count": 14,
     "metadata": {},
     "output_type": "execute_result"
    }
   ],
   "source": [
    "A \\ b"
   ]
  }
 ],
 "metadata": {
  "anaconda-cloud": {},
  "kernelspec": {
   "display_name": "Julia 0.4.6",
   "language": "julia",
   "name": "julia-0.4"
  },
  "language_info": {
   "file_extension": ".jl",
   "mimetype": "application/julia",
   "name": "julia",
   "version": "0.4.6"
  }
 },
 "nbformat": 4,
 "nbformat_minor": 1
}
