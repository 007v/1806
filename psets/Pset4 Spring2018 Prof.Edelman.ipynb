{
 "cells": [
  {
   "cell_type": "markdown",
   "metadata": {},
   "source": [
    "## Problem 1. The Singular Value Decomposition\n",
    "\n",
    "The \"SVD\" comes too late in this course.  It is the most valuable of all the matrix decompositions.  In mathematics courses, it is the tradition to not introduce something before you prove it exists.  The SVD is too important.\n",
    "\n",
    "One version of the SVD produces \n",
    "    $$ A = U * Diagonal(\\Sigma) * V',$$\n",
    "        where  $U'U=I$, $V'V=I$, $\\Sigma=(\\sigma_1,\\sigma_2,...)$ with $\\sigma_1 \\ge \\sigma_2 \\ge ... \\ge 0$. <br>\n",
    "    $U$ is $m \\times n$ and $V$ is $n \\times n$ if $ m \\ge n$, and <br>\n",
    "    $U$ is $m \\times m$ and $V$ is $m \\times n$ if $ m < n$."
   ]
  },
  {
   "cell_type": "code",
   "execution_count": 30,
   "metadata": {},
   "outputs": [
    {
     "data": {
      "text/plain": [
       "10×5 Array{Float64,2}:\n",
       " -0.388938  -0.289394   -0.1269    -0.41552   -0.304723 \n",
       " -0.295421   0.244984   -0.357539  -0.277457   0.400768 \n",
       " -0.3166     0.434042    0.587881  -0.190939  -0.427111 \n",
       " -0.449512  -0.0445627   0.385952   0.369584   0.453139 \n",
       " -0.26095    0.0148689  -0.432423   0.561583  -0.301595 \n",
       " -0.220396   0.161583   -0.24996   -0.281124   0.291248 \n",
       " -0.192055  -0.228396   -0.203346  -0.20403   -0.336699 \n",
       " -0.21096   -0.30487     0.170236  -0.244345   0.248288 \n",
       " -0.33748   -0.538825    0.101803   0.220631  -0.0260087\n",
       " -0.383675   0.451756   -0.177019   0.181363  -0.0854115"
      ]
     },
     "metadata": {},
     "output_type": "display_data"
    },
    {
     "data": {
      "text/plain": [
       "5-element Array{Float64,1}:\n",
       " 3.65256 \n",
       " 1.20354 \n",
       " 0.773837\n",
       " 0.602511\n",
       " 0.411713"
      ]
     },
     "metadata": {},
     "output_type": "display_data"
    },
    {
     "data": {
      "text/plain": [
       "5×5 Array{Float64,2}:\n",
       " -0.451051  -0.204093   0.780504  -0.381098  -0.0218402\n",
       " -0.408349  -0.179355  -0.317891  -0.119157   0.828148 \n",
       " -0.406905  -0.6974    -0.261223   0.343155  -0.402576 \n",
       " -0.509926   0.444516  -0.418398  -0.469457  -0.38332  \n",
       " -0.451894   0.492155   0.215556   0.708816   0.0684948"
      ]
     },
     "metadata": {},
     "output_type": "display_data"
    },
    {
     "data": {
      "text/plain": [
       "10×5 Array{Float64,2}:\n",
       " -4.44089e-16  -2.22045e-16  -4.44089e-16  -5.55112e-16   1.11022e-16\n",
       "  5.55112e-17  -4.44089e-16  -2.22045e-16  -6.66134e-16  -6.10623e-16\n",
       " -6.66134e-16   2.77556e-16   4.44089e-16  -5.55112e-16  -2.22045e-16\n",
       " -7.77156e-16  -2.22045e-16  -3.33067e-16  -5.55112e-16  -3.33067e-16\n",
       "  2.84495e-16  -5.55112e-16  -4.44089e-16  -5.55112e-16  -1.11022e-16\n",
       "  1.38778e-16  -1.66533e-16  -1.11022e-16  -4.44089e-16  -3.33067e-16\n",
       " -2.22045e-16  -2.77556e-16  -4.44089e-16  -2.22045e-16   2.08167e-17\n",
       " -6.66134e-16  -5.55112e-17  -3.33067e-16  -5.55112e-17   5.55112e-17\n",
       " -7.77156e-16  -6.66134e-16  -9.99201e-16  -3.33067e-16   5.55112e-17\n",
       "  0.0          -4.996e-16    -1.66533e-16  -1.11022e-15  -5.55112e-16"
      ]
     },
     "metadata": {},
     "output_type": "display_data"
    },
    {
     "data": {
      "text/plain": [
       "(nothing, nothing, nothing, nothing)"
      ]
     },
     "execution_count": 30,
     "metadata": {},
     "output_type": "execute_result"
    }
   ],
   "source": [
    "# Try computing an SVD of a tall skinny matrix:\n",
    "\n",
    "A = rand(10,5)\n",
    "U,Σ,V = svd(A)\n",
    "display(U),display(Σ),display(V),display(A-U*diagm(Σ)*V')"
   ]
  },
  {
   "cell_type": "code",
   "execution_count": 31,
   "metadata": {},
   "outputs": [
    {
     "data": {
      "text/plain": [
       "5×5 Array{Float64,2}:\n",
       " -0.449368   0.0422448   0.716492  -0.509862   0.151542\n",
       " -0.548596  -0.505786   -0.159378   0.37427    0.527014\n",
       " -0.508903   0.569193   -0.572755  -0.293755   0.051928\n",
       " -0.354813   0.395461    0.322244   0.685599  -0.379252\n",
       " -0.335017  -0.511885   -0.171315  -0.208867  -0.74348 "
      ]
     },
     "metadata": {},
     "output_type": "display_data"
    },
    {
     "data": {
      "text/plain": [
       "5-element Array{Float64,1}:\n",
       " 3.99872 \n",
       " 1.19042 \n",
       " 0.738197\n",
       " 0.695831\n",
       " 0.472512"
      ]
     },
     "metadata": {},
     "output_type": "display_data"
    },
    {
     "data": {
      "text/plain": [
       "10×5 Array{Float64,2}:\n",
       " -0.377943   0.307923    0.0163094  -0.0160316   0.473816 \n",
       " -0.302328   0.263241    0.535413    0.299321    0.123967 \n",
       " -0.361048  -0.211827   -0.370865   -0.542744   -0.0711562\n",
       " -0.337371  -0.10024    -0.0853192   0.295415    0.253736 \n",
       " -0.369972   0.342021    0.161879   -0.261053   -0.480514 \n",
       " -0.322623  -0.0250424  -0.324337    0.324881   -0.245123 \n",
       " -0.320597   0.256287   -0.341929   -0.0931917   0.195636 \n",
       " -0.174983   0.0465085   0.133769    0.188217   -0.589038 \n",
       " -0.248153  -0.558608   -0.124941    0.42595    -0.0469853\n",
       " -0.292636  -0.532423    0.53519    -0.359261    0.110726 "
      ]
     },
     "metadata": {},
     "output_type": "display_data"
    },
    {
     "data": {
      "text/plain": [
       "5×10 Array{Float64,2}:\n",
       " -3.33067e-16  -2.22045e-16  -2.22045e-16  …   1.38778e-16   3.33067e-16\n",
       " -9.99201e-16  -3.33067e-16  -3.33067e-16     -3.33067e-16  -4.44089e-16\n",
       "  2.22045e-16  -3.33067e-16   1.11022e-16     -3.747e-16    -2.77556e-16\n",
       " -1.44329e-15  -7.77156e-16   1.249e-16        5.55112e-17  -4.44089e-16\n",
       " -5.55112e-17   0.0          -2.22045e-16      0.0          -2.22045e-16"
      ]
     },
     "metadata": {},
     "output_type": "display_data"
    },
    {
     "data": {
      "text/plain": [
       "(nothing, nothing, nothing, nothing)"
      ]
     },
     "execution_count": 31,
     "metadata": {},
     "output_type": "execute_result"
    }
   ],
   "source": [
    "##Try computing an SVD of a short fat matrix:\n",
    "\n",
    "A = rand(5,10)\n",
    "U,Σ,V = svd(A)\n",
    "display(U),display(Σ),display(V),display(A-U*diagm(Σ)*V')"
   ]
  },
  {
   "cell_type": "markdown",
   "metadata": {},
   "source": [
    "We are asking you to execute this at least once and turn it in, but of course you can\n",
    "try to play with the svd a lot more."
   ]
  },
  {
   "cell_type": "markdown",
   "metadata": {},
   "source": [
    "## Problem 2.  Show that if $\\Sigma$ has all positive entries, then every column in $U$ is in the column space of $A$."
   ]
  },
  {
   "cell_type": "markdown",
   "metadata": {},
   "source": [
    "## Problem 3. Show that if $\\Sigma$ has all positive entries, then every column in $A$ is in the column space of $U$."
   ]
  },
  {
   "cell_type": "markdown",
   "metadata": {},
   "source": [
    "## Problem 4. Find a relationship between the nullspace of $A$ and one of the four fundamental subspaces of $V$."
   ]
  },
  {
   "cell_type": "markdown",
   "metadata": {},
   "source": [
    "## Problem 5. Strang Chapter 4.1. Problem 24.\n",
    "\n",
    "Suppose an $n$ by $n$ matrix is invertible: $AA^{-1}=I$.  Then the first column of $A^{-1}$ is orthogonal to the space spanned by which rows of $A$?"
   ]
  },
  {
   "cell_type": "code",
   "execution_count": null,
   "metadata": {
    "collapsed": true
   },
   "outputs": [],
   "source": []
  }
 ],
 "metadata": {
  "kernelspec": {
   "display_name": "Julia 0.6.0",
   "language": "julia",
   "name": "julia-0.6"
  },
  "language_info": {
   "file_extension": ".jl",
   "mimetype": "application/julia",
   "name": "julia",
   "version": "0.6.0"
  }
 },
 "nbformat": 4,
 "nbformat_minor": 2
}
