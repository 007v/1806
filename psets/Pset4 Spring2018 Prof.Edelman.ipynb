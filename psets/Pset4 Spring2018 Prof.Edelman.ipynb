{
 "cells": [
  {
   "cell_type": "markdown",
   "metadata": {},
   "source": [
    "## Problem 1. The Singular Value Decomposition\n",
    "\n",
    "The \"SVD\" comes too late in this course.  It is the most valuable of all the matrix decompositions.  In mathematics courses, it is the tradition to not introduce something before you prove it exists.  The SVD is too important.\n",
    "\n",
    "One version of the SVD produces \n",
    "    $$ A = U * Diagonal(\\Sigma) * V',$$\n",
    "        where  $U'U=I$, $V'V=I$, $\\Sigma=(\\sigma_1,\\sigma_2,...)$ with $\\sigma_1 \\ge \\sigma_2 \\ge ... \\ge 0$. <br>\n",
    "    $U$ is $m \\times n$ and $V$ is $n \\times n$ if $ m \\ge n$, and <br>\n",
    "    $U$ is $m \\times m$ and $V$ is $n \\times m$ if $ m < n$."
   ]
  },
  {
   "cell_type": "code",
   "execution_count": 34,
   "metadata": {},
   "outputs": [
    {
     "data": {
      "text/plain": [
       "10×5 Array{Float64,2}:\n",
       " -0.250856  -0.225274   -0.349132    0.183139    0.362637 \n",
       " -0.137071   0.0431655   0.042008   -0.198897    0.51924  \n",
       " -0.299606   0.0526288  -0.177195    0.136569   -0.202093 \n",
       " -0.305347   0.263416    0.0371519   0.498602   -0.143144 \n",
       " -0.407308   0.0823783   0.19914    -0.577161   -0.307518 \n",
       " -0.455211   0.293036   -0.478864   -0.344634    0.130446 \n",
       " -0.324042  -0.842867   -0.0704558   0.0607748  -0.0523295\n",
       " -0.202171   0.169157   -0.23643     0.360968   -0.362116 \n",
       " -0.295786   0.19102     0.388333    0.270827    0.518186 \n",
       " -0.358887  -0.0839505   0.602437    0.0204637  -0.153578 "
      ]
     },
     "metadata": {},
     "output_type": "display_data"
    },
    {
     "data": {
      "text/plain": [
       "5-element Array{Float64,1}:\n",
       " 3.31304 \n",
       " 1.1468  \n",
       " 0.948346\n",
       " 0.723623\n",
       " 0.560496"
      ]
     },
     "metadata": {},
     "output_type": "display_data"
    },
    {
     "data": {
      "text/plain": [
       "5×5 Array{Float64,2}:\n",
       " -0.389532  -0.531536   -0.643223      0.320622   -0.221809 \n",
       " -0.398397   0.0115393   0.000886768   0.161462    0.902816 \n",
       " -0.419089  -0.513603    0.727609     -0.0220794  -0.175138 \n",
       " -0.405082   0.0506198  -0.229497     -0.883305   -0.0212049\n",
       " -0.591454   0.671555    0.0646448     0.300693   -0.323422 "
      ]
     },
     "metadata": {},
     "output_type": "display_data"
    },
    {
     "data": {
      "text/plain": [
       "10×5 Array{Float64,2}:\n",
       "  5.55112e-16   6.66134e-16   5.27356e-16   5.55112e-17  4.44089e-16\n",
       "  8.32667e-17  -2.22045e-16   0.0          -5.55112e-17  4.16334e-16\n",
       "  2.22045e-16   4.44089e-16   3.88578e-16   2.77556e-16  3.33067e-16\n",
       "  1.11022e-16   3.33067e-16   4.996e-16     1.38778e-17  4.44089e-16\n",
       "  0.0           5.55112e-17   0.0           5.55112e-16  6.66134e-16\n",
       " -2.22045e-16  -1.11022e-16   7.49401e-16   6.66134e-16  3.33067e-16\n",
       "  3.33067e-16   6.10623e-16  -2.22045e-16  -1.11022e-16  1.70003e-16\n",
       "  0.0           3.60822e-16   5.55112e-16   5.55112e-17  3.33067e-16\n",
       "  2.08167e-16   2.22045e-16  -1.11022e-16  -1.94289e-16  7.77156e-16\n",
       "  3.05311e-16   5.55112e-16  -4.44089e-16   1.11022e-16  8.88178e-16"
      ]
     },
     "metadata": {},
     "output_type": "display_data"
    }
   ],
   "source": [
    "# Try computing an SVD of a tall skinny matrix:\n",
    "\n",
    "A = rand(10,5)\n",
    "U,Σ,V = svd(A)\n",
    "display(U),display(Σ),display(V),display(A-U*diagm(Σ)*V');"
   ]
  },
  {
   "cell_type": "code",
   "execution_count": 31,
   "metadata": {},
   "outputs": [
    {
     "data": {
      "text/plain": [
       "5×5 Array{Float64,2}:\n",
       " -0.449368   0.0422448   0.716492  -0.509862   0.151542\n",
       " -0.548596  -0.505786   -0.159378   0.37427    0.527014\n",
       " -0.508903   0.569193   -0.572755  -0.293755   0.051928\n",
       " -0.354813   0.395461    0.322244   0.685599  -0.379252\n",
       " -0.335017  -0.511885   -0.171315  -0.208867  -0.74348 "
      ]
     },
     "metadata": {},
     "output_type": "display_data"
    },
    {
     "data": {
      "text/plain": [
       "5-element Array{Float64,1}:\n",
       " 3.99872 \n",
       " 1.19042 \n",
       " 0.738197\n",
       " 0.695831\n",
       " 0.472512"
      ]
     },
     "metadata": {},
     "output_type": "display_data"
    },
    {
     "data": {
      "text/plain": [
       "10×5 Array{Float64,2}:\n",
       " -0.377943   0.307923    0.0163094  -0.0160316   0.473816 \n",
       " -0.302328   0.263241    0.535413    0.299321    0.123967 \n",
       " -0.361048  -0.211827   -0.370865   -0.542744   -0.0711562\n",
       " -0.337371  -0.10024    -0.0853192   0.295415    0.253736 \n",
       " -0.369972   0.342021    0.161879   -0.261053   -0.480514 \n",
       " -0.322623  -0.0250424  -0.324337    0.324881   -0.245123 \n",
       " -0.320597   0.256287   -0.341929   -0.0931917   0.195636 \n",
       " -0.174983   0.0465085   0.133769    0.188217   -0.589038 \n",
       " -0.248153  -0.558608   -0.124941    0.42595    -0.0469853\n",
       " -0.292636  -0.532423    0.53519    -0.359261    0.110726 "
      ]
     },
     "metadata": {},
     "output_type": "display_data"
    },
    {
     "data": {
      "text/plain": [
       "5×10 Array{Float64,2}:\n",
       " -3.33067e-16  -2.22045e-16  -2.22045e-16  …   1.38778e-16   3.33067e-16\n",
       " -9.99201e-16  -3.33067e-16  -3.33067e-16     -3.33067e-16  -4.44089e-16\n",
       "  2.22045e-16  -3.33067e-16   1.11022e-16     -3.747e-16    -2.77556e-16\n",
       " -1.44329e-15  -7.77156e-16   1.249e-16        5.55112e-17  -4.44089e-16\n",
       " -5.55112e-17   0.0          -2.22045e-16      0.0          -2.22045e-16"
      ]
     },
     "metadata": {},
     "output_type": "display_data"
    },
    {
     "data": {
      "text/plain": [
       "(nothing, nothing, nothing, nothing)"
      ]
     },
     "execution_count": 31,
     "metadata": {},
     "output_type": "execute_result"
    }
   ],
   "source": [
    "##Try computing an SVD of a short fat matrix:\n",
    "\n",
    "A = rand(5,10)\n",
    "U,Σ,V = svd(A)\n",
    "display(U),display(Σ),display(V),display(A-U*diagm(Σ)*V')"
   ]
  },
  {
   "cell_type": "markdown",
   "metadata": {},
   "source": [
    "We are asking you to execute this at least once and turn it in, but of course you can\n",
    "try to play with the svd a lot more."
   ]
  },
  {
   "cell_type": "markdown",
   "metadata": {},
   "source": [
    "## Problem 2.  Show that if $\\Sigma$ has all positive entries, then every column in $U$ is in the column space of $A$."
   ]
  },
  {
   "cell_type": "markdown",
   "metadata": {},
   "source": [
    "## Problem 3. Show that if $\\Sigma$ has all positive entries, then every column in $A$ is in the column space of $U$."
   ]
  },
  {
   "cell_type": "markdown",
   "metadata": {},
   "source": [
    "## Problem 4. Find a relationship between the nullspace of $A$ and one of the four fundamental subspaces of $V$."
   ]
  },
  {
   "cell_type": "markdown",
   "metadata": {},
   "source": [
    "## Problem 5. Strang Chapter 4.1. Problem 24.\n",
    "\n",
    "Suppose an $n$ by $n$ matrix is invertible: $AA^{-1}=I$.  Then the first column of $A^{-1}$ is orthogonal to the space spanned by which rows of $A$?"
   ]
  },
  {
   "cell_type": "code",
   "execution_count": null,
   "metadata": {
    "collapsed": true
   },
   "outputs": [],
   "source": []
  }
 ],
 "metadata": {
  "kernelspec": {
   "display_name": "Julia 0.6.0",
   "language": "julia",
   "name": "julia-0.6"
  },
  "language_info": {
   "file_extension": ".jl",
   "mimetype": "application/julia",
   "name": "julia",
   "version": "0.6.0"
  }
 },
 "nbformat": 4,
 "nbformat_minor": 2
}
