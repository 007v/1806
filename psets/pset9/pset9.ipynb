{
 "cells": [
  {
   "cell_type": "markdown",
   "metadata": {},
   "source": [
    "# 18.06 pset 9\n",
    "\n",
    "Due Wednesday, April 26."
   ]
  },
  {
   "cell_type": "markdown",
   "metadata": {},
   "source": [
    "## Problem 1\n",
    "\n",
    "(For this problem, you might want to review the analysis of Fibonacci numbers from section 6.2 of the text.  You can also google \"Fibonacci matrix\" to find lots of similar info online at various levels of sophistication.)\n",
    "\n",
    "Consider the [\"Tetranacci number\" sequence](https://oeis.org/A000078) $t_n$:\n",
    "\n",
    "$$\n",
    "0, 0, 0, 1, 1, 2, 4, 8, 15, 29, 56, 108, 208, 401, 773, 1490, 2872, 5536, 10671, 20569, 39648, 76424, 147312, 283953, 547337\n",
    "$$\n",
    "\n",
    "The first four terms are $t_1,t_2,t_3,t_4 = 0, 0, 0, 1$, and after that each number is the sum of *four* preceding terms:\n",
    "\n",
    "$$\n",
    "t_n = t_{n-4} + t_{n-3} + t_{n-2} + t_{n-1}\n",
    "$$\n",
    "\n",
    "## (a)\n",
    "\n",
    "Write this *recurrence relation* in matrix form $\\vec{t}_n = A \\vec{t}_{n-1}$ where $\\vec{t}_n = (t_n, t_{n-1}, t_{n-2}, t_{n-3})$ for some matrix $A$.\n",
    "\n",
    "Check that you have the right matrix by computing `A^16 * [1,0,0,0]` in Julia and comparing to the sequence terms given above.  (Make sure that you compare to the right terms.  Which terms should this give?)\n",
    "\n",
    "## (b)\n",
    "\n",
    "Find the eigenvalues of $A$ numerically via `eigvals(A)`.  Using these, predict the what the ratio $t_n / t_{n-1}$ tends to for large $n$.\n",
    "\n",
    "Check your answer from numerically by computing `t = big(A)^n * [1,0,0,0]` in Julia to get the $\\vec{t}_{n+4}$ vector for a large-ish $n$, and hence the ratio $t_{n+4} / t_{n+3}$ = `t[1]/t[2]`.   (Doesn't need to be too big because of the exponential growth.  Here, the `big` function is used to tell Julia to switch to slow [arbitrary-precision numbers](https://en.wikipedia.org/wiki/Arbitrary-precision_arithmetic) so that you don't run out of digits when $n$ gets big.)"
   ]
  },
  {
   "cell_type": "markdown",
   "metadata": {},
   "source": [
    "## Problem 2\n",
    "\n",
    "(From Strang, section 6.4, problem 18.)\n",
    "\n",
    "Let $A$ be some real rectangular (possibly non-square) matrix.  The block matrix\n",
    "$$S = \\begin{pmatrix} 0 & A \\\\ A^T & 0 \\end{pmatrix}$$\n",
    "is real-symmetric (where \"0\" denotes a block of zeros).  Consider the (real) eigenvalues λ and eigenvectors $x = (y,z)$ of S, satisfying $Sx = \\lambda x$:\n",
    "\n",
    "$$\n",
    "Sx = \\underbrace{\\begin{pmatrix} 0 & A \\\\ A^T & 0 \\end{pmatrix}}_S \\underbrace{\\begin{pmatrix} y \\\\ z \\end{pmatrix}}_x = \\lambda \\begin{pmatrix} y \\\\ z \\end{pmatrix} = \\lambda x\n",
    "$$\n",
    "\n",
    "**(a)** If $A$ is $m\\times n$, how big are the vectors $y$ and $z$, and how big are the two blocks of 0's in $S$?\n",
    "\n",
    "**(b)** Show that $-\\lambda$ is also an eigenvalue, with eigenvector $(y,-z)$.\n",
    "\n",
    "Check this for a random $3\\times 4$ matrix `A = randn(3,4)`, with `S = [ zeros(3,3) A; A' zeros(4,4)]`.  Compute `eigvals(S)`: does it match your prediction?\n",
    "\n",
    "**(c)** Show that $A^TAz = \\lambda^2 z$, so that $\\lambda^2$ is an eigenvalue of $A^T A$.  Check this via `eigvals(A'*A)`.\n",
    "\n",
    "**(d)** If $A = I$ ($2 \\times 2$), find all four eigenvectors and eigenvalues of $S$."
   ]
  },
  {
   "cell_type": "markdown",
   "metadata": {},
   "source": [
    "## Problem 3\n",
    "\n",
    "(From Strang, section 6.4, problem 33.)\n",
    "\n",
    "Suppose $A^T = -A$, a real *antisymmetric* matrix (also called *skew-symmetric*).   Form a random real antisymmetric $5\\times 5$ matrix in Julia via `A = randn(5,5); A = A - A'`.\n",
    "\n",
    "Explain the following facts about $A$, *and* check each fact numerically for your random `A` matrix:\n",
    "\n",
    "**(a)** $x^T A x = 0$ for every real vector $x$.  (Try `x'*A*x` in Julia with `x = randn(5)`.)\n",
    "\n",
    "**(b)** The eigenvalues of $A$ (`eigvals(A)`) are purely imaginary.\n",
    "\n",
    "**(c)** The determinant of $A$ (`det(A)`) is positive or zero (not negative).\n",
    "\n",
    "**(d)** If you solve $dx/dt = Ax$ for any initial condition $x(0)$, then the length of $x$ is conserved: $\\Vert x(t) \\Vert = \\Vert x(0) \\Vert$ for all $t$.    (In Julia, compare `norm(expm(A*t)*x)` to `norm(x)` for various `t`.)"
   ]
  }
 ],
 "metadata": {
  "anaconda-cloud": {},
  "kernelspec": {
   "display_name": "Julia 0.5.0",
   "language": "julia",
   "name": "julia-0.5"
  },
  "language_info": {
   "file_extension": ".jl",
   "mimetype": "application/julia",
   "name": "julia",
   "version": "0.5.1"
  }
 },
 "nbformat": 4,
 "nbformat_minor": 1
}
