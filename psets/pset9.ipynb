{
 "cells": [
  {
   "cell_type": "markdown",
   "metadata": {},
   "source": [
    "# 18.06 pset 9 (due Wed 11/8 @11am)"
   ]
  },
  {
   "cell_type": "markdown",
   "metadata": {},
   "source": [
    "## Problem 1 (10 points)\n",
    "\n",
    "The trace of an $m\\times m$ matrix $A$ is the sum of the diagonal elements:\n",
    "$$\n",
    "\\operatorname{trace} A = \\sum_{i=1}^m a_{ii}\n",
    "$$\n",
    "where $a_{ij}$ is the entry in the i-th row and j-th column of $A$.\n",
    "\n",
    "In class, I claimed that $\\operatorname{trace}(AB) = \\operatorname{trace}(BA)$.  Show this, using the formula $\\sum_{k=1}^m a_{ik} b_{kj}$ for the (i,j) entry of $AB$ from lecture 2.  (You should be able to see a similar formula for the entries of BA.)"
   ]
  },
  {
   "cell_type": "markdown",
   "metadata": {},
   "source": [
    "## Problem 2 (3+5+3+3+5+5 points)\n",
    "\n",
    "Suppose we have the sequence of numbers\n",
    "\n",
    "$$\n",
    "s_1, s_2, s_3, \\ldots = 0, 0, 1, 1, 2, 1, 1, -2, -3, -7, -6, -7, 1, 6, 21, 25, 34, 17, 1, -50, -83, -135, -118\n",
    "$$\n",
    "\n",
    "defined by the **linear recurrence relation** $$s_{n+1} = s_{n} + s_{n-1} - 2 s_{n-2}$$ and the starting three values 0,0,1.\n",
    "\n",
    "Similar to the Fibonacci example in the textbook, we can express this sequence in matrix form by \n",
    "\n",
    "$$\n",
    "\\underbrace{\\begin{pmatrix} s_{n+1} \\\\ s_{n} \\\\ s_{n-1} \\end{pmatrix}}_{x_{n+1}} = S \\underbrace{\\begin{pmatrix} s_{n} \\\\ s_{n-1} \\\\ s_{n-2} \\end{pmatrix}}_{x_{n}}\n",
    "$$\n",
    "\n",
    "for some matrix $S$, where have defined the 3-component vectors $x_n$ to hold 3 consecutive elements of the sequence.\n",
    "\n",
    "**(a)** What is the matrix S?\n",
    "\n",
    "**(b)** If λ is an eigenvalue of S, explain why $\\begin{pmatrix} \\lambda^2 \\\\ \\lambda \\\\ 1\\end{pmatrix}$ must be the corresponding eigenvector.  (Hint: look at the last two rows when you multiply S times some vector (a,b,c), if that vector is an eigenvector.)  By looking at the first row of $S$ times this eigenvector, what must the characteristic polynomial of $S$ be?\n",
    "\n",
    "**(c)** Using Julia, compute the eigenvalues λ of $S$ by `eigvals(S)`.  Also compute |λ| by `abs.(eigvals(S))` — this will be helpful below.\n",
    "\n",
    "**(d)** If the three eigenvalues are $\\lambda_1$, $\\lambda_2$, $\\lambda_3$, write down a matrix equation (in terms of $\\lambda_1$, $\\lambda_2$, $\\lambda_3$) to expand the initial vector $x_3 = \\begin{pmatrix} 1 \\\\ 0 \\\\ 0 \\end{pmatrix}$ in the basis of eigenvectors.  That is, we want to find the coefficients $c_1,c_2,c_3$ in:\n",
    "$$\n",
    "x_3 = c_1 \\begin{pmatrix} \\lambda_1^2 \\\\ \\lambda_1 \\\\ 1 \\end{pmatrix} + c_2 \\begin{pmatrix} \\lambda_2^2 \\\\ \\lambda_2 \\\\ 1 \\end{pmatrix} + c_3 \\begin{pmatrix} \\lambda_3^2 \\\\ \\lambda_3 \\\\ 1 \\end{pmatrix}\n",
    "$$\n",
    "Solve this equation for $c_1,c_2,c_3$ (give numbers) by entering your matrix into Julia.  You should find that two of the coefficients are [complex conjugates](https://en.wikipedia.org/wiki/Complex_conjugate).  Why?\n",
    "\n",
    "**(e)** Give an explicit formula for $s_n$, for $n \\ge 3$.  You can leave your answer in terms of  $\\lambda_1$, $\\lambda_2$, $\\lambda_3$ and $c_1,c_2,c_3$.\n",
    "\n",
    "**(f)** Using this information, explain *qualitatively* why the sequence $s_1,s_2,\\ldots$ seems to **both oscillate and grow**.  What does |λ| tell you about how fast it grows for large n?\n",
    "\n",
    "(Reminder: if you write a complex number $z$ in polar form $z=r^{i\\theta}$, then $z^n = r^{i\\theta n} = r\\cos(\\theta n) + i r\\sin(\\theta n)$ via [Euler's formula](https://en.wikipedia.org/wiki/Euler%27s_formula).)\n",
    "\n",
    "In case it is helpful, here is Julia code to compute some more terms in the sequence:"
   ]
  },
  {
   "cell_type": "code",
   "execution_count": null,
   "metadata": {},
   "outputs": [],
   "source": [
    "function sequence(n)\n",
    "    s = BigInt[0,0,1] # use bigints so that we don't overflow the max integer\n",
    "    for i = 4:n\n",
    "        push!(s, s[end] + s[end-1] - 2s[end-2])\n",
    "    end\n",
    "    return s\n",
    "end\n",
    "println(sequence(100))"
   ]
  },
  {
   "cell_type": "markdown",
   "metadata": {},
   "source": [
    "## Problem 3 (5+5+5+5 points)\n",
    "\n",
    "*(Although you are encouraged to use Julia to check your answers for this question, your solutions should explain your answers analytically.)*\n",
    "\n",
    "The following matrix $M$ is a Markov matrix (its columns sum to 1):\n",
    "$$\n",
    "M=\\begin{pmatrix}\n",
    "0.3 & 0.4 & 0.5\\\\\n",
    "0.3 & 0.4 & 0.3\\\\\n",
    "0.4 & 0.2 & 0.2\n",
    "\\end{pmatrix}\n",
    "$$\n",
    "\n",
    "and its steady-state eigenvector ($\\lambda=1$) is $s = \\begin{pmatrix}\n",
    "7/18\\\\\n",
    "1/3\\\\\n",
    "5/18\n",
    "\\end{pmatrix}$.  (Normalized so that the components of $s$ sum to 1.)\n",
    "\n",
    "**(a)** If we let $x = \\begin{pmatrix} 2 \\\\ 0 \\\\ 0 \\end{pmatrix}$, what vector does $M^n x$ approach as $n \\to \\infty$, and why?  (Give the correct magnitude and direction!)\n",
    "\n",
    "**(b)** For the same $x$, in what direction does $(M^T)^n x$ point as $n\\to\\infty$?  (You don't need to give the correct *magnitude*, just give a vector in the correct *direction*.)\n",
    "\n",
    "**(c)** Multiplying $M^T x$ does *not* preserve the *sum* of the components of $x$, but it does preserve *some* linear combination of the components.  i.e. there is some $v\\ne 0$ such that $v^T M^T x = v^T x$ for all $x$.  Give one such $v$.\n",
    "\n",
    "**(d)** Using your answer from (c), give a more exact answer to (b): give the *exact* vector (including magnitude) that $(M^T)^n x$ tends to as $n\\to \\infty$."
   ]
  },
  {
   "cell_type": "code",
   "execution_count": null,
   "metadata": {},
   "outputs": [],
   "source": [
    "M = [0.3 0.4 0.5\n",
    "     0.3 0.4 0.3\n",
    "     0.4 0.2 0.2]\n",
    "s = [7/18, 1/3, 5/18]\n",
    "\n",
    "# check steady state:\n",
    "(M - I) * s"
   ]
  }
 ],
 "metadata": {
  "kernelspec": {
   "display_name": "Julia 0.6.0",
   "language": "julia",
   "name": "julia-0.6"
  },
  "language_info": {
   "file_extension": ".jl",
   "mimetype": "application/julia",
   "name": "julia",
   "version": "0.6.0"
  }
 },
 "nbformat": 4,
 "nbformat_minor": 2
}
