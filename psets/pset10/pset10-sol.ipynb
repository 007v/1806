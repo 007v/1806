{
 "cells": [
  {
   "cell_type": "markdown",
   "metadata": {},
   "source": [
    "# 18.06 Pset 10 - Solutions\n"
   ]
  },
  {
   "cell_type": "markdown",
   "metadata": {},
   "source": [
    "## Problem 1\n",
    "\n",
    "(From Strang, section 6.5, problem 15.)\n",
    "\n",
    "Show that if $m\\times m$ matrices $S$ and $T$ are positive-definite, then $S + T$ is positive-definite.  (Use one of the tests for positive-definiteness, from lecture or from the book.)\n",
    "\n",
    "### Solution\n",
    "If $S,T$ are positive definite, then for all nonzero $x$ $x^HSx>0$ and $x^HTx>0$. In particular\n",
    "$$ x^H(S+T)x=x^HSx+x^HTx>0$$\n",
    "So $S+T$ is also positive definite.\n",
    "\n",
    "## Problem 2\n",
    "\n",
    "In class, we showed that a line of $n$ identical masses connected $n+1$ springs (anchored at the two ends) leads to an ODE of the form:\n",
    "\n",
    "$$\n",
    "\\ddot{x} = -D^T W D x\n",
    "$$\n",
    "\n",
    "where $x$ is the vector of the $n$ displacements of the masses, $W$ is a diagonal matrix of the spring constants $k_j$ divided by the masses, $D$ is an $(n+1)\\times n$ incidence matrix (which we proved is full column rank in class):\n",
    "\n",
    "$$\n",
    "D = \\begin{pmatrix} 1 & & & & \\\\\n",
    "                    -1 & 1 & & & \\\\\n",
    "                    & -1 & 1 & & \\\\\n",
    "                    & & \\ddots & \\ddots & \\\\\n",
    "                    & & & -1 & 1 \\\\\n",
    "                    & & & & -1 \\end{pmatrix} \\; .\n",
    "$$\n",
    "\n",
    "The fact that $A = D^T W D$ is positive-definite was crucial, because this meant that the *oscillation frequencies* $\\omega = \\sqrt{\\lambda}$ of the vibrating \"modes\" of the system were *real* (hence, the masses oscillate, they don't exponentially grow or decay).\n",
    "\n",
    "Now, suppose we attack the *same* problem, but the masses are *not* identical.  In this case, it is easy to repeat the derivation (*you don't need to*) and show that we get equations of the form:\n",
    "\n",
    "$$\n",
    "\\ddot{x} = - M ^{-1} D^T K D x\n",
    "$$\n",
    "\n",
    "where $M$ is the diagonal matrix of the $n$ (positive) masses $m_1,m_2,\\ldots,m_n$ and $K$ is the diagonal matrix of the $n+1$ (positive) spring constants $k_1,k_2,\\ldots,k_{n+1}$.  This matrix $M ^{-1} D^T K D$ is *not* symmetric, so at first you might be worried that you could get complex eigenvalues, and hence (physically impossible) exponentially growing or decaying solutions.\n",
    "\n",
    "### (a)\n",
    "\n",
    "Show that if you do a **change of variables** $y = S x$, where $S$ is some **diagonal matrix**, then you get an equation $\\ddot{y} = - A y$ where $A$ is real-symmetric positive-definite (and hence you get real oscillating frequencies $\\omega = \\sqrt{\\lambda}$  exactly as in class).\n",
    "\n",
    "Hint: $S$ is a diagonal matrix involving the *square roots* of the masses.\n",
    "\n",
    "### (b)\n",
    "\n",
    "Show that your matrix $A$ is **similar** to $M ^{-1} D^T K D$, so that the latter also must have real eigenvalues.\n",
    "\n",
    "### (c)\n",
    "\n",
    "The following code generates 20 random masses and 21 random spring constants, and computes the eigenvalues of $M ^{-1} D^T K D$.\n",
    "\n",
    "Add another line to compute the eigenvalues of your matrix $A$ from (a), and verify that the eigenvalues are the same.   Note: to create a diagonal matrix of the square roots of the masses in Julia, you can do `diagm(sqrt.(m))`."
   ]
  },
  {
   "cell_type": "code",
   "execution_count": 1,
   "metadata": {
    "collapsed": false
   },
   "outputs": [
    {
     "data": {
      "text/plain": [
       "20-element Array{Float64,1}:\n",
       " 378.393    \n",
       "  22.7784   \n",
       "   7.19492  \n",
       "   6.99004  \n",
       "   4.6874   \n",
       "   4.36002  \n",
       "   4.29697  \n",
       "   4.0479   \n",
       "   2.95292  \n",
       "   2.09382  \n",
       "   1.37472  \n",
       "   1.23118  \n",
       "   0.0101793\n",
       "   0.0575899\n",
       "   0.232484 \n",
       "   0.92327  \n",
       "   0.838373 \n",
       "   0.379284 \n",
       "   0.515733 \n",
       "   0.60174  "
      ]
     },
     "execution_count": 1,
     "metadata": {},
     "output_type": "execute_result"
    }
   ],
   "source": [
    "m = rand(20) # 20 random masses between 0 and 1\n",
    "k = rand(21) # 21 random spring constants between 0 and 1\n",
    "M = diagm(m) # diagonal matrix of the masses\n",
    "K = diagm(k) # diagonal matrix of the spring constants\n",
    "o = ones(20); D = full(spdiagm((o,-o),(0,-1),21,20)) # the 21×20 D matrix\n",
    "eigvals(M \\ D' * K * D)"
   ]
  },
  {
   "cell_type": "code",
   "execution_count": 2,
   "metadata": {
    "collapsed": false
   },
   "outputs": [
    {
     "ename": "LoadError",
     "evalue": "syntax: colon expected in \"?\" expression",
     "output_type": "error",
     "traceback": [
      "syntax: colon expected in \"?\" expression",
      ""
     ]
    }
   ],
   "source": [
    "eigvals(???) # fix this"
   ]
  },
  {
   "cell_type": "markdown",
   "metadata": {},
   "source": [
    "### Solutions\n",
    "#### (a)\n",
    "After doing a change of variable $y=Sx$, that is $x=S^{-1}y$, the equation becomes\n",
    "$$ S^{-1}\\ddot{y}=-M^{-1}D^TKDS^{-1}y\\Leftrightarrow \\ddot{y} = - SM^{-1}D^TKDS^{-1}y$$\n",
    "So we need the matrix $A=SM^{-1}D^TKDS^{-1}$ to be symmetric. That is\n",
    "$$ SM^{-1}D^TKDS^{-1}=(SM^{-1}D^TKDS^{-1})^T = (S^T)^{-1}D^TKDM^{-1}S^T$$\n",
    "So it is enough to have $M^{-1}S^T=S^{-1}$ or, equivalently, $M=S^TS$. Since $M$ is a diagonal matrix with positive diagonal entries it is enough to choose $S$ diagonal where the diagonal entries of $S$ are the square roots of the diagonal entries of $M$ (that is the masses). Then, substituting $M=S^TS$ we get\n",
    "$$ A = SM^{-1}D^TKDS^{-1} = SS^{-1}(S^{-1})^TD^TKDS^{-1} = (DS^{-1})^TK(DS^{-1})$$\n",
    "which is clearly symmetric. It only remains to check that it is definite positive. Now let $v$ be a nonzero real vector, we need to check $v^TAv>0$. But\n",
    "$$ v^TAv = v^T(DS^{-1})^TK(DS^{-1})v = (DS^{-1}v)^TK(DS^{-1}v)>0$$\n",
    "since $DS^{-1}v$ is a nonzero vector and $K$ is definite positive.\n",
    "#### (b)\n",
    "Our matrix $A$ was defined as\n",
    "$$A=S(M^{-1}D^TKD)S^{-1}$$\n",
    "and it is plainly similar to $M^{-1}D^TKD$ (with similarity matrix $S^{-1}$).\n",
    "\n",
    "#### (c)\n",
    "By using the formula $A=S^{-1}D^TKDS^{-1}$ we have"
   ]
  },
  {
   "cell_type": "code",
   "execution_count": 3,
   "metadata": {
    "collapsed": false
   },
   "outputs": [
    {
     "data": {
      "text/plain": [
       "20-element Array{Float64,1}:\n",
       " 378.393    \n",
       "  22.7784   \n",
       "   7.19492  \n",
       "   6.99004  \n",
       "   4.6874   \n",
       "   4.0479   \n",
       "   4.36002  \n",
       "   4.29697  \n",
       "   2.95292  \n",
       "   2.09382  \n",
       "   1.37472  \n",
       "   1.23118  \n",
       "   0.0101793\n",
       "   0.0575899\n",
       "   0.232484 \n",
       "   0.92327  \n",
       "   0.838373 \n",
       "   0.379284 \n",
       "   0.515733 \n",
       "   0.60174  "
      ]
     },
     "execution_count": 3,
     "metadata": {},
     "output_type": "execute_result"
    }
   ],
   "source": [
    "S=diagm(sqrt.(m))\n",
    "eigvals(inv(S) *  D' * K * D * inv(S))\n"
   ]
  },
  {
   "cell_type": "markdown",
   "metadata": {},
   "source": [
    "which coincides with the answer for $M^{-1}D^TKD$."
   ]
  },
  {
   "cell_type": "code",
   "execution_count": null,
   "metadata": {
    "collapsed": true
   },
   "outputs": [],
   "source": []
  }
 ],
 "metadata": {
  "anaconda-cloud": {},
  "kernelspec": {
   "display_name": "Julia 0.5.1",
   "language": "julia",
   "name": "julia-0.5"
  },
  "language_info": {
   "file_extension": ".jl",
   "mimetype": "application/julia",
   "name": "julia",
   "version": "0.5.1"
  }
 },
 "nbformat": 4,
 "nbformat_minor": 2
}
