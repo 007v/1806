{
 "cells": [
  {
   "cell_type": "markdown",
   "metadata": {},
   "source": [
    "# 18.06 Pset 10\n",
    "\n",
    "Due Wednesday, 5/3.  (Note that 18.06 exam 3 is on Friday, 5/5; see the [course page](https://github.com/stevengj/1806-spring17/blob/master/summaries.md) for topics.)"
   ]
  },
  {
   "cell_type": "markdown",
   "metadata": {},
   "source": [
    "## Problem 1\n",
    "\n",
    "(From Strang, section 6.5, problem 15.)\n",
    "\n",
    "Show that if $m\\times m$ matrices $S$ and $T$ are positive-definite, then $S + T$ is positive-definite.  (Use one of the tests for positive-definiteness, from lecture or from the book.)\n",
    "\n",
    "## Problem 2\n",
    "\n",
    "In class, we showed that a line of $n$ identical masses connected $n+1$ springs (anchored at the two ends) leads to an ODE of the form:\n",
    "\n",
    "$$\n",
    "\\ddot{x} = -D^T W D x\n",
    "$$\n",
    "\n",
    "where $x$ is the vector of the $n$ displacements of the masses, $W$ is a diagonal matrix of the spring constants $k_j$ divided by the masses, $D$ is an $(n+1)\\times n$ incidence matrix (which we proved is full column rank in class):\n",
    "\n",
    "$$\n",
    "D = \\begin{pmatrix} 1 & & & & \\\\\n",
    "                    -1 & 1 & & & \\\\\n",
    "                    & -1 & 1 & & \\\\\n",
    "                    & & \\ddots & \\ddots & \\\\\n",
    "                    & & & -1 & 1 \\\\\n",
    "                    & & & & -1 \\end{pmatrix} \\; .\n",
    "$$\n",
    "\n",
    "The fact that $A = D^T W D$ is positive-definite was crucial, because this meant that the *oscillation frequencies* $\\omega = \\sqrt{\\lambda}$ of the vibrating \"modes\" of the system were *real* (hence, the masses oscillate, they don't exponentially grow or decay).\n",
    "\n",
    "Now, suppose we attack the *same* problem, but the masses are *not* identical.  In this case, it is easy to repeat the derivation (*you don't need to*) and show that we get equations of the form:\n",
    "\n",
    "$$\n",
    "\\ddot{x} = - M ^{-1} D^T K D x\n",
    "$$\n",
    "\n",
    "where $M$ is the diagonal matrix of the $n$ (positive) masses $m_1,m_2,\\ldots,m_n$ and $K$ is the diagonal matrix of the $n+1$ (positive) spring constants $k_1,k_2,\\ldots,k_{n+1}$.  This matrix $M ^{-1} D^T K D$ is *not* symmetric, so at first you might be worried that you could get complex eigenvalues, and hence (physically impossible) exponentially growing or decaying solutions.\n",
    "\n",
    "### (a)\n",
    "\n",
    "Show that if you do a **change of variables** $y = S x$, where $S$ is some **diagonal matrix**, then you get an equation $\\ddot{y} = - A y$ where $A$ is real-symmetric positive-definite (and hence you get real oscillating frequencies $\\omega = \\sqrt{\\lambda}$  exactly as in class).\n",
    "\n",
    "Hint: $S$ is a diagonal matrix involving the *square roots* of the masses.\n",
    "\n",
    "### (b)\n",
    "\n",
    "Show that your matrix $A$ is **similar** to $M ^{-1} D^T K D$, so that the latter also must have real eigenvalues.\n",
    "\n",
    "### (c)\n",
    "\n",
    "The following code generates 20 random masses and 21 random spring constants, and computes the eigenvalues of $M ^{-1} D^T K D$.\n",
    "\n",
    "Add another line to compute the eigenvalues of your matrix $A$ from (a), and verify that the eigenvalues are the same.   Note: to create a diagonal matrix of the square roots of the masses in Julia, you can do `diagm(sqrt.(m))`."
   ]
  },
  {
   "cell_type": "code",
   "execution_count": null,
   "metadata": {},
   "outputs": [],
   "source": [
    "m = rand(20) # 20 random masses between 0 and 1\n",
    "k = rand(21) # 21 random spring constants between 0 and 1\n",
    "M = diagm(m) # diagonal matrix of the masses\n",
    "K = diagm(k) # diagonal matrix of the spring constants\n",
    "o = ones(20); D = full(spdiagm((o,-o),(0,-1),21,20)) # the 21×20 D matrix\n",
    "eigvals(M \\ D' * K * D)"
   ]
  },
  {
   "cell_type": "code",
   "execution_count": null,
   "metadata": {
    "collapsed": true
   },
   "outputs": [],
   "source": [
    "eigvals(???) # fix this"
   ]
  }
 ],
 "metadata": {
  "anaconda-cloud": {},
  "kernelspec": {
   "display_name": "Julia 0.5.0",
   "language": "julia",
   "name": "julia-0.5"
  },
  "language_info": {
   "file_extension": ".jl",
   "mimetype": "application/julia",
   "name": "julia",
   "version": "0.5.0"
  }
 },
 "nbformat": 4,
 "nbformat_minor": 2
}
