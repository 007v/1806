{
 "cells": [
  {
   "cell_type": "code",
   "execution_count": 1,
   "metadata": {},
   "outputs": [
    {
     "data": {
      "text/plain": [
       "f (generic function with 1 method)"
      ]
     },
     "execution_count": 1,
     "metadata": {},
     "output_type": "execute_result"
    }
   ],
   "source": [
    "function f(x₁, x₂, x₃)\n",
    "    y₁ = B₁₁*x₁  + B₁₂*x₂ + B₁₃*x₃\n",
    "    y₂ = B₂₁*x₁  + B₂₂*x₂ + B₂₃*x₃ + M₂₁*y₁\n",
    "    y₃ = B₃₁*x₁  + B₃₂*x₂ + B₃₃*x₃ + M₃₁*y₁ + M₃₂*y₂\n",
    "    return(y₃)\n",
    "end "
   ]
  },
  {
   "cell_type": "markdown",
   "metadata": {},
   "source": [
    "A very good 18.06 student sees the above computation of the number y₃ in terms of the three numbers x₁, x₂, x₃ and says excitedly, I can turn this into linear algebra notation!\n",
    "\n",
    "Letting B be the obvious 3x3 matrix, and M the fairly obvious [strictly lower triangular matrix](https://en.wikipedia.org/wiki/Triangular_matrix#Strictly_triangular_matrix), and x and y being 3-vectors,  write down an\n",
    "equation with y on the left, and B,x,M, and y on the right.\n",
    "<br><br><br><br><br><br><br><br><br>"
   ]
  },
  {
   "cell_type": "markdown",
   "metadata": {},
   "source": [
    "Solve for y in the equation above using I and inverse as appropriate.\n",
    "    <br><br><br><br><br><br><br><br><br>"
   ]
  },
  {
   "cell_type": "markdown",
   "metadata": {},
   "source": [
    "If one focuses on the y variables, we recognize that the computational steps above are really\n",
    "computing ___________________ substitution using the matrix ______________."
   ]
  },
  {
   "cell_type": "markdown",
   "metadata": {},
   "source": [
    "Write y₃ as w⋅x (dot product), where w is in terms of M,B and e=[0,0,1].\n",
    "<br><br><br><br><br><br><br><br>"
   ]
  },
  {
   "cell_type": "markdown",
   "metadata": {},
   "source": [
    "There is nothing special about 3 here, we could have had 3 million.  Consider two ways to compute w and figure out which is more efficient.\n",
    "\n",
    "<br>\n",
    "Comment for those interested:  The slower way is known as forward mode automatic differentiation in machine learning, and the faster way is backward mode.  We are in disguise computing the gradient of $y_3$ as a function of $x$, and even if the steps were nonlinear, the derivatives would be linear."
   ]
  },
  {
   "cell_type": "code",
   "execution_count": null,
   "metadata": {
    "collapsed": true
   },
   "outputs": [],
   "source": []
  }
 ],
 "metadata": {
  "kernelspec": {
   "display_name": "Julia 0.6.0",
   "language": "julia",
   "name": "julia-0.6"
  },
  "language_info": {
   "file_extension": ".jl",
   "mimetype": "application/julia",
   "name": "julia",
   "version": "0.6.0"
  }
 },
 "nbformat": 4,
 "nbformat_minor": 2
}
