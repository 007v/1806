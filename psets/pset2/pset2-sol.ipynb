{
 "cells": [
  {
   "cell_type": "markdown",
   "metadata": {},
   "source": [
    "# Problem Set 2 - Solutions"
   ]
  },
  {
   "cell_type": "markdown",
   "metadata": {},
   "source": [
    "## Problem 1\n",
    "\n",
    "(From Strang, section 2.2, problem 25.)\n",
    "$$\n",
    "A = \\begin{pmatrix} a & 2 & 3 \\\\ a & a & 4 \\\\ a & a & a \\end{pmatrix}?\n",
    "$$\n",
    "For which three numbers $a$ will elimination fail to give three pivots for this matrix?  That is, for which values of $a$ is this matrix *singular*?"
   ]
  },
  {
   "cell_type": "markdown",
   "metadata": {},
   "source": [
    "#### Solution\n",
    "\n",
    "First of all, if $a=0$ the matrix is already upper triangular and it has two pivots. So the matrix is singular for $a=0$. Now, supposet $a\\neq 0$. Then we can subtract the first row from the second and the third, thus getting\n",
    "$$\n",
    "\\begin{pmatrix} a & 2 & 3\\\\ 0 & a-2 & 1 \\\\ 0 & a-2 & a-3\\end{pmatrix}\n",
    "$$\n",
    "As before, if $a=2$ the matrix is upper triangular with only two pivots and so is singular. Let us now assume $a\\neq 2$. So we can subtract the second from the third and get\n",
    "$$\n",
    "\\begin{pmatrix} a & 2 & 3\\\\ 0 & a-2 & 1 \\\\ 0 & 0 & a-4\\end{pmatrix}\n",
    "$$\n",
    "This matrix is upper triangular and it is nonsingular if and only if $a$ is not $0$, $2$ or $4$. So those are the only values of $a$ for which the matrix is singular."
   ]
  },
  {
   "cell_type": "markdown",
   "metadata": {},
   "source": [
    "## Problem 2\n",
    "\n",
    "Suppose we *already know* the inverse $A^{-1}$ of a $m \\times m$ matrix $A$.   Now, we want to find the inverse $(A + uv^T)^{-1}$, where $u$ and $v$ are $m$-component column vectors.   Ideally, we'd like to do this without re-doing the whole matrix-inversion process!\n",
    "\n",
    "### part (a)\n",
    "\n",
    "Find the scalar (number) $\\alpha$ so that\n",
    "$$\n",
    "(A + uv^T)^{-1} = A^{-1} - \\frac{A^{-1} uv^T A^{-1}}{\\alpha}\n",
    "$$\n",
    "(Hint: if you see an expression like $x^T B y$, realize that this is just a scalar and can be commuted with any other matrix/vector operations.)"
   ]
  },
  {
   "cell_type": "markdown",
   "metadata": {},
   "source": [
    "#### Solution\n",
    "\n",
    "Multiplying both sides by $A+uv^T$ on the left we get\n",
    "$$\n",
    "I = I -\\frac{uv^TA^{-1}}{\\alpha} + uv^TA^{-1} - \\frac{uv^TA^{-1}uv^TA^{-1}}{\\alpha}=I-\\frac{uv^TA^{-1}}{\\alpha}\\left(\\alpha - 1 - v^TA^{-1}u\\right) \n",
    "$$\n",
    "(remember that $v^TA^{-1}u$ is a number, and so it commutes with all matrices). So by choosing $\\alpha=1+v^TA^{-1}u$ we have that the inverse of $A+uv^T$ is\n",
    "\n",
    "$$\n",
    "(A+uv^T)^{-1} = A^{-1}-\\frac{A^{-1}uv^TA^{-1}}{1+v^TA^{-1}u}.\n",
    "$$\n",
    "\n",
    "This is actually a famous relationship, known as the [Sherman–Morrison formula](https://en.wikipedia.org/wiki/Sherman%E2%80%93Morrison_formula), that is extremely useful in lots of real problems."
   ]
  },
  {
   "cell_type": "markdown",
   "metadata": {
    "collapsed": true
   },
   "source": [
    "### part (b)\n",
    "\n",
    "Because matrix multiplication is [associative](https://en.wikipedia.org/wiki/Associative_property), we can compute $A^{-1} uv^T A^{-1}$ from above in different orders:\n",
    "\n",
    "$$\n",
    "A^{-1} (u(v^T A^{-1})) = A^{-1} ((uv^T) A^{-1}) = (A^{-1} u)(v^T A^{-1})\n",
    "$$\n",
    "\n",
    "If $m=5$ (i.e. $A$ is a $5 \\times 5$ matrix and $u$ and $v$ are 5-component column vectors) compute *how many scalar multiplications* (multiplications of numbers) are required if we do the products indicated by the parentheses for these three different parenthesizations of $A^{-1} uv^T A^{-1}$, assuming you are given $A^{-1}$, $u$, and $v$ (and that all matrix entries are nonzero so you can't skip any multiplies).  (You *don't* need to actually do the matrix products, just work out how many multiplications they would require!)\n",
    "\n",
    "Which order (parenthesization) would you choose to calculate $A^{-1} uv^T A^{-1}$ for your $(A + uv^T)^{-1}$ expression in part (a) in order to minimize your work?\n",
    "\n",
    "For example, the outer product $uv^T$ produces an $m \\times m$ matrix, whose $(i,j)$ entry is $u_i v_j$.  So, there is one multiplication per entry of the output, or $m^2$ multiplications (25) in total to compute $uv^T$."
   ]
  },
  {
   "cell_type": "markdown",
   "metadata": {},
   "source": [
    "#### Solution\n",
    "\n",
    "To multiply a $k\\times l$ matrix by a $l\\times r$ matrix we need to do $l$ multiplications for each entry of the result. So we need to do $klr$ multiplications. Now let us do the three cases\n",
    "\n",
    "* To compute $v^TA^{-1}$ we need to do $m^2$ multiplications and the result is an $m\\times 1$ matrix. To compute $u(v^TA^{-1})$ we need to do $m^2$ additional multiplications and the result is an $m\\times m$ matrix. Finally to compute $A^{-1}(u(v^TA^{-1}))$ we need to do $m^3$ multiplications. In total we did\n",
    "$$ m^2+m^2+m^3=m^3+2m^2$$\n",
    "multiplications\n",
    "\n",
    "* To compute $uv^T$ we need to do $m^2$ multiplications. To compute $(uv^T)A^{-1}$ we need to do $m^3$ multiplications. Finally to compute $A^{-1}((uv^T)A^{-1}$ we need to do $m^3$ other multiplications. In total we need to do $2m^3+m^2$ multiplications\n",
    "\n",
    "* To compute $A^{-1}u$ we need to do $m^2$ multiplications and the result is an $m\\times 1$ matrix. To compute $v^TA^{-1}$ we need to do $m^2$ multiplications and the result is an $1\\times m$ matrix. Finally to compute $(A^{-1}u)(v^TA^{-1})$ we need to do $m^2$ multiplications, so in total we did $3m^2$ multiplications.\n",
    "\n",
    "The approach with the least amount of multiplications is by far the third one.\n"
   ]
  },
  {
   "cell_type": "markdown",
   "metadata": {},
   "source": [
    "## Problem 3\n",
    "\n",
    "(Similar to Strang 2.6 problem 22.)\n",
    "\n",
    "In pset 1, you did \"upside-down\" Gaussian elimination to convert the matrix \n",
    "$$\n",
    "A = \\begin{pmatrix} 1 & 6 & -3 \\\\ -2 & 3 & 4 \\\\ 1 & 0 & -2 \\end{pmatrix}\n",
    "$$\n",
    "into a *lower* triangular matrix\n",
    "$$\n",
    "L = \\begin{pmatrix} -0.5 & 0 & 0 \\\\ 0 & 3 & 0 \\\\ 1 & 0 & -2 \\end{pmatrix}\n",
    "$$\n",
    "Find an upper-triangular matrix $U$ such that $A=UL$.  (This example illustrates the fact that \"upside-down\" elimination corresponds to a \"UL factorization\" of $A$.)"
   ]
  },
  {
   "cell_type": "markdown",
   "metadata": {},
   "source": [
    "#### Solution\n",
    "To find the matrix $U$ we need to do in reverse order the operations we did to find $L$. So we need to start weith the identity\n",
    "$$\\begin{pmatrix} 1 & 0 & 0\\\\ 0& 1&0 \\\\ 0&0&1\\end{pmatrix}$$\n",
    "then add twice the second row to the first\n",
    "$$\\begin{pmatrix} 1 & 2 & 0\\\\ 0& 1&0 \\\\ 0&0&1\\end{pmatrix}$$\n",
    "and subtract twice the third row from the second and add $\\frac{3}{2}$ times the third row to the first\n",
    "$$U=\\begin{pmatrix} 1 & 2 & 3/2\\\\ 0& 1&-2 \\\\ 0&0&1\\end{pmatrix}$$\n",
    "\n",
    "As we observed in class, the entries of $U$ above the diagonal are just the multipliers for the row reduction with the opposite sign."
   ]
  },
  {
   "cell_type": "markdown",
   "metadata": {},
   "source": [
    "## Problem 4\n",
    "\n",
    "### part (a)\n",
    "\n",
    "Show that by multiplying a lower-triangular $L$ matrix by a permutation (re-ordering) matrix $P$ on the left *and* right you can convert $L$ to an upper-triangular matrix $PLP$.  You don't have to prove it in general, just find the matrix $P$ that works for *any* $3 \\times 3$ matrix $L$.\n",
    "\n",
    "Once you have figured it out, check it. Enter your matrix $P$ in Julia below, and use it to flip the following lower-triangular matrix to an upper-triangular one:"
   ]
  },
  {
   "cell_type": "code",
   "execution_count": 1,
   "metadata": {
    "collapsed": false
   },
   "outputs": [
    {
     "data": {
      "text/plain": [
       "3x3 Array{Int64,2}:\n",
       " 1  0   0\n",
       " 2  3   0\n",
       " 1  3  -1"
      ]
     },
     "execution_count": 1,
     "metadata": {},
     "output_type": "execute_result"
    }
   ],
   "source": [
    "X = [ 1  0  0\n",
    "      2  3  0\n",
    "      1  3 -1]"
   ]
  },
  {
   "cell_type": "code",
   "execution_count": 2,
   "metadata": {
    "collapsed": false
   },
   "outputs": [
    {
     "data": {
      "text/plain": [
       "3x3 Array{Int64,2}:\n",
       " 0  0  1\n",
       " 0  1  0\n",
       " 1  0  0"
      ]
     },
     "execution_count": 2,
     "metadata": {},
     "output_type": "execute_result"
    }
   ],
   "source": [
    "P = [ 0 0 1\n",
    "      0 1 0\n",
    "      1 0 0]"
   ]
  },
  {
   "cell_type": "code",
   "execution_count": 3,
   "metadata": {
    "collapsed": false
   },
   "outputs": [
    {
     "data": {
      "text/plain": [
       "3x3 Array{Int64,2}:\n",
       " -1  3  1\n",
       "  0  3  2\n",
       "  0  0  1"
      ]
     },
     "execution_count": 3,
     "metadata": {},
     "output_type": "execute_result"
    }
   ],
   "source": [
    "P*X*P  # the result of this should be upper-triangular:"
   ]
  },
  {
   "cell_type": "markdown",
   "metadata": {},
   "source": [
    "#### Solution\n",
    "Choose the matrix $P=\\begin{pmatrix} 0 & 0 & 1\\\\ 0& 1 & 0\\\\ 1 & 0 & 0 \\end{pmatrix}$. Then multiplying by $P$ on the left exchanges the first and third row, and multiplying by $P$ on the right exchanges the first and third columns, so doing both will convert a lower triangular matrix to an upper triangular matrix and vice versa.\n",
    "\n",
    "Although you were not required to do anything but the $3 \\times 3$ case, this is one of those cases where the general case is almost easier to understand.  If you have an arbitrary $m \\times m$ lower triangular matrix, $P$ should just be the permutation that **reverses the order** of the rows or columns.  This is easy to see graphically:"
   ]
  },
  {
   "cell_type": "code",
   "execution_count": 4,
   "metadata": {
    "collapsed": false
   },
   "outputs": [
    {
     "data": {
      "image/png": "[encoded data removed]",
      "text/plain": [
       "PyPlot.Figure(PyObject <matplotlib.figure.Figure object at 0x31320c090>)"
      ]
     },
     "metadata": {},
     "output_type": "display_data"
    },
    {
     "data": {
      "text/plain": [
       "PyObject <matplotlib.text.Text object at 0x31b843190>"
      ]
     },
     "execution_count": 4,
     "metadata": {},
     "output_type": "execute_result"
    }
   ],
   "source": [
    "Xbig = Matrix(LowerTriangular(rand(100,100))) # a random 100×100 lower-triangular matrix\n",
    "Pbig = eye(100,100)[100:-1:1,:] # the permutation matrix that reverses the rows (or cols)\n",
    "using PyPlot\n",
    "subplot(1,3,1)\n",
    "spy(Xbig) # plot the nonzero pattern\n",
    "title(L\"lower-triangular $X$\", y=1.2)\n",
    "text(60,40, \"zeros\")\n",
    "text(20,80, \"nonzeros\", color=\"white\")\n",
    "subplot(1,3,2)\n",
    "spy(Pbig*Xbig)\n",
    "title(L\"PX\", y=1.2)\n",
    "subplot(1,3,3)\n",
    "spy(Pbig*Xbig*Pbig)\n",
    "title(L\"PXP\", y=1.2)"
   ]
  },
  {
   "cell_type": "markdown",
   "metadata": {},
   "source": [
    "If $P$ is the reversal permutation, going from $X$ to $PX$ just reverses the rows, which flips the black triangle of nonzeros upside down but with the wrong orientation.  Reversing *both* rows and columns with $PXP$ gives the desired upper-triangular nonzero pattern."
   ]
  },
  {
   "cell_type": "markdown",
   "metadata": {},
   "source": [
    "### part (b)\n",
    "\n",
    "What is $P^{-1}$?\n",
    "\n",
    "You can find it numerically from Julia with the command `inv(P)`, but you should still explain *why* it comes out that way:"
   ]
  },
  {
   "cell_type": "code",
   "execution_count": 5,
   "metadata": {
    "collapsed": false
   },
   "outputs": [
    {
     "data": {
      "text/plain": [
       "3x3 Array{Float64,2}:\n",
       " -0.0  -0.0  1.0\n",
       " -0.0   1.0  0.0\n",
       "  1.0   0.0  0.0"
      ]
     },
     "execution_count": 5,
     "metadata": {},
     "output_type": "execute_result"
    }
   ],
   "source": [
    "inv(P) # compute P⁻¹ numerically, using the P defined above"
   ]
  },
  {
   "cell_type": "markdown",
   "metadata": {},
   "source": [
    "#### Solution\n",
    "We can see from above that `inv(P)` in Julia is in fact the same matrix as $P$ (up to roundoff errors).  \n",
    "\n",
    "That is, $P^{-1} = P$.  The reason for this is that $P$ is the permutation that reverses the order of the rows, and reversing the order twice returns things back to the original order.  Hence $P^2=I$, that is $P^{-1}=P$.\n",
    "\n",
    "It is also true that $P^{-1} = P^T$ for *any* permutation matrix, as explained in class, but this particular $P$ is even more special than that."
   ]
  },
  {
   "cell_type": "markdown",
   "metadata": {},
   "source": [
    "### part (c)\n",
    "\n",
    "Suppose we take the $A$ matrix from problem 3 and the $P$ matrix from above, and compute the LU factorization $PAP = L' U'$ without row swaps (labeling the matrices $L'$ and $U'$ so that they aren't confused with the ones above), then compute $PL' P$ and $P U' P$.  How to the results compare to your $A=UL$ factorization from problem 3?\n",
    "\n",
    "Why?  (You should be able to do some matrix algebra to turn $PAP = L' U'$ into $A = UL$.)"
   ]
  },
  {
   "cell_type": "code",
   "execution_count": 6,
   "metadata": {
    "collapsed": false
   },
   "outputs": [
    {
     "data": {
      "text/plain": [
       "(\n",
       "3x3 Array{Float64,2}:\n",
       "  1.0  0.0  0.0\n",
       " -2.0  1.0  0.0\n",
       "  1.5  2.0  1.0,\n",
       "\n",
       "3x3 Array{Float64,2}:\n",
       " -2.0  0.0   1.0\n",
       "  0.0  3.0   0.0\n",
       "  0.0  0.0  -0.5,\n",
       "\n",
       "[1,2,3])"
      ]
     },
     "execution_count": 6,
     "metadata": {},
     "output_type": "execute_result"
    }
   ],
   "source": [
    "A = [ 1  6 -3\n",
    "     -2  3  4\n",
    "      1  0 -2 ]\n",
    "L′, U′ = lu(P*A*P, Val{false}) # LU factorization of PAP without row swaps"
   ]
  },
  {
   "cell_type": "code",
   "execution_count": 7,
   "metadata": {
    "collapsed": false
   },
   "outputs": [
    {
     "data": {
      "text/plain": [
       "3x3 Array{Float64,2}:\n",
       " 1.0  2.0   1.5\n",
       " 0.0  1.0  -2.0\n",
       " 0.0  0.0   1.0"
      ]
     },
     "execution_count": 7,
     "metadata": {},
     "output_type": "execute_result"
    }
   ],
   "source": [
    "P*L′*P"
   ]
  },
  {
   "cell_type": "code",
   "execution_count": 8,
   "metadata": {
    "collapsed": false
   },
   "outputs": [
    {
     "data": {
      "text/plain": [
       "3x3 Array{Float64,2}:\n",
       " -0.5  0.0   0.0\n",
       "  0.0  3.0   0.0\n",
       "  1.0  0.0  -2.0"
      ]
     },
     "execution_count": 8,
     "metadata": {},
     "output_type": "execute_result"
    }
   ],
   "source": [
    "P*U′*P"
   ]
  },
  {
   "cell_type": "markdown",
   "metadata": {},
   "source": [
    "#### Solution\n",
    "\n",
    "Numerically, you should notice that `P*L′*P` is *exactly* the $U$ matrix from our $A=UL$ factorization in problem 3, and `P*U′*P` is exactly the $L$ matrix.  Now we want to *derive* this algebraically.\n",
    "\n",
    "We want to transform the equation $PAP=L'U'$ into something of the form $A=\\cdots$. So we multiply on the left and the right by $P^{-1}=P$ and we obtain\n",
    "\n",
    "$$ A = PL'U'P$$\n",
    "\n",
    "Now, we want to see the right hand side as the product of an upper triangular matrix by a lower triangular matrix. From part (a) we know that $PL'P$ and $PU'P$ are of the right form. Moreover, since $P^2=I$ we have that\n",
    "\n",
    "$$ A = PL'U'P = PL'P^2U'P = (PL'P)(PU'P)$$\n",
    "\n",
    "Finally, since $P$ just permutes rows and columns, the diagonal entries of $PL'P$ are all 1s, exactly as expected for an elimination matrix (as problem 3, above). So $(PL'P)(PU'P) = UL$ gives $U=PL'P$ and $L=PU'P$ from the $UL$ factorization of $A$."
   ]
  }
 ],
 "metadata": {
  "anaconda-cloud": {},
  "kernelspec": {
   "display_name": "Julia 0.4.6",
   "language": "julia",
   "name": "julia-0.4"
  },
  "language_info": {
   "file_extension": ".jl",
   "mimetype": "application/julia",
   "name": "julia",
   "version": "0.4.6"
  }
 },
 "nbformat": 4,
 "nbformat_minor": 1
}
