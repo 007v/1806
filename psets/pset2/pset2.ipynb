{
 "cells": [
  {
   "cell_type": "markdown",
   "metadata": {},
   "source": [
    "# Problem Set 2\n",
    "\n",
    "Due Wednesday, 2/22 at 11am."
   ]
  },
  {
   "cell_type": "markdown",
   "metadata": {},
   "source": [
    "## Problem 1\n",
    "\n",
    "(From Strang, section 2.2, problem 25.)\n",
    "$$\n",
    "A = \\begin{pmatrix} a & 2 & 3 \\\\ a & a & 4 \\\\ a & a & a \\end{pmatrix}?\n",
    "$$\n",
    "For which three numbers $a$ will elimination fail to give three pivots for this matrix?  That is, for which values of $a$ is this matrix *singular*?"
   ]
  },
  {
   "cell_type": "markdown",
   "metadata": {},
   "source": [
    "## Problem 2\n",
    "\n",
    "Suppose we *already know* the inverse $A^{-1}$ of a $m \\times m$ matrix $A$.   Now, we want to find the inverse $(A + uv^T)^{-1}$, where $u$ and $v$ are $m$-component column vectors.   Ideally, we'd like to do this without re-doing the whole matrix-inversion process!\n",
    "\n",
    "### part (a)\n",
    "\n",
    "Find the scalar (number) $\\alpha$ so that\n",
    "$$\n",
    "(A + uv^T)^{-1} = A^{-1} - \\frac{A^{-1} uv^T A^{-1}}{\\alpha}\n",
    "$$\n",
    "(Hint: if you see an expression like $x^T B y$, realize that this is just a scalar and can be commuted with any other matrix/vector operations.)"
   ]
  },
  {
   "cell_type": "markdown",
   "metadata": {
    "collapsed": true
   },
   "source": [
    "### part (b)\n",
    "\n",
    "Because matrix multiplication is [associative](https://en.wikipedia.org/wiki/Associative_property), we can compute $A^{-1} uv^T A^{-1}$ from above in different orders:\n",
    "\n",
    "$$\n",
    "A^{-1} (u(v^T A^{-1})) = A^{-1} ((uv^T) A^{-1}) = (A^{-1} u)(v^T A^{-1})\n",
    "$$\n",
    "\n",
    "If $m=5$ (i.e. $A$ is a $5 \\times 5$ matrix and $u$ and $v$ are 5-component column vectors) compute *how many scalar multiplications* (multiplications of numbers) are required if we do the products indicated by the parentheses for these three different parenthesizations of $A^{-1} uv^T A^{-1}$, assuming you are given $A^{-1}$, $u$, and $v$ (and that all matrix entries are nonzero so you can't skip any multiplies).  (You *don't* need to actually do the matrix products, just work out how many multiplications they would require!)\n",
    "\n",
    "Which order (parenthesization) would you choose to calculate $A^{-1} uv^T A^{-1}$ for your $(A + uv^T)^{-1}$ expression in part (a) in order to minimize your work?\n",
    "\n",
    "For example, the outer product $uv^T$ produces an $m \\times m$ matrix, whose $(i,j)$ entry is $u_i v_j$.  So, there is one multiplication per entry of the output, or $m^2$ multiplications (25) in total to compute $uv^T$."
   ]
  },
  {
   "cell_type": "markdown",
   "metadata": {},
   "source": [
    "## Problem 3\n",
    "\n",
    "(Similar to Strang 2.6 problem 22.)\n",
    "\n",
    "In pset 1, you did \"upside-down\" Gaussian elimination to convert the matrix \n",
    "$$\n",
    "A = \\begin{pmatrix} 1 & 6 & -3 \\\\ -2 & 3 & 4 \\\\ 1 & 0 & -2 \\end{pmatrix}\n",
    "$$\n",
    "into a *lower* triangular matrix\n",
    "$$\n",
    "L = \\begin{pmatrix} -0.5 & 0 & 0 \\\\ 0 & 3 & 0 \\\\ 1 & 0 & -2 \\end{pmatrix}\n",
    "$$\n",
    "Find an upper-triangular matrix $U$ such that $A=UL$.  (This example illustrates the fact that \"upside-down\" elimination corresponds to a \"UL factorization\" of $A$.)"
   ]
  },
  {
   "cell_type": "markdown",
   "metadata": {},
   "source": [
    "## Problem 4\n",
    "\n",
    "### part (a)\n",
    "\n",
    "Show that by multiplying a lower-triangular $L$ matrix by a permutation (re-ordering) matrix $P$ on the left *and* right you can convert $L$ to an upper-triangular matrix $PLP$.  You don't have to prove it in general, just find the matrix $P$ that works for *any* $3 \\times 3$ matrix $L$.\n",
    "\n",
    "Once you have figured it out, check it. Enter your matrix $P$ in Julia below, and use it to flip the following lower-triangular matrix to an upper-triangular one:"
   ]
  },
  {
   "cell_type": "code",
   "execution_count": null,
   "metadata": {
    "collapsed": false
   },
   "outputs": [],
   "source": [
    "X = [ 1  0  0\n",
    "      2  3  0\n",
    "      1  3 -1]"
   ]
  },
  {
   "cell_type": "code",
   "execution_count": null,
   "metadata": {
    "collapsed": false
   },
   "outputs": [],
   "source": [
    "P = [ ... enter your matrix here ... ]"
   ]
  },
  {
   "cell_type": "code",
   "execution_count": null,
   "metadata": {
    "collapsed": false
   },
   "outputs": [],
   "source": [
    "P*X*P  # the result of this should be upper-triangular:"
   ]
  },
  {
   "cell_type": "markdown",
   "metadata": {},
   "source": [
    "### part (b)\n",
    "\n",
    "What is $P^{-1}$?\n",
    "\n",
    "You can find it numerically from Julia with the command `inv(P)`, but you should still explain *why* it comes out that way:"
   ]
  },
  {
   "cell_type": "code",
   "execution_count": null,
   "metadata": {
    "collapsed": true
   },
   "outputs": [],
   "source": [
    "inv(P) # compute P⁻¹ numerically"
   ]
  },
  {
   "cell_type": "markdown",
   "metadata": {},
   "source": [
    "### part (b)\n",
    "\n",
    "Suppose we take the $A$ matrix from problem 3 and the $P$ matrix from above, and compute the LU factorization $PAP = L' U'$ without row swaps (labeling the matrices $L'$ and $U'$ so that they aren't confused with the ones above), then compute $PL' P$ and $P U' P$.  How to the results compare to your $A=UL$ factorization from problem 3?\n",
    "\n",
    "Why?  (You should be able to do some matrix algebra to turn $PAP = L' U'$ into $A = UL$.)"
   ]
  },
  {
   "cell_type": "code",
   "execution_count": null,
   "metadata": {
    "collapsed": false
   },
   "outputs": [],
   "source": [
    "A = [ 1  6 -3\n",
    "     -2  3  4\n",
    "      1  0 -2 ]\n",
    "L′, U′ = lu(P*A*P, Val{false}) # LU factorization of PAP without row swaps"
   ]
  },
  {
   "cell_type": "code",
   "execution_count": null,
   "metadata": {
    "collapsed": false
   },
   "outputs": [],
   "source": [
    "P*L′*P"
   ]
  },
  {
   "cell_type": "code",
   "execution_count": null,
   "metadata": {
    "collapsed": false
   },
   "outputs": [],
   "source": [
    "P*U′*P"
   ]
  }
 ],
 "metadata": {
  "anaconda-cloud": {},
  "kernelspec": {
   "display_name": "Julia 0.5.0",
   "language": "julia",
   "name": "julia-0.5"
  },
  "language_info": {
   "file_extension": ".jl",
   "mimetype": "application/julia",
   "name": "julia",
   "version": "0.5.0"
  }
 },
 "nbformat": 4,
 "nbformat_minor": 1
}
