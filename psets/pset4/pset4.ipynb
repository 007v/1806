{
 "cells": [
  {
   "cell_type": "markdown",
   "metadata": {},
   "source": [
    "# 18.06 Pset 4\n",
    "\n",
    "Due Wednesday, March 8 at 11am."
   ]
  },
  {
   "cell_type": "markdown",
   "metadata": {},
   "source": [
    "## Problem 1\n",
    "\n",
    "(Similar to Strang, section 3.2, problem 49.)\n",
    "\n",
    "We showed in class that $C(AB) \\subseteq C(A)$.  Since the dimension of the column space is the rank, and a subspace always has a dimension ≤ the dimensionality of the enclosing space, this means that $\\operatorname{rank}(AB) \\le \\operatorname{rank}(A)$.\n",
    "\n",
    "Using a similar reasoning, show that $\\operatorname{rank}(AB) \\le \\operatorname{rank}(B)$.  Hint: consider the transpose $(AB)^T = B^T A^T$."
   ]
  },
  {
   "cell_type": "markdown",
   "metadata": {},
   "source": [
    "## Problem 2\n",
    "\n",
    "(Similar to Strang, section 3.4, problem 26 and 30.)\n",
    "\n",
    "Find a basis (and the dimension) for each of these subspaces of $3\\times3$ matrices:\n",
    "\n",
    "* All diagonal matrices\n",
    "* All symmetric matrices ($A^T = A$).\n",
    "* All skew-symmetric (anti-symmetric) matrices ($A^T = -A$).\n",
    "* All matrices whose nullspace contains the vector $(2,1,-1)$."
   ]
  },
  {
   "cell_type": "markdown",
   "metadata": {},
   "source": [
    "# Problem 3\n",
    "\n",
    "(Strang, section 3.5, problem 21.)\n",
    "\n",
    "Suppose $A = uv^T + wz^T$ (it is the sum of two rank-1 matrices).\n",
    "\n",
    "* Which vectors span the column space of $A$?\n",
    "* Which vectors span the row space of $A$?\n",
    "* The rank of $A$ is less than 2 if ???????? or if ????????.\n",
    "* Compute $A$ and its rank if $u=z=(1,0,0)$ and $v=w=(0,0,1)$.  Check your answer with Julia below."
   ]
  },
  {
   "cell_type": "code",
   "execution_count": null,
   "metadata": {
    "collapsed": false
   },
   "outputs": [],
   "source": [
    "u = z = [1,0,0]\n",
    "v = w = [0,0,1]\n",
    "A = u*v' + w*z'"
   ]
  },
  {
   "cell_type": "code",
   "execution_count": null,
   "metadata": {
    "collapsed": false
   },
   "outputs": [],
   "source": [
    "rank(A)"
   ]
  },
  {
   "cell_type": "markdown",
   "metadata": {},
   "source": [
    "# Problem 4\n",
    "\n",
    "(Based on Strang, section 4.1, problem 9.)\n",
    "\n",
    "The following is an important property of the very important matrix $A^T A$ (for real matrices) that will come up several times in 18.06:\n",
    "\n",
    "* If $A^TAx=0$ then $Ax=0$.  Reason: If $A^TAx=0$, then $Ax$ is in the nullspace of $A^T$ and also in the ?????? of $A$, and those spaces are ???????.  Conclusion: $N(A^T A) = N(A)$.\n",
    "\n",
    "* Alternative proof: $A^TAx=0$, then $x^T A^T Ax = 0 = (Ax)^T (Ax)$.  Why does this imply that $Ax=0$?   (Hint: if $y^Ty = 0$, can we have $y\\ne 0$?)\n",
    "\n",
    "* If $A$ is a random $m \\times n$ matrix, what can you conclude about the ranks of $A^T A$ and $A A^T$?   Try it in Julia for a $5 \\times 7$ random matrix:"
   ]
  },
  {
   "cell_type": "code",
   "execution_count": null,
   "metadata": {
    "collapsed": false
   },
   "outputs": [],
   "source": [
    "A = randn(5,7)"
   ]
  },
  {
   "cell_type": "code",
   "execution_count": null,
   "metadata": {
    "collapsed": false
   },
   "outputs": [],
   "source": [
    "rank(A'*A)"
   ]
  },
  {
   "cell_type": "code",
   "execution_count": null,
   "metadata": {
    "collapsed": false
   },
   "outputs": [],
   "source": [
    "rank(A*A')"
   ]
  }
 ],
 "metadata": {
  "kernelspec": {
   "display_name": "Julia 0.5.0",
   "language": "julia",
   "name": "julia-0.5"
  },
  "language_info": {
   "file_extension": ".jl",
   "mimetype": "application/julia",
   "name": "julia",
   "version": "0.5.0"
  }
 },
 "nbformat": 4,
 "nbformat_minor": 1
}
