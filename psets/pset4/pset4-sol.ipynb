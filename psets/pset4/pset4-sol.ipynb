{
 "cells": [
  {
   "cell_type": "markdown",
   "metadata": {},
   "source": [
    "# 18.06 Pset 4 Solutions"
   ]
  },
  {
   "cell_type": "markdown",
   "metadata": {},
   "source": [
    "## Problem 1\n",
    "\n",
    "(Similar to Strang, section 3.2, problem 49.)\n",
    "\n",
    "We showed in class that $C(AB) \\subseteq C(A)$.  Since the dimension of the column space is the rank, and a subspace always has a dimension ≤ the dimensionality of the enclosing space, this means that $\\operatorname{rank}(AB) \\le \\operatorname{rank}(A)$.\n",
    "\n",
    "Using a similar reasoning, show that $\\operatorname{rank}(AB) \\le \\operatorname{rank}(B)$.  Hint: consider the transpose $(AB)^T = B^T A^T$."
   ]
  },
  {
   "cell_type": "markdown",
   "metadata": {},
   "source": [
    "### Solution\n",
    "\n",
    "We are use the fact that $A$ and $A^T$ have the same rank. Then \n",
    "$$\\operatorname{rank}(AB) = \\operatorname{rank}((AB)^T)) = \\operatorname{rank}(B^TA^T) \\le \\operatorname{rank}(B^T)=\\operatorname{rank}(B)$$\n",
    "where $\\operatorname{rank}(B^TA^T)\\le \\operatorname{rank}(B^T)$ is follows from $\\operatorname{rank}(CD)\\le \\operatorname{rank}(C)$ above (changing the letters for clarity)."
   ]
  },
  {
   "cell_type": "markdown",
   "metadata": {},
   "source": [
    "## Problem 2\n",
    "\n",
    "(Similar to Strang, section 3.4, problem 26 and 30.)\n",
    "\n",
    "Find a basis (and the dimension) for each of these subspaces of $3\\times3$ matrices:\n",
    "\n",
    "* All diagonal matrices\n",
    "* All symmetric matrices ($A^T = A$).\n",
    "* All skew-symmetric (anti-symmetric) matrices ($A^T = -A$).\n",
    "* All matrices whose nullspace contains the vector $(2,1,-1)$."
   ]
  },
  {
   "cell_type": "markdown",
   "metadata": {},
   "source": [
    "### Solution\n",
    "\n",
    "#### Diagonal matrices\n",
    "Every diagonal matrix is of the form $\\begin{pmatrix} a & 0 & 0\\\\ 0& b&0\\\\ 0&0&c\\end{pmatrix}$ and so can be written as a linear combination of the matrices\n",
    "$$ \\begin{pmatrix} 1 & 0 & 0 \\\\ 0 & 0 & 0 \\\\ 0&0&0\\end{pmatrix},\\ \\begin{pmatrix} 0 & 0 & 0 \\\\ 0 & 1 & 0 \\\\ 0&0&0\\end{pmatrix},\\ \\begin{pmatrix} 0 & 0 & 0 \\\\ 0 & 0 & 0 \\\\ 0&0&1\\end{pmatrix} $$\n",
    "\n",
    "Since this system of generators is clearly minimal (none of these matrices is a linear combination of the others), this is a basis and the dimension of the space of diagonal matrices is 3.\n",
    "\n",
    "#### Symmetric matrices\n",
    "Every symmetric matrix is of the form\n",
    "$$\\begin{pmatrix} a & b & c\\\\ b & d & e \\\\ c & e & f\\end{pmatrix}$$\n",
    "and so can be written as a linear combination of\n",
    "$$ \\begin{pmatrix} 1 & 0 & 0 \\\\ 0 & 0 & 0 \\\\ 0&0&0\\end{pmatrix},\\ \\begin{pmatrix} 0 & 1 & 0 \\\\ 1 & 0 & 0\\\\ 0& 0&0\\end{pmatrix},\\ \\begin{pmatrix} 0 & 0 & 1 \\\\ 0 & 0 & 0\\\\ 1 & 0 & 0\\end{pmatrix},\\ \\begin{pmatrix} 0 & 0 & 0 \\\\ 0 & 1 & 0 \\\\ 0&0&0\\end{pmatrix},\\ \\begin{pmatrix} 0&0&0\\\\0&0&1\\\\0&1&0\\end{pmatrix},\\ \\begin{pmatrix} 0 & 0 & 0 \\\\ 0 & 0 & 0 \\\\ 0&0&1\\end{pmatrix} $$\n",
    "\n",
    "Again, since no matrix here is a linear combination of the others, this is a basis and the dimension of the space of symmetric matrices is 6.\n",
    "\n",
    "#### Antisymmetric matrices\n",
    "Every antisymmetric matrix is of the form\n",
    "$$\\begin{pmatrix} 0 & a & b\\\\ -a & 0 & c\\\\ -b & -c &0\\end{pmatrix}$$\n",
    "and so can be written as a linear combination of\n",
    "$$\\begin{pmatrix} 0 & 1 & 0\\\\ -1 & 0 & 0\\\\ 0&0&0\\end{pmatrix},\\ \\begin{pmatrix} 0 &0&1\\\\ 0&0&0\\\\-1&0&0\\end{pmatrix},\\ \\begin{pmatrix} 0 & 0 & 0\\\\ 0 & 0 & 1\\\\ 0&-1&0\\end{pmatrix}$$\n",
    "Since these matrices form again a minimal set of generators, they are a basis. So the dimension of the space of antisymmetric matrices is 3.\n",
    "\n",
    "#### Matrices such that $(2,1,-1)\\in N(A)$\n",
    "\n",
    "A matrix $A$ has $(2,1,-1)$ in its nullspace if and only if \n",
    "$$\\begin{pmatrix} a&b&c\\\\ d&e&f\\\\ g&h&i\\end{pmatrix}\\begin{pmatrix}2\\\\1\\\\-1\\end{pmatrix}=\\begin{pmatrix} 2a+b-c\\\\ 2d+e-f\\\\2g-h+i\\end{pmatrix}=0$$\n",
    "It is clear that we can find a basis for all such matrices easily if we can find a basis for the space of row vectors $\\begin{pmatrix} x & y & z \\end{pmatrix}$ such that $2x+y-z=0$. Equivalently, we want a basis for the left nullspace of $(2,1,-1)$, or the nullspace\n",
    "$$\n",
    "N(\\begin{pmatrix} 2 & 1 & -1\\end{pmatrix})\n",
    "$$\n",
    "Since this matrix is essentially in row-reduced echelon form already (just multiplied by 2), we can apply our standard methods to find a nullspace basis, for example:\n",
    "$$ (1,-2,0),\\ (1,0,2)$$\n",
    "So we can write the vector space of matrices such that $(2,1,-1)\\in N(A)$ as spanned by\n",
    "$$\\begin{pmatrix} 1 & -2 & 0\\\\0&0&0\\\\0&0&0\\end{pmatrix},\\ \\begin{pmatrix} 1&0&2\\\\0&0&0\\\\0&0&0\\end{pmatrix},\\ \\begin{pmatrix} 0&0&0\\\\1 & -2 & 0\\\\0&0&0\\end{pmatrix},\\ \\begin{pmatrix} 0&0&0\\\\1&0&2\\\\0&0&0\\end{pmatrix},\\ \\begin{pmatrix} 0&0&0\\\\0&0&0\\\\1 & -2 & 0\\end{pmatrix},\\ \\begin{pmatrix} 0&0&0\\\\0&0&0\\\\1&0&2\\end{pmatrix}$$\n",
    "So the dimension of this space is 6 (which is not surprising since we have put 3 conditions on a 9-dimensional space)."
   ]
  },
  {
   "cell_type": "markdown",
   "metadata": {},
   "source": [
    "# Problem 3\n",
    "\n",
    "(Strang, section 3.5, problem 21.)\n",
    "\n",
    "Suppose $A = uv^T + wz^T$ (it is the sum of two rank-1 matrices).\n",
    "\n",
    "* Which vectors span the column space of $A$?\n",
    "* Which vectors span the row space of $A$?\n",
    "* The rank of $A$ is less than 2 if ???????? or if ????????.\n",
    "* Compute $A$ and its rank if $u=z=(1,0,0)$ and $v=w=(0,0,1)$.  Check your answer with Julia below."
   ]
  },
  {
   "cell_type": "code",
   "execution_count": 1,
   "metadata": {
    "collapsed": false
   },
   "outputs": [
    {
     "data": {
      "text/plain": [
       "3x3 Array{Int64,2}:\n",
       " 0  0  1\n",
       " 0  0  0\n",
       " 1  0  0"
      ]
     },
     "execution_count": 1,
     "metadata": {},
     "output_type": "execute_result"
    }
   ],
   "source": [
    "u = z = [1,0,0]\n",
    "v = w = [0,0,1]\n",
    "A = u*v' + w*z'"
   ]
  },
  {
   "cell_type": "code",
   "execution_count": 2,
   "metadata": {
    "collapsed": false
   },
   "outputs": [
    {
     "data": {
      "text/plain": [
       "2"
      ]
     },
     "execution_count": 2,
     "metadata": {},
     "output_type": "execute_result"
    }
   ],
   "source": [
    "rank(A)"
   ]
  },
  {
   "cell_type": "markdown",
   "metadata": {},
   "source": [
    "### Solution\n",
    "\n",
    "* The vectors $u$ and $w$ span the column space, since every column is a linear combination of these two vectors.  (They may not be a basis, because they may not be independent!)\n",
    "\n",
    "* The vectors $v$ and $z$ span the row space, for the same reason.  (Again, possibly not a basis.)\n",
    "\n",
    "* Generically (for random vectors $u,v,w,z$), we would expect the rank of $A$ to be 2.  It will only be less than 2 in the following special cases:\n",
    "\n",
    "  - $A=0$ (e.g. $u=w=0$, $v=w=0$, or other cases where $uv^T = -wz^T$).  Then it is rank 0.\n",
    "  - If $A \\neq 0$ and $u$ and $w$ are parallel (one is a multiple of the other) or $v$ and $z$ are parallel, then $A$ will be rank 1.  (In this case, it is easy to see that the column/row space is spanned by a single nonzero vector.)\n",
    "\n",
    "* When $u=z=(1,0,0)^T$ and $v=w=(0,0,1)^T$, we obtain:\n",
    "$$A=\\begin{pmatrix}1\\\\0\\\\0\\end{pmatrix}\\begin{pmatrix} 0 & 0 & 1\\end{pmatrix}+\\begin{pmatrix} 0\\\\0\\\\1\\end{pmatrix}\\begin{pmatrix}1&0&0\\end{pmatrix}=\\begin{pmatrix}0&0&1\\\\0&0&0\\\\0&0&0\\end{pmatrix}+\\begin{pmatrix}0&0&0\\\\0&0&0\\\\1&0&0\\end{pmatrix} =\\begin{pmatrix}0&0&1\\\\0&0&0\\\\1&0&0\\end{pmatrix}\\,.$$\n",
    "And $A$ has rank 2, as expected.  Our result is checked in Julia above."
   ]
  },
  {
   "cell_type": "markdown",
   "metadata": {},
   "source": [
    "# Problem 4\n",
    "\n",
    "(Based on Strang, section 4.1, problem 9.)\n",
    "\n",
    "The following is an important property of the very important matrix $A^T A$ (for real matrices) that will come up several times in 18.06:\n",
    "\n",
    "* If $A^TAx=0$ then $Ax=0$.  Reason: If $A^TAx=0$, then $Ax$ is in the nullspace of $A^T$ and also in the ?????? of $A$, and those spaces are ???????.  Conclusion: $N(A^T A) = N(A)$.\n",
    "\n",
    "* Alternative proof: $A^TAx=0$, then $x^T A^T Ax = 0 = (Ax)^T (Ax)$.  Why does this imply that $Ax=0$?   (Hint: if $y^Ty = 0$, can we have $y\\ne 0$?)\n",
    "\n",
    "* If $A$ is a random $m \\times n$ matrix, what can you conclude about the ranks of $A^T A$ and $A A^T$?   Try it in Julia for a $5 \\times 7$ random matrix:"
   ]
  },
  {
   "cell_type": "code",
   "execution_count": 3,
   "metadata": {
    "collapsed": false
   },
   "outputs": [
    {
     "data": {
      "text/plain": [
       "5x7 Array{Float64,2}:\n",
       " -1.42488    0.49731     0.193989  -0.518111  -1.60314   -1.79199   -0.803947\n",
       " -1.12835   -0.236285   -1.48037   -1.38106    0.278083   1.33166    1.48049 \n",
       "  0.595007  -0.0488672  -1.13801    0.330875   0.713253  -0.785896  -0.673687\n",
       " -0.394517   0.361648   -0.428049   0.364408  -0.504469  -0.525341  -1.83838 \n",
       " -1.2217     1.40207    -0.230121  -0.168273   1.43475    0.475414   0.254754"
      ]
     },
     "execution_count": 3,
     "metadata": {},
     "output_type": "execute_result"
    }
   ],
   "source": [
    "A = randn(5,7)"
   ]
  },
  {
   "cell_type": "code",
   "execution_count": 4,
   "metadata": {
    "collapsed": false
   },
   "outputs": [
    {
     "data": {
      "text/plain": [
       "5"
      ]
     },
     "execution_count": 4,
     "metadata": {},
     "output_type": "execute_result"
    }
   ],
   "source": [
    "rank(A'*A)"
   ]
  },
  {
   "cell_type": "code",
   "execution_count": 5,
   "metadata": {
    "collapsed": false
   },
   "outputs": [
    {
     "data": {
      "text/plain": [
       "5"
      ]
     },
     "execution_count": 5,
     "metadata": {},
     "output_type": "execute_result"
    }
   ],
   "source": [
    "rank(A*A')"
   ]
  },
  {
   "cell_type": "markdown",
   "metadata": {},
   "source": [
    "### Solution\n",
    "\n",
    "* If $A^TAx=0$ then $Ax=0$.  Reason: If $A^TAx=0$, then $Ax$ is in the nullspace of $A^T$ and also in the **column space** of $A$, and those spaces are **orthogonal.** So $Ax$ is orthogonal to itself, thus $Ax=0$.  Conclusion: $N(A^T A) = N(A)$.\n",
    "\n",
    "* If $(Ax)^T(Ax)=0$ this means that the length of the vector $Ax$ is 0. But the only vector with zero length is the zero vector, since a sum of squares can be zero only if all the squares are zero.\n",
    "\n",
    "* In our $5\\times 7$ example $A$ in Julia above, we saw that the ranks of $A^TA$ and $AA^T$ were $5$; this is essentially certain to happen.   Reason: if an $m\\times n$ matrix $A$ has rank $r$, then $N(A)=N(A^T A)$ has dimension $n-r$, and hence the $n\\times n$ matrix $A^TA$ also has rank $r$.  The same reasoning can be applied to $A^T$ and $AA^T$, and hence $\\operatorname{rank}(A) = \\operatorname{rank}(A^TA) = \\operatorname{rank}(AA^T)$.    A random $A$ is almost certainly full rank, so it will have $\\operatorname{rank}(A)=\\min(m,n)$, and therefore $A^TA$ and $AA^T$ will have the same rank $\\min(m,n)$ ($=5$ in this case)."
   ]
  }
 ],
 "metadata": {
  "anaconda-cloud": {},
  "kernelspec": {
   "display_name": "Julia 0.4.6",
   "language": "julia",
   "name": "julia-0.4"
  },
  "language_info": {
   "file_extension": ".jl",
   "mimetype": "application/julia",
   "name": "julia",
   "version": "0.4.6"
  }
 },
 "nbformat": 4,
 "nbformat_minor": 1
}
