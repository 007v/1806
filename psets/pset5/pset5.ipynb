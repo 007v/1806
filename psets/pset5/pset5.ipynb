{
 "cells": [
  {
   "cell_type": "markdown",
   "metadata": {},
   "source": [
    "# 18.06 Pset 5\n",
    "\n",
    "Due Wednesday, March 15."
   ]
  },
  {
   "cell_type": "markdown",
   "metadata": {},
   "source": [
    "## Problem 1\n",
    "\n",
    "(From Strang, section 10.1, question 17.)  Suppose $A$ is a $12 \\times 9$ incidence matrix from a connected (but unknown) graph.\n",
    "\n",
    "1. How many columns of $A$ are independent?\n",
    "2. What condition on $f$ makes it possible to solve $A^T y = f$.  (Give an explicit formula, don't just say $f \\in C(A^T)$ or similar.)\n",
    "3. The diagonal entries of $A^T A$ give the number of edges into each node.  What is the sum of those diagonal entries?"
   ]
  },
  {
   "cell_type": "markdown",
   "metadata": {},
   "source": [
    "## Problem 2\n",
    "\n",
    "In class, we represented a graph by an incidence matrix.  Another way to represent a graph by a matrix is to use an [adjacency matrix](https://en.wikipedia.org/wiki/Adjacency_matrix).\n",
    "\n",
    "For a graph with $n$ nodes, the adjacency matrix $A$ is a *square* $n\\times n$ matrix, where $A_{i,j} = 1$ if there is an edge from node $i$ to node $j$, and is zero otherwise.\n",
    "\n",
    "For example, consider the example graph used in lecture:\n",
    "<img src=\"pset5-p2.png\" width=\"350\">\n",
    "Its adjacency matrix is:"
   ]
  },
  {
   "cell_type": "code",
   "execution_count": null,
   "metadata": {
    "collapsed": false
   },
   "outputs": [],
   "source": [
    "A = [0 0 0 1 0 0\n",
    "     1 0 0 0 0 1\n",
    "     0 1 0 0 0 0\n",
    "     0 0 0 0 1 1\n",
    "     0 0 0 0 0 1\n",
    "     0 0 1 0 0 0]"
   ]
  },
  {
   "cell_type": "markdown",
   "metadata": {},
   "source": [
    "### part (a)\n",
    "\n",
    "Consider a vector $x = (1,0,0,0,0,0)$, which has a nonzero entry only in node 1.  If we multiply this by $A^T$ one or two times, we get:"
   ]
  },
  {
   "cell_type": "code",
   "execution_count": null,
   "metadata": {
    "collapsed": false
   },
   "outputs": [],
   "source": [
    "x = [1,0,0,0,0,0]\n",
    "A' * x"
   ]
  },
  {
   "cell_type": "code",
   "execution_count": null,
   "metadata": {
    "collapsed": false
   },
   "outputs": [],
   "source": [
    "A'^2 * x"
   ]
  },
  {
   "cell_type": "markdown",
   "metadata": {},
   "source": [
    "* What is the smallest power $n$ of $A^T$ such that $x^T (A^T)^n x > 0$?  Why?\n",
    "* How does this change if we use $A$ instead of $A^T$?"
   ]
  },
  {
   "cell_type": "markdown",
   "metadata": {},
   "source": [
    "### part (b)\n",
    "\n",
    "The smallest power of $A$ that gives an entry $> 1$ is $A^4$, for which the $(2,6)$ entry is equal to 2.   This is because node 2 and 6 are connected by ???????? of length 4."
   ]
  },
  {
   "cell_type": "code",
   "execution_count": null,
   "metadata": {
    "collapsed": false
   },
   "outputs": [],
   "source": [
    "A^4"
   ]
  },
  {
   "cell_type": "markdown",
   "metadata": {},
   "source": [
    "## Problem 3: Nonlinear equations and Newton's method\n",
    "\n",
    "18.06 is about linear systems of equations, but often real-world problems involve *nonlinear* equations.  But linear algebra is still useful in such cases!  Often, we solve nonlinear equations by *approximating* them by a *sequence* of *linear* equations.  One common such technique is the multidimensional Newton's method.  You will explore an application of that in this problem.\n",
    "\n",
    "**Turn in a printout of any code you write and plots you make along with your solutions.**\n",
    "\n",
    "Suppose we are solving the system of nonlinear equations:\n",
    "$$\n",
    "x_1^3 - 3 x_1 x_2^2 + x_1 - 1 = 0 \\\\\n",
    "3 x_1^2 x_2 - x_2^3 + x_2 = 0\n",
    "$$\n",
    "in two real variables $x_1$ and $x_2$.  We can also write this as a vector equation $v(x) = 0$, where\n",
    "$$\n",
    "x = \\begin{pmatrix} x_1 \\\\ x_2 \\end{pmatrix}, \\qquad\n",
    "v(x) = \\begin{pmatrix} x_1^3 - 3 x_1 x_2^2 + x_1 - 1 \\\\ 3 x_1^2 x_2 - x_2^3 + x_2 \\end{pmatrix}.\n",
    "$$\n",
    "\n",
    "The key to Newton's method is this: given a *guess* for $x$, we *approximate* our function $v$ for *nearby* $x+\\delta$ by a *linear* approximation, given by the Taylor expansion of $v$ to first order.  In particular, if\n",
    "$$\n",
    "\\delta = \\begin{pmatrix} \\delta_1 \\\\ \\delta_2 \\end{pmatrix},\n",
    "$$\n",
    "the multidimensional Taylor expansion takes the form:\n",
    "$$\n",
    "v(x+\\delta) = v(x) + J(x) \\delta + \\cdots\n",
    "$$\n",
    "where $J(x)$ is some matrix.\n",
    "\n",
    "### part (a)\n",
    "\n",
    "Write down an explicit **equation for the entries of the matrix $J(x)$** in the Taylor expansion of our function $v(x)$ above.\n",
    "\n",
    "Recall from 18.02, that we can Taylor expand a function $f(x_1,x_2)$ as\n",
    "$$\n",
    "f(x_1 + \\delta_1, x_2 + \\delta_2) = f(x_1,x_2) + \\left. \\frac{\\partial f}{\\partial x_1} \\right|_{x_1,x_2} \\delta_1 + \\left. \\frac{\\partial f}{\\partial x_2} \\right|_{x_1,x_2} \\delta_2 + \\cdots \\; .\n",
    "$$\n",
    "If you apply this to each component of $v(x)$, you should get a formula for the matrix $J(x)$."
   ]
  },
  {
   "cell_type": "markdown",
   "metadata": {},
   "source": [
    "### part (b)\n",
    "\n",
    "**Write a Julia function `J(x)`** that, given a vector `x`, returns the matrix $J(x)$ using your formula from (a).  For example, here is a function `v(x)` returning the column vector $v(x)$:"
   ]
  },
  {
   "cell_type": "code",
   "execution_count": null,
   "metadata": {
    "collapsed": false
   },
   "outputs": [],
   "source": [
    "v(x) = [   x[1]^3-3*x[1]*x[2]^2+x[1]-1\n",
    "           3*x[1]^2*x[2]-x[2]^3+x[2]    ]"
   ]
  },
  {
   "cell_type": "markdown",
   "metadata": {},
   "source": [
    "In a similar style, implement the function $J(x)$ returning a 2×2 matrix:"
   ]
  },
  {
   "cell_type": "code",
   "execution_count": null,
   "metadata": {
    "collapsed": true
   },
   "outputs": [],
   "source": [
    "J(x) = [  ???    ???  \n",
    "          ???    ???  ]"
   ]
  },
  {
   "cell_type": "markdown",
   "metadata": {},
   "source": [
    "### part (c)\n",
    "\n",
    "To get a Newton step, we replace $x$ by $x+\\delta$, where $\\delta$ is the solution to \n",
    "$$\n",
    "v(x) + J(x)\\delta = 0 \\; .\n",
    "$$\n",
    "That is, we approximate $v(x+\\delta)$ by the first-order Taylor expansion, and use this to approximately solve $v(x+\\delta) \\approx 0$. \n",
    "\n",
    "**Write a Julia function `newtonstep(x)`** that takes a vector $x$ and returns the Newton step $x+\\delta$ given by the solution to the first-order (linear!) equation above.  (Recall that if you are solving $Ax=b$, the solution $x$ in Julia is `A \\ b`.)  Use your functions `v(x)` and `J(x)` from (b)!"
   ]
  },
  {
   "cell_type": "code",
   "execution_count": null,
   "metadata": {
    "collapsed": true
   },
   "outputs": [],
   "source": [
    "newtonstep(x) = some formula for x+δ"
   ]
  },
  {
   "cell_type": "markdown",
   "metadata": {},
   "source": [
    "### part (d)\n",
    "\n",
    "It turns out that there are exactly 3 real solutions to $v(x) = 0$\n",
    "$$\n",
    "x_1 = 0.6823278038280195, \\; x_2 = 0\n",
    "$$\n",
    "and\n",
    "$$\n",
    "x_1 = -0.3411639019140098, \\; x_2 = \\pm 1.1615413999972526\n",
    "$$\n",
    "\n",
    "If you give an initial guess of $(0.5,0.1)$, you should see that the Newton steps rapidly converge towards the first solution.\n",
    "\n",
    "Run the following code to interactively change the number of Newton iterations and see the results.  **How many Newton iterations do you need to get $x_1 = 0.6823278038280195$ with 4 correct digits?  How many for 10 digits?**"
   ]
  },
  {
   "cell_type": "code",
   "execution_count": null,
   "metadata": {
    "collapsed": false
   },
   "outputs": [],
   "source": [
    "# Pkg.add(\"Interact\") # uncomment this line if you haven't installed Interact yet\n",
    "using Interact\n",
    "@manipulate for iterations in slider(0:30, value=0)\n",
    "    x = [0.5, 0.1]\n",
    "    for i = 1:iterations\n",
    "        x = newtonstep(x)\n",
    "    end\n",
    "    Text(\"x₁ = $(x[1]),  x₂ = $(x[2])\")\n",
    "end"
   ]
  },
  {
   "cell_type": "markdown",
   "metadata": {},
   "source": [
    "(If it doesn't converge to the right answer, you made a mistake in your steps above!  **Go fix it before continuing!**)"
   ]
  },
  {
   "cell_type": "markdown",
   "metadata": {},
   "source": [
    "### part (e)\n",
    "\n",
    "What solution the Newton steps converge to (or whether they converge at all!) depends strongly on our initial guess.  If the initial guess is close to a solution, it will converge to that solution, but if the initial guess is far away then the behavior is much less predictable.\n",
    "\n",
    "The following code tries the Newton iterations for different starting points $(x_1,x_2)$, and uses a different color depending on which root was found.  (It plots the exact solutions as stars.) **What do you notice about the pattern of colors, especially on the *boundaries* between the regions that converge to one solution or another?**\n",
    "\n",
    "(You might want to change the range of $x_1$ and $x_2$ that are plotted to zoom in on the boundaries.)"
   ]
  },
  {
   "cell_type": "code",
   "execution_count": null,
   "metadata": {
    "collapsed": false
   },
   "outputs": [],
   "source": [
    "# do repeated newton steps, starting at x, until\n",
    "# the solution converges or maxiters is reached,\n",
    "# returning the tuple: (solution x, number of iterations)\n",
    "function newton(x, maxiters=100)\n",
    "    for i = 1:maxiters\n",
    "        xnew = newtonstep(x)\n",
    "        xnew == x && return (x, i)\n",
    "        x = xnew\n",
    "    end\n",
    "    return (x, maxiters)\n",
    "end"
   ]
  },
  {
   "cell_type": "code",
   "execution_count": null,
   "metadata": {
    "collapsed": true
   },
   "outputs": [],
   "source": [
    "# Pkg.add(\"PyPlot\")  # uncomment this line if you haven't installed PyPlot yet\n",
    "using PyPlot"
   ]
  },
  {
   "cell_type": "code",
   "execution_count": null,
   "metadata": {
    "collapsed": false
   },
   "outputs": [],
   "source": [
    "x₁ = linspace(-2,2,400) # 400 equally spaced points from -2 to 2\n",
    "x₂ = linspace(-2,2,400) # 400 equally spaced points from -2 to 2\n",
    "\n",
    "# perform Newton iterations and plot the results for all (x₁,x₂)\n",
    "results = [newton([x₁,x₂]) for x₂ in x₂, x₁ in x₁]\n",
    "pcolor(x₁', x₂, map(r -> atan2(r[1][2], r[1][1]), results), cmap=\"Blues\")\n",
    "\n",
    "# plot stars for the locations of the exact solutions:\n",
    "sols = [0.6823278038280195  0.0\n",
    "       -0.3411639019140098  1.1615413999972526\n",
    "       -0.3411639019140098 -1.1615413999972526]\n",
    "plot(sols[:,1], sols[:,2], \"r*\")\n",
    "\n",
    "axis(\"square\")\n",
    "xlabel(L\"x_1\")\n",
    "ylabel(L\"x_2\")\n",
    "title(\"color = Newton solution; stars = solutions\")"
   ]
  },
  {
   "cell_type": "markdown",
   "metadata": {},
   "source": [
    "It is also interesting to plot the number of iterations that were required to converge as a function of $(x_1,x_2)$:"
   ]
  },
  {
   "cell_type": "code",
   "execution_count": null,
   "metadata": {
    "collapsed": false
   },
   "outputs": [],
   "source": [
    "pcolor(x₁', x₂, map(r -> r[2], results))\n",
    "plot(sols[:,1], sols[:,2], \"r*\")\n",
    "axis(\"square\")\n",
    "xlabel(L\"x_1\")\n",
    "ylabel(L\"x_2\")\n",
    "colorbar()\n",
    "title(\"number of Newton iterations to converge\")"
   ]
  }
 ],
 "metadata": {
  "kernelspec": {
   "display_name": "Julia 0.5.0",
   "language": "julia",
   "name": "julia-0.5"
  },
  "language_info": {
   "file_extension": ".jl",
   "mimetype": "application/julia",
   "name": "julia",
   "version": "0.5.0"
  }
 },
 "nbformat": 4,
 "nbformat_minor": 2
}
