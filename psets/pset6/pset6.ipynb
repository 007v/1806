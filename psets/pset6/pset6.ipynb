{
 "cells": [
  {
   "cell_type": "markdown",
   "metadata": {},
   "source": [
    "# 18.06 pset 6\n",
    "\n",
    "Due Wednesday, March 22."
   ]
  },
  {
   "cell_type": "markdown",
   "metadata": {},
   "source": [
    "## Problem 1\n",
    "\n",
    "(Strang, chapter 4.2, problem 13.)  Suppose $A$ is the 4 by 4 identity matrix with the last column removed, so that $A$ is 4 by 3.  Project $b = (1,2,3,4)$ onto $C(A)$.  What shape is the projection matrix $P$?  What is $P$?"
   ]
  },
  {
   "cell_type": "markdown",
   "metadata": {},
   "source": [
    "## Problem 2\n",
    "\n",
    "(Based on Strang, chapter 4.2, questions 21–23.) If $A$ is full column rank, the projection matrix onto $C(A)$ is $P = A(A^T A)^{-1} A^T$.   Show:\n",
    "\n",
    "* $P^2 = PP = I$.  ($Pb$ is in $C(A)$, so projecting again does not change it.)\n",
    "* $P^T = P$.  That is, show that $P$ is symmetric.  (Remember that $(B^{-1})^T = (B^T)^{-1}$ for any invertible $B$.)\n",
    "* If $A$ is invertible, then show that $P = I$."
   ]
  },
  {
   "cell_type": "markdown",
   "metadata": {},
   "source": [
    "## Problem 3\n",
    "\n",
    "(Strang, chapter 4.4, problem 4.)  Give an example of:\n",
    "\n",
    "* A matrix $Q$ with orthonormal columns but $QQ^T \\ne I$\n",
    "* Two orthogonal vectors that are not linearly independent.  (Not orthonormal!)\n",
    "* An orthonormal basis for $\\mathbb{R}^3$, including the vector $q_1 = (1,1,1)/\\sqrt{3}$."
   ]
  },
  {
   "cell_type": "markdown",
   "metadata": {},
   "source": [
    "## Problem 4\n",
    "\n",
    "If $Q$ is an $m \\times n$ matrix with orthonormal columns then $(Qx)^T (Qy) = $ ???? for any $x$ and $y$ in $\\mathbb{R}^n$, and hence $\\Vert Qx \\Vert$ = ???? for any $x$."
   ]
  },
  {
   "cell_type": "markdown",
   "metadata": {},
   "source": [
    "## Problem 5\n",
    "\n",
    "The standard (\"classical\") Gram–Schmidt algorithm is notoriously susceptible to roundoff errors when vectors are nearly parallel.  (There are much better algorithms that are not covered in 18.06.)  In this problem, you will explore that susceptibility.\n",
    "\n",
    "Apply the Gram–Schmidt algorithm to find an orthonormal basis for the column space of\n",
    "$$\n",
    "A = \\begin{pmatrix} 1 & 1 & 1 \\\\\n",
    "                    \\epsilon & 0 & 0 \\\\\n",
    "                    0 & \\epsilon & 0 \\\\\n",
    "                    0 & 0 & \\epsilon\n",
    "    \\end{pmatrix}\n",
    "$$\n",
    "where $\\epsilon = 10^{-10}$.\n",
    "\n",
    "However, *round* your calculations (as you do each operation!) to about 15 significant digits.  For example, approximate $1 + \\epsilon^2 \\approx 1$.   Are your resulting basis vectors close to orthogonal?\n",
    "\n",
    "In comparison, Julia's `qr` function uses a much more accurate method (\"Householder reflectors\").  Try it and see how close its vectors are to the ones you came up with:"
   ]
  },
  {
   "cell_type": "code",
   "execution_count": null,
   "metadata": {
    "collapsed": false
   },
   "outputs": [],
   "source": [
    "ϵ = 1e-10\n",
    "A = [1 1 1\n",
    "     ϵ 0 0\n",
    "     0 ϵ 0\n",
    "     0 0 ϵ]\n",
    "Q = qr(A)[1]"
   ]
  },
  {
   "cell_type": "markdown",
   "metadata": {},
   "source": [
    "We can check how close Julia's $Q$ is to orthonormal columns by computing $Q^T Q$:"
   ]
  },
  {
   "cell_type": "code",
   "execution_count": null,
   "metadata": {
    "collapsed": false
   },
   "outputs": [],
   "source": [
    "Q'*Q"
   ]
  },
  {
   "cell_type": "markdown",
   "metadata": {},
   "source": [
    "The moral of this story is that you should be very cautious about using Gram–Schmidt in practical calculations (where there are small errors in the arithmetic and/or inputs).  Normally, use a mature library implementation like `qr(A)`."
   ]
  },
  {
   "cell_type": "markdown",
   "metadata": {},
   "source": [
    "## Problem 6\n",
    "\n",
    "In class, we showed that applying Gram–Schmidt to the columns of $A$, **from left to right**, corresponds to a factorization $A=QR$ where $R$ is upper-triangular and the columns of $Q$ are our orthonormal basis ($Q^T Q = I$).\n",
    "\n",
    "If you do Gram–Schmidt from **right to left** on the columns of $A$, what would the corresponding factorization of the matrix $A$ look like?"
   ]
  }
 ],
 "metadata": {
  "kernelspec": {
   "display_name": "Julia 0.5.0",
   "language": "julia",
   "name": "julia-0.5"
  },
  "language_info": {
   "file_extension": ".jl",
   "mimetype": "application/julia",
   "name": "julia",
   "version": "0.5.0"
  }
 },
 "nbformat": 4,
 "nbformat_minor": 2
}
