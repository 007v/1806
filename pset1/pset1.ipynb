{
 "cells": [
  {
   "cell_type": "markdown",
   "metadata": {},
   "source": [
    "# 18.06 pset 1\n",
    "## (due Wednesday 2/15 at 11am)\n",
    "\n",
    "This problem set is in the form of a [Julia](http://julialang.org/) *notebook* (using the [Jupyter](http://jupyter.org/)/[IJulia](https://github.com/JuliaLang/IJulia.jl) browser-based interface to interactive programming).  We will be using the Julia language throughout the term for simple computational explorations — practical linear algebra is not about hand computations!\n",
    "\n",
    "You can run this without installing anything by logging in at [JuliaBox](https://juliabox.com/).  Just download the notebook file (a `.ipynb` file) by clicking the download icon at the upper right, then drag it onto the JuliaBox dashboard to upload it there.\n",
    "\n",
    "Some of the problems are pencil-and-paper (we just happen to use the notebook to describe them), and some of them require you to run the code in the notebook to see what happens and then explain it.  To **run the code** in an input cell, **just click on the cell and then type shift-return**; see also the \"Help\" menu in the notebook.  When you submit your pset, just turn in a description and explanation of your results (no need to turn in a printout of the notebook)."
   ]
  },
  {
   "cell_type": "markdown",
   "metadata": {},
   "source": [
    "## Problem 1\n",
    "\n",
    "The following code multiplies two random *lower-triangular matrices* (matrices whose entries are *zero above the diagonal*).\n",
    "\n",
    "* What do you observe about the result?\n",
    "* Explain why this always happens when one multiplies lower-triangular matrices (of any size)."
   ]
  },
  {
   "cell_type": "code",
   "execution_count": null,
   "metadata": {
    "collapsed": false
   },
   "outputs": [],
   "source": [
    "L₁ = Matrix(LowerTriangular(rand(-9:9, 5,5)))"
   ]
  },
  {
   "cell_type": "code",
   "execution_count": null,
   "metadata": {
    "collapsed": false
   },
   "outputs": [],
   "source": [
    "L₂ = Matrix(LowerTriangular(rand(-9:9, 5,5)))"
   ]
  },
  {
   "cell_type": "code",
   "execution_count": null,
   "metadata": {
    "collapsed": false
   },
   "outputs": [],
   "source": [
    "L₁ * L₂"
   ]
  },
  {
   "cell_type": "markdown",
   "metadata": {},
   "source": [
    "## Problem 2\n",
    "\n",
    "In this problem, we will see what happens when we think of a matrix as consisting of \"blocks\" that themselves are matrices (\"submatrices\").  In particular, we will compute the product:\n",
    "$$\n",
    "M = XY\n",
    "  = \\underbrace{\\begin{pmatrix} A & B \\\\ C & D \\end{pmatrix}}_X\n",
    "    \\underbrace{\\begin{pmatrix} E & F \\\\ G & H \\end{pmatrix}}_Y\n",
    "  = \\begin{pmatrix} M_1 & M_2 \\\\ M_3 & M_4 \\end{pmatrix}\n",
    "$$\n",
    "where $A$, $B$, and so on are $2\\times2$ submatrices of $X$ and $Y$.  \n",
    "\n",
    "* The goal is to figure out how to write the entries of $M$ in terms of matrix operations on the submatrices.  In particular, if $M_1$ is the upper-left $2\\times2$ submatrix of $M$, can we write a formula for this in terms of matrix operations on $A$, $B$ and so on?\n",
    "\n",
    "You should figure out a formula and then **try it out on** a randomly generated matrix below to see whether your formula works:"
   ]
  },
  {
   "cell_type": "code",
   "execution_count": null,
   "metadata": {
    "collapsed": false
   },
   "outputs": [],
   "source": [
    "# make random 2x2 submatrices of X\n",
    "A = rand(-9:9,2,2)\n",
    "B = rand(-9:9,2,2)\n",
    "C = rand(-9:9,2,2)\n",
    "D = rand(-9:9,2,2)\n",
    "X = [ A B\n",
    "      C D ]"
   ]
  },
  {
   "cell_type": "code",
   "execution_count": null,
   "metadata": {
    "collapsed": false
   },
   "outputs": [],
   "source": [
    "# make random 2x2 submatrices of Y\n",
    "E = rand(-9:9,2,2)\n",
    "F = rand(-9:9,2,2)\n",
    "G = rand(-9:9,2,2)\n",
    "H = rand(-9:9,2,2)\n",
    "Y = [ E F\n",
    "      G H ]"
   ]
  },
  {
   "cell_type": "code",
   "execution_count": null,
   "metadata": {
    "collapsed": false
   },
   "outputs": [],
   "source": [
    "# compute the matrix M from the product XY:\n",
    "M = X * Y"
   ]
  },
  {
   "cell_type": "code",
   "execution_count": null,
   "metadata": {
    "collapsed": false
   },
   "outputs": [],
   "source": [
    "M₁ = M[1:2, 1:2] # this is the upper-left 2x2 submatrix of M"
   ]
  },
  {
   "cell_type": "markdown",
   "metadata": {
    "collapsed": false
   },
   "source": [
    "Now, can you figure out a formula for $M_1$ in terms of matrix operations on the submatrices of $M$?  For example, is it $A + CF - H$?"
   ]
  },
  {
   "cell_type": "code",
   "execution_count": null,
   "metadata": {
    "collapsed": false
   },
   "outputs": [],
   "source": [
    "A + C*F - H # wrong formula -- fix this!"
   ]
  },
  {
   "cell_type": "markdown",
   "metadata": {
    "collapsed": false
   },
   "source": [
    "Nope, that doesn't match $M_1$.   Figure out the correct formula (don't just try things at random...it might help to make a diagram of a row × column operation in computing $M$ and see what submatrices that involves).  Try out your formula in Julia and verify that it works."
   ]
  },
  {
   "cell_type": "markdown",
   "metadata": {},
   "source": [
    "## Problem 3\n",
    "\n",
    "In this problem, you will do something *like* standard Gaussian elimination, but not in quite the usual way.\n",
    "\n",
    "Suppose we want to solve $Ax = b$ where\n",
    "$$\n",
    "A = \\begin{pmatrix} 1 & 6 & -3 \\\\ -2 & 3 & 4 \\\\ 1 & 0 & -2 \\end{pmatrix} , \\\\\n",
    "b = \\begin{pmatrix} 7 \\\\ 3 \\\\ 0 \\end{pmatrix} .\n",
    "$$\n",
    "\n",
    "Normally, with Gaussian elimination, you would convert $A$ to upper-triangular form $U$, performing the same row operations on $b$ to get $c$, and then finally solve $Ux=c$ for $x$ by backsubstitution (starting from the last equation and working upwards).\n",
    "\n",
    "* **Instead, for this problem,** you should convert the $Ax=b$ to the form $Lx = d$ where $L$ is **lower triangular** (zero *above* the diagonal).  Find $L$, find $d$, and then use this $Lx = d$ equation to solve for $x$.\n",
    "\n",
    "For comparison, we can solve the same equation in Julia by `x = A \\ b`.  This is useful as a check to make sure that you got the correct answer for $x$ in the end:"
   ]
  },
  {
   "cell_type": "code",
   "execution_count": null,
   "metadata": {
    "collapsed": false
   },
   "outputs": [],
   "source": [
    "A = [ 1  6 -3\n",
    "     -2  3  4\n",
    "      1  0 -2 ]"
   ]
  },
  {
   "cell_type": "code",
   "execution_count": null,
   "metadata": {
    "collapsed": false
   },
   "outputs": [],
   "source": [
    "b = [7, 3, 0]"
   ]
  },
  {
   "cell_type": "code",
   "execution_count": null,
   "metadata": {
    "collapsed": false
   },
   "outputs": [],
   "source": [
    "x = A \\ b"
   ]
  },
  {
   "cell_type": "markdown",
   "metadata": {},
   "source": [
    "## Problem 4\n",
    "\n",
    "In class, we went over standard Gaussian elimination: you subtract rows of a matrix $A$, one by one, to bring it into upper-triangular form.  Sometimes, if we encounter a zero pivot, we can swap rows in order to get a nonzero pivot.   (If we can't do this, then the equations are *singular* and may have no solution.)\n",
    "\n",
    "In principle, as long as we never encounter a zero pivot, this procedure will always work.  In practice, however, if we apply the procedure blindly, we may get disastrous results due to **rounding errors**: a computer, a calculator, or (in olden days) a human doing hand calculation will usually only keep **a fixed number of significant digits** and will discard additional digits (*round*) during calculations.\n",
    "\n",
    "Apply Gaussian elimination to solve the following $Ax = b$ system of equations:\n",
    "$$\n",
    "A = \\begin{pmatrix} 10^{-20} & 1 \\\\ 1 & 1 \\end{pmatrix}, \\\\\n",
    "b = \\begin{pmatrix} 1 \\\\ 0 \\end{pmatrix}\n",
    "$$\n",
    "That is, convert $A$ to upper-triangular form as usual, do the same row operations on $b$, and solve the resulting triangular system for $x$.\n",
    "\n",
    "* What is the *exact* solution $x$?  \n",
    "* Re-do the Gaussian elimination, but *round* the result of **every** operation to *16 significant digits*.  What *approximate solution* $\\tilde{x}$ will you get?  (For example, $2 + 10^{-20} \\approx 2$ if you round to 16 significant digits.) How close is it to the exact solution $x$?\n",
    "* Do the same thing (round each operation to 16 digits), but first *swap the first and second rows of the equation* to **maximize the magnitude of the pivot**.  (This is called [partial pivoting](https://en.wikipedia.org/wiki/Pivot_element#Partial_and_complete_pivoting).)  What is the new approximate solution, and how close is it to the exact $x$?\n",
    "\n",
    "(It turns out that *computer arithmetic* ordinarily rounds to about 15–16 digits, so this kind of concern is *very* important when people write computer programs to do linear algebra.)\n",
    "\n",
    "For comparison, the Julia code below implements naive Gaussian elimination (no row re-ordering) and backsubstitution.   Because this is using standard [double precision](https://en.wikipedia.org/wiki/Double-precision_floating-point_format) computer arithmetic, it rounds to about 15–16 decimal digits (technically, 53 binary digits), so its results should be very similar to your results above.  (The following code is **only for informational purposes**; you don't need it to answer the questions above.)"
   ]
  },
  {
   "cell_type": "code",
   "execution_count": null,
   "metadata": {
    "collapsed": false
   },
   "outputs": [],
   "source": [
    "\"\"\"\n",
    "    naive_gauss(A)\n",
    "\n",
    "Given a matrix `A`, performs Gaussian elimination to convert\n",
    "`A` into an upper-triangular matrix `U`, and returns the matrix `U`.\n",
    "\n",
    "This implementation is \"naive\" because it *never re-orders the rows*.\n",
    "(It will obviously fail if a zero pivit is encountered.)\n",
    "\"\"\"\n",
    "function naive_gauss(A)\n",
    "    m = size(A,1) # number of rows\n",
    "    U = copy(A)\n",
    "    for j = 1:m   # loop over m columns\n",
    "        for i = j+1:m   # loop over rows below the pivot row j\n",
    "            # subtract a multiple of the pivot row (j)\n",
    "            # from the current row (i) to cancel U[i,j] = Uᵢⱼ:\n",
    "            U[i,:] = U[i,:] - U[j,:] * U[i,j]/U[j,j]\n",
    "        end\n",
    "    end\n",
    "    return U\n",
    "end\n",
    "\n",
    "\"\"\"\n",
    "    backsubstitution(U, c)\n",
    "\n",
    "Given an upper-triangular matrix `U`, return the solution `x` to `U*x=c` by\n",
    "the backsubstitution algorithm.\n",
    "\"\"\"\n",
    "function backsubstitution(U, c)\n",
    "    m = size(U,1)  # number of rows\n",
    "    x = similar(c, typeof(c[1]/U[1,1])) # allocate the solution vector\n",
    "    for i = m:-1:1 # loop over the rows from bottom to top\n",
    "        r = c[i]\n",
    "        for k = i+1:m\n",
    "            r = r - U[i,k]*x[k]\n",
    "        end\n",
    "        x[i] = r / U[i,i]\n",
    "    end\n",
    "    return x\n",
    "end"
   ]
  },
  {
   "cell_type": "markdown",
   "metadata": {},
   "source": [
    "Let's perform naive Gaussian elimination (no row re-ordering) on the matrix $A$ from above.  We'll augment it with an extra column containing the vector $b$, so that the same row operations are performed on $b$:"
   ]
  },
  {
   "cell_type": "code",
   "execution_count": null,
   "metadata": {
    "collapsed": false
   },
   "outputs": [],
   "source": [
    "A = [1e-20 1\n",
    "     1     1]\n",
    "b = [1,0]\n",
    "U = naive_gauss([A b])"
   ]
  },
  {
   "cell_type": "markdown",
   "metadata": {},
   "source": [
    "Now, let's perform backsubstitution to solve $Ux=c$ (where $U$ is the first two columns of the augmented `U` matrix returned by `naive_gauss`, and `c` is the last column):"
   ]
  },
  {
   "cell_type": "code",
   "execution_count": null,
   "metadata": {
    "collapsed": false
   },
   "outputs": [],
   "source": [
    "backsubstitution(U[:,1:2], U[:,3])"
   ]
  },
  {
   "cell_type": "markdown",
   "metadata": {},
   "source": [
    "In comparison, the built-in `\\` solver is a little more clever, and may come up with a different answer:"
   ]
  },
  {
   "cell_type": "code",
   "execution_count": null,
   "metadata": {
    "collapsed": false
   },
   "outputs": [],
   "source": [
    "A \\ b"
   ]
  }
 ],
 "metadata": {
  "anaconda-cloud": {},
  "kernelspec": {
   "display_name": "Julia 0.5.0",
   "language": "julia",
   "name": "julia-0.5"
  },
  "language_info": {
   "file_extension": ".jl",
   "mimetype": "application/julia",
   "name": "julia",
   "version": "0.5.0"
  }
 },
 "nbformat": 4,
 "nbformat_minor": 1
}
