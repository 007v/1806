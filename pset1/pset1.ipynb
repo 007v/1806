{
 "cells": [
  {
   "cell_type": "markdown",
   "metadata": {},
   "source": [
    "# 18.06 pset 1\n",
    "\n",
    "This problem set is in the form of a [Julia](http://julialang.org/) *notebook* (using the [Jupyter](http://jupyter.org/)/[IJulia](https://github.com/JuliaLang/IJulia.jl) browser-based interface to interactive programming).  We will be using the Julia language throughout the term for simple computational explorations — practical linear algebra is not about hand computations!\n",
    "\n",
    "You can run this without installing anything by logging in at [JuliaBox](https://juliabox.com/).  Just download the notebook file (a `.ipynb` file) by clicking the download icon at the upper right, then drag it onto the JuliaBox dashboard to upload it there.\n",
    "\n",
    "Some of the problems are pencil-and-paper (we just happen to use the notebook to describe them), and some of them require you to run the code in the notebook to see what happens and then explain it.  To **run the code** in an input cell, **just click on the cell and then type shift-return**; see also the \"Help\" menu in the notebook.  When you submit your pset, just turn in a description and explanation of your results (no need to turn in a printout of the notebook)."
   ]
  },
  {
   "cell_type": "markdown",
   "metadata": {},
   "source": [
    "## Problem 1\n",
    "\n",
    "The following code multiplies two random lower-triangular matrices.  What do you observe about the result?  Why does this always happen?"
   ]
  },
  {
   "cell_type": "code",
   "execution_count": null,
   "metadata": {
    "collapsed": false
   },
   "outputs": [],
   "source": [
    "L₁ = Matrix(LowerTriangular(rand(-9:9, 5,5)))"
   ]
  },
  {
   "cell_type": "code",
   "execution_count": null,
   "metadata": {
    "collapsed": false
   },
   "outputs": [],
   "source": [
    "L₂ = Matrix(LowerTriangular(rand(-9:9, 5,5)))"
   ]
  },
  {
   "cell_type": "code",
   "execution_count": null,
   "metadata": {
    "collapsed": false
   },
   "outputs": [],
   "source": [
    "L₁ * L₂"
   ]
  },
  {
   "cell_type": "markdown",
   "metadata": {},
   "source": [
    "## Problem 2\n",
    "\n",
    "In this problem, we will see what happens when we think of a matrix as consisting of \"blocks\" that themselves are matrices (\"submatrices\").  In particular, we will compute the product:\n",
    "$$\n",
    "M = \\begin{pmatrix} A & B \\\\ C & D \\end{pmatrix}\n",
    "    \\begin{pmatrix} E & F \\\\ G & H \\end{pmatrix}\n",
    "  = \\begin{pmatrix} M_1 & M_2 \\\\ M_3 & M_4 \\end{pmatrix}\n",
    "$$\n",
    "where $A$, $B$, and so on are $2\\times2$ submatrices.  \n",
    "\n",
    "The goal is to figure out how to write the entries of $M$ in terms of matrix operations on the submatrices.  In particular, if $M_1$ is the upper-left $2\\times2$ submatrix of $M$, can we write a formula for this in terms of matrix operations on $A$, $B$ and so on?\n",
    "\n",
    "You will figure out a formula and then try it out on a randomly generated matrix below to see whether your formula works:"
   ]
  },
  {
   "cell_type": "code",
   "execution_count": 2,
   "metadata": {
    "collapsed": false
   },
   "outputs": [
    {
     "data": {
      "text/plain": [
       "4×4 Array{Int64,2}:\n",
       "   3    6   49   58\n",
       " -63  -74  -44   46\n",
       "  39   34   90   83\n",
       "  35  -58   23  -38"
      ]
     },
     "execution_count": 2,
     "metadata": {},
     "output_type": "execute_result"
    }
   ],
   "source": [
    "# make random 2x2 submatrices\n",
    "A = rand(-9:9,2,2)\n",
    "B = rand(-9:9,2,2)\n",
    "C = rand(-9:9,2,2)\n",
    "D = rand(-9:9,2,2)\n",
    "E = rand(-9:9,2,2)\n",
    "F = rand(-9:9,2,2)\n",
    "G = rand(-9:9,2,2)\n",
    "H = rand(-9:9,2,2)\n",
    "\n",
    "# compute the matrix M from the product:\n",
    "M = [ A B\n",
    "      C D ] * [ E F\n",
    "                G H ]"
   ]
  },
  {
   "cell_type": "code",
   "execution_count": 3,
   "metadata": {
    "collapsed": false
   },
   "outputs": [
    {
     "data": {
      "text/plain": [
       "2×2 Array{Int64,2}:\n",
       "   3    6\n",
       " -63  -74"
      ]
     },
     "execution_count": 3,
     "metadata": {},
     "output_type": "execute_result"
    }
   ],
   "source": [
    "M₁ = M[1:2, 1:2] # this is the upper-left 2x2 submatrix of M"
   ]
  },
  {
   "cell_type": "markdown",
   "metadata": {
    "collapsed": false
   },
   "source": [
    "Now, can you figure out a formula for $M_1$ in terms of matrix operations on the submatrices of $M$?  For example, is it $A + CF - H$?"
   ]
  },
  {
   "cell_type": "code",
   "execution_count": 4,
   "metadata": {
    "collapsed": false
   },
   "outputs": [
    {
     "data": {
      "text/plain": [
       "2×2 Array{Int64,2}:\n",
       " 73  80\n",
       " 13  11"
      ]
     },
     "execution_count": 4,
     "metadata": {},
     "output_type": "execute_result"
    }
   ],
   "source": [
    "A + C*F - H # wrong formula -- fix this!"
   ]
  },
  {
   "cell_type": "markdown",
   "metadata": {
    "collapsed": false
   },
   "source": [
    "Nope, that doesn't work.   Figure out the correct formula (don't just try things at random...it might help to make a diagram of a row × column operation in computing $M$ and see what submatrices that involves).  Try out your formula in Julia and verify that it works."
   ]
  }
 ],
 "metadata": {
  "anaconda-cloud": {},
  "kernelspec": {
   "display_name": "Julia 0.5.0",
   "language": "julia",
   "name": "julia-0.5"
  },
  "language_info": {
   "file_extension": ".jl",
   "mimetype": "application/julia",
   "name": "julia",
   "version": "0.5.0"
  }
 },
 "nbformat": 4,
 "nbformat_minor": 1
}
